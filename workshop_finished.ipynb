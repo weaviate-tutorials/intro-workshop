{
 "cells": [
  {
   "cell_type": "markdown",
   "id": "c641751f-f3d4-47b6-806a-0e55c0b73405",
   "metadata": {},
   "source": [
    "## Weaviate workshop\n",
    "\n",
    "<a target=\"_blank\" href=\"https://colab.research.google.com/github/weaviate-tutorials/intro-workshop/blob/main/workshop.ipynb\">\n",
    "  <img src=\"https://colab.research.google.com/assets/colab-badge.svg\" alt=\"Open In Colab\"/>\n",
    "</a>\n",
    "\n",
    "### Goals:\n",
    "\n",
    "#### What you will see:\n",
    "\n",
    "\n",
    "- Create a vector database with Weaviate,\n",
    "- Add data to the database, and\n",
    "- Interact with the data, including searching, and using LLMs with your data in Weaviate\n",
    "\n",
    "### You will learn today:\n",
    "\n",
    "- What Weaviate is,\n",
    "- How it stores the data (based on its \"meaning\"), and\n",
    "- What you can do with Weaviate, like semantic searches, and using LLMs to transform data."
   ]
  },
  {
   "cell_type": "markdown",
   "id": "4e83bf03-743a-4960-8915-fc2b3341a37f",
   "metadata": {},
   "source": [
    "Install the Weaviate python client, for environments that don't yet have it."
   ]
  },
  {
   "cell_type": "code",
   "execution_count": 1,
   "id": "4706372e-b04b-4971-a4ae-cd2e8ac4cec5",
   "metadata": {
    "executionCancelledAt": null,
    "executionTime": 4696,
    "lastExecutedAt": 1692032183239,
    "lastScheduledRunId": null,
    "lastSuccessfullyExecutedCode": "!pip install -U weaviate-client",
    "outputsMetadata": {
     "0": {
      "height": 616,
      "type": "stream"
     }
    }
   },
   "outputs": [],
   "source": [
    "# !pip install -U --pre weaviate-client"
   ]
  },
  {
   "cell_type": "markdown",
   "id": "5ba26bc3-0958-4051-b31e-9ce27555a8b7",
   "metadata": {},
   "source": [
    "## Preparation: Get the data\n",
    "\n",
    "We'll use a dataset of movies from TMDB. \n",
    "\n",
    "Pre-processed version: \"./data/movies.csv\"\n"
   ]
  },
  {
   "cell_type": "markdown",
   "id": "1633e880-94bb-4942-9fe1-70ffd2a7afd3",
   "metadata": {},
   "source": [
    "Load (or download) the data, and preview it"
   ]
  },
  {
   "cell_type": "code",
   "execution_count": 2,
   "id": "4680be3b-e00f-4c3c-9d42-d9bd8ef1e5a9",
   "metadata": {
    "ExecuteTime": {
     "end_time": "2023-08-12T20:50:09.186617Z",
     "start_time": "2023-08-12T20:50:09.042514Z"
    },
    "executionCancelledAt": null,
    "executionTime": 1192,
    "lastExecutedAt": 1692032184432,
    "lastScheduledRunId": null,
    "lastSuccessfullyExecutedCode": "import requests\nimport json\n\n# Load the data locally\nwith open(\"jeopardy_1k.json\", \"r\") as f:\n    raw_data = f.read()\n\n# Or download it from GitHub\nresponse = requests.get('https://raw.githubusercontent.com/databyjp/wv_demo_uploader/main/weaviate_datasets/data/jeopardy_1k.json')\nraw_data = response.text\n\n# Parse the JSON and preview it\ndata = json.loads(raw_data)\nprint(type(data), len(data))\nprint(json.dumps(data[0], indent=2))",
    "outputsMetadata": {
     "0": {
      "height": 217,
      "type": "stream"
     }
    }
   },
   "outputs": [
    {
     "data": {
      "text/html": [
       "<div>\n",
       "<style scoped>\n",
       "    .dataframe tbody tr th:only-of-type {\n",
       "        vertical-align: middle;\n",
       "    }\n",
       "\n",
       "    .dataframe tbody tr th {\n",
       "        vertical-align: top;\n",
       "    }\n",
       "\n",
       "    .dataframe thead th {\n",
       "        text-align: right;\n",
       "    }\n",
       "</style>\n",
       "<table border=\"1\" class=\"dataframe\">\n",
       "  <thead>\n",
       "    <tr style=\"text-align: right;\">\n",
       "      <th></th>\n",
       "      <th>backdrop_path</th>\n",
       "      <th>genre_ids</th>\n",
       "      <th>id</th>\n",
       "      <th>original_language</th>\n",
       "      <th>original_title</th>\n",
       "      <th>overview</th>\n",
       "      <th>popularity</th>\n",
       "      <th>poster_path</th>\n",
       "      <th>release_date</th>\n",
       "      <th>title</th>\n",
       "      <th>video</th>\n",
       "      <th>vote_average</th>\n",
       "      <th>vote_count</th>\n",
       "      <th>year</th>\n",
       "    </tr>\n",
       "  </thead>\n",
       "  <tbody>\n",
       "    <tr>\n",
       "      <th>0</th>\n",
       "      <td>/rH0DPF7pB35jxLxKb3JRUgCrrnp.jpg</td>\n",
       "      <td>[10751, 14, 16, 10749]</td>\n",
       "      <td>11224</td>\n",
       "      <td>en</td>\n",
       "      <td>Cinderella</td>\n",
       "      <td>Cinderella has faith her dreams of a better li...</td>\n",
       "      <td>100.819</td>\n",
       "      <td>/avz6S9HYWs4O8Oe4PenBFNX4uDi.jpg</td>\n",
       "      <td>1950-02-22</td>\n",
       "      <td>Cinderella</td>\n",
       "      <td>False</td>\n",
       "      <td>7.044</td>\n",
       "      <td>6523</td>\n",
       "      <td>1950</td>\n",
       "    </tr>\n",
       "    <tr>\n",
       "      <th>1</th>\n",
       "      <td>/p47ihFj4A7EpBjmPHdTj4ipyq1S.jpg</td>\n",
       "      <td>[18]</td>\n",
       "      <td>599</td>\n",
       "      <td>en</td>\n",
       "      <td>Sunset Boulevard</td>\n",
       "      <td>A hack screenwriter writes a screenplay for a ...</td>\n",
       "      <td>57.740</td>\n",
       "      <td>/sC4Dpmn87oz9AuxZ15Lmip0Ftgr.jpg</td>\n",
       "      <td>1950-08-10</td>\n",
       "      <td>Sunset Boulevard</td>\n",
       "      <td>False</td>\n",
       "      <td>8.312</td>\n",
       "      <td>2485</td>\n",
       "      <td>1950</td>\n",
       "    </tr>\n",
       "    <tr>\n",
       "      <th>2</th>\n",
       "      <td>/zyO6j74DKMWfp5snWg6Hwo0T3Mz.jpg</td>\n",
       "      <td>[80, 18, 9648]</td>\n",
       "      <td>548</td>\n",
       "      <td>ja</td>\n",
       "      <td>羅生門</td>\n",
       "      <td>Brimming with action while incisively examinin...</td>\n",
       "      <td>21.011</td>\n",
       "      <td>/vL7Xw04nFMHwnvXRFCmYYAzMUvY.jpg</td>\n",
       "      <td>1950-08-26</td>\n",
       "      <td>Rashomon</td>\n",
       "      <td>False</td>\n",
       "      <td>8.091</td>\n",
       "      <td>2121</td>\n",
       "      <td>1950</td>\n",
       "    </tr>\n",
       "    <tr>\n",
       "      <th>3</th>\n",
       "      <td>/b4yiLlIFuiULuuLTxT0Pt1QyT6J.jpg</td>\n",
       "      <td>[16, 10751, 14, 12]</td>\n",
       "      <td>12092</td>\n",
       "      <td>en</td>\n",
       "      <td>Alice in Wonderland</td>\n",
       "      <td>On a golden afternoon, young Alice follows a W...</td>\n",
       "      <td>75.465</td>\n",
       "      <td>/20cvfwfaFqNbe9Fc3VEHJuPRxmn.jpg</td>\n",
       "      <td>1951-07-28</td>\n",
       "      <td>Alice in Wonderland</td>\n",
       "      <td>False</td>\n",
       "      <td>7.200</td>\n",
       "      <td>5697</td>\n",
       "      <td>1951</td>\n",
       "    </tr>\n",
       "    <tr>\n",
       "      <th>4</th>\n",
       "      <td>/mxf8hJJkHTCqZP3m4o8E1TtwHHs.jpg</td>\n",
       "      <td>[35, 10749]</td>\n",
       "      <td>872</td>\n",
       "      <td>en</td>\n",
       "      <td>Singin' in the Rain</td>\n",
       "      <td>In 1927 Hollywood, a silent film production co...</td>\n",
       "      <td>31.407</td>\n",
       "      <td>/w03EiJVHP8Un77boQeE7hg9DVdU.jpg</td>\n",
       "      <td>1952-04-09</td>\n",
       "      <td>Singin' in the Rain</td>\n",
       "      <td>False</td>\n",
       "      <td>8.200</td>\n",
       "      <td>3036</td>\n",
       "      <td>1952</td>\n",
       "    </tr>\n",
       "  </tbody>\n",
       "</table>\n",
       "</div>"
      ],
      "text/plain": [
       "                      backdrop_path               genre_ids     id  \\\n",
       "0  /rH0DPF7pB35jxLxKb3JRUgCrrnp.jpg  [10751, 14, 16, 10749]  11224   \n",
       "1  /p47ihFj4A7EpBjmPHdTj4ipyq1S.jpg                    [18]    599   \n",
       "2  /zyO6j74DKMWfp5snWg6Hwo0T3Mz.jpg          [80, 18, 9648]    548   \n",
       "3  /b4yiLlIFuiULuuLTxT0Pt1QyT6J.jpg     [16, 10751, 14, 12]  12092   \n",
       "4  /mxf8hJJkHTCqZP3m4o8E1TtwHHs.jpg             [35, 10749]    872   \n",
       "\n",
       "  original_language       original_title  \\\n",
       "0                en           Cinderella   \n",
       "1                en     Sunset Boulevard   \n",
       "2                ja                  羅生門   \n",
       "3                en  Alice in Wonderland   \n",
       "4                en  Singin' in the Rain   \n",
       "\n",
       "                                            overview  popularity  \\\n",
       "0  Cinderella has faith her dreams of a better li...     100.819   \n",
       "1  A hack screenwriter writes a screenplay for a ...      57.740   \n",
       "2  Brimming with action while incisively examinin...      21.011   \n",
       "3  On a golden afternoon, young Alice follows a W...      75.465   \n",
       "4  In 1927 Hollywood, a silent film production co...      31.407   \n",
       "\n",
       "                        poster_path release_date                title  video  \\\n",
       "0  /avz6S9HYWs4O8Oe4PenBFNX4uDi.jpg   1950-02-22           Cinderella  False   \n",
       "1  /sC4Dpmn87oz9AuxZ15Lmip0Ftgr.jpg   1950-08-10     Sunset Boulevard  False   \n",
       "2  /vL7Xw04nFMHwnvXRFCmYYAzMUvY.jpg   1950-08-26             Rashomon  False   \n",
       "3  /20cvfwfaFqNbe9Fc3VEHJuPRxmn.jpg   1951-07-28  Alice in Wonderland  False   \n",
       "4  /w03EiJVHP8Un77boQeE7hg9DVdU.jpg   1952-04-09  Singin' in the Rain  False   \n",
       "\n",
       "   vote_average  vote_count  year  \n",
       "0         7.044        6523  1950  \n",
       "1         8.312        2485  1950  \n",
       "2         8.091        2121  1950  \n",
       "3         7.200        5697  1951  \n",
       "4         8.200        3036  1952  "
      ]
     },
     "execution_count": 2,
     "metadata": {},
     "output_type": "execute_result"
    }
   ],
   "source": [
    "import pandas as pd\n",
    "\n",
    "movie_df = pd.read_csv(\"./data/movies.csv\")\n",
    "movie_df.head()"
   ]
  },
  {
   "cell_type": "markdown",
   "id": "d27642a1-e738-441c-9008-ce8cb267f28b",
   "metadata": {},
   "source": [
    "## Step 1: Create a Weaviate instance (database)"
   ]
  },
  {
   "cell_type": "markdown",
   "id": "97a88ba7-6e35-4378-ad30-869537966f01",
   "metadata": {},
   "source": [
    "This (Embedded Weaviate) is a quick way to create a Weaviate database. Note that this is suitable for evaluation use only, and currently not compatible with Windows (we are working on it 😉).\n",
    "\n",
    "You can also use:\n",
    "- A free sandbox with Weaviate Cloud Services\n",
    "- Open-source Weaviate directly, available cross-platform with Docker"
   ]
  },
  {
   "cell_type": "code",
   "execution_count": 3,
   "id": "ba40b5a3-d645-493b-9c93-e652c1057870",
   "metadata": {
    "ExecuteTime": {
     "end_time": "2023-08-12T20:50:10.463278Z",
     "start_time": "2023-08-12T20:50:10.020181Z"
    },
    "executionCancelledAt": null,
    "executionTime": null,
    "lastExecutedAt": null,
    "lastScheduledRunId": null,
    "lastSuccessfullyExecutedCode": null,
    "outputsMetadata": {
     "0": {
      "height": 97,
      "type": "stream"
     },
     "1": {
      "height": 257,
      "type": "stream"
     }
    }
   },
   "outputs": [
    {
     "name": "stdout",
     "output_type": "stream",
     "text": [
      "Started /Users/jphwang/.cache/weaviate-embedded: process ID 14361\n",
      "listen tcp :6060: bind: address already in use\n"
     ]
    },
    {
     "name": "stderr",
     "output_type": "stream",
     "text": [
      "{\"action\":\"startup\",\"default_vectorizer_module\":\"none\",\"level\":\"info\",\"msg\":\"the default vectorizer modules is set to \\\"none\\\", as a result all new schema classes without an explicit vectorizer setting, will use this vectorizer\",\"time\":\"2024-06-25T20:08:07+01:00\"}\n",
      "{\"action\":\"startup\",\"auto_schema_enabled\":true,\"level\":\"info\",\"msg\":\"auto schema enabled setting is set to \\\"true\\\"\",\"time\":\"2024-06-25T20:08:07+01:00\"}\n",
      "{\"level\":\"info\",\"msg\":\"No resource limits set, weaviate will use all available memory and CPU. To limit resources, set LIMIT_RESOURCES=true\",\"time\":\"2024-06-25T20:08:07+01:00\"}\n",
      "{\"level\":\"info\",\"msg\":\"open cluster service\",\"servers\":{\"Embedded_at_8079\":8300},\"time\":\"2024-06-25T20:08:07+01:00\"}\n",
      "{\"address\":\"192.168.1.140:8301\",\"level\":\"info\",\"msg\":\"starting cloud rpc server ...\",\"time\":\"2024-06-25T20:08:07+01:00\"}\n",
      "{\"level\":\"info\",\"msg\":\"starting raft sub-system ...\",\"time\":\"2024-06-25T20:08:07+01:00\"}\n",
      "{\"address\":\"192.168.1.140:8300\",\"level\":\"info\",\"msg\":\"tcp transport\",\"tcpMaxPool\":3,\"tcpTimeout\":10000000000,\"time\":\"2024-06-25T20:08:07+01:00\"}\n",
      "{\"level\":\"info\",\"msg\":\"loading local db\",\"time\":\"2024-06-25T20:08:07+01:00\"}\n",
      "{\"level\":\"info\",\"msg\":\"database has been successfully loaded\",\"n\":0,\"time\":\"2024-06-25T20:08:07+01:00\"}\n",
      "{\"level\":\"info\",\"metadata_only_voters\":false,\"msg\":\"construct a new raft node\",\"name\":\"Embedded_at_8079\",\"time\":\"2024-06-25T20:08:07+01:00\"}\n",
      "{\"id\":\"2-3-1719321951817\",\"last-index\":3,\"last-term\":2,\"level\":\"info\",\"msg\":\"starting restore from snapshot\",\"size-in-bytes\":81963,\"time\":\"2024-06-25T20:08:07+01:00\"}\n",
      "{\"level\":\"info\",\"msg\":\"restoring schema from snapshot\",\"time\":\"2024-06-25T20:08:07+01:00\"}\n",
      "{\"level\":\"info\",\"msg\":\"successfully restored schema from snapshot\",\"time\":\"2024-06-25T20:08:07+01:00\"}\n",
      "{\"last_applied_index\":0,\"last_snapshot_index\":3,\"last_store_log_applied_index\":33,\"level\":\"info\",\"msg\":\"load local db from snapshot\",\"time\":\"2024-06-25T20:08:07+01:00\"}\n",
      "{\"action\":\"\",\"id\":\"2-3-1719321951817\",\"last-index\":3,\"last-term\":2,\"level\":\"info\",\"msg\":\"snapshot restore progress\",\"percent-complete\":\"[100.00]%\",\"read-bytes\":81963,\"size-in-bytes\":81963,\"time\":\"2024-06-25T20:08:07+01:00\"}\n",
      "{\"id\":\"2-3-1719321951817\",\"last-index\":3,\"last-term\":2,\"level\":\"info\",\"msg\":\"restored from snapshot\",\"size-in-bytes\":81963,\"time\":\"2024-06-25T20:08:07+01:00\"}\n",
      "{\"action\":\"raft\",\"index\":31,\"level\":\"info\",\"msg\":\"raft initial configuration\",\"servers\":\"[[{Suffrage:Voter ID:Embedded_at_8079 Address:192.168.1.140:8300}]]\",\"time\":\"2024-06-25T20:08:07+01:00\"}\n",
      "{\"action\":\"raft\",\"follower\":{},\"leader-address\":\"\",\"leader-id\":\"\",\"level\":\"info\",\"msg\":\"raft entering follower state\",\"time\":\"2024-06-25T20:08:07+01:00\"}\n",
      "{\"last_snapshot_index\":3,\"last_store_applied_index\":3,\"last_store_log_applied_index\":33,\"level\":\"info\",\"msg\":\"raft node constructed\",\"raft_applied_index\":3,\"raft_last_index\":33,\"time\":\"2024-06-25T20:08:07+01:00\"}\n",
      "{\"action\":\"bootstrap\",\"error\":\"could not join a cluster from [192.168.1.140:8300]\",\"level\":\"warning\",\"msg\":\"failed to join cluster, will notify next if voter\",\"servers\":[\"192.168.1.140:8300\"],\"time\":\"2024-06-25T20:08:08+01:00\",\"voter\":true}\n",
      "{\"action\":\"bootstrap\",\"candidates\":[{\"Suffrage\":0,\"ID\":\"Embedded_at_8079\",\"Address\":\"192.168.1.140:8300\"}],\"level\":\"info\",\"msg\":\"starting cluster bootstrapping\",\"time\":\"2024-06-25T20:08:08+01:00\"}\n",
      "{\"action\":\"bootstrap\",\"error\":\"bootstrap only works on new clusters\",\"level\":\"error\",\"msg\":\"could not bootstrapping cluster\",\"time\":\"2024-06-25T20:08:08+01:00\"}\n",
      "{\"action\":\"bootstrap\",\"level\":\"info\",\"msg\":\"notified peers this node is ready to join as voter\",\"servers\":[\"192.168.1.140:8300\"],\"time\":\"2024-06-25T20:08:08+01:00\"}\n",
      "{\"action\":\"raft\",\"last-leader-addr\":\"\",\"last-leader-id\":\"\",\"level\":\"warning\",\"msg\":\"raft heartbeat timeout reached, starting election\",\"time\":\"2024-06-25T20:08:09+01:00\"}\n",
      "{\"action\":\"raft\",\"level\":\"info\",\"msg\":\"raft entering candidate state\",\"node\":{},\"term\":13,\"time\":\"2024-06-25T20:08:09+01:00\"}\n",
      "{\"action\":\"raft\",\"level\":\"info\",\"msg\":\"raft election won\",\"tally\":1,\"term\":13,\"time\":\"2024-06-25T20:08:09+01:00\"}\n",
      "{\"action\":\"raft\",\"leader\":{},\"level\":\"info\",\"msg\":\"raft entering leader state\",\"time\":\"2024-06-25T20:08:09+01:00\"}\n",
      "{\"level\":\"info\",\"msg\":\"reload local db: update schema ...\",\"time\":\"2024-06-25T20:08:09+01:00\"}\n",
      "{\"index\":\"Review\",\"level\":\"info\",\"msg\":\"restore local index\",\"time\":\"2024-06-25T20:08:09+01:00\"}\n",
      "{\"action\":\"hnsw_prefill_cache_async\",\"level\":\"info\",\"msg\":\"not waiting for vector cache prefill, running in background\",\"time\":\"2024-06-25T20:08:09+01:00\",\"wait_for_cache_prefill\":false}\n",
      "{\"level\":\"info\",\"msg\":\"Completed loading shard review_w0zHx7QBU6hy in 29.26075ms\",\"time\":\"2024-06-25T20:08:09+01:00\"}\n",
      "{\"index\":\"EmbeddedBackupTest\",\"level\":\"info\",\"msg\":\"restore local index\",\"time\":\"2024-06-25T20:08:09+01:00\"}\n",
      "{\"action\":\"hnsw_vector_cache_prefill\",\"count\":5000,\"index_id\":\"main\",\"level\":\"info\",\"limit\":1000000000000,\"msg\":\"prefilled vector cache\",\"time\":\"2024-06-25T20:08:09+01:00\",\"took\":13900250}\n",
      "{\"action\":\"hnsw_prefill_cache_async\",\"level\":\"info\",\"msg\":\"not waiting for vector cache prefill, running in background\",\"time\":\"2024-06-25T20:08:09+01:00\",\"wait_for_cache_prefill\":false}\n",
      "{\"level\":\"info\",\"msg\":\"Completed loading shard embeddedbackuptest_zNbzMxQgICMT in 12.390375ms\",\"time\":\"2024-06-25T20:08:09+01:00\"}\n",
      "{\"index\":\"Movie\",\"level\":\"info\",\"msg\":\"restore local index\",\"time\":\"2024-06-25T20:08:09+01:00\"}\n",
      "{\"action\":\"hnsw_vector_cache_prefill\",\"count\":3000,\"index_id\":\"main\",\"level\":\"info\",\"limit\":1000000000000,\"msg\":\"prefilled vector cache\",\"time\":\"2024-06-25T20:08:09+01:00\",\"took\":41708}\n",
      "{\"action\":\"hnsw_prefill_cache_async\",\"level\":\"info\",\"msg\":\"not waiting for vector cache prefill, running in background\",\"time\":\"2024-06-25T20:08:09+01:00\",\"wait_for_cache_prefill\":false}\n",
      "{\"action\":\"hnsw_prefill_cache_async\",\"level\":\"info\",\"msg\":\"not waiting for vector cache prefill, running in background\",\"time\":\"2024-06-25T20:08:09+01:00\",\"wait_for_cache_prefill\":false}\n",
      "{\"level\":\"info\",\"msg\":\"Completed loading shard movie_2uoLNC9ZIq3X in 20.679625ms\",\"time\":\"2024-06-25T20:08:09+01:00\"}\n",
      "{\"index\":\"Question\",\"level\":\"info\",\"msg\":\"restore local index\",\"time\":\"2024-06-25T20:08:09+01:00\"}\n",
      "{\"action\":\"hnsw_vector_cache_prefill\",\"count\":5000,\"index_id\":\"vectors_overview\",\"level\":\"info\",\"limit\":1000000000000,\"msg\":\"prefilled vector cache\",\"time\":\"2024-06-25T20:08:09+01:00\",\"took\":50497042}\n",
      "{\"action\":\"hnsw_vector_cache_prefill\",\"count\":5000,\"index_id\":\"vectors_title\",\"level\":\"info\",\"limit\":1000000000000,\"msg\":\"prefilled vector cache\",\"time\":\"2024-06-25T20:08:09+01:00\",\"took\":48602083}\n",
      "{\"level\":\"warning\",\"msg\":\"Multiple vector spaces are present, GraphQL Explore and REST API list objects endpoint module include params has been disabled as a result.\",\"time\":\"2024-06-25T20:08:09+01:00\"}\n",
      "{\"action\":\"grpc_startup\",\"level\":\"info\",\"msg\":\"grpc server listening at [::]:50050\",\"time\":\"2024-06-25T20:08:09+01:00\"}\n",
      "{\"action\":\"restapi_management\",\"level\":\"info\",\"msg\":\"Serving weaviate at http://127.0.0.1:8079\",\"time\":\"2024-06-25T20:08:09+01:00\"}\n",
      "{\"address\":\"192.168.1.140:8300\",\"level\":\"info\",\"msg\":\"current Leader\",\"time\":\"2024-06-25T20:08:09+01:00\"}\n",
      "{\"action\":\"hnsw_prefill_cache_async\",\"level\":\"info\",\"msg\":\"not waiting for vector cache prefill, running in background\",\"time\":\"2024-06-25T20:08:09+01:00\",\"wait_for_cache_prefill\":false}\n",
      "{\"level\":\"info\",\"msg\":\"Completed loading shard question_gcEsSMGtXbUc in 6.8155ms\",\"time\":\"2024-06-25T20:08:09+01:00\"}\n",
      "{\"action\":\"hnsw_vector_cache_prefill\",\"count\":3000,\"index_id\":\"main\",\"level\":\"info\",\"limit\":1000000000000,\"msg\":\"prefilled vector cache\",\"time\":\"2024-06-25T20:08:09+01:00\",\"took\":32208625}\n"
     ]
    }
   ],
   "source": [
    "import weaviate\n",
    "import os\n",
    "import json\n",
    "\n",
    "your_cohere_apikey = os.environ[\"COHERE_APIKEY\"]\n",
    "your_openai_apikey = os.environ[\"OPENAI_APIKEY\"]\n",
    "\n",
    "client = weaviate.connect_to_embedded(\n",
    "    version=\"1.25.5\",\n",
    "    headers={\n",
    "        \"X-Cohere-Api-Key\": your_cohere_apikey,  # Replace this with your actual key\n",
    "        \"X-OpenAI-Api-Key\": your_openai_apikey,  # Replace this with your actual key\n",
    "    },\n",
    "    environment_variables={\n",
    "        \"ENABLE_MODULES\": \"text2vec-cohere, generative-cohere, text2vec-openai, generative-openai, text2vec-ollama, generative-ollama\"\n",
    "    }\n",
    ")"
   ]
  },
  {
   "cell_type": "markdown",
   "id": "388d970d-79a2-4591-a5f3-c6c17406df2a",
   "metadata": {},
   "source": [
    "Retrieve Weaviate instance information to check our configuration."
   ]
  },
  {
   "cell_type": "code",
   "execution_count": 4,
   "id": "b8a4226e-41fd-4ad7-9416-dcda4a443d58",
   "metadata": {
    "ExecuteTime": {
     "end_time": "2023-08-12T20:50:11.726853Z",
     "start_time": "2023-08-12T20:50:11.722015Z"
    },
    "executionCancelledAt": null,
    "executionTime": 48,
    "lastExecutedAt": 1692032185634,
    "lastScheduledRunId": null,
    "lastSuccessfullyExecutedCode": "jprint(client.get_meta())",
    "outputsMetadata": {
     "0": {
      "height": 597,
      "type": "stream"
     }
    }
   },
   "outputs": [
    {
     "data": {
      "text/plain": [
       "{'hostname': 'http://127.0.0.1:8079',\n",
       " 'modules': {'generative-cohere': {'documentationHref': 'https://docs.cohere.com/reference/chat',\n",
       "   'name': 'Generative Search - Cohere'},\n",
       "  'generative-ollama': {'documentationHref': 'https://github.com/ollama/ollama/blob/main/docs/api.md#generate-a-completion',\n",
       "   'name': 'Generative Search - Ollama'},\n",
       "  'generative-openai': {'documentationHref': 'https://platform.openai.com/docs/api-reference/completions',\n",
       "   'name': 'Generative Search - OpenAI'},\n",
       "  'text2vec-cohere': {'documentationHref': 'https://docs.cohere.ai/embedding-wiki/',\n",
       "   'name': 'Cohere Module'},\n",
       "  'text2vec-ollama': {'documentationHref': 'https://github.com/ollama/ollama/blob/main/docs/api.md#generate-embeddings',\n",
       "   'name': 'Ollama Module'},\n",
       "  'text2vec-openai': {'documentationHref': 'https://platform.openai.com/docs/guides/embeddings/what-are-embeddings',\n",
       "   'name': 'OpenAI Module'}},\n",
       " 'version': '1.25.5'}"
      ]
     },
     "execution_count": 4,
     "metadata": {},
     "output_type": "execute_result"
    }
   ],
   "source": [
    "client.get_meta()"
   ]
  },
  {
   "cell_type": "markdown",
   "id": "68b9706e-e11e-43f8-ae13-3741c5376b25",
   "metadata": {},
   "source": [
    "## Step 2: Add data to Weaviate"
   ]
  },
  {
   "cell_type": "markdown",
   "id": "5f01b498-455f-4e82-bdb3-df7b95363ca4",
   "metadata": {},
   "source": [
    "### Add collection definition"
   ]
  },
  {
   "cell_type": "markdown",
   "id": "310a7ecf-0f04-48a3-b622-dd3673e8302f",
   "metadata": {},
   "source": [
    "The equivalent of a SQL \"table\", is called a \"collection\" in Weaviate, like they are in NoSQL databases."
   ]
  },
  {
   "cell_type": "markdown",
   "id": "ba03c144-e2a3-48cc-97db-590fbac55ec0",
   "metadata": {},
   "source": [
    "In case I created a demo collection - let's delete it."
   ]
  },
  {
   "cell_type": "code",
   "execution_count": 5,
   "id": "976fdc87-ee1f-43cd-8db7-57b1fda5d697",
   "metadata": {
    "ExecuteTime": {
     "end_time": "2023-08-12T20:50:23.339817Z",
     "start_time": "2023-08-12T20:50:23.303039Z"
    },
    "executionCancelledAt": null,
    "executionTime": 47,
    "lastExecutedAt": 1692032185681,
    "lastScheduledRunId": null,
    "lastSuccessfullyExecutedCode": "if client.schema.exists(\"Question\"):\n    client.schema.delete_class(\"Question\")"
   },
   "outputs": [
    {
     "name": "stderr",
     "output_type": "stream",
     "text": [
      "{\"action\":\"load_all_shards\",\"level\":\"error\",\"msg\":\"failed to load all shards: context canceled\",\"time\":\"2024-06-25T20:08:09+01:00\"}\n"
     ]
    }
   ],
   "source": [
    "client.collections.delete(\"Movie\")"
   ]
  },
  {
   "cell_type": "markdown",
   "id": "9279cefa-ecaf-487c-a090-43a14383e9a1",
   "metadata": {},
   "source": [
    "And create a new collection definition here.\n",
    "We'll set up a collection called \"Movie\" with:\n",
    "- Two \"named vectors\" -> which will save different \"meanings\" of the data,\n",
    "- A \"generative\" module -> which will allow us to use LLMs with our data, and\n",
    "- Properties to save our movie data (which are like SQL columns).\n",
    "    - Just the title, overview, year and popularity for now."
   ]
  },
  {
   "cell_type": "code",
   "execution_count": 6,
   "id": "5da0db4a-9f72-402c-9c23-49f1500ea995",
   "metadata": {
    "ExecuteTime": {
     "end_time": "2023-08-12T20:50:24.018171Z",
     "start_time": "2023-08-12T20:50:23.993529Z"
    },
    "executionCancelledAt": null,
    "executionTime": null,
    "lastExecutedAt": null,
    "lastScheduledRunId": null,
    "lastSuccessfullyExecutedCode": null,
    "outputsMetadata": {
     "0": {
      "height": 77,
      "type": "stream"
     }
    }
   },
   "outputs": [
    {
     "name": "stderr",
     "output_type": "stream",
     "text": [
      "{\"level\":\"warning\",\"msg\":\"prop len tracker file /Users/jphwang/.local/share/weaviate/movie/264zw3nbR7uB/proplengths does not exist, creating new tracker\",\"time\":\"2024-06-25T20:08:10+01:00\"}\n",
      "{\"action\":\"hnsw_prefill_cache_async\",\"level\":\"info\",\"msg\":\"not waiting for vector cache prefill, running in background\",\"time\":\"2024-06-25T20:08:10+01:00\",\"wait_for_cache_prefill\":false}\n",
      "{\"action\":\"hnsw_vector_cache_prefill\",\"count\":1000,\"index_id\":\"vectors_overview\",\"level\":\"info\",\"limit\":1000000000000,\"msg\":\"prefilled vector cache\",\"time\":\"2024-06-25T20:08:10+01:00\",\"took\":38333}\n",
      "{\"action\":\"hnsw_prefill_cache_async\",\"level\":\"info\",\"msg\":\"not waiting for vector cache prefill, running in background\",\"time\":\"2024-06-25T20:08:10+01:00\",\"wait_for_cache_prefill\":false}\n",
      "{\"level\":\"info\",\"msg\":\"Created shard movie_264zw3nbR7uB in 1.911333ms\",\"time\":\"2024-06-25T20:08:10+01:00\"}\n",
      "{\"action\":\"hnsw_vector_cache_prefill\",\"count\":1000,\"index_id\":\"vectors_title\",\"level\":\"info\",\"limit\":1000000000000,\"msg\":\"prefilled vector cache\",\"time\":\"2024-06-25T20:08:10+01:00\",\"took\":36625}\n"
     ]
    },
    {
     "data": {
      "text/plain": [
       "<weaviate.collections.collection.Collection at 0x104f15270>"
      ]
     },
     "execution_count": 6,
     "metadata": {},
     "output_type": "execute_result"
    },
    {
     "name": "stderr",
     "output_type": "stream",
     "text": [
      "{\"action\":\"bootstrap\",\"level\":\"info\",\"msg\":\"node reporting ready, node has probably recovered cluster from raft config. Exiting bootstrap process\",\"time\":\"2024-06-25T20:08:10+01:00\"}\n"
     ]
    }
   ],
   "source": [
    "from weaviate.classes.config import Configure, DataType, Property\n",
    "\n",
    "client.collections.create(\n",
    "    name=\"Movie\",\n",
    "    vectorizer_config=[\n",
    "        Configure.NamedVectors.text2vec_openai(\n",
    "            name=\"title\",\n",
    "            source_properties=[\"title\"]\n",
    "        ),\n",
    "        Configure.NamedVectors.text2vec_cohere(\n",
    "            name=\"overview\",\n",
    "            source_properties=[\"title\", \"overview\"]\n",
    "        ),\n",
    "    ],\n",
    "    generative_config=Configure.Generative.cohere(model=\"command-r\"),\n",
    "    properties=[\n",
    "        Property(\n",
    "            name=\"title\",\n",
    "            data_type=DataType.TEXT,\n",
    "        ),\n",
    "        Property(\n",
    "            name=\"overview\",\n",
    "            data_type=DataType.TEXT,\n",
    "        ),\n",
    "        Property(\n",
    "            name=\"year\",\n",
    "            data_type=DataType.INT,\n",
    "        ),\n",
    "        Property(\n",
    "            name=\"popularity\",\n",
    "            data_type=DataType.NUMBER,\n",
    "        ),\n",
    "    ]\n",
    ")"
   ]
  },
  {
   "cell_type": "markdown",
   "id": "c3fdad45-8916-4c4a-8405-6f28f3eaee40",
   "metadata": {},
   "source": [
    "> Tip: You can get example collection definitions in our documentation:\n",
    "> - https://weaviate.io/developers/weaviate/manage-data/collections"
   ]
  },
  {
   "cell_type": "markdown",
   "id": "bd17a8e9-da25-4619-9e37-0787383dafe1",
   "metadata": {},
   "source": [
    "Was our collection created successfully? Let's take a look"
   ]
  },
  {
   "cell_type": "code",
   "execution_count": 7,
   "id": "cfed74df-84a7-43a6-bd79-960b0681be7e",
   "metadata": {
    "executionCancelledAt": null,
    "executionTime": 48,
    "lastExecutedAt": 1692032185778,
    "lastScheduledRunId": null,
    "lastSuccessfullyExecutedCode": "jprint(client.schema.get(\"Question\"))",
    "outputsMetadata": {
     "0": {
      "height": 616,
      "type": "stream"
     }
    },
    "scrolled": true
   },
   "outputs": [
    {
     "data": {
      "text/plain": [
       "True"
      ]
     },
     "execution_count": 7,
     "metadata": {},
     "output_type": "execute_result"
    }
   ],
   "source": [
    "client.collections.exists(\"Movie\")"
   ]
  },
  {
   "cell_type": "markdown",
   "id": "d1ec4752-6428-4db0-b5b3-c36db1b6caaf",
   "metadata": {},
   "source": [
    "### Add data"
   ]
  },
  {
   "cell_type": "markdown",
   "id": "d809f0b6-d816-448a-9619-b8f660b0eef7",
   "metadata": {},
   "source": [
    "We'll add actual objects (SQL rows) to our data. \n",
    "\n",
    "First, let's build objects to add - and take a look at a couple."
   ]
  },
  {
   "cell_type": "code",
   "execution_count": 8,
   "id": "a4453f38-67ac-4de6-9f3d-decc3527149a",
   "metadata": {
    "executionCancelledAt": null,
    "executionTime": 47,
    "lastExecutedAt": 1692032185826,
    "lastScheduledRunId": null,
    "lastSuccessfullyExecutedCode": "for o in data[:2]:\n    obj_body = {\n        \"question\": o[\"Question\"],\n        \"answer\": o[\"Answer\"],\n    }\n    print(obj_body)",
    "outputsMetadata": {
     "0": {
      "height": 97,
      "type": "stream"
     }
    }
   },
   "outputs": [
    {
     "data": {
      "text/html": [
       "<div>\n",
       "<style scoped>\n",
       "    .dataframe tbody tr th:only-of-type {\n",
       "        vertical-align: middle;\n",
       "    }\n",
       "\n",
       "    .dataframe tbody tr th {\n",
       "        vertical-align: top;\n",
       "    }\n",
       "\n",
       "    .dataframe thead th {\n",
       "        text-align: right;\n",
       "    }\n",
       "</style>\n",
       "<table border=\"1\" class=\"dataframe\">\n",
       "  <thead>\n",
       "    <tr style=\"text-align: right;\">\n",
       "      <th></th>\n",
       "      <th>title</th>\n",
       "      <th>overview</th>\n",
       "      <th>year</th>\n",
       "      <th>popularity</th>\n",
       "    </tr>\n",
       "  </thead>\n",
       "  <tbody>\n",
       "    <tr>\n",
       "      <th>0</th>\n",
       "      <td>Cinderella</td>\n",
       "      <td>Cinderella has faith her dreams of a better li...</td>\n",
       "      <td>1950</td>\n",
       "      <td>100.819</td>\n",
       "    </tr>\n",
       "    <tr>\n",
       "      <th>1</th>\n",
       "      <td>Sunset Boulevard</td>\n",
       "      <td>A hack screenwriter writes a screenplay for a ...</td>\n",
       "      <td>1950</td>\n",
       "      <td>57.740</td>\n",
       "    </tr>\n",
       "    <tr>\n",
       "      <th>2</th>\n",
       "      <td>Rashomon</td>\n",
       "      <td>Brimming with action while incisively examinin...</td>\n",
       "      <td>1950</td>\n",
       "      <td>21.011</td>\n",
       "    </tr>\n",
       "    <tr>\n",
       "      <th>3</th>\n",
       "      <td>Alice in Wonderland</td>\n",
       "      <td>On a golden afternoon, young Alice follows a W...</td>\n",
       "      <td>1951</td>\n",
       "      <td>75.465</td>\n",
       "    </tr>\n",
       "    <tr>\n",
       "      <th>4</th>\n",
       "      <td>Singin' in the Rain</td>\n",
       "      <td>In 1927 Hollywood, a silent film production co...</td>\n",
       "      <td>1952</td>\n",
       "      <td>31.407</td>\n",
       "    </tr>\n",
       "  </tbody>\n",
       "</table>\n",
       "</div>"
      ],
      "text/plain": [
       "                 title                                           overview  \\\n",
       "0           Cinderella  Cinderella has faith her dreams of a better li...   \n",
       "1     Sunset Boulevard  A hack screenwriter writes a screenplay for a ...   \n",
       "2             Rashomon  Brimming with action while incisively examinin...   \n",
       "3  Alice in Wonderland  On a golden afternoon, young Alice follows a W...   \n",
       "4  Singin' in the Rain  In 1927 Hollywood, a silent film production co...   \n",
       "\n",
       "   year  popularity  \n",
       "0  1950     100.819  \n",
       "1  1950      57.740  \n",
       "2  1950      21.011  \n",
       "3  1951      75.465  \n",
       "4  1952      31.407  "
      ]
     },
     "execution_count": 8,
     "metadata": {},
     "output_type": "execute_result"
    }
   ],
   "source": [
    "data_columns = ['title', 'overview', 'year', 'popularity']\n",
    "\n",
    "df = movie_df[data_columns]\n",
    "\n",
    "df.head()"
   ]
  },
  {
   "cell_type": "markdown",
   "id": "d0d65333-ce25-4833-92b7-57ca8113bdb2",
   "metadata": {},
   "source": [
    "> If it all looks fine - let's add objects:\n",
    "> - https://weaviate.io/developers/weaviate/manage-data/import"
   ]
  },
  {
   "cell_type": "code",
   "execution_count": 9,
   "id": "1b445597-3655-4606-99e8-8398c50b632d",
   "metadata": {
    "executionCancelledAt": null,
    "executionTime": 6734,
    "lastExecutedAt": 1692032192560,
    "lastScheduledRunId": null,
    "lastSuccessfullyExecutedCode": "with client.batch() as batch:\n    for o in data:\n        obj_body = {\n            \"question\": o[\"Question\"],\n            \"answer\": o[\"Answer\"],\n        }\n        batch.add_data_object(\n            data_object=obj_body,\n            class_name=\"Question\"\n        )",
    "outputsMetadata": {
     "0": {
      "height": 97,
      "type": "stream"
     }
    }
   },
   "outputs": [
    {
     "name": "stderr",
     "output_type": "stream",
     "text": [
      "{\"action\":\"telemetry_push\",\"level\":\"info\",\"msg\":\"telemetry started\",\"payload\":\"\\u0026{MachineID:d41e48d3-1900-486d-998f-ec8c49cdc67d Type:INIT Version:1.25.5 NumObjects:0 OS:darwin Arch:arm64 UsedModules:[generative-cohere text2vec-cohere text2vec-openai]}\",\"time\":\"2024-06-25T20:08:10+01:00\"}\n"
     ]
    }
   ],
   "source": [
    "movies = client.collections.get(\"Movie\")\n",
    "\n",
    "with movies.batch.dynamic() as batch:\n",
    "    for i, row in df.iterrows():\n",
    "        obj_body = {\n",
    "            c: row[c] for c in data_columns\n",
    "        }\n",
    "        batch.add_object(\n",
    "            properties=obj_body\n",
    "        )"
   ]
  },
  {
   "cell_type": "code",
   "execution_count": 10,
   "id": "0d819661",
   "metadata": {},
   "outputs": [
    {
     "name": "stdout",
     "output_type": "stream",
     "text": [
      "0\n"
     ]
    }
   ],
   "source": [
    "print(len(movies.batch.failed_objects))"
   ]
  },
  {
   "cell_type": "markdown",
   "id": "216d67ac-f92d-4239-b1cb-8c76ea2cf6ca",
   "metadata": {},
   "source": [
    "#### Confirm data load"
   ]
  },
  {
   "cell_type": "markdown",
   "id": "9003b6a9-1d0c-4f31-a3a2-945a7a17dfd8",
   "metadata": {},
   "source": [
    "Do we have data? \n",
    "\n",
    "Let's get an object count"
   ]
  },
  {
   "cell_type": "code",
   "execution_count": 11,
   "id": "748cf869-67cd-4b39-b230-23b043217aa3",
   "metadata": {
    "executionCancelledAt": null,
    "executionTime": 48,
    "lastExecutedAt": 1692032192610,
    "lastScheduledRunId": null,
    "lastSuccessfullyExecutedCode": "jprint(client.query.aggregate(\"Question\").with_meta_count().do())",
    "outputsMetadata": {
     "0": {
      "height": 277,
      "type": "stream"
     }
    }
   },
   "outputs": [
    {
     "data": {
      "text/plain": [
       "AggregateReturn(properties={}, total_count=1322)"
      ]
     },
     "execution_count": 11,
     "metadata": {},
     "output_type": "execute_result"
    }
   ],
   "source": [
    "movies = client.collections.get(\"Movie\")\n",
    "\n",
    "movies.aggregate.over_all(total_count=True)"
   ]
  },
  {
   "cell_type": "markdown",
   "id": "1233f9b5-5676-4dc3-bcc8-86df0f86553f",
   "metadata": {},
   "source": [
    "Does the data look right?\n",
    "\n",
    "Let's grab a few objects from Weaviate!"
   ]
  },
  {
   "cell_type": "code",
   "execution_count": 12,
   "id": "345479f8-b31f-4ba4-8777-bc13cd6d91cf",
   "metadata": {
    "executionCancelledAt": null,
    "executionTime": null,
    "lastExecutedAt": null,
    "lastScheduledRunId": null,
    "lastSuccessfullyExecutedCode": null,
    "outputsMetadata": {
     "0": {
      "height": 377,
      "type": "stream"
     }
    }
   },
   "outputs": [
    {
     "name": "stdout",
     "output_type": "stream",
     "text": [
      "{'year': 2009, 'title': 'Coraline', 'overview': 'A young girl discovers an idealized parallel universe behind a secret door in her new home, unaware that it contains a sinister secret.', 'popularity': 215.445}\n",
      "{'title': 'Shark Tale', 'overview': \"Oscar is a small fish whose big aspirations often get him into trouble. Meanwhile, Lenny is a great white shark with a surprising secret that no sea creature would guess: He's a vegetarian. When a lie turns Oscar into an improbable hero and Lenny becomes an outcast, the two form an unlikely friendship.\", 'year': 2004, 'popularity': 55.359}\n",
      "{'title': 'True Romance', 'overview': 'Clarence marries hooker Alabama, steals cocaine from her pimp, and tries to sell it in Hollywood, while the owners of the coke try to reclaim it.', 'year': 1993, 'popularity': 102.252}\n"
     ]
    }
   ],
   "source": [
    "response = movies.query.fetch_objects(limit=3)\n",
    "for o in response.objects:\n",
    "    print(o.properties)"
   ]
  },
  {
   "cell_type": "markdown",
   "id": "663c77a3-b0f2-429b-b2fe-78cef9d6ac40",
   "metadata": {},
   "source": [
    "Let's pause for a second - because we've done a lot!"
   ]
  },
  {
   "cell_type": "markdown",
   "id": "c4b1dbad-dfa7-4f88-a5f5-ea6a0f39e413",
   "metadata": {},
   "source": [
    "#### What did we just do?\n",
    "\n",
    "Here is a conceptual diagram"
   ]
  },
  {
   "cell_type": "markdown",
   "id": "436522dc-8cd0-47c4-8286-f839e5a785d4",
   "metadata": {},
   "source": [
    "![img](https://github.com/weaviate-tutorials/intro-workshop/blob/main/images/object_import_process_full.png?raw=1)"
   ]
  },
  {
   "cell_type": "markdown",
   "id": "2ac15074-c5f6-48e9-9950-35ee265e14d0",
   "metadata": {},
   "source": [
    "## Step 3: Work with the data"
   ]
  },
  {
   "cell_type": "markdown",
   "id": "38c5e47f-c408-4fc4-83f8-4e133d040b3b",
   "metadata": {},
   "source": [
    "Let's try a few more involved queries"
   ]
  },
  {
   "cell_type": "markdown",
   "id": "dd5740b2-2846-4462-b140-1b1b9c4544ec",
   "metadata": {},
   "source": [
    "### Filtering (similar to WHERE filter in SQL)"
   ]
  },
  {
   "cell_type": "markdown",
   "id": "b0c640bf-9f35-4d1e-96e5-455b2fb69fde",
   "metadata": {},
   "source": [
    "Let's find objects that meet a particular condition."
   ]
  },
  {
   "cell_type": "code",
   "execution_count": 13,
   "id": "db451d4b-fcdf-440f-8502-854d970c98d6",
   "metadata": {
    "executionCancelledAt": null,
    "executionTime": 48,
    "lastExecutedAt": 1692032192706,
    "lastScheduledRunId": null,
    "lastSuccessfullyExecutedCode": "where_filter = {\n    \"path\": [\"question\"],\n    \"operator\": \"Like\",\n    \"valueText\": \"*history*\"\n}\n\nresponse = (\n    client.query\n    .get(\"Question\", [\"question\", \"answer\"])\n    .with_where(where_filter)\n    .with_limit(3)\n    .do()\n)\n\njprint(response)",
    "outputsMetadata": {
     "0": {
      "height": 477,
      "type": "stream"
     }
    }
   },
   "outputs": [
    {
     "name": "stdout",
     "output_type": "stream",
     "text": [
      "Zootopia\n",
      "The Jungle Book\n",
      "Miss Peregrine's Home for Peculiar Children\n"
     ]
    }
   ],
   "source": [
    "import weaviate.classes.query as wq\n",
    "\n",
    "response = movies.query.fetch_objects(\n",
    "    filters=wq.Filter.by_property(\"year\").greater_than(2015),\n",
    "    limit=3\n",
    ")\n",
    "\n",
    "for o in response.objects:\n",
    "    print(o.properties[\"title\"])"
   ]
  },
  {
   "cell_type": "markdown",
   "id": "d4bd3737-068a-4a88-8386-0148999947ed",
   "metadata": {},
   "source": [
    "But this does not rank the result in any meaningful way. \n",
    "\n",
    "For that, we need a keyword search (as opposed to a keyword *filter*)."
   ]
  },
  {
   "cell_type": "markdown",
   "id": "6553f176-47b5-4c2b-88e2-5c8fea71fe7e",
   "metadata": {},
   "source": [
    "### Keyword search"
   ]
  },
  {
   "cell_type": "markdown",
   "id": "d7a3d7c7-d376-465e-8a23-841203d54055",
   "metadata": {},
   "source": [
    "Unlike a keyword filter, a keyword search will search for, and rank results based on the frequency of the keyword."
   ]
  },
  {
   "cell_type": "code",
   "execution_count": 14,
   "id": "62d78900-199a-4b8d-8da1-3223c3ada047",
   "metadata": {
    "executionCancelledAt": null,
    "executionTime": 52,
    "lastExecutedAt": 1692032192810,
    "lastScheduledRunId": null,
    "lastSuccessfullyExecutedCode": "response = (\n    client.query\n    .get(\"Question\", [\"question\", \"answer\"])\n    .with_bm25(\"history\")\n    .with_limit(3)\n    .do()\n)\n\njprint(response)",
    "outputsMetadata": {
     "0": {
      "height": 477,
      "type": "stream"
     }
    }
   },
   "outputs": [
    {
     "name": "stdout",
     "output_type": "stream",
     "text": [
      "3.2621753215789795\n",
      "2024-06-25 19:08:24.432000+00:00\n",
      "{'title': 'Guardians of the Galaxy Vol. 3', 'overview': 'Peter Quill, still reeling from the loss of Gamora, must rally his team around him to defend the universe along with protecting one of their own. A mission that, if not completed successfully, could quite possibly lead to the end of the Guardians as we know them.', 'year': 2023, 'popularity': 165.416}\n",
      "3.2621753215789795\n",
      "2024-06-25 19:08:22.713000+00:00\n",
      "{'title': 'Guardians of the Galaxy Vol. 2', 'overview': \"The Guardians must fight to keep their newfound family together as they unravel the mysteries of Peter Quill's true parentage.\", 'year': 2017, 'popularity': 142.267}\n",
      "2.128286361694336\n",
      "2024-06-25 19:08:16.304000+00:00\n",
      "{'title': 'Star Wars: Episode II - Attack of the Clones', 'overview': 'Following an assassination attempt on Senator Padmé Amidala, Jedi Knights Anakin Skywalker and Obi-Wan Kenobi investigate a mysterious plot that could change the galaxy forever.', 'year': 2002, 'popularity': 44.575}\n",
      "2.0567948818206787\n",
      "2024-06-25 19:08:22.713000+00:00\n",
      "{'title': 'Alien: Covenant', 'overview': 'The crew of the colony ship Covenant, bound for a remote planet on the far side of the galaxy, discovers what they think is an uncharted paradise but is actually a dark, dangerous world.', 'year': 2017, 'popularity': 235.941}\n",
      "1.9015520811080933\n",
      "2024-06-25 19:08:15.131000+00:00\n",
      "{'overview': 'For four years, the courageous crew of the NSEA protector - \"Commander Peter Quincy Taggart\" (Tim Allen), \"Lt. Tawny Madison (Sigourney Weaver) and \"Dr.Lazarus\" (Alan Rickman) - set off on a thrilling and often dangerous mission in space...and then their series was cancelled! Now, twenty years later, aliens under attack have mistaken the Galaxy Quest television transmissions for \"historical documents\" and beam up the crew of has-been actors to save the universe. With no script, no director and no clue, the actors must turn in the performances of their lives.', 'year': 1999, 'title': 'Galaxy Quest', 'popularity': 62.01}\n"
     ]
    }
   ],
   "source": [
    "response = movies.query.bm25(\n",
    "    query=\"galaxy\",\n",
    "    limit=5,\n",
    "    return_metadata=wq.MetadataQuery(score=True, last_update_time=True)\n",
    ")\n",
    "\n",
    "for o in response.objects:\n",
    "    print(o.metadata.score)\n",
    "    print(o.metadata.last_update_time)\n",
    "    print(o.properties)"
   ]
  },
  {
   "cell_type": "markdown",
   "id": "ada69268-32aa-4175-99e8-516e355d5703",
   "metadata": {},
   "source": [
    "### Semantic search"
   ]
  },
  {
   "cell_type": "markdown",
   "id": "fa422c04-ae07-48e4-8202-1ea0615db2a0",
   "metadata": {},
   "source": [
    "A semantic search, on the other hand, searches objects based on similarity"
   ]
  },
  {
   "cell_type": "code",
   "execution_count": 15,
   "id": "295bcedc-496d-49a0-b8c1-b3a398d728b8",
   "metadata": {
    "executionCancelledAt": null,
    "executionTime": 159,
    "lastExecutedAt": 1692032192969,
    "lastScheduledRunId": null,
    "lastSuccessfullyExecutedCode": "response = (\n    client.query\n    .get(\"Question\", [\"question\", \"answer\"])\n    .with_near_text({\"concepts\": [\"history\"]})\n    .with_limit(3)\n    .do()\n)\n\njprint(response)",
    "outputsMetadata": {
     "0": {
      "height": 477,
      "type": "stream"
     }
    }
   },
   "outputs": [
    {
     "name": "stdout",
     "output_type": "stream",
     "text": [
      "MetadataReturn(creation_time=None, last_update_time=None, distance=0.13486772775650024, certainty=None, score=None, explain_score=None, is_consistent=None, rerank_score=None)\n",
      "{\n",
      "  \"title\": \"Galaxy Quest\",\n",
      "  \"overview\": \"For four years, the courageous crew of the NSEA protector - \\\"Commander Peter Quincy Taggart\\\" (Tim Allen), \\\"Lt. Tawny Madison (Sigourney Weaver) and \\\"Dr.Lazarus\\\" (Alan Rickman) - set off on a thrilling and often dangerous mission in space...and then their series was cancelled! Now, twenty years later, aliens under attack have mistaken the Galaxy Quest television transmissions for \\\"historical documents\\\" and beam up the crew of has-been actors to save the universe. With no script, no director and no clue, the actors must turn in the performances of their lives.\",\n",
      "  \"year\": 1999,\n",
      "  \"popularity\": 62.01\n",
      "}\n",
      "MetadataReturn(creation_time=None, last_update_time=None, distance=0.16076624393463135, certainty=None, score=None, explain_score=None, is_consistent=None, rerank_score=None)\n",
      "{\n",
      "  \"title\": \"Star Wars\",\n",
      "  \"overview\": \"Princess Leia is captured and held hostage by the evil Imperial forces in their effort to take over the galactic Empire. Venturesome Luke Skywalker and dashing captain Han Solo team together with the loveable robot duo R2-D2 and C-3PO to rescue the beautiful princess and restore peace and justice in the Empire.\",\n",
      "  \"year\": 1977,\n",
      "  \"popularity\": 250.715\n",
      "}\n",
      "MetadataReturn(creation_time=None, last_update_time=None, distance=0.1694251298904419, certainty=None, score=None, explain_score=None, is_consistent=None, rerank_score=None)\n",
      "{\n",
      "  \"title\": \"Alien\",\n",
      "  \"overview\": \"During its return to the earth, commercial spaceship Nostromo intercepts a distress signal from a distant planet. When a three-member team of the crew discovers a chamber containing thousands of eggs on the planet, a creature inside one of the eggs attacks an explorer. The entire crew is unaware of the impending nightmare set to descend upon them when the alien parasite planted inside its unfortunate host is birthed.\",\n",
      "  \"year\": 1979,\n",
      "  \"popularity\": 302.104\n",
      "}\n"
     ]
    }
   ],
   "source": [
    "response = movies.query.near_text(\n",
    "    query=\"galaxy\",\n",
    "    limit=3,\n",
    "    target_vector=\"title\",\n",
    "    return_metadata=wq.MetadataQuery(distance=True)\n",
    ")\n",
    "\n",
    "for o in response.objects:\n",
    "    print(o.metadata)\n",
    "    print(json.dumps(o.properties, indent=2))"
   ]
  },
  {
   "cell_type": "markdown",
   "id": "6ab8beb0-ab45-4590-a4de-84b68370c026",
   "metadata": {},
   "source": [
    "#### How does this work?\n",
    "\n",
    "- Under the hood, this uses a vector search. It looks for objects which are the most similar to a text input.\n",
    "- We can inspect the similarity along with the results."
   ]
  },
  {
   "cell_type": "code",
   "execution_count": 16,
   "id": "185a77e4-b27a-4b80-9981-fd975f92e67a",
   "metadata": {
    "executionCancelledAt": null,
    "executionTime": 142,
    "lastExecutedAt": 1692032193111,
    "lastScheduledRunId": null,
    "lastSuccessfullyExecutedCode": "response = (\n    client.query\n    .get(\"Question\", [\"question\", \"answer\"])\n    .with_near_text({\"concepts\": [\"history\"]})\n    .with_additional(\"distance\")\n    .with_limit(3)\n    .do()\n)\n\njprint(response)",
    "outputsMetadata": {
     "0": {
      "height": 616,
      "type": "stream"
     }
    }
   },
   "outputs": [
    {
     "name": "stdout",
     "output_type": "stream",
     "text": [
      "0.13486772775650024\n",
      "{\n",
      "  \"title\": \"Galaxy Quest\",\n",
      "  \"overview\": \"For four years, the courageous crew of the NSEA protector - \\\"Commander Peter Quincy Taggart\\\" (Tim Allen), \\\"Lt. Tawny Madison (Sigourney Weaver) and \\\"Dr.Lazarus\\\" (Alan Rickman) - set off on a thrilling and often dangerous mission in space...and then their series was cancelled! Now, twenty years later, aliens under attack have mistaken the Galaxy Quest television transmissions for \\\"historical documents\\\" and beam up the crew of has-been actors to save the universe. With no script, no director and no clue, the actors must turn in the performances of their lives.\",\n",
      "  \"year\": 1999,\n",
      "  \"popularity\": 62.01\n",
      "}\n",
      "0.16076624393463135\n",
      "{\n",
      "  \"title\": \"Star Wars\",\n",
      "  \"overview\": \"Princess Leia is captured and held hostage by the evil Imperial forces in their effort to take over the galactic Empire. Venturesome Luke Skywalker and dashing captain Han Solo team together with the loveable robot duo R2-D2 and C-3PO to rescue the beautiful princess and restore peace and justice in the Empire.\",\n",
      "  \"year\": 1977,\n",
      "  \"popularity\": 250.715\n",
      "}\n",
      "0.1694251298904419\n",
      "{\n",
      "  \"overview\": \"During its return to the earth, commercial spaceship Nostromo intercepts a distress signal from a distant planet. When a three-member team of the crew discovers a chamber containing thousands of eggs on the planet, a creature inside one of the eggs attacks an explorer. The entire crew is unaware of the impending nightmare set to descend upon them when the alien parasite planted inside its unfortunate host is birthed.\",\n",
      "  \"year\": 1979,\n",
      "  \"title\": \"Alien\",\n",
      "  \"popularity\": 302.104\n",
      "}\n"
     ]
    }
   ],
   "source": [
    "response = movies.query.near_text(\n",
    "    query=\"galaxy\",\n",
    "    limit=3,\n",
    "    target_vector=\"title\",  # or \"overview\"\n",
    "    return_metadata=wq.MetadataQuery(distance=True)\n",
    ")\n",
    "\n",
    "for o in response.objects:\n",
    "    print(o.metadata.distance)\n",
    "    print(json.dumps(o.properties, indent=2))"
   ]
  },
  {
   "cell_type": "markdown",
   "id": "6df9e24c-edf7-4f25-ac30-6e291b3ffcad",
   "metadata": {},
   "source": [
    "This is where \"vectors\" come in. \n",
    "\n",
    "Each object in Weaviate includes a vector - like so:"
   ]
  },
  {
   "cell_type": "code",
   "execution_count": 17,
   "id": "1d75ad29-ce85-4bca-beaf-da708b20fb57",
   "metadata": {
    "executionCancelledAt": null,
    "executionTime": 54,
    "lastExecutedAt": 1692032193165,
    "lastScheduledRunId": null,
    "lastSuccessfullyExecutedCode": "response = (\n    client.query\n    .get(\"Question\", [\"question\", \"answer\"])\n    .with_additional(\"vector\")\n    .with_limit(1)\n    .do()\n)\n\njprint(response)",
    "outputsMetadata": {
     "0": {
      "height": 616,
      "type": "stream"
     }
    }
   },
   "outputs": [
    {
     "name": "stdout",
     "output_type": "stream",
     "text": [
      "0.1343761682510376\n",
      "{'overview': [0.0200653076171875, 0.057373046875, -0.03131103515625, 0.0007500648498535156, -0.0080413818359375, -0.0251007080078125, -0.01678466796875, -0.0626220703125, -0.051025390625, 0.050018310546875, 0.06610107421875, -0.04693603515625, 0.04107666015625, -0.0214080810546875, 0.056304931640625, -0.01153564453125, 0.00043272972106933594, -0.0296783447265625, -0.01198577880859375, -0.0273895263671875, -0.01030731201171875, 0.046417236328125, 0.050933837890625, -0.001316070556640625, 0.0172576904296875, 0.040924072265625, 0.048431396484375, -0.03338623046875, 0.07720947265625, 0.0149078369140625, 0.022430419921875, -0.05145263671875, 0.019561767578125, 0.0277252197265625, 0.00977325439453125, 0.03497314453125, 0.01788330078125, -0.01306915283203125, 0.00879669189453125, 0.02496337890625, -0.04534912109375, -0.00921630859375, -0.01788330078125, 0.0167236328125, -0.041534423828125, -0.0199432373046875, 0.03887939453125, 0.0200653076171875, 0.056915283203125, -0.0019893646240234375, 0.043731689453125, -0.01450347900390625, -0.0010538101196289062, 0.00021409988403320312, -0.0092315673828125, 0.0106353759765625, -0.041168212890625, -0.0173187255859375, 0.058746337890625, 0.0009546279907226562, 0.026123046875, 0.0238494873046875, -0.002605438232421875, 0.00971221923828125, 0.0092620849609375, -0.01244354248046875, -0.01512908935546875, 0.0098724365234375, -0.0010023117065429688, 0.01317596435546875, 0.0035648345947265625, -0.01239776611328125, -0.0034942626953125, 0.00862884521484375, -0.0215606689453125, -0.0009241104125976562, 0.0063323974609375, 0.044769287109375, 0.021148681640625, -0.0155792236328125, -0.0099334716796875, -0.01812744140625, 0.071044921875, 0.0221099853515625, -0.0631103515625, -0.02471923828125, -0.0190887451171875, 0.0026073455810546875, 0.00809478759765625, 0.0687255859375, -0.0364990234375, 0.046600341796875, 0.083984375, -0.033203125, 0.03741455078125, -0.01055908203125, -0.005878448486328125, 0.0259552001953125, 0.0265045166015625, 0.003246307373046875, 0.023681640625, -0.0157012939453125, -0.00022423267364501953, 0.004734039306640625, 0.0325927734375, -0.01168060302734375, 0.03985595703125, 0.01406097412109375, 0.01444244384765625, 0.03271484375, -0.01493072509765625, 0.042388916015625, -0.0159454345703125, 0.00954437255859375, 0.0296173095703125, -0.01910400390625, -0.00994873046875, -0.0136871337890625, -0.01062774658203125, -0.0232391357421875, -0.02703857421875, 0.0072174072265625, -0.0048675537109375, 0.0207366943359375, -0.0102691650390625, -0.025115966796875, 0.0250244140625, 0.0005707740783691406, -0.0243072509765625, 0.020538330078125, -0.037384033203125, 0.03607177734375, 0.0198516845703125, 0.004241943359375, 0.049835205078125, -0.005725860595703125, -0.025421142578125, -0.044769287109375, 0.02459716796875, 0.01207733154296875, 0.020416259765625, 0.033111572265625, 0.01024627685546875, 0.02874755859375, 0.006923675537109375, -0.0286865234375, 0.0750732421875, 0.05438232421875, -0.003818511962890625, 0.004589080810546875, 0.00782012939453125, -0.0261993408203125, 0.01239013671875, -0.005306243896484375, -0.03240966796875, -0.003047943115234375, -0.041107177734375, 0.0049591064453125, -0.0032863616943359375, 0.0244598388671875, -0.0255584716796875, 0.01168060302734375, -0.00566864013671875, 0.00942230224609375, 0.06072998046875, 0.00637054443359375, -0.0136566162109375, -0.0099029541015625, 0.0191802978515625, 0.0034542083740234375, 0.0142974853515625, 0.01410675048828125, -0.028228759765625, -0.010162353515625, -0.023345947265625, -0.061187744140625, -0.00804901123046875, 0.02032470703125, 0.033294677734375, -0.046112060546875, 0.0234832763671875, 0.0123748779296875, -0.0309600830078125, 0.0216064453125, 0.056427001953125, 0.025482177734375, -0.0020294189453125, 0.0020542144775390625, 0.013397216796875, 0.0875244140625, -0.08978271484375, 0.003124237060546875, -0.0120697021484375, -0.041351318359375, 0.0233612060546875, -0.0350341796875, 0.03857421875, -0.0173492431640625, 0.0252227783203125, -0.0301971435546875, -0.01959228515625, 0.017730712890625, 0.0306243896484375, 0.040863037109375, -0.034820556640625, 0.020233154296875, 0.00977325439453125, 0.03594970703125, -0.0283966064453125, 0.0285797119140625, -0.01158905029296875, -0.01012420654296875, -0.0061187744140625, -0.003894805908203125, -0.0193023681640625, 0.00591278076171875, 0.0118255615234375, -0.010986328125, -0.0069427490234375, 0.016998291015625, 0.0267486572265625, 0.007221221923828125, -0.0303955078125, 0.030731201171875, -0.03729248046875, -0.006298065185546875, 0.0308380126953125, -0.052978515625, 0.027587890625, -0.040496826171875, -0.02825927734375, -0.0150604248046875, 0.030120849609375, -0.054718017578125, 0.009063720703125, 0.0125732421875, -0.035858154296875, 0.0028476715087890625, -0.0195465087890625, -0.040618896484375, -0.0220794677734375, 0.01380157470703125, 0.0076141357421875, -0.0223541259765625, -0.02374267578125, -0.01352691650390625, -0.0174713134765625, -0.027557373046875, 0.0294036865234375, -0.010009765625, -0.0194549560546875, 0.03558349609375, 0.0017347335815429688, -0.0041351318359375, 0.0234222412109375, -0.032958984375, -0.053466796875, 0.01273345947265625, 0.01299285888671875, -0.0007238388061523438, 0.0240478515625, -0.001811981201171875, 0.0205535888671875, -0.0118408203125, -0.0362548828125, -0.0303192138671875, 0.02789306640625, 0.0204620361328125, 0.015655517578125, 0.05926513671875, 0.032928466796875, -0.01169586181640625, 0.0023193359375, -0.00853729248046875, -0.0301361083984375, 0.010345458984375, -0.01203155517578125, 0.0048065185546875, 0.0174407958984375, 0.05902099609375, 0.033538818359375, -0.0149993896484375, 0.0185699462890625, -0.0126953125, -0.057830810546875, -0.006313323974609375, -0.004840850830078125, -0.009674072265625, 0.0197906494140625, -0.004444122314453125, -0.00600433349609375, 0.0037078857421875, -0.004718780517578125, 0.0411376953125, 0.018402099609375, -0.0203857421875, -0.052703857421875, 0.0044403076171875, 0.043060302734375, -0.0007638931274414062, -0.0022029876708984375, 0.054656982421875, 0.0323486328125, -0.02691650390625, 0.049530029296875, 0.04400634765625, -0.06463623046875, 0.0029697418212890625, -0.0343017578125, 0.0238494873046875, -0.0191802978515625, -0.00325775146484375, -0.0212860107421875, -0.025177001953125, 0.0201263427734375, -0.043914794921875, -0.0038166046142578125, 0.0034809112548828125, 0.0163421630859375, 0.0243377685546875, -0.0247802734375, -0.049285888671875, -0.06036376953125, 0.0018548965454101562, -0.032379150390625, 0.0421142578125, 0.01335906982421875, 0.00879669189453125, -0.00748443603515625, 0.040374755859375, -0.0214996337890625, -0.0212554931640625, 0.0264892578125, -0.01055145263671875, 0.0227508544921875, 0.049163818359375, -0.0302581787109375, -0.03778076171875, -0.01456451416015625, 0.040618896484375, 0.07568359375, 0.052947998046875, -0.03753662109375, -0.0248565673828125, 0.031524658203125, -0.02117919921875, 0.012237548828125, 0.0131683349609375, -0.0277862548828125, -0.07830810546875, -0.0219879150390625, -0.0280303955078125, -0.00746917724609375, -0.039947509765625, 0.0304412841796875, -0.007343292236328125, 0.044281005859375, 0.061279296875, 0.00200653076171875, 0.003391265869140625, 0.0166015625, -0.0240020751953125, -0.0316162109375, 0.03411865234375, 0.0582275390625, 0.05364990234375, -0.02423095703125, 0.01541900634765625, -0.003143310546875, -0.0002779960632324219, -0.01146697998046875, 0.0197906494140625, 0.0155792236328125, 0.04779052734375, -0.030853271484375, -0.03619384765625, -0.038238525390625, -0.04803466796875, -0.027679443359375, 0.00769805908203125, 0.048858642578125, 0.00803375244140625, -0.05596923828125, 0.034423828125, 0.043304443359375, -0.01837158203125, -0.004058837890625, 0.0087432861328125, 0.11688232421875, 0.0190887451171875, 0.05987548828125, -0.021728515625, 0.02825927734375, 0.0484619140625, 0.0123748779296875, -0.07647705078125, -0.04534912109375, 0.0111846923828125, 0.029327392578125, -0.03619384765625, -0.00614166259765625, -0.045013427734375, -0.058135986328125, -0.0189056396484375, 0.004001617431640625, -0.010589599609375, -0.01404571533203125, 0.0294952392578125, 0.0035076141357421875, -0.0127105712890625, -0.004001617431640625, -0.0005168914794921875, 0.02349853515625, -0.0312347412109375, -0.0101165771484375, 0.016021728515625, -0.002620697021484375, 0.00821685791015625, -0.035003662109375, -0.01181793212890625, 0.005828857421875, -0.051605224609375, -0.0287628173828125, 0.040679931640625, 0.0158538818359375, -0.012420654296875, 0.0189971923828125, 0.02947998046875, 0.034210205078125, -0.006381988525390625, 0.0082855224609375, -0.004360198974609375, -0.004852294921875, 0.0181884765625, -0.0232696533203125, 0.0306396484375, -0.0283966064453125, 0.06744384765625, -0.013275146484375, -0.00196075439453125, -0.00024580955505371094, -0.04296875, 0.03369140625, 0.00959014892578125, 0.045166015625, 0.0372314453125, -0.0028533935546875, 0.0286102294921875, -0.00815582275390625, 0.0011959075927734375, 0.003101348876953125, -0.01287841796875, -0.00412750244140625, -0.01641845703125, 0.0230560302734375, -0.004985809326171875, 0.025634765625, 0.0265350341796875, 0.00677490234375, -0.033966064453125, -0.004673004150390625, -0.0157012939453125, 0.0012302398681640625, -0.0261077880859375, -0.01485443115234375, 0.0137786865234375, 0.022064208984375, 0.007549285888671875, 0.001911163330078125, 0.015472412109375, -0.04327392578125, 0.05035400390625, 0.00409698486328125, -0.0230712890625, 0.0293731689453125, -0.00092315673828125, -0.0423583984375, 0.023101806640625, -0.01412200927734375, 0.0211334228515625, 0.06597900390625, 0.050750732421875, -0.0079803466796875, 0.0159149169921875, 0.044769287109375, 0.04052734375, -0.0343017578125, 0.04571533203125, 0.0870361328125, -0.017791748046875, -0.0220489501953125, 0.0016107559204101562, -0.034454345703125, -0.00811004638671875, 0.03515625, -0.0166778564453125, 0.0186614990234375, 0.019622802734375, 0.0294342041015625, -0.0328369140625, -0.025421142578125, -0.014129638671875, 0.0556640625, 0.005157470703125, -0.00847625732421875, 0.0112152099609375, 0.0278472900390625, -0.027435302734375, 0.00897216796875, -0.010223388671875, -0.013763427734375, 0.04400634765625, -0.011932373046875, 0.0229339599609375, 0.02392578125, -0.04425048828125, -0.0009546279907226562, -0.0279083251953125, 0.00531768798828125, -0.039093017578125, 0.0035572052001953125, 0.0531005859375, 0.056365966796875, 0.0008096694946289062, -0.046295166015625, 0.0012884140014648438, 0.033905029296875, 0.07171630859375, -0.04827880859375, -0.00675201416015625, -0.0218963623046875, -0.0245513916015625, -0.00505828857421875, 0.01508331298828125, -0.057037353515625, -0.07952880859375, -0.004337310791015625, -0.01055145263671875, 0.035186767578125, 0.01554107666015625, -0.059417724609375, 0.0093841552734375, -0.0447998046875, 0.0134124755859375, -0.003570556640625, -0.0023097991943359375, -0.00543212890625, 0.00638580322265625, -0.03558349609375, 0.01470184326171875, 0.0176544189453125, 0.0201416015625, -0.057037353515625, -0.05291748046875, 0.022430419921875, 0.0015840530395507812, -0.06561279296875, -0.032989501953125, 0.01183319091796875, 0.0268402099609375, 0.021026611328125, -0.07275390625, -0.0215911865234375, 0.07733154296875, 0.01241302490234375, -0.023284912109375, 0.0040435791015625, 0.01641845703125, 0.003692626953125, 0.01373291015625, 0.00421142578125, -0.0244903564453125, -0.00952911376953125, 0.0256195068359375, -0.00626373291015625, 0.046234130859375, 0.0001710653305053711, 0.028350830078125, 0.0579833984375, -0.00015616416931152344, 0.0169677734375, -0.00820159912109375, 0.00925445556640625, -0.017822265625, 0.04937744140625, -0.11614990234375, 0.01568603515625, -0.0002256631851196289, -0.07281494140625, 0.021148681640625, -0.037322998046875, -0.01641845703125, -0.023590087890625, 0.006320953369140625, 0.0311737060546875, -0.0007367134094238281, 0.017608642578125, -0.0156402587890625, -0.01092529296875, 0.035919189453125, -0.0711669921875, 0.01885986328125, 0.01396942138671875, -0.0208282470703125, 0.043853759765625, 0.038116455078125, 0.030548095703125, 0.03985595703125, -0.026275634765625, 0.017303466796875, 0.00406646728515625, -0.012908935546875, -0.0025310516357421875, 0.006099700927734375, -0.0177764892578125, -0.00484466552734375, -0.0081787109375, 0.04962158203125, 0.00726318359375, 0.0031795501708984375, -0.0256805419921875, -0.0311431884765625, -0.01849365234375, -0.0032405853271484375, -0.003032684326171875, -0.03277587890625, -0.036376953125, 0.0244140625, -0.035919189453125, -0.0228729248046875, -0.056976318359375, -0.016021728515625, -0.0078125, -0.03912353515625, -0.03997802734375, -0.09161376953125, 0.033172607421875, -0.0240631103515625, 0.0103759765625, 0.03363037109375, 0.020721435546875, -0.002216339111328125, 0.043487548828125, 0.003589630126953125, -0.0218353271484375, -0.002490997314453125, -0.0021495819091796875, 0.006641387939453125, -0.026092529296875, 0.054229736328125, 0.0260162353515625, 0.03753662109375, 0.060272216796875, -0.0556640625, -0.006961822509765625, -0.0004305839538574219, -0.030548095703125, 0.00860595703125, 0.00543975830078125, 0.025421142578125, 0.0102081298828125, -0.0221405029296875, 0.007633209228515625, -0.0009589195251464844, 0.055694580078125, -0.0281524658203125, 0.034027099609375, -0.035858154296875, -0.018402099609375, -0.017333984375, -0.006450653076171875, 0.025177001953125, 0.039581298828125, 0.01219940185546875, 0.0239410400390625, -0.009429931640625, -0.017181396484375, -0.011566162109375, -0.0187835693359375, -0.0321044921875, 0.0270843505859375, 0.0640869140625, -0.0154571533203125, 0.0207977294921875, 0.0135345458984375, -0.0008883476257324219, 0.00514984130859375, -0.032623291015625, -0.051025390625, -0.057464599609375, 0.007556915283203125, 0.08575439453125, 0.0162353515625, 0.0111083984375, -0.005828857421875, 0.021636962890625, 0.035064697265625, 0.0118560791015625, -0.0357666015625, -0.040252685546875, 0.051971435546875, -0.068603515625, -0.0133056640625, 0.019561767578125, -0.004955291748046875, -0.0028133392333984375, 0.0006847381591796875, 0.007709503173828125, 0.0435791015625, 0.01464080810546875, -0.01068878173828125, -0.032379150390625, 0.00624847412109375, -0.033782958984375, 0.059173583984375, 0.01216888427734375, 0.037261962890625, -0.025421142578125, -0.04541015625, 0.055938720703125, 0.0290069580078125, 0.0148468017578125, 0.00014460086822509766, -0.052276611328125, 0.0009136199951171875, 0.038116455078125, -0.048675537109375, -0.019287109375, 0.004383087158203125, -0.0418701171875, -0.041473388671875, 0.0283355712890625, -0.0031452178955078125, -0.029327392578125, -0.012908935546875, -0.057525634765625, -0.034210205078125, 0.00173187255859375, -0.0029888153076171875, -0.017364501953125, -0.032196044921875, 0.03375244140625, -0.058441162109375, -0.03009033203125, -0.0308990478515625, 0.03399658203125, -0.0288543701171875, 0.044219970703125, -0.048187255859375, 0.00995635986328125, -0.0164031982421875, 0.039520263671875, 0.015594482421875, -0.0083160400390625, -0.0242462158203125, -0.0222625732421875, -0.004505157470703125, 0.0096282958984375, -0.043792724609375, 0.00991058349609375, 0.002819061279296875, 0.0263214111328125, -0.0212554931640625, 0.0031032562255859375, 0.01258087158203125, 0.01117706298828125, -0.00725555419921875, -0.022308349609375, -0.00919342041015625, -0.034515380859375, -0.0080108642578125, -0.032806396484375, 0.0027370452880859375, -0.01313018798828125, -0.01340484619140625, -0.00598907470703125, 0.003574371337890625, 0.046661376953125, 0.0204010009765625, -0.0261077880859375, 0.0182647705078125, -0.02508544921875, 0.00824737548828125, -0.032958984375, -0.0107574462890625, -0.049163818359375, 0.023895263671875, -0.029205322265625, 0.0300140380859375, 0.0628662109375, 0.035797119140625, -0.005489349365234375, 0.006927490234375, -0.002346038818359375, 0.0166778564453125, 0.0167694091796875, 0.0081024169921875, -0.0224151611328125, 0.00749969482421875, -0.0384521484375, 0.05548095703125, -0.0323486328125, -0.0528564453125, 0.005615234375, 0.0025348663330078125, -0.0242767333984375, -0.08868408203125, 0.061798095703125, 0.0264129638671875, 0.018218994140625, 0.04827880859375, 0.037384033203125, 0.0010633468627929688, 0.021728515625, -0.00766754150390625, -0.0335693359375, 0.0625, 0.042144775390625, -0.0180206298828125, 0.0010223388671875, -0.0270843505859375, 0.019561767578125, 0.00766754150390625, -0.0227508544921875, -0.05303955078125, 0.0288238525390625, -0.036773681640625, -0.0289764404296875, -0.0283050537109375, -0.033416748046875, -0.0196533203125, -0.0169830322265625, -0.01180267333984375, -0.004425048828125, 0.0051116943359375, 0.0157470703125, 0.019439697265625, 0.039520263671875, 0.0223846435546875, -0.004161834716796875, 0.0007715225219726562, 0.00555419921875, 2.866983413696289e-05, 0.0183258056640625, -0.037872314453125, 0.00589752197265625, -0.0548095703125, 0.01070404052734375, -0.07330322265625, 0.0163726806640625, -0.0035228729248046875, 0.0084991455078125, -0.03515625, 0.00482940673828125, -0.002773284912109375, 0.034515380859375, 0.006175994873046875, -0.10174560546875, 0.0523681640625, -0.007144927978515625, -0.06732177734375, 0.00738525390625, -0.0239410400390625, 0.060791015625, 0.048583984375, 0.03656005859375, -0.031524658203125, 0.0123291015625, 0.0278167724609375, -0.0457763671875, -0.006927490234375, 0.05438232421875, -0.0308837890625, -0.0275726318359375, 0.05572509765625, 0.0031795501708984375, 0.00533294677734375, -0.00872802734375, 0.0007119178771972656, 0.027557373046875, 0.041534423828125, -0.039276123046875, 0.08013916015625, -0.03155517578125, -0.05108642578125, -0.041900634765625, -0.0164337158203125, 0.01531982421875, -0.0060882568359375, 0.029205322265625, -0.007175445556640625, -0.0006995201110839844, 0.00788116455078125, -0.050567626953125, -0.049591064453125, 0.0070037841796875, 0.0833740234375, 0.07843017578125, -0.1053466796875, -0.0135040283203125, -0.007747650146484375, -0.033172607421875, 0.09136962890625, 0.0304107666015625, -0.045013427734375, 0.02337646484375, 0.0430908203125, -0.0068359375, -0.03302001953125, 0.001800537109375, -0.004032135009765625, -0.00914764404296875, 0.006397247314453125, 0.0203094482421875, -0.015289306640625, 0.0184478759765625, -0.028961181640625, -0.0137786865234375, -0.0210418701171875, -0.041473388671875, -0.0322265625, -0.00746917724609375, -0.0181732177734375, -0.01224517822265625, 0.0175628662109375, -0.01233673095703125, 0.09185791015625, -0.017730712890625, -0.022613525390625, -0.004116058349609375, 0.00519561767578125, -0.014678955078125, 0.004314422607421875, -0.02056884765625, -0.0144195556640625, -0.0160980224609375, 0.00681304931640625, -0.00478363037109375, 0.0369873046875, -0.0406494140625, -0.00396728515625, 0.0164947509765625, -0.0450439453125, -0.025909423828125, 0.0104217529296875, 0.003387451171875, -0.03546142578125, 0.005847930908203125, -0.01024627685546875, -0.04638671875, 0.0245513916015625, 0.0123138427734375, 0.034393310546875, -0.01287078857421875, -0.04400634765625, 0.053070068359375, -0.00628662109375, 0.01357269287109375, -0.0217437744140625, 0.005290985107421875, 0.0089263916015625, -0.0011186599731445312, 0.004215240478515625, -0.02288818359375, -0.0106658935546875, -0.054290771484375, -0.0229949951171875, -0.00966644287109375, -0.005001068115234375, 0.0404052734375, 0.044647216796875, 0.03936767578125, -0.01110076904296875, 0.0208587646484375, -0.021881103515625, -0.0273590087890625, -0.08770751953125, 0.038665771484375, 0.0254058837890625, -0.018035888671875, -0.045623779296875, -0.002880096435546875, -0.0301055908203125, 0.0238800048828125, -0.0219573974609375, 0.06304931640625, 0.0036163330078125, -0.00799560546875, 0.005657196044921875, -0.0203094482421875, 0.0220489501953125, 0.0194244384765625, -0.0263671875, -0.06463623046875, -0.01432037353515625, 0.0122833251953125, -0.0238189697265625, -0.01007080078125, 0.025054931640625, 0.054473876953125, 0.0300445556640625, 0.0158233642578125, -0.042999267578125, 0.01396942138671875, 0.0206756591796875, 0.025970458984375, 0.0237274169921875, -0.0033473968505859375, -0.02667236328125, -0.019500732421875, -0.04541015625, -0.045867919921875, 0.01044464111328125, -0.0238494873046875, -0.0066680908203125, -0.00975799560546875, 0.0283966064453125, -0.0279388427734375, -0.0054168701171875, 0.01873779296875, 0.027618408203125, -0.01413726806640625, -0.0222625732421875, 0.034912109375], 'title': [0.001771763782016933, -0.02627941593527794, -0.018018173053860664, -0.04696746543049812, -0.03687505051493645, 0.029885845258831978, -0.023357927799224854, -0.046659938991069794, -0.023623516783118248, 0.0002955123782157898, 0.030500896275043488, -0.004354275297373533, 0.03293313831090927, -0.0005744253867305815, 0.01859128847718239, -0.0036378817167133093, 0.02812456525862217, -0.023315992206335068, 0.012426808476448059, -0.017570864409208298, 0.02307835780084133, 0.029075097292661667, 0.005797546356916428, -0.023022444918751717, 0.02534286119043827, 0.0018311720341444016, 0.006968238390982151, -0.02359556034207344, 0.0023763300850987434, 0.005510989110916853, 0.017724627628922462, -0.004937874153256416, -0.01195154245942831, -0.006524424068629742, -0.016061196103692055, -0.0026209522038698196, 0.016899900510907173, -0.0037427200004458427, -0.0037462145555764437, -0.012867128476500511, 0.02647511288523674, 0.010190262459218502, -0.003429953008890152, -0.011056924238801003, -0.02402888983488083, 0.001918537076562643, 0.0049308850429952145, -0.003543527564033866, -0.01826978474855423, -0.002133455127477646, -0.001617127563804388, 0.01533431839197874, -0.026810593903064728, -0.01622893661260605, -0.01938805729150772, 0.00615749042481184, -0.0006146132946014404, -0.023329969495534897, 0.021904172375798225, -0.010371982119977474, -0.00964510440826416, -0.02061815746128559, -0.01814397983253002, 0.018954727798700333, -0.022645028308033943, 0.014202066697180271, -0.01775258406996727, -0.006150501314550638, 0.014027336612343788, -0.01899666152894497, 0.04145997017621994, 0.01825580559670925, 0.004763144068419933, 0.014383786357939243, 0.0176687128841877, -0.040369655936956406, -0.004015299025923014, -0.0016284850426018238, -0.007087055128067732, 0.010015532374382019, 0.009526288136839867, -0.006363672204315662, -0.01441174279898405, 0.01908053271472454, -0.001970956102013588, 0.028362197801470757, 0.0003142958739772439, 0.029270796105265617, -0.030444981530308723, -0.006321737077087164, 0.014900987967848778, 0.005252388305962086, 0.01866118051111698, 0.019835367798805237, -0.025482645258307457, 0.012182186357676983, -0.005601848941296339, 0.020855791866779327, 0.01000854279845953, -0.010903161950409412, -0.007681137416511774, 0.023665452376008034, -0.013580027967691422, -0.02031063288450241, -0.007597267162054777, -0.0075483424589037895, -0.0016887669917196035, 0.0009374272776767612, 0.03147938475012779, 0.004417178221046925, -0.0026366780512034893, 0.012671430595219135, 0.015348296612501144, -0.05283840000629425, -0.02277083322405815, -0.03178691118955612, 0.024280501529574394, -0.004616370890289545, 0.005804535932838917, -0.031870778650045395, 0.024056848138570786, -0.001083326991647482, 0.01674613729119301, 0.004529005382210016, 0.017095597460865974, 0.02514716424047947, -0.01961171254515648, -0.01712355576455593, 0.02555253729224205, -0.004127126187086105, 0.042130935937166214, 0.013559060171246529, 0.02134503610432148, -0.01533431839197874, -0.021890193223953247, 0.028096608817577362, -0.01206337008625269, 0.022812768816947937, -0.026517048478126526, -0.0025388291105628014, 0.0213310569524765, 0.033184751868247986, -0.011077892035245895, 0.0038964825216680765, -0.01641065627336502, 0.010225208476185799, 0.013859596103429794, 0.010854236781597137, 0.013167664408683777, -0.011001010425388813, 0.026740701869130135, -0.026838552206754684, 0.015781627967953682, 0.010281122289597988, 0.03209443390369415, 0.005025239195674658, -0.021470841020345688, -0.0028568380512297153, -0.01938805729150772, -0.023246100172400475, 0.0021072456147521734, 0.010910150595009327, -0.011602082289755344, -0.030137456953525543, 0.015068728476762772, 0.0328492671251297, 0.03346432000398636, -0.017990216612815857, -0.018507417291402817, -0.01773860491812229, -0.0258460845798254, 0.031451426446437836, -0.011008000001311302, 0.036483656615018845, -0.016955813392996788, 0.022714920341968536, 0.02102353237569332, 0.005350237246602774, -0.02996971644461155, -0.006318242289125919, -0.006936787161976099, 0.01579560525715351, 0.014817116782069206, 0.014956900849938393, -0.018451504409313202, -0.0070695821195840836, -0.0003667148994281888, -0.011860682629048824, 0.022002020850777626, -0.0050392174161970615, 0.029522405937314034, 0.01857730932533741, -0.005944320000708103, -0.00458841398358345, -0.6409940719604492, -0.01103595644235611, 0.010434884577989578, -0.014607440680265427, -0.007820921950042248, 0.015082706697285175, 0.00954725593328476, 0.013510135933756828, -0.018535375595092773, -0.015432166866958141, -0.02050633169710636, 0.026195544749498367, -0.0017385650426149368, -0.004462608136236668, -0.029075097292661667, 0.0050077661871910095, 0.009065000340342522, -0.037713754922151566, -0.004333307966589928, 0.00210200366564095, -0.03276539966464043, 0.02390308491885662, 0.004480081144720316, -0.010183273814618587, 0.010392949916422367, 0.02637726441025734, 0.009148870594799519, -0.030333153903484344, -0.009917683899402618, 0.007569310255348682, -0.02236546017229557, 0.01755688525736332, 0.009924672544002533, 0.004542984068393707, 0.05049002543091774, -0.022393416613340378, -0.009917683899402618, 0.02163858152925968, 0.009833812713623047, 0.022924596443772316, -0.016494525596499443, 0.0026576456148177385, 0.014705290086567402, -0.005060185212641954, -0.02205793373286724, 0.00959618017077446, 0.050853464752435684, 0.001303486991673708, -0.01548808068037033, -0.000928690773434937, 0.016899900510907173, -0.004647822119295597, 0.0049169063568115234, 0.013020890764892101, 0.0013288228074088693, 0.0258460845798254, 0.02482566051185131, -0.00017888000002130866, 0.015026792883872986, 0.0015332570765167475, -0.03189873695373535, 0.00949134211987257, -0.003714763093739748, -0.0073736123740673065, -0.00933757983148098, 0.027453601360321045, 0.0029826436657458544, -0.003328609513118863, -0.0026454145554453135, -0.02184825763106346, 0.011119826696813107, 0.0069787222892045975, -0.02688048593699932, -0.001906306017190218, 0.013125728815793991, 0.02566436491906643, 0.037601929157972336, -0.0033950069919228554, -0.011469286866486073, 0.006353188306093216, 0.033604104071855545, -0.007653180509805679, -0.019835367798805237, 0.01970956102013588, 0.027271881699562073, -0.005755611229687929, -0.037406232208013535, 0.004955347161740065, 0.014195078052580357, 0.0068808733485639095, -0.009680050425231457, -0.0036798170767724514, -0.030025629326701164, -0.014775182120501995, -0.005021744407713413, 0.020646115764975548, -0.006360177416354418, 0.011553158052265644, 0.028040695935487747, -0.04302555322647095, -0.010483808815479279, -0.0020635630935430527, 0.030640680342912674, 0.006702648475766182, 0.013838628306984901, 0.025468667969107628, -0.017473015934228897, -0.009051022119820118, 0.031451426446437836, -0.03234604746103287, 0.0036553547251969576, 0.01673216000199318, -0.012937020510435104, -0.031647127121686935, -0.014845074154436588, -0.04288576915860176, 0.03136755898594856, 0.0022540190257132053, 0.015292382799088955, -0.008149414323270321, 0.03147938475012779, -0.02595791220664978, 0.017626777291297913, 0.00888328067958355, -0.001829424756579101, 0.010288111865520477, -0.008191349916160107, -0.03500194475054741, -0.014859052374958992, 0.00659082131460309, -0.00492739025503397, -0.013461210764944553, 0.020548265427350998, -0.01548808068037033, -0.007618234492838383, 0.007010173983871937, 0.013978412374854088, -0.01457948423922062, -0.008652636781334877, -0.014397764578461647, -0.016047216951847076, 0.003927933983504772, 1.4715555153088644e-05, -0.003494603093713522, -0.0029179935809224844, -0.01081929076462984, -0.01847946085035801, -0.010267144069075584, -0.021988041698932648, -0.027942845597863197, -0.030920248478651047, 0.015278404578566551, -0.007429526187479496, 0.013433254323899746, 0.009987575933337212, -0.01457948423922062, -0.005528462119400501, -0.014139164239168167, -0.005717170424759388, -0.03346432000398636, 0.021065467968583107, 0.005294323433190584, -0.005161528941243887, -0.0036273980513215065, 0.009728974662721157, -0.020198805257678032, -0.0072967312298715115, 0.008855324238538742, -0.02175040915608406, -0.009924672544002533, 0.005049701314419508, -0.025384796783328056, -0.018814943730831146, 0.029801975935697556, -0.000326963810948655, -0.004941368941217661, 0.00954725593328476, 0.009044032543897629, 0.004448629915714264, -0.0034019961021840572, -0.00032346919761039317, 0.0004879339539911598, -0.007303720340132713, 0.012971966527402401, 0.009673061780631542, 0.01724936068058014, 0.024490177631378174, 0.03209443390369415, -0.011280578561127186, 0.014237012714147568, -0.0008072532946243882, 0.015502058900892735, -0.010476820170879364, -0.015124642290174961, -0.020156869664788246, -0.022924596443772316, 0.02741166576743126, -0.012245088815689087, 0.020590201020240784, 0.023064380511641502, 0.032793354243040085, -0.02225363254547119, 0.03201056271791458, -0.026251457631587982, -0.005762600339949131, -0.031255729496479034, 0.01302788034081459, -0.02215578407049179, 0.014299916103482246, 0.016173023730516434, 0.025999847799539566, -0.046128761023283005, -1.0920634849753696e-05, 0.003167857648804784, 0.04769434407353401, 0.017109576612710953, 0.0022085891105234623, -0.0049308850429952145, -0.030221328139305115, 0.005234915297478437, -0.019416015595197678, -0.006223888136446476, 0.0012169955298304558, 0.017808496952056885, -0.024783724918961525, 0.004535994958132505, 0.005486526992172003, 0.016494525596499443, 0.007464472204446793, -0.015124642290174961, -0.012650462798774242, 0.010274132713675499, -0.007254796102643013, 0.01452357042580843, 0.015404210425913334, 0.01908053271472454, 0.011238643899559975, 0.0055005052126944065, 0.023623516783118248, 0.00166168378200382, -0.002496893983334303, 0.014635398052632809, 0.02330201305449009, -0.005982760339975357, -0.0018731072777882218, 0.001592665328644216, 0.028068652376532555, -0.010050478391349316, -0.013069815933704376, 0.013887552544474602, -0.026097696274518967, 0.00021928634669166058, -0.021806323900818825, 0.017095597460865974, -0.00010887872485909611, -0.024755768477916718, -0.018856877461075783, 0.004549973178654909, 0.024783724918961525, 0.020646115764975548, -0.000165993653354235, 0.00664673512801528, -0.0065628644078969955, 0.013300458900630474, 0.0035347910597920418, -0.0016747885383665562, 0.02935466542840004, -0.007758019026368856, -0.007778986357152462, -0.018535375595092773, 0.013216588646173477, -0.0061365230940282345, 0.01908053271472454, -0.025594472885131836, -0.0268944650888443, -0.0037287415470927954, 0.00301409512758255, -0.002261008135974407, 0.002121224068105221, 0.012335948646068573, 0.012895084917545319, -0.0334363617002964, 0.018451504409313202, -0.009302633814513683, -0.0015751923201605678, -0.03139551356434822, -0.016173023730516434, -0.0018346665892750025, -0.0035784735810011625, 0.01961171254515648, -0.01318863220512867, 0.01569775678217411, -0.005206958390772343, -0.03066863678395748, -0.03293313831090927, -0.006908830255270004, 0.013405296951532364, -0.011210686527192593, -0.00032346919761039317, 0.0033530716318637133, -0.004574435297399759, 0.024797704070806503, -0.0009610158740542829, -0.03707075119018555, 0.0030350626911967993, -0.003770676674321294, 0.012482722289860249, -0.017109576612710953, 0.003454415127635002, -0.02031063288450241, -0.022700941190123558, -0.0018626234959810972, -0.0007587656727991998, 0.007205871399492025, -0.007534364238381386, -0.02102353237569332, -0.018199892714619637, -0.015348296612501144, 0.017724627628922462, 0.012280034832656384, 0.002145686186850071, -0.044367481023073196, -0.0032639591954648495, -0.02946649305522442, 0.09656286984682083, 0.031758952885866165, 0.01302788034081459, 0.012049391865730286, -0.01195154245942831, 0.011434340849518776, -0.0361202172935009, -0.022700941190123558, -0.005213947966694832, -0.019667625427246094, -0.0034142271615564823, -0.011965520679950714, -0.0034718881361186504, 0.015250448137521744, -0.006510445382446051, 0.0051370663568377495, 0.00928166601806879, 0.018297741189599037, 0.007499418221414089, -0.00980585627257824, -0.0010763377649709582, 0.003298905212432146, 0.02072998508810997, 0.002851596102118492, 0.0183536559343338, -0.023861149325966835, 0.021484820172190666, 0.006178458221256733, -0.0005346742691472173, -0.021386971697211266, 0.0034648990258574486, -0.022183740511536598, -0.019164403900504112, -0.003160868538543582, 0.008233284577727318, 0.028152521699666977, 0.0195977333933115, 0.015026792883872986, 0.027649300172924995, -0.00471771415323019, -0.0019325155299156904, -0.010861226357519627, 0.003559253178536892, 0.00777199724689126, 0.004508038051426411, 0.003941912204027176, -0.016466569155454636, 0.015613886527717113, 0.013978412374854088, -0.02639124169945717, 0.04084492102265358, 0.008387047797441483, -0.012231110595166683, 0.00392094487324357, 0.022029977291822433, 0.00011226412607356906, -0.018451504409313202, -0.016997748985886574, -0.0007181409164331853, -0.014873030595481396, -0.017389144748449326, -0.029634233564138412, 0.020450416952371597, 0.00898811873048544, -0.0015856761019676924, -0.02913101203739643, -0.014719268307089806, -0.008491885848343372, 0.0023169219493865967, -0.0008046323782764375, -0.024168675765395164, -0.011469286866486073, -0.0015411200001835823, -0.02709016390144825, 0.008848334662616253, -0.014223034493625164, 0.014873030595481396, -0.007275763433426619, 0.009099946357309818, 0.005084647331386805, -0.027467580512166023, -0.00536072114482522, 0.011371438391506672, -0.025063293054699898, 0.004287878051400185, 0.008603712543845177, -0.005982760339975357, -0.002447969513013959, -0.0007880330085754395, 0.009099946357309818, 0.03242991492152214, 0.008219306357204914, 0.0038300850428640842, 0.00013967491395305842, 0.020869769155979156, -0.004487070254981518, -0.0009793625213205814, 0.0009208279079757631, 0.013803682290017605, 0.011462298221886158, -0.01083326991647482, -0.021904172375798225, -0.004542984068393707, -0.005856954958289862, -0.004598897881805897, -0.0009260697988793254, -0.0037427200004458427, 0.013125728815793991, -0.008799410425126553, -0.0166203323751688, -0.031171860173344612, -0.026125652715563774, 0.00345266773365438, -0.014083250425755978, 0.012867128476500511, 0.004529005382210016, 0.011979498900473118, 0.02759338542819023, 0.006492972373962402, -0.021526755765080452, -0.0024497166741639376, -0.03240196034312248, 0.020674072206020355, 0.02135901339352131, 0.011350470595061779, -0.007163936272263527, 0.008072532713413239, -0.01888483576476574, 0.003763687564060092, 0.0129230422899127, -0.009044032543897629, 0.004015299025923014, 0.004462608136236668, 0.0020495846401900053, -0.026349307969212532, -0.0303611122071743, 0.014663354493677616, 0.012909064069390297, -0.0028813001699745655, -0.011448320001363754, -0.034946031868457794, 0.0008871923782862723, 0.006140017416328192, 0.0023186691105365753, -0.012706376612186432, -0.01969558373093605, -0.007003184407949448, -0.016564419493079185, -0.013363362289965153, 0.017207425087690353, -0.006325231399387121, 0.01035800389945507, -0.02216976135969162, -0.02605576068162918, -0.015865497291088104, -0.03975460305809975, -0.02105148881673813, -0.021680517122149467, 0.006639746017754078, 0.024881573393940926, 0.040369655936956406, -0.01826978474855423, 0.026447156444191933, -0.027831019833683968, 0.009113924577832222, 0.01046284195035696, 0.007604256272315979, 0.00234662601724267, -0.013726800680160522, 0.03455463424324989, 0.012021434493362904, -0.005912868306040764, 0.005234915297478437, -0.008044576272368431, -0.0036239034961909056, 0.02050633169710636, 0.01989128068089485, 0.008191349916160107, -0.0012956240680068731, -0.020660093054175377, -0.008058554492890835, 0.009526288136839867, -0.02093966118991375, -0.0165224839001894, -0.017109576612710953, -0.0213310569524765, 0.03276539966464043, 0.031870778650045395, -0.014083250425755978, 0.004605886992067099, 0.023022444918751717, -0.0177665613591671, 0.0288234855979681, -0.017570864409208298, 0.021470841020345688, -0.017696669325232506, -0.006230877246707678, -0.008645648136734962, 0.016494525596499443, -0.01467733271420002, 0.025300925597548485, -0.0016110120341181755, -0.02105148881673813, 0.003008853178471327, -0.00784188974648714, 0.0258460845798254, -0.004675779026001692, -0.00677603529766202, 0.02657296136021614, -0.033184751868247986, -0.012629495933651924, -0.011818747967481613, -0.004672284238040447, -0.0363159142434597, -0.004574435297399759, -0.0003903034667018801, -0.008505864068865776, 0.008114468306303024, -0.027565428987145424, -0.018395591527223587, 0.015613886527717113, 0.005493516102433205, 0.03768580034375191, 0.016173023730516434, 0.015669800341129303, 0.021093424409627914, 0.006755067966878414, -0.00699969008564949, 0.002897026017308235, -0.03346432000398636, 0.0013227072777226567, 0.021261164918541908, 0.026531025767326355, 0.009784888476133347, -0.02770521305501461, -0.006510445382446051, -0.008533820509910583, -0.022323524579405785, -0.025678344070911407, 0.017486993223428726, 0.02493748813867569, 0.02605576068162918, -0.01877300813794136, -0.008065544068813324, -0.025482645258307457, 0.01518055610358715, 0.0026978335808962584, 0.0010658539831638336, -0.004794595297425985, -0.016899900510907173, -0.0111897187307477, -0.01339131873100996, -0.01642463356256485, 0.0020338590256869793, 0.009861770085990429, -0.032262176275253296, 0.029801975935697556, -0.009120914153754711, 0.01938805729150772, -0.001314844354055822, -0.023665452376008034, 0.03779762610793114, -0.0336320586502552, 0.010190262459218502, 0.026461133733391762, 0.010071446187794209, -0.0024007922038435936, -0.004029277246445417, 0.028557896614074707, 0.02300846576690674, -0.03486216068267822, 0.013635940849781036, 0.0007945853867568076, -0.009085968136787415, 0.014285936951637268, 0.0014878272777423263, 0.001629358739592135, -0.01590743288397789, -0.008554788306355476, -0.0038056226912885904, 0.007415547501295805, 0.01446765661239624, -0.0021491809748113155, -0.021470841020345688, -0.01702570542693138, -0.0017333230935037136, -0.0034177217166870832, 0.0035854626912623644, 0.016382699832320213, -0.02729984000325203, -0.014139164239168167, -0.007240817416459322, 0.006426575127989054, 0.01580958440899849, -0.0006290285382419825, 0.002472431631758809, 0.02052030898630619, 0.005877922289073467, -0.0029389611445367336, -0.004350780975073576, 0.007062593009322882, 0.004633843898773193, -0.017277317121624947, 0.0024899046402424574, 0.01533431839197874, -0.010295100510120392, 0.008380058221518993, -0.03231808915734291, 0.022421373054385185, -0.0030735034961253405, -0.010420906357467175, 0.0003536101430654526, -0.00147472252137959, -0.01226605661213398, -0.013202610425651073, 0.014956900849938393, 0.002114234957844019, -0.017095597460865974, -0.02648909203708172, 0.031758952885866165, 0.001254562521353364, 0.017570864409208298, 0.005668246187269688, 0.005713676102459431, 0.013852606527507305, -0.012224121950566769, 0.010155316442251205, 0.0019569776486605406, -0.011336492374539375, 0.0008915606304071844, -0.012762290425598621, 0.022742876783013344, -0.01650850474834442, -0.020059021189808846, -0.026349307969212532, -0.010267144069075584, -0.013621962629258633, 0.031451426446437836, -0.02031063288450241, 0.0018905802862718701, 0.02390308491885662, 0.024602005258202553, 0.0359245203435421, 0.018227849155664444, -0.02176438830792904, -0.015348296612501144, 0.0033705446403473616, 0.004085191059857607, -0.023218143731355667, -0.009861770085990429, 0.00294944504275918, 0.020059021189808846, -0.006063136272132397, -0.03528151288628578, -0.02924283780157566, -0.00907198991626501, -0.003421216504648328, -0.008219306357204914, -0.02483963780105114, 0.0013550323201343417, 0.037294402718544006, -0.008401026017963886, -0.004637338221073151, 0.022868681699037552, -0.0018014678498730063, -0.015502058900892735, -0.02647511288523674, 0.010295100510120392, 0.00112351484131068, -0.01694183610379696, 0.010413916781544685, 0.009016076102852821, -0.014537548646330833, -0.006178458221256733, -0.0033635555300861597, 0.025412753224372864, -0.0038091172464191914, 0.007576299365609884, -0.015879476442933083, -0.008526831865310669, -0.02145686373114586, -0.005116099026054144, 0.011098859831690788, 0.00690533546730876, 0.004413683898746967, -0.02924283780157566, 0.01568377949297428, -0.012126272544264793, 0.005472548305988312, -0.013894542120397091, -0.0021072456147521734, 0.015348296612501144, -0.019751496613025665, 0.01743108034133911, 0.005350237246602774, -0.04995884373784065, -0.0011532190255820751, -0.023958997800946236, 0.028404133394360542, 0.009037043899297714, 0.013817660510540009, 0.004207502119243145, 0.01600528135895729, -0.01642463356256485, -0.0023204165045171976, 0.031143901869654655, 0.004319329280406237, -0.014705290086567402, 0.008680594153702259, -0.007967694662511349, 0.01773860491812229, 0.0031468900851905346, -0.019667625427246094, -0.013621962629258633, 0.016033239662647247, 0.004067718051373959, 0.0013794945552945137, -0.017626777291297913, 0.02184825763106346, 0.013482178561389446, -0.007911781780421734, 0.003169605042785406, 0.002738021546974778, 0.0020391009747982025, 0.005266366992145777, 0.0024095287080854177, -0.005259377416223288, -0.00361691415309906, -0.010085424408316612, 0.00569969741627574, -0.0006727111176587641, -0.017375165596604347, -0.01174885593354702, -0.004277394153177738, 0.01164401788264513, 0.01441174279898405, 0.20151279866695404, 0.0073875910602509975, -0.027453601360321045, 0.03131164237856865, 0.005273356102406979, 0.020436439663171768, 0.03038906864821911, -0.008757475763559341, 0.008016619831323624, 0.008009630255401134, -0.018130000680685043, 0.011664984747767448, 0.013006912544369698, -1.9793649698840454e-05, -0.0009496583952568471, -0.018814943730831146, -0.014355828985571861, -0.010889182798564434, -0.012447776272892952, -0.015767648816108704, 0.015124642290174961, 0.007653180509805679, -0.012335948646068573, -0.009162848815321922, 0.01473324652761221, -0.010427895933389664, 0.012860138900578022, 0.00965209398418665, 0.031870778650045395, 0.03178691118955612, 0.007324688136577606, -0.03508581593632698, -0.005070669110864401, -0.002610468538478017, -0.009631126187741756, 0.017179468646645546, -0.0010335288243368268, -0.003613419597968459, 0.002454958623275161, 0.015096684917807579, -0.0022138310596346855, 0.029410580173134804, -0.0034474260173738003, 0.015851520001888275, -0.016033239662647247, -0.001092063495889306, -0.025748236104846, 0.029326708987355232, -0.0014109460171312094, 0.0047421762719750404, -0.03757397085428238, -0.015194534324109554, 0.017514951527118683, 0.0389997698366642, -0.02053428813815117, -0.019751496613025665, -0.0167181808501482, -0.01415314245969057, -0.01467733271420002, -0.029634233564138412, -0.007017163094133139, 0.023329969495534897, -0.020604180172085762, 0.017193447798490524, -0.019569776952266693, 0.009631126187741756, -0.01713753305375576, -0.002622699597850442, 0.035868607461452484, -0.003108449513092637, -0.01457948423922062, -0.03480624780058861, -0.03338044881820679, -0.017081620171666145, -0.008876292034983635, -0.011874660849571228, 0.012867128476500511, -0.012895084917545319, 0.010686496272683144, 0.022183740511536598, -0.005825503263622522, -0.014299916103482246, -0.009868758730590343, -0.012049391865730286, -0.031675081700086594, -0.03693096712231636, 0.009533276781439781, 0.007310709450393915, -0.02226761169731617, 0.014607440680265427, -0.014817116782069206, -0.02184825763106346, -0.024895552545785904, -0.004937874153256416, -0.016997748985886574, 0.00449405936524272, -0.009211773984134197, 0.02904714085161686, -0.012042402289807796, -0.027327796444296837, -0.022966532036662102, -0.022435352206230164, -0.01108488067984581, -0.012196164578199387, -0.012643474154174328, 0.01150423288345337, -0.006140017416328192, 0.012496700510382652, 0.001066727563738823, 0.0018259300850331783, 0.021065467968583107, -0.010868215933442116, 0.005116099026054144, -0.003934923093765974, -0.016242915764451027, 0.019877301529049873, -0.0064999619498848915, -0.0013698843540623784, 0.0353374257683754, -0.03047293797135353, 0.014956900849938393, -0.003438689513131976, 0.011070902459323406, -0.0119585320353508, 0.0025423236656934023, -0.041320186108350754, -0.005790557246655226, 0.0059932442381978035, 0.014593462459743023, -0.04548575356602669, -0.009288654662668705, -0.02750951610505581, 0.024881573393940926, -0.022854704409837723, 0.010889182798564434, 0.018842900171875954, 0.00794672779738903, 0.003690300742164254, -0.00923274178057909, -0.008296187967061996, 0.003718257648870349, -0.005378194153308868, 0.004609381314367056, 0.02011493593454361, 0.01796226017177105, -0.02904714085161686, 0.01878698542714119, 0.0004438145842868835, -0.012629495933651924, -0.012727344408631325, -0.007261785212904215, -0.03746214509010315, -0.011699930764734745, -0.0049763149581849575, 0.03718257695436478, -0.02587404102087021, -0.032877225428819656, -0.033184751868247986, -0.0007937117479741573, 0.02472781203687191, 0.012545624747872353, 0.0041550830937922, 0.028194457292556763, 0.009344568476080894, -0.012273046188056469, -0.0023483731783926487, -0.18138387799263, 0.019066553562879562, 0.027229947969317436, -0.02236546017229557, 0.014914966188371181, -0.007048614323139191, 0.008918226696550846, 0.005476043093949556, -0.013852606527507305, -0.0030123479664325714, 0.0012169955298304558, -0.019513864070177078, -0.05387280136346817, 0.010295100510120392, 0.023553624749183655, 0.017682692036032677, 0.004913412034511566, -0.00040581077337265015, 0.004064223263412714, 0.016089152544736862, 0.028180480003356934, 0.012615516781806946, -0.00218237959779799, -0.0019482412608340383, 0.033604104071855545, -0.0027345269918441772, -0.0014721015468239784, 0.016997748985886574, -0.008268230594694614, 0.0034963504876941442, -0.035029903054237366, -0.011147784069180489, 0.0286277886480093, 0.027453601360321045, 0.02566436491906643, 0.020953640341758728, -0.008610702119767666, 0.011720898561179638, -0.005828998051583767, 0.006887862458825111, 0.004172556102275848, 0.017682692036032677, 0.038133107125759125, 0.012671430595219135, 0.011336492374539375, 0.03578473627567291, 0.0024095287080854177, 0.003952396102249622, 0.006527918390929699, 0.004067718051373959, 0.007415547501295805, -0.03307292237877846, -0.0008745244122110307, -0.013384330086410046, 0.012657452374696732, 0.022728897631168365, -0.0005198222352191806, 0.0051964749582111835, 0.0043402970768511295, -0.015418188646435738, -0.038636330515146255, -0.016969792544841766, 0.00777199724689126, -0.031339600682258606, -0.026852529495954514, -0.012846160680055618, -0.016997748985886574, 0.004413683898746967, -0.02400093339383602, 0.011119826696813107, 0.0003627834958024323, -0.010861226357519627, 0.0076601700857281685, 0.011532190255820751, 0.010029510594904423, 0.0023116800002753735, -0.01441174279898405, 0.011930574662983418, -0.0011357460170984268, -0.019024619832634926, -0.017361188307404518, 0.013852606527507305, -0.0168160293251276, 0.02966219000518322, 0.033296577632427216, 0.0025388291105628014, -0.015613886527717113, -0.00846392847597599, -0.022183740511536598, -0.0043263183906674385, 0.021722452715039253, 0.0034019961021840572, -0.0120563805103302, 0.013573038391768932, 0.018842900171875954, 0.01164401788264513, 0.0034159745555371046, 0.01088219415396452, 0.004102664068341255, -0.011224664747714996, -0.0007723072776570916, 0.02390308491885662, -0.015292382799088955, 0.009945640340447426, 0.014970880001783371, 0.02176438830792904, 0.00907198991626501, 0.03754601627588272, 0.013761746697127819, -0.008184360340237617, -0.011224664747714996, 0.0010850742692127824, 0.007890813983976841, 0.009470374323427677, -0.008002640679478645, 0.007848878391087055, -0.001147977076470852, -0.01806010864675045, 0.013831638731062412, 0.023945020511746407, 0.035057857632637024, -0.0075483424589037895, -0.020352568477392197, -0.010476820170879364, -0.010805312544107437, -0.026950379833579063, -0.0864425003528595, -0.002016386017203331, 0.014090240001678467, 0.00851285271346569, -0.0025370819494128227, 0.02854391746222973, -0.010427895933389664, 0.007925760000944138, -0.003022831631824374, 0.024671897292137146, -0.004986798390746117, -0.02544070966541767, 0.004616370890289545, -0.00861769076436758, 0.012985944747924805, -0.014537548646330833, -0.010323057882487774, -0.024993401020765305, -0.0069472710601985455, 0.019681604579091072, -0.03147938475012779, 0.0023396366741508245, 0.011790790595114231, 9.025904728332534e-05, -0.035029903054237366, -0.014719268307089806, -0.009624136611819267, 0.02587404102087021, 0.013929488137364388, 0.01436980813741684, 0.019639668986201286, -0.025496624410152435, 0.0029634234961122274, -0.02462996169924736, -0.027761125937104225, -0.015963347628712654, -0.010413916781544685, -0.011651006527245045, 0.03349227458238602, -0.055382467806339264, -0.00413062097504735, 0.008666615933179855, -0.0034928556997328997, -0.0211353600025177, -0.006783024407923222, 0.009470374323427677, 0.0026034791953861713, 0.01878698542714119, 0.015837540850043297, -0.030025629326701164, -0.018731072545051575, -0.02618156559765339, -0.028879400342702866, 0.00307874521240592, 0.020142892375588417, -0.009659082628786564, 0.008177370764315128, -0.011350470595061779, 0.006230877246707678, 0.011385416612029076, -0.016187001019716263, 1.8940475854378747e-07, 0.006503456272184849, -0.0019849345553666353, -0.01473324652761221, -0.0021247186232358217, 0.002725790487602353, -0.018605267629027367, 0.004958841949701309, -0.022281588986516, -0.01247573271393776, 0.01632678508758545, -0.020674072206020355, -0.009526288136839867, -0.02092568390071392, -0.009274676442146301, -0.019835367798805237, -0.012615516781806946, 0.03332453593611717, -0.023972976952791214, -0.015851520001888275, -0.01200046669691801, 0.01324454601854086, -0.021778365597128868, 0.04487070441246033, 0.013852606527507305, 0.008876292034983635, 0.007226839195936918, -0.007534364238381386, -0.031339600682258606, -0.0193041879683733, 0.0011313777649775147, 0.0021858741529285908, -0.022659005597233772, -0.022505244240164757, 0.011567136272788048, 0.01814397983253002, 0.0038510526064783335, 0.005283840000629425, 0.012881106697022915, -0.010141338221728802, -0.007939738221466541, -0.07928555458784103, 0.02258911356329918, -0.006863400340080261, 0.0035085815470665693, -0.0022295566741377115, -0.003547022119164467, 0.022840725257992744, -0.00991069432348013, 0.0059163630940020084, -0.0017097345553338528, -0.011063912883400917, 0.011839714832603931, 0.0006622272776439786, -0.004609381314367056, -0.02165256068110466, 0.006360177416354418, 0.0028655745554715395, 0.011413373984396458, 0.012755300849676132, 0.018535375595092773, -0.0303611122071743, 0.02156868949532509, 0.011657996103167534, 0.007974684238433838, -0.011063912883400917, 0.012147240340709686, -0.005374699365347624, 0.008107478730380535, -0.014383786357939243, -0.012468744069337845, 0.02061815746128559, 0.00028633902547881007, -0.00651743495836854, 0.021694496273994446, -0.00035885206307284534, -0.027551449835300446, -0.019961172714829445, 0.01072144228965044, 0.009519298560917377, 0.021722452715039253, -0.005710181314498186, -0.015292382799088955, 0.0239170640707016, 0.008533820509910583, -0.012307992205023766, 0.008610702119767666, -0.018409568816423416, 0.008981130085885525, 0.01611710898578167, 0.006636251229792833, 0.021918149664998055, 0.018828921020030975, -0.0066746920347213745, -0.005919857416301966, 0.010078434832394123, -0.03097616136074066, 0.013202610425651073, 0.0069472710601985455, 0.004983304068446159, 0.000395982206100598, 0.032597657293081284, -0.0009400482522323728, 0.008526831865310669, 0.00613302830606699, 0.02134503610432148, -0.007268774323165417, 0.009372525848448277, -0.010420906357467175, 0.019276229664683342, -0.037825584411621094, -0.006286791060119867, -0.008806400001049042, 0.018717093393206596, 0.024490177631378174, -0.012594549916684628, 0.006887862458825111, 0.009009086526930332, -0.03768580034375191, -0.018046129494905472, 0.018046129494905472, 0.03570086508989334, 0.008505864068865776, -0.028557896614074707, -0.004501048941165209, 0.012559603899717331, 0.03681913763284683, 0.006769046187400818, 0.0035050869919359684, 0.008331133984029293, 0.019234295934438705, -0.005888406187295914, 0.02587404102087021, 0.024168675765395164, 0.01765473559498787, -0.007324688136577606, 0.02823639288544655, 0.008058554492890835, -0.003368797479197383, -0.0025912481360137463, 0.030500896275043488, 0.0007600761600770056, 0.0011374932946637273, -0.011021978221833706, -0.01088219415396452, -0.01083326991647482, -0.002301196102052927, -0.02050633169710636, -0.02668478898704052, 0.0032517281360924244, 0.020268697291612625, 0.015292382799088955, 0.0069787222892045975, 0.001042265328578651, 0.01088219415396452, -0.03201056271791458, 0.006202920340001583, 0.012140250764787197, -0.02372136525809765, -0.017528928816318512, 0.031032076105475426, 0.016662267968058586, 0.022728897631168365, 0.007688126992434263, -0.023050401359796524, 0.0630146861076355, 0.014845074154436588, 0.01723538152873516, -0.008401026017963886, 0.0020006601698696613, -0.0034439312294125557, 0.00531179690733552, 0.0029319720342755318, 0.023022444918751717, -0.003075250657275319, 0.0033670500852167606, 4.8214602429652587e-05, -0.013251534663140774, 0.0482255220413208, -0.036567527800798416, 0.11596491187810898, 0.01764075644314289, 0.00820532813668251, 0.024685876443982124, -0.012496700510382652, -0.004441640339791775, 0.004221480339765549, 0.00388599862344563, -0.03735031932592392, -0.007751029450446367, 0.02615360915660858, 0.004319329280406237, 0.05297818407416344, -0.007415547501295805, -0.030025629326701164, -0.017361188307404518, -0.003421216504648328, 0.0018835910595953465, -0.020702028647065163, -0.008387047797441483, -0.0024794209748506546, -0.008750486187636852, 0.02184825763106346, -0.013831638731062412, -0.007352645043283701, -0.007059098221361637, 0.030528852716088295, 0.011881650425493717, 0.0014686069916933775, -0.028599832206964493, 0.005420129280537367, -0.004046750254929066, -0.005982760339975357, -0.017990216612815857, 0.03469441831111908, -0.032178305089473724, 0.00043682538671419024, -0.010323057882487774, 0.012755300849676132, 0.02351168915629387, 0.00605265237390995, 0.009680050425231457, -0.010378970764577389, -0.014859052374958992, 0.008198338560760021, -0.0037007846403867006, -0.015082706697285175, -0.013314438052475452, -0.029885845258831978]}\n",
      "{\n",
      "  \"overview\": \"For four years, the courageous crew of the NSEA protector - \\\"Commander Peter Quincy Taggart\\\" (Tim Allen), \\\"Lt. Tawny Madison (Sigourney Weaver) and \\\"Dr.Lazarus\\\" (Alan Rickman) - set off on a thrilling and often dangerous mission in space...and then their series was cancelled! Now, twenty years later, aliens under attack have mistaken the Galaxy Quest television transmissions for \\\"historical documents\\\" and beam up the crew of has-been actors to save the universe. With no script, no director and no clue, the actors must turn in the performances of their lives.\",\n",
      "  \"year\": 1999,\n",
      "  \"title\": \"Galaxy Quest\",\n",
      "  \"popularity\": 62.01\n",
      "}\n",
      "0.1602359414100647\n",
      "{'overview': [-0.01611328125, 0.0322265625, -0.01180267333984375, 0.0011014938354492188, -0.03485107421875, -0.07452392578125, -0.04071044921875, -0.044342041015625, -0.0177154541015625, -0.012451171875, -0.01187896728515625, -0.0474853515625, 0.0226593017578125, 0.0174560546875, -0.0308380126953125, 0.014404296875, 0.042327880859375, -0.0016813278198242188, 0.00959014892578125, -0.048126220703125, -0.030487060546875, 0.024658203125, 0.072265625, -0.017303466796875, -0.0070343017578125, 0.01364898681640625, 0.0635986328125, -0.0153656005859375, 0.041168212890625, 0.051177978515625, -0.009979248046875, -0.0262298583984375, 0.08935546875, 0.00801849365234375, -0.0008077621459960938, -0.01427459716796875, -0.0286712646484375, -0.04876708984375, -0.0010862350463867188, 0.0714111328125, -0.0189361572265625, -0.012481689453125, -0.004718780517578125, 0.01261138916015625, -0.047332763671875, -0.0347900390625, 0.04644775390625, 0.0108184814453125, 0.0186767578125, 0.01055145263671875, 0.054595947265625, -0.026458740234375, -0.0044097900390625, 0.00829315185546875, 0.00862884521484375, 0.025115966796875, -0.00830841064453125, 0.0233306884765625, 0.032196044921875, 0.0235595703125, 0.0229034423828125, 0.022430419921875, -0.0227203369140625, 0.0192108154296875, 0.00673675537109375, -0.0239410400390625, -0.028900146484375, 0.08001708984375, -0.0165252685546875, 0.0161285400390625, 0.04052734375, 0.043701171875, 0.04730224609375, 0.007381439208984375, 0.004840850830078125, 0.0045318603515625, 0.024078369140625, 0.0267333984375, 0.031768798828125, 0.045074462890625, -0.026702880859375, -0.0198516845703125, 0.01708984375, 0.0094757080078125, -0.02899169921875, -0.02252197265625, -0.0031528472900390625, -0.01549530029296875, -0.0535888671875, 0.068359375, -0.0258941650390625, 0.035675048828125, 0.0709228515625, 0.004810333251953125, 0.0015974044799804688, 0.00543975830078125, 0.01392364501953125, -0.002796173095703125, -0.010162353515625, -0.0113525390625, -1.239776611328125e-05, -0.0157928466796875, 0.0034351348876953125, -0.007030487060546875, -0.003589630126953125, -0.0452880859375, 0.01904296875, 0.0203857421875, 0.032958984375, 0.046875, 0.029266357421875, 0.05755615234375, -0.01342010498046875, -0.0081634521484375, -0.01270294189453125, 0.0090484619140625, 0.0005049705505371094, -0.0297088623046875, -0.0157012939453125, -0.05487060546875, -0.015960693359375, 0.04364013671875, -0.0063323974609375, -0.0142974853515625, -0.0308990478515625, 0.03826904296875, 0.0445556640625, -0.00469207763671875, 0.0153961181640625, -0.053314208984375, -0.076416015625, -0.011474609375, -0.0102386474609375, 0.039703369140625, 0.04095458984375, 0.0165557861328125, -0.038055419921875, -0.032806396484375, 0.046234130859375, -0.017913818359375, 0.0107269287109375, -0.01129913330078125, 0.0190582275390625, -0.01036834716796875, -0.0282745361328125, -0.02508544921875, 0.1112060546875, 0.040618896484375, 0.0037136077880859375, 0.01244354248046875, 0.0014314651489257812, -0.019927978515625, 0.0247039794921875, -0.01885986328125, -0.002994537353515625, 0.0098419189453125, -0.0189361572265625, 0.0061492919921875, -0.0100555419921875, -0.00911712646484375, -0.055694580078125, -0.00846099853515625, -0.0008668899536132812, -0.0037689208984375, 0.046478271484375, -0.00272369384765625, -0.0633544921875, -0.0134429931640625, 0.00518798828125, -0.01251220703125, 0.00820159912109375, 0.003498077392578125, 0.00833892822265625, -0.01294708251953125, -0.032684326171875, -0.0207366943359375, -0.037750244140625, -0.02081298828125, 0.0513916015625, -0.03118896484375, 0.047332763671875, -0.00241851806640625, -0.02886962890625, 0.060089111328125, 0.031036376953125, -0.026031494140625, -0.05413818359375, -0.005977630615234375, 0.045318603515625, 0.038818359375, 0.0198211669921875, -0.005962371826171875, -0.016021728515625, -0.040313720703125, -0.0272979736328125, 0.0114288330078125, 0.04766845703125, 0.0021209716796875, 0.0208587646484375, -0.00786590576171875, -0.0163726806640625, 0.0095977783203125, 0.021575927734375, 0.04315185546875, -0.0313720703125, 0.0164947509765625, 0.0188140869140625, 0.038116455078125, -0.026702880859375, 0.01465606689453125, -0.0106964111328125, 0.0181427001953125, 0.00029087066650390625, -0.008575439453125, -0.0064697265625, 0.0113525390625, -0.0419921875, -0.051483154296875, 0.0015535354614257812, -0.03131103515625, 0.0145721435546875, -0.038726806640625, 0.031524658203125, 0.03924560546875, 0.03497314453125, 0.03289794921875, -0.0374755859375, -0.080810546875, 0.07818603515625, 0.0256195068359375, -0.008056640625, -0.0178680419921875, 0.02276611328125, -0.01244354248046875, -0.003955841064453125, -0.0017175674438476562, -0.004184722900390625, 0.0078887939453125, -0.0190887451171875, 0.01534271240234375, 0.0175628662109375, 0.0146636962890625, 0.00756072998046875, -0.0014142990112304688, -0.0108795166015625, -0.01142120361328125, -0.022552490234375, -0.029693603515625, 0.02740478515625, -0.035247802734375, 0.0005288124084472656, 0.00988006591796875, -0.004138946533203125, -0.013031005859375, -0.01349639892578125, -0.050567626953125, -0.016326904296875, 0.0272064208984375, 0.032012939453125, 0.003009796142578125, -0.035675048828125, 0.0006766319274902344, 0.03387451171875, -0.0188446044921875, -0.062286376953125, 0.0007605552673339844, 0.0072479248046875, 0.032196044921875, 0.042694091796875, 0.0222625732421875, 0.0616455078125, -0.03155517578125, 0.0174102783203125, -0.037628173828125, -0.023834228515625, 0.021575927734375, -0.002819061279296875, 0.00690460205078125, 0.013885498046875, 0.031402587890625, 0.049072265625, 0.03948974609375, 0.00585174560546875, -0.040924072265625, -0.08233642578125, 0.051177978515625, 0.0274200439453125, 0.0028171539306640625, -0.057952880859375, 0.03973388671875, -0.01117706298828125, 0.00803375244140625, -0.04534912109375, 0.033203125, 0.00740814208984375, -0.002269744873046875, 0.0012722015380859375, -0.014739990234375, -0.02203369140625, 0.007617950439453125, -0.0005350112915039062, 0.002231597900390625, 0.023956298828125, -0.0171051025390625, 0.0005955696105957031, 0.0211181640625, 4.4226646423339844e-05, 0.033599853515625, 0.0276641845703125, -0.054931640625, 0.007778167724609375, 0.0161590576171875, 0.0288238525390625, 0.0096435546875, -0.01953125, 0.01605224609375, -0.0225830078125, -0.024322509765625, -0.016937255859375, -0.0119476318359375, -0.003314971923828125, -0.038787841796875, -0.028411865234375, -0.0059661865234375, -0.0184326171875, 0.04315185546875, -0.00284576416015625, -0.004032135009765625, 0.0104522705078125, 0.01019287109375, -0.057220458984375, 0.0121307373046875, 0.040985107421875, 0.017547607421875, 0.01262664794921875, 0.00662994384765625, 0.0205230712890625, 0.007904052734375, -0.002582550048828125, 0.00666046142578125, -0.01617431640625, 0.0038433074951171875, -0.023773193359375, 0.006114959716796875, 0.03704833984375, -0.0138702392578125, 0.0079498291015625, -0.012115478515625, -0.030487060546875, -0.0556640625, -0.0284881591796875, 0.0015974044799804688, 0.01012420654296875, -0.036041259765625, 0.00667572021484375, -0.0133819580078125, 0.046539306640625, 0.0246429443359375, -0.0103759765625, 0.003421783447265625, 0.0214691162109375, -0.00214385986328125, -0.01465606689453125, 0.0312042236328125, 0.0787353515625, 0.0535888671875, -0.0460205078125, 0.00331878662109375, -0.0208892822265625, 0.01800537109375, -0.01239013671875, 0.028594970703125, 0.010345458984375, 0.0312042236328125, -0.038909912109375, -0.0020656585693359375, -0.004398345947265625, -0.05645751953125, 0.00804901123046875, 0.0157470703125, 0.050140380859375, 0.00136566162109375, -0.042327880859375, 0.026611328125, 0.061370849609375, 0.0245208740234375, -0.0192413330078125, -0.023406982421875, 0.01157379150390625, 0.0087738037109375, 0.07659912109375, 0.0184326171875, 0.0304718017578125, 0.0250091552734375, 0.03192138671875, -0.0780029296875, -0.033294677734375, -0.0018548965454101562, 0.086669921875, -0.01511383056640625, -0.0478515625, -0.01233673095703125, -0.01690673828125, 0.00411224365234375, 0.0041961669921875, -0.03265380859375, 0.01019287109375, 0.043914794921875, 0.018157958984375, 0.0175628662109375, -0.0650634765625, 0.027496337890625, 0.06146240234375, -0.0357666015625, -0.007740020751953125, 0.002674102783203125, 0.0167999267578125, -0.026641845703125, 0.004489898681640625, -0.0019178390502929688, 0.06298828125, -0.00519561767578125, 0.0015954971313476562, 0.024688720703125, 0.01678466796875, -0.005130767822265625, 0.0360107421875, 0.0675048828125, 0.05841064453125, -0.0232391357421875, -0.009857177734375, -0.07080078125, -0.0295867919921875, 0.0654296875, -0.0254669189453125, 0.0271759033203125, -0.08575439453125, 0.046051025390625, -0.018951416015625, 0.006931304931640625, -0.03228759765625, 0.0074005126953125, 0.022430419921875, -0.00844573974609375, 0.09185791015625, 0.053192138671875, -0.0019474029541015625, 0.07391357421875, -0.034393310546875, -0.006191253662109375, 0.0076751708984375, -0.00290679931640625, 0.005702972412109375, -0.033599853515625, 0.01934814453125, -0.07806396484375, -0.0073699951171875, 0.0215911865234375, 0.00991058349609375, -0.0295562744140625, -0.044097900390625, -0.01227569580078125, 0.01776123046875, -0.06414794921875, -0.01035308837890625, -0.03826904296875, 0.04754638671875, 0.0184478759765625, 0.036590576171875, -0.0115814208984375, -0.03326416015625, 0.061279296875, 0.00445556640625, -0.024658203125, 0.0265960693359375, -0.019073486328125, -0.028289794921875, 0.0092010498046875, -0.005184173583984375, 0.031097412109375, 0.036712646484375, 0.046905517578125, -0.039825439453125, -0.0258941650390625, -0.029998779296875, 0.0240020751953125, 0.0175628662109375, 0.037139892578125, 0.0400390625, -0.02783203125, -0.027801513671875, 0.01430511474609375, -0.0201568603515625, -0.0094146728515625, 0.03387451171875, -0.01355743408203125, 0.011932373046875, 0.0018796920776367188, 0.002197265625, -0.0312042236328125, -0.012725830078125, -0.0009832382202148438, 0.0244598388671875, 0.0189056396484375, -0.0076141357421875, -0.001430511474609375, -0.00377655029296875, 0.01078033447265625, 0.045379638671875, 0.0557861328125, -0.0277862548828125, -0.02490234375, -0.01485443115234375, 0.0133209228515625, 0.08563232421875, -0.07489013671875, -0.0186614990234375, -0.029449462890625, -0.022186279296875, -0.021728515625, 0.02801513671875, 0.021148681640625, 0.03448486328125, 0.0243377685546875, -0.0078887939453125, -0.00450897216796875, 0.01230621337890625, 0.0537109375, -0.052093505859375, -0.008575439453125, -0.0008978843688964844, -0.0162811279296875, 0.01375579833984375, 0.0291748046875, -0.0738525390625, -0.08203125, 0.0243988037109375, 0.01486968994140625, 0.01461029052734375, 0.0219573974609375, -0.0037708282470703125, 0.0204925537109375, -0.0059967041015625, 0.02386474609375, -0.00334930419921875, -0.0272674560546875, 0.0030059814453125, -0.039031982421875, -0.05328369140625, -0.0268096923828125, 0.03240966796875, 0.0015840530395507812, -0.0142669677734375, -0.025482177734375, 0.0236968994140625, 0.0016183853149414062, -0.03729248046875, -0.01491546630859375, 0.01084136962890625, 0.049041748046875, -0.002597808837890625, 0.003093719482421875, 0.0121612548828125, 0.018157958984375, -0.01256561279296875, -0.0198822021484375, 0.0213165283203125, 0.006103515625, 0.02301025390625, -0.0087890625, 0.0011224746704101562, 0.0030536651611328125, 0.0034923553466796875, 0.00786590576171875, -0.0197906494140625, -0.00948333740234375, -0.0024547576904296875, 0.042755126953125, -0.0202484130859375, -0.0439453125, 0.05401611328125, 0.01041412353515625, 0.00719451904296875, -0.0274200439453125, 0.0219879150390625, 0.01430511474609375, -0.006122589111328125, -0.01837158203125, -0.0305023193359375, -0.0241851806640625, -0.0220489501953125, -0.049530029296875, 0.029541015625, 0.06414794921875, -0.01393890380859375, 0.0108795166015625, 0.00823974609375, 0.052520751953125, 0.0032958984375, 0.0240631103515625, -0.076904296875, 0.0165252685546875, 0.01088714599609375, -0.020599365234375, 0.040924072265625, 0.03070068359375, -0.0235137939453125, 0.068359375, -0.086181640625, 0.05963134765625, 0.00621795654296875, 0.008148193359375, -0.01335906982421875, -0.012115478515625, -0.040374755859375, 0.007701873779296875, 0.00244903564453125, 0.03533935546875, 0.03179931640625, 0.0087890625, -0.011444091796875, -0.034942626953125, 0.004184722900390625, 0.0101318359375, 0.0115814208984375, -0.02642822265625, -0.03985595703125, 0.0218658447265625, -0.0214080810546875, -0.0191650390625, -0.0418701171875, -0.0185546875, -0.031463623046875, 0.006763458251953125, -0.006603240966796875, -0.061248779296875, 0.0157012939453125, -0.0386962890625, 0.004596710205078125, 0.05780029296875, -0.02545166015625, 0.052978515625, 0.01004791259765625, -0.007205963134765625, -0.0217132568359375, -0.0650634765625, -0.0426025390625, 0.00872039794921875, 0.01209259033203125, -0.0491943359375, 0.0215911865234375, -0.03173828125, 0.031463623046875, 0.0236053466796875, -0.034759521484375, -0.005985260009765625, -0.042449951171875, 0.01702880859375, 0.021575927734375, 0.0105743408203125, 0.08477783203125, 0.0198822021484375, -0.0070343017578125, 0.0017747879028320312, 0.0283660888671875, -0.035675048828125, -0.00554656982421875, -0.0295257568359375, -0.007045745849609375, -0.0350341796875, 0.00786590576171875, 0.015380859375, 0.05218505859375, -0.0013227462768554688, -0.00902557373046875, -0.00045800209045410156, 0.019775390625, 0.03228759765625, -0.0300445556640625, -0.0021266937255859375, 0.01371002197265625, 0.049407958984375, -0.00998687744140625, 0.030853271484375, 0.01605224609375, 0.0184326171875, -0.01215362548828125, -0.031982421875, -0.03680419921875, -0.042999267578125, 0.0042724609375, 0.052886962890625, 0.060791015625, -0.01445770263671875, -0.02203369140625, 0.036834716796875, -0.0164031982421875, -0.03228759765625, -0.01611328125, 0.03411865234375, 0.007450103759765625, -0.0274505615234375, 0.0177001953125, 0.0233306884765625, -0.00765228271484375, -0.0084075927734375, 0.023956298828125, -0.0023555755615234375, 0.03790283203125, 0.034820556640625, -0.022064208984375, -0.002048492431640625, -0.0313720703125, -0.0134429931640625, 0.02508544921875, 0.0181884765625, 0.0322265625, 0.0158843994140625, -0.03338623046875, 0.06732177734375, -0.00164794921875, -0.0256195068359375, -0.0042266845703125, -0.048065185546875, 0.040374755859375, 0.007568359375, -0.004375457763671875, -0.0104217529296875, -0.01434326171875, -0.0217132568359375, -0.033447265625, 0.0017843246459960938, 0.009246826171875, -0.0294952392578125, -0.043701171875, -0.040557861328125, -0.0654296875, -0.060882568359375, 0.12164306640625, -0.0404052734375, 0.06732177734375, 0.0240020751953125, 0.0201416015625, -0.04876708984375, -0.027496337890625, -0.0017156600952148438, -0.0289306640625, 0.0223846435546875, -0.061920166015625, 0.002346038818359375, -0.006053924560546875, 0.0235137939453125, -0.0236358642578125, 0.0122833251953125, -0.0101470947265625, 0.005413055419921875, -0.007686614990234375, -0.00048089027404785156, -0.0171966552734375, -0.0007753372192382812, -0.0115203857421875, 0.00496673583984375, 0.0033779144287109375, 0.0187225341796875, 0.01509857177734375, 0.03326416015625, 1.043081283569336e-05, -0.033905029296875, 0.01519775390625, 0.057830810546875, -0.0092926025390625, 0.03515625, 0.0350341796875, -0.053741455078125, -0.005939483642578125, -0.01386260986328125, -0.0003552436828613281, -0.01522064208984375, 0.020477294921875, -0.031097412109375, 0.008453369140625, 0.015411376953125, 0.02593994140625, 0.0193023681640625, -0.0003311634063720703, 0.0021820068359375, 0.037994384765625, -0.00024819374084472656, 0.0101165771484375, 0.0216827392578125, 0.0084075927734375, 0.0123748779296875, 0.0027923583984375, -0.01849365234375, 0.003223419189453125, 0.01537322998046875, 0.0249176025390625, -0.0215301513671875, 0.02117919921875, -0.047210693359375, 0.03131103515625, -0.01476287841796875, -0.0005645751953125, -0.00612640380859375, -0.0311126708984375, -0.02777099609375, -0.0546875, 0.0064849853515625, -0.02667236328125, 0.0293731689453125, 0.0218505859375, 0.0302276611328125, -0.0193939208984375, 0.043182373046875, -0.01367950439453125, -0.009002685546875, 0.05914306640625, 0.03863525390625, -0.035369873046875, 0.0197601318359375, -0.0179290771484375, 0.0222015380859375, 0.00638580322265625, 0.00518798828125, 0.0079803466796875, 0.027191162109375, 0.04644775390625, -0.006282806396484375, 0.0160369873046875, -0.033599853515625, -0.0181427001953125, -0.0016384124755859375, -0.03955078125, -0.036651611328125, -0.051513671875, 0.0253448486328125, 0.01293182373046875, 0.04522705078125, 0.0338134765625, -0.0035991668701171875, 0.0020160675048828125, 0.0207061767578125, -0.00539398193359375, 0.006519317626953125, -0.00424957275390625, -0.0018281936645507812, -0.05059814453125, 0.03082275390625, -0.067138671875, 0.045196533203125, -0.01016998291015625, 0.0049896240234375, -0.034820556640625, 0.0124969482421875, -0.0123291015625, 0.0202178955078125, 0.0069732666015625, -0.02947998046875, 0.018402099609375, 0.00730133056640625, -0.041229248046875, 0.01398468017578125, -0.01351165771484375, 0.0179595947265625, 0.035308837890625, 0.0279083251953125, -0.0303192138671875, 0.01434326171875, 0.00806427001953125, -0.0750732421875, 0.0011529922485351562, 0.102783203125, -0.019287109375, -0.0178985595703125, 0.036346435546875, 0.0012426376342773438, -0.0016546249389648438, 0.00386810302734375, -0.0013065338134765625, 0.0261688232421875, 0.0017833709716796875, -0.047882080078125, 0.0296783447265625, -0.01898193359375, 0.02734375, 0.0164794921875, -0.014190673828125, 0.046173095703125, 0.003387451171875, -0.020721435546875, -0.0325927734375, -0.0093231201171875, -0.0276031494140625, -0.03436279296875, -0.065673828125, 0.09564208984375, 0.059326171875, 0.0262908935546875, -0.06524658203125, -0.021331787109375, -0.0299835205078125, -0.049407958984375, 0.048065185546875, 0.027984619140625, -0.033905029296875, -0.01412200927734375, 0.030426025390625, -0.0159149169921875, -0.0262603759765625, -0.01212310791015625, 0.0174407958984375, 0.0036296844482421875, -0.032623291015625, 0.00969696044921875, 0.0341796875, -0.02923583984375, -0.031829833984375, -0.0037860870361328125, -0.0171661376953125, -0.0174713134765625, -0.0150299072265625, 0.0242919921875, -0.0228118896484375, 0.010986328125, 0.031463623046875, -0.0250244140625, 0.07855224609375, -0.0030612945556640625, 0.06915283203125, -0.026519775390625, -0.0013332366943359375, 0.0237884521484375, -0.020355224609375, -0.006748199462890625, -0.057403564453125, -0.07611083984375, 0.036895751953125, -0.0015583038330078125, -0.0023441314697265625, 0.0035114288330078125, -0.03106689453125, -0.0369873046875, -0.06292724609375, -0.057281494140625, 0.018951416015625, 0.0170745849609375, -0.0150909423828125, -0.01203155517578125, 0.0284576416015625, 0.0291900634765625, 0.0301055908203125, 0.0005879402160644531, -0.00415802001953125, 0.041351318359375, 0.01338958740234375, 0.0548095703125, -0.01189422607421875, -0.00600433349609375, -0.047271728515625, 0.052337646484375, 0.008575439453125, -0.0277557373046875, -0.0081634521484375, -0.0133209228515625, -0.0127410888671875, -0.045989990234375, -0.0037822723388671875, -0.0136260986328125, -0.0214691162109375, -0.001407623291015625, -0.033966064453125, 0.045501708984375, -0.00586700439453125, -0.00786590576171875, -0.016571044921875, 0.007297515869140625, -0.0672607421875, -0.00826263427734375, 0.0310516357421875, 0.01270294189453125, -0.053192138671875, -0.0243072509765625, -0.041473388671875, -0.0265960693359375, -0.01374053955078125, 0.036407470703125, -0.028472900390625, 0.05670166015625, -0.0012645721435546875, -0.0254974365234375, 0.036651611328125, 0.025390625, -0.029052734375, -0.062255859375, -0.01392364501953125, 0.012237548828125, -0.036407470703125, 0.007572174072265625, -0.00222015380859375, 0.030059814453125, -0.0079345703125, 0.0303192138671875, -0.01529693603515625, 0.00850677490234375, 0.04541015625, 0.0738525390625, 0.031097412109375, 0.056121826171875, -0.01119232177734375, -0.00860595703125, 0.00836181640625, -0.04925537109375, 0.01198577880859375, -0.0164337158203125, 0.011077880859375, -0.0176239013671875, -0.03533935546875, -0.0033969879150390625, 0.0135650634765625, -0.049591064453125, 0.0152130126953125, -0.001094818115234375, -0.01474761962890625, 0.0311126708984375], 'title': [-0.01338787842541933, -0.031656067818403244, -0.013031747192144394, -0.029044441878795624, -0.03191986680030823, -0.0007217418169602752, -0.014324369840323925, -0.02502148225903511, -0.01592036336660385, -0.022106487303972244, 0.02543037384748459, -0.0009257750934921205, 0.021948207169771194, 0.002781447023153305, 0.013203217647969723, 0.020747913047671318, 0.03358181193470955, -0.018980450928211212, 0.017147036269307137, -0.019969701766967773, 0.013994619250297546, 0.02756715752184391, 0.002880372339859605, -0.011943570338189602, 0.020985335111618042, 0.0006294116610661149, 0.005114433355629444, -0.026815326884388924, -0.0024401552509516478, -0.0262613445520401, 0.027619918808341026, -0.03337077051401138, -0.0036767201963812113, -0.01865069940686226, -0.013783578760921955, -0.0034722748678177595, 0.010987292975187302, -0.0031573628075420856, 0.00512432586401701, 0.013190028257668018, 0.010162916034460068, 0.010063990950584412, -0.012339270673692226, -0.011402779258787632, -0.028833400458097458, 0.0025671091862022877, 0.025509513914585114, -0.0216448362916708, -0.01772739738225937, 0.012002925388514996, 0.0032496931962668896, 0.03912162408232689, -0.024177320301532745, -0.016118213534355164, -0.016157783567905426, 0.015313622541725636, -0.00877136830240488, -0.01938934065401554, 0.013823148794472218, -0.032737649977207184, 0.013282357715070248, 0.011046648025512695, -0.02957204170525074, 0.00953639019280672, -0.03785537928342819, 0.006466411054134369, -0.011838049627840519, -0.011528084054589272, 0.009813380427658558, 0.005206763278692961, 0.04344795271754265, 0.006825839169323444, 0.005984975025057793, -0.0005288376705721021, 0.0004140432283747941, -0.0034557871986180544, 0.00875158328562975, 0.01993013173341751, 0.0039899833500385284, 0.004121883772313595, 0.02326720952987671, -0.004758302588015795, -0.006113578099757433, 0.0008746637031435966, 0.022739607840776443, -0.004286759067326784, -0.01635563373565674, -0.00766340596601367, -0.027461638674139977, 0.012227156199514866, 0.00667745154350996, 0.00843502301722765, 0.022977028042078018, 0.012490956112742424, -0.009655100293457508, 0.02101171389222145, 0.002954566152766347, 0.019151920452713966, 0.01355934888124466, -0.030152402818202972, -0.006703831721097231, 0.00031553019653074443, -0.015194912441074848, -0.022370286285877228, -0.0012126581277698278, 0.021024905145168304, 0.01258988119661808, 0.005229846108704805, 0.02601073496043682, -0.0003353152424097061, -0.0060476278886199, 0.020616013556718826, 0.00623228820040822, -0.04793256148695946, -0.02018074318766594, -0.01408694963902235, 0.007188565097749233, -0.011211523786187172, -0.002748472150415182, -0.025984354317188263, 0.024137750267982483, 0.022581327706575394, 0.024810442700982094, -0.0012983933556824923, 0.030732763931155205, 0.016395203769207, -0.021855875849723816, -0.013420852832496166, -0.00016683324065525085, -0.005434291437268257, 0.04547921568155289, -0.007076449692249298, 0.020127981901168823, -0.0056123570539057255, -0.029809461906552315, 0.029361002147197723, 0.0012547014048323035, 0.023887140676379204, -0.0245070718228817, -0.017753778025507927, 0.015036631375551224, 0.028437700122594833, -0.007722761482000351, -0.0031293341889977455, -0.011811669915914536, -0.008487782441079617, 0.007900826632976532, 0.024520261213183403, 0.02725059725344181, -0.013440638780593872, 0.016500724479556084, -0.02488958276808262, 0.017978006973862648, 0.005335366353392601, 0.022132866084575653, 0.027804577723145485, -0.0018927690107375383, -0.006904979702085257, -0.007604050915688276, -0.014126519672572613, 0.009200043976306915, 0.01523448247462511, -0.004817657638341188, -0.015247671864926815, 0.027303356677293777, 0.02925548143684864, 0.019178301095962524, 0.004161453805863857, -0.02438836172223091, -0.000647135719191283, -0.014034189283847809, 0.03313335031270981, -0.020444542169570923, 0.032869547605514526, -0.008936244063079357, 0.03031068481504917, 0.003917438443750143, 0.012853682041168213, -0.04067804664373398, -0.019428910687565804, -0.03822470083832741, 0.012438195757567883, 0.022066917270421982, 0.035639453679323196, -0.008514163084328175, 0.02215924672782421, 0.016342444345355034, -0.0020312643609941006, 0.022238386794924736, -0.010373956523835659, 0.010875177569687366, 0.02565460465848446, 0.00540461391210556, -0.013203217647969723, -0.6749073266983032, -0.006733509246259928, 0.004794575273990631, -0.006977524608373642, 0.001281905802898109, 0.006219097878783941, 0.025984354317188263, 0.008342692628502846, -0.010730087757110596, -0.02135465480387211, -0.002949619898572564, 0.014904730953276157, 0.004946260247379541, -0.015603803098201752, -0.0197322815656662, -0.0016528753330931067, 0.006852219346910715, -0.023662909865379333, 0.001434415578842163, -0.0018053851090371609, -0.02423008158802986, 0.026472385972738266, 0.003318940754979849, -0.01979823224246502, 0.016606245189905167, 0.004778087604790926, -0.0014047379372641444, -0.011791884899139404, -0.01731850579380989, 0.01754273660480976, 0.0062850480899214745, 0.02193501591682434, 0.008936244063079357, 0.009859546087682247, 0.04948898404836655, 0.0032299079466611147, -0.01954762078821659, 0.038594022393226624, 0.020998524501919746, 0.021723976358771324, -0.0039932806976139545, 0.009371514432132244, 0.004824252799153328, 0.01623692363500595, -0.02517976239323616, 0.0241905115544796, 0.019362960010766983, 0.002222519600763917, -0.009859546087682247, -0.006159742828458548, 0.009615530259907246, 0.001752624986693263, 0.019402530044317245, 0.010070586577057838, 0.011376398615539074, 0.004942962899804115, 0.03081190586090088, -0.007280895486474037, 0.012293105944991112, 0.01983780227601528, -0.01371762901544571, 0.016724955290555954, 0.0006776376976631582, 0.0032843169756233692, 0.003187040565535426, 0.0369320772588253, -0.00021011302305851132, 0.01824180781841278, -0.003361808368936181, -0.03155054524540901, 0.013262572698295116, 0.0003503601183183491, -0.009114309214055538, -0.001708108582533896, 0.00448131188750267, 0.042893972247838974, 0.019653141498565674, -0.006812649313360453, -0.019785040989518166, 0.021446986123919487, 0.015419142320752144, 0.00039528863271698356, -0.02002246305346489, -0.003368403296917677, 0.021433794870972633, 0.005048483144491911, -0.041970670223236084, -0.0019603678956627846, 0.01278113666921854, -0.0024698327761143446, 0.00024092409876175225, 0.0033090482465922832, -0.010228866711258888, -0.0018729839939624071, -0.003117792773991823, -0.0013462072238326073, -0.02941376157104969, 0.0017180010909214616, 0.014192470349371433, -0.04278844967484474, -0.007709571160376072, 0.012919631786644459, 0.0032513418700546026, 0.00333872577175498, 0.017212986946105957, 0.01846603862941265, -0.0017509761964902282, 0.007920611649751663, 0.02123594470322132, -0.042735688388347626, -0.0018713352037593722, 0.013071317225694656, -0.01648753508925438, -0.021315084770321846, 0.000762136303819716, -0.026696616783738136, 0.031022945418953896, 0.00677967444062233, 0.009622124955058098, -0.01167976949363947, 0.02639324590563774, -0.01887493021786213, 0.013796769082546234, 0.006228990852832794, -0.004253784194588661, 0.009457250125706196, 0.005912430118769407, -0.030099643394351006, -0.0017905462300404906, -0.0003365518059581518, 0.010334386490285397, 0.0032084742560982704, 0.017595497891306877, -0.014574980363249779, 0.00197355798445642, 0.004567047115415335, 0.00270560453645885, -0.0052331434562802315, -0.003144172951579094, -0.0052463337779045105, -0.01623692363500595, 0.011290663853287697, -0.0023775026202201843, 0.00038951801252551377, -0.00241872132755816, -0.017081085592508316, 0.0015918714925646782, -0.007584265898913145, -0.017015136778354645, -0.0015028388006612659, -0.024269651621580124, -0.004144966136664152, -0.007993157021701336, -0.003831702983006835, 0.009028574451804161, -0.0004237296525388956, -0.008098676800727844, -0.009021978825330734, -0.009701265022158623, -0.01569613255560398, 0.0037888356018811464, -0.008098676800727844, -0.002370907459408045, 0.003508547320961952, 0.020352212712168694, -0.01820223778486252, 0.007063259836286306, -0.002560514258220792, -0.03218366950750351, -0.013091102242469788, 0.02833217941224575, -0.011528084054589272, -0.006733509246259928, 0.026287725195288658, -0.01635563373565674, 0.0008491080370731652, -0.009127499535679817, -0.012365651316940784, 0.01078944280743599, -0.006707129068672657, 0.011396183632314205, 0.0032562881242483854, -0.010222271084785461, 0.00155972084030509, 0.01970590092241764, 0.013269168324768543, 0.014706880785524845, 0.015893982723355293, -0.00546726631000638, -0.008111867122352123, -0.012774541974067688, 0.023834379389882088, -0.01024865172803402, 0.007267705164849758, -0.013955049216747284, -0.013104292564094067, 0.002822665963321924, 0.006314725615084171, 0.036589138209819794, 0.01865069940686226, 0.030548105016350746, -0.007419390603899956, 0.021315084770321846, -0.03234194964170456, 0.011224714107811451, -0.04249826818704605, 0.010031016543507576, -0.01858474873006344, 0.010894962586462498, -0.004161453805863857, 0.025746934115886688, 6.661994848400354e-05, 0.006377378478646278, -0.008283337578177452, 0.03408303111791611, 0.03252660855650902, -0.008303122594952583, -0.005154003389179707, -0.016606245189905167, -0.004553857259452343, -0.022330716252326965, 0.0008161329897120595, -0.003163957968354225, 0.004168048966675997, -0.015973122790455818, 0.007874446921050549, 0.021631645038723946, 0.016131404787302017, 0.005236441269516945, -0.02727697789669037, -0.005576084367930889, -0.013486803509294987, 0.0014962437562644482, 0.02432241104543209, -0.0018103313632309437, 0.009338540025055408, 0.0042142136953771114, -0.018835360184311867, 0.037037599831819534, -0.002189544728025794, -0.01063116267323494, 0.005496944300830364, 0.03901610150933266, 0.007722761482000351, -0.0012382138520479202, -0.0004136310308240354, 0.022739607840776443, -0.0029628099873661995, -0.001533340779133141, 0.008533948101103306, -0.021829495206475258, -0.012886657379567623, -0.007973372004926205, 0.017912058159708977, 0.0024714814499020576, -0.027672678232192993, 0.003045247634872794, -9.300000237999484e-05, 0.03250022977590561, 0.03126036748290062, 0.010782848112285137, 0.008474593050777912, 0.008857103995978832, -0.01047288253903389, 0.011673174798488617, 0.01298558246344328, 0.005483753979206085, 0.014838781207799911, 0.007920611649751663, -0.007854661904275417, -0.011620414443314075, 0.006845624651759863, 0.01502344198524952, -0.008237171918153763, -0.020286262035369873, -0.01007718127220869, 0.013955049216747284, 0.014218850061297417, -0.005800314713269472, -0.0018499013967812061, 0.024269651621580124, -0.03690569847822189, 0.015999503433704376, -7.130859012249857e-05, -0.0010164565173909068, -0.015537852421402931, -0.017424026504158974, -0.020668772980570793, 0.0012711889576166868, 0.02432241104543209, -0.019085969775915146, 0.029624802991747856, 0.00565852178260684, -0.026683425530791283, -0.0343732126057148, 0.004108693450689316, 0.018901308998465538, -0.013796769082546234, 0.022554947063326836, 0.009582554921507835, -0.007333655375987291, 0.010420122183859348, -0.017846107482910156, -0.023135308176279068, 0.00324639561586082, -0.012866872362792492, 0.010901558212935925, -0.02693403698503971, 0.007485340815037489, -0.010136536322534084, -0.0025192953180521727, -0.001002442091703415, -0.026657046750187874, -0.001704811118543148, 0.002293416066095233, -0.0005230670212768018, -0.014667310751974583, -0.009213234297931194, 0.04471419379115105, 0.013651678338646889, 0.0126558318734169, -0.010083775967359543, -0.0017031623283401132, -5.842770042363554e-05, 0.07993157207965851, 0.00032583490246906877, 0.013381282798945904, 0.007676596287637949, -0.008863698691129684, -0.009351729415357113, -0.023385919630527496, -0.015893982723355293, -0.010380552150309086, -0.017687827348709106, -0.00013787701027467847, -0.019283819943666458, 0.0186243187636137, 0.007841471582651138, 0.009259399957954884, 0.012926227413117886, 0.018993640318512917, 0.001975206658244133, 0.02326720952987671, 0.006749996915459633, -0.019244249910116196, -0.0027880421839654446, 0.007327060215175152, 0.0013124077813699841, 0.018294569104909897, -0.03600877523422241, 0.009015384130179882, 0.0194157212972641, 0.0029100498650223017, -0.028094759210944176, -0.007960181683301926, -0.01785929687321186, -0.022779177874326706, 0.008303122594952583, 0.01756911724805832, 0.0025984353851526976, -0.008131652139127254, 0.013612108305096626, 0.021143615245819092, -0.016566675156354904, 0.007333655375987291, 0.0006372432108037174, -0.002882021013647318, -0.003828405635431409, 0.002487968886271119, -0.012385436333715916, -0.020193932577967644, 0.0281738992780447, 0.007458960637450218, -0.02664385549724102, 0.03387198969721794, -0.008850508369505405, -0.01919149048626423, 0.00429665157571435, -0.00302051636390388, 0.008606493473052979, -0.005276011303067207, -0.013486803509294987, -0.0028622359968721867, 0.011580844409763813, -0.01700194552540779, -0.03313335031270981, 0.013744008727371693, 0.015524663031101227, -0.01133023388683796, -0.006436733528971672, -0.018597939983010292, -0.01446946058422327, 0.008270147256553173, -0.0004892675788141787, -0.0023857462219893932, 0.006383973639458418, -0.000951330759562552, -0.006228990852832794, 0.010921343229711056, -0.01887493021786213, 0.015511472709476948, -0.004471419379115105, 0.007274300325661898, 0.0061234706081449986, -0.015682943165302277, 0.003140875371173024, -0.0008095379453152418, -0.03753881901502609, 0.00292488862760365, 0.008461402729153633, 0.011594034731388092, 0.00012097728904336691, -0.02155250497162342, -0.0025440265890210867, 0.023135308176279068, -0.010294816456735134, 0.006944549735635519, 0.0055991667322814465, 0.01501025166362524, -0.010571807622909546, 0.014192470349371433, 0.005572786554694176, 0.020998524501919746, 0.021288704127073288, -0.005358448717743158, -0.011989735066890717, -0.0001376709114992991, -0.0050550783053040504, 0.0027715545147657394, -0.010327791795134544, 0.005938809830695391, 0.010532237589359283, -0.011943570338189602, -0.01281411200761795, -0.011950165033340454, -0.013532968237996101, 0.0039570084773004055, -0.014970681630074978, 0.01189080998301506, 0.036430858075618744, 0.007083044853061438, 0.0146409310400486, -0.005447481293231249, -0.01963995210826397, -0.0025984353851526976, -0.030891045928001404, 0.008289932273328304, 0.02727697789669037, 0.0012332675978541374, 0.002420370001345873, 0.006601608823984861, -0.013236192986369133, 0.0004682459984906018, 0.004814360290765762, -0.021407414227724075, 0.014020999893546104, 0.004415361676365137, -0.00419442867860198, -0.02597116492688656, -0.02326720952987671, 0.0029364300426095724, 0.016316063702106476, -0.009655100293457508, 0.005094648338854313, -0.04571663588285446, -0.00770297646522522, 0.01986418105661869, -0.017199795693159103, 0.0019603678956627846, -0.015432332642376423, -0.014746450819075108, -0.00989911612123251, -0.002773203421384096, -0.001411332981660962, -0.023372728377580643, 0.011402779258787632, -0.00843502301722765, -0.020233502611517906, 0.0013692897045984864, -0.03999216482043266, -0.012332675978541374, -0.021156804636120796, 0.015102582052350044, 0.021948207169771194, 0.034716151654720306, -0.012669021263718605, 0.036562755703926086, -0.02520614303648472, -0.0067598894238471985, 0.012312890961766243, 0.009510010480880737, 0.004728625062853098, -0.0014228742802515626, 0.028226658701896667, 0.023438679054379463, -0.002364312531426549, 0.011514894664287567, 0.021750355139374733, 0.031656067818403244, 0.012490956112742424, 0.0018960664747282863, 0.004059230908751488, -0.0007864554063417017, 0.012319485656917095, -0.011079623363912106, 0.004702244885265827, -0.02123594470322132, -0.01370443869382143, -0.007366630714386702, -0.011086218059062958, 0.005243035964667797, 0.0063938661478459835, -0.0019405828788876534, 0.011442349292337894, 0.030891045928001404, -0.023544199764728546, 0.032579369843006134, -0.015221292153000832, 0.01632925495505333, -0.009839761070907116, 0.00578712485730648, 0.0012373895151540637, 0.013506588526070118, -0.0024500477593392134, 0.020616013556718826, 0.00219284207560122, -0.023768430575728416, 0.013730819337069988, -0.010960913263261318, 0.03906886279582977, 0.004365899134427309, -0.010110156610608101, -0.000335109158186242, -0.030231542885303497, -0.01556423306465149, -0.025219332426786423, -0.013434043154120445, -0.05146748945116997, -0.019534431397914886, -0.00639056833460927, -0.0003963191120419651, 0.00858011282980442, -0.02031264267861843, -0.006806054152548313, 0.022897887974977493, -0.010321197099983692, 0.031656067818403244, 0.0042142136953771114, 0.0288070198148489, 0.009589150547981262, -0.0004946260596625507, -0.004524179734289646, -0.006281750742346048, -0.03244746848940849, 0.01077625248581171, 0.005800314713269472, 0.021117234602570534, -0.014535410329699516, -0.008685633540153503, -0.0076238359324634075, -0.021051283925771713, -0.03384561091661453, -0.03698483854532242, 0.009331944398581982, -0.0009414382511749864, 0.0175031665712595, -0.027593538165092468, -0.008652658201754093, -0.03743330016732216, 0.017529547214508057, -0.0031029540114104748, 0.005388126242905855, -0.02076110430061817, -0.05777232348918915, -0.013427448458969593, -0.015893982723355293, -0.001450078678317368, 0.006407056003808975, 0.00492647523060441, -0.030732763931155205, 0.012596476823091507, -0.0241905115544796, 0.012293105944991112, -0.014825590886175632, -0.035824116319417953, 0.026657046750187874, 0.0018630913691595197, 0.014548600651323795, 0.015458712354302406, 0.0005523324362002313, -0.01693599484860897, -0.00916706956923008, 0.009892520494759083, 0.022990219295024872, -0.015828033909201622, -0.003165606642141938, 0.008606493473052979, 0.004046041052788496, 0.01355934888124466, 0.008507568389177322, -0.01601269282400608, -0.024361981078982353, 0.0026627369225025177, -0.005064970813691616, -0.0022736310493201017, -0.006977524608373642, -0.02423008158802986, -0.02304297871887684, -0.011956760659813881, -0.0028309097979217768, -0.015748893842101097, -0.0013964942190796137, 0.011613819748163223, -0.027197837829589844, -0.009371514432132244, 0.0051869782619178295, -0.01896725967526436, 0.002435208996757865, 0.009622124955058098, -0.006806054152548313, 0.0200488418340683, 0.0331069715321064, -0.025192953646183014, -0.005909132305532694, -0.02591840550303459, 0.0003328421153128147, -0.01565656252205372, 0.012359055690467358, 0.0015300431987270713, -0.02231752686202526, 0.005447481293231249, -0.017846107482910156, -0.007834876887500286, -0.007900826632976532, -0.003239800687879324, -0.004722029902040958, 0.006215800531208515, 0.0007893407018855214, 0.001453376142308116, 0.019112350419163704, -0.00782828126102686, -0.01258988119661808, -0.003983388189226389, 0.021433794870972633, -0.003976793494075537, -0.002751769497990608, 0.006291643250733614, -0.012550311163067818, 0.004824252799153328, -0.017265746369957924, 0.0025654605124145746, -0.014865160919725895, -0.017305316403508186, 0.0023066061548888683, -0.020207121968269348, 0.045954056084156036, -0.009147284552454948, -0.01581484265625477, -0.03065362386405468, 0.00060468033188954, -0.014733261428773403, 0.03906886279582977, -0.011376398615539074, -0.004626402165740728, 0.007914016954600811, 0.030864665284752846, 0.022264767438173294, 0.010756467469036579, 0.00974083598703146, 0.005005615763366222, -0.0011054892092943192, -0.001522623817436397, -0.012134825810790062, -0.003098007757216692, -0.004827550146728754, 0.013414258137345314, 0.004543964751064777, -0.004626402165740728, -0.013612108305096626, -0.005909132305532694, -0.01979823224246502, -0.011053243651986122, -0.007267705164849758, 0.017424026504158974, 0.009457250125706196, -0.01043990720063448, -0.004402171820402145, 0.024111371487379074, 0.004092206247150898, -0.022990219295024872, -0.010657542385160923, 0.007340250536799431, 0.020668772980570793, -0.0018564964411780238, 0.01925744116306305, 0.011580844409763813, -0.009450654499232769, -0.0021318383514881134, 0.010960913263261318, 0.02492915280163288, 0.014746450819075108, -0.010195891372859478, -0.002731984481215477, -0.01961357146501541, -0.0098661407828331, -0.012860276736319065, -0.003345320699736476, 0.0059783803299069405, 0.014772831462323666, -0.025760123506188393, 0.0011293961433693767, 0.000331605551764369, 0.013612108305096626, -0.01785929687321186, -0.007531506009399891, 0.02520614303648472, -0.004141668789088726, 0.0009777108207345009, 0.0010560265509411693, -0.019112350419163704, -0.02078748308122158, -0.03268488869071007, 0.01028162706643343, 0.005051780492067337, -0.010855392552912235, 0.007102829869836569, 0.011950165033340454, -0.0032134205102920532, -0.0058233970776200294, -0.008454808034002781, 0.012537121772766113, -0.009259399957954884, -0.0146409310400486, -0.007874446921050549, 0.016659004613757133, -0.013473613187670708, 0.008349287323653698, -0.04080994427204132, 0.02727697789669037, -0.008685633540153503, 0.003541522426530719, -0.023188069462776184, 0.01540595293045044, -0.002220870926976204, -0.0146409310400486, 0.013381282798945904, 0.015419142320752144, 0.017371267080307007, -0.015049821697175503, -0.007795306388288736, -0.008012942038476467, 0.0005910781328566372, 0.00474181491881609, 0.009404489770531654, -0.0037393728271126747, -0.028833400458097458, 0.0029595124069601297, 0.006242180708795786, 0.0004938016645610332, 0.03648361563682556, 0.21473364531993866, -0.004969343077391386, -0.011824860237538815, 0.054131872951984406, 0.015155342407524586, 0.03139226511120796, 0.02148655615746975, 0.004975937772542238, -0.0104267168790102, 0.004026256036013365, -0.013875909149646759, 0.013875909149646759, 0.024269651621580124, -0.0023742050398141146, 0.010736682452261448, -0.028912540525197983, -0.010604782029986382, -0.016896424815058708, -0.03360819071531296, -0.02543037384748459, -0.01063116267323494, -0.01084220316261053, 0.0016767822671681643, -0.018162667751312256, 0.006654369179159403, -0.010242057032883167, -0.007973372004926205, -0.003488762304186821, 0.01855836994946003, 0.011059838347136974, 0.003152416553348303, -0.006420245859771967, 0.00238409754820168, -0.007953586988151073, -0.01204909011721611, 0.017437215894460678, -0.010103560984134674, -0.011785290203988552, -0.0033271845895797014, 0.0013354902621358633, -0.01578846387565136, 0.004247189033776522, -0.008712013252079487, 0.02380800060927868, -0.0034030270762741566, 0.0160786435008049, -0.025456754490733147, 0.02240985631942749, 0.010875177569687366, 0.006865409668534994, -0.03439959138631821, -0.023992661386728287, 0.026788946241140366, 0.0483810231089592, -0.016751335933804512, -0.00200158660300076, -0.0024335600901395082, 0.012161205522716045, -0.020391782745718956, -0.009213234297931194, -0.0013833041302859783, 0.02301659807562828, -0.03571859374642372, 0.00639056833460927, -0.019679522141814232, 0.015049821697175503, -0.02709231711924076, 0.008296527899801731, 0.023438679054379463, -0.0233991090208292, 0.0069379545748233795, -0.030231542885303497, -0.017397645860910416, -0.018888119608163834, -0.013625298626720905, -0.016698574647307396, 0.014337560161948204, 0.014205659739673138, -9.238172060577199e-05, 0.03112846612930298, -0.0008738393662497401, -0.034716151654720306, -0.005806909874081612, -0.016223734244704247, -0.03170882537961006, -0.05307667329907417, 0.023504629731178284, 0.002102160593494773, -0.013084507547318935, 0.01684366539120674, -0.015313622541725636, -0.018518799915909767, -0.009542984887957573, -0.012405221350491047, -0.005111135542392731, -0.019376151263713837, 0.0034953574649989605, 0.018822168931365013, -0.01648753508925438, -0.007201754953712225, -0.027329737320542336, -0.01772739738225937, 0.01754273660480976, -0.016988756135106087, -0.01833413913846016, 0.010050801560282707, 0.011389588937163353, 0.009549580514431, 0.011989735066890717, 0.007683190982788801, 0.018756220117211342, -0.022845128551125526, 0.001854847650974989, 0.0018433063523843884, -0.01884854957461357, 0.020365402102470398, 0.0025737041141837835, -0.002064239466562867, 0.025760123506188393, -0.032421089708805084, 0.010756467469036579, 0.017846107482910156, 0.021315084770321846, -0.014654120430350304, 0.014047379605472088, -0.027962859719991684, -0.015893982723355293, 0.007234730292111635, 0.009444059804081917, -0.042419128119945526, 4.907617949356791e-06, -0.027303356677293777, 0.021156804636120796, -0.010670732706785202, -0.007735951337963343, 0.006839029490947723, 0.016395203769207, 0.004979235585778952, 0.006825839169323444, 0.005866264924407005, -0.009542984887957573, -0.007300680503249168, -0.004233998712152243, 0.02565460465848446, 0.011185143142938614, -0.015748893842101097, 0.01671176590025425, 0.0030353551264852285, 0.009087929502129555, -0.0076700011268258095, 0.0006421894649975002, -0.025324853137135506, 0.007148995064198971, -0.021433794870972633, 0.009002193808555603, -0.026722995564341545, -0.02477087266743183, -0.03476891294121742, -0.02222519740462303, 0.03031068481504917, -0.00502210296690464, 0.008639467880129814, 0.035032715648412704, -0.004144966136664152, -0.02157888561487198, -0.026155825704336166, -0.17020411789417267, 0.02524571307003498, 0.015748893842101097, -0.011976545676589012, 0.014878351241350174, 0.003798728110268712, 0.0018630913691595197, -0.011587439104914665, 0.012583286501467228, 0.0011285718064755201, 0.015076201409101486, -0.005816802382469177, -0.0343732126057148, -0.0018482526065781713, 0.030996564775705338, 0.022871507331728935, -0.00038292299723252654, 0.020391782745718956, 0.009648505598306656, 0.0059322151355445385, 0.033660952001810074, -0.012101850472390652, -0.00029842439107596874, -0.01281411200761795, 0.005872860085219145, -0.014456270262598991, 0.013414258137345314, 0.03891058266162872, -0.00585637241601944, 0.007966776378452778, -0.022212006151676178, -0.008487782441079617, 0.03943818435072899, 0.012688807211816311, 0.020035652443766594, 0.015973122790455818, -0.012299700640141964, -0.029334621503949165, -0.0011648443760350347, 0.011495109647512436, 0.021117234602570534, 0.010941128246486187, 0.01938934065401554, 0.001993343001231551, 0.002707253210246563, 0.018756220117211342, 0.009760621003806591, 0.0015506526688113809, 0.012471171095967293, -0.013625298626720905, -0.00385148823261261, -0.025443563237786293, -0.0016660654218867421, -0.0026478981599211693, 0.008843913674354553, 0.023095738142728806, 0.013216407969594002, 0.0043230317533016205, -0.005144110880792141, -0.025839263573288918, -0.022990219295024872, -0.0020263181068003178, 0.004174643661826849, -0.022238386794924736, -0.009351729415357113, -0.021565696224570274, -0.009958471171557903, 0.003195284167304635, -0.01516853179782629, 0.014205659739673138, -0.017819726839661598, 0.004906690213829279, 0.0071753752417862415, 0.003854785580188036, 0.018030768260359764, -0.0012365650618448853, -0.011547869071364403, 0.019653141498565674, -0.017516357824206352, -0.004286759067326784, -0.025364423170685768, 0.034874431788921356, 0.0021153506822884083, 0.016052264720201492, 0.020642394199967384, -0.0009422625880688429, -0.016091834753751755, 0.003663530107587576, -0.02645919658243656, -0.011376398615539074, 0.02320125885307789, -0.011099408380687237, -0.012893252074718475, -8.795069152256474e-05, 0.017938436940312386, 0.018004387617111206, 0.0017608687048777938, -0.0006211678846739233, 0.01563018374145031, -0.004438444506376982, -0.0012019412824884057, 0.00595200015231967, -0.01078944280743599, 0.024559831246733665, 0.021605266258120537, 0.0372486375272274, 0.0028655335772782564, 0.014113329350948334, 0.0052001685835421085, 0.003637150162830949, -0.0205368734896183, -0.002971053821966052, 0.02069515362381935, 0.018505608662962914, 0.008151437155902386, 0.011613819748163223, 0.004748410079628229, -0.014772831462323666, 0.01925744116306305, 0.010275031439960003, 0.05233803018927574, -0.002436857670545578, -0.021750355139374733, 0.004184536170214415, -0.011765505187213421, -0.009833165444433689, -0.07243963330984116, -0.030600864440202713, 0.018347328528761864, -0.019745470955967903, 0.0005614005494862795, 0.02362333983182907, -0.00016776066331658512, 0.02011479251086712, -0.005127623211592436, 0.013823148794472218, 0.002051049377769232, -0.053340472280979156, -0.003877868177369237, -0.006562038790434599, 0.006271858233958483, -0.0008499324321746826, -0.0012711889576166868, 0.005803612060844898, -0.007749141193926334, 0.015801653265953064, -0.001658646040596068, 0.0055200266651809216, 0.00966169498860836, -0.005609059240669012, -0.01228651124984026, 0.005833289586007595, -0.016184164211153984, 0.04421297460794449, -0.003966900985687971, 0.019653141498565674, 0.00697092991322279, -0.010189296677708626, 0.0018680377397686243, -0.023992661386728287, -0.02180311642587185, -0.01313067227602005, -0.021908635273575783, -0.031154844909906387, 0.002146677114069462, -0.06658326089382172, -0.0013940210919827223, 0.02558865398168564, -0.021658025681972504, -0.03036344423890114, -0.01824180781841278, -0.0005556299001909792, 0.005800314713269472, 0.02161845564842224, 0.008916459046304226, -0.013302142731845379, -0.043184150010347366, -0.028094759210944176, -0.012002925388514996, 0.0034195147454738617, 0.01725255697965622, -0.003630555234849453, 0.014060569927096367, -0.005810207221657038, -0.001658646040596068, 0.009272589348256588, -0.001428644871339202, 0.0001134548510890454, -0.01581484265625477, 0.003221664344891906, -0.008408642373979092, 0.007373225409537554, 0.00916706956923008, -0.013394473120570183, 0.0165534857660532, -0.015300432220101357, -0.03017878346145153, 0.004662674851715565, -0.03716949746012688, 0.0034755722153931856, -0.01948167197406292, -0.01668538525700569, -0.024625781923532486, -0.011996330693364143, 0.034874431788921356, -0.015036631375551224, -0.00404274370521307, -0.016382014378905296, 0.023662909865379333, -0.027171457186341286, 0.027461638674139977, 0.03178796544671059, -0.006097090430557728, 0.005348556209355593, 8.923878340283409e-05, -0.01171274483203888, -0.025127002969384193, 0.013124077580869198, 0.004517584573477507, -0.021381035447120667, -0.005223250947892666, 0.009279184974730015, 0.009213234297931194, 0.023188069462776184, 0.002631410490721464, -0.001227497006766498, -0.002901806030422449, 0.005163895897567272, -0.06188761070370674, 0.020365402102470398, -0.004540666937828064, 0.0006957739824429154, 0.006515873596072197, 0.001154951867647469, 0.01224034558981657, -0.010888367891311646, -0.0028309097979217768, -0.0008219035807996988, -0.01278113666921854, 0.0007547169225290418, -1.1257894584559835e-05, 0.020827053114771843, -0.027989238500595093, -0.0039075459353625774, 0.0085933031514287, 0.004069123417139053, 0.0030633839778602123, -0.015115771442651749, -0.008415238000452518, 0.016500724479556084, 0.008487782441079617, -0.006575228646397591, -0.007946991361677647, -0.014377130195498466, -0.008144842460751534, 0.009925495833158493, -0.028754260390996933, -0.01657986454665661, 0.012167800217866898, -0.02272641845047474, -0.019059590995311737, 0.03097018599510193, -0.00016487535322085023, -0.023451870307326317, -0.010182701051235199, 0.00270560453645885, 0.018123097717761993, 0.01880897954106331, -0.01766144670546055, -0.014034189283847809, 0.021473364904522896, -0.01408694963902235, -0.013236192986369133, 0.007267705164849758, -0.008026132360100746, 0.009846355766057968, -0.0005506836459971964, -0.009892520494759083, -0.011237903498113155, 0.02103809453547001, 0.0018449551425874233, -0.012669021263718605, -9.052686800714582e-05, -0.03178796544671059, 0.04020320624113083, -0.013849529437720776, 0.0009876033291220665, -0.02772543765604496, 0.02699998766183853, 0.011725935153663158, 0.016368824988603592, 0.000567583367228508, 0.010275031439960003, 0.0009752376936376095, 0.013051532208919525, 0.014733261428773403, 0.015669753775000572, -0.04977916553616524, -0.005942107643932104, 0.0023494737688452005, 0.013328523375093937, 0.022462617605924606, 0.00967488531023264, 0.012213965877890587, 0.009186854586005211, -0.010031016543507576, -0.00807229708880186, 0.03141864761710167, 0.031497787684202194, -0.001981801586225629, -0.0439227931201458, 0.010591592639684677, 0.020576443523168564, 0.03790814056992531, 0.0047747902572155, -0.0027765007689595222, -0.0005741784116253257, 0.0019339878344908357, -0.019758662208914757, 0.012022710405290127, 0.009542984887957573, 0.0016776066040620208, -0.007689786143600941, 0.04020320624113083, -0.024876391515135765, -0.0015160287730395794, 0.010657542385160923, 0.028437700122594833, 0.005846479907631874, -0.010505856946110725, -0.0004086847766302526, -0.024203700944781303, -0.01804395765066147, 0.013968239538371563, -0.027461638674139977, -0.01671176590025425, 0.0029446736443787813, 0.008764773607254028, 0.042339988052845, 0.010288221761584282, -0.015366381965577602, 0.003614067565649748, -0.011600629426538944, 0.0183077584952116, -0.0033304819371551275, -0.03221004828810692, -0.025034673511981964, 0.01386271882802248, 0.007914016954600811, 0.011106003075838089, 0.015458712354302406, -0.04236637055873871, 0.016606245189905167, 0.03002050332725048, 0.01696237549185753, -0.02565460465848446, -0.0016100077191367745, 0.0052001685835421085, 0.012246941216289997, -0.012754756957292557, 0.008566923439502716, 0.008012942038476467, 0.015828033909201622, 0.00989911612123251, -0.010195891372859478, 0.04347433149814606, -0.024718111380934715, 0.05560915544629097, -0.0002477251982782036, -0.004095503594726324, 0.001752624986693263, -0.04640251770615578, 0.01187102496623993, 0.01706789620220661, 0.001133518060669303, -0.017054706811904907, -0.0014583223965018988, -0.005391424056142569, 0.015801653265953064, 0.02709231711924076, 0.000567583367228508, -0.03925352171063423, -0.014733261428773403, -0.009404489770531654, 0.0029331324622035027, -0.01532681193202734, -0.020457733422517776, 0.0018977152649313211, 0.0017658149590715766, 0.021829495206475258, -0.006825839169323444, -0.004266974050551653, -0.0168700460344553, 0.02423008158802986, 0.0175031665712595, 0.0011293961433693767, -0.028305798768997192, -0.005144110880792141, -0.007043474819511175, -0.004362601786851883, -0.025166573002934456, 0.02362333983182907, 0.002300010994076729, -0.0018597939051687717, -0.015366381965577602, 0.0005799490609206259, 0.006687344051897526, 0.0024566426873207092, 0.010176106356084347, -0.028226658701896667, -0.03434683382511139, 0.004748410079628229, -0.010868582874536514, -0.004398874472826719, -0.0022357096895575523, -0.029466522857546806]}\n",
      "{\n",
      "  \"overview\": \"Princess Leia is captured and held hostage by the evil Imperial forces in their effort to take over the galactic Empire. Venturesome Luke Skywalker and dashing captain Han Solo team together with the loveable robot duo R2-D2 and C-3PO to rescue the beautiful princess and restore peace and justice in the Empire.\",\n",
      "  \"year\": 1977,\n",
      "  \"title\": \"Star Wars\",\n",
      "  \"popularity\": 250.715\n",
      "}\n",
      "0.16881638765335083\n",
      "{'overview': [-0.0093841552734375, 0.035491943359375, -0.046478271484375, 0.0214996337890625, -0.019805908203125, -0.0574951171875, -0.003353118896484375, -0.059234619140625, -0.030517578125, 0.0048675537109375, 0.017486572265625, -0.01181793212890625, 0.0179443359375, -0.0107879638671875, 0.0027141571044921875, -0.024810791015625, 0.043304443359375, 0.034423828125, 0.06561279296875, -0.016357421875, -0.024566650390625, -0.00881195068359375, 0.0182952880859375, -0.045257568359375, 0.004001617431640625, -0.002849578857421875, 0.033538818359375, 0.018585205078125, 0.04345703125, 0.037994384765625, 0.0036773681640625, -0.0154876708984375, 0.061859130859375, 0.0275726318359375, 0.0136260986328125, 0.01357269287109375, -0.0123291015625, -0.0099029541015625, 0.01120758056640625, 0.058074951171875, 0.0183563232421875, 0.0079803466796875, -0.039947509765625, 0.0059967041015625, -0.10443115234375, 0.01528167724609375, 0.04144287109375, 0.06524658203125, 0.056915283203125, -0.005153656005859375, 0.07025146484375, 0.01523590087890625, -0.022186279296875, 0.021881103515625, -0.0160675048828125, 0.024932861328125, -0.04010009765625, -0.06390380859375, 0.0095367431640625, -0.034637451171875, 0.01515960693359375, 0.0014905929565429688, -0.04766845703125, 0.0394287109375, -0.047760009765625, -0.001739501953125, 0.0179290771484375, 0.049072265625, 0.046234130859375, 0.031097412109375, -0.0133514404296875, 0.0521240234375, 0.0191802978515625, 0.00519561767578125, -0.020843505859375, -0.0157623291015625, -0.00908660888671875, 0.023712158203125, 0.023834228515625, 0.0026874542236328125, 0.00403594970703125, -0.0019311904907226562, 0.048858642578125, 0.0244598388671875, 0.0002321004867553711, -0.0251922607421875, -0.007137298583984375, 0.0168304443359375, 0.0161590576171875, 0.049041748046875, -0.03436279296875, 0.048919677734375, 0.056427001953125, -0.047760009765625, 0.0518798828125, -0.0231170654296875, 0.027496337890625, 0.01537322998046875, -0.0075225830078125, 0.0160064697265625, -0.012054443359375, -0.046966552734375, -0.04315185546875, -0.0181427001953125, -0.003307342529296875, 0.007556915283203125, -0.00513458251953125, -0.0249786376953125, -0.0228729248046875, 0.03125, -0.035919189453125, 0.042388916015625, -0.00823974609375, -0.005401611328125, -0.030853271484375, -0.051605224609375, 0.0016803741455078125, -0.0138397216796875, -0.0256195068359375, -0.049163818359375, -0.032806396484375, 0.07073974609375, -0.005878448486328125, -0.03411865234375, -0.037994384765625, -0.007663726806640625, 0.0311126708984375, 0.0301361083984375, -0.018890380859375, -0.007053375244140625, -0.0226593017578125, 0.01348114013671875, -0.005741119384765625, 0.0183868408203125, 0.0301361083984375, 0.030426025390625, -0.006389617919921875, -0.0034351348876953125, 0.06951904296875, -0.006671905517578125, 0.007030487060546875, -0.023712158203125, 0.0062255859375, -0.022186279296875, -0.0174713134765625, -0.02239990234375, 0.057769775390625, 0.0186920166015625, 0.0092620849609375, -0.0120849609375, -0.01438140869140625, 0.0235137939453125, 0.0362548828125, -0.059539794921875, -0.0189666748046875, 0.00646209716796875, 0.0196380615234375, -0.004116058349609375, 0.033294677734375, -0.01007843017578125, -0.006847381591796875, -0.01165008544921875, 0.0296173095703125, -0.0024356842041015625, 0.04595947265625, -0.053253173828125, 0.016082763671875, 0.005077362060546875, 0.0032253265380859375, -0.0089569091796875, -0.001018524169921875, 0.006313323974609375, 0.007152557373046875, -0.01392364501953125, -0.0391845703125, -0.0309295654296875, 0.0145263671875, 0.0273590087890625, 0.0052337646484375, -0.045989990234375, -0.00032520294189453125, 0.00939178466796875, -0.0260772705078125, -0.0040740966796875, 0.064697265625, 0.01009368896484375, 0.0012989044189453125, 0.0038242340087890625, 0.016845703125, 0.0767822265625, -0.08831787109375, 0.003643035888671875, -0.0149993896484375, -0.026153564453125, -0.0111083984375, 0.023681640625, 0.036376953125, -0.0020160675048828125, -0.006893157958984375, 0.0008702278137207031, -0.0236053466796875, 0.012298583984375, 0.0243682861328125, 0.0545654296875, -0.00260162353515625, 0.0272216796875, 0.0185089111328125, 0.016204833984375, -0.06036376953125, 0.047882080078125, -0.009735107421875, -0.04449462890625, 0.0229034423828125, -0.015106201171875, -0.052825927734375, -0.0017156600952148438, -0.0267181396484375, -0.0156097412109375, 0.00815582275390625, -0.00042247772216796875, 0.0177001953125, -0.01251983642578125, -0.00213623046875, 0.024932861328125, 0.031158447265625, 0.00499725341796875, 0.0025501251220703125, -0.0714111328125, 0.08868408203125, -0.005374908447265625, 0.00033783912658691406, -0.02728271484375, 0.0027923583984375, -0.0149383544921875, 0.0207061767578125, 0.0012140274047851562, 0.049774169921875, 0.0174102783203125, -0.017913818359375, 0.0133514404296875, 0.005031585693359375, -0.0123443603515625, 0.0081787109375, -0.006977081298828125, -0.0189208984375, -0.01021575927734375, -0.01447296142578125, -0.0103607177734375, 0.04449462890625, -0.00531005859375, -0.033416748046875, 0.022064208984375, -0.013916015625, 0.0159454345703125, -0.01456451416015625, -0.0333251953125, -0.0030002593994140625, 0.003997802734375, 0.016448974609375, 0.01198577880859375, -0.012298583984375, -0.0171661376953125, 0.0306396484375, -0.005779266357421875, 0.0182647705078125, 0.024200439453125, -0.047515869140625, 0.017486572265625, 0.00853729248046875, -0.057403564453125, -0.021209716796875, 0.0127716064453125, -0.007076263427734375, 0.0430908203125, 0.02392578125, 0.0216064453125, 0.01505279541015625, 0.0251007080078125, -0.01947021484375, 0.032379150390625, 0.04388427734375, 0.0396728515625, -0.006801605224609375, -0.010406494140625, -0.07965087890625, 0.01165771484375, 0.040802001953125, 0.0117645263671875, -0.00492095947265625, 0.0364990234375, 0.0115509033203125, 0.0024871826171875, -0.01047515869140625, 0.051177978515625, 0.038421630859375, -0.0211029052734375, -0.051300048828125, 0.035186767578125, 0.0018672943115234375, -0.017364501953125, -0.0078887939453125, 0.0289306640625, 0.03778076171875, -0.0240936279296875, 0.03741455078125, 0.0816650390625, -0.002170562744140625, -0.0144195556640625, 0.05938720703125, 0.048980712890625, -0.0167236328125, -0.00460052490234375, -0.0009441375732421875, -0.0192108154296875, -0.0007405281066894531, -0.021148681640625, -0.048004150390625, 0.0243377685546875, 0.0125885009765625, -0.004856109619140625, 0.0086212158203125, -0.048553466796875, -0.049407958984375, -0.04779052734375, -0.00522613525390625, 0.07763671875, 0.00302886962890625, 0.01345062255859375, -0.01666259765625, 0.058502197265625, -0.0034351348876953125, 0.0256195068359375, 0.0216217041015625, 0.054351806640625, 0.0305328369140625, 0.061798095703125, 0.036041259765625, -0.0167236328125, 0.0190887451171875, 0.0350341796875, 0.032318115234375, 0.004974365234375, -0.0258026123046875, -0.0135955810546875, 0.0295867919921875, -0.01373291015625, -0.01387786865234375, -0.046234130859375, -0.03228759765625, -0.0411376953125, 0.0142974853515625, 0.0574951171875, 0.008331298828125, -0.0287628173828125, 0.0136566162109375, -0.0057525634765625, 0.0203094482421875, 0.0207672119140625, -0.002223968505859375, -0.0028324127197265625, 0.03228759765625, -0.002948760986328125, -0.026214599609375, -0.00945281982421875, 0.04742431640625, 0.07232666015625, -0.032501220703125, 0.01062774658203125, 0.022064208984375, 0.006526947021484375, 0.00969696044921875, 0.0026721954345703125, 0.0740966796875, 0.032073974609375, -0.0267791748046875, 0.0269775390625, 0.01277923583984375, -0.01363372802734375, -0.062408447265625, 0.044464111328125, -0.0220184326171875, 0.0074615478515625, -0.052215576171875, 0.01230621337890625, 0.043792724609375, -0.00878143310546875, 0.00432586669921875, 0.0013751983642578125, 0.0816650390625, 0.0247650146484375, 0.045623779296875, -0.020782470703125, 0.024627685546875, -0.025726318359375, 0.0146026611328125, -0.0110626220703125, -0.01140594482421875, 0.01520538330078125, 0.01526641845703125, -0.01439666748046875, -0.06890869140625, -0.0221710205078125, 0.0031604766845703125, -0.0243988037109375, 0.014678955078125, 0.039642333984375, -0.0214080810546875, 0.029754638671875, -0.018402099609375, -0.0172119140625, -0.01284027099609375, 0.033233642578125, 0.0102691650390625, -0.0007867813110351562, -0.015869140625, -0.007434844970703125, 0.0162506103515625, -0.0017957687377929688, -0.00942230224609375, 0.013824462890625, -0.0166778564453125, -0.020233154296875, 0.0367431640625, 0.0203857421875, 0.019012451171875, -0.04241943359375, 0.034271240234375, 0.06707763671875, -0.00376129150390625, -0.03173828125, -0.0112152099609375, -0.0095062255859375, 0.0227203369140625, 0.0289306640625, -0.0273284912109375, 0.0259857177734375, -0.0201873779296875, 0.0780029296875, -0.03466796875, 0.044158935546875, -0.03704833984375, -0.035888671875, 0.061676025390625, -0.04705810546875, 0.034027099609375, -0.01134490966796875, -0.04730224609375, 0.015899658203125, -0.0124664306640625, -0.0002682209014892578, -0.0307769775390625, -0.0023670196533203125, -0.028350830078125, 0.0013990402221679688, 0.0098419189453125, 0.06500244140625, 0.0178985595703125, 0.0255279541015625, -0.05096435546875, 0.00624847412109375, -0.0673828125, 0.0024166107177734375, 0.04071044921875, 0.0020961761474609375, 0.014251708984375, 0.0003390312194824219, -0.02008056640625, 0.0091705322265625, -3.4749507904052734e-05, 0.0100555419921875, -0.0400390625, 0.04052734375, 0.019927978515625, -0.0253448486328125, 0.025177001953125, -0.0012445449829101562, -0.0192718505859375, 0.0036678314208984375, -0.016082763671875, 0.057220458984375, 0.04718017578125, 0.043487548828125, -0.046142578125, -0.01200103759765625, -0.058868408203125, 0.0362548828125, 0.00582122802734375, 0.04656982421875, -0.009521484375, -0.06036376953125, -0.053985595703125, 0.04339599609375, -0.0155029296875, 0.0252685546875, 0.002201080322265625, -0.0189361572265625, 0.0289154052734375, -0.00875091552734375, -0.0135498046875, -0.044097900390625, 0.030914306640625, -0.00024700164794921875, 0.01535797119140625, -0.01180267333984375, -0.003101348876953125, -0.01641845703125, -0.014312744140625, 0.0021038055419921875, 0.0108642578125, 0.01140594482421875, 0.0021762847900390625, -0.0107269287109375, 0.002349853515625, 0.00870513916015625, 0.025970458984375, -0.00872039794921875, 0.034881591796875, -0.07794189453125, -0.0012292861938476562, 0.004100799560546875, -0.0073699951171875, 0.0305328369140625, 0.00795745849609375, -0.0020160675048828125, -0.052276611328125, 0.0006952285766601562, -0.018829345703125, 0.01349639892578125, -0.0770263671875, -0.0401611328125, 0.0323486328125, 0.0197601318359375, 0.01299285888671875, 0.0284881591796875, -0.04327392578125, -0.0190887451171875, 0.0276947021484375, -0.041534423828125, 0.0552978515625, -0.00634002685546875, -0.029022216796875, -0.0229339599609375, -0.0269317626953125, 0.0269927978515625, 0.016204833984375, -0.00424957275390625, 0.005313873291015625, 0.005992889404296875, -0.04498291015625, 0.0020389556884765625, -0.0134124755859375, 0.0160675048828125, -0.0034637451171875, -0.025543212890625, 0.04205322265625, 0.033660888671875, -0.002681732177734375, -0.005435943603515625, -0.0136871337890625, 0.03466796875, 0.11749267578125, 0.014495849609375, 0.01380157470703125, 0.03118896484375, -0.002887725830078125, -0.050201416015625, -0.01045989990234375, 0.010986328125, -0.0013370513916015625, -0.0157318115234375, -0.04547119140625, 0.0124359130859375, -0.01250457763671875, 0.01207733154296875, -0.02264404296875, -0.0308990478515625, 0.032073974609375, 0.006298065185546875, 0.053924560546875, -0.024200439453125, -0.022125244140625, -0.012786865234375, -0.01239776611328125, 0.0035915374755859375, 0.0191802978515625, -0.004367828369140625, -0.0035610198974609375, -0.01220703125, -0.0031719207763671875, -0.0014829635620117188, -0.006504058837890625, -0.01213836669921875, 0.0245208740234375, 0.043548583984375, -0.003650665283203125, 0.0096282958984375, 0.0037841796875, 0.0382080078125, 0.017059326171875, 0.0305328369140625, -0.035308837890625, 0.0016450881958007812, -0.0286712646484375, -0.0266265869140625, 0.017669677734375, 0.01666259765625, 0.034088134765625, -0.0195770263671875, -0.021697998046875, 0.022125244140625, 0.043853759765625, 0.028167724609375, -0.0338134765625, 0.0303955078125, 0.0137481689453125, -0.013275146484375, -0.021087646484375, -0.0213775634765625, 0.01508331298828125, -0.0022411346435546875, -0.027313232421875, -0.060302734375, -0.020416259765625, 0.045166015625, -0.04168701171875, 0.004062652587890625, 0.0947265625, -0.0231781005859375, -0.0645751953125, -0.040679931640625, -0.006465911865234375, -0.054595947265625, -0.039642333984375, 0.0012044906616210938, 0.001705169677734375, -0.043670654296875, 0.00408172607421875, -0.0355224609375, 0.002471923828125, 0.045318603515625, 0.044891357421875, -0.0657958984375, 0.006443023681640625, 0.0081634521484375, 0.03143310546875, 0.046905517578125, 0.0318603515625, -0.038116455078125, 0.007045745849609375, -0.0158843994140625, -0.00823211669921875, 0.01140594482421875, 0.0233001708984375, -0.01204681396484375, -0.002895355224609375, -0.0070343017578125, -0.0004482269287109375, -0.0090179443359375, -0.00676727294921875, 0.01436614990234375, 0.1021728515625, 0.0693359375, 0.00875091552734375, 0.05059814453125, 0.034759521484375, -0.003780364990234375, 0.0149078369140625, -0.0645751953125, -0.0289306640625, -0.03155517578125, -0.00431060791015625, 0.026458740234375, 0.0804443359375, -0.01629638671875, 0.01142120361328125, 0.01363372802734375, -0.0225830078125, 0.0372314453125, -0.0297393798828125, 0.030609130859375, 0.0200042724609375, 0.0285491943359375, -0.02862548828125, -0.04443359375, 0.01556396484375, -0.031036376953125, -0.0055389404296875, -0.0382080078125, -0.061920166015625, -0.02130126953125, -0.0146026611328125, 0.062469482421875, 0.03289794921875, 0.0127716064453125, 0.0272064208984375, 0.0059814453125, 0.024932861328125, 0.052978515625, -0.039947509765625, -0.020843505859375, 0.019927978515625, -0.007495880126953125, -0.0295562744140625, 0.01345062255859375, -0.018280029296875, -0.0186309814453125, 0.0007281303405761719, -0.004207611083984375, 0.03179931640625, 0.043060302734375, 0.051849365234375, -0.0345458984375, 0.022674560546875, -0.017669677734375, -0.004955291748046875, 0.0458984375, 0.020294189453125, -0.006622314453125, -0.032623291015625, 0.05316162109375, -0.0048675537109375, -0.035552978515625, -0.0127410888671875, -0.010589599609375, 0.0338134765625, 0.019805908203125, -0.0068206787109375, -0.0262298583984375, -0.005718231201171875, -0.033721923828125, -0.047332763671875, 0.0276031494140625, -0.0261383056640625, -0.036773681640625, -0.050323486328125, -0.04058837890625, -0.044097900390625, -0.0284576416015625, 0.056182861328125, -0.02142333984375, 0.06243896484375, 0.043853759765625, 0.0179443359375, -0.045379638671875, -0.007373809814453125, 0.004352569580078125, -0.0170135498046875, 0.02685546875, -0.054229736328125, -0.003772735595703125, -0.0102386474609375, 0.0240020751953125, 0.038482666015625, 0.00849151611328125, -0.02069091796875, 0.0140228271484375, -0.0478515625, -0.035430908203125, -0.047149658203125, -0.05389404296875, -0.0263519287109375, 0.033355712890625, -0.00856781005859375, 0.0268707275390625, 0.05035400390625, 0.020599365234375, -0.05462646484375, 0.0187530517578125, 0.01247406005859375, 0.050567626953125, 0.006092071533203125, -0.005817413330078125, 0.006221771240234375, -0.00606536865234375, -0.006061553955078125, 0.003307342529296875, 0.04443359375, 0.0302581787109375, -0.0094757080078125, 0.01251983642578125, 0.02545166015625, -0.005222320556640625, 0.01267242431640625, 0.0284576416015625, 0.025848388671875, 0.022979736328125, 0.045166015625, 0.0246124267578125, 0.056549072265625, 0.0002925395965576172, -0.0249786376953125, -0.01233673095703125, 0.056365966796875, -0.017669677734375, 0.024444580078125, -0.01435089111328125, 0.00806427001953125, -0.004245758056640625, 0.028717041015625, -0.0394287109375, 0.0516357421875, -0.03668212890625, -0.031585693359375, 0.0028362274169921875, -0.024017333984375, -0.0182037353515625, -0.0657958984375, 0.03582763671875, 0.047027587890625, 0.0017538070678710938, 0.033905029296875, 0.02362060546875, 0.017059326171875, 0.000644683837890625, 0.01311492919921875, -0.02838134765625, 0.0141754150390625, 0.01425933837890625, -0.0165557861328125, -0.012451171875, -0.0614013671875, 0.0207977294921875, -0.00972747802734375, -0.055267333984375, -0.058624267578125, -0.007843017578125, 0.021759033203125, -0.03228759765625, -0.06097412109375, -0.0191497802734375, -0.01496124267578125, -0.0111541748046875, -0.018157958984375, -0.0172576904296875, 0.0228729248046875, -0.035736083984375, -0.006763458251953125, 0.032684326171875, 0.01125335693359375, -0.03302001953125, -0.02630615234375, 0.01546478271484375, -0.011322021484375, -0.00923919677734375, 0.039703369140625, -0.0085296630859375, -0.016448974609375, 0.060791015625, -0.042327880859375, -0.0007719993591308594, 0.0007834434509277344, 0.02532958984375, 0.015869140625, -0.0038013458251953125, -0.008941650390625, 0.034210205078125, 0.041748046875, -0.033447265625, -0.0290679931640625, -0.016021728515625, -0.038238525390625, 0.0333251953125, -0.03839111328125, 0.04296875, 0.054840087890625, 0.045928955078125, -0.037750244140625, -0.0015554428100585938, -0.00896453857421875, -0.056610107421875, 0.017791748046875, 0.04693603515625, 0.0291290283203125, -0.06304931640625, 0.05419921875, -0.026458740234375, -0.042510986328125, -0.0089569091796875, -0.035919189453125, 0.049713134765625, 0.038604736328125, -0.05584716796875, 0.0789794921875, -0.00917816162109375, -0.025054931640625, -0.02490234375, -0.00928497314453125, 0.0271148681640625, -0.02581787109375, -0.019317626953125, 0.0004761219024658203, 0.0225372314453125, 0.005931854248046875, 0.00946044921875, -0.01824951171875, 0.03753662109375, 0.06396484375, 0.0259552001953125, -0.07147216796875, -0.045501708984375, -0.062286376953125, -0.0419921875, 0.0775146484375, 0.034637451171875, -0.03857421875, 0.01422882080078125, 0.0167999267578125, -0.0032196044921875, -0.02166748046875, -0.022125244140625, 0.04351806640625, -0.00603485107421875, -0.016204833984375, 0.005779266357421875, 0.04486083984375, -0.01458740234375, -0.056549072265625, 0.0047454833984375, 0.010894775390625, 0.0141448974609375, -0.042816162109375, 0.07672119140625, -0.0233612060546875, 0.004520416259765625, -0.023101806640625, -0.08917236328125, 0.01514434814453125, 0.015167236328125, 0.040679931640625, -0.033416748046875, -0.005496978759765625, 0.042083740234375, -0.005603790283203125, -0.0087127685546875, 0.0292205810546875, -0.0433349609375, 0.00672149658203125, 0.0006613731384277344, 0.061981201171875, 0.001293182373046875, 0.032501220703125, 0.0161590576171875, -0.02972412109375, -0.0261077880859375, 0.0014448165893554688, 0.033477783203125, 0.0080413818359375, -0.0012445449829101562, -0.00208282470703125, -0.00962066650390625, 0.0176239013671875, -0.00370025634765625, 0.01016998291015625, 0.012939453125, -0.0093841552734375, 0.039947509765625, -0.0135040283203125, 0.0191192626953125, -0.004695892333984375, -0.0161895751953125, -0.0009131431579589844, 0.048370361328125, 0.03155517578125, 0.01174163818359375, -0.013702392578125, 0.0171661376953125, -0.00789642333984375, -0.053436279296875, -0.01378631591796875, 0.01165008544921875, 0.024383544921875, 0.047576904296875, 0.0162506103515625, -0.01104736328125, -0.019012451171875, -0.0391845703125, 0.0207366943359375, 0.01776123046875, -0.010009765625, -0.007450103759765625, -0.007228851318359375, 0.017486572265625, 0.005825042724609375, 0.032073974609375, -0.0109710693359375, 0.018035888671875, -0.007381439208984375, 0.038238525390625, -0.0102691650390625, 0.0019741058349609375, 0.0158843994140625, 0.0172576904296875, -0.0374755859375, -0.051544189453125, -0.00521087646484375, 0.0214996337890625, -0.00391387939453125, -0.0015363693237304688, 0.0266265869140625, 0.01293182373046875, 0.05126953125, 0.081298828125, -0.01348876953125, 0.026275634765625, -0.004611968994140625, 0.07000732421875, 0.002567291259765625, 0.03192138671875, -0.0070648193359375, -0.00945281982421875, 0.0119171142578125, -0.0406494140625, 0.018585205078125, -0.022674560546875, 0.031280517578125, -0.030517578125, 0.005035400390625, -0.0019273757934570312, -0.091796875, -0.0171661376953125, 0.0341796875, 0.004070281982421875, 0.01557159423828125, 0.02398681640625], 'title': [-0.015014157630503178, -0.04965312033891678, 0.003645169548690319, -0.04466153681278229, -0.027585066854953766, 0.000887483824044466, -0.030974088236689568, -0.046159010380506516, -0.010245881974697113, -0.005707481410354376, 0.03389022499322891, 0.005369236227124929, 0.020294727757573128, 0.011185087263584137, 0.0045186965726315975, 0.004456301685422659, 0.029108813032507896, -0.012472390197217464, 0.013963297940790653, -0.016143832355737686, -0.0004823281487915665, 0.021976102143526077, -0.004843806382268667, -0.016038745641708374, 0.004942324478179216, -0.002013053046539426, 0.003953859675675631, -0.030711373314261436, 0.007401992566883564, -0.017444269731640816, 0.0236443430185318, -0.006538317538797855, -0.0017125728772953153, -0.020491763949394226, -0.018810387700796127, 0.003347973106428981, 0.01435737032443285, -0.018889201804995537, 0.00476499181240797, -0.00047247635666280985, 0.019545989111065865, -0.00476499181240797, -0.0017240666784346104, -0.020452355965971947, -0.014856528490781784, 0.011592295952141285, 0.011960096657276154, -0.018298093229532242, -0.026718106120824814, 0.015066700056195259, 0.006830587983131409, 0.013950161635875702, -0.008452852256596088, -0.017562491819262505, -0.012958412989974022, 0.01336562167853117, -0.003195270197466016, -0.01315544918179512, 0.010666225105524063, -0.023079505190253258, -0.008295223116874695, 0.01006854884326458, -0.022396447136998177, 0.020912107080221176, -0.02021591179072857, 0.018560808151960373, -0.012610316276550293, 0.0007019414333626628, -0.0006284633418545127, -0.019808704033493996, 0.03861909359693527, 0.005904517602175474, -0.0010623534908518195, -0.003645169548690319, 0.0005340501666069031, -0.021647708490490913, -0.003200195962563157, 0.010587411001324654, -0.01624891720712185, 0.016183238476514816, 0.02280365489423275, -0.019585397094488144, -0.0011173593811690807, 0.0007122037350200117, 0.011815602891147137, 0.0019834975246340036, -0.010777879506349564, 0.00219695339910686, -0.012721969746053219, -0.008459419943392277, -0.004321660380810499, 0.009497144259512424, 0.01905996724963188, 0.029108813032507896, -0.01270226575434208, 0.025693519040942192, -0.003438281361013651, 0.023710021749138832, 0.013411596417427063, -0.04647426679730415, -0.0017125728772953153, 0.01627518981695175, -0.028320668265223503, -0.01994006149470806, 0.003228109562769532, 0.008984849788248539, -0.010692496784031391, -0.006324861664324999, 0.04594883695244789, -0.005503877531737089, 0.0031033200211822987, 0.025601567700505257, 0.03134188801050186, -0.04584375396370888, -0.011428099125623703, -0.015605266205966473, 0.009983167052268982, -0.008321494795382023, 0.0013423090567812324, -0.022107459604740143, -0.0001418250030837953, 0.020649392157793045, 0.01639341004192829, -0.006344565190374851, 0.028741011396050453, 0.021555759012699127, -0.005691061727702618, -0.010495460592210293, 0.0038684771861881018, 0.0030737644992768764, 0.03827756270766258, -0.01609128899872303, 0.029187627136707306, -0.008433149196207523, -0.025338852778077126, 0.033811409026384354, -0.008846924640238285, 0.021096007898449898, -0.019388360902667046, -0.02913508377969265, 0.029923228546977043, 0.04245473071932793, -0.00471901660785079, -0.00038853072328493, -0.023880785331130028, 0.005461186170578003, 0.01096177939325571, 0.0008193421526812017, 0.012570908293128014, -0.009871512651443481, 0.011855010874569416, -0.012393576093018055, 0.010094820521771908, -0.009030825458467007, 0.024997323751449585, 0.017680713906884193, -0.007612164597958326, 0.007277203258126974, 0.0005213249241933227, -0.008663024753332138, 0.009372354485094547, 0.005093385465443134, 0.00663355179131031, -0.01189441792666912, -0.007539918180555105, 0.03491481393575668, 0.006922537926584482, -0.007927422411739826, -0.008420012891292572, -0.0008620333392173052, -0.005477605853229761, 0.03562414273619652, -0.03278682008385658, 0.03299699351191521, -0.025076137855648994, 0.007356017827987671, -0.00888633169233799, 0.005737036932259798, -0.027821509167551994, -0.006344565190374851, -0.006393824238330126, 0.017260370776057243, 0.028767284005880356, 0.027059637010097504, -0.020570578053593636, 0.0016674187500029802, 0.012708834372460842, -0.028530839830636978, 0.019401496276259422, -0.01761503517627716, 0.011277037672698498, 0.03257665038108826, 0.00816386565566063, -0.008387173525989056, -0.6775943040847778, -0.004324944224208593, -0.006584292743355036, -0.0068962667137384415, -0.0038159340620040894, 0.01731291227042675, 0.010456053540110588, -0.010081685148179531, -0.013372189365327358, -0.017930293455719948, -0.003444849280640483, 0.016196373850107193, 0.0022445705253630877, -0.01723409816622734, -0.0244850292801857, 0.0028931479901075363, 0.018705300986766815, -0.010876397602260113, -0.008571074344217777, 0.0045449682511389256, -0.024301130324602127, 0.029660513624548912, -0.016918839886784554, -0.01125076599419117, 0.007526782341301441, 0.019191324710845947, 0.006571156904101372, -0.007178685162216425, -0.01052829995751381, 0.0003177208418492228, -0.014396777376532555, 0.012419847771525383, -0.009713883511722088, -0.0194146316498518, 0.04820818826556206, 0.0019260287517681718, 0.005815851502120495, 0.03699025884270668, 0.007592461071908474, 0.008643320761620998, -0.010745040141046047, -0.0031624308321624994, 0.00635113287717104, 0.01659044623374939, -0.014712035655975342, 0.007671275641769171, 0.018587080761790276, -0.006295306142419577, 0.0044234623201191425, 0.009444600902497768, 0.012938709929585457, 0.011966664344072342, 0.010469188913702965, 0.012807352468371391, 0.006764909252524376, -0.0014260493917390704, 0.026481663808226585, 0.007329746149480343, 0.0003963300841860473, 0.01765444315969944, -0.017877750098705292, 0.01799597218632698, -0.002356224460527301, 0.00558597594499588, 0.0025713222566992044, 0.02665242739021778, 0.010121092200279236, 0.0013661175034940243, -0.004311808384954929, -0.011368988081812859, 0.022251952439546585, 0.01903369463980198, -0.020412947982549667, -0.008676160126924515, -0.0005434915074147284, 0.03223511949181557, 0.037016529589891434, -0.008387173525989056, 0.005572840105742216, 0.0098189702257514, 0.020990921184420586, -0.002863592468202114, -0.021792201325297356, 0.014751442708075047, 0.03691144660115242, -0.006393824238330126, -0.03733178973197937, 0.0015565858921036124, 0.02619267627596855, 0.005697629880160093, -0.0002627149224281311, 0.019388360902667046, -0.021936696022748947, -0.03344360738992691, -0.023710021749138832, 0.0037699590902775526, -0.02845202572643757, 0.015723487362265587, 0.029581699520349503, -0.044976793229579926, -0.01651163212954998, -0.006653255317360163, 0.02558843232691288, 0.010896100662648678, -0.0018242266960442066, 0.013017524033784866, -0.0023036813363432884, 0.007474239449948072, 0.03656991571187973, -0.03806738927960396, 0.015565858222544193, 0.010456053540110588, -0.0019063251093029976, -0.0312630757689476, -0.018481994047760963, -0.03394276648759842, 0.021332450211048126, 0.015684081241488457, 0.008873196318745613, -0.014514999464154243, 0.02897745557129383, -0.007336313836276531, 0.007901150733232498, -0.010232745669782162, 0.007336313836276531, 0.004830670543015003, 0.009365786798298359, -0.029791871085762978, -0.014777714386582375, 0.001968719996511936, -0.00972701981663704, 0.01937522552907467, 0.013398461043834686, -0.020609984174370766, -0.010685929097235203, 0.013674311339855194, 0.009024257771670818, -0.01853453740477562, -0.01659044623374939, 0.0023201010189950466, -0.034573283046483994, 0.005940640810877085, -0.028084224089980125, 0.0003074585401918739, -0.019112510606646538, -0.016498496755957603, 0.00863675307482481, -0.0170896053314209, -0.0024169771932065487, -0.0037666750140488148, -0.016104424372315407, 0.0118221715092659, 0.006121257320046425, -0.0029982340056449175, 0.010213042609393597, -0.024340536445379257, 0.0103378314524889, -0.025654111057519913, -0.003361108945682645, -0.017023926600813866, 0.005063829943537712, 0.001760189887136221, 0.0007454535807482898, -0.0014892651233822107, 0.018889201804995537, -0.015303143300116062, -0.0005853616748936474, -0.0007113827159628272, 0.012301625683903694, -0.016196373850107193, 0.009753291495144367, -0.009103071875870228, -0.017746392637491226, 0.009490576572716236, 0.010061981156468391, -0.007677843328565359, -0.014042112044990063, 0.008071916177868843, 0.0024662362411618233, -0.011434666812419891, 0.0031575048342347145, 0.0038487734273076057, -0.01152004860341549, 0.0023266689386218786, 0.017417998984456062, 0.012137428857386112, 0.04022165387868881, 0.023329084739089012, -0.00943803321570158, 0.018547672778367996, 0.002674766117706895, 0.007842040620744228, -0.013247399590909481, -0.0013677595416083932, -0.012196539901196957, -0.012058614753186703, 0.01332621369510889, -0.0023890638258308172, 0.027847781777381897, 0.017168419435620308, 0.03415293991565704, -0.002845530863851309, 0.019322682172060013, -0.019401496276259422, 0.0024153352715075016, -0.0232239980250597, 0.0012027417542412877, -0.02921389788389206, 0.005559704266488552, -0.0008045644499361515, 0.037962306290864944, -0.01865275949239731, -0.01252493355423212, -0.007513646502047777, 0.040405552834272385, 0.021293044090270996, -0.010311560705304146, 0.013884482905268669, -0.029870685189962387, -0.007257499732077122, -0.0321037620306015, -0.01865275949239731, 0.004364351741969585, 0.015644673258066177, -0.010173634625971317, 0.018022242933511734, 0.002024546731263399, -0.005306841339915991, 0.0064430832862854, -0.032734278589487076, -0.013464139774441719, 0.004807682707905769, -0.0005746888928115368, 0.021555759012699127, 0.020912107080221176, -0.00573046924546361, 0.00608185026794672, 0.0006387256435118616, 0.021476944908499718, 0.006955377291887999, -0.013129177503287792, 0.02547021023929119, 0.02516808919608593, -0.0002631254028528929, 0.0025647543370723724, 0.0019720038399100304, 0.028609653934836388, -0.0036123301833868027, -0.03236647695302963, 0.019992604851722717, -0.023657478392124176, 0.0006120436592027545, -0.011585727334022522, 0.009227861650288105, 0.005904517602175474, -0.014370505698025227, -0.007940558716654778, -0.0018702017841860652, 0.02753252349793911, 0.0029785302467644215, 0.017798935994505882, -0.0078157689422369, -0.0050408425740897655, 0.00022351292136590928, 0.014830256812274456, 0.011559456586837769, 0.0030754064209759235, -0.011178519576787949, 0.0035597870592027903, 0.0039965505711734295, 0.007007920183241367, -0.013313078321516514, 0.02116168662905693, -0.012859894894063473, -0.008754974231123924, -0.002788061974570155, -0.01052829995751381, 0.03641228750348091, 0.0014005989069119096, 0.0004359425511211157, -0.010705633088946342, -0.04156149923801422, 0.020754478871822357, 0.016537904739379883, 0.0003959195746574551, -0.021555759012699127, -0.029371527954936028, 0.0017864614492282271, 0.007664707489311695, 0.0034908244851976633, -0.00202618888579309, 0.018061650916934013, 0.009884648956358433, -0.017759528011083603, -0.03318089246749878, 0.0032297514844685793, 0.014383642002940178, -0.012222811579704285, 0.020583713427186012, 0.0029144936706870794, 0.005904517602175474, 0.018902337178587914, -0.02097778581082821, -0.017588764429092407, 0.020964650437235832, -1.218006855197018e-05, 0.020373541861772537, -0.01498788595199585, 0.0024957917630672455, -0.0038323537446558475, -0.02276424691081047, 0.009017689153552055, -0.0299757719039917, 0.004137760028243065, -0.016695532947778702, -0.018140465021133423, -0.022212546318769455, -0.02059684880077839, 0.0034251457545906305, 0.0017191406805068254, -0.0035991943441331387, -0.026836328208446503, -0.011526617221534252, -0.008439716883003712, 0.08832475543022156, 0.019572261720895767, 0.015933658927679062, 0.01561840157955885, -0.006078566424548626, -0.014002704992890358, -0.038960620760917664, -0.023920193314552307, 0.003930871840566397, -0.013503546826541424, -0.003101677866652608, 0.0012462538434192538, 0.002208447316661477, 0.018481994047760963, 0.023355355486273766, 0.002446532715111971, 0.010534867644309998, 0.010508596897125244, 0.011198223568499088, -0.010876397602260113, 0.002847172785550356, -0.00977956224232912, 0.013286806643009186, 0.009273836389183998, 0.020662527531385422, -0.03494108468294144, 0.020964650437235832, 0.019165052101016045, 0.0008135952521115541, -0.015316279605031013, -0.008124458603560925, -0.01190098561346531, -0.026297762989997864, 0.0011313160648569465, 0.023841379210352898, 0.009786130860447884, 0.008584209717810154, 0.00740856071934104, 0.02013709768652916, -0.009713883511722088, 0.0051656318828463554, -0.0019013992277905345, -0.005582692101597786, -0.03276054933667183, -0.0005381550872698426, -0.011625135317444801, -0.012439550831913948, 0.020491763949394226, 0.02570665441453457, -0.02973932772874832, 0.02550961822271347, -0.002704321639612317, 0.005047410260885954, -0.006561304908245802, 0.02382824197411537, 0.014580678194761276, -0.011073433794081211, -0.004114772193133831, -0.010022574104368687, 0.021227365359663963, -0.005494025535881519, -0.037200432270765305, 0.015145515091717243, -0.0021706819534301758, 0.004994867369532585, -0.033496152609586716, 0.01532941497862339, -0.005093385465443134, 0.014002704992890358, 0.010567707009613514, 0.013194856233894825, -0.011605431325733662, -0.010140795260667801, -0.027585066854953766, -0.005126224830746651, -0.012308193370699883, 0.017877750098705292, -0.02440621517598629, 0.009740155190229416, 0.014265419915318489, -0.03383767977356911, 0.0031722825951874256, 0.009326379746198654, -0.0179565642029047, -0.008400309830904007, -0.009063664823770523, -0.0030885422602295876, -0.012754809111356735, -0.022698568180203438, 0.0034349975176155567, 0.013464139774441719, 0.009674476459622383, -0.020110826939344406, -0.004968595691025257, 0.020386677235364914, 0.00521489093080163, 0.006124541629105806, 0.012387008406221867, 0.018968015909194946, 0.02592996135354042, -0.009976598434150219, -0.03386395424604416, -0.004535116255283356, 0.007165549322962761, -0.020544305443763733, -0.004101636819541454, -0.002523705130442977, 0.016038745641708374, -0.00621649157255888, -0.008295223116874695, -0.0014892651233822107, -0.008360901847481728, 0.0061836522072553635, -0.027164721861481667, 0.022632889449596405, 0.006784612778574228, -0.0040786489844322205, 0.02059684880077839, -0.005569556262344122, -0.007303474470973015, -0.0023184590972959995, -0.020386677235364914, 0.017365455627441406, 0.025181224569678307, 0.005559704266488552, 0.006640119478106499, 0.013779397122561932, -0.0333385244011879, 0.004715732764452696, 0.019769297912716866, 0.0017092889174818993, 0.01289273425936699, -0.006653255317360163, -0.009661341086030006, -0.027059637010097504, -0.02036040648818016, 0.00952998362481594, 0.00890603568404913, -0.0005135255632922053, -0.022829925641417503, -0.030133400112390518, 0.00709330290555954, 0.02558843232691288, -0.0023348787799477577, -0.00846598856151104, -0.020885836333036423, -0.006337997503578663, 0.0034218616783618927, 0.001399777946062386, 0.007224660366773605, -0.013950161635875702, 0.013116042129695415, -0.006475922651588917, 0.0004535937332548201, 0.007855175994336605, -0.04106234014034271, -0.02855711057782173, -0.012492094188928604, 0.010784447193145752, 0.011244198307394981, 0.0337851382791996, -0.010731903836131096, 0.03654364496469498, -0.015815438702702522, -0.0025959517806768417, 0.019624803215265274, 0.0029883822426199913, 0.008360901847481728, -0.02501045912504196, 0.019913790747523308, 0.022278225049376488, 0.015802301466464996, 0.019953196868300438, 0.030212216079235077, 0.005316692870110273, 0.016078153625130653, 0.007599028758704662, 0.003901316551491618, 0.0033249857369810343, 0.0016403262270614505, 0.0063051581382751465, -0.0028488149400800467, -0.030842730775475502, -0.013963297940790653, -0.003730551805347204, -0.021135414019227028, 0.013569225557148457, 0.014672627672553062, -0.0018866214668378234, -0.0067583411000669, 0.02795286662876606, -0.0024974336847662926, 0.03039611503481865, -0.0118221715092659, 0.0032297514844685793, 0.004498993046581745, 0.014725171029567719, 0.00025019492022693157, 0.0007364227203652263, 0.009017689153552055, 0.007638436276465654, 0.0012651365250349045, -0.008892900310456753, -0.0001932391314767301, -0.012104589492082596, 0.03352242335677147, 0.014042112044990063, -0.005306841339915991, 0.0010089895222336054, -0.013621767982840538, -0.000924428110010922, -0.031630877405405045, -0.012590612284839153, -0.03549278527498245, -0.01127046998590231, 0.00032941988320089877, 0.0011247482616454363, 0.017759528011083603, -0.003799514379352331, -0.03554532676935196, 0.01372685469686985, -0.01781207136809826, 0.020990921184420586, 0.01949344575405121, 0.036858901381492615, 0.017326049506664276, -0.013582360930740833, -0.012235946953296661, 0.019743025302886963, -0.033574964851140976, 0.007467671297490597, 0.011979799717664719, 0.015487044118344784, 0.02032099850475788, -0.0206756629049778, -0.0020491762552410364, -0.015342551283538342, -0.012919005937874317, -0.048864975571632385, 0.004781411495059729, 0.013582360930740833, 0.029844414442777634, -0.022908739745616913, -0.01290587056428194, -0.023092640563845634, 0.024419350549578667, 0.0006879846914671361, -0.011966664344072342, -0.008663024753332138, -0.041508957743644714, -0.017825206741690636, -0.01875784434378147, -0.0058552585542202, -0.0074873752892017365, -0.0019917073659598827, -0.012689130380749702, 0.01662985421717167, -0.010554571636021137, 0.016984518617391586, 0.0026468527503311634, -0.009641637094318867, 0.04114115610718727, -0.013418164104223251, 0.014291691593825817, 0.018363771960139275, -0.005237878765910864, -0.011684245429933071, -0.019112510606646538, -0.002351298462599516, 0.026665564626455307, -0.028924912214279175, 0.018587080761790276, -0.017444269731640816, -0.0016468941466882825, 0.008531667292118073, -0.009792698547244072, -0.012564340606331825, -0.02821558155119419, 0.004781411495059729, -0.002254422288388014, 0.009385489858686924, 0.002374286064878106, -0.01452813483774662, -0.006295306142419577, -0.016695532947778702, 0.0062920222990214825, -0.009188453666865826, 0.004055661614984274, 0.010193338617682457, -0.022173138335347176, 0.005914369598031044, -0.000718361116014421, 0.004288821015506983, 0.013221127912402153, 0.010245881974697113, -0.003205121960490942, 0.016340868547558784, 0.014777714386582375, -0.013122609816491604, 0.010383807122707367, -0.008879764005541801, 0.018468858674168587, -0.018626486882567406, 0.004991583526134491, 0.008314927108585835, -0.015276872552931309, 0.01627518981695175, -0.03081646002829075, 0.008945442736148834, -0.004879929590970278, -0.012492094188928604, -0.01571035198867321, -0.010817286558449268, -0.019322682172060013, -0.007947126403450966, 0.03299699351191521, -0.007658139802515507, -0.029713056981563568, 0.004636918194591999, 0.018823523074388504, -0.03691144660115242, 0.022514667361974716, -0.009983167052268982, 8.171357876562979e-06, -0.0010237671667709947, -0.01567094400525093, 0.00817700196057558, -0.014856528490781784, -0.016025610268115997, 0.0070735989138484, -0.011290173046290874, 0.02310577593743801, 0.0034087260719388723, -0.019926926121115685, -0.024892238900065422, 0.0037502553313970566, -0.01971675455570221, 0.04240218549966812, -0.022448988631367683, -0.015802301466464996, 0.020045148208737373, 0.025522753596305847, 0.016485361382365227, 0.01875784434378147, -0.018889201804995537, -0.01975616067647934, -0.005983332172036171, -0.020912107080221176, -0.0056056794710457325, -0.0060884179547429085, 0.005241162609308958, 0.013542953878641129, 0.009162182919681072, -0.00015875780081842095, -0.02376256324350834, -0.0041870190761983395, -0.02296128310263157, -0.016682397574186325, 0.004137760028243065, 0.02436680905520916, 0.014291691593825817, -0.020071418955922127, -0.005375803913921118, 0.0001620417315280065, -0.0028849381487816572, 0.007553054019808769, -0.03008085861802101, -0.009484007954597473, 0.02261975407600403, 0.003295430215075612, 0.003293788293376565, 0.02268543280661106, 0.0009375638328492641, -0.00627231877297163, 0.012919005937874317, 0.012781080789864063, 0.00388489686883986, 0.02250153198838234, -0.017207827419042587, -0.028425753116607666, -0.017181554809212685, -0.009221293032169342, 0.0034711207263171673, -0.011500345543026924, 0.00127252540551126, -0.027138451114296913, 0.012150565162301064, -0.012616883963346481, 0.018560808151960373, -0.014042112044990063, 0.007316610310226679, 0.021529486402869225, 0.010213042609393597, 0.012032343074679375, -0.0012520008021965623, -0.016656124964356422, 0.003540083533152938, -0.03875045105814934, -0.0015319563681259751, 0.005572840105742216, -0.006009603850543499, 0.019046831876039505, 0.0006140961195342243, -0.009891216643154621, 0.004334796220064163, 0.010134227573871613, -0.008019372820854187, -0.006929106079041958, 0.010830421932041645, -0.010272152721881866, 0.017365455627441406, -0.0004987478605471551, 0.01627518981695175, -0.03743687644600868, 0.01142153050750494, -0.005930789280682802, 0.01997946947813034, -0.0015114317648112774, -0.0007208240567706525, 0.003272442612797022, -0.017969699576497078, 0.013102906756103039, 0.0013521608198061585, 0.003290504217147827, -0.005989899858832359, -0.0007376542198471725, -0.00757932523265481, 0.0008825579425320029, 0.010896100662648678, 0.00892573967576027, 0.0018258686177432537, -0.027979139238595963, 0.0018899054266512394, -0.0017897454090416431, -0.009444600902497768, 0.015552722848951817, 0.20292100310325623, -0.001929312595166266, -0.005346248392015696, 0.0392758809030056, -0.004351215902715921, 0.010692496784031391, 0.01823241449892521, 0.0019128929125145078, 0.006446367129683495, 0.00816386565566063, 0.0018390044569969177, 0.011743356473743916, 0.005021138582378626, -0.00020822208898607641, 0.009786130860447884, -0.024563845247030258, -0.01791715808212757, -0.0068831308744847775, -0.021595165133476257, -0.028741011396050453, -0.0010196622461080551, -0.0028340371791273355, -0.018784116953611374, -0.016485361382365227, 0.01990065537393093, -0.002788061974570155, -0.0051229409873485565, 0.002540124813094735, 0.008295223116874695, 0.0208989717066288, -0.015697216615080833, -0.03683263063430786, 0.009602230042219162, -0.004725584294646978, 0.0011477357475087047, 0.02642912045121193, -0.01887606643140316, -0.005602395627647638, 0.0015409871703013778, 0.008866628631949425, -0.022632889449596405, 0.016958247870206833, 0.005608963314443827, 0.0009556254954077303, 0.007572757545858622, 0.012721969746053219, -0.011960096657276154, 1.0255886991217267e-05, 0.00888633169233799, 0.008124458603560925, -0.03607075661420822, 0.0018242266960442066, 0.015368822030723095, 0.02406468614935875, -0.018744708970189095, 0.007966829463839531, 0.0030754064209759235, -0.0005545747699216008, -0.00467304140329361, -0.0030983940232545137, 0.01670866832137108, 0.02494478039443493, -0.03312835097312927, 0.007257499732077122, -0.010508596897125244, 0.026796922087669373, -0.015211193822324276, -0.004663189873099327, 0.008459419943392277, -0.02939779870212078, -0.010653089731931686, -0.022317631170153618, -0.018179873004555702, -0.02424858696758747, 0.011493777856230736, -0.03047492913901806, 1.1076871487603057e-05, 0.038540277630090714, 0.02410409413278103, 0.028057953342795372, -0.023696884512901306, -0.013713718391954899, -0.0017848194111138582, 0.004183735232800245, -0.025562161579728127, -0.0312368031591177, 0.015487044118344784, 0.0006099911988712847, -0.013168585486710072, 0.001636221306398511, -0.008124458603560925, -0.02261975407600403, -0.005444766487926245, 0.010646522045135498, 0.0025811740197241306, 0.003280652454122901, 0.0007483270019292831, 0.030974088236689568, -0.011093136854469776, -0.024879101663827896, -0.038461461663246155, -0.025141816586256027, 0.028189310804009438, -0.014514999464154243, -0.012630019336938858, 0.004827386699616909, 0.008242680691182613, 0.018928609788417816, 0.002127990825101733, 0.009017689153552055, 0.0044234623201191425, -0.023591799661517143, 0.009904352016746998, -0.0009219651692546904, -0.004581091459840536, 0.0061705163680016994, 0.014882800169289112, -0.018862931057810783, 0.02931898459792137, -0.0329444520175457, 0.004150895867496729, 0.0032757266890257597, 0.02390705794095993, 0.002584457863122225, 8.435611380264163e-05, -0.01673494093120098, -0.026363441720604897, 0.003917736001312733, 0.02200237475335598, -0.01578916609287262, 0.0012052046367898583, -0.022698568180203438, 0.031630877405405045, -0.0063741207122802734, 0.002359508303925395, 0.012052047066390514, 0.01620951108634472, 0.02055744268000126, -0.002103361301124096, 3.5276661947136745e-05, -0.002615655306726694, 0.008814085274934769, -0.0007774719269946218, 0.011283605359494686, -0.004311808384954929, -0.02200237475335598, 0.030947817489504814, 0.014803985133767128, 0.004003118723630905, -0.016340868547558784, -0.01624891720712185, -0.017247233539819717, -0.009083367884159088, -0.007461103610694408, 0.023972736671566963, -0.02769015170633793, -0.04087844118475914, -0.03738433122634888, -0.011730221100151539, 0.005776443984359503, -0.009300108067691326, -0.011027458123862743, 0.018403179943561554, -0.02501045912504196, -0.02078074961900711, -0.0050835334695875645, -0.1689782291650772, 0.0062920222990214825, 0.0008160581928677857, -0.017785800620913506, 0.01715528406202793, -0.022107459604740143, 0.005195187404751778, -0.017142148688435555, -0.010272152721881866, 0.001096834777854383, 0.007526782341301441, 0.002260990208014846, -0.02550961822271347, -0.01853453740477562, 0.024931645020842552, 0.018127329647541046, -0.011736788786947727, 0.010593978688120842, -0.018048515543341637, -0.001224087318405509, 0.0422445572912693, 0.010396942496299744, 0.0020524603314697742, -0.00745453592389822, 0.019362088292837143, 0.0012708833673968911, -0.014212876558303833, 0.038960620760917664, -0.001778251607902348, 0.011493777856230736, -0.0341792106628418, -0.013542953878641129, 0.008952010422945023, 0.01270226575434208, 0.03793603181838989, 0.0009901068406179547, -0.019506582990288734, -0.014725171029567719, 0.005126224830746651, 0.0012166984379291534, 0.010705633088946342, 0.02444562315940857, 0.009339515119791031, -0.009444600902497768, 0.001760189887136221, 0.008433149196207523, 0.013372189365327358, 0.011434666812419891, 0.01975616067647934, -0.015290007926523685, -0.0005631950916722417, -0.04206065833568573, -0.012465822510421276, -0.02292187698185444, 0.0234210342168808, 0.03360123932361603, -0.0004745288169942796, 0.01647222600877285, 0.0028504568617790937, -0.0056615062057971954, -0.032734278589487076, -0.012216243892908096, 0.004925904795527458, -0.013024091720581055, -0.02284306101500988, -0.01967734657227993, -0.009569390676915646, -0.0009334589121863246, -0.020465491339564323, 0.008741838857531548, -0.018902337178587914, -0.0008181106531992555, 0.0043282280676066875, -0.009103071875870228, 0.0071195741184055805, 0.01134271640330553, -0.027007093653082848, 0.01613069511950016, -0.019467175006866455, -0.007539918180555105, -0.009319811128079891, 0.011257333680987358, -0.006400391925126314, 0.02288246899843216, 0.013700583018362522, 0.0001586551807122305, -0.015605266205966473, 0.000969582237303257, -0.012295057997107506, -0.009149046614766121, 0.004364351741969585, -0.008052212186157703, -0.015421365387737751, -0.009089936502277851, 0.016222646459937096, 0.02623208425939083, 0.0117105171084404, -0.0005184514448046684, 0.02695455029606819, 0.011664542369544506, -0.0013505188981071115, 0.012301625683903694, -0.013608632609248161, 0.015802301466464996, 0.0066236997954547405, 0.024182908236980438, 0.009116207249462605, 0.03257665038108826, 0.010745040141046047, -0.00762530043721199, -0.015106108039617538, -0.016682397574186325, 0.01655104011297226, 0.02414350025355816, -0.011546320281922817, 0.006492342334240675, 0.0069422414526343346, -0.01098148338496685, 0.004016254097223282, 0.007165549322962761, 0.039407238364219666, 0.00672221789136529, 0.0030803324189037085, -0.008722134865820408, -0.014633220620453358, -0.015565858222544193, -0.08858747035264969, -0.009280404075980186, -0.0026780501939356327, -0.0012602106435224414, -0.01226221863180399, 0.02726980857551098, -0.013116042129695415, 0.020807020366191864, -0.016196373850107193, 0.02619267627596855, 0.002696111798286438, -0.029713056981563568, -0.0016321163857355714, -0.015946796163916588, 0.015211193822324276, -0.01613069511950016, 0.0014186605112627149, -0.009930623695254326, -0.02570665441453457, 0.014042112044990063, 9.037238669407088e-06, 0.02208118885755539, -0.0005566272302530706, 0.00421329028904438, -0.028399482369422913, -0.0013776113046333194, -0.017142148688435555, 0.02539139613509178, 0.017759528011083603, 0.0007947126287035644, 0.01090923696756363, -0.014475591480731964, 0.014278555288910866, -0.02795286662876606, -0.008039076812565327, 0.00403267377987504, -0.014777714386582375, -0.020570578053593636, -0.0016280114650726318, -0.03565041348338127, -0.01081071887165308, 0.024682065472006798, -0.010370670817792416, -0.0232239980250597, -0.004170599393546581, -0.021831609308719635, 0.00079389160964638, 0.030212216079235077, 0.018009107559919357, -0.03667500242590904, -0.02619267627596855, -0.017904020845890045, -0.030895274132490158, 0.009687612764537334, 0.01951971836388111, 0.0017355603631585836, -0.005392223596572876, 0.0006448830245062709, -0.0061836522072553635, 0.01270226575434208, -0.018889201804995537, -0.013464139774441719, -0.004239561967551708, 0.012439550831913948, -0.0012281922390684485, -0.010745040141046047, 0.010534867644309998, -0.019112510606646538, 0.0008357618353329599, -0.02673124335706234, -0.0375945046544075, 0.016721803694963455, -0.025365125387907028, 0.009398626163601875, 0.001563974772579968, -0.006909402087330818, -0.02540453150868416, 0.0004831491387449205, 0.0354665145277977, -0.03977503627538681, -0.011789332143962383, -0.01677434705197811, 0.006778044626116753, -0.033811409026384354, 0.03375886753201485, 0.015224329195916653, 0.01071876846253872, -0.0019867816008627415, 0.005352816544473171, -0.026875736191868782, -0.016642989590764046, 0.017326049506664276, 0.021792201325297356, -0.009766426868736744, -0.010442918166518211, -0.004676325246691704, 0.01597306691110134, 0.00019949913257732987, 0.010725336149334908, 0.01460694894194603, -0.00890603568404913, -0.008932307362556458, -0.061790548264980316, 0.0135166822001338, -0.01332621369510889, 0.0035696388222277164, 0.0033052819781005383, -0.012275354005396366, 0.015342551283538342, -0.012636587023735046, -0.006186936050653458, 0.008360901847481728, -0.016419682651758194, 0.0036878606770187616, 0.0049062008038163185, 0.0061146896332502365, -0.016826890408992767, -0.0010910879354923964, 0.007447967771440744, 0.015802301466464996, -0.0030721225775778294, 0.008019372820854187, -0.003963711205869913, 0.01647222600877285, 0.0029818143229931593, 0.014974750578403473, -0.004331512376666069, 0.013753125444054604, -0.005369236227124929, 0.020189641043543816, -0.026928279548883438, -0.013569225557148457, 0.018127329647541046, -0.005750172771513462, -0.003454701043665409, 0.01827182248234749, -0.005300273187458515, -0.03696398809552193, -0.013352485373616219, 0.007717250380665064, 0.007881447672843933, 0.026796922087669373, -0.008091619238257408, -0.020373541861772537, 0.017601899802684784, -0.017943428829312325, -0.020032012835144997, 0.010167066939175129, -0.005467754323035479, -0.0038225019816309214, 0.0007766509661450982, -0.001853782101534307, 0.030685102567076683, 0.003993266727775335, -0.0219629667699337, -0.005835555028170347, -0.007651571650058031, -0.036701273173093796, 0.03859281912446022, -0.001426870352588594, -0.0010385449277237058, -0.005047410260885954, 0.03470464050769806, 0.0035138120874762535, -0.012393576093018055, 0.0021312746684998274, -0.0015869622584432364, 0.013339350000023842, 0.016682397574186325, 0.003480972722172737, 0.027558794245123863, -0.03930215165019035, -0.011434666812419891, -0.007566189393401146, 0.018705300986766815, 0.01757562719285488, 0.008406877517700195, 0.0008743481012061238, 0.021871017292141914, -0.01216370053589344, -0.009129343554377556, -4.3460844608489424e-05, 0.039827581495046616, 0.00245474255643785, -0.018665894865989685, 0.010836990550160408, 0.014856528490781784, 0.0359131284058094, -0.009030825458467007, 0.0002214604610344395, 0.008131026290357113, 0.003618897870182991, -0.011053729802370071, 0.014081519097089767, 0.0409572534263134, 0.013234264217317104, 0.0034776886459439993, 0.030133400112390518, -0.009162182919681072, 0.004640202037990093, 0.027742695063352585, 0.007901150733232498, 0.01925700344145298, -0.010377239435911179, -0.004502276889979839, -0.014895935542881489, -0.009503711946308613, 0.01134271640330553, -0.02939779870212078, -0.03160460293292999, -0.006200071889907122, 0.01785147935152054, 0.02661302126944065, 0.01515865046530962, -0.00951684731990099, 0.011690814048051834, -0.027348622679710388, 0.02581174112856388, 0.005743604619055986, -0.0046139308251440525, -0.005503877531737089, 0.0312368031591177, 0.020386677235364914, 0.032471563667058945, 0.005920937284827232, -0.03278682008385658, 0.03733178973197937, 0.016761211678385735, 0.015066700056195259, -0.0346258245408535, 0.001187143032439053, -0.006738637574017048, -0.0011501987464725971, -0.004804398864507675, -4.307600829633884e-05, 0.00694880960509181, -0.014291691593825817, 0.026074456050992012, -0.01363490428775549, 0.03851400688290596, -0.014856528490781784, 0.06720247864723206, 0.015986202284693718, -0.00236443430185318, 0.01823241449892521, -0.021792201325297356, 0.006548169068992138, 0.024892238900065422, 0.02184474468231201, -0.027138451114296913, 0.0018160168547183275, 0.02180533856153488, 0.0001728171482682228, 0.03081646002829075, 0.008091619238257408, -0.026823192834854126, -0.006203355733305216, 0.00022063948563300073, -0.001460530678741634, -0.02017650566995144, -0.017720121890306473, -0.0028849381487816572, -0.0012766303261741996, 0.014593813568353653, 0.006856859195977449, -0.023013826459646225, -0.0011058655800297856, 0.04171912744641304, 0.0033184178173542023, -0.010462621226906776, -0.02512868121266365, -0.011099705472588539, -0.007664707489311695, 0.0004675504460465163, -0.009759859181940556, 0.03362751007080078, -0.04169285669922829, -0.006324861664324999, -0.030369844287633896, -0.02162143774330616, 0.022278225049376488, 0.012958412989974022, 0.014738306403160095, -0.01791715808212757, -0.02939779870212078, 0.03149951994419098, -0.015066700056195259, -0.007717250380665064, -0.009083367884159088, -0.03696398809552193]}\n",
      "{\n",
      "  \"overview\": \"During its return to the earth, commercial spaceship Nostromo intercepts a distress signal from a distant planet. When a three-member team of the crew discovers a chamber containing thousands of eggs on the planet, a creature inside one of the eggs attacks an explorer. The entire crew is unaware of the impending nightmare set to descend upon them when the alien parasite planted inside its unfortunate host is birthed.\",\n",
      "  \"year\": 1979,\n",
      "  \"title\": \"Alien\",\n",
      "  \"popularity\": 302.104\n",
      "}\n"
     ]
    }
   ],
   "source": [
    "response = movies.query.near_text(\n",
    "    query=\"galaxy\",\n",
    "    limit=3,\n",
    "    target_vector=\"title\",\n",
    "    include_vector=True,\n",
    "    return_metadata=wq.MetadataQuery(distance=True)\n",
    ")\n",
    "\n",
    "for o in response.objects:\n",
    "    print(o.metadata.distance)\n",
    "    print(o.vector)\n",
    "    print(json.dumps(o.properties, indent=2))"
   ]
  },
  {
   "cell_type": "markdown",
   "id": "f4097db1-76b0-459c-b5c3-2ee1e0f90abe",
   "metadata": {},
   "source": [
    "These vector representations come from deep learning models to those that power LLMs. They capture meaning, and are called vector \"embeddings\"."
   ]
  },
  {
   "cell_type": "markdown",
   "id": "9a055536-649b-4840-8443-c7f15c4f961c",
   "metadata": {},
   "source": [
    "### Generative search"
   ]
  },
  {
   "cell_type": "markdown",
   "id": "f8bbeb19-3d05-47f4-960f-6f8e9e5dfcc8",
   "metadata": {},
   "source": [
    "A generative search transforms your data at retrieval time. "
   ]
  },
  {
   "cell_type": "code",
   "execution_count": 18,
   "id": "6eb0d7a5-d31b-4b5a-a7d8-96719947a69e",
   "metadata": {
    "executionCancelledAt": null,
    "executionTime": 4342,
    "lastExecutedAt": 1692032197507,
    "lastScheduledRunId": null,
    "lastSuccessfullyExecutedCode": "response = (\n    client.query\n    .get(\"Question\", [\"question\", \"answer\"])\n    .with_near_text({\"concepts\": [\"history\"]})\n    .with_generate(single_prompt=\"Write a tweet about {question} as an interesting factoid.\")\n    .with_limit(3)\n    .do()\n)\n\njprint(response)",
    "outputsMetadata": {
     "0": {
      "height": 616,
      "type": "stream"
     }
    }
   },
   "outputs": [
    {
     "name": "stdout",
     "output_type": "stream",
     "text": [
      "This group of movies seems to largely appeal to fans of science fiction and space operas. The collection includes beloved classics like Star Wars: A New Hope, which has a broad appeal due to its iconic status in popular culture, spanning multiple generations of fans. Alien, Interstellar, and Galaxy Quest also fit within the science fiction genre, attracting fans of thrilling and imaginative storytelling set in outer space.\n",
      " \n",
      "The Star Wars sequel, The Rise of Skywalker, could also entice fans of fantasy and action-adventure movies, as it combines elements of both genres and continues a well-known and loved story. The cast of characters also offers a wide range of appeals, with a mix of iconic and new heroes, villains, and quirky supporting roles.\n",
      "\n",
      "In addition, these movies could appeal to specific fanbases. For example, the presence of Tim Allen and Sigourney Weaver in Galaxy Quest could attract fans of their respective bodies of work. Similarly, the iconic nature of the Star Wars franchise, and its cultural influence, could draw viewers who are interested in iconic, classic films. \n",
      "\n",
      "The collection might also appeal to those fascinated by space exploration, space travel, and the potential future of humanity's expansion into the cosmos. Interstellar, in particular, touches on this topic with its interstellar voyage narrative. \n",
      "\n",
      "Overall, this group of movies is likely to be well-received by a diverse audience, with a primary demographic being enthusiasts of science fiction, space opera, and fantasy adventure.\n",
      "\"Prepare for an intergalactic adventure like no other! Join the crew of the NSEA Protector in #GalaxyQuest, a hilarious and thrilling comedy that will take you to the edges of the universe! #sciFi #Comedy\"\n",
      "\n",
      "Don't miss out on this epic adventure!\n",
      "{\n",
      "  \"overview\": \"For four years, the courageous crew of the NSEA protector - \\\"Commander Peter Quincy Taggart\\\" (Tim Allen), \\\"Lt. Tawny Madison (Sigourney Weaver) and \\\"Dr.Lazarus\\\" (Alan Rickman) - set off on a thrilling and often dangerous mission in space...and then their series was cancelled! Now, twenty years later, aliens under attack have mistaken the Galaxy Quest television transmissions for \\\"historical documents\\\" and beam up the crew of has-been actors to save the universe. With no script, no director and no clue, the actors must turn in the performances of their lives.\",\n",
      "  \"year\": 1999,\n",
      "  \"title\": \"Galaxy Quest\",\n",
      "  \"popularity\": 62.01\n",
      "}\n",
      "\"A galaxy-hopping adventure awaits! Join Luke Skywalker, Han Solo & the lovable droids on a daring mission to save the galaxy's princess! #StarWars is a thrilling rescue mission to remember! #SpaceEpics\"\n",
      "{\n",
      "  \"title\": \"Star Wars\",\n",
      "  \"overview\": \"Princess Leia is captured and held hostage by the evil Imperial forces in their effort to take over the galactic Empire. Venturesome Luke Skywalker and dashing captain Han Solo team together with the loveable robot duo R2-D2 and C-3PO to rescue the beautiful princess and restore peace and justice in the Empire.\",\n",
      "  \"year\": 1977,\n",
      "  \"popularity\": 250.715\n",
      "}\n",
      "Hey everyone! If you're in the mood for a classic sci-fi thriller, look no further than Alien. This edge-of-your-seat thriller follows the crew of the Nostromo as they respond to a distress signal and end up face-to-face with an alien threat. Don't miss out on this iconic film! #Alien #SciFi #Thriller #MovieNight\n",
      "{\n",
      "  \"title\": \"Alien\",\n",
      "  \"overview\": \"During its return to the earth, commercial spaceship Nostromo intercepts a distress signal from a distant planet. When a three-member team of the crew discovers a chamber containing thousands of eggs on the planet, a creature inside one of the eggs attacks an explorer. The entire crew is unaware of the impending nightmare set to descend upon them when the alien parasite planted inside its unfortunate host is birthed.\",\n",
      "  \"year\": 1979,\n",
      "  \"popularity\": 302.104\n",
      "}\n",
      "Travel beyond the boundaries of our galaxy! 🌌 \n",
      "Go on an #Interstellar adventure with a group of explorers who dare to venture through a wormhole, conquering the vastness of space! Prepare for an epic voyage like no other. #SpaceExplorers #SciFi #MustWatch\n",
      "{\n",
      "  \"overview\": \"The adventures of a group of explorers who make use of a newly discovered wormhole to surpass the limitations on human space travel and conquer the vast distances involved in an interstellar voyage.\",\n",
      "  \"year\": 2014,\n",
      "  \"title\": \"Interstellar\",\n",
      "  \"popularity\": 283.624\n",
      "}\n",
      "Hey Star Wars fans! Get ready for an epic adventure with #TheRiseOfSkywalker! Join Rey, Finn, and Poe as they lead the Resistance in another thrilling showdown against the First Order. The final battle is here! Watch the thrilling conclusion to the Skywalker saga, in cinemas now! May the Force be with you! #StarWars\n",
      "{\n",
      "  \"title\": \"Star Wars: The Rise of Skywalker\",\n",
      "  \"overview\": \"The surviving Resistance faces the First Order once again as the journey of Rey, Finn and Poe Dameron continues. With the power and knowledge of generations behind them, the final battle begins.\",\n",
      "  \"year\": 2019,\n",
      "  \"popularity\": 114.91\n",
      "}\n"
     ]
    }
   ],
   "source": [
    "response = movies.generate.near_text(\n",
    "    query=\"galaxy\",\n",
    "    limit=5,\n",
    "    target_vector=\"title\",\n",
    "    single_prompt=\"Write a tweet promoting the movie with TITLE: {title} and OVERVIEW: {overview}.\",\n",
    "    grouped_task=\"What audience demographic might enjoy this group of movies?\"\n",
    ")\n",
    "\n",
    "print(response.generated)\n",
    "for o in response.objects:\n",
    "    print(o.generated)\n",
    "    print(json.dumps(o.properties, indent=2))"
   ]
  },
  {
   "cell_type": "markdown",
   "id": "29d4445d-918d-47c1-a553-688fffbb7164",
   "metadata": {},
   "source": [
    "You can see here ⬆️ that each object has been transformed into a tweet by the LLM based on our prompt."
   ]
  },
  {
   "cell_type": "markdown",
   "id": "bdd87179-0c9b-42f8-85f0-8d790dafa4ad",
   "metadata": {},
   "source": [
    "You can ask LLMs to perform all sorts of tasks"
   ]
  },
  {
   "cell_type": "code",
   "execution_count": 19,
   "id": "03472eb3-b993-4c6b-80c5-058d52ca0fbb",
   "metadata": {
    "executionCancelledAt": null,
    "executionTime": 2226,
    "lastExecutedAt": 1692032199733,
    "lastScheduledRunId": null,
    "lastSuccessfullyExecutedCode": "response = (\n    client.query\n    .get(\"Question\", [\"question\", \"answer\"])\n    .with_near_text({\"concepts\": [\"history\"]})\n    .with_generate(single_prompt=\"Translate {question} into French.\")\n    .with_limit(3)\n    .do()\n)\n\njprint(response)",
    "outputsMetadata": {
     "0": {
      "height": 616,
      "type": "stream"
     }
    }
   },
   "outputs": [
    {
     "name": "stdout",
     "output_type": "stream",
     "text": [
      "Une équipe d'acteurs de série spatiale oubliés sont enlevés par des aliens qui ont mal interprété leurs émissions télévisées comme des documents historiques.\n",
      "{\n",
      "  \"year\": 1999,\n",
      "  \"title\": \"Galaxy Quest\",\n",
      "  \"overview\": \"For four years, the courageous crew of the NSEA protector - \\\"Commander Peter Quincy Taggart\\\" (Tim Allen), \\\"Lt. Tawny Madison (Sigourney Weaver) and \\\"Dr.Lazarus\\\" (Alan Rickman) - set off on a thrilling and often dangerous mission in space...and then their series was cancelled! Now, twenty years later, aliens under attack have mistaken the Galaxy Quest television transmissions for \\\"historical documents\\\" and beam up the crew of has-been actors to save the universe. With no script, no director and no clue, the actors must turn in the performances of their lives.\",\n",
      "  \"popularity\": 62.01\n",
      "}\n",
      "Deux robots aidant, Luke Skywalker et Han Solo libèrent la princesse Leia des forces impitoyables de l'Empire galactique.\n",
      "{\n",
      "  \"title\": \"Star Wars\",\n",
      "  \"overview\": \"Princess Leia is captured and held hostage by the evil Imperial forces in their effort to take over the galactic Empire. Venturesome Luke Skywalker and dashing captain Han Solo team together with the loveable robot duo R2-D2 and C-3PO to rescue the beautiful princess and restore peace and justice in the Empire.\",\n",
      "  \"year\": 1977,\n",
      "  \"popularity\": 250.715\n",
      "}\n",
      "Un vaisseau spatial réceptionne un signal de détresse et atterrit sur une planète lointaine où les membres d'équipage découvrent des œufs aliens et sont attaqués.\n",
      "{\n",
      "  \"title\": \"Alien\",\n",
      "  \"overview\": \"During its return to the earth, commercial spaceship Nostromo intercepts a distress signal from a distant planet. When a three-member team of the crew discovers a chamber containing thousands of eggs on the planet, a creature inside one of the eggs attacks an explorer. The entire crew is unaware of the impending nightmare set to descend upon them when the alien parasite planted inside its unfortunate host is birthed.\",\n",
      "  \"year\": 1979,\n",
      "  \"popularity\": 302.104\n",
      "}\n"
     ]
    }
   ],
   "source": [
    "response = movies.generate.near_text(\n",
    "    query=\"galaxy\",\n",
    "    target_vector=\"title\",\n",
    "    limit=3,\n",
    "    single_prompt=\"Summarise the following movie overview into a short French sentence: {overview}.\"\n",
    ")\n",
    "\n",
    "for o in response.objects:\n",
    "    print(o.generated)\n",
    "    print(json.dumps(o.properties, indent=2))"
   ]
  },
  {
   "cell_type": "markdown",
   "id": "b28977d3-a44d-4d8e-a208-00cc05e859d2",
   "metadata": {},
   "source": [
    "The LLM is multi-lingual!"
   ]
  },
  {
   "cell_type": "markdown",
   "id": "cdcbe4cc-42e6-440a-a3ad-21742eaaadec",
   "metadata": {},
   "source": [
    "You can also send groups of results to the LLM with Weaviate."
   ]
  },
  {
   "cell_type": "code",
   "execution_count": 20,
   "id": "3c92c5ba-be4b-4741-98c1-d4928facfe2e",
   "metadata": {
    "executionCancelledAt": null,
    "executionTime": null,
    "lastExecutedAt": null,
    "lastScheduledRunId": null,
    "lastSuccessfullyExecutedCode": null,
    "outputsMetadata": {
     "0": {
      "height": 0,
      "type": "stream"
     }
    },
    "scrolled": true
   },
   "outputs": [
    {
     "name": "stdout",
     "output_type": "stream",
     "text": [
      "In the realm of reels, three tales unfurl,\n",
      "Space adventures, the stuff of legend,\n",
      "Galaxy Quest, a comedy gem,\n",
      "With a crew of actors, bold and brave,\n",
      "Their mission, to save the universe,\n",
      "But all was not as it seemed,\n",
      "For the aliens, misinterpreting signals,\n",
      "Beamed up the stars of the screen.\n",
      "\n",
      "In Star Wars, a galaxy far, far away,\n",
      "Leia, Luke, and Han Solo brave the dark,\n",
      "Battling evil, restoring balance,\n",
      "With droids by their side, they fought the fight,\n",
      "An epic saga, a timeless classic,\n",
      "That captured hearts, a shining gem.\n",
      "\n",
      "Then, in the depths of space, the Nostromo flew,\n",
      "A distress signal, a harbinger of doom,\n",
      "Eggs of terror, an alien birth,\n",
      "A parasitic horror, a crewman's doom,\n",
      "The creature, a nightmare incarnate,\n",
      "In the darkness, it lurked and waited. \n",
      "\n",
      "Three films, three journeys, one sky,\n",
      "Each with a tale that's gripped our minds,\n",
      "A galaxy of stars, a universe vast,\n",
      "Where heroes and villains alike, dare to fly. \n",
      "\n",
      "So let the credits roll,\n",
      "And the movies forever hold,\n",
      "Their place in our hearts and minds,\n",
      "For these stories, are timeless treasures,\n",
      "In the cosmos, our imagination's playground.\n",
      "{\n",
      "  \"title\": \"Galaxy Quest\",\n",
      "  \"overview\": \"For four years, the courageous crew of the NSEA protector - \\\"Commander Peter Quincy Taggart\\\" (Tim Allen), \\\"Lt. Tawny Madison (Sigourney Weaver) and \\\"Dr.Lazarus\\\" (Alan Rickman) - set off on a thrilling and often dangerous mission in space...and then their series was cancelled! Now, twenty years later, aliens under attack have mistaken the Galaxy Quest television transmissions for \\\"historical documents\\\" and beam up the crew of has-been actors to save the universe. With no script, no director and no clue, the actors must turn in the performances of their lives.\",\n",
      "  \"year\": 1999,\n",
      "  \"popularity\": 62.01\n",
      "}\n",
      "{\n",
      "  \"title\": \"Star Wars\",\n",
      "  \"overview\": \"Princess Leia is captured and held hostage by the evil Imperial forces in their effort to take over the galactic Empire. Venturesome Luke Skywalker and dashing captain Han Solo team together with the loveable robot duo R2-D2 and C-3PO to rescue the beautiful princess and restore peace and justice in the Empire.\",\n",
      "  \"year\": 1977,\n",
      "  \"popularity\": 250.715\n",
      "}\n",
      "{\n",
      "  \"title\": \"Alien\",\n",
      "  \"overview\": \"During its return to the earth, commercial spaceship Nostromo intercepts a distress signal from a distant planet. When a three-member team of the crew discovers a chamber containing thousands of eggs on the planet, a creature inside one of the eggs attacks an explorer. The entire crew is unaware of the impending nightmare set to descend upon them when the alien parasite planted inside its unfortunate host is birthed.\",\n",
      "  \"year\": 1979,\n",
      "  \"popularity\": 302.104\n",
      "}\n"
     ]
    }
   ],
   "source": [
    "response = movies.generate.near_text(\n",
    "    query=\"galaxy\",\n",
    "    target_vector=\"title\",\n",
    "    limit=3,\n",
    "    grouped_task=\"Write a poem about these movies\"\n",
    ")\n",
    "\n",
    "print(response.generated)\n",
    "for o in response.objects:\n",
    "    print(json.dumps(o.properties, indent=2))"
   ]
  },
  {
   "cell_type": "code",
   "execution_count": 21,
   "id": "0e03f4fb-8a08-41a7-a7d1-dc1ebc14fae3",
   "metadata": {},
   "outputs": [
    {
     "name": "stderr",
     "output_type": "stream",
     "text": [
      "{\"action\":\"restapi_management\",\"level\":\"info\",\"msg\":\"Shutting down... \",\"time\":\"2024-06-25T20:08:38+01:00\"}\n",
      "{\"action\":\"restapi_management\",\"level\":\"info\",\"msg\":\"Stopped serving weaviate at http://127.0.0.1:8079\",\"time\":\"2024-06-25T20:08:38+01:00\"}\n",
      "{\"action\":\"telemetry_push\",\"level\":\"info\",\"msg\":\"telemetry terminated\",\"payload\":\"\\u0026{MachineID:d41e48d3-1900-486d-998f-ec8c49cdc67d Type:TERMINATE Version:1.25.5 NumObjects:2967 OS:darwin Arch:arm64 UsedModules:[generative-cohere text2vec-cohere text2vec-openai]}\",\"time\":\"2024-06-25T20:08:39+01:00\"}\n",
      "{\"level\":\"info\",\"msg\":\"closing raft FSM store ...\",\"time\":\"2024-06-25T20:08:39+01:00\"}\n",
      "{\"level\":\"info\",\"msg\":\"shutting down raft sub-system ...\",\"time\":\"2024-06-25T20:08:39+01:00\"}\n",
      "{\"level\":\"info\",\"msg\":\"transferring leadership to another server\",\"time\":\"2024-06-25T20:08:39+01:00\"}\n",
      "{\"error\":\"cannot find peer\",\"level\":\"error\",\"msg\":\"transferring leadership\",\"time\":\"2024-06-25T20:08:39+01:00\"}\n",
      "{\"level\":\"info\",\"msg\":\"closing raft-net ...\",\"time\":\"2024-06-25T20:08:39+01:00\"}\n",
      "{\"level\":\"info\",\"msg\":\"closing log store ...\",\"time\":\"2024-06-25T20:08:39+01:00\"}\n",
      "{\"level\":\"info\",\"msg\":\"closing data store ...\",\"time\":\"2024-06-25T20:08:39+01:00\"}\n",
      "{\"level\":\"info\",\"msg\":\"closing loaded database ...\",\"time\":\"2024-06-25T20:08:39+01:00\"}\n",
      "{\"level\":\"info\",\"msg\":\"closing raft-rpc client ...\",\"time\":\"2024-06-25T20:08:39+01:00\"}\n",
      "{\"level\":\"info\",\"msg\":\"closing raft-rpc server ...\",\"time\":\"2024-06-25T20:08:39+01:00\"}\n"
     ]
    }
   ],
   "source": [
    "client.close()"
   ]
  }
 ],
 "metadata": {
  "editor": "DataCamp Workspace",
  "kernelspec": {
   "display_name": "Python 3 (ipykernel)",
   "language": "python",
   "name": "python3"
  },
  "language_info": {
   "codemirror_mode": {
    "name": "ipython",
    "version": 3
   },
   "file_extension": ".py",
   "mimetype": "text/x-python",
   "name": "python",
   "nbconvert_exporter": "python",
   "pygments_lexer": "ipython3",
   "version": "3.10.12"
  }
 },
 "nbformat": 4,
 "nbformat_minor": 5
}
