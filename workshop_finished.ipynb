{
 "cells": [
  {
   "cell_type": "markdown",
   "id": "c641751f-f3d4-47b6-806a-0e55c0b73405",
   "metadata": {},
   "source": [
    "## Weaviate workshop\n",
    "\n",
    "<a target=\"_blank\" href=\"https://colab.research.google.com/github/weaviate-tutorials/intro-workshop/blob/main/workshop.ipynb\">\n",
    "  <img src=\"https://colab.research.google.com/assets/colab-badge.svg\" alt=\"Open In Colab\"/>\n",
    "</a>\n",
    "\n",
    "### Goals:\n",
    "\n",
    "#### What you will see:\n",
    "\n",
    "\n",
    "- Create a vector database with Weaviate,\n",
    "- Add data to the database, and\n",
    "- Interact with the data, including searching, and using LLMs with your data in Weaviate\n",
    "\n",
    "### You will learn today:\n",
    "\n",
    "- What Weaviate is,\n",
    "- How it stores the data (based on its \"meaning\"), and\n",
    "- What you can do with Weaviate, like semantic searches, and using LLMs to transform data."
   ]
  },
  {
   "cell_type": "markdown",
   "id": "4e83bf03-743a-4960-8915-fc2b3341a37f",
   "metadata": {},
   "source": [
    "Install the Weaviate python client, for environments that don't yet have it."
   ]
  },
  {
   "cell_type": "code",
   "execution_count": 1,
   "id": "4706372e-b04b-4971-a4ae-cd2e8ac4cec5",
   "metadata": {
    "executionCancelledAt": null,
    "executionTime": 4696,
    "lastExecutedAt": 1692032183239,
    "lastScheduledRunId": null,
    "lastSuccessfullyExecutedCode": "!pip install -U weaviate-client",
    "outputsMetadata": {
     "0": {
      "height": 616,
      "type": "stream"
     }
    }
   },
   "outputs": [],
   "source": [
    "# !pip install -U weaviate-client"
   ]
  },
  {
   "cell_type": "markdown",
   "id": "5ba26bc3-0958-4051-b31e-9ce27555a8b7",
   "metadata": {},
   "source": [
    "## Preparation: Get the data\n",
    "\n",
    "We'll use a dataset of movies from TMDB. \n",
    "\n",
    "Pre-processed version: \"./data/movies.csv\"\n"
   ]
  },
  {
   "cell_type": "markdown",
   "id": "1633e880-94bb-4942-9fe1-70ffd2a7afd3",
   "metadata": {},
   "source": [
    "Load (or download) the data, and preview it"
   ]
  },
  {
   "cell_type": "code",
   "execution_count": 2,
   "id": "4680be3b-e00f-4c3c-9d42-d9bd8ef1e5a9",
   "metadata": {
    "ExecuteTime": {
     "end_time": "2023-08-12T20:50:09.186617Z",
     "start_time": "2023-08-12T20:50:09.042514Z"
    },
    "executionCancelledAt": null,
    "executionTime": 1192,
    "lastExecutedAt": 1692032184432,
    "lastScheduledRunId": null,
    "lastSuccessfullyExecutedCode": "import requests\nimport json\n\n# Load the data locally\nwith open(\"jeopardy_1k.json\", \"r\") as f:\n    raw_data = f.read()\n\n# Or download it from GitHub\nresponse = requests.get('https://raw.githubusercontent.com/databyjp/wv_demo_uploader/main/weaviate_datasets/data/jeopardy_1k.json')\nraw_data = response.text\n\n# Parse the JSON and preview it\ndata = json.loads(raw_data)\nprint(type(data), len(data))\nprint(json.dumps(data[0], indent=2))",
    "outputsMetadata": {
     "0": {
      "height": 217,
      "type": "stream"
     }
    }
   },
   "outputs": [
    {
     "data": {
      "text/html": [
       "<div>\n",
       "<style scoped>\n",
       "    .dataframe tbody tr th:only-of-type {\n",
       "        vertical-align: middle;\n",
       "    }\n",
       "\n",
       "    .dataframe tbody tr th {\n",
       "        vertical-align: top;\n",
       "    }\n",
       "\n",
       "    .dataframe thead th {\n",
       "        text-align: right;\n",
       "    }\n",
       "</style>\n",
       "<table border=\"1\" class=\"dataframe\">\n",
       "  <thead>\n",
       "    <tr style=\"text-align: right;\">\n",
       "      <th></th>\n",
       "      <th>backdrop_path</th>\n",
       "      <th>genre_ids</th>\n",
       "      <th>id</th>\n",
       "      <th>original_language</th>\n",
       "      <th>original_title</th>\n",
       "      <th>overview</th>\n",
       "      <th>popularity</th>\n",
       "      <th>poster_path</th>\n",
       "      <th>release_date</th>\n",
       "      <th>title</th>\n",
       "      <th>video</th>\n",
       "      <th>vote_average</th>\n",
       "      <th>vote_count</th>\n",
       "      <th>year</th>\n",
       "    </tr>\n",
       "  </thead>\n",
       "  <tbody>\n",
       "    <tr>\n",
       "      <th>0</th>\n",
       "      <td>/rH0DPF7pB35jxLxKb3JRUgCrrnp.jpg</td>\n",
       "      <td>[10751, 14, 16, 10749]</td>\n",
       "      <td>11224</td>\n",
       "      <td>en</td>\n",
       "      <td>Cinderella</td>\n",
       "      <td>Cinderella has faith her dreams of a better li...</td>\n",
       "      <td>100.819</td>\n",
       "      <td>/avz6S9HYWs4O8Oe4PenBFNX4uDi.jpg</td>\n",
       "      <td>1950-02-22</td>\n",
       "      <td>Cinderella</td>\n",
       "      <td>False</td>\n",
       "      <td>7.044</td>\n",
       "      <td>6523</td>\n",
       "      <td>1950</td>\n",
       "    </tr>\n",
       "    <tr>\n",
       "      <th>1</th>\n",
       "      <td>/p47ihFj4A7EpBjmPHdTj4ipyq1S.jpg</td>\n",
       "      <td>[18]</td>\n",
       "      <td>599</td>\n",
       "      <td>en</td>\n",
       "      <td>Sunset Boulevard</td>\n",
       "      <td>A hack screenwriter writes a screenplay for a ...</td>\n",
       "      <td>57.740</td>\n",
       "      <td>/sC4Dpmn87oz9AuxZ15Lmip0Ftgr.jpg</td>\n",
       "      <td>1950-08-10</td>\n",
       "      <td>Sunset Boulevard</td>\n",
       "      <td>False</td>\n",
       "      <td>8.312</td>\n",
       "      <td>2485</td>\n",
       "      <td>1950</td>\n",
       "    </tr>\n",
       "    <tr>\n",
       "      <th>2</th>\n",
       "      <td>/zyO6j74DKMWfp5snWg6Hwo0T3Mz.jpg</td>\n",
       "      <td>[80, 18, 9648]</td>\n",
       "      <td>548</td>\n",
       "      <td>ja</td>\n",
       "      <td>羅生門</td>\n",
       "      <td>Brimming with action while incisively examinin...</td>\n",
       "      <td>21.011</td>\n",
       "      <td>/vL7Xw04nFMHwnvXRFCmYYAzMUvY.jpg</td>\n",
       "      <td>1950-08-26</td>\n",
       "      <td>Rashomon</td>\n",
       "      <td>False</td>\n",
       "      <td>8.091</td>\n",
       "      <td>2121</td>\n",
       "      <td>1950</td>\n",
       "    </tr>\n",
       "    <tr>\n",
       "      <th>3</th>\n",
       "      <td>/b4yiLlIFuiULuuLTxT0Pt1QyT6J.jpg</td>\n",
       "      <td>[16, 10751, 14, 12]</td>\n",
       "      <td>12092</td>\n",
       "      <td>en</td>\n",
       "      <td>Alice in Wonderland</td>\n",
       "      <td>On a golden afternoon, young Alice follows a W...</td>\n",
       "      <td>75.465</td>\n",
       "      <td>/20cvfwfaFqNbe9Fc3VEHJuPRxmn.jpg</td>\n",
       "      <td>1951-07-28</td>\n",
       "      <td>Alice in Wonderland</td>\n",
       "      <td>False</td>\n",
       "      <td>7.200</td>\n",
       "      <td>5697</td>\n",
       "      <td>1951</td>\n",
       "    </tr>\n",
       "    <tr>\n",
       "      <th>4</th>\n",
       "      <td>/mxf8hJJkHTCqZP3m4o8E1TtwHHs.jpg</td>\n",
       "      <td>[35, 10749]</td>\n",
       "      <td>872</td>\n",
       "      <td>en</td>\n",
       "      <td>Singin' in the Rain</td>\n",
       "      <td>In 1927 Hollywood, a silent film production co...</td>\n",
       "      <td>31.407</td>\n",
       "      <td>/w03EiJVHP8Un77boQeE7hg9DVdU.jpg</td>\n",
       "      <td>1952-04-09</td>\n",
       "      <td>Singin' in the Rain</td>\n",
       "      <td>False</td>\n",
       "      <td>8.200</td>\n",
       "      <td>3036</td>\n",
       "      <td>1952</td>\n",
       "    </tr>\n",
       "  </tbody>\n",
       "</table>\n",
       "</div>"
      ],
      "text/plain": [
       "                      backdrop_path               genre_ids     id  \\\n",
       "0  /rH0DPF7pB35jxLxKb3JRUgCrrnp.jpg  [10751, 14, 16, 10749]  11224   \n",
       "1  /p47ihFj4A7EpBjmPHdTj4ipyq1S.jpg                    [18]    599   \n",
       "2  /zyO6j74DKMWfp5snWg6Hwo0T3Mz.jpg          [80, 18, 9648]    548   \n",
       "3  /b4yiLlIFuiULuuLTxT0Pt1QyT6J.jpg     [16, 10751, 14, 12]  12092   \n",
       "4  /mxf8hJJkHTCqZP3m4o8E1TtwHHs.jpg             [35, 10749]    872   \n",
       "\n",
       "  original_language       original_title  \\\n",
       "0                en           Cinderella   \n",
       "1                en     Sunset Boulevard   \n",
       "2                ja                  羅生門   \n",
       "3                en  Alice in Wonderland   \n",
       "4                en  Singin' in the Rain   \n",
       "\n",
       "                                            overview  popularity  \\\n",
       "0  Cinderella has faith her dreams of a better li...     100.819   \n",
       "1  A hack screenwriter writes a screenplay for a ...      57.740   \n",
       "2  Brimming with action while incisively examinin...      21.011   \n",
       "3  On a golden afternoon, young Alice follows a W...      75.465   \n",
       "4  In 1927 Hollywood, a silent film production co...      31.407   \n",
       "\n",
       "                        poster_path release_date                title  video  \\\n",
       "0  /avz6S9HYWs4O8Oe4PenBFNX4uDi.jpg   1950-02-22           Cinderella  False   \n",
       "1  /sC4Dpmn87oz9AuxZ15Lmip0Ftgr.jpg   1950-08-10     Sunset Boulevard  False   \n",
       "2  /vL7Xw04nFMHwnvXRFCmYYAzMUvY.jpg   1950-08-26             Rashomon  False   \n",
       "3  /20cvfwfaFqNbe9Fc3VEHJuPRxmn.jpg   1951-07-28  Alice in Wonderland  False   \n",
       "4  /w03EiJVHP8Un77boQeE7hg9DVdU.jpg   1952-04-09  Singin' in the Rain  False   \n",
       "\n",
       "   vote_average  vote_count  year  \n",
       "0         7.044        6523  1950  \n",
       "1         8.312        2485  1950  \n",
       "2         8.091        2121  1950  \n",
       "3         7.200        5697  1951  \n",
       "4         8.200        3036  1952  "
      ]
     },
     "execution_count": 2,
     "metadata": {},
     "output_type": "execute_result"
    }
   ],
   "source": [
    "import pandas as pd\n",
    "\n",
    "# movie_df = pd.read_csv(\"./data/movies.csv\")\n",
    "movie_df = pd.read_csv(\"https://raw.githubusercontent.com/weaviate-tutorials/intro-workshop/main/data/movies.csv\")\n",
    "movie_df.head()"
   ]
  },
  {
   "cell_type": "markdown",
   "id": "d27642a1-e738-441c-9008-ce8cb267f28b",
   "metadata": {},
   "source": [
    "## Step 1: Create a Weaviate instance (database)"
   ]
  },
  {
   "cell_type": "markdown",
   "id": "97a88ba7-6e35-4378-ad30-869537966f01",
   "metadata": {},
   "source": [
    "This (Embedded Weaviate) is a quick way to create a Weaviate database. Note that this is suitable for evaluation use only, and currently not compatible with Windows (we are working on it 😉).\n",
    "\n",
    "You can also use:\n",
    "- A free sandbox with Weaviate Cloud Services\n",
    "- Open-source Weaviate directly, available cross-platform with Docker"
   ]
  },
  {
   "cell_type": "code",
   "execution_count": 3,
   "id": "23a39bba",
   "metadata": {},
   "outputs": [
    {
     "name": "stdout",
     "output_type": "stream",
     "text": [
      "Name: weaviate-client\n",
      "Version: 4.9.0\n",
      "Summary: A python native Weaviate client\n",
      "Home-page: https://github.com/weaviate/weaviate-python-client\n",
      "Author: Weaviate\n",
      "Author-email: hello@weaviate.io,\n",
      "License: BSD 3-clause\n",
      "Location: /Users/jphwang/code/weaviate-tutorials/intro-workshop/.venv/lib/python3.11/site-packages\n",
      "Requires: authlib, grpcio, grpcio-health-checking, grpcio-tools, httpx, pydantic, requests, validators\n",
      "Required-by: \n"
     ]
    }
   ],
   "source": [
    "!pip show weaviate-client"
   ]
  },
  {
   "cell_type": "code",
   "execution_count": 4,
   "id": "ba40b5a3-d645-493b-9c93-e652c1057870",
   "metadata": {
    "ExecuteTime": {
     "end_time": "2023-08-12T20:50:10.463278Z",
     "start_time": "2023-08-12T20:50:10.020181Z"
    },
    "executionCancelledAt": null,
    "executionTime": null,
    "lastExecutedAt": null,
    "lastScheduledRunId": null,
    "lastSuccessfullyExecutedCode": null,
    "outputsMetadata": {
     "0": {
      "height": 97,
      "type": "stream"
     },
     "1": {
      "height": 257,
      "type": "stream"
     }
    },
    "scrolled": true
   },
   "outputs": [
    {
     "name": "stderr",
     "output_type": "stream",
     "text": [
      "{\"action\":\"startup\",\"build_git_commit\":\"6c571ff13\",\"build_go_version\":\"go1.23.2\",\"build_image_tag\":\"\",\"build_wv_version\":\"\",\"default_vectorizer_module\":\"none\",\"level\":\"info\",\"msg\":\"the default vectorizer modules is set to \\\"none\\\", as a result all new schema classes without an explicit vectorizer setting, will use this vectorizer\",\"time\":\"2024-10-29T12:34:24Z\"}\n",
      "{\"action\":\"startup\",\"auto_schema_enabled\":true,\"build_git_commit\":\"6c571ff13\",\"build_go_version\":\"go1.23.2\",\"build_image_tag\":\"\",\"build_wv_version\":\"\",\"level\":\"info\",\"msg\":\"auto schema enabled setting is set to \\\"true\\\"\",\"time\":\"2024-10-29T12:34:24Z\"}\n",
      "{\"build_git_commit\":\"6c571ff13\",\"build_go_version\":\"go1.23.2\",\"build_image_tag\":\"\",\"build_wv_version\":\"\",\"level\":\"info\",\"msg\":\"No resource limits set, weaviate will use all available memory and CPU. To limit resources, set LIMIT_RESOURCES=true\",\"time\":\"2024-10-29T12:34:24Z\"}\n",
      "{\"build_git_commit\":\"6c571ff13\",\"build_go_version\":\"go1.23.2\",\"build_image_tag\":\"\",\"build_wv_version\":\"\",\"level\":\"info\",\"msg\":\"module offload-s3 is enabled\",\"time\":\"2024-10-29T12:34:24Z\"}\n",
      "{\"build_git_commit\":\"6c571ff13\",\"build_go_version\":\"go1.23.2\",\"build_image_tag\":\"\",\"build_wv_version\":\"\",\"level\":\"warning\",\"msg\":\"Multiple vector spaces are present, GraphQL Explore and REST API list objects endpoint module include params has been disabled as a result.\",\"time\":\"2024-10-29T12:34:24Z\"}\n",
      "{\"build_git_commit\":\"6c571ff13\",\"build_go_version\":\"go1.23.2\",\"build_image_tag\":\"\",\"build_wv_version\":\"\",\"level\":\"info\",\"msg\":\"open cluster service\",\"servers\":{\"Embedded_at_8079\":53546},\"time\":\"2024-10-29T12:34:24Z\"}\n",
      "{\"address\":\"192.168.1.140:53547\",\"build_git_commit\":\"6c571ff13\",\"build_go_version\":\"go1.23.2\",\"build_image_tag\":\"\",\"build_wv_version\":\"\",\"level\":\"info\",\"msg\":\"starting cloud rpc server ...\",\"time\":\"2024-10-29T12:34:24Z\"}\n",
      "{\"build_git_commit\":\"6c571ff13\",\"build_go_version\":\"go1.23.2\",\"build_image_tag\":\"\",\"build_wv_version\":\"\",\"level\":\"info\",\"msg\":\"starting raft sub-system ...\",\"time\":\"2024-10-29T12:34:24Z\"}\n",
      "{\"address\":\"192.168.1.140:53546\",\"build_git_commit\":\"6c571ff13\",\"build_go_version\":\"go1.23.2\",\"build_image_tag\":\"\",\"build_wv_version\":\"\",\"level\":\"info\",\"msg\":\"tcp transport\",\"tcpMaxPool\":3,\"tcpTimeout\":10000000000,\"time\":\"2024-10-29T12:34:24Z\"}\n",
      "{\"build_git_commit\":\"6c571ff13\",\"build_go_version\":\"go1.23.2\",\"build_image_tag\":\"\",\"build_wv_version\":\"\",\"level\":\"info\",\"msg\":\"loading local db\",\"time\":\"2024-10-29T12:34:24Z\"}\n",
      "{\"build_git_commit\":\"6c571ff13\",\"build_go_version\":\"go1.23.2\",\"build_image_tag\":\"\",\"build_wv_version\":\"\",\"level\":\"info\",\"msg\":\"local DB successfully loaded\",\"time\":\"2024-10-29T12:34:24Z\"}\n",
      "{\"build_git_commit\":\"6c571ff13\",\"build_go_version\":\"go1.23.2\",\"build_image_tag\":\"\",\"build_wv_version\":\"\",\"level\":\"info\",\"msg\":\"schema manager loaded\",\"n\":0,\"time\":\"2024-10-29T12:34:24Z\"}\n",
      "{\"build_git_commit\":\"6c571ff13\",\"build_go_version\":\"go1.23.2\",\"build_image_tag\":\"\",\"build_wv_version\":\"\",\"level\":\"info\",\"metadata_only_voters\":false,\"msg\":\"construct a new raft node\",\"name\":\"Embedded_at_8079\",\"time\":\"2024-10-29T12:34:24Z\"}\n",
      "{\"action\":\"raft\",\"build_git_commit\":\"6c571ff13\",\"build_go_version\":\"go1.23.2\",\"build_image_tag\":\"\",\"build_wv_version\":\"\",\"index\":8,\"level\":\"info\",\"msg\":\"raft initial configuration\",\"servers\":\"[[{Suffrage:Voter ID:Embedded_at_8079 Address:192.168.1.140:53253}]]\",\"time\":\"2024-10-29T12:34:24Z\"}\n",
      "{\"build_git_commit\":\"6c571ff13\",\"build_go_version\":\"go1.23.2\",\"build_image_tag\":\"\",\"build_wv_version\":\"\",\"last_snapshot_index\":0,\"last_store_applied_index_on_start\":10,\"level\":\"info\",\"msg\":\"raft node constructed\",\"raft_applied_index\":0,\"raft_last_index\":10,\"time\":\"2024-10-29T12:34:24Z\"}\n",
      "{\"action\":\"raft\",\"build_git_commit\":\"6c571ff13\",\"build_go_version\":\"go1.23.2\",\"build_image_tag\":\"\",\"build_wv_version\":\"\",\"follower\":{},\"leader-address\":\"\",\"leader-id\":\"\",\"level\":\"info\",\"msg\":\"raft entering follower state\",\"time\":\"2024-10-29T12:34:24Z\"}\n",
      "{\"build_git_commit\":\"6c571ff13\",\"build_go_version\":\"go1.23.2\",\"build_image_tag\":\"\",\"build_wv_version\":\"\",\"hasState\":true,\"level\":\"info\",\"msg\":\"raft init\",\"time\":\"2024-10-29T12:34:24Z\"}\n",
      "{\"build_git_commit\":\"6c571ff13\",\"build_go_version\":\"go1.23.2\",\"build_image_tag\":\"\",\"build_wv_version\":\"\",\"level\":\"info\",\"msg\":\"attempting to join\",\"remoteNodes\":[\"192.168.1.140:53546\"],\"time\":\"2024-10-29T12:34:24Z\"}\n",
      "{\"build_git_commit\":\"6c571ff13\",\"build_go_version\":\"go1.23.2\",\"build_image_tag\":\"\",\"build_wv_version\":\"\",\"level\":\"info\",\"msg\":\"attempted to join and failed\",\"remoteNode\":\"192.168.1.140:53546\",\"status\":8,\"time\":\"2024-10-29T12:34:24Z\"}\n",
      "{\"action\":\"read_disk_use\",\"build_git_commit\":\"6c571ff13\",\"build_go_version\":\"go1.23.2\",\"build_image_tag\":\"\",\"build_wv_version\":\"\",\"level\":\"warning\",\"msg\":\"disk usage currently at 89.64%, threshold set to 80.00%\",\"path\":\"/Users/jphwang/.local/share/weaviate\",\"time\":\"2024-10-29T12:34:25Z\"}\n",
      "{\"build_git_commit\":\"6c571ff13\",\"build_go_version\":\"go1.23.2\",\"build_image_tag\":\"\",\"build_wv_version\":\"\",\"level\":\"info\",\"msg\":\"attempting to join\",\"remoteNodes\":[\"192.168.1.140:53546\"],\"time\":\"2024-10-29T12:34:25Z\"}\n",
      "{\"build_git_commit\":\"6c571ff13\",\"build_go_version\":\"go1.23.2\",\"build_image_tag\":\"\",\"build_wv_version\":\"\",\"level\":\"info\",\"msg\":\"attempted to join and failed\",\"remoteNode\":\"192.168.1.140:53546\",\"status\":8,\"time\":\"2024-10-29T12:34:25Z\"}\n",
      "{\"action\":\"raft\",\"build_git_commit\":\"6c571ff13\",\"build_go_version\":\"go1.23.2\",\"build_image_tag\":\"\",\"build_wv_version\":\"\",\"last-leader-addr\":\"\",\"last-leader-id\":\"\",\"level\":\"warning\",\"msg\":\"raft heartbeat timeout reached, starting election\",\"time\":\"2024-10-29T12:34:25Z\"}\n",
      "{\"action\":\"raft\",\"build_git_commit\":\"6c571ff13\",\"build_go_version\":\"go1.23.2\",\"build_image_tag\":\"\",\"build_wv_version\":\"\",\"level\":\"info\",\"msg\":\"raft entering candidate state\",\"node\":{},\"term\":5,\"time\":\"2024-10-29T12:34:25Z\"}\n",
      "{\"action\":\"raft\",\"build_git_commit\":\"6c571ff13\",\"build_go_version\":\"go1.23.2\",\"build_image_tag\":\"\",\"build_wv_version\":\"\",\"level\":\"info\",\"msg\":\"raft pre-vote successful, starting election\",\"refused\":0,\"tally\":1,\"term\":5,\"time\":\"2024-10-29T12:34:25Z\",\"votesNeeded\":1}\n",
      "{\"action\":\"raft\",\"build_git_commit\":\"6c571ff13\",\"build_go_version\":\"go1.23.2\",\"build_image_tag\":\"\",\"build_wv_version\":\"\",\"level\":\"info\",\"msg\":\"raft election won\",\"tally\":1,\"term\":5,\"time\":\"2024-10-29T12:34:26Z\"}\n",
      "{\"action\":\"raft\",\"build_git_commit\":\"6c571ff13\",\"build_go_version\":\"go1.23.2\",\"build_image_tag\":\"\",\"build_wv_version\":\"\",\"leader\":{},\"level\":\"info\",\"msg\":\"raft entering leader state\",\"time\":\"2024-10-29T12:34:26Z\"}\n",
      "{\"build_git_commit\":\"6c571ff13\",\"build_go_version\":\"go1.23.2\",\"build_image_tag\":\"\",\"build_wv_version\":\"\",\"level\":\"info\",\"msg\":\"Schema catching up: applying log entry: [5/10]\",\"time\":\"2024-10-29T12:34:26Z\"}\n",
      "{\"build_git_commit\":\"6c571ff13\",\"build_go_version\":\"go1.23.2\",\"build_image_tag\":\"\",\"build_wv_version\":\"\",\"level\":\"info\",\"msg\":\"Schema catching up: applying log entry: [6/10]\",\"time\":\"2024-10-29T12:34:26Z\"}\n",
      "{\"build_git_commit\":\"6c571ff13\",\"build_go_version\":\"go1.23.2\",\"build_image_tag\":\"\",\"build_wv_version\":\"\",\"level\":\"info\",\"msg\":\"Schema catching up: applying log entry: [9/10]\",\"time\":\"2024-10-29T12:34:26Z\"}\n",
      "{\"build_git_commit\":\"6c571ff13\",\"build_go_version\":\"go1.23.2\",\"build_image_tag\":\"\",\"build_wv_version\":\"\",\"level\":\"info\",\"msg\":\"Schema catching up: applying log entry: [10/10]\",\"time\":\"2024-10-29T12:34:26Z\"}\n",
      "{\"build_git_commit\":\"6c571ff13\",\"build_go_version\":\"go1.23.2\",\"build_image_tag\":\"\",\"build_wv_version\":\"\",\"last_store_log_applied_index\":10,\"level\":\"info\",\"log_index\":10,\"log_name\":\"LogCommand\",\"log_type\":0,\"msg\":\"reloading local DB as RAFT and local DB are now caught up\",\"time\":\"2024-10-29T12:34:26Z\"}\n",
      "{\"build_git_commit\":\"6c571ff13\",\"build_go_version\":\"go1.23.2\",\"build_image_tag\":\"\",\"build_wv_version\":\"\",\"level\":\"info\",\"msg\":\"reload local db: update schema ...\",\"time\":\"2024-10-29T12:34:26Z\"}\n",
      "{\"build_git_commit\":\"6c571ff13\",\"build_go_version\":\"go1.23.2\",\"build_image_tag\":\"\",\"build_wv_version\":\"\",\"index\":\"Movie\",\"level\":\"info\",\"msg\":\"reload local index\",\"time\":\"2024-10-29T12:34:26Z\"}\n",
      "{\"build_git_commit\":\"6c571ff13\",\"build_go_version\":\"go1.23.2\",\"build_image_tag\":\"\",\"build_wv_version\":\"\",\"level\":\"info\",\"msg\":\"configured versions\",\"server_version\":\"1.27.0\",\"time\":\"2024-10-29T12:34:26Z\",\"version\":\"1.27.0\"}\n",
      "{\"action\":\"grpc_startup\",\"build_git_commit\":\"6c571ff13\",\"build_go_version\":\"go1.23.2\",\"build_image_tag\":\"\",\"build_wv_version\":\"\",\"level\":\"info\",\"msg\":\"grpc server listening at [::]:50050\",\"time\":\"2024-10-29T12:34:26Z\"}\n",
      "{\"address\":\"192.168.1.140:53546\",\"build_git_commit\":\"6c571ff13\",\"build_go_version\":\"go1.23.2\",\"build_image_tag\":\"\",\"build_wv_version\":\"\",\"level\":\"info\",\"msg\":\"current Leader\",\"time\":\"2024-10-29T12:34:26Z\"}\n",
      "{\"build_git_commit\":\"6c571ff13\",\"build_go_version\":\"go1.23.2\",\"build_image_tag\":\"\",\"build_wv_version\":\"\",\"level\":\"info\",\"msg\":\"attempting to join\",\"remoteNodes\":[\"192.168.1.140:53546\"],\"time\":\"2024-10-29T12:34:26Z\"}\n",
      "{\"action\":\"raft\",\"build_git_commit\":\"6c571ff13\",\"build_go_version\":\"go1.23.2\",\"build_image_tag\":\"\",\"build_wv_version\":\"\",\"command\":0,\"level\":\"info\",\"msg\":\"raft updating configuration\",\"server-addr\":\"192.168.1.140:53546\",\"server-id\":\"Embedded_at_8079\",\"servers\":\"[[{Suffrage:Voter ID:Embedded_at_8079 Address:192.168.1.140:53546}]]\",\"time\":\"2024-10-29T12:34:26Z\"}\n",
      "{\"action\":\"restapi_management\",\"build_git_commit\":\"6c571ff13\",\"build_go_version\":\"go1.23.2\",\"build_image_tag\":\"\",\"build_wv_version\":\"\",\"level\":\"info\",\"msg\":\"Serving weaviate at http://127.0.0.1:8079\",\"time\":\"2024-10-29T12:34:26Z\",\"version\":\"1.27.0\"}\n"
     ]
    }
   ],
   "source": [
    "import weaviate\n",
    "import os\n",
    "import json\n",
    "\n",
    "your_cohere_apikey = os.environ[\"COHERE_APIKEY\"]\n",
    "\n",
    "client = weaviate.connect_to_embedded(\n",
    "    version=\"1.27.0\",\n",
    "    headers={\n",
    "        \"X-Cohere-Api-Key\": your_cohere_apikey,  # Replace this with your actual key\n",
    "    },\n",
    "    environment_variables={\n",
    "        \"ENABLE_API_BASED_MODULES\": \"true\"\n",
    "    }\n",
    ")"
   ]
  },
  {
   "cell_type": "markdown",
   "id": "388d970d-79a2-4591-a5f3-c6c17406df2a",
   "metadata": {},
   "source": [
    "Retrieve Weaviate instance information to check our configuration."
   ]
  },
  {
   "cell_type": "code",
   "execution_count": 5,
   "id": "b8a4226e-41fd-4ad7-9416-dcda4a443d58",
   "metadata": {
    "ExecuteTime": {
     "end_time": "2023-08-12T20:50:11.726853Z",
     "start_time": "2023-08-12T20:50:11.722015Z"
    },
    "executionCancelledAt": null,
    "executionTime": 48,
    "lastExecutedAt": 1692032185634,
    "lastScheduledRunId": null,
    "lastSuccessfullyExecutedCode": "jprint(client.get_meta())",
    "outputsMetadata": {
     "0": {
      "height": 597,
      "type": "stream"
     }
    }
   },
   "outputs": [
    {
     "data": {
      "text/plain": [
       "{'hostname': 'http://127.0.0.1:8079',\n",
       " 'modules': {'generative-anthropic': {'documentationHref': 'https://docs.anthropic.com/en/api/getting-started',\n",
       "   'name': 'Generative Search - Anthropic'},\n",
       "  'generative-anyscale': {'documentationHref': 'https://docs.anyscale.com/endpoints/overview',\n",
       "   'name': 'Generative Search - Anyscale'},\n",
       "  'generative-aws': {'documentationHref': 'https://docs.aws.amazon.com/bedrock/latest/APIReference/welcome.html',\n",
       "   'name': 'Generative Search - AWS'},\n",
       "  'generative-cohere': {'documentationHref': 'https://docs.cohere.com/reference/chat',\n",
       "   'name': 'Generative Search - Cohere'},\n",
       "  'generative-databricks': {'documentationHref': 'https://docs.databricks.com/en/machine-learning/foundation-models/api-reference.html#completion-task',\n",
       "   'name': 'Generative Search - Databricks'},\n",
       "  'generative-friendliai': {'documentationHref': 'https://docs.friendli.ai/openapi/create-chat-completions',\n",
       "   'name': 'Generative Search - FriendliAI'},\n",
       "  'generative-google': {'documentationHref': 'https://cloud.google.com/vertex-ai/docs/generative-ai/chat/test-chat-prompts',\n",
       "   'name': 'Generative Search - Google'},\n",
       "  'generative-mistral': {'documentationHref': 'https://docs.mistral.ai/api/',\n",
       "   'name': 'Generative Search - Mistral'},\n",
       "  'generative-octoai': {'documentationHref': 'https://octo.ai/docs/text-gen-solution/getting-started',\n",
       "   'name': 'Generative Search - OctoAI'},\n",
       "  'generative-openai': {'documentationHref': 'https://platform.openai.com/docs/api-reference/completions',\n",
       "   'name': 'Generative Search - OpenAI'},\n",
       "  'multi2vec-google': {'documentationHref': 'https://cloud.google.com/vertex-ai/generative-ai/docs/embeddings/get-multimodal-embeddings',\n",
       "   'name': 'Google Multimodal Module'},\n",
       "  'qna-openai': {'documentationHref': 'https://platform.openai.com/docs/api-reference/completions',\n",
       "   'name': 'OpenAI Question & Answering Module'},\n",
       "  'ref2vec-centroid': {},\n",
       "  'reranker-cohere': {'documentationHref': 'https://txt.cohere.com/rerank/',\n",
       "   'name': 'Reranker - Cohere'},\n",
       "  'reranker-voyageai': {'documentationHref': 'https://docs.voyageai.com/reference/reranker-api',\n",
       "   'name': 'Reranker - VoyageAI'},\n",
       "  'text2vec-aws': {'documentationHref': 'https://docs.aws.amazon.com/bedrock/latest/userguide/titan-embedding-models.html',\n",
       "   'name': 'AWS Module'},\n",
       "  'text2vec-cohere': {'documentationHref': 'https://docs.cohere.ai/embedding-wiki/',\n",
       "   'name': 'Cohere Module'},\n",
       "  'text2vec-databricks': {'documentationHref': 'https://docs.databricks.com/en/machine-learning/foundation-models/api-reference.html#embedding-task',\n",
       "   'name': 'Databricks Foundation Models Module - Embeddings'},\n",
       "  'text2vec-google': {'documentationHref': 'https://cloud.google.com/vertex-ai/docs/generative-ai/embeddings/get-text-embeddings',\n",
       "   'name': 'Google Module'},\n",
       "  'text2vec-huggingface': {'documentationHref': 'https://huggingface.co/docs/api-inference/detailed_parameters#feature-extraction-task',\n",
       "   'name': 'Hugging Face Module'},\n",
       "  'text2vec-jinaai': {'documentationHref': 'https://jina.ai/embeddings/',\n",
       "   'name': 'JinaAI Module'},\n",
       "  'text2vec-octoai': {'documentationHref': 'https://octo.ai/docs/text-gen-solution/getting-started',\n",
       "   'name': 'OctoAI Module'},\n",
       "  'text2vec-openai': {'documentationHref': 'https://platform.openai.com/docs/guides/embeddings/what-are-embeddings',\n",
       "   'name': 'OpenAI Module'},\n",
       "  'text2vec-voyageai': {'documentationHref': 'https://docs.voyageai.com/docs/embeddings',\n",
       "   'name': 'VoyageAI Module'}},\n",
       " 'version': '1.27.0'}"
      ]
     },
     "execution_count": 5,
     "metadata": {},
     "output_type": "execute_result"
    }
   ],
   "source": [
    "client.get_meta()"
   ]
  },
  {
   "cell_type": "markdown",
   "id": "68b9706e-e11e-43f8-ae13-3741c5376b25",
   "metadata": {},
   "source": [
    "## Step 2: Add data to Weaviate"
   ]
  },
  {
   "cell_type": "markdown",
   "id": "5f01b498-455f-4e82-bdb3-df7b95363ca4",
   "metadata": {},
   "source": [
    "### Add collection definition"
   ]
  },
  {
   "cell_type": "markdown",
   "id": "310a7ecf-0f04-48a3-b622-dd3673e8302f",
   "metadata": {},
   "source": [
    "The equivalent of a SQL \"table\", is called a \"collection\" in Weaviate, like they are in NoSQL databases."
   ]
  },
  {
   "cell_type": "markdown",
   "id": "ba03c144-e2a3-48cc-97db-590fbac55ec0",
   "metadata": {},
   "source": [
    "In case I created a demo collection - let's delete it."
   ]
  },
  {
   "cell_type": "code",
   "execution_count": 6,
   "id": "976fdc87-ee1f-43cd-8db7-57b1fda5d697",
   "metadata": {
    "ExecuteTime": {
     "end_time": "2023-08-12T20:50:23.339817Z",
     "start_time": "2023-08-12T20:50:23.303039Z"
    },
    "executionCancelledAt": null,
    "executionTime": 47,
    "lastExecutedAt": 1692032185681,
    "lastScheduledRunId": null,
    "lastSuccessfullyExecutedCode": "if client.schema.exists(\"Question\"):\n    client.schema.delete_class(\"Question\")"
   },
   "outputs": [
    {
     "name": "stderr",
     "output_type": "stream",
     "text": [
      "{\"action\":\"load_all_shards\",\"build_git_commit\":\"6c571ff13\",\"build_go_version\":\"go1.23.2\",\"build_image_tag\":\"\",\"build_wv_version\":\"\",\"level\":\"error\",\"msg\":\"failed to load all shards: context canceled\",\"time\":\"2024-10-29T12:34:27Z\"}\n"
     ]
    }
   ],
   "source": [
    "client.collections.delete(\"Movie\")"
   ]
  },
  {
   "cell_type": "markdown",
   "id": "9279cefa-ecaf-487c-a090-43a14383e9a1",
   "metadata": {},
   "source": [
    "And create a new collection definition here.\n",
    "We'll set up a collection called \"Movie\" with:\n",
    "- Two \"named vectors\" -> which will save different \"meanings\" of the data,\n",
    "- A \"generative\" module -> which will allow us to use LLMs with our data, and\n",
    "- Properties to save our movie data (which are like SQL columns).\n",
    "    - Just the title, overview, year and popularity for now."
   ]
  },
  {
   "cell_type": "code",
   "execution_count": 7,
   "id": "5da0db4a-9f72-402c-9c23-49f1500ea995",
   "metadata": {
    "ExecuteTime": {
     "end_time": "2023-08-12T20:50:24.018171Z",
     "start_time": "2023-08-12T20:50:23.993529Z"
    },
    "executionCancelledAt": null,
    "executionTime": null,
    "lastExecutedAt": null,
    "lastScheduledRunId": null,
    "lastSuccessfullyExecutedCode": null,
    "outputsMetadata": {
     "0": {
      "height": 77,
      "type": "stream"
     }
    }
   },
   "outputs": [
    {
     "data": {
      "text/plain": [
       "<weaviate.collections.collection.sync.Collection at 0x11a19fc50>"
      ]
     },
     "execution_count": 7,
     "metadata": {},
     "output_type": "execute_result"
    }
   ],
   "source": [
    "from weaviate.classes.config import Configure, DataType, Property\n",
    "\n",
    "client.collections.create(\n",
    "    name=\"Movie\",\n",
    "    vectorizer_config=[\n",
    "        Configure.NamedVectors.text2vec_cohere(\n",
    "            name=\"title\",\n",
    "            source_properties=[\"title\"]\n",
    "        ),\n",
    "        Configure.NamedVectors.text2vec_cohere(\n",
    "            name=\"overview\",\n",
    "            source_properties=[\"title\", \"overview\"]\n",
    "        ),\n",
    "    ],\n",
    "    generative_config=Configure.Generative.cohere(),\n",
    "    properties=[\n",
    "        Property(\n",
    "            name=\"title\",\n",
    "            data_type=DataType.TEXT,\n",
    "        ),\n",
    "        Property(\n",
    "            name=\"overview\",\n",
    "            data_type=DataType.TEXT,\n",
    "        ),\n",
    "        Property(\n",
    "            name=\"year\",\n",
    "            data_type=DataType.INT,\n",
    "        ),\n",
    "        Property(\n",
    "            name=\"popularity\",\n",
    "            data_type=DataType.NUMBER,\n",
    "        ),\n",
    "    ]\n",
    ")"
   ]
  },
  {
   "cell_type": "markdown",
   "id": "c3fdad45-8916-4c4a-8405-6f28f3eaee40",
   "metadata": {},
   "source": [
    "> Tip: You can get example collection definitions in our documentation:\n",
    "> - https://weaviate.io/developers/weaviate/manage-data/collections"
   ]
  },
  {
   "cell_type": "markdown",
   "id": "bd17a8e9-da25-4619-9e37-0787383dafe1",
   "metadata": {},
   "source": [
    "Was our collection created successfully? Let's take a look"
   ]
  },
  {
   "cell_type": "code",
   "execution_count": 8,
   "id": "cfed74df-84a7-43a6-bd79-960b0681be7e",
   "metadata": {
    "executionCancelledAt": null,
    "executionTime": 48,
    "lastExecutedAt": 1692032185778,
    "lastScheduledRunId": null,
    "lastSuccessfullyExecutedCode": "jprint(client.schema.get(\"Question\"))",
    "outputsMetadata": {
     "0": {
      "height": 616,
      "type": "stream"
     }
    },
    "scrolled": true
   },
   "outputs": [
    {
     "data": {
      "text/plain": [
       "True"
      ]
     },
     "execution_count": 8,
     "metadata": {},
     "output_type": "execute_result"
    }
   ],
   "source": [
    "client.collections.exists(\"Movie\")"
   ]
  },
  {
   "cell_type": "markdown",
   "id": "d1ec4752-6428-4db0-b5b3-c36db1b6caaf",
   "metadata": {},
   "source": [
    "### Add data"
   ]
  },
  {
   "cell_type": "markdown",
   "id": "d809f0b6-d816-448a-9619-b8f660b0eef7",
   "metadata": {},
   "source": [
    "We'll add actual objects (SQL rows) to our data. \n",
    "\n",
    "First, let's build objects to add - and take a look at a couple."
   ]
  },
  {
   "cell_type": "code",
   "execution_count": 9,
   "id": "a4453f38-67ac-4de6-9f3d-decc3527149a",
   "metadata": {
    "executionCancelledAt": null,
    "executionTime": 47,
    "lastExecutedAt": 1692032185826,
    "lastScheduledRunId": null,
    "lastSuccessfullyExecutedCode": "for o in data[:2]:\n    obj_body = {\n        \"question\": o[\"Question\"],\n        \"answer\": o[\"Answer\"],\n    }\n    print(obj_body)",
    "outputsMetadata": {
     "0": {
      "height": 97,
      "type": "stream"
     }
    }
   },
   "outputs": [
    {
     "data": {
      "text/html": [
       "<div>\n",
       "<style scoped>\n",
       "    .dataframe tbody tr th:only-of-type {\n",
       "        vertical-align: middle;\n",
       "    }\n",
       "\n",
       "    .dataframe tbody tr th {\n",
       "        vertical-align: top;\n",
       "    }\n",
       "\n",
       "    .dataframe thead th {\n",
       "        text-align: right;\n",
       "    }\n",
       "</style>\n",
       "<table border=\"1\" class=\"dataframe\">\n",
       "  <thead>\n",
       "    <tr style=\"text-align: right;\">\n",
       "      <th></th>\n",
       "      <th>title</th>\n",
       "      <th>overview</th>\n",
       "      <th>year</th>\n",
       "      <th>popularity</th>\n",
       "    </tr>\n",
       "  </thead>\n",
       "  <tbody>\n",
       "    <tr>\n",
       "      <th>0</th>\n",
       "      <td>Cinderella</td>\n",
       "      <td>Cinderella has faith her dreams of a better li...</td>\n",
       "      <td>1950</td>\n",
       "      <td>100.819</td>\n",
       "    </tr>\n",
       "    <tr>\n",
       "      <th>1</th>\n",
       "      <td>Sunset Boulevard</td>\n",
       "      <td>A hack screenwriter writes a screenplay for a ...</td>\n",
       "      <td>1950</td>\n",
       "      <td>57.740</td>\n",
       "    </tr>\n",
       "    <tr>\n",
       "      <th>2</th>\n",
       "      <td>Rashomon</td>\n",
       "      <td>Brimming with action while incisively examinin...</td>\n",
       "      <td>1950</td>\n",
       "      <td>21.011</td>\n",
       "    </tr>\n",
       "    <tr>\n",
       "      <th>3</th>\n",
       "      <td>Alice in Wonderland</td>\n",
       "      <td>On a golden afternoon, young Alice follows a W...</td>\n",
       "      <td>1951</td>\n",
       "      <td>75.465</td>\n",
       "    </tr>\n",
       "    <tr>\n",
       "      <th>4</th>\n",
       "      <td>Singin' in the Rain</td>\n",
       "      <td>In 1927 Hollywood, a silent film production co...</td>\n",
       "      <td>1952</td>\n",
       "      <td>31.407</td>\n",
       "    </tr>\n",
       "  </tbody>\n",
       "</table>\n",
       "</div>"
      ],
      "text/plain": [
       "                 title                                           overview  \\\n",
       "0           Cinderella  Cinderella has faith her dreams of a better li...   \n",
       "1     Sunset Boulevard  A hack screenwriter writes a screenplay for a ...   \n",
       "2             Rashomon  Brimming with action while incisively examinin...   \n",
       "3  Alice in Wonderland  On a golden afternoon, young Alice follows a W...   \n",
       "4  Singin' in the Rain  In 1927 Hollywood, a silent film production co...   \n",
       "\n",
       "   year  popularity  \n",
       "0  1950     100.819  \n",
       "1  1950      57.740  \n",
       "2  1950      21.011  \n",
       "3  1951      75.465  \n",
       "4  1952      31.407  "
      ]
     },
     "execution_count": 9,
     "metadata": {},
     "output_type": "execute_result"
    }
   ],
   "source": [
    "data_columns = ['title', 'overview', 'year', 'popularity']\n",
    "\n",
    "df = movie_df[data_columns]\n",
    "\n",
    "df.head()"
   ]
  },
  {
   "cell_type": "markdown",
   "id": "d0d65333-ce25-4833-92b7-57ca8113bdb2",
   "metadata": {},
   "source": [
    "> If it all looks fine - let's add objects:\n",
    "> - https://weaviate.io/developers/weaviate/manage-data/import"
   ]
  },
  {
   "cell_type": "code",
   "execution_count": 10,
   "id": "1b445597-3655-4606-99e8-8398c50b632d",
   "metadata": {
    "executionCancelledAt": null,
    "executionTime": 6734,
    "lastExecutedAt": 1692032192560,
    "lastScheduledRunId": null,
    "lastSuccessfullyExecutedCode": "with client.batch() as batch:\n    for o in data:\n        obj_body = {\n            \"question\": o[\"Question\"],\n            \"answer\": o[\"Answer\"],\n        }\n        batch.add_data_object(\n            data_object=obj_body,\n            class_name=\"Question\"\n        )",
    "outputsMetadata": {
     "0": {
      "height": 97,
      "type": "stream"
     }
    }
   },
   "outputs": [
    {
     "name": "stderr",
     "output_type": "stream",
     "text": [
      "{\"build_git_commit\":\"6c571ff13\",\"build_go_version\":\"go1.23.2\",\"build_image_tag\":\"\",\"build_wv_version\":\"\",\"level\":\"warning\",\"msg\":\"prop len tracker file /Users/jphwang/.local/share/weaviate/movie/7BOpqO8IPlAH/proplengths does not exist, creating new tracker\",\"time\":\"2024-10-29T12:34:27Z\"}\n",
      "{\"action\":\"hnsw_prefill_cache_async\",\"build_git_commit\":\"6c571ff13\",\"build_go_version\":\"go1.23.2\",\"build_image_tag\":\"\",\"build_wv_version\":\"\",\"level\":\"info\",\"msg\":\"not waiting for vector cache prefill, running in background\",\"time\":\"2024-10-29T12:34:27Z\",\"wait_for_cache_prefill\":false}\n",
      "{\"action\":\"hnsw_vector_cache_prefill\",\"build_git_commit\":\"6c571ff13\",\"build_go_version\":\"go1.23.2\",\"build_image_tag\":\"\",\"build_wv_version\":\"\",\"count\":1000,\"index_id\":\"vectors_overview\",\"level\":\"info\",\"limit\":1000000000000,\"msg\":\"prefilled vector cache\",\"time\":\"2024-10-29T12:34:27Z\",\"took\":35375}\n",
      "{\"action\":\"hnsw_prefill_cache_async\",\"build_git_commit\":\"6c571ff13\",\"build_go_version\":\"go1.23.2\",\"build_image_tag\":\"\",\"build_wv_version\":\"\",\"level\":\"info\",\"msg\":\"not waiting for vector cache prefill, running in background\",\"time\":\"2024-10-29T12:34:27Z\",\"wait_for_cache_prefill\":false}\n",
      "{\"build_git_commit\":\"6c571ff13\",\"build_go_version\":\"go1.23.2\",\"build_image_tag\":\"\",\"build_wv_version\":\"\",\"level\":\"info\",\"msg\":\"Created shard movie_7BOpqO8IPlAH in 1.985542ms\",\"time\":\"2024-10-29T12:34:27Z\"}\n",
      "{\"action\":\"hnsw_vector_cache_prefill\",\"build_git_commit\":\"6c571ff13\",\"build_go_version\":\"go1.23.2\",\"build_image_tag\":\"\",\"build_wv_version\":\"\",\"count\":1000,\"index_id\":\"vectors_title\",\"level\":\"info\",\"limit\":1000000000000,\"msg\":\"prefilled vector cache\",\"time\":\"2024-10-29T12:34:27Z\",\"took\":41125}\n",
      "{\"action\":\"telemetry_push\",\"build_git_commit\":\"6c571ff13\",\"build_go_version\":\"go1.23.2\",\"build_image_tag\":\"\",\"build_wv_version\":\"\",\"level\":\"info\",\"msg\":\"telemetry started\",\"payload\":\"\\u0026{MachineID:20f9dd85-ea84-4a3a-947a-0c4c828d628e Type:INIT Version:1.27.0 NumObjects:0 OS:darwin Arch:arm64 UsedModules:[generative-anthropic text2vec-cohere text2vec-openai]}\",\"time\":\"2024-10-29T12:34:27Z\"}\n"
     ]
    }
   ],
   "source": [
    "movies = client.collections.get(\"Movie\")\n",
    "\n",
    "with movies.batch.dynamic() as batch:\n",
    "    for i, row in df.iterrows():\n",
    "        obj_body = {\n",
    "            c: row[c] for c in data_columns\n",
    "        }\n",
    "        batch.add_object(\n",
    "            properties=obj_body\n",
    "        )"
   ]
  },
  {
   "cell_type": "code",
   "execution_count": 11,
   "id": "0d819661",
   "metadata": {},
   "outputs": [
    {
     "name": "stdout",
     "output_type": "stream",
     "text": [
      "0\n"
     ]
    }
   ],
   "source": [
    "print(len(movies.batch.failed_objects))"
   ]
  },
  {
   "cell_type": "markdown",
   "id": "216d67ac-f92d-4239-b1cb-8c76ea2cf6ca",
   "metadata": {},
   "source": [
    "#### Confirm data load"
   ]
  },
  {
   "cell_type": "markdown",
   "id": "9003b6a9-1d0c-4f31-a3a2-945a7a17dfd8",
   "metadata": {},
   "source": [
    "Do we have data? \n",
    "\n",
    "Let's get an object count"
   ]
  },
  {
   "cell_type": "code",
   "execution_count": 12,
   "id": "748cf869-67cd-4b39-b230-23b043217aa3",
   "metadata": {
    "executionCancelledAt": null,
    "executionTime": 48,
    "lastExecutedAt": 1692032192610,
    "lastScheduledRunId": null,
    "lastSuccessfullyExecutedCode": "jprint(client.query.aggregate(\"Question\").with_meta_count().do())",
    "outputsMetadata": {
     "0": {
      "height": 277,
      "type": "stream"
     }
    }
   },
   "outputs": [
    {
     "data": {
      "text/plain": [
       "AggregateReturn(properties={}, total_count=1322)"
      ]
     },
     "execution_count": 12,
     "metadata": {},
     "output_type": "execute_result"
    }
   ],
   "source": [
    "movies = client.collections.get(\"Movie\")\n",
    "\n",
    "movies.aggregate.over_all(total_count=True)"
   ]
  },
  {
   "cell_type": "markdown",
   "id": "1233f9b5-5676-4dc3-bcc8-86df0f86553f",
   "metadata": {},
   "source": [
    "Does the data look right?\n",
    "\n",
    "Let's grab a few objects from Weaviate!"
   ]
  },
  {
   "cell_type": "code",
   "execution_count": 13,
   "id": "345479f8-b31f-4ba4-8777-bc13cd6d91cf",
   "metadata": {
    "executionCancelledAt": null,
    "executionTime": null,
    "lastExecutedAt": null,
    "lastScheduledRunId": null,
    "lastSuccessfullyExecutedCode": null,
    "outputsMetadata": {
     "0": {
      "height": 377,
      "type": "stream"
     }
    }
   },
   "outputs": [
    {
     "name": "stdout",
     "output_type": "stream",
     "text": [
      "{'title': 'The Departed', 'overview': \"To take down South Boston's Irish Mafia, the police send in one of their own to infiltrate the underworld, not realizing the syndicate has done likewise. While an undercover cop curries favor with the mob kingpin, a career criminal rises through the police ranks. But both sides soon discover there's a mole among them.\", 'year': 2006, 'popularity': 99.772}\n",
      "{'title': 'The Rock', 'overview': 'When vengeful General Francis X. Hummel seizes control of Alcatraz Island and threatens to launch missiles loaded with deadly chemical weapons into San Francisco, only a young FBI chemical weapons expert and notorious Federal prisoner have the stills to penetrate the impregnable island fortress and take him down.', 'year': 1996, 'popularity': 115.51}\n",
      "{'title': 'World War Z', 'overview': 'Life for former United Nations investigator Gerry Lane and his family seems content. Suddenly, the world is plagued by a mysterious infection turning whole human populations into rampaging mindless zombies. After barely escaping the chaos, Lane is persuaded to go on a mission to investigate this disease. What follows is a perilous trek around the world where Lane must brave horrific dangers and long odds to find answers before human civilization falls.', 'year': 2013, 'popularity': 124.857}\n"
     ]
    }
   ],
   "source": [
    "response = movies.query.fetch_objects(limit=3)\n",
    "for o in response.objects:\n",
    "    print(o.properties)"
   ]
  },
  {
   "cell_type": "markdown",
   "id": "663c77a3-b0f2-429b-b2fe-78cef9d6ac40",
   "metadata": {},
   "source": [
    "Let's pause for a second - because we've done a lot!"
   ]
  },
  {
   "cell_type": "markdown",
   "id": "c4b1dbad-dfa7-4f88-a5f5-ea6a0f39e413",
   "metadata": {},
   "source": [
    "#### What did we just do?\n",
    "\n",
    "Here is a conceptual diagram"
   ]
  },
  {
   "cell_type": "markdown",
   "id": "436522dc-8cd0-47c4-8286-f839e5a785d4",
   "metadata": {},
   "source": [
    "![img](https://github.com/weaviate-tutorials/intro-workshop/blob/main/images/object_import_process_full.png?raw=1)"
   ]
  },
  {
   "cell_type": "markdown",
   "id": "2ac15074-c5f6-48e9-9950-35ee265e14d0",
   "metadata": {},
   "source": [
    "## Step 3: Work with the data"
   ]
  },
  {
   "cell_type": "markdown",
   "id": "38c5e47f-c408-4fc4-83f8-4e133d040b3b",
   "metadata": {},
   "source": [
    "Let's try a few more involved queries"
   ]
  },
  {
   "cell_type": "markdown",
   "id": "dd5740b2-2846-4462-b140-1b1b9c4544ec",
   "metadata": {},
   "source": [
    "### Filtering (similar to WHERE filter in SQL)"
   ]
  },
  {
   "cell_type": "markdown",
   "id": "b0c640bf-9f35-4d1e-96e5-455b2fb69fde",
   "metadata": {},
   "source": [
    "Let's find objects that meet a particular condition."
   ]
  },
  {
   "cell_type": "code",
   "execution_count": 14,
   "id": "db451d4b-fcdf-440f-8502-854d970c98d6",
   "metadata": {
    "executionCancelledAt": null,
    "executionTime": 48,
    "lastExecutedAt": 1692032192706,
    "lastScheduledRunId": null,
    "lastSuccessfullyExecutedCode": "where_filter = {\n    \"path\": [\"question\"],\n    \"operator\": \"Like\",\n    \"valueText\": \"*history*\"\n}\n\nresponse = (\n    client.query\n    .get(\"Question\", [\"question\", \"answer\"])\n    .with_where(where_filter)\n    .with_limit(3)\n    .do()\n)\n\njprint(response)",
    "outputsMetadata": {
     "0": {
      "height": 477,
      "type": "stream"
     }
    }
   },
   "outputs": [
    {
     "name": "stdout",
     "output_type": "stream",
     "text": [
      "Ghostbusters\n",
      "Arrival\n",
      "Doctor Strange\n"
     ]
    }
   ],
   "source": [
    "import weaviate.classes.query as wq\n",
    "\n",
    "response = movies.query.fetch_objects(\n",
    "    filters=wq.Filter.by_property(\"year\").greater_than(2015),\n",
    "    limit=3\n",
    ")\n",
    "\n",
    "for o in response.objects:\n",
    "    print(o.properties[\"title\"])"
   ]
  },
  {
   "cell_type": "markdown",
   "id": "d4bd3737-068a-4a88-8386-0148999947ed",
   "metadata": {},
   "source": [
    "But this does not rank the result in any meaningful way. \n",
    "\n",
    "For that, we need a keyword search (as opposed to a keyword *filter*)."
   ]
  },
  {
   "cell_type": "markdown",
   "id": "6553f176-47b5-4c2b-88e2-5c8fea71fe7e",
   "metadata": {},
   "source": [
    "### Keyword search"
   ]
  },
  {
   "cell_type": "markdown",
   "id": "d7a3d7c7-d376-465e-8a23-841203d54055",
   "metadata": {},
   "source": [
    "Unlike a keyword filter, a keyword search will search for, and rank results based on the frequency of the keyword."
   ]
  },
  {
   "cell_type": "code",
   "execution_count": 15,
   "id": "62d78900-199a-4b8d-8da1-3223c3ada047",
   "metadata": {
    "executionCancelledAt": null,
    "executionTime": 52,
    "lastExecutedAt": 1692032192810,
    "lastScheduledRunId": null,
    "lastSuccessfullyExecutedCode": "response = (\n    client.query\n    .get(\"Question\", [\"question\", \"answer\"])\n    .with_bm25(\"history\")\n    .with_limit(3)\n    .do()\n)\n\njprint(response)",
    "outputsMetadata": {
     "0": {
      "height": 477,
      "type": "stream"
     }
    }
   },
   "outputs": [
    {
     "name": "stdout",
     "output_type": "stream",
     "text": [
      "3.2621753215789795\n",
      "2024-10-29 12:34:34.957000+00:00\n",
      "{'title': 'Guardians of the Galaxy Vol. 3', 'overview': 'Peter Quill, still reeling from the loss of Gamora, must rally his team around him to defend the universe along with protecting one of their own. A mission that, if not completed successfully, could quite possibly lead to the end of the Guardians as we know them.', 'year': 2023, 'popularity': 165.416}\n",
      "3.2621753215789795\n",
      "2024-10-29 12:34:34.086000+00:00\n",
      "{'overview': \"The Guardians must fight to keep their newfound family together as they unravel the mysteries of Peter Quill's true parentage.\", 'year': 2017, 'title': 'Guardians of the Galaxy Vol. 2', 'popularity': 142.267}\n",
      "2.128286361694336\n",
      "2024-10-29 12:34:31.492000+00:00\n",
      "{'title': 'Star Wars: Episode II - Attack of the Clones', 'overview': 'Following an assassination attempt on Senator Padmé Amidala, Jedi Knights Anakin Skywalker and Obi-Wan Kenobi investigate a mysterious plot that could change the galaxy forever.', 'year': 2002, 'popularity': 44.575}\n",
      "2.0567948818206787\n",
      "2024-10-29 12:34:34.086000+00:00\n",
      "{'title': 'Alien: Covenant', 'overview': 'The crew of the colony ship Covenant, bound for a remote planet on the far side of the galaxy, discovers what they think is an uncharted paradise but is actually a dark, dangerous world.', 'year': 2017, 'popularity': 235.941}\n",
      "1.9015520811080933\n",
      "2024-10-29 12:34:31.469000+00:00\n",
      "{'title': 'Galaxy Quest', 'overview': 'For four years, the courageous crew of the NSEA protector - \"Commander Peter Quincy Taggart\" (Tim Allen), \"Lt. Tawny Madison (Sigourney Weaver) and \"Dr.Lazarus\" (Alan Rickman) - set off on a thrilling and often dangerous mission in space...and then their series was cancelled! Now, twenty years later, aliens under attack have mistaken the Galaxy Quest television transmissions for \"historical documents\" and beam up the crew of has-been actors to save the universe. With no script, no director and no clue, the actors must turn in the performances of their lives.', 'year': 1999, 'popularity': 62.01}\n"
     ]
    }
   ],
   "source": [
    "response = movies.query.bm25(\n",
    "    query=\"galaxy\",\n",
    "    limit=5,\n",
    "    return_metadata=wq.MetadataQuery(score=True, last_update_time=True)\n",
    ")\n",
    "\n",
    "for o in response.objects:\n",
    "    print(o.metadata.score)\n",
    "    print(o.metadata.last_update_time)\n",
    "    print(o.properties)"
   ]
  },
  {
   "cell_type": "markdown",
   "id": "ada69268-32aa-4175-99e8-516e355d5703",
   "metadata": {},
   "source": [
    "### Semantic search"
   ]
  },
  {
   "cell_type": "markdown",
   "id": "fa422c04-ae07-48e4-8202-1ea0615db2a0",
   "metadata": {},
   "source": [
    "A semantic search, on the other hand, searches objects based on similarity"
   ]
  },
  {
   "cell_type": "code",
   "execution_count": 16,
   "id": "295bcedc-496d-49a0-b8c1-b3a398d728b8",
   "metadata": {
    "executionCancelledAt": null,
    "executionTime": 159,
    "lastExecutedAt": 1692032192969,
    "lastScheduledRunId": null,
    "lastSuccessfullyExecutedCode": "response = (\n    client.query\n    .get(\"Question\", [\"question\", \"answer\"])\n    .with_near_text({\"concepts\": [\"history\"]})\n    .with_limit(3)\n    .do()\n)\n\njprint(response)",
    "outputsMetadata": {
     "0": {
      "height": 477,
      "type": "stream"
     }
    }
   },
   "outputs": [
    {
     "name": "stdout",
     "output_type": "stream",
     "text": [
      "MetadataReturn(creation_time=None, last_update_time=None, distance=0.46619880199432373, certainty=None, score=None, explain_score=None, is_consistent=None, rerank_score=None)\n",
      "{\n",
      "  \"title\": \"Galaxy Quest\",\n",
      "  \"overview\": \"For four years, the courageous crew of the NSEA protector - \\\"Commander Peter Quincy Taggart\\\" (Tim Allen), \\\"Lt. Tawny Madison (Sigourney Weaver) and \\\"Dr.Lazarus\\\" (Alan Rickman) - set off on a thrilling and often dangerous mission in space...and then their series was cancelled! Now, twenty years later, aliens under attack have mistaken the Galaxy Quest television transmissions for \\\"historical documents\\\" and beam up the crew of has-been actors to save the universe. With no script, no director and no clue, the actors must turn in the performances of their lives.\",\n",
      "  \"year\": 1999,\n",
      "  \"popularity\": 62.01\n",
      "}\n",
      "MetadataReturn(creation_time=None, last_update_time=None, distance=0.523431658744812, certainty=None, score=None, explain_score=None, is_consistent=None, rerank_score=None)\n",
      "{\n",
      "  \"title\": \"Guardians of the Galaxy Vol. 2\",\n",
      "  \"overview\": \"The Guardians must fight to keep their newfound family together as they unravel the mysteries of Peter Quill's true parentage.\",\n",
      "  \"year\": 2017,\n",
      "  \"popularity\": 142.267\n",
      "}\n",
      "MetadataReturn(creation_time=None, last_update_time=None, distance=0.5245879888534546, certainty=None, score=None, explain_score=None, is_consistent=None, rerank_score=None)\n",
      "{\n",
      "  \"title\": \"Stargate\",\n",
      "  \"overview\": \"An interstellar teleportation device, found in Egypt, leads to a planet with humans resembling ancient Egyptians who worship the god Ra.\",\n",
      "  \"year\": 1994,\n",
      "  \"popularity\": 34.343\n",
      "}\n"
     ]
    }
   ],
   "source": [
    "response = movies.query.near_text(\n",
    "    query=\"galaxy\",\n",
    "    limit=3,\n",
    "    target_vector=\"title\",\n",
    "    return_metadata=wq.MetadataQuery(distance=True)\n",
    ")\n",
    "\n",
    "for o in response.objects:\n",
    "    print(o.metadata)\n",
    "    print(json.dumps(o.properties, indent=2))"
   ]
  },
  {
   "cell_type": "markdown",
   "id": "6ab8beb0-ab45-4590-a4de-84b68370c026",
   "metadata": {},
   "source": [
    "#### How does this work?\n",
    "\n",
    "- Under the hood, this uses a vector search. It looks for objects which are the most similar to a text input.\n",
    "- We can inspect the similarity along with the results."
   ]
  },
  {
   "cell_type": "code",
   "execution_count": 17,
   "id": "185a77e4-b27a-4b80-9981-fd975f92e67a",
   "metadata": {
    "executionCancelledAt": null,
    "executionTime": 142,
    "lastExecutedAt": 1692032193111,
    "lastScheduledRunId": null,
    "lastSuccessfullyExecutedCode": "response = (\n    client.query\n    .get(\"Question\", [\"question\", \"answer\"])\n    .with_near_text({\"concepts\": [\"history\"]})\n    .with_additional(\"distance\")\n    .with_limit(3)\n    .do()\n)\n\njprint(response)",
    "outputsMetadata": {
     "0": {
      "height": 616,
      "type": "stream"
     }
    }
   },
   "outputs": [
    {
     "name": "stdout",
     "output_type": "stream",
     "text": [
      "0.46619880199432373\n",
      "{\n",
      "  \"title\": \"Galaxy Quest\",\n",
      "  \"overview\": \"For four years, the courageous crew of the NSEA protector - \\\"Commander Peter Quincy Taggart\\\" (Tim Allen), \\\"Lt. Tawny Madison (Sigourney Weaver) and \\\"Dr.Lazarus\\\" (Alan Rickman) - set off on a thrilling and often dangerous mission in space...and then their series was cancelled! Now, twenty years later, aliens under attack have mistaken the Galaxy Quest television transmissions for \\\"historical documents\\\" and beam up the crew of has-been actors to save the universe. With no script, no director and no clue, the actors must turn in the performances of their lives.\",\n",
      "  \"year\": 1999,\n",
      "  \"popularity\": 62.01\n",
      "}\n",
      "0.523431658744812\n",
      "{\n",
      "  \"title\": \"Guardians of the Galaxy Vol. 2\",\n",
      "  \"overview\": \"The Guardians must fight to keep their newfound family together as they unravel the mysteries of Peter Quill's true parentage.\",\n",
      "  \"year\": 2017,\n",
      "  \"popularity\": 142.267\n",
      "}\n",
      "0.5245879888534546\n",
      "{\n",
      "  \"title\": \"Stargate\",\n",
      "  \"overview\": \"An interstellar teleportation device, found in Egypt, leads to a planet with humans resembling ancient Egyptians who worship the god Ra.\",\n",
      "  \"year\": 1994,\n",
      "  \"popularity\": 34.343\n",
      "}\n"
     ]
    }
   ],
   "source": [
    "response = movies.query.near_text(\n",
    "    query=\"galaxy\",\n",
    "    limit=3,\n",
    "    target_vector=\"title\",  # or \"overview\"\n",
    "    return_metadata=wq.MetadataQuery(distance=True)\n",
    ")\n",
    "\n",
    "for o in response.objects:\n",
    "    print(o.metadata.distance)\n",
    "    print(json.dumps(o.properties, indent=2))"
   ]
  },
  {
   "cell_type": "markdown",
   "id": "6df9e24c-edf7-4f25-ac30-6e291b3ffcad",
   "metadata": {},
   "source": [
    "This is where \"vectors\" come in. \n",
    "\n",
    "Each object in Weaviate includes a vector - like so:"
   ]
  },
  {
   "cell_type": "code",
   "execution_count": 18,
   "id": "1d75ad29-ce85-4bca-beaf-da708b20fb57",
   "metadata": {
    "executionCancelledAt": null,
    "executionTime": 54,
    "lastExecutedAt": 1692032193165,
    "lastScheduledRunId": null,
    "lastSuccessfullyExecutedCode": "response = (\n    client.query\n    .get(\"Question\", [\"question\", \"answer\"])\n    .with_additional(\"vector\")\n    .with_limit(1)\n    .do()\n)\n\njprint(response)",
    "outputsMetadata": {
     "0": {
      "height": 616,
      "type": "stream"
     }
    },
    "scrolled": true
   },
   "outputs": [
    {
     "name": "stdout",
     "output_type": "stream",
     "text": [
      "0.46619880199432373\n",
      "{'overview': [0.0171356201171875, 0.06304931640625, -0.04339599609375, 0.014739990234375, -0.019317626953125, -0.0550537109375, -0.0297393798828125, -0.0567626953125, -0.050079345703125, 0.034088134765625, 0.0841064453125, -0.04034423828125, 0.03570556640625, -0.034820556640625, 0.05108642578125, -0.024871826171875, -0.01035308837890625, -0.025909423828125, -0.01329803466796875, -0.00933837890625, -0.00658416748046875, 0.054718017578125, 0.037445068359375, -0.004016876220703125, 0.02593994140625, 0.01413726806640625, 0.044647216796875, 0.0019817352294921875, 0.0692138671875, 0.021026611328125, 0.0177154541015625, -0.043731689453125, 0.031219482421875, 0.038055419921875, 0.0030345916748046875, 0.018157958984375, 0.0193328857421875, -0.00823974609375, 0.01282501220703125, 0.0137481689453125, -0.003551483154296875, -0.01511383056640625, -0.035003662109375, 0.011962890625, -0.04052734375, 0.00507354736328125, 0.037628173828125, 0.0237579345703125, 0.066162109375, -0.004077911376953125, 0.060821533203125, -0.030181884765625, -0.002376556396484375, 0.0169677734375, -0.01305389404296875, -0.003398895263671875, -0.06134033203125, -0.021881103515625, 0.07476806640625, -0.005046844482421875, 0.031402587890625, 0.0340576171875, -0.00083160400390625, 0.0127716064453125, -0.0062713623046875, -0.0295867919921875, -0.020294189453125, 0.0059356689453125, -0.00506591796875, 0.0117340087890625, 0.0008130073547363281, -0.004642486572265625, 0.0182037353515625, 0.0162353515625, 0.0035495758056640625, -0.01239013671875, 0.0039825439453125, 0.056549072265625, 0.0102386474609375, -0.0172119140625, -0.01457977294921875, -0.005214691162109375, 0.038055419921875, 0.01256561279296875, -0.04852294921875, -0.02288818359375, -0.0252532958984375, 0.00899505615234375, 0.017120361328125, 0.05108642578125, -0.0257720947265625, 0.04998779296875, 0.058319091796875, -0.045684814453125, 0.038330078125, -0.0160369873046875, 0.0018711090087890625, 0.0284423828125, 0.0238494873046875, 0.010986328125, 0.00705718994140625, -0.01413726806640625, 0.0028285980224609375, -0.0153656005859375, 0.024078369140625, 0.0016679763793945312, 0.05291748046875, 0.0157470703125, 0.013275146484375, 0.035186767578125, -0.028961181640625, 0.034698486328125, -0.00228118896484375, 0.005611419677734375, 0.01064300537109375, -0.0028438568115234375, -0.01245880126953125, -0.010406494140625, -0.02398681640625, -0.0119171142578125, -0.009735107421875, 0.01442718505859375, -0.01081085205078125, 0.00908660888671875, -0.0149383544921875, -0.0182647705078125, 0.0253448486328125, -0.006290435791015625, -0.038116455078125, 0.00933074951171875, -0.03753662109375, 0.01438140869140625, 0.01493072509765625, 0.0179901123046875, 0.06341552734375, -0.044403076171875, -0.03704833984375, -0.0286712646484375, 0.0230255126953125, 0.03375244140625, 0.038482666015625, 0.050262451171875, 0.0121612548828125, 0.054046630859375, 0.00679779052734375, -0.03271484375, 0.04974365234375, 0.03887939453125, 0.00543975830078125, -0.0025882720947265625, 0.00909423828125, -0.0191497802734375, 0.0145416259765625, 0.01297760009765625, -0.038848876953125, -0.0175323486328125, -0.03790283203125, -0.00862884521484375, -0.0146636962890625, 0.04986572265625, -0.0262451171875, 0.01288604736328125, 0.0100555419921875, 0.0122528076171875, 0.0692138671875, 0.0021419525146484375, -0.00511932373046875, 0.0012454986572265625, 0.020721435546875, -0.002864837646484375, 0.0232696533203125, 0.014739990234375, -0.0201568603515625, -0.01203155517578125, -0.03863525390625, -0.07049560546875, 0.004970550537109375, 0.036346435546875, 0.035858154296875, -0.03387451171875, 0.0161590576171875, 0.023193359375, -0.033172607421875, -0.0011272430419921875, 0.03936767578125, 0.0003108978271484375, 0.003917694091796875, 0.01548004150390625, 0.0262451171875, 0.059326171875, -0.08306884765625, 0.0203094482421875, -0.0174713134765625, -0.0416259765625, 0.0078582763671875, -0.03973388671875, 0.036529541015625, -0.0171051025390625, 0.032470703125, -0.036529541015625, -0.027099609375, 0.0175323486328125, 0.043853759765625, 0.051239013671875, -0.0340576171875, 0.0264892578125, 0.036590576171875, 0.043487548828125, -0.0184478759765625, 0.0198211669921875, -0.013916015625, -0.0120697021484375, 0.0295257568359375, -0.00814056396484375, -0.0014467239379882812, -0.01442718505859375, 0.005035400390625, 0.01105499267578125, 0.003326416015625, 0.002574920654296875, 0.020782470703125, -0.00714874267578125, -0.0303192138671875, 0.0087890625, -0.0232086181640625, 0.006122589111328125, 0.038482666015625, -0.0771484375, 0.055633544921875, -0.0318603515625, -0.024505615234375, -0.00957489013671875, 0.0180511474609375, -0.053131103515625, 0.0278167724609375, 0.022308349609375, -0.0372314453125, -0.00988006591796875, -0.0272064208984375, -0.03778076171875, 0.0106048583984375, 0.0169830322265625, -0.00814056396484375, -0.013031005859375, -0.0240325927734375, -0.00406646728515625, -0.032928466796875, -0.02783203125, 0.0167236328125, -0.0177154541015625, -0.0069732666015625, 0.0280609130859375, 0.001068115234375, -0.00223541259765625, 0.0175018310546875, -0.038665771484375, -0.06463623046875, 0.02996826171875, 0.025787353515625, 6.079673767089844e-05, 0.01389312744140625, -0.01282501220703125, 0.016082763671875, -0.0066680908203125, -0.059722900390625, -0.00615692138671875, 0.0093231201171875, 0.033935546875, 0.0254364013671875, 0.0382080078125, 0.0819091796875, -0.029998779296875, 0.01490020751953125, -0.02545166015625, -0.042266845703125, -0.0030498504638671875, -0.003223419189453125, -0.005947113037109375, 0.0156707763671875, 0.049285888671875, 0.029815673828125, -0.01190948486328125, 0.02069091796875, -0.009765625, -0.054595947265625, -0.01348876953125, 0.01690673828125, -0.019989013671875, 0.0245819091796875, -0.020050048828125, -0.0291748046875, -0.0034084320068359375, -0.00264739990234375, 0.037139892578125, -0.0008978843688964844, -0.0031642913818359375, -0.0831298828125, 0.03076171875, 0.046905517578125, -0.006862640380859375, -0.0020313262939453125, 0.06854248046875, 0.03912353515625, -0.0238800048828125, 0.04541015625, 0.0278778076171875, -0.061187744140625, -0.001117706298828125, -0.04412841796875, 0.03204345703125, -0.016571044921875, 0.0004496574401855469, -0.00838470458984375, -0.0162200927734375, 0.022613525390625, -0.0445556640625, -0.0078277587890625, -0.01319122314453125, 0.007625579833984375, 0.039581298828125, -0.04437255859375, -0.03692626953125, -0.0709228515625, 0.025177001953125, -0.041351318359375, 0.0167999267578125, 0.0283966064453125, -0.007328033447265625, -0.007068634033203125, 0.051544189453125, -0.01153564453125, -0.0158233642578125, 0.02301025390625, -0.007656097412109375, 0.0201568603515625, 0.0635986328125, -0.018768310546875, -0.028106689453125, -0.01172637939453125, 0.044464111328125, 0.085693359375, 0.05328369140625, -0.06304931640625, -0.026397705078125, 0.031524658203125, -0.0019073486328125, 0.004367828369140625, 0.0014104843139648438, -0.0026607513427734375, -0.057830810546875, 0.0016260147094726562, -0.036590576171875, -0.01042938232421875, -0.035430908203125, 0.033660888671875, 8.255243301391602e-05, 0.038330078125, 0.056671142578125, 0.007595062255859375, -0.0014181137084960938, 0.02197265625, -0.028411865234375, -0.04058837890625, 0.048095703125, 0.05926513671875, 0.034210205078125, -0.0062713623046875, 0.007053375244140625, -0.0192718505859375, 0.0126953125, 0.002948760986328125, 0.0221099853515625, 0.0188140869140625, 0.029296875, -0.0214385986328125, -0.0157470703125, -0.042694091796875, -0.045806884765625, -0.025390625, -0.004425048828125, 0.035797119140625, 0.013458251953125, -0.035614013671875, 0.04217529296875, 0.031951904296875, -0.012176513671875, -0.00274658203125, -0.0003809928894042969, 0.09521484375, 0.01490020751953125, 0.05377197265625, -0.02606201171875, 0.034210205078125, 0.0452880859375, 0.017730712890625, -0.085205078125, -0.0419921875, 0.01227569580078125, 0.035797119140625, -0.045684814453125, -0.00704193115234375, -0.050537109375, -0.0285491943359375, -0.03631591796875, 0.0224761962890625, 0.0142059326171875, -0.0197906494140625, 0.025787353515625, 0.0036182403564453125, -0.00435638427734375, -0.025146484375, -0.0122222900390625, 0.036468505859375, -0.0302886962890625, 0.0096588134765625, -0.00640869140625, 0.00714111328125, 0.004383087158203125, -0.0246124267578125, 0.0030956268310546875, 0.032318115234375, -0.018157958984375, -0.014007568359375, 0.02587890625, 0.0140228271484375, -0.036102294921875, 0.017486572265625, 0.056365966796875, 0.0143585205078125, 0.00630950927734375, 0.0229949951171875, 0.0119476318359375, 0.0004892349243164062, 0.036590576171875, -0.014892578125, 0.031707763671875, -0.042236328125, 0.055511474609375, -0.04095458984375, 0.0182647705078125, -0.01995849609375, -0.038055419921875, 0.041290283203125, -0.004344940185546875, 0.04656982421875, 0.0244903564453125, -0.01387786865234375, 0.024139404296875, -0.0002961158752441406, 0.005451202392578125, -0.0006842613220214844, 0.009613037109375, -0.0055389404296875, -0.007297515869140625, 0.00897979736328125, 0.005504608154296875, 0.021148681640625, 0.01403045654296875, 0.0064697265625, -0.038909912109375, -0.016265869140625, -0.0057373046875, 0.00972747802734375, -0.04302978515625, -0.01104736328125, -0.000507354736328125, 0.007061004638671875, 0.009307861328125, 0.007965087890625, 0.005069732666015625, -0.038421630859375, 0.04669189453125, 0.01009368896484375, -0.0312347412109375, 0.0548095703125, -0.0002903938293457031, -0.0229034423828125, 0.0028476715087890625, -0.0102081298828125, 0.0229034423828125, 0.055694580078125, 0.03900146484375, -0.03826904296875, 0.005031585693359375, 0.041259765625, 0.0293731689453125, -0.020050048828125, 0.032745361328125, 0.08062744140625, -0.004772186279296875, -0.041900634765625, -0.01116943359375, -0.040802001953125, -0.023223876953125, 0.038055419921875, 0.0006966590881347656, 0.02935791015625, 0.0144805908203125, 0.01995849609375, -0.0231170654296875, -0.0162506103515625, -0.013702392578125, 0.0474853515625, -0.015411376953125, -0.01168060302734375, 0.005970001220703125, 0.016876220703125, -0.026580810546875, -0.00957489013671875, -0.01509857177734375, -0.01227569580078125, 0.039398193359375, 0.0060882568359375, 0.015869140625, 0.0208740234375, -0.0299072265625, -0.00565338134765625, -0.0458984375, -0.0017099380493164062, -0.007541656494140625, -0.00047969818115234375, 0.0570068359375, 0.048492431640625, -0.0009322166442871094, -0.0574951171875, -0.0003681182861328125, 0.0205841064453125, 0.055419921875, -0.040069580078125, -0.0002951622009277344, -0.0289306640625, -0.03704833984375, -0.0014247894287109375, 0.021209716796875, -0.0386962890625, -0.0762939453125, -0.004947662353515625, -0.0158233642578125, 0.03240966796875, 0.0299224853515625, -0.0672607421875, 0.022552490234375, -0.048553466796875, 0.03472900390625, 0.01007080078125, 0.005710601806640625, 0.01104736328125, 0.0072021484375, -0.052886962890625, 0.01038360595703125, -0.023529052734375, 0.01264190673828125, -0.046356201171875, -0.034576416015625, 0.0109100341796875, -0.01287078857421875, -0.048919677734375, -0.018951416015625, 0.01306915283203125, 0.0211334228515625, 0.0028285980224609375, -0.063232421875, -0.017730712890625, 0.07611083984375, 0.0152130126953125, -0.01904296875, 0.0095367431640625, 0.018341064453125, 0.01116943359375, -0.01290130615234375, -0.00705718994140625, -0.010528564453125, -0.001941680908203125, 0.01152801513671875, -0.029388427734375, 0.0716552734375, -0.007595062255859375, 0.040771484375, 0.05926513671875, -0.006122589111328125, 0.0311431884765625, -0.003322601318359375, 0.0178375244140625, -0.0292510986328125, 0.054840087890625, -0.09393310546875, 0.001819610595703125, 0.000965118408203125, -0.05877685546875, 0.00958251953125, -0.0284881591796875, -0.0119476318359375, -0.0156402587890625, 0.0012254714965820312, -0.0035686492919921875, 0.01045989990234375, 0.013458251953125, -0.0037937164306640625, -0.0131988525390625, 0.0312042236328125, -0.083984375, 0.0033740997314453125, -0.005992889404296875, -0.040924072265625, 0.043731689453125, 0.038116455078125, 0.02728271484375, 0.0289306640625, -0.0697021484375, 0.0003325939178466797, 0.0214996337890625, -0.00926971435546875, -0.034515380859375, 0.015380859375, -0.01277923583984375, -0.00693511962890625, -0.005016326904296875, 0.040740966796875, 0.035186767578125, 0.01123046875, -0.02227783203125, -0.0440673828125, -0.004001617431640625, 0.006275177001953125, -0.0084686279296875, -0.03619384765625, -0.036590576171875, 0.0079345703125, -0.01029205322265625, -0.00969696044921875, -0.04486083984375, -0.004062652587890625, 0.0211029052734375, -0.05108642578125, -0.039306640625, -0.07855224609375, 0.027069091796875, -0.050537109375, -0.01158905029296875, 0.0256500244140625, 0.0220794677734375, -0.0208892822265625, 0.0281219482421875, 0.0106658935546875, -0.016448974609375, 0.00832366943359375, 0.01273345947265625, -0.0094757080078125, -0.0041961669921875, 0.0377197265625, 0.0233001708984375, 0.029205322265625, 0.056610107421875, -0.034698486328125, -0.0013141632080078125, -0.01357269287109375, -0.01181793212890625, 0.017486572265625, -0.0013751983642578125, 0.021697998046875, -0.004726409912109375, -0.02178955078125, -0.002300262451171875, -0.0157318115234375, 0.0408935546875, -0.026123046875, 0.0230255126953125, -0.052490234375, -0.0286407470703125, -0.0062713623046875, 0.005878448486328125, 0.0207366943359375, 0.01227569580078125, 0.0178680419921875, 0.0303802490234375, -0.0104217529296875, -0.01250457763671875, 0.034820556640625, -0.02520751953125, -0.0250091552734375, 0.021087646484375, 0.06671142578125, -0.01025390625, 0.0203094482421875, 0.008819580078125, -0.002105712890625, -0.00719451904296875, -0.03546142578125, -0.044464111328125, -0.057373046875, 0.003376007080078125, 0.094482421875, 0.004730224609375, 0.026123046875, 0.0087432861328125, 0.0155792236328125, 0.0269317626953125, 0.0233154296875, -0.032135009765625, -0.026885986328125, 0.05206298828125, -0.056396484375, -0.027313232421875, 0.01116180419921875, -0.0029888153076171875, 0.01007080078125, -0.0015239715576171875, -0.01227569580078125, 0.042083740234375, 0.0209197998046875, -0.0113372802734375, -0.0141143798828125, 0.017578125, -0.046630859375, 0.034515380859375, 0.02288818359375, 0.0295257568359375, -0.01483154296875, -0.03955078125, 0.038360595703125, -0.004734039306640625, -0.0035610198974609375, -0.0020198822021484375, -0.03338623046875, 0.0184478759765625, 0.0161285400390625, -0.031158447265625, -0.008514404296875, 0.01194000244140625, -0.0231781005859375, -0.04541015625, 0.0085601806640625, -0.0252532958984375, -0.0418701171875, -0.0276336669921875, -0.0599365234375, -0.008148193359375, -0.01506805419921875, -0.01091766357421875, -0.01406097412109375, -0.025421142578125, 0.0287017822265625, -0.05645751953125, -0.051177978515625, -0.0267791748046875, 0.042572021484375, -0.02001953125, 0.038421630859375, -0.042144775390625, 0.01396942138671875, 0.0034618377685546875, 0.0266876220703125, 0.02276611328125, -0.01107025146484375, -0.02197265625, -0.00980377197265625, -0.01861572265625, -0.013031005859375, -0.046844482421875, 0.00453948974609375, 0.0006456375122070312, 0.0287933349609375, -0.003978729248046875, -0.0018978118896484375, 0.0230712890625, 0.016387939453125, 0.0022735595703125, -0.0131988525390625, -0.0169525146484375, -0.037872314453125, -0.0206451416015625, -0.0361328125, -0.0017833709716796875, -0.007228851318359375, -0.0249176025390625, 0.002712249755859375, 0.00926971435546875, 0.046600341796875, 0.0128173828125, -0.0220947265625, 0.0088653564453125, -0.03692626953125, 0.019378662109375, -0.0396728515625, 0.00186920166015625, -0.03271484375, 0.0257568359375, -0.00839996337890625, 0.0215301513671875, 0.06536865234375, 0.055755615234375, 0.00691986083984375, -0.0018978118896484375, 0.013336181640625, 0.0169219970703125, 0.00606536865234375, 0.0014314651489257812, -0.035858154296875, -0.00833892822265625, -0.0285186767578125, 0.07275390625, -0.0289764404296875, -0.040740966796875, -0.002017974853515625, 0.004589080810546875, -0.0202484130859375, -0.09222412109375, 0.05609130859375, 0.0355224609375, 0.01837158203125, 0.05133056640625, 0.0310821533203125, 0.014984130859375, 0.0279388427734375, -0.016021728515625, -0.03759765625, 0.0628662109375, 0.029388427734375, -0.016510009765625, -0.038116455078125, -0.015533447265625, 0.0223236083984375, 0.030975341796875, -0.050628662109375, -0.059967041015625, 0.0251922607421875, -0.027099609375, -0.034820556640625, -0.0211334228515625, -0.0235595703125, -0.0146331787109375, -0.02490234375, -0.01044464111328125, -0.018218994140625, -0.010528564453125, 0.0183868408203125, 0.049468994140625, 0.07501220703125, 0.01165771484375, -0.01277923583984375, 0.01715087890625, 0.01476287841796875, -0.024017333984375, 0.02130126953125, -0.045166015625, -0.00562286376953125, -0.0489501953125, -0.017364501953125, -0.0694580078125, 0.00827789306640625, 0.006862640380859375, -0.0017375946044921875, -0.05694580078125, 0.0190582275390625, 0.0158538818359375, 0.0479736328125, 0.0088653564453125, -0.09326171875, 0.03759765625, -0.0018606185913085938, -0.0743408203125, 0.01363372802734375, -0.025238037109375, 0.056304931640625, 0.05938720703125, 0.0361328125, -0.038909912109375, 0.043975830078125, 0.00628662109375, -0.03497314453125, -0.0190582275390625, 0.06903076171875, -0.02197265625, -0.00910186767578125, 0.07000732421875, -0.005168914794921875, 0.007266998291015625, 0.0032939910888671875, -0.0007357597351074219, 0.0305938720703125, 0.0233612060546875, -0.029266357421875, 0.085693359375, -0.032928466796875, -0.038177490234375, -0.0259857177734375, -0.026885986328125, 0.003589630126953125, -0.0113372802734375, 0.0223236083984375, -0.0073089599609375, 0.0034008026123046875, 0.00754547119140625, -0.047454833984375, -0.044158935546875, 0.01520538330078125, 0.055511474609375, 0.0784912109375, -0.08447265625, -0.0228424072265625, 0.0089874267578125, -0.0194244384765625, 0.0728759765625, 0.0260772705078125, -0.042755126953125, 0.021209716796875, 0.043304443359375, -0.00820159912109375, -0.0360107421875, -0.003017425537109375, 0.0091400146484375, -0.00690460205078125, 0.01605224609375, 0.01290130615234375, -0.0213775634765625, 0.01508331298828125, 0.00249481201171875, -0.0179443359375, -0.022216796875, -0.06182861328125, -0.043060302734375, 0.010650634765625, 0.0001881122589111328, -0.01092529296875, -0.0088958740234375, -0.031768798828125, 0.069580078125, -0.01094818115234375, -0.044342041015625, -0.0225372314453125, 0.042266845703125, -0.01325225830078125, 0.00911712646484375, -0.01099395751953125, -0.02984619140625, -0.0184478759765625, 0.00930023193359375, -0.003986358642578125, 0.045166015625, -0.0305938720703125, 0.0026798248291015625, 0.02960205078125, -0.0576171875, -0.037750244140625, 0.0193939208984375, 0.024566650390625, -0.01141357421875, 0.01495361328125, -0.0115966796875, -0.034576416015625, 0.0340576171875, -0.0004425048828125, 0.03778076171875, 0.015869140625, -0.0248565673828125, 0.08099365234375, -0.01806640625, 0.00925445556640625, -0.03662109375, -0.0037250518798828125, 0.0193023681640625, -0.01273345947265625, 0.0012807846069335938, -0.02777099609375, -0.004611968994140625, -0.06524658203125, -0.042205810546875, -0.00934600830078125, -0.0207672119140625, 0.02435302734375, 0.0572509765625, 0.021759033203125, 0.0011844635009765625, 0.01515960693359375, -0.0242462158203125, -0.0290679931640625, -0.0853271484375, 0.05487060546875, 0.00824737548828125, -0.0237579345703125, -0.04241943359375, -0.01305389404296875, -0.0159149169921875, 0.033294677734375, -0.0211944580078125, 0.06622314453125, -0.0037822723388671875, -0.0003745555877685547, 0.00017631053924560547, -0.02728271484375, 0.0199127197265625, 0.01605224609375, -0.0316162109375, -0.054962158203125, -0.02587890625, 0.008056640625, -0.0140838623046875, -0.014190673828125, 0.0197601318359375, 0.040252685546875, 0.021820068359375, -0.0032711029052734375, -0.0645751953125, 0.02056884765625, 0.03387451171875, 0.0148162841796875, 0.013580322265625, -0.01190948486328125, -0.0160064697265625, -0.019866943359375, -0.047332763671875, -0.033111572265625, 0.00606536865234375, -0.01119232177734375, -0.0169219970703125, -0.0107574462890625, 0.0267486572265625, -0.0328369140625, -0.007793426513671875, 0.0183258056640625, 0.0022678375244140625, 0.00821685791015625, -0.0165557861328125, 0.02691650390625], 'title': [0.0030574798583984375, 0.03717041015625, -0.021240234375, 0.0168914794921875, -0.00772857666015625, -0.01357269287109375, -0.013916015625, -0.05133056640625, -0.018341064453125, 0.0118560791015625, -0.02569580078125, -0.0193328857421875, 0.00603485107421875, -0.0211029052734375, -0.0030117034912109375, -0.0031280517578125, 0.01155853271484375, 0.0048370361328125, 0.039276123046875, 0.006916046142578125, 0.00749969482421875, 0.014862060546875, 0.018585205078125, -0.0294036865234375, 0.01605224609375, 0.040069580078125, 0.05303955078125, -0.036651611328125, 0.06671142578125, 0.0219573974609375, 0.0011739730834960938, -0.0521240234375, 0.048980712890625, 0.0207672119140625, -0.0176849365234375, -0.0024871826171875, -0.028472900390625, -0.04949951171875, -0.0028095245361328125, 0.060882568359375, -0.0362548828125, 0.0174102783203125, -0.0335693359375, 0.037078857421875, -0.035491943359375, 0.0224456787109375, 0.0004901885986328125, 0.028778076171875, 0.10919189453125, 0.008087158203125, 0.0168914794921875, -0.0162811279296875, -0.0009570121765136719, 0.0027103424072265625, -0.0005965232849121094, -0.0100555419921875, 0.00597381591796875, 0.0210723876953125, 0.01554107666015625, 0.018341064453125, 0.01082611083984375, -0.00027108192443847656, -0.0281982421875, 0.0289459228515625, 0.032928466796875, 0.036895751953125, 0.0189971923828125, 0.0193328857421875, 0.00714874267578125, 0.0171356201171875, 0.010101318359375, -0.00875091552734375, 0.03289794921875, 0.0025081634521484375, -0.0158843994140625, -0.028839111328125, 0.01166534423828125, 0.04412841796875, 0.01514434814453125, 0.0174713134765625, 0.0007338523864746094, 0.0165252685546875, 0.07757568359375, 0.047576904296875, -0.0034503936767578125, -0.0196685791015625, -0.0214080810546875, 0.03955078125, -0.052764892578125, 0.0290679931640625, 0.015045166015625, 0.0396728515625, 0.0223846435546875, -0.049285888671875, 0.00777435302734375, 0.0026454925537109375, 0.0298004150390625, -0.032012939453125, 0.0089263916015625, -0.0211334228515625, 0.01280975341796875, 0.003582000732421875, 0.02630615234375, 0.0015020370483398438, 0.01485443115234375, 0.03729248046875, 0.03759765625, 0.0181121826171875, -0.01641845703125, -0.02081298828125, 0.0185394287109375, -0.006816864013671875, 0.019195556640625, -0.01555633544921875, -0.003665924072265625, -0.0310821533203125, -0.010498046875, -0.006557464599609375, -0.0518798828125, -0.0004756450653076172, -0.05377197265625, -0.018096923828125, -0.01224517822265625, -0.0008044242858886719, -0.005340576171875, 0.040771484375, 0.01263427734375, -0.04022216796875, -0.000522613525390625, -0.0290679931640625, -0.057769775390625, 0.002777099609375, 0.01071929931640625, 0.01168060302734375, 0.03924560546875, 0.00044608116149902344, 0.0020904541015625, -0.04852294921875, 0.0188446044921875, 0.029693603515625, 0.014556884765625, 0.0430908203125, 0.0111541748046875, 0.0255279541015625, -0.0073699951171875, -0.03460693359375, 0.0018444061279296875, 0.01218414306640625, 0.004062652587890625, -0.0117034912109375, -0.035797119140625, 0.006702423095703125, 0.0271148681640625, -0.00766754150390625, -0.0169677734375, -0.0033702850341796875, 0.01023101806640625, -0.00925445556640625, -0.01003265380859375, 0.0255279541015625, -0.0192413330078125, 0.019805908203125, 0.028045654296875, -0.009368896484375, 0.02972412109375, -0.0234375, 0.01319122314453125, 0.006038665771484375, 0.016937255859375, 0.014129638671875, 0.0185699462890625, 0.00899505615234375, 0.0119171142578125, -0.0045166015625, -0.037567138671875, -0.07611083984375, 0.00012314319610595703, 0.034759521484375, 0.0765380859375, -0.04833984375, 0.055572509765625, 0.032562255859375, 0.004627227783203125, 0.042816162109375, 0.035369873046875, 0.044921875, 0.006267547607421875, -0.007633209228515625, 0.01486968994140625, 0.0745849609375, -0.04425048828125, -0.042633056640625, -0.0712890625, -0.0037441253662109375, -0.06610107421875, 0.00420379638671875, 0.049896240234375, -0.038970947265625, 0.06427001953125, 0.055023193359375, 0.0169219970703125, -0.0105743408203125, 0.005863189697265625, 0.043670654296875, 0.01751708984375, 0.01538848876953125, 0.02294921875, 0.0037384033203125, -0.04742431640625, 0.046661376953125, -0.0244293212890625, -0.0224456787109375, -0.0007576942443847656, 0.021942138671875, -0.002651214599609375, -0.0025577545166015625, -0.009674072265625, 0.046630859375, 0.00496673583984375, 0.0396728515625, 0.047576904296875, -0.0036067962646484375, -0.01357269287109375, -0.0140838623046875, -0.005031585693359375, -0.0008158683776855469, 0.00010943412780761719, -0.06048583984375, 0.045257568359375, -0.0268707275390625, -0.030029296875, -0.044403076171875, -0.0220184326171875, 0.0031452178955078125, 0.057342529296875, 0.051116943359375, -0.03509521484375, -0.020538330078125, -0.06268310546875, -0.01058197021484375, 0.05267333984375, -0.004833221435546875, -0.021148681640625, 0.0142059326171875, 0.018585205078125, -0.0079345703125, -0.0033969879150390625, -0.01186370849609375, 0.0284423828125, -0.007110595703125, -0.01447296142578125, 0.039520263671875, 0.01873779296875, -0.00312042236328125, 0.0421142578125, 0.0128936767578125, 0.0120697021484375, -0.006610870361328125, 0.0025882720947265625, 0.00449371337890625, -0.010986328125, -0.010589599609375, 0.03216552734375, -0.0234222412109375, -0.07159423828125, -0.03436279296875, -0.0257415771484375, 0.013031005859375, 0.1258544921875, 0.024200439453125, 0.0255889892578125, -0.049407958984375, -0.033416748046875, 0.0199432373046875, -0.0015926361083984375, 0.0267791748046875, -0.032989501953125, 0.0024623870849609375, -0.00798797607421875, 0.036712646484375, 0.0479736328125, 0.03338623046875, -0.002285003662109375, -0.05303955078125, -0.08038330078125, 0.03289794921875, 0.040435791015625, 0.0127716064453125, -0.022613525390625, 0.0302734375, 0.0261383056640625, 0.015625, -0.0099639892578125, 0.039276123046875, 0.0285797119140625, -0.025604248046875, -0.0345458984375, 0.0182952880859375, 0.005329132080078125, 0.0330810546875, -0.0029926300048828125, 0.050811767578125, 0.0772705078125, -0.00661468505859375, 0.01080322265625, 0.059661865234375, -0.00844573974609375, -0.006267547607421875, -0.0026702880859375, 0.03155517578125, -0.0027942657470703125, 0.00699615478515625, 0.0156707763671875, 0.01314544677734375, -0.006649017333984375, -0.0105743408203125, -0.0302581787109375, -0.03643798828125, -0.006656646728515625, 0.047943115234375, -0.0435791015625, -0.019287109375, -0.042572021484375, 0.07525634765625, -0.0283050537109375, 0.0059356689453125, 0.0025539398193359375, -0.010589599609375, -0.00670623779296875, 0.00455474853515625, 0.053497314453125, -0.023590087890625, 0.0156402587890625, -0.0384521484375, 0.0377197265625, 0.0250091552734375, 0.040740966796875, 0.0016078948974609375, -0.0011510848999023438, 0.0014791488647460938, -0.0254364013671875, 0.00835418701171875, -0.049591064453125, -0.01416778564453125, 0.022247314453125, -0.00194549560546875, -0.00847625732421875, -0.0257110595703125, -0.01329803466796875, -0.07598876953125, 0.020751953125, -0.00922393798828125, -0.03814697265625, -0.015167236328125, 0.034515380859375, -0.0085601806640625, 0.00855255126953125, 0.004852294921875, 0.001102447509765625, -0.022216796875, 0.0312347412109375, -0.05853271484375, -0.03668212890625, 0.0191650390625, 0.006134033203125, 0.020355224609375, 0.01214599609375, 0.020904541015625, -0.0265350341796875, 0.04254150390625, -0.0095977783203125, 0.04803466796875, 0.01120758056640625, 0.00922393798828125, -0.0355224609375, 0.00485992431640625, -0.01535797119140625, -0.061798095703125, -0.01277923583984375, -0.0186920166015625, 0.034393310546875, -0.005523681640625, 0.01186370849609375, 0.019927978515625, 0.030517578125, 0.03668212890625, -0.02099609375, -0.01678466796875, 0.0160369873046875, 0.023406982421875, 0.0084075927734375, 0.024627685546875, 0.024200439453125, -0.01181793212890625, 0.0176544189453125, -0.01611328125, -0.01422882080078125, 0.0145111083984375, 0.0166168212890625, -0.02252197265625, 0.0081329345703125, -0.063232421875, -0.0217742919921875, -0.051300048828125, 0.00954437255859375, 0.023895263671875, -0.01861572265625, 0.0211181640625, 0.0574951171875, 0.030548095703125, -0.0198974609375, -0.006557464599609375, 0.01160430908203125, -0.07440185546875, 0.03021240234375, -0.03448486328125, 0.0032634735107421875, -0.0298004150390625, -0.0215606689453125, -0.0081024169921875, 0.021484375, -0.022125244140625, -0.0180816650390625, 0.0047760009765625, -0.019073486328125, -0.01396942138671875, 0.0289459228515625, -0.00864410400390625, 0.05401611328125, 0.01403045654296875, 0.0260467529296875, 0.005443572998046875, -0.016021728515625, 0.01515960693359375, -0.041748046875, 0.0121612548828125, -0.09259033203125, 0.046844482421875, -0.024658203125, 0.037078857421875, -0.005153656005859375, -0.01065826416015625, 0.02197265625, -0.01157379150390625, 0.1375732421875, 0.010650634765625, -0.05474853515625, 0.040252685546875, -0.0777587890625, -0.01367950439453125, -0.034149169921875, -0.03173828125, -0.0162811279296875, -0.0206146240234375, 0.0147552490234375, -0.0207672119140625, 0.0226287841796875, 0.025634765625, -0.0207977294921875, -0.0117950439453125, -0.04058837890625, -0.002552032470703125, 0.0024509429931640625, -0.0015106201171875, 0.05389404296875, -0.0111236572265625, 0.050048828125, 0.039031982421875, -0.06085205078125, 0.06964111328125, -0.07403564453125, 0.07940673828125, -0.051422119140625, -0.0382080078125, 0.03936767578125, 0.051544189453125, -0.0266571044921875, 0.01456451416015625, 0.030670166015625, 0.03607177734375, -0.0129547119140625, 0.0148468017578125, -0.004001617431640625, 0.0092315673828125, 0.000324249267578125, 0.013885498046875, 0.0160980224609375, 0.003742218017578125, 0.08367919921875, -0.0279998779296875, -0.0016088485717773438, 0.0222930908203125, -0.038299560546875, -0.0021820068359375, 0.05792236328125, -0.038482666015625, 0.052001953125, -0.0182037353515625, 0.054351806640625, 0.01126861572265625, 0.06842041015625, -0.01082611083984375, 0.022979736328125, -0.023223876953125, -0.00829315185546875, -0.01800537109375, 0.0174713134765625, 0.00586700439453125, -0.005771636962890625, 0.02001953125, -0.0089111328125, -0.018951416015625, -0.0093231201171875, 0.035003662109375, 0.0167388916015625, -0.042724609375, 0.00897979736328125, -0.0215301513671875, 0.0173492431640625, -0.041290283203125, 0.01390838623046875, 0.0301513671875, 0.052001953125, 0.021453857421875, 0.0167999267578125, -0.019012451171875, 0.03253173828125, 0.0523681640625, -0.06512451171875, 0.01038360595703125, -0.01947021484375, -0.0256195068359375, 0.00077056884765625, -0.004611968994140625, -0.031646728515625, -0.08984375, 0.0159759521484375, 0.004947662353515625, 0.0203704833984375, 0.042236328125, 0.01401519775390625, 0.017578125, 0.0244140625, 0.0250396728515625, -0.0006966590881347656, -0.006725311279296875, 0.028778076171875, -0.01105499267578125, -0.03070068359375, 0.048828125, -0.0645751953125, 0.019134521484375, -0.055908203125, -0.05645751953125, -0.004444122314453125, 0.0233154296875, -0.047210693359375, -0.00750732421875, 0.021392822265625, -0.07879638671875, 0.0025386810302734375, -0.04254150390625, -0.0298004150390625, 0.083740234375, 0.0249481201171875, -0.062042236328125, -0.024932861328125, -0.012176513671875, -0.031890869140625, -0.03912353515625, -0.0057830810546875, 0.028717041015625, 0.006839752197265625, 0.009735107421875, -0.0262908935546875, 0.05462646484375, 0.041351318359375, -0.00754547119140625, 0.0160675048828125, 0.01161956787109375, 0.017852783203125, -0.002361297607421875, 0.0239105224609375, -0.0170440673828125, 0.0102996826171875, -0.050689697265625, -0.005207061767578125, -0.0150604248046875, 0.017181396484375, 0.022308349609375, 0.031707763671875, -0.006473541259765625, 0.02838134765625, 0.0013055801391601562, -0.035858154296875, 0.028228759765625, -0.0271759033203125, 0.08013916015625, 0.054840087890625, 0.014892578125, 0.005245208740234375, 0.03338623046875, -0.000518798828125, 0.023712158203125, -0.0250396728515625, 0.0287322998046875, 0.023040771484375, 0.0211639404296875, -0.0267333984375, 0.033660888671875, 0.0271148681640625, 0.0247802734375, -0.02215576171875, 0.01508331298828125, -0.001251220703125, -0.006191253662109375, -0.0187530517578125, -0.00820159912109375, 0.036346435546875, -0.00928497314453125, -0.03558349609375, -0.051055908203125, 0.00957489013671875, 0.06402587890625, -0.0262451171875, -0.005809783935546875, 0.04571533203125, -0.001346588134765625, -0.05438232421875, -0.0229644775390625, -0.039825439453125, -0.041290283203125, -0.01898193359375, -0.0184173583984375, -0.0179290771484375, -0.058685302734375, 0.01922607421875, -0.04296875, -0.0052337646484375, 0.057373046875, -0.005710601806640625, -0.0036525726318359375, -0.000995635986328125, 0.0150146484375, -0.02996826171875, 0.001865386962890625, 0.0159149169921875, -0.007572174072265625, 0.009368896484375, 0.01071929931640625, -0.01473236083984375, -0.0160675048828125, 0.0439453125, -0.032989501953125, 0.0048828125, 0.0028553009033203125, 0.005199432373046875, 0.039031982421875, -0.0269012451171875, 0.05462646484375, 0.0015554428100585938, -0.007503509521484375, 0.0081329345703125, 0.03704833984375, 0.0257110595703125, 0.005222320556640625, 0.005462646484375, 0.0030364990234375, -0.00876617431640625, -0.0231475830078125, -0.00827789306640625, 0.0265045166015625, 0.048858642578125, 0.035552978515625, 0.056976318359375, 0.01123809814453125, -0.0662841796875, -0.05206298828125, -0.0020236968994140625, -0.009765625, -0.003009796142578125, 0.0132904052734375, -0.050811767578125, -0.01131439208984375, -0.0030956268310546875, -0.0216522216796875, -0.08282470703125, -0.04046630859375, -0.0135650634765625, -0.0147705078125, -0.01026153564453125, 0.046600341796875, 0.0247344970703125, 0.005199432373046875, -0.004650115966796875, 0.0225067138671875, 0.03350830078125, 0.01971435546875, -0.0275726318359375, -0.01947021484375, 0.007244110107421875, 0.0098724365234375, -0.025115966796875, 0.005435943603515625, 0.0184173583984375, -0.01158905029296875, 0.043731689453125, -0.034515380859375, 0.0298004150390625, 0.01861572265625, -0.046783447265625, 0.037445068359375, 0.01151275634765625, -0.0267486572265625, 0.016204833984375, 0.0045013427734375, 0.00612640380859375, -0.0306549072265625, -0.0019702911376953125, -0.004425048828125, 0.041259765625, -0.0215301513671875, -0.028106689453125, -0.02166748046875, -0.0013284683227539062, 0.023956298828125, 0.013397216796875, -0.023284912109375, 0.01042938232421875, -0.0116424560546875, -0.0184478759765625, -0.0015249252319335938, -0.000652313232421875, -0.01279449462890625, -0.005565643310546875, -0.054718017578125, -0.0288543701171875, -0.06585693359375, 0.059112548828125, -0.037933349609375, 0.003124237060546875, 0.0045623779296875, -0.033905029296875, -0.045684814453125, 0.0085296630859375, 0.05328369140625, -0.011566162109375, 0.0489501953125, -0.005573272705078125, -0.00887298583984375, 0.0245513916015625, 0.031890869140625, -0.0187530517578125, 0.0298919677734375, -0.001129150390625, -0.007720947265625, -0.0103759765625, 0.00467681884765625, -0.07275390625, -0.038726806640625, 0.028076171875, -0.004177093505859375, -0.0279388427734375, -0.032135009765625, -0.053955078125, 0.01457977294921875, 0.047515869140625, -0.045501708984375, -0.0024318695068359375, 0.0152130126953125, 0.0008559226989746094, 0.002655029296875, 0.0181121826171875, -0.0252685546875, -0.0228424072265625, -0.01232147216796875, -0.049041748046875, 0.031951904296875, 0.039276123046875, -0.0172576904296875, -0.0213165283203125, -0.0283203125, 0.0251617431640625, -0.0614013671875, -0.0287322998046875, 0.0296630859375, 0.057708740234375, -0.00433349609375, -0.00273895263671875, 0.045379638671875, 0.033233642578125, 0.0178375244140625, 0.0112152099609375, -0.01239013671875, -0.030487060546875, 0.01023101806640625, 0.007495880126953125, -0.0380859375, -0.008514404296875, -0.0797119140625, 0.07696533203125, -0.053009033203125, -0.037841796875, 0.0017480850219726562, 0.020538330078125, -0.025177001953125, 0.006359100341796875, 0.0799560546875, -0.004673004150390625, 0.0103302001953125, 0.0204315185546875, 0.0003612041473388672, 0.032257080078125, 0.0428466796875, -0.006427764892578125, -0.003055572509765625, 0.07208251953125, 0.06036376953125, 0.00244903564453125, 0.007228851318359375, -0.04107666015625, 0.0305023193359375, -0.011749267578125, 0.0303192138671875, 0.00803375244140625, 0.0254364013671875, -0.004039764404296875, -0.0079345703125, -0.028411865234375, -0.0171661376953125, -0.05657958984375, -0.01348114013671875, -0.0247802734375, 0.00909423828125, -0.05413818359375, -0.0193328857421875, 0.022247314453125, 0.07684326171875, 0.0111083984375, 0.0302581787109375, -0.0011034011840820312, -0.0247955322265625, -0.0190277099609375, -0.0005741119384765625, 0.0183258056640625, 0.04583740234375, -0.039703369140625, 0.0227203369140625, -0.024658203125, 0.048614501953125, -0.004520416259765625, -0.01425933837890625, 0.041900634765625, -0.00896453857421875, 0.002925872802734375, -0.004009246826171875, -0.0092926025390625, -0.046142578125, 0.048553466796875, 0.006008148193359375, -0.0335693359375, -0.0035533905029296875, -0.00911712646484375, 0.03375244140625, 0.052978515625, 0.03961181640625, -0.0372314453125, -0.01727294921875, 0.037841796875, -0.0277099609375, 0.01030731201171875, 0.036407470703125, 0.039581298828125, -0.055450439453125, 0.01145172119140625, 0.0018243789672851562, 0.0189666748046875, -0.00933837890625, -0.01434326171875, 0.032562255859375, 0.006145477294921875, -0.03662109375, 0.03155517578125, -0.034912109375, -0.0159912109375, -0.04522705078125, -0.00771331787109375, 0.0440673828125, 0.0008616447448730469, -0.0287322998046875, 0.0073089599609375, 0.0223541259765625, 0.01666259765625, -0.0252838134765625, -0.049224853515625, 0.00872802734375, 0.06500244140625, 0.0280609130859375, -0.0836181640625, -0.015472412109375, -0.00839996337890625, 0.01222991943359375, 0.058349609375, -0.0140380859375, -0.00701141357421875, -0.034210205078125, 0.042449951171875, -0.0034542083740234375, 0.0081634521484375, -0.01593017578125, 0.00844573974609375, 0.048675537109375, 0.01378631591796875, -0.0047454833984375, 0.01427459716796875, 0.013702392578125, -0.01412200927734375, -0.040130615234375, 0.055328369140625, -0.0126953125, -0.01364898681640625, 0.0264129638671875, -0.01224517822265625, -0.01064300537109375, -0.0072784423828125, -0.0229034423828125, 0.043975830078125, -0.0018672943115234375, 0.0026454925537109375, -0.0115509033203125, -0.004058837890625, -0.00908660888671875, 0.0011720657348632812, -0.0094757080078125, 0.00836181640625, -0.050506591796875, -0.0087738037109375, 0.01091766357421875, 0.054840087890625, 0.01285552978515625, 0.0244903564453125, -0.0030059814453125, -0.038116455078125, -0.0289154052734375, 0.0106658935546875, -0.005340576171875, -0.026336669921875, -0.001773834228515625, 0.04412841796875, 0.0218353271484375, 0.0180511474609375, 0.003917694091796875, 0.044189453125, 0.0301361083984375, -0.0127716064453125, 0.0732421875, -0.03143310546875, -0.0125274658203125, -0.0304107666015625, -0.01019287109375, -0.0033473968505859375, -0.0132598876953125, -0.0092620849609375, -0.0195465087890625, -0.015777587890625, -0.0268402099609375, 0.0097503662109375, -0.03350830078125, -0.0178070068359375, 0.0294189453125, 0.0232696533203125, 0.0176544189453125, -0.0157012939453125, -0.0063323974609375, -0.02386474609375, -0.010833740234375, -0.046356201171875, 0.035888671875, 0.0560302734375, 0.015716552734375, -0.02081298828125, -0.0251007080078125, -0.0034389495849609375, -0.0035839080810546875, -0.01387786865234375, 0.03619384765625, 0.037017822265625, -0.0450439453125, 0.00322723388671875, 0.00566864013671875, -0.009368896484375, 0.0089263916015625, -0.08282470703125, -0.09637451171875, 0.0440673828125, 0.056732177734375, -0.048370361328125, -0.0086212158203125, 0.038909912109375, 0.06707763671875, -0.0231170654296875, 0.01418304443359375, -0.05865478515625, 0.01629638671875, 0.031005859375, 0.050628662109375, -0.00484466552734375, 0.00893402099609375, -0.0020542144775390625, 0.00794219970703125, -0.0037441253662109375, 0.0021610260009765625, -0.00756072998046875, 0.00936126708984375, 0.0029010772705078125, -0.0266876220703125, -0.0091094970703125, -0.0035610198974609375, -0.0063018798828125, -0.01078033447265625, 0.007511138916015625, 0.038421630859375, 0.001861572265625, -0.00908660888671875]}\n",
      "{\n",
      "  \"title\": \"Galaxy Quest\",\n",
      "  \"overview\": \"For four years, the courageous crew of the NSEA protector - \\\"Commander Peter Quincy Taggart\\\" (Tim Allen), \\\"Lt. Tawny Madison (Sigourney Weaver) and \\\"Dr.Lazarus\\\" (Alan Rickman) - set off on a thrilling and often dangerous mission in space...and then their series was cancelled! Now, twenty years later, aliens under attack have mistaken the Galaxy Quest television transmissions for \\\"historical documents\\\" and beam up the crew of has-been actors to save the universe. With no script, no director and no clue, the actors must turn in the performances of their lives.\",\n",
      "  \"year\": 1999,\n",
      "  \"popularity\": 62.01\n",
      "}\n",
      "0.523431658744812\n",
      "{'overview': [0.0049591064453125, -0.00409698486328125, -0.09332275390625, 0.0638427734375, -0.0224761962890625, -0.061492919921875, 0.021453857421875, 5.352497100830078e-05, -0.0162200927734375, 0.025238037109375, 0.01462554931640625, -0.0235595703125, 0.0322265625, 0.003032684326171875, 0.012725830078125, 0.0105133056640625, 0.02734375, 0.022979736328125, 0.019927978515625, -0.036529541015625, -0.022186279296875, 0.0237579345703125, 0.0452880859375, 0.0089874267578125, -0.048187255859375, 0.0264129638671875, 0.01517486572265625, -0.0228729248046875, 0.006633758544921875, -0.0113983154296875, -0.013519287109375, -0.006496429443359375, 0.007091522216796875, 0.0174102783203125, 0.01172637939453125, 0.0269012451171875, -0.03887939453125, -0.06695556640625, -0.0584716796875, 0.1300048828125, -0.053192138671875, -0.0084991455078125, -0.006595611572265625, 0.0035991668701171875, -0.052337646484375, -0.01593017578125, 0.041534423828125, 0.0109100341796875, 0.069091796875, 0.019622802734375, 0.037200927734375, -0.013214111328125, 0.0024013519287109375, 0.024871826171875, -0.0184326171875, -0.006107330322265625, -0.0241851806640625, 0.01009368896484375, 0.058349609375, 0.029754638671875, 0.0104827880859375, 0.0035419464111328125, -0.037933349609375, 0.0017709732055664062, -0.0204925537109375, -0.00177001953125, 0.018646240234375, 0.0247650146484375, 0.01554107666015625, 0.0064544677734375, -0.001216888427734375, 0.029510498046875, 0.03363037109375, 0.01541900634765625, 0.00975799560546875, 0.00547027587890625, 0.0117645263671875, 0.053985595703125, 0.0299530029296875, 0.0175018310546875, -0.0111236572265625, -0.005367279052734375, 0.045745849609375, 0.0268402099609375, -0.033447265625, -0.0362548828125, -0.0196380615234375, 0.0026187896728515625, 0.008392333984375, 0.026763916015625, 0.0180206298828125, 0.05194091796875, 0.05963134765625, -0.02459716796875, -0.01136016845703125, -0.01267242431640625, 0.0380859375, -0.00725555419921875, -0.0007834434509277344, -0.01239776611328125, 0.039337158203125, 0.003940582275390625, 0.0011386871337890625, 0.036102294921875, -0.0089569091796875, 0.0028972625732421875, 0.052459716796875, 0.0286865234375, 0.030029296875, -0.01605224609375, 0.01061248779296875, 0.005756378173828125, 0.004268646240234375, -0.0170745849609375, -0.00021910667419433594, -0.0168609619140625, 0.006847381591796875, -0.002040863037109375, -0.0285797119140625, -0.005306243896484375, -0.018096923828125, 0.00902557373046875, 0.01166534423828125, 0.0096435546875, -0.01439666748046875, 0.0067596435546875, 0.038787841796875, -0.0179595947265625, -0.0178985595703125, -0.0872802734375, -0.055328369140625, -0.035552978515625, 0.0068511962890625, 0.0386962890625, 0.007442474365234375, 0.00569915771484375, 0.040802001953125, -0.042205810546875, 0.02667236328125, 0.0107269287109375, 0.0102996826171875, 0.0186767578125, 0.0125579833984375, 0.00930023193359375, -0.032379150390625, -0.0528564453125, 0.02825927734375, -0.0059051513671875, 0.0102386474609375, 0.038360595703125, -0.08526611328125, 0.0203704833984375, 0.041107177734375, 0.0269012451171875, -0.054412841796875, 0.0146484375, -0.006114959716796875, -0.033538818359375, -0.0225372314453125, 0.045257568359375, -0.0189208984375, -0.0027980804443359375, 0.0233612060546875, 0.002223968505859375, 0.0477294921875, -0.02874755859375, 0.024078369140625, 0.00995635986328125, 1.049041748046875e-05, 0.001293182373046875, 0.0285797119140625, -0.0233306884765625, -0.0193939208984375, -0.004550933837890625, -0.0176544189453125, -0.033599853515625, -0.008636474609375, -0.004238128662109375, 0.0199127197265625, -0.054840087890625, 0.0073699951171875, 0.0175933837890625, -0.040924072265625, 0.035125732421875, 0.0290679931640625, -0.00727081298828125, 0.005146026611328125, 0.002315521240234375, 0.0200042724609375, 0.042938232421875, -0.057281494140625, -0.003536224365234375, -0.0528564453125, -0.011138916015625, -0.0162506103515625, -0.0171051025390625, 0.02691650390625, -0.02227783203125, 0.030303955078125, 0.0219879150390625, -0.0051422119140625, 0.031463623046875, -0.00858306884765625, 0.08502197265625, 0.038909912109375, 0.04278564453125, 0.025848388671875, 0.044708251953125, -0.050445556640625, 0.034942626953125, 0.0021495819091796875, -0.02105712890625, 0.036224365234375, -0.031402587890625, -0.051116943359375, 0.0032749176025390625, 0.00981903076171875, -0.01271820068359375, 0.0194549560546875, 0.035736083984375, 0.0343017578125, 0.0143280029296875, -0.0113067626953125, 0.025634765625, 0.0098724365234375, 0.0830078125, -0.0440673828125, -0.1094970703125, 0.1143798828125, 0.0107421875, -0.02288818359375, -0.00908660888671875, -0.07733154296875, -0.023101806640625, 0.07159423828125, 0.05224609375, 0.032989501953125, 0.034820556640625, -0.07928466796875, -0.00392913818359375, 0.012786865234375, -0.057830810546875, -0.01020050048828125, 0.003948211669921875, -0.01554107666015625, -0.025360107421875, -0.0016145706176757812, 0.0071258544921875, -0.01192474365234375, -0.05291748046875, 0.0256805419921875, 0.002819061279296875, -0.0005774497985839844, -0.036346435546875, 0.031280517578125, -0.0244140625, 0.0118255615234375, -0.01543426513671875, 0.00494384765625, 0.00754547119140625, -0.024871826171875, -0.036895751953125, 0.028961181640625, -0.00034999847412109375, -0.062347412109375, -0.040740966796875, 0.016754150390625, 0.0391845703125, 0.035919189453125, 0.041748046875, 0.023956298828125, 0.006175994873046875, -0.01165008544921875, 0.0025615692138671875, -0.0149383544921875, 0.0035533905029296875, 0.0104827880859375, -0.026824951171875, 0.0270538330078125, 0.02667236328125, 0.001186370849609375, 0.026153564453125, 0.01309967041015625, -0.031280517578125, -0.029693603515625, 0.0576171875, 0.001758575439453125, 0.0243072509765625, 0.017852783203125, 0.0186614990234375, 0.0218505859375, -0.00775909423828125, -0.045806884765625, 0.052001953125, -0.01436614990234375, 0.007526397705078125, -0.01276397705078125, -0.008087158203125, -0.00925445556640625, -0.01837158203125, -0.02093505859375, 0.0222930908203125, 0.043121337890625, -0.0239105224609375, 0.006011962890625, -0.006504058837890625, 0.030364990234375, -0.005489349365234375, 0.03717041015625, 0.00789642333984375, 0.006351470947265625, 0.01922607421875, 0.059356689453125, 0.0028896331787109375, 0.0504150390625, 0.005237579345703125, 0.01041412353515625, -0.00632476806640625, -0.0242919921875, -0.0105743408203125, 0.00921630859375, -0.047698974609375, -0.02728271484375, -0.0183258056640625, -0.029693603515625, 0.043426513671875, -0.01611328125, 0.0035686492919921875, 0.002193450927734375, -0.00661468505859375, 0.02044677734375, -0.059478759765625, 0.033447265625, -0.01947021484375, 0.007602691650390625, 0.006256103515625, -0.01416778564453125, -0.03363037109375, -0.001903533935546875, 0.0191802978515625, 0.04461669921875, 0.035400390625, -0.024566650390625, -0.0005450248718261719, 0.0219573974609375, 0.0379638671875, 0.0035228729248046875, 0.0513916015625, 0.04827880859375, -0.0235748291015625, -0.02008056640625, -0.06512451171875, 0.0078125, -0.038970947265625, -0.00972747802734375, -0.0142974853515625, 0.0049896240234375, 0.011932373046875, -0.0107269287109375, 0.00759124755859375, -0.009918212890625, 0.046478271484375, -0.012725830078125, 0.0296478271484375, 0.0621337890625, 0.05743408203125, -0.0701904296875, -0.0069122314453125, -0.0035343170166015625, 0.02398681640625, -0.01513671875, 0.0858154296875, 0.04522705078125, 0.014068603515625, -0.020477294921875, -0.045013427734375, -0.044219970703125, -0.039642333984375, 0.01039886474609375, -0.03656005859375, 0.025177001953125, 0.0005249977111816406, -0.030426025390625, 0.04296875, 0.047576904296875, 0.043182373046875, -0.0287322998046875, -0.0223388671875, 0.060028076171875, 0.01629638671875, 0.01476287841796875, -0.007396697998046875, 0.01447296142578125, -0.004970550537109375, 0.009521484375, -0.046142578125, -0.046966552734375, 0.01425933837890625, -0.001308441162109375, -0.0460205078125, 0.0055999755859375, -0.03277587890625, 0.006603240966796875, -0.0262298583984375, 0.0284576416015625, 0.0347900390625, 0.004444122314453125, 0.0068206787109375, 0.024444580078125, 0.01178741455078125, -0.0489501953125, 0.0252227783203125, 0.054443359375, -0.032012939453125, 0.023956298828125, -0.020660400390625, 0.029388427734375, -0.00827789306640625, -0.01432037353515625, 0.009521484375, -0.0088653564453125, -0.03802490234375, 0.00698089599609375, 0.0279998779296875, -0.007366180419921875, -0.0479736328125, 0.0219573974609375, 0.056976318359375, 0.02886962890625, 0.0039825439453125, 0.02178955078125, -0.0264129638671875, 0.00037217140197753906, 0.030517578125, -0.03973388671875, 0.0097808837890625, -0.0692138671875, 0.061614990234375, -0.0221710205078125, 0.04052734375, -0.040191650390625, -0.0016584396362304688, 0.029296875, -0.0213623046875, 0.08807373046875, 0.044830322265625, -0.01458740234375, 0.061614990234375, -0.050628662109375, -0.0258636474609375, -0.017425537109375, 0.004680633544921875, -0.009368896484375, -0.02850341796875, 0.00850677490234375, -0.0116424560546875, 0.0014715194702148438, 0.034393310546875, -0.0189971923828125, -0.02105712890625, -0.06951904296875, -0.0144500732421875, 0.034820556640625, -0.056793212890625, -0.006256103515625, -0.038909912109375, 0.039642333984375, 0.014434814453125, 0.004497528076171875, -0.0107421875, -0.0278472900390625, 0.05029296875, 0.00896453857421875, -0.0273895263671875, 0.0260162353515625, -0.0035915374755859375, -0.01080322265625, -0.0034637451171875, -0.0016841888427734375, 0.042083740234375, 0.0303497314453125, 0.028228759765625, -0.05328369140625, -0.0130157470703125, -0.0105438232421875, 0.017730712890625, 0.0021209716796875, 0.02142333984375, 0.062042236328125, -0.05023193359375, -0.06475830078125, 0.021392822265625, 0.0019159317016601562, 0.026153564453125, 0.018402099609375, -0.0150146484375, 0.052764892578125, -0.019744873046875, 0.01061248779296875, -0.00806427001953125, 0.08929443359375, -0.0007472038269042969, -0.00025534629821777344, -0.0098876953125, -0.00487518310546875, 0.007160186767578125, 0.0197296142578125, -0.005077362060546875, 0.0036296844482421875, -0.00850677490234375, 0.016845703125, -0.00917816162109375, -0.017486572265625, -0.000347137451171875, 0.043731689453125, -0.03289794921875, 0.034759521484375, -0.07147216796875, -0.0236663818359375, 0.00506591796875, 0.005832672119140625, 0.03509521484375, 0.03607177734375, 0.0164794921875, 0.01605224609375, -0.0115814208984375, 0.001922607421875, 0.035797119140625, -0.05670166015625, -0.048309326171875, 0.0267791748046875, 0.0037212371826171875, 0.031463623046875, 0.044464111328125, -0.0548095703125, -0.029022216796875, 0.00675201416015625, -0.01300811767578125, 0.01541900634765625, 0.02984619140625, 0.0157318115234375, 0.017425537109375, 0.0024700164794921875, 0.0921630859375, -0.016143798828125, 0.022735595703125, 0.033538818359375, 0.06146240234375, -0.039215087890625, 0.05914306640625, -0.046112060546875, 0.0121612548828125, 0.0269317626953125, 0.00911712646484375, 0.0184783935546875, -0.00954437255859375, -0.01490020751953125, 0.0054168701171875, 0.022735595703125, -0.0034923553466796875, -0.032562255859375, -0.002685546875, -0.0191650390625, 0.0413818359375, 0.036712646484375, -0.033447265625, -0.0164642333984375, 0.0023040771484375, 0.02569580078125, -0.07269287109375, 0.01230621337890625, 0.00818634033203125, 0.0111236572265625, -0.03839111328125, -0.0194091796875, -0.026031494140625, 0.0211029052734375, 0.01450347900390625, 0.00948333740234375, 0.06011962890625, -0.01556396484375, -0.034332275390625, 0.052734375, -0.0133056640625, -0.0258026123046875, -0.046966552734375, 0.005153656005859375, -0.0187530517578125, 0.040435791015625, 0.0196990966796875, 0.038330078125, 0.0015468597412109375, -0.0046844482421875, 0.053955078125, -0.0203704833984375, 0.0435791015625, 0.03387451171875, 0.038543701171875, 0.025787353515625, 0.00597381591796875, 0.005687713623046875, 0.054168701171875, 0.019744873046875, -0.0143585205078125, 0.0173187255859375, 0.00841522216796875, 0.0406494140625, 0.041961669921875, -0.043426513671875, 0.04461669921875, 0.028045654296875, 0.019287109375, -0.025146484375, 0.004657745361328125, -0.0138397216796875, -0.0139617919921875, -0.0008025169372558594, 0.00226593017578125, -0.006427764892578125, -0.0198822021484375, -0.006214141845703125, -0.0401611328125, 0.0067291259765625, 0.0081329345703125, -0.027252197265625, -0.031707763671875, 0.00690460205078125, -0.024505615234375, -0.0236968994140625, -0.034210205078125, -0.01641845703125, -0.0102691650390625, -0.0052337646484375, -0.014404296875, -0.048309326171875, -0.0709228515625, 0.0084075927734375, 0.01171875, 0.01708984375, -0.01241302490234375, 0.00557708740234375, -0.031402587890625, 0.039794921875, -0.01702880859375, -0.0031070709228515625, -0.0303192138671875, -0.00839996337890625, -0.017822265625, 0.01136016845703125, -0.048553466796875, 0.0283203125, 0.0021266937255859375, -0.029052734375, 0.01190948486328125, -0.036773681640625, 0.01441192626953125, 0.007030487060546875, -0.001529693603515625, -0.0241241455078125, 0.01727294921875, 0.0105133056640625, 0.0164031982421875, 0.0178985595703125, 0.036285400390625, 0.056304931640625, -0.024871826171875, -0.0025997161865234375, -0.08099365234375, -0.02569580078125, -0.0256805419921875, 0.0116119384765625, 0.0001685619354248047, 0.01284027099609375, -0.003467559814453125, 0.00490570068359375, 0.03167724609375, 0.0025424957275390625, 0.07440185546875, -0.044677734375, 0.031646728515625, 0.01352691650390625, 0.01806640625, -0.0322265625, -0.0204925537109375, 0.0190277099609375, 0.017486572265625, -0.021148681640625, 0.0240631103515625, -0.061370849609375, -0.031768798828125, -0.0085906982421875, 0.043182373046875, 0.023712158203125, -0.01641845703125, 0.02825927734375, -0.018768310546875, 0.033599853515625, 0.0234375, -0.050750732421875, -0.0201416015625, -0.03350830078125, 0.017852783203125, -0.006381988525390625, 0.06256103515625, 0.0202178955078125, 0.0233001708984375, 0.027587890625, -0.0142822265625, 0.059173583984375, 0.0240936279296875, -0.08966064453125, -0.0030002593994140625, 0.0039043426513671875, -0.05389404296875, 0.07159423828125, 0.01081085205078125, 0.0352783203125, -0.0328369140625, -0.01202392578125, 0.0677490234375, 0.04168701171875, -0.032958984375, -0.0325927734375, -0.02081298828125, 0.0458984375, 0.0450439453125, 0.029327392578125, -0.0321044921875, -0.01434326171875, -0.01557159423828125, -0.0201873779296875, 0.00725555419921875, -0.0355224609375, 0.0198516845703125, 0.017578125, -0.055267333984375, -0.06256103515625, -0.0889892578125, 0.135009765625, -0.0249176025390625, 0.057891845703125, -0.00412750244140625, 0.0284423828125, -0.053497314453125, -0.0012140274047851562, 0.044281005859375, -0.01290130615234375, 0.025390625, -0.0167999267578125, -0.0010614395141601562, -0.04669189453125, -0.006145477294921875, -0.0010118484497070312, 0.0207977294921875, -0.00666046142578125, 0.007061004638671875, 0.007049560546875, 0.004817962646484375, -0.006595611572265625, -0.004093170166015625, -0.021209716796875, 0.045074462890625, -0.001934051513671875, 0.01485443115234375, 0.044647216796875, 0.00769805908203125, -0.02911376953125, 0.048370361328125, 0.01418304443359375, 0.006343841552734375, 0.0101165771484375, -0.0238037109375, 0.030029296875, -0.01076507568359375, 0.022125244140625, 0.002040863037109375, -0.02838134765625, 0.05621337890625, -0.01690673828125, -0.03558349609375, 0.031219482421875, 0.012969970703125, 0.03948974609375, 0.056121826171875, 0.004016876220703125, -0.0023193359375, 0.053955078125, 0.0027561187744140625, -0.004302978515625, 0.018890380859375, 0.003398895263671875, 0.01068115234375, 0.078125, -0.03179931640625, -0.0260162353515625, -0.0408935546875, 0.00875091552734375, -0.0245819091796875, 0.0178070068359375, -0.06719970703125, 0.0194091796875, -0.0411376953125, -0.0202484130859375, 0.01361846923828125, -0.0157623291015625, -0.020965576171875, -0.033172607421875, 0.07440185546875, 0.004119873046875, 0.007068634033203125, 0.040557861328125, 0.024505615234375, 0.04754638671875, 0.03680419921875, -0.02947998046875, -0.046142578125, 0.0445556640625, 0.0271759033203125, -0.004131317138671875, -0.0042877197265625, -0.007415771484375, 0.0141754150390625, 0.0035572052001953125, -0.0030918121337890625, -0.0065460205078125, 0.01074981689453125, 0.04534912109375, -0.0180206298828125, 0.0022869110107421875, 0.001323699951171875, -0.0310516357421875, -0.0015048980712890625, 0.0001537799835205078, -0.042449951171875, 0.0019931793212890625, 0.0062408447265625, 0.03369140625, 0.07220458984375, 0.0177459716796875, -0.005443572998046875, -0.0238494873046875, -0.0157470703125, -0.029266357421875, -0.00661468505859375, 0.0256195068359375, 0.0157928466796875, -0.015045166015625, 0.036956787109375, -0.0294189453125, 0.008880615234375, 0.02734375, -0.0078582763671875, -0.043182373046875, 0.02911376953125, 0.028411865234375, 0.0245361328125, 0.007232666015625, -0.0243377685546875, 0.0197601318359375, 0.002368927001953125, -0.0212860107421875, 0.0035648345947265625, -0.01123046875, 0.03363037109375, 0.040740966796875, 0.05413818359375, -0.01096343994140625, 0.01088714599609375, 0.012725830078125, -0.07049560546875, 0.0498046875, 0.08941650390625, 0.011077880859375, -0.032501220703125, 0.0034389495849609375, -0.0177764892578125, 0.0117950439453125, 0.0027751922607421875, -0.020782470703125, 0.004329681396484375, 0.05377197265625, -0.0306549072265625, 0.011199951171875, 0.0102081298828125, 0.0025234222412109375, -0.00920867919921875, -0.03265380859375, 0.03411865234375, -0.018798828125, -0.0248260498046875, -0.01238250732421875, 0.0283355712890625, -0.0162506103515625, -0.0114593505859375, -0.046875, 0.07489013671875, 0.028961181640625, 0.0223541259765625, -0.045562744140625, -0.01959228515625, -0.00305938720703125, -0.013336181640625, 0.0330810546875, -0.0090484619140625, -0.0192108154296875, -0.0100250244140625, 0.024993896484375, -0.004913330078125, -0.0216064453125, 0.003238677978515625, 0.007904052734375, 0.0064544677734375, -0.0285797119140625, 0.049530029296875, 0.014892578125, -0.01531219482421875, -0.0421142578125, 0.0360107421875, -0.01227569580078125, 0.00409698486328125, -0.04913330078125, 0.003414154052734375, -0.0018558502197265625, -0.0079193115234375, 0.005222320556640625, -0.060150146484375, 0.061492919921875, -0.0279388427734375, 0.02703857421875, 0.00780487060546875, 0.01483917236328125, -0.01522064208984375, -0.018035888671875, -0.025970458984375, -0.036834716796875, -0.03802490234375, -0.01065826416015625, -0.01084136962890625, 0.018035888671875, -0.024169921875, 0.03662109375, 0.0082550048828125, 0.0011873245239257812, -0.0031108856201171875, 0.054412841796875, 0.0298004150390625, 0.0247039794921875, -0.017669677734375, -0.007465362548828125, -0.03564453125, 0.019744873046875, -0.0018815994262695312, -0.00438690185546875, 0.0355224609375, -0.0019969940185546875, 0.021148681640625, -0.0247955322265625, -0.01461029052734375, -0.0116119384765625, 0.002040863037109375, 0.002338409423828125, -0.00658416748046875, 0.005279541015625, -0.0406494140625, -0.0008435249328613281, -0.03240966796875, 0.033447265625, -0.03985595703125, -0.03094482421875, 0.035797119140625, 0.07061767578125, 0.0061187744140625, -0.0215911865234375, 0.0066375732421875, -0.0311431884765625, -0.04412841796875, -0.0223388671875, -0.0202178955078125, 0.022735595703125, 0.003116607666015625, -0.0265655517578125, -0.0006079673767089844, -0.007312774658203125, 0.0028018951416015625, -0.015045166015625, 0.03900146484375, 0.034149169921875, -0.0033168792724609375, 0.0114288330078125, -0.0166015625, 0.016265869140625, 0.007022857666015625, -0.00855255126953125, -0.0011920928955078125, 0.066650390625, -0.022216796875, -0.053558349609375, 0.01523590087890625, 0.0300750732421875, 0.0098724365234375, 0.00418853759765625, -0.003330230712890625, -0.03326416015625, 0.0240478515625, 0.00827789306640625, 0.0183258056640625, 0.00439453125, -0.01611328125, -0.0082244873046875, 0.01116180419921875, -0.060211181640625, 0.0199432373046875, -0.018707275390625, 0.0105133056640625, 0.003147125244140625, -0.0275421142578125, -0.006313323974609375, -0.006481170654296875, -0.01270294189453125, -0.041473388671875, 0.01331329345703125, 0.004123687744140625, 0.005023956298828125, 0.04888916015625], 'title': [0.0006856918334960938, 0.019622802734375, -0.042449951171875, 0.04425048828125, -0.0266876220703125, -0.040740966796875, 0.0030651092529296875, -0.020843505859375, -0.01303863525390625, 0.00998687744140625, -0.0294189453125, -0.01528167724609375, 0.00601959228515625, -0.01328277587890625, -0.003620147705078125, -0.0059967041015625, -0.007518768310546875, 0.001987457275390625, 0.010467529296875, -0.005764007568359375, 0.004589080810546875, 0.0277252197265625, 0.01189422607421875, 0.0215606689453125, 0.02056884765625, 0.028961181640625, 0.03973388671875, -0.0134735107421875, 0.048095703125, -0.008819580078125, -0.0130462646484375, -0.0333251953125, 0.05279541015625, 0.0030231475830078125, 0.0156402587890625, 0.0182647705078125, -0.042633056640625, -0.058807373046875, -0.0171966552734375, 0.10235595703125, -0.043975830078125, 0.01470947265625, -0.0040130615234375, 0.0299530029296875, -0.040130615234375, -0.00057220458984375, 0.00463104248046875, 0.01073455810546875, 0.1158447265625, 0.0273895263671875, 0.00311279296875, -0.005802154541015625, 0.00746917724609375, -0.0032253265380859375, -0.0086517333984375, -0.025543212890625, 2.1457672119140625e-06, 0.040496826171875, 0.0247955322265625, 0.025543212890625, 0.0139007568359375, 0.00794219970703125, -0.034759521484375, 0.036895751953125, 0.006168365478515625, 0.039947509765625, 0.01171112060546875, 0.01285552978515625, 0.001758575439453125, 0.01348114013671875, -0.00530242919921875, -0.0186614990234375, 0.038330078125, 0.0261077880859375, 0.011566162109375, -0.01299285888671875, 0.01210784912109375, 0.049896240234375, 0.01116943359375, 0.00896453857421875, -0.004070281982421875, 0.0220794677734375, 0.08917236328125, 0.042266845703125, -0.0187835693359375, -0.0048980712890625, -0.016021728515625, 0.0357666015625, -0.03173828125, 0.029022216796875, 0.0127716064453125, 0.048095703125, 0.033660888671875, -0.0609130859375, 0.01018524169921875, -0.011444091796875, -0.0015516281127929688, -0.0191497802734375, 0.00959014892578125, -0.0210723876953125, 0.0128021240234375, -0.024444580078125, -0.01346588134765625, 0.029754638671875, -0.00872802734375, 0.034149169921875, 0.0416259765625, 0.01393890380859375, -0.00366973876953125, -0.0249786376953125, 0.02325439453125, -0.01128387451171875, 0.040435791015625, -0.01751708984375, -0.00873565673828125, -0.014068603515625, -0.005992889404296875, -0.0005769729614257812, -0.074951171875, 0.0198822021484375, -0.038177490234375, -0.0217742919921875, -0.02288818359375, 0.01132965087890625, -0.01425933837890625, 0.05645751953125, -0.0031032562255859375, -0.05303955078125, 0.032867431640625, -0.055908203125, -0.056793212890625, 0.0006012916564941406, 0.0267333984375, 0.0271453857421875, 0.017822265625, 0.03802490234375, 0.0007486343383789062, -0.05548095703125, 0.058319091796875, 0.044586181640625, 0.01959228515625, 0.031768798828125, 0.01358795166015625, 0.0197601318359375, -0.01233673095703125, -0.03802490234375, 0.003795623779296875, 0.0019121170043945312, 0.01342010498046875, 0.01036834716796875, -0.060760498046875, 0.032440185546875, 0.0219573974609375, -0.0025081634521484375, 0.0214691162109375, 0.002849578857421875, 0.038482666015625, -0.048583984375, 0.0193634033203125, -0.0014963150024414062, -0.0054473876953125, -0.0023326873779296875, 0.016265869140625, -0.026336669921875, 0.0092315673828125, -0.032318115234375, 0.048583984375, 0.006977081298828125, -0.0016040802001953125, -0.005184173583984375, 0.0401611328125, -0.00818634033203125, 0.0033626556396484375, 0.0016603469848632812, -0.0246429443359375, -0.041259765625, 0.007274627685546875, 0.019927978515625, 0.056304931640625, -0.043701171875, 0.040924072265625, 0.025909423828125, -0.023193359375, 0.0192413330078125, 0.0227508544921875, 0.044769287109375, 0.00833892822265625, 0.006275177001953125, 0.00951385498046875, 0.055633544921875, -0.038177490234375, -0.0526123046875, -0.058502197265625, -0.00853729248046875, -0.05584716796875, -0.012054443359375, 0.080078125, -0.03680419921875, 0.08154296875, 0.04779052734375, 0.0245513916015625, -0.0033702850341796875, 0.00028967857360839844, 0.03546142578125, 0.0245819091796875, 0.022125244140625, 0.0325927734375, -0.007022857666015625, -0.058258056640625, 0.05810546875, -0.0221405029296875, -0.042816162109375, -0.0042266845703125, 0.0144195556640625, -0.03265380859375, -0.0034084320068359375, -0.027191162109375, 0.0229339599609375, 0.00885009765625, 0.035064697265625, 0.0462646484375, -0.0029010772705078125, -0.0178680419921875, 0.0007143020629882812, -0.0044403076171875, -0.00585174560546875, 0.003887176513671875, -0.0506591796875, 0.0183868408203125, -0.0283355712890625, -0.0176544189453125, -0.03338623046875, -0.022369384765625, -0.0077362060546875, 0.043365478515625, 0.035858154296875, 0.005283355712890625, 0.00534820556640625, -0.06146240234375, 0.0048980712890625, 0.0706787109375, -0.0010671615600585938, -0.017425537109375, 0.026123046875, 0.01053619384765625, 0.003475189208984375, -0.01183319091796875, -0.026885986328125, 0.0241851806640625, -0.039703369140625, -0.0094146728515625, 0.03912353515625, 0.01174163818359375, -0.0024871826171875, 0.06536865234375, 0.035919189453125, 0.05126953125, -0.00818634033203125, 0.0026226043701171875, 0.01190185546875, -0.037628173828125, -0.0240325927734375, 0.049285888671875, -0.02874755859375, -0.09039306640625, -0.02923583984375, 0.0035305023193359375, 0.0439453125, 0.0806884765625, 0.035797119140625, 0.06640625, -0.048095703125, -0.037353515625, 0.0419921875, 0.014434814453125, 0.0158843994140625, -0.036956787109375, 0.0069580078125, -0.0252838134765625, 0.0301361083984375, 0.047637939453125, 0.037139892578125, -0.0068817138671875, -0.0535888671875, -0.0626220703125, 0.06427001953125, 0.0109710693359375, 0.017364501953125, -0.024169921875, 0.03594970703125, 0.0308990478515625, 0.01345062255859375, -0.0212860107421875, 0.04937744140625, 0.01153564453125, -0.0113677978515625, -0.01418304443359375, -0.004894256591796875, -0.0019683837890625, 0.0240478515625, -0.02703857421875, 0.0772705078125, 0.08441162109375, -0.004558563232421875, -0.0174407958984375, 0.042022705078125, 0.03143310546875, -0.0039005279541015625, 0.0305023193359375, 0.0248565673828125, -0.0019207000732421875, 0.0129241943359375, 0.021575927734375, 0.0030803680419921875, 0.025238037109375, -0.0045623779296875, -0.00995635986328125, -0.04412841796875, -0.0125885009765625, 0.02618408203125, -0.021148681640625, -0.0216522216796875, -0.055908203125, 0.051361083984375, -0.02020263671875, 0.023284912109375, -0.0009975433349609375, 0.0023403167724609375, -0.00569915771484375, -0.006195068359375, 0.0294647216796875, -0.048126220703125, 0.02191162109375, -0.038421630859375, 0.0182647705078125, 0.00817108154296875, 0.0141754150390625, -0.0224151611328125, -0.01483917236328125, 0.0196533203125, -0.01361083984375, 0.0122222900390625, -0.039886474609375, -0.00939178466796875, 0.0179901123046875, 0.01464080810546875, 0.005985260009765625, 0.00811004638671875, 0.004547119140625, -0.039215087890625, -0.0041656494140625, -0.02301025390625, -0.059326171875, -0.01503753662109375, -0.00022113323211669922, 0.00835418701171875, -0.01446533203125, 0.0015115737915039062, -0.0010776519775390625, -0.03143310546875, 0.030059814453125, -0.036773681640625, -0.0229644775390625, -0.0206146240234375, 0.0628662109375, 0.07537841796875, -0.0187835693359375, 0.0311431884765625, -0.040283203125, 0.041259765625, -0.01776123046875, 0.041534423828125, -0.00437164306640625, 0.01306915283203125, -0.033172607421875, 0.002162933349609375, -0.033660888671875, -0.0635986328125, 0.00238037109375, -0.0251007080078125, 0.056732177734375, 0.011077880859375, -0.0257568359375, 0.07220458984375, 0.025909423828125, 0.030731201171875, 0.0038604736328125, -0.0224761962890625, 0.005687713623046875, 0.037261962890625, 0.0295867919921875, -0.00984954833984375, 0.01190185546875, 0.002391815185546875, 0.021820068359375, -0.00478363037109375, -0.0164642333984375, 0.002956390380859375, 0.006927490234375, -0.0228118896484375, 0.0309295654296875, -0.049468994140625, -0.005504608154296875, -0.03466796875, 0.024261474609375, 0.0113525390625, 0.006114959716796875, 0.0132904052734375, 0.037994384765625, 0.0225982666015625, -0.02783203125, -0.0083770751953125, 0.0024585723876953125, -0.04876708984375, 0.00238037109375, -0.01300811767578125, 0.01910400390625, -0.032135009765625, -0.013671875, -0.00337982177734375, 0.0007100105285644531, -0.01971435546875, -0.0102691650390625, 0.015838623046875, -0.0223541259765625, -0.0199737548828125, 0.0268402099609375, -0.0236663818359375, 0.0450439453125, 0.02093505859375, 0.04412841796875, -0.007762908935546875, -0.02886962890625, 0.0256805419921875, -0.039215087890625, -0.00852203369140625, -0.09625244140625, 0.0516357421875, -0.01361083984375, 0.057220458984375, -0.02935791015625, 0.00882720947265625, 0.0203857421875, -0.0117645263671875, 0.14111328125, 0.035125732421875, -0.03814697265625, 0.06988525390625, -0.0709228515625, -0.0209503173828125, -0.032928466796875, -0.004268646240234375, 0.014495849609375, -0.0184478759765625, 0.003265380859375, 0.01294708251953125, 0.027191162109375, 0.0106964111328125, -0.00274658203125, -0.0276641845703125, -0.0445556640625, -0.013702392578125, 0.004535675048828125, -0.021148681640625, 0.047882080078125, -0.0113677978515625, 0.057281494140625, 0.048004150390625, -0.0229949951171875, 0.04498291015625, -0.06622314453125, 0.0728759765625, -0.0531005859375, -0.04412841796875, 0.058929443359375, 0.07464599609375, 0.004150390625, -0.01235198974609375, 0.01506805419921875, 0.0168304443359375, -0.044097900390625, 0.0225372314453125, 0.00571441650390625, -0.0283966064453125, -0.0192108154296875, 0.01617431640625, 0.05450439453125, 0.006244659423828125, 0.054931640625, -0.0008139610290527344, 0.01081085205078125, 0.002872467041015625, -0.030731201171875, -0.0017223358154296875, 0.046905517578125, -0.016571044921875, 0.0294036865234375, -0.0264892578125, 0.01555633544921875, -0.0084991455078125, 0.05364990234375, 0.005794525146484375, 0.0010929107666015625, 0.0177459716796875, -0.006305694580078125, -0.026092529296875, 0.0242919921875, 0.0213775634765625, -0.026611328125, 0.00972747802734375, -0.00583648681640625, -0.0131683349609375, -0.005626678466796875, 0.0172576904296875, 0.01507568359375, -0.032623291015625, -0.00579833984375, -0.043212890625, -0.004734039306640625, -0.007495880126953125, 0.028533935546875, 0.01464080810546875, 0.02923583984375, 0.0263824462890625, 0.026885986328125, -0.006015777587890625, 0.004810333251953125, 0.043121337890625, -0.06878662109375, -0.0233612060546875, 0.0022869110107421875, 0.007678985595703125, 0.0245361328125, 0.0195465087890625, -0.046112060546875, -0.06146240234375, 0.0038166046142578125, -0.004596710205078125, 0.01230621337890625, 0.045501708984375, 0.0367431640625, 0.0266265869140625, 0.0131072998046875, 0.08551025390625, -0.0200958251953125, 0.0214996337890625, 0.0156402587890625, 0.0079803466796875, -0.00806427001953125, 0.0770263671875, -0.051971435546875, 0.032562255859375, -0.02294921875, -0.01513671875, -0.005207061767578125, -0.01348114013671875, -0.03167724609375, -0.001605987548828125, 0.0279083251953125, -0.0148468017578125, -0.0396728515625, -0.049957275390625, -0.02862548828125, 0.06756591796875, 0.0115814208984375, -0.040802001953125, -0.0298004150390625, -0.025970458984375, -0.005596160888671875, -0.0300140380859375, 0.011993408203125, 0.0179901123046875, 0.009063720703125, -0.007663726806640625, -0.01181793212890625, -0.001461029052734375, 0.04083251953125, 0.00839996337890625, 0.006870269775390625, 0.001659393310546875, 0.0261383056640625, -0.0242767333984375, 0.02899169921875, -0.0181732177734375, -0.006580352783203125, -0.08880615234375, -0.005268096923828125, -0.0130462646484375, 0.0239715576171875, 0.01568603515625, 0.04840087890625, 0.01318359375, 0.0313720703125, 0.035369873046875, -0.0318603515625, 0.024566650390625, -0.0055694580078125, 0.08343505859375, 0.037567138671875, 0.01506805419921875, 0.01800537109375, 0.0364990234375, 0.0018377304077148438, 0.0039005279541015625, -0.01202392578125, 0.010040283203125, 0.0372314453125, 0.01092529296875, -0.037689208984375, 0.03875732421875, 0.04248046875, 0.040130615234375, -0.03106689453125, 0.0236663818359375, 0.0018215179443359375, -0.033416748046875, -0.01515960693359375, -0.01439666748046875, 0.0078277587890625, -0.017913818359375, -0.0238494873046875, -0.04296875, 0.008880615234375, 0.05426025390625, -0.00872039794921875, -0.039642333984375, 0.00720977783203125, 0.004306793212890625, -0.044342041015625, -0.03802490234375, -0.007167816162109375, -0.005054473876953125, -0.014129638671875, -0.037017822265625, -0.042327880859375, -0.061279296875, 0.0205535888671875, -0.00409698486328125, -0.0139312744140625, 0.01473236083984375, -0.0149688720703125, -0.00452423095703125, 0.016021728515625, -0.0005764961242675781, -0.0174560546875, -0.04571533203125, -0.0016183853149414062, -0.0191802978515625, 0.0010852813720703125, 0.021942138671875, -0.0275115966796875, 0.027099609375, 0.05914306640625, -0.0518798828125, 0.007328033447265625, -0.0021686553955078125, 0.0186614990234375, 0.060302734375, -0.025848388671875, 0.0673828125, 0.0088043212890625, -0.0006113052368164062, -0.00771331787109375, 0.036224365234375, 0.023101806640625, 0.006931304931640625, -0.0178680419921875, 0.0010004043579101562, 0.00032210350036621094, -0.048187255859375, 0.0021820068359375, 0.01812744140625, 0.0300445556640625, 0.039794921875, 0.06256103515625, 0.037872314453125, -0.0726318359375, -0.042205810546875, 0.0024662017822265625, 0.02392578125, 0.01343536376953125, 0.0157012939453125, -0.06072998046875, 0.028228759765625, 0.0030422210693359375, 0.003253936767578125, -0.07122802734375, -0.03759765625, -0.0296630859375, -0.022003173828125, 0.00482940673828125, 0.0400390625, 0.054534912109375, -0.0188751220703125, -0.0182952880859375, 0.026092529296875, 0.0406494140625, 0.017547607421875, -0.041412353515625, -0.0137939453125, 0.002506256103515625, -0.0011167526245117188, -0.0020961761474609375, 0.024566650390625, 0.025054931640625, 0.00395965576171875, 0.044158935546875, -0.046478271484375, 0.044677734375, 0.03875732421875, -0.05072021484375, 0.07635498046875, -0.0020923614501953125, -0.018829345703125, 0.0192413330078125, 0.0048980712890625, 0.022216796875, -0.0089874267578125, -0.01036834716796875, 0.031707763671875, 0.0406494140625, -0.024566650390625, -0.016021728515625, -0.0294189453125, 0.019866943359375, 0.042572021484375, 0.0289459228515625, -0.025115966796875, -0.00055694580078125, -0.01032257080078125, -0.026824951171875, 0.0055389404296875, -0.021881103515625, 0.0024852752685546875, 0.003162384033203125, -0.05340576171875, -0.033935546875, -0.04510498046875, 0.061279296875, -0.019195556640625, 0.0081939697265625, 0.01224517822265625, -0.023834228515625, -0.040008544921875, 0.0171661376953125, 0.0606689453125, -0.0017251968383789062, 0.045806884765625, 0.0140533447265625, -0.0189666748046875, 0.020660400390625, 0.025543212890625, -0.01180267333984375, 0.021942138671875, 0.004093170166015625, -0.0033016204833984375, -0.01374053955078125, -0.01421356201171875, -0.06658935546875, -0.0259857177734375, 0.0157928466796875, -0.007312774658203125, -0.0343017578125, -0.037353515625, -0.046356201171875, 0.011138916015625, 0.03460693359375, -0.0189666748046875, 0.01538848876953125, 0.007244110107421875, 0.0012826919555664062, -0.006656646728515625, 0.00933837890625, -0.031707763671875, 0.02618408203125, 0.00286865234375, -0.03753662109375, 0.004573822021484375, 0.0177764892578125, -0.02239990234375, -0.004703521728515625, -0.01153564453125, 0.031982421875, -0.005245208740234375, -0.01502227783203125, 0.030731201171875, 0.052215576171875, 0.01258087158203125, -0.0061187744140625, 0.0194091796875, 0.0017995834350585938, 0.021881103515625, 0.019256591796875, -0.00995635986328125, -0.039825439453125, 0.002506256103515625, 0.0129241943359375, -0.04193115234375, -0.00470733642578125, -0.0859375, 0.038818359375, -0.07635498046875, -0.03173828125, 0.01055145263671875, 0.03167724609375, -0.045379638671875, 0.01806640625, 0.129150390625, -0.03497314453125, 0.0174407958984375, 0.02392578125, 0.0289154052734375, 0.005641937255859375, 0.054473876953125, -0.027191162109375, -0.028839111328125, 0.062744140625, 0.043670654296875, -0.007045745849609375, 0.0306396484375, -0.003818511962890625, 0.01800537109375, -0.007236480712890625, 0.0178070068359375, 0.00966644287109375, -0.00820159912109375, 0.01061248779296875, -0.00997161865234375, -0.0281219482421875, 0.025390625, -0.03082275390625, -0.005706787109375, -0.01145172119140625, -0.01337432861328125, -0.048919677734375, 0.005924224853515625, 0.02532958984375, 0.0836181640625, 0.018524169921875, 0.026611328125, -0.0242767333984375, -0.039703369140625, -0.0399169921875, -0.00380706787109375, 0.007472991943359375, 0.03070068359375, -0.0538330078125, 0.0130462646484375, -0.0172119140625, 0.030120849609375, -0.0027065277099609375, -0.01171875, 0.0460205078125, -0.0084381103515625, 0.0005078315734863281, -0.004428863525390625, -0.017669677734375, -0.0246734619140625, 0.05682373046875, 0.02447509765625, -0.0223388671875, -0.01065826416015625, -0.0023326873779296875, 0.0177001953125, 0.03192138671875, 0.0233001708984375, -0.01020050048828125, 0.0159912109375, 0.049652099609375, -0.032989501953125, 0.0213775634765625, 0.02667236328125, 0.0628662109375, -0.0682373046875, 0.01422882080078125, -0.0040130615234375, 0.00786590576171875, -0.023773193359375, -0.0284881591796875, 0.027313232421875, 0.034210205078125, -0.038299560546875, -0.00342559814453125, -0.01204681396484375, 0.00345611572265625, -0.042510986328125, -0.0037441253662109375, 0.058837890625, -0.01053619384765625, -0.0258636474609375, -0.001346588134765625, 0.03912353515625, -0.00865936279296875, -0.02581787109375, -0.058349609375, 0.04583740234375, 0.060791015625, 0.0002918243408203125, -0.061737060546875, -0.019500732421875, -0.01305389404296875, 0.004329681396484375, 0.05224609375, -0.00762176513671875, -0.004878997802734375, -0.01329803466796875, 0.038238525390625, 0.006465911865234375, 0.0056304931640625, -0.00726318359375, 0.005176544189453125, 0.04193115234375, -0.00013005733489990234, 0.005340576171875, 0.0233306884765625, 0.0322265625, 0.01531219482421875, -0.03192138671875, 0.057403564453125, 0.006237030029296875, -0.01409912109375, -0.0222625732421875, 0.0198822021484375, 0.01458740234375, 0.0061187744140625, 0.01239013671875, 0.0079345703125, -0.006496429443359375, -0.00295257568359375, -0.005001068115234375, -0.00795745849609375, -0.00853729248046875, -0.0035400390625, -0.00982666015625, -0.0250701904296875, -0.034881591796875, -0.00897216796875, 0.00601959228515625, 0.01381683349609375, 0.01413726806640625, 0.01215362548828125, -0.035125732421875, -0.00435638427734375, -0.00615692138671875, 0.04046630859375, -0.01013946533203125, -0.0014934539794921875, -0.01102447509765625, 0.009796142578125, -0.03125, 0.0035419464111328125, -0.0004334449768066406, 0.01224517822265625, 0.0341796875, 0.0052642822265625, 0.0283203125, -0.0268707275390625, -0.005405426025390625, 0.006160736083984375, -0.03363037109375, -0.0119476318359375, 0.006977081298828125, 0.005580902099609375, -0.024505615234375, -0.046905517578125, -0.01154327392578125, 0.033172607421875, -0.021392822265625, -0.00785064697265625, 0.036407470703125, 0.0379638671875, 0.04339599609375, -0.0008206367492675781, 0.0032596588134765625, -0.03338623046875, -0.028228759765625, -0.0296478271484375, 0.01540374755859375, 0.042877197265625, 0.0107421875, -0.0261993408203125, -0.005146026611328125, -0.0028324127197265625, -0.0018863677978515625, -0.0168304443359375, 0.0625, 0.048492431640625, -0.047515869140625, 0.0275421142578125, -0.027801513671875, 0.01544189453125, 0.01386260986328125, -0.04913330078125, -0.0811767578125, 0.03814697265625, 0.03857421875, -0.059844970703125, 0.0229339599609375, 0.02490234375, 0.03460693359375, -0.0202178955078125, 0.023773193359375, -0.0345458984375, 0.0024433135986328125, 0.0243072509765625, 0.063232421875, -0.0033779144287109375, 0.0142974853515625, 0.0010786056518554688, 0.01666259765625, -0.00638580322265625, 0.0045623779296875, -0.019744873046875, 0.005702972412109375, -0.0133056640625, -0.0207366943359375, -0.01371002197265625, -0.01041412353515625, -0.01270294189453125, -0.0126953125, 0.0176544189453125, 0.032806396484375, 0.0008544921875, -0.026092529296875]}\n",
      "{\n",
      "  \"overview\": \"The Guardians must fight to keep their newfound family together as they unravel the mysteries of Peter Quill's true parentage.\",\n",
      "  \"year\": 2017,\n",
      "  \"title\": \"Guardians of the Galaxy Vol. 2\",\n",
      "  \"popularity\": 142.267\n",
      "}\n",
      "0.5245879888534546\n",
      "{'overview': [-0.00868988037109375, 0.0253143310546875, -0.01496124267578125, 0.06365966796875, -0.06854248046875, -0.077392578125, -0.00556182861328125, -0.0093841552734375, -0.030181884765625, -0.0037174224853515625, 0.04254150390625, -0.0139617919921875, 0.008270263671875, -0.01131439208984375, -0.01206207275390625, -0.0036716461181640625, 0.057525634765625, -0.01299285888671875, 0.06298828125, -0.0125732421875, -0.043365478515625, 0.0149078369140625, 0.08160400390625, -0.0689697265625, 0.01512908935546875, 0.005634307861328125, 0.041046142578125, -0.00067138671875, 0.05029296875, 0.041961669921875, 0.00373077392578125, -0.0333251953125, 0.04180908203125, 0.0283203125, -0.0214691162109375, 0.007266998291015625, -0.031646728515625, -0.0474853515625, 0.005889892578125, 0.057403564453125, 0.01152801513671875, 0.0045623779296875, -0.00759124755859375, -0.011810302734375, -0.041717529296875, 0.0299072265625, 0.0180816650390625, -0.00762939453125, 0.0283050537109375, -0.00444793701171875, 0.0297698974609375, 0.02593994140625, -0.0106658935546875, -0.0157623291015625, -0.004791259765625, 0.0294342041015625, -0.03314208984375, -0.0245819091796875, 0.024383544921875, -0.0135040283203125, 0.01617431640625, -0.0014619827270507812, -0.04150390625, 0.02117919921875, 0.0246124267578125, 0.006435394287109375, 0.0017595291137695312, 0.006626129150390625, 0.023834228515625, 0.0160675048828125, 0.006282806396484375, -0.003398895263671875, 0.0227203369140625, 0.01544952392578125, -0.0023784637451171875, 0.01483917236328125, 0.01418304443359375, 0.069580078125, -0.01065826416015625, -0.0194244384765625, 0.0096588134765625, 0.0225067138671875, 0.05328369140625, 0.009429931640625, 0.057891845703125, 0.0030727386474609375, 0.0006160736083984375, 0.0254364013671875, -0.03460693359375, 0.09912109375, -0.0386962890625, 0.0384521484375, 0.1094970703125, -0.006427764892578125, 0.024078369140625, 0.01059722900390625, 0.07049560546875, -0.0005731582641601562, 0.0250396728515625, 0.030975341796875, -0.00264739990234375, -0.019683837890625, -0.0290985107421875, -0.0294952392578125, 0.06329345703125, 0.002933502197265625, 0.046966552734375, 0.0098876953125, -0.0175323486328125, -0.006404876708984375, 0.01348876953125, 0.018310546875, 0.02252197265625, -0.0290985107421875, -0.0548095703125, -0.0261077880859375, 0.0077667236328125, -0.0151214599609375, -0.040863037109375, -0.008758544921875, 0.01087188720703125, 0.0229644775390625, 0.0199737548828125, 0.0162811279296875, -0.0063934326171875, -0.07525634765625, 0.03704833984375, 0.0030078887939453125, -0.045684814453125, 0.029632568359375, -0.00959014892578125, -0.002384185791015625, -0.040191650390625, 0.0019683837890625, 0.0227508544921875, -0.0086822509765625, -0.00988006591796875, -0.050872802734375, 0.036773681640625, -0.005584716796875, -0.003955841064453125, -0.0010528564453125, -0.0021991729736328125, -0.01451873779296875, -0.050689697265625, -0.034698486328125, 0.04254150390625, -0.00028514862060546875, 0.005329132080078125, -0.00843048095703125, -0.040863037109375, -0.0146942138671875, 0.0302581787109375, -0.004581451416015625, 0.0340576171875, 0.0161895751953125, 0.00336456298828125, -0.01450347900390625, -0.00734710693359375, -0.0193634033203125, 0.0302276611328125, 0.01343536376953125, -0.007717132568359375, 0.0191192626953125, 0.03240966796875, -0.030914306640625, 0.040283203125, -0.0008416175842285156, -0.003696441650390625, -0.0276641845703125, 0.00504302978515625, -0.0026702880859375, 0.0215301513671875, -0.0186767578125, -0.02716064453125, -0.016082763671875, -0.01177215576171875, 0.0499267578125, 0.03759765625, -0.0299530029296875, 0.04638671875, -0.037628173828125, 0.037933349609375, 0.07159423828125, 0.055633544921875, -0.0469970703125, -0.0069122314453125, 0.036590576171875, 0.027984619140625, -0.0209503173828125, -0.0535888671875, -0.031005859375, -0.05657958984375, -0.05389404296875, -0.0545654296875, -0.0015420913696289062, 0.01654052734375, -0.01251983642578125, 0.0009984970092773438, 0.0288543701171875, 0.0004286766052246094, 0.0162506103515625, -0.02764892578125, 0.07366943359375, 0.0292816162109375, 0.033172607421875, -0.017303466796875, 0.051666259765625, -0.037689208984375, 0.00533294677734375, -0.0184478759765625, -0.049652099609375, 0.0190277099609375, 0.0242156982421875, 0.035186767578125, -0.01849365234375, -0.0797119140625, -0.01354217529296875, 0.034332275390625, 0.06549072265625, -0.041534423828125, 0.004180908203125, 0.0018949508666992188, -0.0099639892578125, 0.02691650390625, 0.0341796875, -0.04339599609375, -0.100341796875, 0.08990478515625, 0.005748748779296875, -0.032318115234375, -0.0657958984375, 0.01415252685546875, 0.00856781005859375, 0.05908203125, 0.0191192626953125, 0.0511474609375, -0.0212554931640625, -0.022613525390625, 0.013397216796875, 0.02294921875, 0.05438232421875, -0.00971221923828125, -0.0154571533203125, 0.04022216796875, -0.03143310546875, -0.0026874542236328125, -0.0184173583984375, -0.0017080307006835938, -0.0196380615234375, 0.023681640625, 0.0244598388671875, -0.0102081298828125, -0.007503509521484375, 0.027679443359375, 0.01030731201171875, -0.0231781005859375, 0.045318603515625, 0.04998779296875, 0.02545166015625, -0.0022983551025390625, -0.0175018310546875, 0.03485107421875, -0.01788330078125, -0.011871337890625, -0.011444091796875, 0.0135345458984375, 0.01215362548828125, -0.004436492919921875, 0.0234832763671875, -0.0026950836181640625, 0.0036373138427734375, 0.012298583984375, -0.02264404296875, -0.03399658203125, 0.044586181640625, 0.0018815994262695312, 0.01560211181640625, 0.0180511474609375, 0.05645751953125, 0.0380859375, 0.01270294189453125, 0.006931304931640625, -0.0305023193359375, -0.06915283203125, 0.0262298583984375, 0.0170135498046875, 0.0082550048828125, 0.01175689697265625, -0.0104217529296875, -0.023651123046875, 0.01099395751953125, 0.0260162353515625, 0.0263519287109375, 0.018218994140625, -0.00211334228515625, -0.0277557373046875, 0.0005140304565429688, -0.0176849365234375, 0.03509521484375, 0.0009136199951171875, 0.059417724609375, 0.10491943359375, -0.0118560791015625, 0.036468505859375, 0.052764892578125, -0.00030517578125, 0.006011962890625, 0.05487060546875, 0.0248870849609375, -0.01287078857421875, -0.004581451416015625, 0.040313720703125, 0.0009164810180664062, 0.04791259765625, -0.0245513916015625, -0.038543701171875, 0.041046142578125, -0.0108184814453125, 0.01824951171875, -0.01025390625, -0.0160675048828125, 0.007244110107421875, 0.04046630859375, -0.050567626953125, -0.00887298583984375, -0.0211334228515625, -0.0313720703125, 0.006931304931640625, 0.029754638671875, -0.0044403076171875, 0.0083770751953125, 0.019683837890625, -0.002544403076171875, 0.004421234130859375, 0.00714111328125, 0.00867462158203125, 0.00556182861328125, 0.0236663818359375, -0.005809783935546875, -0.0164031982421875, 0.01381683349609375, -0.025177001953125, -0.0009937286376953125, 0.0158843994140625, 0.036956787109375, 0.010772705078125, -0.039093017578125, -0.054351806640625, -0.046356201171875, 0.01806640625, 0.022003173828125, -0.015289306640625, -0.0548095703125, 0.03216552734375, -0.0283660888671875, 0.0474853515625, 0.042877197265625, -0.0081634521484375, 0.0172882080078125, -0.0286407470703125, 0.016357421875, -0.0362548828125, 0.05291748046875, 0.0219268798828125, 0.0053558349609375, -0.043792724609375, -0.005443572998046875, 0.0218353271484375, 0.031005859375, -0.031402587890625, -0.019287109375, -0.0287322998046875, -0.0167999267578125, -0.0105133056640625, -0.021575927734375, -0.00043964385986328125, -0.00806427001953125, -0.00585174560546875, 0.0166015625, -0.0209197998046875, -0.0225830078125, -0.01285552978515625, -0.03656005859375, 0.07012939453125, 0.0302886962890625, -0.033447265625, -0.017181396484375, 0.04754638671875, 0.019195556640625, 0.044891357421875, 0.027587890625, 0.0169677734375, -0.0021915435791015625, 0.034515380859375, -0.01499176025390625, -0.00920867919921875, -0.01409149169921875, 0.035888671875, -0.000370025634765625, -0.076171875, -0.0164794921875, -0.0091705322265625, -0.0082855224609375, -0.040985107421875, 0.027801513671875, -0.002899169921875, 0.0450439453125, 0.0237274169921875, 0.00909423828125, -0.02081298828125, -0.042877197265625, 0.01142120361328125, -0.05047607421875, 0.006916046142578125, 0.0003879070281982422, -0.013946533203125, 0.0219268798828125, -0.03985595703125, -0.0074005126953125, -0.0199127197265625, -0.0152435302734375, -0.0269927978515625, -0.0009217262268066406, 0.00487518310546875, -0.0047454833984375, 0.030914306640625, -0.00588226318359375, 0.0251312255859375, 0.006023406982421875, 0.0158233642578125, -0.006694793701171875, 0.0211639404296875, 0.00455474853515625, -0.038909912109375, 0.02301025390625, -0.032012939453125, 0.08111572265625, -0.0281982421875, 0.0416259765625, -0.042022705078125, -0.0345458984375, 0.043304443359375, -0.0300445556640625, 0.09820556640625, 0.05035400390625, -0.028717041015625, 0.0950927734375, -0.018310546875, 0.02728271484375, -0.015716552734375, 0.024200439453125, -0.0217437744140625, -0.0028514862060546875, 5.906820297241211e-05, -0.034820556640625, 0.022735595703125, 0.025177001953125, -0.059112548828125, -0.0235748291015625, -0.0560302734375, -0.00438690185546875, 0.025604248046875, -0.0120697021484375, -0.0268707275390625, 0.007904052734375, 0.00893402099609375, 0.019744873046875, -0.0066680908203125, -0.00968170166015625, -0.0037670135498046875, 0.02642822265625, 0.0345458984375, -0.0251312255859375, 0.041656494140625, -0.0059356689453125, 0.0341796875, -0.04754638671875, -0.07574462890625, 0.007808685302734375, 0.00855255126953125, 0.0213165283203125, 0.0217132568359375, 0.0225982666015625, 0.001186370849609375, 0.0295867919921875, -0.0023250579833984375, 0.02105712890625, 0.0021228790283203125, -0.0252685546875, -0.0192413330078125, 0.0262451171875, -0.016876220703125, -0.0007119178771972656, 0.0212860107421875, -0.012176513671875, 0.04766845703125, -0.0174407958984375, 0.027191162109375, -0.0038604736328125, 0.02587890625, -0.013275146484375, 0.01702880859375, -0.0206146240234375, -0.01004791259765625, 0.0019016265869140625, 0.0294189453125, 0.0208892822265625, 0.001758575439453125, 0.036407470703125, -0.0242156982421875, -0.039031982421875, 0.0171966552734375, 0.020599365234375, 0.019805908203125, -0.01253509521484375, 0.0100555419921875, -0.028656005859375, 0.0213623046875, -0.0159149169921875, 0.034637451171875, 0.0672607421875, 0.032440185546875, 0.0084075927734375, 0.006793975830078125, 0.01059722900390625, 0.007053375244140625, 0.03515625, -0.0858154296875, -0.048736572265625, 0.025970458984375, -0.0096282958984375, 0.032867431640625, 0.02764892578125, -0.058441162109375, -0.033660888671875, 0.033447265625, -0.0096893310546875, 0.04803466796875, 0.022369384765625, 0.00616455078125, -0.00817108154296875, -0.0010042190551757812, 0.00109100341796875, 0.00011616945266723633, -0.007843017578125, -0.00542449951171875, 0.038604736328125, -0.0265045166015625, 0.05499267578125, -0.023681640625, 0.0031681060791015625, -0.052825927734375, -0.059295654296875, 0.021331787109375, 0.0596923828125, 0.0426025390625, 0.015625, -0.04962158203125, -0.04876708984375, -0.03936767578125, -0.053192138671875, 1.7881393432617188e-05, 0.03582763671875, 0.01056671142578125, 0.00435638427734375, -0.0007586479187011719, -0.004566192626953125, 0.0003437995910644531, -0.0667724609375, -0.043182373046875, 0.0307769775390625, 0.0014638900756835938, -0.0161285400390625, -0.04278564453125, -0.0166168212890625, 0.01092529296875, 0.047637939453125, 0.007137298583984375, 0.021087646484375, 0.0308380126953125, -0.01129913330078125, 0.04656982421875, -0.021209716796875, -0.04388427734375, 0.00627899169921875, 0.0204925537109375, 0.00023233890533447266, 0.0272064208984375, 0.0016641616821289062, 0.0101165771484375, -0.0197906494140625, -0.00896453857421875, 0.053466796875, 0.0017852783203125, 0.0205841064453125, 0.035980224609375, -0.0094146728515625, -0.0063629150390625, 0.0196685791015625, 0.010650634765625, 0.042449951171875, 0.0083465576171875, 0.0306396484375, -0.01922607421875, 0.0221405029296875, 0.028961181640625, 0.003078460693359375, 0.03375244140625, 0.016571044921875, 0.051116943359375, 0.01038360595703125, -0.05169677734375, 0.0276947021484375, 0.001529693603515625, -0.013671875, -0.0008363723754882812, 0.01068878173828125, 0.034881591796875, -0.0096435546875, -0.016204833984375, -0.08099365234375, -0.079833984375, 0.032135009765625, -0.015411376953125, 0.0186614990234375, 0.0352783203125, 0.004611968994140625, -0.040252685546875, -0.0234527587890625, -0.046142578125, -0.048126220703125, 0.035064697265625, -0.0257568359375, -0.026641845703125, -0.06964111328125, 0.0224456787109375, -0.06878662109375, 0.00620269775390625, 0.0291290283203125, 0.00449371337890625, -0.041168212890625, 0.010345458984375, -0.0035457611083984375, -0.049163818359375, -0.0036163330078125, 0.0269622802734375, -0.032745361328125, 0.050994873046875, -0.046905517578125, -0.029296875, -0.0308685302734375, 0.022064208984375, 0.019989013671875, -0.01520538330078125, -0.0092620849609375, -0.00339508056640625, 0.014556884765625, -0.011688232421875, 0.01666259765625, 0.056915283203125, 0.03387451171875, 0.01320648193359375, 0.0589599609375, 0.0360107421875, -0.011627197265625, 0.04296875, -0.04632568359375, -0.011505126953125, 0.036834716796875, -0.0104217529296875, 0.057098388671875, 0.0233306884765625, 0.0278472900390625, 0.03326416015625, 0.0111236572265625, -0.0210418701171875, 0.0218048095703125, -0.0017261505126953125, 0.0160980224609375, 0.0245208740234375, 0.052978515625, 0.0017452239990234375, -0.044708251953125, 0.035308837890625, -0.0247955322265625, 0.038360595703125, -0.01483917236328125, -0.04010009765625, -0.02545166015625, 0.0117034912109375, 0.0236358642578125, -0.001857757568359375, -0.02484130859375, 0.022796630859375, -0.0277252197265625, -0.005725860595703125, -0.01056671142578125, -0.0183563232421875, -0.01885986328125, 0.005031585693359375, -0.0009012222290039062, -0.023101806640625, -0.001796722412109375, 0.01284027099609375, -0.01528167724609375, 0.025787353515625, -0.0233154296875, 0.031036376953125, 0.003910064697265625, -0.0284423828125, 0.0262908935546875, 0.02789306640625, -0.0013980865478515625, -0.02276611328125, 0.0303955078125, 0.0104217529296875, -0.044342041015625, -0.020263671875, 0.0282745361328125, -0.03302001953125, -0.067626953125, -0.0223236083984375, 0.0309600830078125, 0.0447998046875, -0.0128173828125, 0.03192138671875, -0.01506805419921875, -0.0167999267578125, -0.0008668899536132812, -0.01010894775390625, 0.015838623046875, -0.0145263671875, 0.01213836669921875, 0.0093841552734375, -0.0322265625, -0.053924560546875, -0.08538818359375, 0.06390380859375, -0.043304443359375, 0.0125274658203125, 0.054107666015625, 0.0181121826171875, -0.02386474609375, 0.020599365234375, 0.005573272705078125, -0.0148468017578125, 0.0131072998046875, -0.03350830078125, -0.01983642578125, -0.0162811279296875, 0.025726318359375, 0.0225982666015625, 0.002895355224609375, -0.0256195068359375, -0.003387451171875, -0.00415802001953125, 0.0181121826171875, -0.037261962890625, 0.0115509033203125, -0.01239013671875, -0.0024547576904296875, 0.0254974365234375, 0.01068115234375, 0.0243682861328125, 0.03662109375, -0.01287841796875, -0.014373779296875, -0.01264190673828125, 0.01457977294921875, 0.037872314453125, -0.0250244140625, 0.04669189453125, 0.035308837890625, 0.007472991943359375, 0.01407623291015625, -0.0081787109375, 0.02520751953125, -0.01082611083984375, -0.01264190673828125, 0.014495849609375, 0.01483917236328125, 0.04144287109375, 0.03826904296875, 0.0113677978515625, 0.024566650390625, 0.04254150390625, 0.0302581787109375, -0.0084075927734375, 0.02734375, 0.04302978515625, 0.017822265625, 0.023468017578125, 0.0193939208984375, 0.02099609375, -0.035186767578125, 0.006061553955078125, -0.02410888671875, -0.02679443359375, -0.009979248046875, 0.0675048828125, -0.0211639404296875, -0.008026123046875, -0.0177764892578125, 0.01477813720703125, -0.02508544921875, -0.031036376953125, 0.0194854736328125, -0.006351470947265625, -0.0023784637451171875, 0.0177001953125, -0.01180267333984375, 0.0215911865234375, 0.0555419921875, -0.0024204254150390625, -0.017425537109375, 0.049285888671875, 0.03515625, -0.001373291015625, 0.005615234375, -0.0151214599609375, 0.0118408203125, -0.0023937225341796875, -0.027801513671875, -0.04376220703125, 0.0008969306945800781, 0.0455322265625, -0.01971435546875, -0.0223541259765625, -0.07000732421875, -0.014373779296875, -0.002254486083984375, -0.034393310546875, -0.01030731201171875, -0.0255279541015625, -0.00904083251953125, 0.0013418197631835938, 0.028350830078125, 0.032379150390625, -0.01406097412109375, -0.0026378631591796875, 0.033843994140625, 0.01427459716796875, 0.0073699951171875, -0.005275726318359375, -0.01320648193359375, -0.049774169921875, 0.06243896484375, -0.057037353515625, -0.0074920654296875, 0.03363037109375, -0.0215606689453125, -0.029693603515625, 0.031646728515625, 0.0175018310546875, 0.03656005859375, 0.0254364013671875, 0.002410888671875, 0.0013608932495117188, -0.005138397216796875, -0.003269195556640625, -0.003955841064453125, -0.042266845703125, 0.0220489501953125, -0.01035308837890625, -0.005153656005859375, -0.0482177734375, 0.0325927734375, -0.0128021240234375, -0.0418701171875, -0.04180908203125, 0.0509033203125, -0.0240325927734375, -0.0496826171875, 0.04193115234375, -0.00034117698669433594, -0.0271759033203125, 0.00689697265625, -0.019622802734375, 0.03558349609375, 0.0239410400390625, -0.0233154296875, -0.004032135009765625, -0.0241851806640625, 0.0255126953125, -0.004085540771484375, -0.036865234375, 0.04144287109375, 0.006969451904296875, -0.00833892822265625, -0.037078857421875, -0.00930023193359375, -0.0206298828125, -0.0302581787109375, -0.0675048828125, 0.08441162109375, 0.0772705078125, 0.026458740234375, -0.0731201171875, -0.01073455810546875, -0.0041961669921875, -0.036468505859375, 0.053680419921875, 0.01435089111328125, -0.01499176025390625, -0.01221466064453125, 0.034423828125, -0.0019369125366210938, -0.04278564453125, 0.002719879150390625, 0.0285491943359375, 0.001392364501953125, -0.0158233642578125, -0.005035400390625, 0.04168701171875, -0.00994873046875, -0.03424072265625, -0.01232147216796875, 0.0128021240234375, 0.0078887939453125, -0.049163818359375, 0.01456451416015625, 0.03118896484375, 0.004058837890625, 0.0094757080078125, -0.0516357421875, 0.053436279296875, 0.005779266357421875, 0.00873565673828125, -0.01983642578125, 0.01104736328125, 0.02923583984375, -0.001087188720703125, -0.01300048828125, -0.04205322265625, -0.043121337890625, 0.004367828369140625, 0.01214599609375, 0.071044921875, 0.0017633438110351562, 0.04046630859375, 0.059783935546875, 0.0013933181762695312, -0.017486572265625, 0.0057220458984375, 0.025238037109375, -0.0061187744140625, -0.01116180419921875, -0.0063018798828125, -0.0297393798828125, 0.00910186767578125, 0.0064544677734375, 0.0246124267578125, -0.00373077392578125, 0.03253173828125, 0.079833984375, 0.007282257080078125, 0.0156707763671875, -0.0257568359375, 0.06988525390625, -0.0071563720703125, -0.0262603759765625, 0.0007519721984863281, -0.056243896484375, -0.07965087890625, 0.01511383056640625, 0.0035648345947265625, -0.0080413818359375, -0.017547607421875, 0.025177001953125, 0.040069580078125, 0.048919677734375, 0.00608062744140625, 0.00434112548828125, -0.004070281982421875, -0.0240478515625, -0.048736572265625, -0.00292205810546875, 0.06353759765625, 0.022125244140625, -0.006237030029296875, -0.03338623046875, 0.00608062744140625, -0.0335693359375, -0.0168304443359375, 0.055572509765625, -0.009918212890625, -0.007007598876953125, 0.0113067626953125, -0.0316162109375, 0.007656097412109375, 0.0082244873046875, -0.01432037353515625, -0.020538330078125, 0.0660400390625, -0.0273284912109375, -0.040008544921875, -0.033660888671875, 0.042022705078125, 0.09912109375, 0.04705810546875, 0.057861328125, -0.0557861328125, 0.021575927734375, 0.007778167724609375, 0.05316162109375, -0.01110076904296875, 0.01300811767578125, 0.01461029052734375, -0.017852783203125, -0.0006084442138671875, -0.032989501953125, -0.0088043212890625, 0.01207733154296875, 0.0214080810546875, -0.0196075439453125, 0.042144775390625, -0.015869140625, -0.050140380859375, 0.00197601318359375, 0.0274810791015625, -0.01004791259765625, -0.00962066650390625, 0.07391357421875], 'title': [0.0191802978515625, 0.054931640625, -0.0196990966796875, 0.0323486328125, -0.0007987022399902344, 0.0018796920776367188, -0.005069732666015625, -0.050323486328125, -0.01146697998046875, 0.0010766983032226562, -0.0017595291137695312, 0.0040435791015625, -0.00543212890625, -0.01229095458984375, -0.006622314453125, -0.003253936767578125, 0.031494140625, 0.023223876953125, 0.028778076171875, -0.019744873046875, -0.00911712646484375, 0.007488250732421875, 0.03814697265625, -0.00983428955078125, 0.0292816162109375, 0.037689208984375, 0.041015625, -0.0296173095703125, 0.07916259765625, 0.01120758056640625, 0.01947021484375, -0.052490234375, 0.03924560546875, 0.0261688232421875, -0.00047779083251953125, 0.012786865234375, -0.0265655517578125, -0.031890869140625, -0.0005784034729003906, 0.05242919921875, -0.0305633544921875, 0.01080322265625, -0.0268096923828125, 0.01690673828125, -0.053192138671875, 0.00754547119140625, 0.0211639404296875, 0.0252685546875, 0.11505126953125, -0.0014705657958984375, 0.0249786376953125, 0.016265869140625, -0.0171051025390625, -0.00450897216796875, -0.0242156982421875, -0.0019779205322265625, 0.004276275634765625, 0.01442718505859375, 0.042083740234375, 0.02813720703125, 0.002178192138671875, -0.005397796630859375, -0.01251983642578125, 0.00970458984375, 0.018218994140625, 0.029205322265625, 0.017547607421875, 0.0244140625, 0.01038360595703125, 0.01068115234375, 0.01131439208984375, -0.003833770751953125, 0.03515625, 0.0037021636962890625, -0.0240631103515625, -0.028717041015625, 0.00925445556640625, 0.06170654296875, 0.0246124267578125, 0.01055908203125, 0.00980377197265625, 0.01354217529296875, 0.11041259765625, 0.033599853515625, 0.0282135009765625, -0.005298614501953125, 0.00789642333984375, 0.04278564453125, -0.037261962890625, 0.048492431640625, -0.0171356201171875, 0.037017822265625, 0.047576904296875, -0.029510498046875, 0.0186004638671875, 0.0077362060546875, 0.00969696044921875, -0.0131378173828125, 0.0268096923828125, -0.0030269622802734375, 0.0201263427734375, -0.0032558441162109375, 0.00879669189453125, 0.0003237724304199219, 0.0110626220703125, 0.0557861328125, 0.0269775390625, 0.0026760101318359375, -0.0213470458984375, -0.0165557861328125, 0.00939178466796875, -0.00849151611328125, 0.01062774658203125, -0.0177001953125, -0.0014791488647460938, -0.029571533203125, 0.0029354095458984375, -0.0009822845458984375, -0.04437255859375, 0.0014657974243164062, -0.041778564453125, -0.00475311279296875, -0.01250457763671875, -0.00115966796875, -0.006603240966796875, 0.03094482421875, 0.0137786865234375, -0.039093017578125, 0.01226043701171875, -0.0007867813110351562, -0.044189453125, 0.0222320556640625, -0.007080078125, 0.003688812255859375, 0.03460693359375, 0.012054443359375, 0.03900146484375, -0.06353759765625, 0.0181732177734375, 0.042694091796875, 0.00324249267578125, 0.054443359375, 0.0013828277587890625, 0.0117034912109375, -0.0205230712890625, -0.037261962890625, 0.005222320556640625, 0.00780487060546875, 0.0007429122924804688, -0.0245208740234375, -0.032562255859375, -0.00594329833984375, 0.023529052734375, -0.008636474609375, 0.0109710693359375, 0.00152587890625, 0.018524169921875, -0.0209197998046875, 0.00286102294921875, -0.0014629364013671875, 0.019500732421875, -0.0259857177734375, -0.0020008087158203125, -0.02203369140625, 0.0010309219360351562, -0.031768798828125, 0.036834716796875, -0.012237548828125, 0.01580810546875, -0.003631591796875, 0.0004703998565673828, 0.0161285400390625, 0.03192138671875, -0.001300811767578125, -0.0178680419921875, -0.03546142578125, -0.012847900390625, 0.0134735107421875, 0.07000732421875, -0.0509033203125, 0.04949951171875, 0.01158905029296875, 0.0035305023193359375, 0.06640625, 0.0231781005859375, 0.0504150390625, 0.038909912109375, 0.0293731689453125, 0.0016193389892578125, 0.03363037109375, -0.08251953125, -0.051544189453125, -0.0684814453125, -0.0260467529296875, -0.07049560546875, -0.0011758804321289062, 0.044036865234375, -0.046356201171875, 0.0528564453125, 0.049530029296875, 0.043914794921875, -0.01068115234375, 0.0149993896484375, 0.040313720703125, 0.0167999267578125, 0.0014505386352539062, 0.03350830078125, 0.01348876953125, -0.053466796875, 0.036834716796875, -0.0162811279296875, -0.0290374755859375, -0.0173797607421875, 0.005458831787109375, -0.00672149658203125, 0.0206756591796875, -0.02398681640625, 0.033294677734375, 0.0157470703125, 0.0372314453125, 0.026580810546875, -0.00948333740234375, -0.00530242919921875, -0.0235748291015625, -0.012664794921875, -0.027313232421875, 0.0228424072265625, -0.067626953125, 0.044647216796875, -0.0450439453125, -0.043365478515625, -0.0518798828125, -0.0087127685546875, 0.015838623046875, 0.05194091796875, 0.04364013671875, -0.04193115234375, -0.04364013671875, -0.05316162109375, -0.0034160614013671875, 0.06768798828125, 0.01125335693359375, -0.03289794921875, 0.005168914794921875, 0.017364501953125, -0.0144195556640625, -0.012481689453125, -0.039306640625, 0.018646240234375, 0.00997161865234375, 0.0010623931884765625, 0.04193115234375, 0.0016260147094726562, 0.01629638671875, 0.0281524658203125, 0.03692626953125, 0.01203155517578125, -0.02227783203125, 0.0119476318359375, -0.006626129150390625, -0.0384521484375, -0.0002448558807373047, 0.04248046875, -0.02508544921875, -0.06683349609375, -0.054656982421875, -0.0134735107421875, 0.00778961181640625, 0.12298583984375, 0.045318603515625, 0.01015472412109375, -0.055389404296875, -0.047882080078125, 0.03509521484375, 0.007770538330078125, 0.0230255126953125, -0.02569580078125, -0.0029468536376953125, -0.006988525390625, 0.040802001953125, 0.041412353515625, 0.01128387451171875, 0.0119476318359375, -0.06634521484375, -0.072509765625, 0.0171966552734375, 0.03924560546875, 0.0021228790283203125, -0.055206298828125, 0.0263519287109375, 0.006927490234375, 0.01016998291015625, 0.00035691261291503906, 0.0164031982421875, 0.0098419189453125, -0.0138397216796875, -0.0295257568359375, 0.01629638671875, -0.0177154541015625, 0.0279693603515625, 0.0008788108825683594, 0.03265380859375, 0.0672607421875, -0.006732940673828125, 0.02410888671875, 0.040985107421875, 0.0069427490234375, 0.00701141357421875, 0.035003662109375, 0.0022430419921875, 0.006641387939453125, 0.0059967041015625, 0.0284271240234375, 0.0174407958984375, 0.016265869140625, -0.0272064208984375, -0.017822265625, -0.03350830078125, -0.004070281982421875, 0.067626953125, -0.0286712646484375, -0.023681640625, -0.02947998046875, 0.05743408203125, -0.0305328369140625, 0.0166778564453125, -0.005062103271484375, -0.007701873779296875, -0.00879669189453125, -0.0304412841796875, 0.04876708984375, -0.038330078125, 0.032196044921875, -0.058074951171875, 0.039459228515625, 0.01517486572265625, 0.0309600830078125, 0.001087188720703125, 0.007205963134765625, -0.003391265869140625, -0.01971435546875, 0.0128021240234375, -0.0509033203125, -0.0165863037109375, 0.0123443603515625, 0.018096923828125, -0.002330780029296875, -0.00923919677734375, -0.0098114013671875, -0.05438232421875, 0.02069091796875, -0.001483917236328125, -0.05950927734375, -0.0258941650390625, 0.03863525390625, -0.02008056640625, -0.01276397705078125, 0.004974365234375, -0.002979278564453125, -0.017974853515625, 0.046356201171875, -0.07147216796875, -0.02362060546875, 0.007297515869140625, 0.005374908447265625, 0.023590087890625, 0.0122222900390625, 0.0208740234375, -0.0180511474609375, 0.035888671875, -0.0142364501953125, 0.0474853515625, -0.0051116943359375, 0.0190277099609375, -0.04107666015625, 0.0037860870361328125, -0.016815185546875, -0.05267333984375, -0.01702880859375, -0.00447845458984375, 0.037353515625, 0.0085601806640625, -0.0226593017578125, 0.0457763671875, 0.00960540771484375, 0.051666259765625, -0.0016183853149414062, -0.01934814453125, 0.01708984375, 0.005596160888671875, -0.013702392578125, 0.0016489028930664062, 0.02508544921875, -0.0291595458984375, 0.00911712646484375, -0.024749755859375, -0.0233917236328125, 0.01348876953125, 0.00855255126953125, -0.027374267578125, -0.0030841827392578125, -0.0777587890625, -0.01898193359375, -0.059600830078125, 0.012054443359375, 0.008697509765625, -0.0204925537109375, 0.037994384765625, 0.036285400390625, 0.0189208984375, -0.00861358642578125, -0.051300048828125, -0.02349853515625, -0.05926513671875, 0.0292510986328125, -0.0306243896484375, -0.0050048828125, -0.0122833251953125, -0.040435791015625, -0.012115478515625, -0.0231781005859375, -0.0301971435546875, -0.0340576171875, -0.007793426513671875, -0.0063629150390625, -0.02716064453125, 0.03387451171875, 0.0126800537109375, 0.03216552734375, 0.0026798248291015625, 0.0131683349609375, -0.00095367431640625, -0.0010471343994140625, 0.00829315185546875, -0.034759521484375, 0.0229339599609375, -0.0828857421875, 0.041717529296875, -0.026123046875, 0.035064697265625, -0.01200103759765625, 0.0139007568359375, 0.0094757080078125, -0.0174560546875, 0.1502685546875, 0.01849365234375, -0.042144775390625, 0.04693603515625, -0.03704833984375, -0.00582122802734375, -0.0205230712890625, -0.036956787109375, 0.0018472671508789062, -0.0131988525390625, 0.01898193359375, -0.01219940185546875, 0.01446533203125, 0.04052734375, -0.0288238525390625, 0.0010309219360351562, -0.0361328125, 0.007602691650390625, 0.006114959716796875, -0.00382232666015625, 0.03717041015625, -0.020751953125, 0.07281494140625, 0.033966064453125, -0.026031494140625, 0.04876708984375, -0.057098388671875, 0.0745849609375, -0.03729248046875, -0.0386962890625, 0.04412841796875, 0.04412841796875, -0.005481719970703125, 0.00019884109497070312, 0.018829345703125, 0.041839599609375, -0.0183868408203125, 0.0163726806640625, 0.01129913330078125, 0.017608642578125, 0.0026950836181640625, 0.014892578125, 0.01413726806640625, 0.002223968505859375, 0.07232666015625, -0.032989501953125, -0.0084075927734375, 0.02655029296875, -0.021728515625, 0.004878997802734375, 0.046600341796875, -0.0301666259765625, 0.05010986328125, -0.05010986328125, 0.03155517578125, 0.0447998046875, 0.036468505859375, -0.00481414794921875, 0.00714874267578125, -0.0294342041015625, -0.01641845703125, -0.00984954833984375, 0.031463623046875, 0.01456451416015625, 0.002323150634765625, 0.037200927734375, -0.01385498046875, -0.036163330078125, -0.0217437744140625, 0.0264129638671875, 0.0233612060546875, -0.058441162109375, 0.01043701171875, 0.00197601318359375, 0.01287078857421875, -0.05023193359375, 0.027923583984375, 0.051483154296875, 0.02685546875, 0.02166748046875, 0.043975830078125, -0.001708984375, 0.006076812744140625, 0.056610107421875, -0.0538330078125, -0.0155487060546875, -0.0029888153076171875, -0.01515960693359375, 0.0142669677734375, 0.017730712890625, -0.04949951171875, -0.060211181640625, 0.0173187255859375, 0.0178985595703125, 0.01534271240234375, 0.0238189697265625, 0.016448974609375, 0.0192718505859375, 0.0268707275390625, 0.0249176025390625, 0.00020420551300048828, -0.012237548828125, 0.03936767578125, -0.021514892578125, -0.045562744140625, 0.03619384765625, -0.0614013671875, 0.0049896240234375, -0.0391845703125, -0.03460693359375, -0.017608642578125, -0.007411956787109375, -0.009552001953125, 0.0186920166015625, 0.0132904052734375, -0.049285888671875, -0.005641937255859375, -0.062255859375, -0.0357666015625, 0.08331298828125, 0.04901123046875, -0.045379638671875, -0.0218048095703125, -0.01404571533203125, -0.03729248046875, -0.048187255859375, -0.0138092041015625, 0.0445556640625, 0.010467529296875, 0.01425933837890625, -0.033905029296875, 0.053497314453125, 0.048187255859375, 0.005016326904296875, 0.017852783203125, 0.010589599609375, 0.0307159423828125, -0.002918243408203125, 0.031524658203125, -0.025482177734375, -0.00580596923828125, -0.0787353515625, 0.01093292236328125, -0.007595062255859375, 0.0281829833984375, 0.032928466796875, 0.0296478271484375, 0.0092620849609375, 0.032684326171875, 0.022003173828125, 0.007289886474609375, -0.006500244140625, -0.029083251953125, 0.06365966796875, 0.025726318359375, 0.03131103515625, 0.00830841064453125, 0.02593994140625, 0.0018253326416015625, 0.0290069580078125, -0.028472900390625, 0.01107025146484375, 0.0138702392578125, 0.0011014938354492188, -0.009674072265625, 0.01233673095703125, 0.043182373046875, 0.01605224609375, -0.023193359375, 0.0190277099609375, -0.01678466796875, -0.0278778076171875, -0.0248870849609375, 0.0208892822265625, 0.01038360595703125, -0.021942138671875, -0.041046142578125, -0.0360107421875, -0.0210723876953125, 0.043701171875, -0.0208892822265625, -0.00443267822265625, 0.045379638671875, -0.005023956298828125, -0.054656982421875, -0.027801513671875, -0.04425048828125, -0.048065185546875, 0.0012197494506835938, -0.0229644775390625, -0.01715087890625, -0.040069580078125, 0.027587890625, -0.06884765625, -0.012359619140625, 0.0543212890625, -0.01251220703125, -0.00711822509765625, 0.0130157470703125, -0.0014896392822265625, -0.01056671142578125, -0.02813720703125, 0.0131072998046875, -0.012969970703125, -0.01093292236328125, 0.037353515625, -0.030670166015625, -0.025238037109375, 0.07086181640625, -0.057373046875, 0.003513336181640625, 0.007663726806640625, 0.0159759521484375, 0.06451416015625, -0.02386474609375, 0.066162109375, -0.0013227462768554688, -0.005706787109375, 0.0006213188171386719, 0.029693603515625, 0.0034923553466796875, 0.0273895263671875, 0.007350921630859375, 0.035400390625, 0.00640106201171875, -0.0146331787109375, -0.0176544189453125, 0.0445556640625, 0.0411376953125, 0.033447265625, 0.053741455078125, 0.0259552001953125, -0.06982421875, -0.058197021484375, -0.00322723388671875, 0.0014486312866210938, -0.0030803680419921875, 0.0180206298828125, -0.049285888671875, 0.025726318359375, 0.0196533203125, -0.0160980224609375, -0.0584716796875, -0.027740478515625, -0.012664794921875, -0.038970947265625, 0.0123748779296875, 0.045654296875, -0.004550933837890625, -0.0168304443359375, -0.017059326171875, 0.003406524658203125, 0.031494140625, 0.01369476318359375, -0.028717041015625, -0.017242431640625, 0.003208160400390625, 0.010009765625, -0.027435302734375, -0.0010080337524414062, 0.004070281982421875, -0.00485992431640625, 0.041015625, -0.04974365234375, -0.00829315185546875, 0.023773193359375, 0.0012331008911132812, 0.052093505859375, 0.0174102783203125, -0.044952392578125, 0.0251617431640625, 0.00896453857421875, 0.004398345947265625, -0.0219573974609375, -0.02264404296875, 0.0093841552734375, 0.0260162353515625, -0.0303497314453125, -0.028900146484375, -0.0200958251953125, -0.00293731689453125, 0.01258087158203125, 0.01230621337890625, -0.017181396484375, 0.003025054931640625, -0.0169525146484375, -0.0169677734375, 0.02166748046875, 0.00339508056640625, -0.0139617919921875, -0.0095672607421875, -0.0509033203125, -0.01971435546875, -0.0985107421875, 0.07391357421875, -0.0252685546875, -0.0193023681640625, -0.02105712890625, -0.07061767578125, -0.031585693359375, 0.00539398193359375, 0.05120849609375, -0.0103912353515625, 0.038055419921875, -0.007843017578125, -0.0159454345703125, 0.007183074951171875, 0.029571533203125, -0.0124359130859375, 0.036407470703125, 0.0007967948913574219, -0.01134490966796875, -0.0020618438720703125, -0.004367828369140625, -0.08203125, -0.04315185546875, 0.014556884765625, 0.00936126708984375, -0.0362548828125, 0.0002257823944091797, -0.0269927978515625, 0.0098114013671875, 0.010528564453125, -0.016845703125, -0.0044097900390625, 0.0205078125, -0.0011692047119140625, 0.007793426513671875, 0.0172576904296875, -0.0236053466796875, -0.007785797119140625, -0.0034122467041015625, -0.042022705078125, 0.0298614501953125, 0.033447265625, -0.0206756591796875, -0.0095977783203125, -0.01128387451171875, 0.03045654296875, -0.0384521484375, -0.004680633544921875, 0.02587890625, 0.06451416015625, 0.018768310546875, -0.003856658935546875, 0.0263671875, 0.0282135009765625, 0.01279449462890625, 0.0162353515625, 0.003509521484375, -0.0193328857421875, -0.00981903076171875, -0.01085662841796875, -0.05474853515625, -0.00807952880859375, -0.07220458984375, 0.059814453125, -0.05657958984375, -0.0340576171875, 0.004154205322265625, 0.044921875, -0.0322265625, 0.0125274658203125, 0.07000732421875, -0.01146697998046875, 0.012176513671875, 0.0011081695556640625, 0.00804901123046875, 0.009490966796875, 0.037017822265625, 0.0011606216430664062, -0.00035262107849121094, 0.06903076171875, 0.0662841796875, 0.0180816650390625, 0.02508544921875, -0.0292816162109375, 0.0157623291015625, -0.0255279541015625, 0.019195556640625, -0.0004317760467529297, 0.01158905029296875, 0.007640838623046875, -0.01316070556640625, -0.0286712646484375, -0.0021839141845703125, -0.0433349609375, -0.005405426025390625, -0.01514434814453125, -0.004169464111328125, -0.042083740234375, -0.0132293701171875, 0.01078033447265625, 0.06915283203125, 0.0110015869140625, 0.02484130859375, 0.002166748046875, -0.0171966552734375, -0.0181427001953125, -0.00170135498046875, 0.0177459716796875, 0.0294342041015625, -0.03173828125, 0.031341552734375, -0.00279998779296875, 0.05157470703125, 0.01113128662109375, -0.017059326171875, 0.01142120361328125, -0.0012836456298828125, 0.01342010498046875, -0.00496673583984375, 0.00669097900390625, -0.002899169921875, 0.031890869140625, 0.004947662353515625, 0.01959228515625, -0.0159454345703125, -0.01483154296875, 0.032867431640625, 0.04498291015625, 0.038848876953125, -0.033447265625, -0.0189361572265625, 0.04498291015625, -0.0309295654296875, 0.0181884765625, 0.0545654296875, 0.028900146484375, -0.0689697265625, 0.0225677490234375, 0.00927734375, 0.013275146484375, -0.01424407958984375, -0.012786865234375, 0.038818359375, -0.004344940185546875, -0.03570556640625, 0.0035533905029296875, -0.0213165283203125, 0.02496337890625, -0.036834716796875, -0.01166534423828125, 0.050140380859375, -0.0033245086669921875, -0.0197601318359375, -0.004665374755859375, -6.55055046081543e-05, -0.006153106689453125, -0.036956787109375, -0.06298828125, 0.033782958984375, 0.065673828125, 0.029144287109375, -0.07489013671875, -0.015228271484375, -0.0027866363525390625, 0.0094451904296875, 0.062408447265625, -0.028900146484375, 0.000965118408203125, -0.03857421875, 0.05255126953125, -0.0006532669067382812, -0.00782012939453125, 0.001178741455078125, 0.01483154296875, 0.048248291015625, 0.0091552734375, -0.0003294944763183594, 0.0209808349609375, 0.023284912109375, -0.0211334228515625, -0.037322998046875, 0.062255859375, 0.004878997802734375, -0.0282745361328125, 0.01071929931640625, 0.0181121826171875, -0.006649017333984375, -0.00727081298828125, -0.031646728515625, 0.031829833984375, -0.00406646728515625, -0.0082244873046875, -0.01068878173828125, -0.00505828857421875, 0.0010776519775390625, 0.0015411376953125, -0.0103302001953125, 0.004085540771484375, -0.036956787109375, -0.018585205078125, -0.001491546630859375, 0.0200042724609375, 0.0032978057861328125, 0.032135009765625, -0.0221710205078125, -0.0079345703125, -0.004314422607421875, 0.01401519775390625, -0.0180816650390625, -0.045562744140625, -0.033416748046875, 0.04107666015625, 0.01151275634765625, 0.00475311279296875, 0.033172607421875, 0.057373046875, 0.02081298828125, -0.0282745361328125, 0.07196044921875, -0.031158447265625, -0.01007080078125, -0.019561767578125, -0.0316162109375, -0.0221405029296875, 0.00553131103515625, 0.0008907318115234375, -0.032989501953125, -0.036895751953125, -0.0020389556884765625, 0.03216552734375, -0.03094482421875, -0.0280914306640625, 0.0193023681640625, 0.04150390625, 0.02032470703125, -0.00235748291015625, -0.004241943359375, -0.03033447265625, -0.0114288330078125, -0.00627899169921875, 0.0202484130859375, 0.08026123046875, 0.0438232421875, -0.00670623779296875, -0.03607177734375, 0.007541656494140625, -0.003353118896484375, -0.016448974609375, 0.042327880859375, 0.06890869140625, -0.045257568359375, 0.024749755859375, 0.00992584228515625, 0.022430419921875, 0.00847625732421875, -0.046783447265625, -0.087646484375, 0.044677734375, 0.05389404296875, -0.055206298828125, 0.01548004150390625, 0.030303955078125, 0.0548095703125, -0.0147247314453125, 0.028289794921875, -0.06317138671875, 0.0299835205078125, 0.025543212890625, 0.05853271484375, -0.016937255859375, 0.01416778564453125, 0.01404571533203125, -0.0163726806640625, -0.02099609375, -0.00839996337890625, -0.03570556640625, 0.0171051025390625, 0.04620361328125, -0.02862548828125, -0.0003368854522705078, -0.006866455078125, -0.03802490234375, 0.0027484893798828125, 0.0178680419921875, 0.036346435546875, -0.00598907470703125, -0.01143646240234375]}\n",
      "{\n",
      "  \"title\": \"Stargate\",\n",
      "  \"overview\": \"An interstellar teleportation device, found in Egypt, leads to a planet with humans resembling ancient Egyptians who worship the god Ra.\",\n",
      "  \"year\": 1994,\n",
      "  \"popularity\": 34.343\n",
      "}\n"
     ]
    }
   ],
   "source": [
    "response = movies.query.near_text(\n",
    "    query=\"galaxy\",\n",
    "    limit=3,\n",
    "    target_vector=\"title\",\n",
    "    include_vector=True,\n",
    "    return_metadata=wq.MetadataQuery(distance=True)\n",
    ")\n",
    "\n",
    "for o in response.objects:\n",
    "    print(o.metadata.distance)\n",
    "    print(o.vector)\n",
    "    print(json.dumps(o.properties, indent=2))"
   ]
  },
  {
   "cell_type": "markdown",
   "id": "f4097db1-76b0-459c-b5c3-2ee1e0f90abe",
   "metadata": {},
   "source": [
    "These vector representations come from deep learning models to those that power LLMs. They capture meaning, and are called vector \"embeddings\"."
   ]
  },
  {
   "cell_type": "markdown",
   "id": "9a055536-649b-4840-8443-c7f15c4f961c",
   "metadata": {},
   "source": [
    "### Generative search"
   ]
  },
  {
   "cell_type": "markdown",
   "id": "f8bbeb19-3d05-47f4-960f-6f8e9e5dfcc8",
   "metadata": {},
   "source": [
    "A generative search transforms your data at retrieval time. "
   ]
  },
  {
   "cell_type": "code",
   "execution_count": 19,
   "id": "6eb0d7a5-d31b-4b5a-a7d8-96719947a69e",
   "metadata": {
    "executionCancelledAt": null,
    "executionTime": 4342,
    "lastExecutedAt": 1692032197507,
    "lastScheduledRunId": null,
    "lastSuccessfullyExecutedCode": "response = (\n    client.query\n    .get(\"Question\", [\"question\", \"answer\"])\n    .with_near_text({\"concepts\": [\"history\"]})\n    .with_generate(single_prompt=\"Write a tweet about {question} as an interesting factoid.\")\n    .with_limit(3)\n    .do()\n)\n\njprint(response)",
    "outputsMetadata": {
     "0": {
      "height": 616,
      "type": "stream"
     }
    }
   },
   "outputs": [
    {
     "name": "stdout",
     "output_type": "stream",
     "text": [
      "Science fiction fans would most likely enjoy this selection of movies. Movies like Star Wars, Stargate and Interstellar are classic sci-fi films that have gained cult followings over the years. The other two films, Galaxy Quest and Guardians of the Galaxy Vol. 2, also fall into the science fiction genre and would appeal to fans of the respective series.\n",
      "\n",
      "Furthermore, these movies could appeal to fans of space opera, a sub-genre of science fiction that focuses on dramatic stories set in space, usually involving conflict between planets, galaxies or even different universes. The epic and adventurous tone of these movies fits well within the space opera category.\n",
      "\n",
      "Also, the comedy elements in Galaxy Quest and the Marvel Cinematic Universe's Guardians of the Galaxy Vol. 2 could extend the demographic reach of these movies to fans of science fiction humor.\n",
      "\"Galactic adventures await! Buckle up and embark on a cosmic journey with the iconic crew of the NSEA Protector in Galaxy Quest. From the brilliant mind of Tim Allen, this movie will take you on a thrilling mission to the final frontier. #GalaxyQuest #SciFi #Adventure\"\n",
      "{\n",
      "  \"year\": 1999,\n",
      "  \"title\": \"Galaxy Quest\",\n",
      "  \"overview\": \"For four years, the courageous crew of the NSEA protector - \\\"Commander Peter Quincy Taggart\\\" (Tim Allen), \\\"Lt. Tawny Madison (Sigourney Weaver) and \\\"Dr.Lazarus\\\" (Alan Rickman) - set off on a thrilling and often dangerous mission in space...and then their series was cancelled! Now, twenty years later, aliens under attack have mistaken the Galaxy Quest television transmissions for \\\"historical documents\\\" and beam up the crew of has-been actors to save the universe. With no script, no director and no clue, the actors must turn in the performances of their lives.\",\n",
      "  \"popularity\": 62.01\n",
      "}\n",
      "\"The Guardians are back! Get ready for an epic adventure in Guardians of the Galaxy Vol. 2. This action-packed sequel sees the team fight to protect their family and unravel the secrets of Peter Quill's heritage. Don't miss out on this cosmic thrill ride! #GotGVol2 #Marvel\"\n",
      "{\n",
      "  \"title\": \"Guardians of the Galaxy Vol. 2\",\n",
      "  \"overview\": \"The Guardians must fight to keep their newfound family together as they unravel the mysteries of Peter Quill's true parentage.\",\n",
      "  \"year\": 2017,\n",
      "  \"popularity\": 142.267\n",
      "}\n",
      "Travel through the #Stargate and discover a world of ancient secrets and cosmic wonders! This epic sci-fi adventure will take you on a thrilling journey to another world. Prepare for an epic journey to the stars! #ScienceFiction #Adventure #StargateAdventures\n",
      "{\n",
      "  \"title\": \"Stargate\",\n",
      "  \"overview\": \"An interstellar teleportation device, found in Egypt, leads to a planet with humans resembling ancient Egyptians who worship the god Ra.\",\n",
      "  \"year\": 1994,\n",
      "  \"popularity\": 34.343\n",
      "}\n",
      "\"A galaxy-wide manhunt, a fearless princess, and a dynamic duo of droids! Join Luke Skywalker and the legendary Han Solo on a daring mission to save Princess Leia from the evil Empire's grasp in the epic #StarWars! Prepare for an intergalactic adventure like no other! #SpaceThriller\"\n",
      "{\n",
      "  \"title\": \"Star Wars\",\n",
      "  \"overview\": \"Princess Leia is captured and held hostage by the evil Imperial forces in their effort to take over the galactic Empire. Venturesome Luke Skywalker and dashing captain Han Solo team together with the loveable robot duo R2-D2 and C-3PO to rescue the beautiful princess and restore peace and justice in the Empire.\",\n",
      "  \"year\": 1977,\n",
      "  \"popularity\": 250.715\n",
      "}\n",
      "Travel to new galaxies and discover the wonders of the universe! 🌌 \n",
      "Don't miss the thrilling adventure of #Interstellar, a story of explorers who dare to go where no one has gone before! Prepare for an epic interstellar voyage like no other! 🌟🚀\n",
      "{\n",
      "  \"overview\": \"The adventures of a group of explorers who make use of a newly discovered wormhole to surpass the limitations on human space travel and conquer the vast distances involved in an interstellar voyage.\",\n",
      "  \"year\": 2014,\n",
      "  \"title\": \"Interstellar\",\n",
      "  \"popularity\": 283.624\n",
      "}\n"
     ]
    }
   ],
   "source": [
    "response = movies.generate.near_text(\n",
    "    query=\"galaxy\",\n",
    "    limit=5,\n",
    "    target_vector=\"title\",\n",
    "    single_prompt=\"Write a tweet promoting the movie with TITLE: {title} and OVERVIEW: {overview}.\",\n",
    "    grouped_task=\"What audience demographic might enjoy this group of movies?\"\n",
    ")\n",
    "\n",
    "print(response.generated)\n",
    "for o in response.objects:\n",
    "    print(o.generated)\n",
    "    print(json.dumps(o.properties, indent=2))"
   ]
  },
  {
   "cell_type": "markdown",
   "id": "29d4445d-918d-47c1-a553-688fffbb7164",
   "metadata": {},
   "source": [
    "You can see here ⬆️ that each object has been transformed into a tweet by the LLM based on our prompt."
   ]
  },
  {
   "cell_type": "markdown",
   "id": "bdd87179-0c9b-42f8-85f0-8d790dafa4ad",
   "metadata": {},
   "source": [
    "You can ask LLMs to perform all sorts of tasks"
   ]
  },
  {
   "cell_type": "code",
   "execution_count": 20,
   "id": "03472eb3-b993-4c6b-80c5-058d52ca0fbb",
   "metadata": {
    "executionCancelledAt": null,
    "executionTime": 2226,
    "lastExecutedAt": 1692032199733,
    "lastScheduledRunId": null,
    "lastSuccessfullyExecutedCode": "response = (\n    client.query\n    .get(\"Question\", [\"question\", \"answer\"])\n    .with_near_text({\"concepts\": [\"history\"]})\n    .with_generate(single_prompt=\"Translate {question} into French.\")\n    .with_limit(3)\n    .do()\n)\n\njprint(response)",
    "outputsMetadata": {
     "0": {
      "height": 616,
      "type": "stream"
     }
    }
   },
   "outputs": [
    {
     "name": "stdout",
     "output_type": "stream",
     "text": [
      "Une équipe d'acteurs télé oubliés sont enlevés par des aliens qui ont mal interprété leurs émissions télévisées comme des documents historiques.\n",
      "{\n",
      "  \"title\": \"Galaxy Quest\",\n",
      "  \"overview\": \"For four years, the courageous crew of the NSEA protector - \\\"Commander Peter Quincy Taggart\\\" (Tim Allen), \\\"Lt. Tawny Madison (Sigourney Weaver) and \\\"Dr.Lazarus\\\" (Alan Rickman) - set off on a thrilling and often dangerous mission in space...and then their series was cancelled! Now, twenty years later, aliens under attack have mistaken the Galaxy Quest television transmissions for \\\"historical documents\\\" and beam up the crew of has-been actors to save the universe. With no script, no director and no clue, the actors must turn in the performances of their lives.\",\n",
      "  \"year\": 1999,\n",
      "  \"popularity\": 62.01\n",
      "}\n",
      "Les Gardiens doivent se battre pour protéger leur nouvelle famille et découvrir les secrets de la parenté de Peter Quill.\n",
      "{\n",
      "  \"title\": \"Guardians of the Galaxy Vol. 2\",\n",
      "  \"overview\": \"The Guardians must fight to keep their newfound family together as they unravel the mysteries of Peter Quill's true parentage.\",\n",
      "  \"year\": 2017,\n",
      "  \"popularity\": 142.267\n",
      "}\n",
      "La découverte en Egipto de un dispositivo interestelar de teletransportación conduce a un planeta donde los humanos parecen antiguos egipcios que adoran al dios Ra.\n",
      "{\n",
      "  \"title\": \"Stargate\",\n",
      "  \"overview\": \"An interstellar teleportation device, found in Egypt, leads to a planet with humans resembling ancient Egyptians who worship the god Ra.\",\n",
      "  \"year\": 1994,\n",
      "  \"popularity\": 34.343\n",
      "}\n"
     ]
    }
   ],
   "source": [
    "response = movies.generate.near_text(\n",
    "    query=\"galaxy\",\n",
    "    target_vector=\"title\",\n",
    "    limit=3,\n",
    "    single_prompt=\"Summarise the following movie overview into a short French sentence: {overview}.\"\n",
    ")\n",
    "\n",
    "for o in response.objects:\n",
    "    print(o.generated)\n",
    "    print(json.dumps(o.properties, indent=2))"
   ]
  },
  {
   "cell_type": "markdown",
   "id": "b28977d3-a44d-4d8e-a208-00cc05e859d2",
   "metadata": {},
   "source": [
    "The LLM is multi-lingual!"
   ]
  },
  {
   "cell_type": "markdown",
   "id": "cdcbe4cc-42e6-440a-a3ad-21742eaaadec",
   "metadata": {},
   "source": [
    "You can also send groups of results to the LLM with Weaviate."
   ]
  },
  {
   "cell_type": "code",
   "execution_count": 21,
   "id": "3c92c5ba-be4b-4741-98c1-d4928facfe2e",
   "metadata": {
    "executionCancelledAt": null,
    "executionTime": null,
    "lastExecutedAt": null,
    "lastScheduledRunId": null,
    "lastSuccessfullyExecutedCode": null,
    "outputsMetadata": {
     "0": {
      "height": 0,
      "type": "stream"
     }
    },
    "scrolled": true
   },
   "outputs": [
    {
     "name": "stdout",
     "output_type": "stream",
     "text": [
      "Three stories, one a comedy gem,\n",
      "A space adventure with a unique twist,\n",
      "A crew of actors, beamed up to exist,\n",
      "In a galaxy where their fame had expired.\n",
      "\n",
      "Guardians, a band of misfits, bold,\n",
      "Uniting to fight, a family's bond,\n",
      "Unraveling secrets, Quill's true origin,\n",
      "In the vastness of space, their mission unfolds.\n",
      "\n",
      "Through the Stargate, a portal's open,\n",
      "To a world of ancient gods and sand,\n",
      "Ra, the mighty, rules with a strong hand,\n",
      "A mysterious journey, the explorers venture.\n",
      "\n",
      "Three tales, each a epic voyage,\n",
      "In the cosmos, with courage, they dare,\n",
      "Defying dangers, seeking truth there,\n",
      "In the vast unknown, their destinies interlace. \n",
      "\n",
      "So, from the funny to the epic, \n",
      "Adventures in space, our hearts capture,\n",
      "The wonder of worlds, a treasure to capture,\n",
      "In the deep of the night, the stars inspire. \n",
      "\n",
      "Let the movies take flight,\n",
      "And our imaginations soar,\n",
      "With laughter and wonder, a cosmic voyage,\n",
      "To new universes, our minds explore.\n",
      "{\n",
      "  \"title\": \"Galaxy Quest\",\n",
      "  \"overview\": \"For four years, the courageous crew of the NSEA protector - \\\"Commander Peter Quincy Taggart\\\" (Tim Allen), \\\"Lt. Tawny Madison (Sigourney Weaver) and \\\"Dr.Lazarus\\\" (Alan Rickman) - set off on a thrilling and often dangerous mission in space...and then their series was cancelled! Now, twenty years later, aliens under attack have mistaken the Galaxy Quest television transmissions for \\\"historical documents\\\" and beam up the crew of has-been actors to save the universe. With no script, no director and no clue, the actors must turn in the performances of their lives.\",\n",
      "  \"year\": 1999,\n",
      "  \"popularity\": 62.01\n",
      "}\n",
      "{\n",
      "  \"title\": \"Guardians of the Galaxy Vol. 2\",\n",
      "  \"overview\": \"The Guardians must fight to keep their newfound family together as they unravel the mysteries of Peter Quill's true parentage.\",\n",
      "  \"year\": 2017,\n",
      "  \"popularity\": 142.267\n",
      "}\n",
      "{\n",
      "  \"year\": 1994,\n",
      "  \"title\": \"Stargate\",\n",
      "  \"overview\": \"An interstellar teleportation device, found in Egypt, leads to a planet with humans resembling ancient Egyptians who worship the god Ra.\",\n",
      "  \"popularity\": 34.343\n",
      "}\n"
     ]
    }
   ],
   "source": [
    "response = movies.generate.near_text(\n",
    "    query=\"galaxy\",\n",
    "    target_vector=\"title\",\n",
    "    limit=3,\n",
    "    grouped_task=\"Write a poem about these movies\"\n",
    ")\n",
    "\n",
    "print(response.generated)\n",
    "for o in response.objects:\n",
    "    print(json.dumps(o.properties, indent=2))"
   ]
  },
  {
   "cell_type": "code",
   "execution_count": 22,
   "id": "0e03f4fb-8a08-41a7-a7d1-dc1ebc14fae3",
   "metadata": {},
   "outputs": [
    {
     "name": "stderr",
     "output_type": "stream",
     "text": [
      "{\"action\":\"restapi_management\",\"build_git_commit\":\"6c571ff13\",\"build_go_version\":\"go1.23.2\",\"build_image_tag\":\"\",\"build_wv_version\":\"\",\"level\":\"info\",\"msg\":\"Shutting down... \",\"time\":\"2024-10-29T12:34:41Z\",\"version\":\"1.27.0\"}\n",
      "{\"action\":\"restapi_management\",\"build_git_commit\":\"6c571ff13\",\"build_go_version\":\"go1.23.2\",\"build_image_tag\":\"\",\"build_wv_version\":\"\",\"level\":\"info\",\"msg\":\"Stopped serving weaviate at http://127.0.0.1:8079\",\"time\":\"2024-10-29T12:34:41Z\",\"version\":\"1.27.0\"}\n",
      "{\"action\":\"telemetry_push\",\"build_git_commit\":\"6c571ff13\",\"build_go_version\":\"go1.23.2\",\"build_image_tag\":\"\",\"build_wv_version\":\"\",\"level\":\"info\",\"msg\":\"telemetry terminated\",\"payload\":\"\\u0026{MachineID:20f9dd85-ea84-4a3a-947a-0c4c828d628e Type:TERMINATE Version:1.27.0 NumObjects:1322 OS:darwin Arch:arm64 UsedModules:[generative-cohere text2vec-cohere]}\",\"time\":\"2024-10-29T12:34:41Z\"}\n",
      "{\"build_git_commit\":\"6c571ff13\",\"build_go_version\":\"go1.23.2\",\"build_image_tag\":\"\",\"build_wv_version\":\"\",\"level\":\"info\",\"msg\":\"closing raft FSM store ...\",\"time\":\"2024-10-29T12:34:41Z\"}\n",
      "{\"build_git_commit\":\"6c571ff13\",\"build_go_version\":\"go1.23.2\",\"build_image_tag\":\"\",\"build_wv_version\":\"\",\"level\":\"info\",\"msg\":\"shutting down raft sub-system ...\",\"time\":\"2024-10-29T12:34:41Z\"}\n",
      "{\"build_git_commit\":\"6c571ff13\",\"build_go_version\":\"go1.23.2\",\"build_image_tag\":\"\",\"build_wv_version\":\"\",\"level\":\"info\",\"msg\":\"transferring leadership to another server\",\"time\":\"2024-10-29T12:34:41Z\"}\n",
      "{\"build_git_commit\":\"6c571ff13\",\"build_go_version\":\"go1.23.2\",\"build_image_tag\":\"\",\"build_wv_version\":\"\",\"error\":\"cannot find peer\",\"level\":\"error\",\"msg\":\"transferring leadership\",\"time\":\"2024-10-29T12:34:41Z\"}\n",
      "{\"build_git_commit\":\"6c571ff13\",\"build_go_version\":\"go1.23.2\",\"build_image_tag\":\"\",\"build_wv_version\":\"\",\"level\":\"info\",\"msg\":\"closing raft-net ...\",\"time\":\"2024-10-29T12:34:41Z\"}\n",
      "{\"build_git_commit\":\"6c571ff13\",\"build_go_version\":\"go1.23.2\",\"build_image_tag\":\"\",\"build_wv_version\":\"\",\"level\":\"info\",\"msg\":\"closing log store ...\",\"time\":\"2024-10-29T12:34:41Z\"}\n",
      "{\"build_git_commit\":\"6c571ff13\",\"build_go_version\":\"go1.23.2\",\"build_image_tag\":\"\",\"build_wv_version\":\"\",\"level\":\"info\",\"msg\":\"closing data store ...\",\"time\":\"2024-10-29T12:34:41Z\"}\n",
      "{\"build_git_commit\":\"6c571ff13\",\"build_go_version\":\"go1.23.2\",\"build_image_tag\":\"\",\"build_wv_version\":\"\",\"level\":\"info\",\"msg\":\"closing loaded database ...\",\"time\":\"2024-10-29T12:34:41Z\"}\n",
      "{\"build_git_commit\":\"6c571ff13\",\"build_go_version\":\"go1.23.2\",\"build_image_tag\":\"\",\"build_wv_version\":\"\",\"level\":\"info\",\"msg\":\"closing raft-rpc client ...\",\"time\":\"2024-10-29T12:34:41Z\"}\n",
      "{\"build_git_commit\":\"6c571ff13\",\"build_go_version\":\"go1.23.2\",\"build_image_tag\":\"\",\"build_wv_version\":\"\",\"level\":\"info\",\"msg\":\"closing raft-rpc server ...\",\"time\":\"2024-10-29T12:34:41Z\"}\n"
     ]
    }
   ],
   "source": [
    "client.close()"
   ]
  },
  {
   "cell_type": "code",
   "execution_count": null,
   "id": "6bfd0898",
   "metadata": {},
   "outputs": [],
   "source": []
  }
 ],
 "metadata": {
  "editor": "DataCamp Workspace",
  "kernelspec": {
   "display_name": "Python 3 (ipykernel)",
   "language": "python",
   "name": "python3"
  },
  "language_info": {
   "codemirror_mode": {
    "name": "ipython",
    "version": 3
   },
   "file_extension": ".py",
   "mimetype": "text/x-python",
   "name": "python",
   "nbconvert_exporter": "python",
   "pygments_lexer": "ipython3",
   "version": "3.11.9"
  }
 },
 "nbformat": 4,
 "nbformat_minor": 5
}
