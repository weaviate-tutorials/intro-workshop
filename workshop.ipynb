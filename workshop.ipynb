{
 "cells": [
  {
   "cell_type": "markdown",
   "id": "c641751f-f3d4-47b6-806a-0e55c0b73405",
   "metadata": {},
   "source": [
    "## Weaviate workshop\n",
    "\n",
    "<a target=\"_blank\" href=\"https://colab.research.google.com/github/weaviate-tutorials/intro-workshop/blob/main/workshop.ipynb\">\n",
    "  <img src=\"https://colab.research.google.com/assets/colab-badge.svg\" alt=\"Open In Colab\"/>\n",
    "</a>\n",
    "\n",
    "### Goals:\n",
    "\n",
    "#### What you will see:\n",
    "\n",
    "\n",
    "- Create a vector database with Weaviate,\n",
    "- Add data to the database, and\n",
    "- Interact with the data, including searching, and using LLMs with your data in Weaviate\n",
    "\n",
    "### You will learn today:\n",
    "\n",
    "- What Weaviate is,\n",
    "- How it stores the data (based on its \"meaning\"), and\n",
    "- What you can do with Weaviate, like semantic searches, and using LLMs to transform data."
   ]
  },
  {
   "cell_type": "markdown",
   "id": "4e83bf03-743a-4960-8915-fc2b3341a37f",
   "metadata": {},
   "source": [
    "Install the Weaviate python client, for environments that don't yet have it."
   ]
  },
  {
   "cell_type": "code",
   "execution_count": 1,
   "id": "4706372e-b04b-4971-a4ae-cd2e8ac4cec5",
   "metadata": {
    "executionCancelledAt": null,
    "executionTime": 4696,
    "lastExecutedAt": 1692032183239,
    "lastScheduledRunId": null,
    "lastSuccessfullyExecutedCode": "!pip install -U weaviate-client",
    "outputsMetadata": {
     "0": {
      "height": 616,
      "type": "stream"
     }
    }
   },
   "outputs": [],
   "source": [
    "# !pip install -U --pre weaviate-client"
   ]
  },
  {
   "cell_type": "markdown",
   "id": "5ba26bc3-0958-4051-b31e-9ce27555a8b7",
   "metadata": {},
   "source": [
    "## Preparation: Get the data\n",
    "\n",
    "We'll use a subset of the Jeopardy! quiz library:\n",
    "> https://www.kaggle.com/datasets/tunguz/200000-jeopardy-questions\n",
    "\n",
    "Pre-processed version:\n",
    "> https://raw.githubusercontent.com/databyjp/wv_demo_uploader/main/weaviate_datasets/data/jeopardy_1k.json\n"
   ]
  },
  {
   "cell_type": "markdown",
   "id": "1633e880-94bb-4942-9fe1-70ffd2a7afd3",
   "metadata": {},
   "source": [
    "Load (or download) the data, and preview it"
   ]
  },
  {
   "cell_type": "code",
   "execution_count": 2,
   "id": "4680be3b-e00f-4c3c-9d42-d9bd8ef1e5a9",
   "metadata": {
    "ExecuteTime": {
     "end_time": "2023-08-12T20:50:09.186617Z",
     "start_time": "2023-08-12T20:50:09.042514Z"
    },
    "executionCancelledAt": null,
    "executionTime": 1192,
    "lastExecutedAt": 1692032184432,
    "lastScheduledRunId": null,
    "lastSuccessfullyExecutedCode": "import requests\nimport json\n\n# Load the data locally\nwith open(\"jeopardy_1k.json\", \"r\") as f:\n    raw_data = f.read()\n\n# Or download it from GitHub\nresponse = requests.get('https://raw.githubusercontent.com/databyjp/wv_demo_uploader/main/weaviate_datasets/data/jeopardy_1k.json')\nraw_data = response.text\n\n# Parse the JSON and preview it\ndata = json.loads(raw_data)\nprint(type(data), len(data))\nprint(json.dumps(data[0], indent=2))",
    "outputsMetadata": {
     "0": {
      "height": 217,
      "type": "stream"
     }
    }
   },
   "outputs": [
    {
     "name": "stdout",
     "output_type": "stream",
     "text": [
      "<class 'list'> 1000\n",
      "{\n",
      "  \"Air Date\": \"2006-11-08\",\n",
      "  \"Round\": \"Double Jeopardy!\",\n",
      "  \"Value\": 800,\n",
      "  \"Category\": \"AMERICAN HISTORY\",\n",
      "  \"Question\": \"Abraham Lincoln died across the street from this theatre on April 15, 1865\",\n",
      "  \"Answer\": \"Ford's Theatre (the Ford Theatre accepted)\"\n",
      "}\n"
     ]
    }
   ],
   "source": [
    "import requests\n",
    "import json\n",
    "\n",
    "# Download the data\n",
    "response = requests.get('https://raw.githubusercontent.com/databyjp/wv_demo_uploader/main/weaviate_datasets/data/jeopardy_1k.json')\n",
    "raw_data = response.text\n",
    "\n",
    "# Parse the JSON and preview it\n",
    "data = json.loads(raw_data)\n",
    "print(type(data), len(data))\n",
    "print(json.dumps(data[0], indent=2))"
   ]
  },
  {
   "cell_type": "markdown",
   "id": "d27642a1-e738-441c-9008-ce8cb267f28b",
   "metadata": {},
   "source": [
    "## Step 1: Create a Weaviate instance (database)"
   ]
  },
  {
   "cell_type": "markdown",
   "id": "97a88ba7-6e35-4378-ad30-869537966f01",
   "metadata": {},
   "source": [
    "This (Embedded Weaviate) is a quick way to create a Weaviate database. Note that this is suitable for evaluation use only, and currently not compatible with Windows (we are working on it 😉).\n",
    "\n",
    "You can also use:\n",
    "- A free sandbox with Weaviate Cloud Services\n",
    "- Open-source Weaviate directly, available cross-platform with Docker"
   ]
  },
  {
   "cell_type": "code",
   "execution_count": 3,
   "id": "ba40b5a3-d645-493b-9c93-e652c1057870",
   "metadata": {
    "ExecuteTime": {
     "end_time": "2023-08-12T20:50:10.463278Z",
     "start_time": "2023-08-12T20:50:10.020181Z"
    },
    "executionCancelledAt": null,
    "executionTime": null,
    "lastExecutedAt": null,
    "lastScheduledRunId": null,
    "lastSuccessfullyExecutedCode": null,
    "outputsMetadata": {
     "0": {
      "height": 97,
      "type": "stream"
     },
     "1": {
      "height": 257,
      "type": "stream"
     }
    }
   },
   "outputs": [
    {
     "name": "stdout",
     "output_type": "stream",
     "text": [
      "Started /Users/jphwang/.cache/weaviate-embedded: process ID 79207\n"
     ]
    },
    {
     "name": "stderr",
     "output_type": "stream",
     "text": [
      "{\"action\":\"startup\",\"default_vectorizer_module\":\"none\",\"level\":\"info\",\"msg\":\"the default vectorizer modules is set to \\\"none\\\", as a result all new schema classes without an explicit vectorizer setting, will use this vectorizer\",\"time\":\"2024-04-18T13:50:34+01:00\"}\n",
      "{\"action\":\"startup\",\"auto_schema_enabled\":true,\"level\":\"info\",\"msg\":\"auto schema enabled setting is set to \\\"true\\\"\",\"time\":\"2024-04-18T13:50:34+01:00\"}\n",
      "{\"level\":\"info\",\"msg\":\"No resource limits set, weaviate will use all available memory and CPU. To limit resources, set LIMIT_RESOURCES=true\",\"time\":\"2024-04-18T13:50:34+01:00\"}\n",
      "{\"level\":\"warning\",\"msg\":\"Multiple vector spaces are present, GraphQL Explore and REST API list objects endpoint module include params has been disabled as a result.\",\"time\":\"2024-04-18T13:50:34+01:00\"}\n",
      "{\"action\":\"grpc_startup\",\"level\":\"info\",\"msg\":\"grpc server listening at [::]:50050\",\"time\":\"2024-04-18T13:50:34+01:00\"}\n",
      "{\"action\":\"restapi_management\",\"level\":\"info\",\"msg\":\"Serving weaviate at http://127.0.0.1:8079\",\"time\":\"2024-04-18T13:50:34+01:00\"}\n"
     ]
    }
   ],
   "source": [
    "import weaviate\n",
    "import os\n",
    "\n",
    "client = weaviate.connect_to_embedded(\n",
    "    version=\"1.24.8\",\n",
    "    headers={\n",
    "        \"X-OpenAI-Api-Key\": os.getenv(\"OPENAI_APIKEY\")  # Replace this with your actual key\n",
    "    }\n",
    ")"
   ]
  },
  {
   "cell_type": "markdown",
   "id": "388d970d-79a2-4591-a5f3-c6c17406df2a",
   "metadata": {},
   "source": [
    "Retrieve Weaviate instance information to check our configuration."
   ]
  },
  {
   "cell_type": "code",
   "execution_count": 4,
   "id": "b8a4226e-41fd-4ad7-9416-dcda4a443d58",
   "metadata": {
    "ExecuteTime": {
     "end_time": "2023-08-12T20:50:11.726853Z",
     "start_time": "2023-08-12T20:50:11.722015Z"
    },
    "executionCancelledAt": null,
    "executionTime": 48,
    "lastExecutedAt": 1692032185634,
    "lastScheduledRunId": null,
    "lastSuccessfullyExecutedCode": "jprint(client.get_meta())",
    "outputsMetadata": {
     "0": {
      "height": 597,
      "type": "stream"
     }
    }
   },
   "outputs": [
    {
     "data": {
      "text/plain": [
       "{'hostname': 'http://127.0.0.1:8079',\n",
       " 'modules': {'generative-openai': {'documentationHref': 'https://platform.openai.com/docs/api-reference/completions',\n",
       "   'name': 'Generative Search - OpenAI'},\n",
       "  'qna-openai': {'documentationHref': 'https://platform.openai.com/docs/api-reference/completions',\n",
       "   'name': 'OpenAI Question & Answering Module'},\n",
       "  'ref2vec-centroid': {},\n",
       "  'reranker-cohere': {'documentationHref': 'https://txt.cohere.com/rerank/',\n",
       "   'name': 'Reranker - Cohere'},\n",
       "  'text2vec-cohere': {'documentationHref': 'https://docs.cohere.ai/embedding-wiki/',\n",
       "   'name': 'Cohere Module'},\n",
       "  'text2vec-huggingface': {'documentationHref': 'https://huggingface.co/docs/api-inference/detailed_parameters#feature-extraction-task',\n",
       "   'name': 'Hugging Face Module'},\n",
       "  'text2vec-openai': {'documentationHref': 'https://platform.openai.com/docs/guides/embeddings/what-are-embeddings',\n",
       "   'name': 'OpenAI Module'}},\n",
       " 'version': '1.24.8'}"
      ]
     },
     "execution_count": 4,
     "metadata": {},
     "output_type": "execute_result"
    }
   ],
   "source": [
    "client.get_meta()"
   ]
  },
  {
   "cell_type": "markdown",
   "id": "68b9706e-e11e-43f8-ae13-3741c5376b25",
   "metadata": {},
   "source": [
    "## Step 2: Add data to Weaviate"
   ]
  },
  {
   "cell_type": "markdown",
   "id": "5f01b498-455f-4e82-bdb3-df7b95363ca4",
   "metadata": {},
   "source": [
    "### Add class definition"
   ]
  },
  {
   "cell_type": "markdown",
   "id": "310a7ecf-0f04-48a3-b622-dd3673e8302f",
   "metadata": {},
   "source": [
    "The equivalent of a SQL \"table\", or noSQL \"collection\" is called a \"class\" in Weaviate."
   ]
  },
  {
   "cell_type": "markdown",
   "id": "ba03c144-e2a3-48cc-97db-590fbac55ec0",
   "metadata": {},
   "source": [
    "In case I created a demo class - let's delete it."
   ]
  },
  {
   "cell_type": "code",
   "execution_count": 5,
   "id": "976fdc87-ee1f-43cd-8db7-57b1fda5d697",
   "metadata": {
    "ExecuteTime": {
     "end_time": "2023-08-12T20:50:23.339817Z",
     "start_time": "2023-08-12T20:50:23.303039Z"
    },
    "executionCancelledAt": null,
    "executionTime": 47,
    "lastExecutedAt": 1692032185681,
    "lastScheduledRunId": null,
    "lastSuccessfullyExecutedCode": "if client.schema.exists(\"Question\"):\n    client.schema.delete_class(\"Question\")"
   },
   "outputs": [],
   "source": [
    "client.collections.delete(\"Question\")"
   ]
  },
  {
   "cell_type": "markdown",
   "id": "9279cefa-ecaf-487c-a090-43a14383e9a1",
   "metadata": {},
   "source": [
    "And create a new class definition here.\n",
    "We'll set up a class called \"Question\" with:\n",
    "- A \"vectorizer\" -> which will convert data to vectors, which represent meaning,\n",
    "- A \"generative\" module -> which will allow us to use LLMs with our data, and\n",
    "- Properties to save our quiz data (which are like SQL columns).\n",
    "    - Just the question and answer for now"
   ]
  },
  {
   "cell_type": "code",
   "execution_count": 6,
   "id": "5da0db4a-9f72-402c-9c23-49f1500ea995",
   "metadata": {
    "ExecuteTime": {
     "end_time": "2023-08-12T20:50:24.018171Z",
     "start_time": "2023-08-12T20:50:23.993529Z"
    },
    "executionCancelledAt": null,
    "executionTime": null,
    "lastExecutedAt": null,
    "lastScheduledRunId": null,
    "lastSuccessfullyExecutedCode": null,
    "outputsMetadata": {
     "0": {
      "height": 77,
      "type": "stream"
     }
    }
   },
   "outputs": [
    {
     "name": "stderr",
     "output_type": "stream",
     "text": [
      "{\"level\":\"info\",\"msg\":\"Created shard question_8KEPm47nIhoR in 3.057ms\",\"time\":\"2024-04-18T13:50:34+01:00\"}\n",
      "{\"action\":\"hnsw_vector_cache_prefill\",\"count\":1000,\"index_id\":\"main\",\"level\":\"info\",\"limit\":1000000000000,\"msg\":\"prefilled vector cache\",\"time\":\"2024-04-18T13:50:34+01:00\",\"took\":268583}\n"
     ]
    },
    {
     "data": {
      "text/plain": [
       "<weaviate.collections.collection.Collection at 0x11a471780>"
      ]
     },
     "execution_count": 6,
     "metadata": {},
     "output_type": "execute_result"
    }
   ],
   "source": [
    "import weaviate.classes.config as wc\n",
    "\n",
    "client.collections.create(\n",
    "    name=\"Question\",\n",
    "    vectorizer_config=wc.Configure.Vectorizer.text2vec_openai(),\n",
    "    generative_config=wc.Configure.Generative.openai(),\n",
    "    properties=[\n",
    "        wc.Property(\n",
    "            name=\"Question\",\n",
    "            data_type=wc.DataType.TEXT,\n",
    "        ),\n",
    "        wc.Property(\n",
    "            name=\"Answer\",\n",
    "            data_type=wc.DataType.TEXT,\n",
    "        )\n",
    "    ]\n",
    ")"
   ]
  },
  {
   "cell_type": "markdown",
   "id": "c3fdad45-8916-4c4a-8405-6f28f3eaee40",
   "metadata": {},
   "source": [
    "> Tip: You can get example class definitions in our documentation:\n",
    "> - https://weaviate.io/developers/weaviate/manage-data/classes#example-class-configurations"
   ]
  },
  {
   "cell_type": "markdown",
   "id": "bd17a8e9-da25-4619-9e37-0787383dafe1",
   "metadata": {},
   "source": [
    "Was our class created successfully? Let's take a look"
   ]
  },
  {
   "cell_type": "code",
   "execution_count": 7,
   "id": "cfed74df-84a7-43a6-bd79-960b0681be7e",
   "metadata": {
    "executionCancelledAt": null,
    "executionTime": 48,
    "lastExecutedAt": 1692032185778,
    "lastScheduledRunId": null,
    "lastSuccessfullyExecutedCode": "jprint(client.schema.get(\"Question\"))",
    "outputsMetadata": {
     "0": {
      "height": 616,
      "type": "stream"
     }
    },
    "scrolled": true
   },
   "outputs": [
    {
     "data": {
      "text/plain": [
       "{'EmbeddedBackupTest': _CollectionConfigSimple(name='EmbeddedBackupTest', description=None, generative_config=None, properties=[_Property(name='title', description=None, data_type=<DataType.TEXT: 'text'>, index_filterable=True, index_searchable=True, nested_properties=None, tokenization=<Tokenization.WORD: 'word'>, vectorizer_config=_PropertyVectorizerConfig(skip=False, vectorize_property_name=True), vectorizer='text2vec-openai')], references=[], reranker_config=None, vectorizer_config=_VectorizerConfig(vectorizer=<Vectorizers.TEXT2VEC_OPENAI: 'text2vec-openai'>, model={'baseURL': 'https://api.openai.com', 'model': 'ada'}, vectorize_collection_name=True), vectorizer=<Vectorizers.TEXT2VEC_OPENAI: 'text2vec-openai'>, vector_config=None),\n",
       " 'Movie': _CollectionConfigSimple(name='Movie', description=None, generative_config=_GenerativeConfig(generative=<GenerativeSearches.COHERE: 'generative-cohere'>, model={}), properties=[_Property(name='title', description=None, data_type=<DataType.TEXT: 'text'>, index_filterable=True, index_searchable=True, nested_properties=None, tokenization=<Tokenization.WORD: 'word'>, vectorizer_config=_PropertyVectorizerConfig(skip=False, vectorize_property_name=True), vectorizer='text2vec-cohere'), _Property(name='tagline', description=None, data_type=<DataType.TEXT: 'text'>, index_filterable=True, index_searchable=True, nested_properties=None, tokenization=<Tokenization.WORD: 'word'>, vectorizer_config=_PropertyVectorizerConfig(skip=False, vectorize_property_name=True), vectorizer='text2vec-cohere'), _Property(name='overview', description=None, data_type=<DataType.TEXT: 'text'>, index_filterable=True, index_searchable=True, nested_properties=None, tokenization=<Tokenization.WORD: 'word'>, vectorizer_config=_PropertyVectorizerConfig(skip=False, vectorize_property_name=True), vectorizer='text2vec-cohere'), _Property(name='vote_average', description=None, data_type=<DataType.NUMBER: 'number'>, index_filterable=True, index_searchable=False, nested_properties=None, tokenization=None, vectorizer_config=_PropertyVectorizerConfig(skip=False, vectorize_property_name=True), vectorizer='text2vec-cohere'), _Property(name='release_date', description=None, data_type=<DataType.DATE: 'date'>, index_filterable=True, index_searchable=False, nested_properties=None, tokenization=None, vectorizer_config=_PropertyVectorizerConfig(skip=False, vectorize_property_name=True), vectorizer='text2vec-cohere'), _Property(name='runtime', description=None, data_type=<DataType.INT: 'int'>, index_filterable=True, index_searchable=False, nested_properties=None, tokenization=None, vectorizer_config=_PropertyVectorizerConfig(skip=False, vectorize_property_name=True), vectorizer='text2vec-cohere'), _Property(name='imdb_id', description=None, data_type=<DataType.TEXT: 'text'>, index_filterable=True, index_searchable=True, nested_properties=None, tokenization=<Tokenization.WORD: 'word'>, vectorizer_config=_PropertyVectorizerConfig(skip=True, vectorize_property_name=True), vectorizer='text2vec-cohere')], references=[_ReferenceProperty(name='hasReview', description=None, target_collections=['Review'])], reranker_config=None, vectorizer_config=_VectorizerConfig(vectorizer=<Vectorizers.TEXT2VEC_COHERE: 'text2vec-cohere'>, model={}, vectorize_collection_name=True), vectorizer=<Vectorizers.TEXT2VEC_COHERE: 'text2vec-cohere'>, vector_config=None),\n",
       " 'Review': _CollectionConfigSimple(name='Review', description=None, generative_config=_GenerativeConfig(generative=<GenerativeSearches.COHERE: 'generative-cohere'>, model={}), properties=[_Property(name='username', description=None, data_type=<DataType.TEXT: 'text'>, index_filterable=True, index_searchable=True, nested_properties=None, tokenization=<Tokenization.WORD: 'word'>, vectorizer_config=_PropertyVectorizerConfig(skip=True, vectorize_property_name=True), vectorizer='text2vec-cohere'), _Property(name='content', description=None, data_type=<DataType.TEXT: 'text'>, index_filterable=True, index_searchable=True, nested_properties=None, tokenization=<Tokenization.WORD: 'word'>, vectorizer_config=_PropertyVectorizerConfig(skip=False, vectorize_property_name=True), vectorizer='text2vec-cohere'), _Property(name='tmdb_id', description=None, data_type=<DataType.TEXT: 'text'>, index_filterable=True, index_searchable=True, nested_properties=None, tokenization=<Tokenization.WORD: 'word'>, vectorizer_config=_PropertyVectorizerConfig(skip=False, vectorize_property_name=True), vectorizer='text2vec-cohere')], references=[], reranker_config=None, vectorizer_config=_VectorizerConfig(vectorizer=<Vectorizers.TEXT2VEC_COHERE: 'text2vec-cohere'>, model={}, vectorize_collection_name=True), vectorizer=<Vectorizers.TEXT2VEC_COHERE: 'text2vec-cohere'>, vector_config=None),\n",
       " 'Question': _CollectionConfigSimple(name='Question', description=None, generative_config=_GenerativeConfig(generative=<GenerativeSearches.OPENAI: 'generative-openai'>, model={}), properties=[_Property(name='question', description=None, data_type=<DataType.TEXT: 'text'>, index_filterable=True, index_searchable=True, nested_properties=None, tokenization=<Tokenization.WORD: 'word'>, vectorizer_config=_PropertyVectorizerConfig(skip=False, vectorize_property_name=True), vectorizer='text2vec-openai'), _Property(name='answer', description=None, data_type=<DataType.TEXT: 'text'>, index_filterable=True, index_searchable=True, nested_properties=None, tokenization=<Tokenization.WORD: 'word'>, vectorizer_config=_PropertyVectorizerConfig(skip=False, vectorize_property_name=True), vectorizer='text2vec-openai')], references=[], reranker_config=None, vectorizer_config=_VectorizerConfig(vectorizer=<Vectorizers.TEXT2VEC_OPENAI: 'text2vec-openai'>, model={'baseURL': 'https://api.openai.com', 'model': 'ada'}, vectorize_collection_name=True), vectorizer=<Vectorizers.TEXT2VEC_OPENAI: 'text2vec-openai'>, vector_config=None)}"
      ]
     },
     "execution_count": 7,
     "metadata": {},
     "output_type": "execute_result"
    }
   ],
   "source": [
    "client.collections.list_all()"
   ]
  },
  {
   "cell_type": "markdown",
   "id": "d1ec4752-6428-4db0-b5b3-c36db1b6caaf",
   "metadata": {},
   "source": [
    "### Add data"
   ]
  },
  {
   "cell_type": "markdown",
   "id": "d809f0b6-d816-448a-9619-b8f660b0eef7",
   "metadata": {},
   "source": [
    "We'll add actual objects (SQL rows) to our data. \n",
    "\n",
    "First, let's build objects to add - and take a look at a couple."
   ]
  },
  {
   "cell_type": "code",
   "execution_count": 8,
   "id": "a4453f38-67ac-4de6-9f3d-decc3527149a",
   "metadata": {
    "executionCancelledAt": null,
    "executionTime": 47,
    "lastExecutedAt": 1692032185826,
    "lastScheduledRunId": null,
    "lastSuccessfullyExecutedCode": "for o in data[:2]:\n    obj_body = {\n        \"question\": o[\"Question\"],\n        \"answer\": o[\"Answer\"],\n    }\n    print(obj_body)",
    "outputsMetadata": {
     "0": {
      "height": 97,
      "type": "stream"
     }
    }
   },
   "outputs": [
    {
     "name": "stdout",
     "output_type": "stream",
     "text": [
      "{'question': 'Abraham Lincoln died across the street from this theatre on April 15, 1865', 'answer': \"Ford's Theatre (the Ford Theatre accepted)\"}\n",
      "{'question': 'Any pigment on the wall so faded you can barely see it', 'answer': 'faint paint'}\n"
     ]
    }
   ],
   "source": [
    "for o in data[:2]:\n",
    "    obj_body = {\n",
    "        \"question\": o[\"Question\"],\n",
    "        \"answer\": o[\"Answer\"],\n",
    "    }\n",
    "    print(obj_body)"
   ]
  },
  {
   "cell_type": "markdown",
   "id": "d0d65333-ce25-4833-92b7-57ca8113bdb2",
   "metadata": {},
   "source": [
    "> If it all looks fine - let's add objects:\n",
    "> - https://weaviate.io/developers/weaviate/manage-data/import"
   ]
  },
  {
   "cell_type": "code",
   "execution_count": 9,
   "id": "1b445597-3655-4606-99e8-8398c50b632d",
   "metadata": {
    "executionCancelledAt": null,
    "executionTime": 6734,
    "lastExecutedAt": 1692032192560,
    "lastScheduledRunId": null,
    "lastSuccessfullyExecutedCode": "with client.batch() as batch:\n    for o in data:\n        obj_body = {\n            \"question\": o[\"Question\"],\n            \"answer\": o[\"Answer\"],\n        }\n        batch.add_data_object(\n            data_object=obj_body,\n            class_name=\"Question\"\n        )",
    "outputsMetadata": {
     "0": {
      "height": 97,
      "type": "stream"
     }
    }
   },
   "outputs": [
    {
     "name": "stderr",
     "output_type": "stream",
     "text": [
      "{\"action\":\"telemetry_push\",\"level\":\"info\",\"msg\":\"telemetry started\",\"payload\":\"\\u0026{MachineID:6e233afc-2daa-4830-9d66-c13584df449e Type:INIT Version:1.24.8 Modules:generative-openai,qna-openai,ref2vec-centroid,reranker-cohere,text2vec-cohere,text2vec-huggingface,text2vec-openai NumObjects:0 OS:darwin Arch:arm64}\",\"time\":\"2024-04-18T13:50:35+01:00\"}\n",
      "{\"level\":\"info\",\"msg\":\"Completed loading shard embeddedbackuptest_zNbzMxQgICMT in 4.038667ms\",\"time\":\"2024-04-18T13:50:35+01:00\"}\n",
      "{\"action\":\"hnsw_vector_cache_prefill\",\"count\":3000,\"index_id\":\"main\",\"level\":\"info\",\"limit\":1000000000000,\"msg\":\"prefilled vector cache\",\"time\":\"2024-04-18T13:50:35+01:00\",\"took\":40666}\n",
      "{\"level\":\"info\",\"msg\":\"Completed loading shard movie_kPp8m3LWxr1C in 9.44025ms\",\"time\":\"2024-04-18T13:50:35+01:00\"}\n",
      "{\"level\":\"info\",\"msg\":\"Completed loading shard review_w0zHx7QBU6hy in 10.76ms\",\"time\":\"2024-04-18T13:50:35+01:00\"}\n",
      "{\"action\":\"hnsw_vector_cache_prefill\",\"count\":5000,\"index_id\":\"main\",\"level\":\"info\",\"limit\":1000000000000,\"msg\":\"prefilled vector cache\",\"time\":\"2024-04-18T13:50:35+01:00\",\"took\":44216792}\n",
      "{\"action\":\"hnsw_vector_cache_prefill\",\"count\":5000,\"index_id\":\"main\",\"level\":\"info\",\"limit\":1000000000000,\"msg\":\"prefilled vector cache\",\"time\":\"2024-04-18T13:50:35+01:00\",\"took\":49422500}\n"
     ]
    }
   ],
   "source": [
    "from weaviate.util import generate_uuid5\n",
    "import weaviate.classes.data as wd\n",
    "\n",
    "question = client.collections.get(\"Question\")\n",
    "\n",
    "object_list = list()\n",
    "for o in data:\n",
    "    obj_body = {\n",
    "        \"question\": o[\"Question\"],\n",
    "        \"answer\": o[\"Answer\"],\n",
    "    }\n",
    "    wv_obj = wd.DataObject(\n",
    "        properties=obj_body,\n",
    "        uuid=generate_uuid5(obj_body)\n",
    "    )\n",
    "    object_list.append(wv_obj)\n",
    "\n",
    "response = question.data.insert_many(object_list)"
   ]
  },
  {
   "cell_type": "code",
   "execution_count": 10,
   "id": "0d819661",
   "metadata": {},
   "outputs": [
    {
     "name": "stdout",
     "output_type": "stream",
     "text": [
      "False\n"
     ]
    }
   ],
   "source": [
    "print(response.has_errors)"
   ]
  },
  {
   "cell_type": "code",
   "execution_count": 11,
   "id": "fad53644",
   "metadata": {},
   "outputs": [
    {
     "name": "stdout",
     "output_type": "stream",
     "text": [
      "BatchObjectReturn(all_responses=[UUID('f1819cbc-5a70-52be-adf9-4afcff2c3195'), UUID('a8a00cb0-bee8-5bde-b7d1-245939c8778a'), UUID('29fc6b7f-71d7-5671-b86b-42062b09e042'), UUID('7bbf8fca-f31b-5a9c-b7fe-122d2d3b8f9a'), UUID('5bf5514d-a7a1-519f-aa05-2e8bb815d1f5'), UUID('cdd58b59-88d1-50e9-9efa-06002150a205'), UUID('8520461b-2d60-590a-938c-59bc65ff4d3c'), UUID('f06f25c4-f9bd-5843-8af2-6e4fb6d43516'), UUID('d174b6d2-609d-5e68-b6a8-2d520a9bcfda'), UUID('db5d5a31-6728-566f-90a3-6e3bc42113eb'), UUID('250914c3-a317-5fd1-accd-5888bf109fa2'), UUID('6139dff0-b18f-5188-a888-85ddc4851482'), UUID('06065ece-2e17-5a82-a8d4-ae4245957773'), UUID('c1167274-21ca-570a-9e55-cc4fab3c1513'), UUID('53986f4f-6283-5470-9571-1c8a27a034ad'), UUID('1d5ed28a-2bba-5d73-a8e5-324d3079265b'), UUID('ab841cc2-ecc2-50ab-aa67-e77d90f51601'), UUID('95bbf75c-7bc7-5b20-87af-8c91b9a1a94f'), UUID('dab9f9fa-8c4f-5d93-baae-e3ea4062867d'), UUID('bf64ea39-b55d-5962-8dd6-c51c09416e65'), UUID('df1dece0-d6b5-55fd-abe8-3c3be13f6e24'), UUID('447ec039-390b-5275-be92-ca787ff330e6'), UUID('4abe4c39-e663-5a0f-aab7-ee826d643534'), UUID('23379ead-c296-5684-bb30-b38c43960d54'), UUID('34697feb-9db0-5a69-97f4-1adbb5615e0b'), UUID('9988173e-415d-5b29-9ef5-81da29155ab0'), UUID('318cf94d-5c4e-5cab-9a40-07b2a314bb48'), UUID('9a9bacba-ae01-5ccc-ba6e-aef8d556bbaf'), UUID('e2c1768c-d9b1-5577-8b18-950b1d1e86c5'), UUID('10c67de9-4680-5e26-8827-1f51fad0a162'), UUID('e0568284-3d8b-5595-a358-5f0bb08f1e42'), UUID('9b15f047-e576-561a-a97a-fe9182b22531'), UUID('1bf9a49e-beb2-51b8-a928-f73e2a7ec98d'), UUID('b71126ff-8c44-521c-a990-e7ec40304b07'), UUID('d9eca33e-0ee2-50b5-ab49-db18e0e59cd8'), UUID('9f0ec9ca-f18e-5e92-a6f6-e262e3b2aa33'), UUID('0b57843b-bf7e-5947-a33b-1902866f5755'), UUID('68834aca-57b4-559b-83e3-a35bd5c61713'), UUID('20fef414-3195-5a84-b5b7-86f17b81bb07'), UUID('50bb64f5-2166-513d-9d86-9d6ab57831a6'), UUID('a904a0db-60d9-5e33-9e0f-a3aa7a05afc4'), UUID('d4f924f9-239a-55c9-8212-1cbb45d9eb47'), UUID('8aac6e99-b235-565a-9433-8ef88b29b497'), UUID('b3342faa-d851-52b4-b7c5-e1eee4892e1d'), UUID('678d9b42-2f6a-51ae-9e4f-7f20e5296249'), UUID('185550dd-23f7-5207-872b-d4ea62d421d0'), UUID('e551ae9f-cc48-57f3-84bb-441668a44e7a'), UUID('6c8c0e3e-829e-5f54-b54b-fce98d2b3eae'), UUID('2f3d8b7b-932a-546e-8453-67f96d002783'), UUID('ef9656d0-2964-5b5d-905d-8eea9d853324'), UUID('15defc90-e631-5463-8c03-56536e02b1f8'), UUID('1d10e94a-2340-58cf-9dc3-6badc3723a26'), UUID('2fd51bda-4b7b-529d-a556-b2d4c5c7fa63'), UUID('0f8bda0f-2db0-5374-87bc-00709e5739f2'), UUID('caf25433-5d32-52bd-bb1b-b3a279144ece'), UUID('44a82c87-186f-5c34-9a39-30ff134d6251'), UUID('fe7bcc00-379b-5271-8bb7-2b8a324688b3'), UUID('ecec2dac-9797-545a-93f2-05bb8eabbfc9'), UUID('025ffcbe-ec25-5c24-b84b-50eaad30602a'), UUID('fbaef399-d459-52c0-99e7-e0577b9712f6'), UUID('f94463f6-dc3f-5e12-828a-3940d34c4328'), UUID('e4af0cb0-b588-56e9-af6f-cd6c49d305ef'), UUID('a6ba4590-9632-522e-8f8e-8ae7876c1294'), UUID('0942adac-35b6-5383-8d08-8f65f9106fca'), UUID('59234254-94fa-57cd-994b-14ddeccca0c8'), UUID('e7f11a8b-635b-5659-8bdc-03d2803546e0'), UUID('6018d0ba-3f70-57bf-905e-c5adf11cf7aa'), UUID('9cdc81b5-f066-52f8-894f-34970eae3fd6'), UUID('5e45f147-aa41-55f9-9bd8-2d132a317f61'), UUID('b0f812e5-a4a2-5d08-87e7-c14373fd8567'), UUID('422fdaeb-bd1f-5251-b4a5-a344cfa9b205'), UUID('25eb3ede-0f9f-5a00-a25d-e538fc8b2796'), UUID('0686455c-3f17-563e-a425-4fa42af45869'), UUID('4392e915-62b9-5974-9806-d8ed4930ed3b'), UUID('dd7dc42d-7869-56f1-a7cd-143d327abaac'), UUID('313463dc-b38a-54fe-927d-19bc6004cd23'), UUID('8a2cc68e-6973-517f-9ad1-50da13673c00'), UUID('ff8653e9-1cf5-5156-b0e7-acf015d8991d'), UUID('252eecfe-0942-5bf7-8fc8-5e25453e1f4b'), UUID('5f341bdf-8f54-546f-ac2b-e7d6d60f8c30'), UUID('a03f9a66-87e2-539f-a8c9-0ae80016eea5'), UUID('c24762c6-4923-5cfd-9959-e6619d383054'), UUID('94ac2d2a-370e-5b8a-b0f0-366d99e91f2b'), UUID('7f64011c-0638-5b6b-bb70-ca78e8baadfc'), UUID('ec6cdd69-04f3-56b4-be80-3e334876cbe1'), UUID('6d5a4f52-1512-5191-b384-9a9bae646de7'), UUID('e096c666-e57a-512e-a2eb-aaa94c228492'), UUID('d7b8a79e-b21e-5e16-b7f3-4221f7eaccb1'), UUID('2eda00ac-be1b-5338-ba77-4515adca5abf'), UUID('82934303-f892-5486-a56c-5a7e576f98b5'), UUID('1e4e8d4b-30a7-5e71-84e6-6edcd556bd9e'), UUID('9cf2bbfa-504b-5a09-8f21-fe2ff6fefef7'), UUID('bebc571c-aefd-5644-9e6e-b4c9c443533f'), UUID('86df3372-84ec-5e6b-ba5d-a16c7973bd4a'), UUID('640e774f-640d-5bdb-8503-344c9fa967d9'), UUID('0916490d-f8aa-5581-9017-cafb5f529363'), UUID('7c1dbb82-013e-54e0-96f5-4364a44d8825'), UUID('eea1acea-3119-5dea-81b6-dce8152af0d8'), UUID('7f07500a-c0d0-549b-98f0-a5345732b122'), UUID('6abb6b90-3e8a-5188-b34c-3ea093c77dd3'), UUID('11989ad6-f117-53c1-b602-3b193e76b3f1'), UUID('c29d30b7-5042-5fca-ba4a-8affd7df932f'), UUID('f1f560aa-43b2-508b-8171-932ed8c1210f'), UUID('95cb32d9-d2fc-5ccb-b831-e920d8586509'), UUID('ce0204b2-fc99-57e6-892c-99dd1bdc47d0'), UUID('15d469fe-5cad-5642-8cf8-83eb3b95aee9'), UUID('b249ea4e-cb90-58cb-a5d1-ff49bd4e535d'), UUID('7cbcbc73-925d-576c-aa59-d2886cca7740'), UUID('6235f003-fdf6-58c3-9b0d-05a9c0a8866f'), UUID('8c573f90-5da3-5ba3-9c78-6f6d6eb1dd60'), UUID('020c7586-0069-5429-aedc-2833f4a7359e'), UUID('6be514a7-d4e0-5fe0-a454-c026e4495bef'), UUID('baa5ecd8-1d9b-5c8e-b2e4-444fbafc793c'), UUID('20efde40-b58d-5981-a7fb-11cc79dfee6c'), UUID('3f642493-62ec-51ee-b97f-589db3e7614a'), UUID('624a505d-b63d-52ff-a6b6-94b0cff8f82a'), UUID('766152b5-9869-598b-a38f-ff32e95ba0bd'), UUID('a0fd317c-69f3-5858-aa86-a6de0393eb88'), UUID('271a492c-2993-552d-99d8-d8e9dd20a87f'), UUID('d29d3fc0-61d5-51b6-8356-3411bbcfbfa3'), UUID('b4640387-4c69-5966-abb3-5708d126d2cc'), UUID('078523e3-dc85-56db-adb7-b3366e7b35d1'), UUID('a66d47b0-ea7f-5f07-9a90-7e03cf1ab70e'), UUID('235b48b4-36f9-5628-a933-18a3d8793829'), UUID('03e7f545-bfbe-595c-99ac-d110e706e80b'), UUID('ab90bbf4-54b3-59fb-95c0-132d988fd342'), UUID('76d1d8ed-59b3-5434-9336-0fac1ae49d03'), UUID('244706a6-b1a2-5ca0-bb9f-a36d169ea781'), UUID('1bf94b65-d4b8-55d8-abbd-d20a0219c429'), UUID('828a188c-0890-5551-9bfd-500b9804736d'), UUID('ba430b95-64d8-574b-8b8e-26a4f066149b'), UUID('043c3a04-ab4f-529e-a71d-87d62df2ffdb'), UUID('1d895696-9771-5894-8d61-bd9ba780e870'), UUID('b7c1e433-6cc4-5522-bd85-926046bfa9e3'), UUID('5a16d200-8bfd-5875-bf3e-d145d16e7270'), UUID('d6e214fa-f885-55f0-b40b-b02043566b4c'), UUID('7769fa60-0295-5952-9ed1-01f0b41dc2ff'), UUID('9a041a1e-674a-5313-a3d7-523539f6af70'), UUID('3daa1267-2201-58ff-b402-91105dc16910'), UUID('7ab33860-c6f8-5d60-bcde-7d59125272ce'), UUID('3417c33d-5455-55c9-9c77-93334792df62'), UUID('a9058b50-6017-5e01-81df-bb15518fb685'), UUID('1e3cc01d-4d31-51d0-b9e1-621b12f9b1bd'), UUID('b7cd6d48-608c-5716-8627-a138f84563ea'), UUID('12eeb8c7-0207-5b08-9b7d-7b01d2de9ce5'), UUID('b7478a4d-6fbd-5a17-87bf-102425ef910f'), UUID('ff76dab6-daa1-5336-b442-7c90fbd6bc73'), UUID('90e80fe4-b5a0-538b-9b1d-dd7589a08083'), UUID('73512869-66e8-53ce-a006-15bdc3514dd9'), UUID('c092354e-27b2-56a9-a0f1-a43b126f019e'), UUID('09908f22-e6a8-5be9-9b31-ffdb9349dfe6'), UUID('e39ba423-3302-5382-9c2e-8cd519a78ed4'), UUID('87c8007a-31ea-5f08-ae75-db8e49f5429b'), UUID('c8c813ca-d5dc-53a2-84f1-c4ed2637880f'), UUID('f9347371-99b4-501d-9fa3-58b3f508bf15'), UUID('474c1595-cb8c-56d3-adeb-010b4ce3c6b7'), UUID('352a73b6-490a-50ad-afdc-124a421b2c8e'), UUID('6ad4288c-5672-5598-be23-e15ea3fb7ca9'), UUID('338f1060-243f-5718-8bdf-051e05838194'), UUID('9583e2f5-79ee-5ca9-8ca1-3d63493513b2'), UUID('72a57e23-5b7c-5b5b-bbe4-2ff34343344e'), UUID('fcc9aeb9-a4e8-519f-88d4-bd7dfee5d773'), UUID('b527fa71-d3a1-508e-966f-89d00404b0d4'), UUID('023baae7-28c2-55dd-be0f-bef59f88645b'), UUID('22da1fff-2c65-5b52-8de5-dbf792c41b94'), UUID('3bc96651-9710-5790-9236-d19401076f55'), UUID('de0c8187-04c9-5bc2-9d9d-abf16f8d51a8'), UUID('07dbdb94-b575-5a8e-8fca-7e75ddffb797'), UUID('4253a79d-cea8-518f-b460-b2fd6ce82b9e'), UUID('0a68091a-1e56-5cf0-958c-62652a018886'), UUID('04adb0a4-939c-555f-898e-fe277aec7013'), UUID('9b064d26-88ab-5556-958c-73f8b04dcedd'), UUID('9b0a8a16-282a-59ea-8fba-48dc73ccf655'), UUID('d0a4a838-93c7-5e97-b3d2-aa220f10895a'), UUID('bb7a9dfa-4310-5851-ba0e-e36717baef52'), UUID('b87bb27f-9a3f-5d99-a52b-82d3ebf48cbe'), UUID('dc9ad600-45aa-52d6-9d33-f99b3a1ac6e5'), UUID('e957e51f-ac8d-525d-b5f8-21475d4e4d7e'), UUID('b5478a3b-aa3b-5d29-91cd-888a4098a752'), UUID('a1216d69-6039-59ac-a735-46c70603b3b9'), UUID('df9a976e-f1fd-57a9-af0b-bcbc2e98a45a'), UUID('c016556b-9bc9-50cb-8859-fa814e623dfe'), UUID('93131d4a-2d66-5127-9cb9-1b092ffb84f0'), UUID('0526e6ac-6509-520b-8c75-b8d66ce8e4ec'), UUID('114caad0-903d-5e97-9763-a555c096ccf7'), UUID('dfe59a72-3775-5c8d-8bd4-67b45f46144b'), UUID('0a5e4fdf-7bd6-5eef-98de-daa4c7ad20a7'), UUID('850b2185-d576-5db0-9ec6-05efcb1f058c'), UUID('7ef860da-d2f1-593f-859d-0bfbe2196351'), UUID('7e7eab6d-36fc-591a-8f3e-ee5af2d00059'), UUID('c3e6dc37-d2fb-5e22-b602-f79af8dcfb9a'), UUID('22df2162-db34-519f-9aaa-e02049862ff7'), UUID('c18f6a32-a5d0-5e1b-b44b-05a19ae928e4'), UUID('c934faca-5168-5099-a3f6-ad96a9ca4ffa'), UUID('a53c2ab5-5457-57af-a731-e263725008c6'), UUID('3e127f1b-0cf0-510c-9743-6b3e60fde577'), UUID('4b8488db-011d-50b1-a2cd-1054315a5fe7'), UUID('519b9a88-be84-5a1d-a477-ce0c1b53e948'), UUID('6069ca4f-9360-5934-96a7-e0a4dae544d8'), UUID('326c36fb-dc3c-5fb6-b933-9d9362b0e3a4'), UUID('f30f6050-7fb0-5f78-b5ea-20e25c3a02d8'), UUID('4f72e2b9-6b9b-52e1-b767-32fb7049e7ab'), UUID('5bb86ad6-edfc-531f-9ffa-cd30a317e31f'), UUID('1ba0e12f-590f-5466-8a18-7f37a9c44c48'), UUID('445e3292-4776-5f39-a8ee-aab63e8d169b'), UUID('50abc170-458e-5f5e-b53d-57332e08fe2d'), UUID('7e7d3a9b-4436-594c-99a8-a8344332f191'), UUID('bd81f7ae-8864-5d31-976e-400bb84e3ef8'), UUID('b855be08-5d87-51c3-86fc-088e27d478f0'), UUID('8c44148e-9b5a-5ef8-b71e-4f80f7c4a456'), UUID('c11ec51e-a393-5a1e-8d92-79c1b4fa9621'), UUID('ea40d34a-efce-5553-8f7c-76a7e0fd809a'), UUID('27ed367a-817a-56cf-a325-4a8e90c33d3c'), UUID('8c69b92a-a0d1-5658-bd9d-06e1ded5c7c4'), UUID('480bb80b-1b19-5ad8-a30a-57d3d82d050d'), UUID('e516730c-4205-53b6-bce6-55e8d1508482'), UUID('652e9c8d-3456-594c-be04-479d69182c41'), UUID('9c95c56e-39d2-54b8-b1ad-cb9d149893bf'), UUID('3545403c-8a97-5117-a5b4-b0878013e32f'), UUID('05747b08-d44c-5a94-a490-ff6fb3858e18'), UUID('e37d46db-4a25-5378-a9f2-375a2408182c'), UUID('e5d3c9fc-9a0e-54d2-b609-affba6cddf51'), UUID('04e1044d-96d6-5179-bfcf-b581d50157e5'), UUID('ee552f79-3d84-5182-b568-eb0c6f83a8a7'), UUID('fea5d0ac-f39c-5de1-b4e5-d4ec8452886d'), UUID('26089539-005f-5587-9830-aba8e3e1ebff'), UUID('2363567c-2eff-50b9-bd3f-59fb443a9aab'), UUID('6f3d14e0-c3e7-5f23-b0f8-d8d629aa7ac1'), UUID('eebb49d3-0981-5e07-9b88-3dd1c1b88eeb'), UUID('8abcb7f2-a343-5318-bc92-3e0c448106b2'), UUID('bfae43c1-9f59-591f-8ee9-d931ae798d57'), UUID('8f32a4b8-e55a-5a3b-89f6-537260e95884'), UUID('eaacc610-da19-5ab1-9a99-f4c9e093906f'), UUID('92eddec8-7663-56c0-9837-b065fdacfe60'), UUID('94542185-debf-5e73-9c82-093a14a13d82'), UUID('63356069-c112-55d7-a753-06900dfbfaae'), UUID('959e419b-d373-5aeb-adfa-d1426a0f2880'), UUID('20ec91a7-680b-5495-8780-b94c58a42579'), UUID('73069437-b842-509b-ab04-3e7591c49053'), UUID('c295ba95-d9bc-5e56-82c8-aeadf4d8b818'), UUID('cdf21b3c-53c7-5983-9e29-dfe0ae329b73'), UUID('c517b38f-b319-55a1-b1cf-e46808caca73'), UUID('f8078ef6-04f7-55b4-b6d2-a5d6b36a2878'), UUID('79644f5b-db93-5c0d-88c1-b8dec5ed3e42'), UUID('386bd520-d765-572c-80bb-1ac4cc53ae74'), UUID('218c7c8c-e662-55ef-a40b-ae35a160f933'), UUID('dae2cc80-05d3-5aad-af4f-11860d21cf0a'), UUID('777c328d-1046-53ae-b446-31bb5d1a04d1'), UUID('7f184da7-c259-5e23-934a-cfdb5cc1c36c'), UUID('bacab1a3-766d-5e87-b00f-6e07c3de93d9'), UUID('174edb83-6705-5ecb-b2f3-3592c4b3bc66'), UUID('1760d924-d1aa-5d50-be6c-e7290da0eb94'), UUID('1485b0f8-22f6-5fa8-9f72-cf9a9edfec3b'), UUID('98693338-1730-5594-9b0e-823c1887f992'), UUID('311b30f8-1dcf-51ab-9216-ddf6d8b4edda'), UUID('114c3992-fe81-570d-a68a-4ff7ee401ed6'), UUID('683867e2-fc3b-527d-b7ba-7d70e45d8264'), UUID('36de8f46-f64e-547f-aa38-6a1492001af9'), UUID('c01c0526-8c66-54f2-bdc1-57c1df0797f4'), UUID('0177aa1e-9d71-559c-ade3-a1c14193a340'), UUID('1a58da73-4b1f-5898-8452-6c91049e6b39'), UUID('ced4f849-3cf7-5213-b3d3-650d149fba16'), UUID('e054a947-a879-5e6f-8743-f12738afbaf6'), UUID('05e9bd4c-f978-5f17-8655-c7f553cc3558'), UUID('a48d8ba9-43cb-5ba2-9dc4-3b5decdae485'), UUID('2d3d6d76-24c8-52bf-84ea-303a80c88693'), UUID('f3f19c50-db95-561a-9010-96b8f8d711a0'), UUID('3edd1e9e-48b9-596f-b02c-b673d00ec725'), UUID('856ee4ba-d060-5878-94a3-a7197642aa55'), UUID('f7e67002-113c-5e6e-95af-f4a1756ccb47'), UUID('322bc9a1-4846-5c62-a91d-fed0b9e6fedd'), UUID('0d594255-92dd-5c11-a9ee-c8a3e80ee56e'), UUID('b8280b1b-c698-5a72-904d-76eb4006f0e4'), UUID('e01d5609-2f11-5a80-a071-2b59777462dd'), UUID('c04b0527-4caa-5f4e-835e-2bc88c4da56d'), UUID('7b6d2228-a3d0-52f8-9247-f15b973ef935'), UUID('d29e27a5-2e3e-551f-93bc-db3a85f5550c'), UUID('bc82b1a7-c59f-5c1d-89a4-96518864851d'), UUID('3b994e0c-8491-526b-8c80-2ff1b3254861'), UUID('6d040d82-e20b-5463-8f91-948aaf6f8e76'), UUID('4415705a-5b80-5bf4-96b1-5240a9105a04'), UUID('5c2f1b97-1225-5e53-8b77-8da8c3792859'), UUID('227764c5-3f5f-5c7e-80d5-77708f5ceebe'), UUID('5727845f-898e-5a8e-ae6e-0a73e7f0fe11'), UUID('697cbb39-9088-56a1-a2da-ac50a7b0ceb6'), UUID('e66bb141-3456-5511-afb8-0e51cfbf7ad1'), UUID('763df5ee-3d67-5b10-9bce-e3bf4491d83e'), UUID('1e4cc2be-5415-5b61-959b-1b38fc3d0421'), UUID('3076ff38-0f49-50df-a593-a07488a6968f'), UUID('7b8a7dec-97de-5971-be57-3bd26d9d5d58'), UUID('993ebad1-f0bd-5a71-a82e-2434a07abc5c'), UUID('0f7d9c2b-b474-5a00-8544-ae4a3f34d1d5'), UUID('96cf564d-a97c-55f0-9a81-5fad292aad62'), UUID('7593c792-6ac9-5a2a-a1fb-42678161f45b'), UUID('2fa15b78-0bd6-5ec3-ba11-1b7199443382'), UUID('b8a9d50a-2c2f-5023-8346-63cfd792c575'), UUID('b9b97ff8-296a-5313-8dfc-c391299fc21a'), UUID('c2e537d8-d569-5f52-9dc9-2829934544d4'), UUID('09d8479f-17b2-599f-a0a9-5e1a05005065'), UUID('90d997cf-8afc-516b-b56d-8b85106c10ef'), UUID('78ca4aa3-9889-54dc-8cf7-413a6fc43516'), UUID('d1279fbe-727d-5476-bb1d-007dd7ee57dd'), UUID('dfe1247c-a869-52a7-87c5-e2f087672706'), UUID('f9286f54-04d5-5b2e-9536-3836c7dad86a'), UUID('9deac387-3f1c-57a0-ae2a-548d206bd0f0'), UUID('1ead16e4-83d6-5aba-ac74-68bf7889120d'), UUID('fd429950-f8c1-5364-a479-04066a9f7956'), UUID('c83d1b5d-ff07-5f53-8ac7-9c95015f147f'), UUID('68c261fb-7650-5ec2-abd6-8b1c064659bd'), UUID('9f632904-146b-5798-950c-e2ff8f980f3d'), UUID('ce8d467b-4144-5de3-8e7a-2d885427f1aa'), UUID('7f2f4b15-efa9-500b-aa6c-94b3a9cb1749'), UUID('eecae5f8-7de5-59ae-8ade-733d20c584fe'), UUID('322e106c-5762-555f-b829-a7df9fcca31b'), UUID('976507ad-e584-5aa4-b5d5-f7abebf828aa'), UUID('5c3591e6-86bd-5dcf-9a7a-ec9febf98b51'), UUID('0a192287-64d1-5289-a6df-540b043720e2'), UUID('c6374cfc-b67f-5375-acc6-60b35ad6e9e7'), UUID('60137d5e-fa99-5caa-a284-9b7d5e1b5ded'), UUID('17a1af44-53e7-58bc-a14a-3c5d6bf99a14'), UUID('de4a23ef-5d65-523c-9aaf-64de03d74437'), UUID('6e9dd002-5e14-59d3-b61d-ecccbad09dd2'), UUID('d16033a3-63c8-57ab-8d16-36038d8ad157'), UUID('418de4cc-2738-5c1a-87d5-a13ef9eaa8f8'), UUID('04a00557-40d4-5012-8ad3-5d4439b1edef'), UUID('4a121610-6c20-54fb-b573-afd3b5380c09'), UUID('9b5c1bc1-97f5-50f8-ad46-5d90246646c6'), UUID('d8a64eeb-6431-59fa-a09c-78bb0f6d03ec'), UUID('788ce01a-9be4-5e17-a75e-e7562c8b240a'), UUID('5ce24e59-6c36-5db6-9ae6-b925bf0f727e'), UUID('ba37e3c6-5b89-58cc-98f1-15ccde2310c4'), UUID('a533b689-7944-538f-9181-ca6a800c2604'), UUID('6f41e84d-f25e-57c7-a842-ac1a42f02cde'), UUID('41631166-3685-595c-a61f-debbcd36a62d'), UUID('51ac205f-5b94-5ea7-a78b-8cbb1d4f3080'), UUID('3b6d8997-4945-56e0-8b31-ff523bb90b1e'), UUID('28835a3b-e5d0-552d-9452-b821e8c1509b'), UUID('19a45b54-8272-5a1a-ad7b-57b6a6383d37'), UUID('45f63efd-ad3e-52d4-ba77-c022d60beddb'), UUID('aac11fa2-1ef1-5226-b6fe-db3d57979b1a'), UUID('58ddcd27-b101-50e1-a823-0f2310fc7021'), UUID('10e0ad84-93ea-5c12-b76f-f36e00bfe38c'), UUID('e5166544-49c8-572f-b383-545043ab5a92'), UUID('b2d1c371-ffc4-5950-824f-ffd22dcc028d'), UUID('ece2b2c1-bc94-58bc-9b98-a203e34f8f9f'), UUID('5be855ba-e461-5e32-af5a-a705a3f9af87'), UUID('59cc3ea5-cae4-5a9b-bc3f-d3c4f6b5527f'), UUID('5c0e916f-4978-501a-b34f-50abf574f6ec'), UUID('6941e770-d40a-5b4f-9ee6-764342b849db'), UUID('e794d163-5bfb-5f4d-9883-bc4a93bd2b87'), UUID('55649835-a34e-5b20-ba7e-4c94bb70f464'), UUID('4f0e8c9e-d1a4-5a69-a597-2cf62883f6a5'), UUID('eb9cb58d-e939-547b-a023-d9bcddef9c67'), UUID('5af7cd55-ce77-585d-ba06-8f6629874a53'), UUID('61b60149-2741-5d2f-8710-5a5e1012ef96'), UUID('d9236cea-9fc3-5bd9-962c-e7d9b295b29c'), UUID('d2c2af28-258f-5117-8f11-2b201414c86f'), UUID('4fa38237-4a9b-57a4-9515-622fb237aba5'), UUID('e575b26f-dfa0-55e8-82cf-6b71565fafc8'), UUID('54a5d876-de2d-5835-857b-a3b07cd49c50'), UUID('42bfd2a3-d010-58fd-a10c-5efc645ff9ed'), UUID('62564052-d254-5427-b740-e8e307faa4a8'), UUID('10095796-c0f6-507f-9fbc-00947c225054'), UUID('9a53da7f-0700-5634-8b3e-7cd296727046'), UUID('2523ff07-597c-5450-9afe-e439b1422e7c'), UUID('a0507e92-acb8-5be7-94a0-8861c5c3278b'), UUID('8f9001a1-d624-5b53-86c7-4d1a3211449d'), UUID('d9a80625-fb02-54f0-ac75-7a2a0d60083f'), UUID('18217ebf-4098-5316-8fa1-b8c1acbbe448'), UUID('30655bdb-9958-5817-8b08-cf45edde8bec'), UUID('7ac259cc-52c4-5c35-98fc-5bd361fa39e4'), UUID('0a5e9883-fb56-58ba-a239-799b452c94a7'), UUID('03670bf9-471c-5c69-995f-167e5d1d115b'), UUID('2e3b65a4-93bb-5e88-be1b-9841362c5f25'), UUID('841cbd57-fc3a-5bb8-b823-bd7a850bb8fd'), UUID('f9c3f6f1-6573-52b2-8115-b9f839bb70de'), UUID('2bf82012-966b-5835-94fa-2452e7fca4d3'), UUID('f7995e6d-38d7-5773-8ba3-29f1892a65cd'), UUID('eea2032e-ca7f-5983-bb06-bd7124c17111'), UUID('b8ffa33e-8551-5245-b1c0-fd20c0b6bba1'), UUID('947e0915-21a3-59bd-b239-173d4338d14b'), UUID('c8006e97-fa49-5aea-8560-78a4c7e5a4ed'), UUID('5a9c3fbc-6a67-503d-9e29-1a8aa3dabdba'), UUID('ef98e470-1fdd-5bd5-9598-d5316a1e052f'), UUID('89837867-406b-5225-8fd3-19360758f704'), UUID('4137a96f-53fd-5ee8-9b9e-b5098e559704'), UUID('12e19e61-42fb-5a72-aa75-ce0e8ad280fd'), UUID('1fb9cf68-1cc6-5a1c-a227-7dbe11e0e3b1'), UUID('1d22dc77-7a80-5a58-b5b2-de8c364447ad'), UUID('dfb4e35d-0cb9-59ab-92b5-429bfe6aaa50'), UUID('ca68eda6-92bf-5c7b-9009-5210174dc9ed'), UUID('f26fa8b4-8806-5be0-b9e5-432f17fc5217'), UUID('c697e211-a6e7-5cd9-bfbc-7a8048b52aef'), UUID('1b0e8884-086a-547c-ae94-dbd06f7c1911'), UUID('b3ddc47b-2b48-5c22-aa6c-c9f8cb9ea16e'), UUID('39460c76-3e9a-51a7-8691-f7e5f7126bae'), UUID('c8773f5f-51ae-5166-bd58-5ae175c73327'), UUID('e2abcf76-fa18-5237-b64f-9b5208bb57b8'), UUID('d5817448-542f-576e-9b72-3f9d6639a94e'), UUID('8fcbc6d1-7eab-5b5f-aed5-204e3d574b80'), UUID('0511636e-98c1-5a4b-9d1d-0d59cf5dd53e'), UUID('a6541e49-25c8-54d5-a343-2d93553dfced'), UUID('1c5b4025-a595-5df8-a29c-9b4b01eb9b06'), UUID('8a0c63bc-76c0-50e9-be6f-67f1f4d6dfe7'), UUID('b68bae6a-f1da-54d8-a11e-6a330552bb9a'), UUID('5738e902-0dda-50e1-9e36-07f90c1c190d'), UUID('19cc2259-bb5c-5f36-8f50-da59a2193c16'), UUID('63c82378-cda3-571e-ba83-e227bd188bbe'), UUID('99b41084-15bc-58ee-8b05-9cf8f3738324'), UUID('42c0d712-c52d-564e-8be8-e9ed6e3f6a7c'), UUID('14fecbf1-cc72-51bb-a7f8-2565bc6ffc5b'), UUID('5538d2e2-e7af-54ea-a598-4d6afbc378e7'), UUID('e77a902e-2d47-50e6-aa2c-0ca24fdadf4a'), UUID('ba0973ab-fa81-5fc7-a0dc-78050c0de306'), UUID('8f7e0c3a-a3b1-56b8-bb47-bb2f38d4efcc'), UUID('aa767a3e-ecbe-511a-a260-09dbafaaaf14'), UUID('ab5cf24c-4570-5cc9-93c9-5eabe9712e7d'), UUID('8ab5fcc3-2dab-501e-8001-8192a3b08f45'), UUID('16b96db3-a380-5c04-82a5-657eb9ae77e1'), UUID('c06ea490-0619-5d28-83ee-5bdb1cbcdfea'), UUID('95393aaf-799e-57c0-94c5-c072c5ff0864'), UUID('08665293-a69e-5c15-af4c-a03f840b1eb0'), UUID('cd46a129-1e9a-505f-864b-5a9fbbfc48f8'), UUID('c08c369f-0f61-5d40-a4d4-146e264111e9'), UUID('527810a3-df10-5aea-a2fd-2698527296d7'), UUID('84b696b5-44ce-58c0-884e-4227a81ae6a1'), UUID('307d3f4d-3933-525c-99d4-a6a803a852ce'), UUID('139e2119-02c4-5505-8f1b-927dbd1f2108'), UUID('ccf43a15-b979-54b1-a1c7-5182f14c3653'), UUID('33aeaab1-2a6a-5747-b268-6fea59007d43'), UUID('a7ae0f55-33ff-501f-a4e5-de0ad16d73d9'), UUID('3461003c-1bc2-55f0-8115-c8d56e3252f5'), UUID('866f446f-3ff8-59d9-ae24-ce75a4d8797e'), UUID('c579d9c7-7247-502d-9d81-7a6a7fcc8616'), UUID('1d0d1a10-cfa1-5fec-82c0-e9cc71678d81'), UUID('d6027e52-6ba6-5bb6-8571-8d667d9f6753'), UUID('8240c13d-a45c-5b73-bab9-b0d4954d9e21'), UUID('7e1c4519-abe9-5b74-9c9b-2b14997572a1'), UUID('c82a9053-6a01-5c3b-b6cc-69de1d4bd242'), UUID('1fd48af3-b093-5ab2-b69b-eaefc849f412'), UUID('b74ae168-ced1-5274-a849-3f95f083f86d'), UUID('c1b12a89-949b-56ed-a326-00ecfc24e456'), UUID('2824d8cc-306c-5111-9dfe-14e8ab499e45'), UUID('48648c70-901a-535c-bd0f-cb6f3afcc1e7'), UUID('ee37a125-76d1-572b-b257-48dae567e2e0'), UUID('a48c2bcb-5b4c-541c-b480-9e28fbf65abf'), UUID('1efcbb16-fc00-5731-b6e8-c049f3a5cf48'), UUID('65179a94-76a5-5c6a-a712-f5d55f646306'), UUID('32229409-302e-5c4c-a100-ccadbf92e970'), UUID('41493653-c4cd-590a-85d4-37e301cb105f'), UUID('34642033-07e5-54b3-b310-c992fdd1711b'), UUID('31cd8b48-5249-5451-8951-bd78acb3e6de'), UUID('46fdda4a-d606-5d76-be79-331f0a1a1853'), UUID('098e5fe7-476b-5393-b5e5-b4edf84a4d1e'), UUID('19cbc99d-fbfa-5a07-925f-a43c3017a508'), UUID('ff663cb2-d615-54aa-a413-18fcbc95aa5a'), UUID('56b2458d-324e-54f9-9aef-32b067bcb1fc'), UUID('a9f46c1f-e515-5ce1-b16b-e4c857c8e142'), UUID('02f7bc02-71a0-5e18-8e04-730b89f747af'), UUID('b1666de3-0a24-5fab-b79e-4c50dfba7bd3'), UUID('de6f4a46-0d58-5391-a04f-9d78d6096a16'), UUID('9328abde-3697-507d-afe6-b5d5d816817a'), UUID('29e86019-344b-5132-b285-481c044cefac'), UUID('80babb9d-0ea3-5c5d-988b-cedc8c909d13'), UUID('227c0a21-8de5-5807-97cd-8616e8bbbc3c'), UUID('421cd5ae-91c4-5070-a082-9253fe5bf3dd'), UUID('230d3196-b8aa-5b97-8647-dc91e061276b'), UUID('47a1d82c-bdf0-5d6e-9a82-1c57cebf5db6'), UUID('caf920a4-7dd2-53ef-9bda-85be3aab6821'), UUID('4917fa7a-b7a1-57fe-92a0-91d140893f0f'), UUID('f8f94b88-50ff-5504-b772-4b5eb45d5e5f'), UUID('b3722d06-d711-5fc7-808d-01bc8c160b37'), UUID('f1ed0675-ca27-57b4-99d4-e0107be3066e'), UUID('0fa4c8ab-97ef-5779-a30c-c4e4ada87676'), UUID('ed18208e-6681-5efa-bd0d-68bd2af78c89'), UUID('c5b47d8d-5adc-50db-aa69-501102560189'), UUID('609c8798-53f1-523c-a587-693a3c4f2ef9'), UUID('3a23a3aa-4b63-5256-b0a3-66ad05273516'), UUID('88710078-c855-5de0-853b-2c4a7b1f966b'), UUID('a99f2c42-0a2a-5210-a7d3-ce499ce583a7'), UUID('c474f0b6-6c8a-5104-a4cf-1f8d9c9e8094'), UUID('625420d1-ae56-5be6-9b4f-ab4a73f5b142'), UUID('31761ced-9885-55e9-8efd-07a0a49beb5e'), UUID('51b98eca-dd3f-58a1-bcbf-db002ad44042'), UUID('83e9346b-4d3e-5d78-8725-8904768b0d49'), UUID('723f6da2-b257-593d-b8d1-5f42a7daf558'), UUID('14b7fd6d-a0f2-51d0-9408-de150d27dd52'), UUID('41334d7a-b306-543c-bcc2-875f698130df'), UUID('f9699277-cce9-569e-b80c-08d57eed4c1a'), UUID('fe3d66cd-fcfe-5266-b46b-ed72c6b759dd'), UUID('7efbf285-be85-5a70-be59-531786823817'), UUID('d0ff9dd9-ba54-5734-8fd2-fcc43194a793'), UUID('280201a6-5dc0-50c6-ad64-5637dea8015f'), UUID('e17ed0df-82da-5554-94a6-66654d194461'), UUID('f64ad3a9-b0fa-5795-9eab-11914541bd1c'), UUID('72a2002f-ff06-521c-a437-d4761c526a4a'), UUID('f367b073-f868-5b0f-8796-390e6436b80d'), UUID('a394cd61-d4d1-5555-9893-67d6be29caec'), UUID('0c28b9ed-99fb-5334-8021-281997ea6a7a'), UUID('277b94ab-e265-5822-872e-455feab4d82d'), UUID('98ddde5d-06f6-5821-871b-883183679b11'), UUID('e6991782-975f-5359-8b26-ad464f1673db'), UUID('b942e257-96ef-5835-92f0-6db36c2c276d'), UUID('a393e6fb-cffe-59e3-94de-98c2565a2c0c'), UUID('de17d721-1468-522b-9121-4ee6279bbc10'), UUID('9694f86a-082e-5346-b253-e010f5680b90'), UUID('29f6d256-bd81-593d-81f3-fe65d2f6de3c'), UUID('f13821f8-b4d4-52e5-99bc-8da5f03175e1'), UUID('2141eace-32e2-5d56-84b4-943b1f385de2'), UUID('f842e48c-8834-5887-98de-df4db6cb2bc1'), UUID('dc4f4fec-3eec-59c8-9130-16b3c20ca734'), UUID('6a30c68e-3b80-51c6-b041-67fd9113120f'), UUID('6635ee01-c3c3-5278-8665-acbfc6dbf541'), UUID('51e3d88b-3e71-5fb0-82fc-f5b8b7fabeab'), UUID('b60b2a25-e3a7-537a-b976-d92ebef9aa3a'), UUID('2968b22f-8544-5dd8-8016-bfe2182af4e3'), UUID('f9c2f8ca-5fc0-52a5-97c6-14e06d6e1528'), UUID('90145a65-77ad-5287-b1e9-a59eaca16257'), UUID('9c02d9ff-77cd-5820-8161-eae86d3764b3'), UUID('b7959ab1-764f-573d-b578-ade56ae84bcb'), UUID('f311a43d-f438-5c55-baf3-134a254f3432'), UUID('bef843e3-a7d0-5204-b93e-50936d181464'), UUID('210274b7-7141-577a-a8f7-e0a21fc264c2'), UUID('627fb229-e59f-57c7-a428-df8877ce64e1'), UUID('afeb5f90-998b-537d-9205-dc02279c8827'), UUID('8b157913-55ca-5d2e-8932-3a235a18bb79'), UUID('b554a2c6-a733-5f3c-b469-9ea4c5310d99'), UUID('0b13cc8a-9f16-57b8-8172-55e7d0d261d7'), UUID('5e49ca21-3376-5f0f-b1a1-ad4cdf5317db'), UUID('41b340c0-e2c8-56cb-9429-79c1495bd991'), UUID('8d16cf84-15d9-5f0e-ad00-2225c4103a89'), UUID('8a418972-445e-55a9-ba32-6c9056868e0c'), UUID('d16a9bb5-6569-5e8a-bd05-6bf28fddd159'), UUID('95105643-3a51-56d5-839e-8838f6aabb32'), UUID('861d66f9-7f0f-5efd-8a7d-a16dd05af415'), UUID('e2be22d4-2c09-5812-a56a-c45e3c0d1007'), UUID('8f5962fe-3e13-545c-b466-d5c434ddfd1e'), UUID('9bdadd35-bd3a-56c3-9e61-9e2eb6243969'), UUID('896090db-6484-512c-b2ab-f7d9bf2d786e'), UUID('c1266226-f46a-5d3f-af24-1a3264b1a1a3'), UUID('b158c09e-9897-54b2-874c-6ec33d0c616b'), UUID('3809c808-c72f-5a3e-bbeb-b91e91c8f252'), UUID('9d313ef0-7457-5ad8-b99c-1b3836719bc3'), UUID('8ce4a4d1-5eb9-572f-bbaf-fa9c5d83e4a4'), UUID('488ad7bd-98e4-557e-8249-86f3ada2f346'), UUID('232baadb-2c32-52c5-aa24-d5ea519a7d6c'), UUID('8ae05f87-e461-52d0-bcfb-d07f71e51628'), UUID('8656c83d-7aef-5385-9fc9-5a0ae91d4a1b'), UUID('ababb4b6-7f57-5c08-9d21-c0fba71d36c5'), UUID('e086696b-2718-50e9-8ddf-9ff6b1db987b'), UUID('cca2377a-cd07-5797-a4b6-0557e77550c1'), UUID('e6b75a7a-18d0-585c-ada1-97af93ee1096'), UUID('d27d2778-df36-5639-8b57-7667b6e649af'), UUID('2dbb46d6-7c7d-5a54-beba-a442fd8bb760'), UUID('0269b040-6d5b-5bb5-8a93-f03b1100106d'), UUID('b2ece2ab-849a-53a8-9944-caa97625b2b5'), UUID('5e096532-5a60-50a3-822f-9f8fd9a81b04'), UUID('c1f23a5f-b996-5b20-b44a-29d94ca9289e'), UUID('55b942e6-3cc2-56db-b241-d04bbdb79054'), UUID('31ca4bbf-ae08-5afc-b26b-a2c6e95c1352'), UUID('9d00279a-a846-5c88-854d-5a3815f2b0eb'), UUID('0895c04b-56d6-519a-990a-989ba90220a4'), UUID('a73d1c7a-0324-520c-8d8d-fc10a77a9f33'), UUID('a5f3b756-9a59-581b-b12f-6c481593dcd9'), UUID('fd97ec55-2c4e-5e04-8b86-2a55a9be1d1a'), UUID('41e39f66-d1c8-5e68-bb94-cc26f0c89f8b'), UUID('61cd9eef-352a-5dc2-9854-b60afdd82663'), UUID('6785f8bc-dfba-5771-8767-f2583f7878a9'), UUID('d516ce2d-821c-5a6d-8f8f-a01ca6767d37'), UUID('2b582b79-cdbe-5168-bc9f-8d96c416d37b'), UUID('ff2ffde6-5d9b-56af-bf09-59dcfe897a24'), UUID('af914bd7-f457-5ea8-a0fd-d7ff1a8c8b5c'), UUID('95291795-19ad-5b75-b9af-c1378d716693'), UUID('57294270-bf3f-5159-a1a0-ca9fdfb072af'), UUID('70f8e415-ae2f-577c-88aa-987ea8ef03cf'), UUID('8d0ab6ef-84a6-577c-8b16-d4dd860d0d4f'), UUID('33042c6d-d155-56cc-93bd-fa8ea4a6e5a1'), UUID('d5a196d2-abfd-5216-94b4-0a76fe61738a'), UUID('a0cc250b-9972-5a02-9bc8-8e879c702b00'), UUID('7234aa2a-3031-5cfd-95f2-ee07d6757aa3'), UUID('8829279f-bb71-5650-8c8c-def95866a68f'), UUID('a664d005-cf51-53e6-9286-bf236e28f0dd'), UUID('612b5e8e-c4ed-5cc6-96fd-49b17e89aca5'), UUID('96083632-e398-5212-860f-e81f251fbaed'), UUID('04235289-8dda-54a8-8953-8dae6437838c'), UUID('842419b7-4b65-5894-ac4d-71cd5194e400'), UUID('f8adc67a-af09-52e7-81e0-60ea432f76f7'), UUID('63f33b55-8525-5539-a821-a9f4ac25f03c'), UUID('d2c33b91-217a-5982-8b06-d5ae5fe87369'), UUID('3ccf79fc-47e1-58dd-abcf-03e26809016a'), UUID('9ff5c5d8-0608-5010-940e-12eaec4b9d22'), UUID('b74205f9-709f-5514-8afc-f612d239b6b5'), UUID('b1896bce-7768-555f-bfcd-dac64f7f1ee7'), UUID('e7a1e8ec-22b6-52ff-b628-fc289d5c4bd5'), UUID('91f0fb1d-c3d5-5f2b-ad4f-2e871626328b'), UUID('5847f2b1-a8e9-587a-885b-08b6141b5cca'), UUID('61a756d0-1f0c-5563-af4a-717f838db603'), UUID('00f59eae-d442-5670-b8dd-d5d1d5ace324'), UUID('2c8c6cfa-77a7-5769-8556-824cd5ae876e'), UUID('fa98948e-6f1e-52c2-b2fb-8944d3034b3c'), UUID('b04316f8-589e-58b9-be68-c902505c4096'), UUID('efd9dc7f-a931-5a8a-bdc9-b4c8c8349ce2'), UUID('2aac895b-a138-5955-a9c8-586b866e3983'), UUID('a3cb3477-1a2b-57ce-ae6f-7fc386fd2f6c'), UUID('6a245d5f-5f40-5cad-95f2-47dda5ba1467'), UUID('77933924-22c8-568d-95ce-c462620cd2a4'), UUID('8558b774-c556-5617-81de-4e3c7dc8427b'), UUID('03ed5b36-07d8-5c4e-a214-dcf1db4c1ef8'), UUID('849bf29b-a5cb-530c-9b72-25dc7ebb7f17'), UUID('eeefc490-d362-55db-9129-90d7dc8e8eab'), UUID('f18bb844-21c9-5b82-b2af-a6ead299d7af'), UUID('503ead9e-b773-53ef-be5a-aad5f68c5b5d'), UUID('c5ce6a00-c834-57dd-a1d3-8345f0b8ad58'), UUID('eedc0a3e-9ddd-54c4-8c34-e1df109dc58b'), UUID('7a38a1ca-3ab6-5409-89ec-7a348027941b'), UUID('a612dcb6-2e75-5e09-a2da-5e41f486bc67'), UUID('69fc79d6-98d3-5cb2-b284-98553bdb78d8'), UUID('2a55e945-d094-56fc-bdde-675dc4c41594'), UUID('3841c673-78f4-50e3-9bab-0408c0214dfd'), UUID('ebe7aac7-ca41-5186-86ea-2a7e33d25e77'), UUID('07f7b9f4-200c-57fd-a649-349a634564c6'), UUID('e0673726-1d0d-5cf6-bc3e-2076068e06ff'), UUID('4393424e-429e-584c-9749-987062b4d686'), UUID('0c64fa64-3060-58c2-aa6c-9f3e2b26ee36'), UUID('e403e04f-c57b-5148-8a7e-6b518593a915'), UUID('a6e92a44-6483-59e5-9eaf-e72b95b89ead'), UUID('e6395d33-f0c8-54e5-954c-427f168a69c7'), UUID('a12a306d-1804-5e62-afaf-afaf6a74818c'), UUID('228df989-8f53-5d5a-97ba-f1d64d2c4fb9'), UUID('0c5a6269-aeeb-5da6-92ce-44288fa48a7b'), UUID('cacca67b-0d6f-524e-9dce-e6479bad894d'), UUID('005cbdc0-3b25-5584-b04a-baa4a7661f6e'), UUID('ac3a0e37-dcb8-5108-9b38-1a1e2fe2ba82'), UUID('dce82c76-530c-514b-a05f-0f2da9ef4983'), UUID('33dead3c-2fb4-5c1d-8197-7b5940230528'), UUID('ee4d0497-22c0-5ccd-b854-fb8e56ae3e2d'), UUID('821cea9b-3db5-5615-a2db-1eea7d53e0ee'), UUID('6911d67e-5310-5eec-a2e8-e8c77e8adb30'), UUID('dc16099a-6a50-51ff-8bcb-a3145d8058fd'), UUID('c8ee4449-8bdb-53ce-86f0-50a266b5af4e'), UUID('022aa298-216c-5faf-babf-a8db8f04ddfd'), UUID('93c1bce3-85c3-513c-9ba1-29c42423b044'), UUID('2a09c45f-fb9a-502d-96bd-b92d885be05d'), UUID('19a2ba70-6d52-53aa-b1b5-42d05673277f'), UUID('51252331-3db7-5a10-b963-2ce6fd71e390'), UUID('a639bc60-a774-5208-9678-ddcc382e4a6c'), UUID('2f7ab823-bf91-5176-a0cf-f12618faa3aa'), UUID('5a4cdd40-f2fe-5c6c-9331-e9050e347de1'), UUID('86d6a0b3-1fb8-5aca-baf5-df7fcf9b1a07'), UUID('b59589b2-aaf5-5400-8f6a-cc93344c32ba'), UUID('dde06efa-fbf3-5282-b724-d04e96c06e3c'), UUID('74d94030-2c83-5484-9564-e98eda83d638'), UUID('b4d8b09a-68c3-5796-a3ef-0e959979af9b'), UUID('5847dec5-4e75-5320-8e66-a685112293d7'), UUID('30a590d6-2bd2-5a37-b659-1a43f7c75958'), UUID('db596145-beb0-5c08-9e4a-19a4c8e64861'), UUID('a476a4e8-b485-57a9-ad7a-a93b6fa69052'), UUID('bbfc7615-a6ab-589e-8fd9-22d66843d429'), UUID('54e2b54d-148a-522c-8cbd-056c716f2629'), UUID('a7f459a3-3400-58a5-8356-3a30ce79a06f'), UUID('bfc4bfdd-c09e-54d5-a943-3e262677d423'), UUID('6ba15631-56e6-59eb-a870-3fdd8815568f'), UUID('3d3b3921-b1c3-5a6c-acb1-9e190d3d0b3e'), UUID('9936bb2c-81e1-5678-bef5-7337d3e989dd'), UUID('db14543c-feef-5891-8ac3-fa9f5dc8bce1'), UUID('21b624d4-00ff-54f1-a7fc-7eb8ab89dcca'), UUID('7703801b-b49c-5071-8a11-c6af30f510ab'), UUID('03f429d4-887b-5498-b40b-d421ca2f06c6'), UUID('1c4c3359-2427-5a7f-97c3-bfd81935f09d'), UUID('542b3bea-baf6-54ec-af3c-572c27144a6f'), UUID('98aa03e8-1584-5a79-a3a8-7dbf12661675'), UUID('10b40d77-6649-5f4e-9862-e467f6fbcd7f'), UUID('5191f1ae-b52c-5b96-8b02-429b68963412'), UUID('172103b6-7ffe-5b0f-9ca5-1680c835d7ff'), UUID('df54ffd1-a2da-55c6-8fd5-614d9355e44b'), UUID('b09d7aab-1800-5e90-be37-01a255b2b04a'), UUID('85f5f7f5-0787-57c5-b9ce-43957365e538'), UUID('e825864b-a5c1-5fac-a8c3-eb1e6741ee27'), UUID('ad84e98c-c0d6-52e6-9439-39434fcdfee4'), UUID('f3be5d6e-901b-54ef-837e-2cfeaa766b6f'), UUID('92e87d41-d38c-514b-aa43-afd9a91dfac6'), UUID('697beaaf-75be-53d8-b95b-18b68dc03222'), UUID('0e299efd-51db-57c6-b54c-0f1685dfcf66'), UUID('bd6d77a7-d729-59ef-a1bf-9088e40c86f8'), UUID('0bd74b30-9ad3-5657-a228-a3669ef81078'), UUID('4b196197-bd8b-51d0-88c0-1331a76d9423'), UUID('a5428254-706d-5910-902e-921593158096'), UUID('53a2e5c0-d598-5c76-a36e-35102191a6d9'), UUID('dc459505-6239-5f74-8002-f94f6d3d7086'), UUID('4e8b8997-0d33-5086-8694-a964d91f2f42'), UUID('21d6d3ce-9e2d-57ff-8d7a-291b4de89fac'), UUID('3dd3ae6b-6f5e-526b-8cfe-da1a7a094ce5'), UUID('f11a3a31-7150-530e-a7d7-89b5662e2172'), UUID('9314c8ad-f5a9-5eac-887b-998a09fa8a09'), UUID('79f63c46-0541-54af-bdcf-0d788e6778ee'), UUID('2239459c-fcf1-5547-ad93-6babbf70a855'), UUID('fc11873a-6c68-5380-89c2-1a3765f8a368'), UUID('69fbdd01-a733-515d-aa2e-61baa50741f5'), UUID('6ac2caa7-17ef-533e-bffc-7384476b72c9'), UUID('a076216b-98ae-5813-920d-545ea507ed4f'), UUID('e891f019-8d5d-5dff-beff-93fa7401e511'), UUID('684b80e9-c29a-5430-be0f-fe96486a6349'), UUID('a89fc2d3-5fc4-5452-8af6-9787ab92e9d8'), UUID('88690704-7074-54ba-9faf-79c2b24e484c'), UUID('db558572-388e-52ec-b703-96c66fca6878'), UUID('8feab72d-0d8a-5e99-8204-0c25a93ae218'), UUID('886c82ec-db63-5acf-a46a-1f13e1a46ce4'), UUID('4245a0ff-1701-52d5-a56c-bc0722c42853'), UUID('b24e57b7-aaf1-504d-834d-14c115650131'), UUID('0721c5dc-8b82-5733-9de0-7a5181ac6994'), UUID('09a309fb-2ea5-59cf-845b-bf303b2b5f25'), UUID('d797dde9-515c-57bf-8737-196d6b9e9be4'), UUID('a8d01205-ac15-5fcb-b768-9a0a800dc458'), UUID('68369e90-4a8a-5391-b567-671cd0fb972b'), UUID('98355f77-39b9-5d2a-aaf9-7d93af767455'), UUID('5d5a0108-6f40-5ba0-bd55-21dc6ea4877c'), UUID('4a6f0a1e-54dd-5ebc-a6f4-cc3476e1d973'), UUID('8f599ad3-4b1c-58d4-be9f-8baa121927e3'), UUID('6259eb6d-8d9e-579d-bb2e-0cfbc7aea53b'), UUID('d09bb972-e5a1-568f-b5f1-5bcb8585574e'), UUID('fcae7220-2c23-5b8f-8aa8-2d561027ec6f'), UUID('dfad4a85-e5f2-5dc5-983b-b0996f07b235'), UUID('4f9dd321-0ded-56ef-bba8-d04af101458c'), UUID('2635d9be-bdbc-59ff-8b5a-9bfbb1484e09'), UUID('0dbad625-191f-5642-8e71-d0587c2d19ed'), UUID('2bc9c436-e735-59cd-83e4-fb90546d911f'), UUID('70a2ea93-d154-5868-8514-6a6beaeefa6b'), UUID('be8300b6-5efc-591b-afe2-5acbbb0c8520'), UUID('c8bd0a2d-f827-5969-a796-e79aec21b630'), UUID('2fa285dd-e9c8-5af9-99f7-e31c82bd1da8'), UUID('f162e8eb-aa0c-5e13-8904-054c35a1d17d'), UUID('07871315-8cd3-54c1-8a51-d08a60825f85'), UUID('7eb84f53-e5ea-5988-b53c-f71c6c15afe0'), UUID('03bdab55-1515-50c1-ad9c-09f6309efe81'), UUID('c2581567-8372-5aac-b28c-9416bf9d98fb'), UUID('e6670805-d989-577b-9bc8-d8e6cf3e8010'), UUID('e8b2de3b-a743-5f24-882c-7aca3516fc91'), UUID('4b36913c-53b9-55fa-952f-a024e4f6035f'), UUID('6eff4af6-d604-5734-9c3f-f0a82bf6b46d'), UUID('f0feb031-ae4f-5058-9292-bf372d87801a'), UUID('470e50ad-cb52-51b4-8671-d5411ccfb026'), UUID('ec69851d-4ec0-516e-9632-5e757dfb55e0'), UUID('2c3a96cc-6f51-5b5a-bd6a-b3d5e7f2bae5'), UUID('24ebd3d9-4f0b-5069-939c-72253e6844dd'), UUID('0a9166d2-0230-54bc-9356-8dfbcaace0f6'), UUID('29be68ba-d9b3-5185-8099-569981174bfe'), UUID('bdaf62aa-6ac4-5e4f-8407-d2ccf5f11814'), UUID('fae690bb-f93e-5c55-9381-936c1aebf430'), UUID('fd5f3ec5-4d0c-5b17-ba3f-c0da842d7e1d'), UUID('a700c8a9-b1a4-5b9d-8332-715883347a7d'), UUID('b99a2b00-248d-5f5d-ac75-78109d85f91e'), UUID('22135885-1c68-5656-b770-6e36265c1ae0'), UUID('638b0996-1983-5b9f-b2f4-39f50598ec8f'), UUID('7dbcbd26-9e0d-56c5-b376-02faf4529d2c'), UUID('07b77ce5-ef27-581e-9ff5-6ab6670d70f2'), UUID('99f5345e-1870-5057-b453-dfe5434d6840'), UUID('ff46432a-06e6-595d-87c0-3a50f015c660'), UUID('02ed9fc3-a404-5ecb-a06b-8cdd7a48605e'), UUID('f848e86c-ecdd-5f5c-b2d5-ebedb2edcec2'), UUID('5c32df1e-5b24-5203-ba67-75782233cf3c'), UUID('75d9ff99-1094-5fba-873e-eb031f638c33'), UUID('c0808118-2582-5b51-8699-02a214914498'), UUID('20eede88-f0af-599b-b125-98360af501eb'), UUID('439ba4d4-9dd6-50fb-8113-13e454470e5c'), UUID('d9e0fd0a-542c-5a3e-8a0e-7a497dfd30eb'), UUID('b34fb2bc-cce0-5720-8cca-2e32fdceefd4'), UUID('d4498113-3a49-5359-b156-2afcb2166882'), UUID('b891ac69-038b-5c47-8198-56a9e2660dbd'), UUID('69f7dcca-2ee0-5fee-8c18-0f459822509a'), UUID('b0eacd33-b5ef-5830-99dc-d0e0fde72155'), UUID('497a4814-9367-545f-a65f-3271ff751155'), UUID('ef62d501-e26f-57ab-8a8c-90e0e0834c80'), UUID('d8529c18-321d-5dfd-8f13-c0ee71293c29'), UUID('0021d45e-8898-5b4b-8319-979c2d971f9a'), UUID('8a2ceb6a-0417-58c0-852f-fa8d89c28f17'), UUID('1261da84-3d46-5a34-b1cd-0a34701c612d'), UUID('6cd07df6-45e6-51d7-a348-767509d5ca69'), UUID('c29da968-7a19-5bb9-a6e3-e512827a5c33'), UUID('43a896d7-5f5b-519a-8e7f-098c19824686'), UUID('47f8fcb7-5bb9-5af6-9569-053e815ca00d'), UUID('0b771eb0-32e9-5a03-81dc-2957e9a53004'), UUID('47ec0d18-cab1-58b0-b7e3-261d54d863cc'), UUID('ca5cd9aa-0d4f-5f69-8837-5b902eb75a83'), UUID('9dc8332e-76bc-5bd9-8ce7-f3ae83037f1c'), UUID('32b61a1d-7479-5764-be8a-f1eaf939afd1'), UUID('a4e5fffd-fa71-59a9-ac24-5aef2773e34f'), UUID('a4ebd4d0-0bf1-5e78-9e5b-6bbcf834c548'), UUID('33f07149-515f-5abe-9cb9-f8d71f00466b'), UUID('2e588459-7948-54bd-ad2f-11bf5143e74d'), UUID('8d77f2ac-fcef-5758-8e09-22f724594c6b'), UUID('2bdf34d3-dcd8-5f65-bfcc-ce9aa7c116b3'), UUID('8db46de9-2a4f-542e-8934-559e2f1b9cf7'), UUID('337209f6-e526-56b3-adf5-1d7800f353a3'), UUID('4748b70e-e475-5938-ae82-c0df45cd5a75'), UUID('0ddc8b35-b5d2-599c-823d-7c619b984c6a'), UUID('77644f91-b1c1-5103-b4d9-3dc9b38f8f1a'), UUID('ae3e1135-6aef-57e6-b5cd-1cec68c8ac37'), UUID('0d3e9afd-b076-53f5-bc52-b2ca0e4224b0'), UUID('f9e05f88-e760-5339-b54a-96eb16207ad5'), UUID('16ed6c0d-52b4-589d-9746-0ff8bce546a6'), UUID('24f5e81a-8c7f-566f-8c7d-6811c9d83e6e'), UUID('f6da6a36-1211-5ebc-9f8b-affa93d1903e'), UUID('0b0a0e0a-9951-5fc1-ab1c-2b4ef759040b'), UUID('76085cf7-f3a5-5246-8e06-2fd2925d38c9'), UUID('a1bb8a4e-279e-5375-9fc7-5fb7c4f23a61'), UUID('75b8caff-d5b4-547c-877d-9d975707d984'), UUID('b873e348-6a8d-5a91-b1fe-6ca0c07b7a0e'), UUID('144d033d-2fe8-5f00-902c-440cbfad043d'), UUID('446fde85-3822-503c-b2af-b332da4e15f7'), UUID('133d59f9-513c-5c53-8e9b-aabe673ec189'), UUID('cb39662f-de33-5dc9-8f1c-a37cd0f7d545'), UUID('8fa14ecd-66c7-522f-8fe8-ceeaddacc4c7'), UUID('e5146b49-2ace-59fe-9860-cf1190591487'), UUID('9a120327-2234-52b3-95f5-9e7868881ed6'), UUID('3f24d927-ae54-5e8c-a462-7fcf643d7ace'), UUID('f2ddcf2e-9d5d-54e8-bfcb-1a797c8f6e7c'), UUID('6a575f78-495f-523b-97ea-680cc5d82bd0'), UUID('39e95b59-4ed6-5abb-996c-679c9d07c1c3'), UUID('bfb51031-3025-5b15-ae7e-34e0f7ba885e'), UUID('7a6e6b66-78ba-5d9d-bb70-fcc16d3cbf61'), UUID('f550d579-8d0c-5cad-883f-8062d8ce332f'), UUID('db8497fc-67d6-5f8f-96ce-f55ab2a5db03'), UUID('fb66a7aa-67fb-5c9a-8f50-173a08f5ee97'), UUID('7c10c1b2-765b-53ea-8c6b-0d6052fabd4c'), UUID('dcf5fc87-131f-5f25-860d-aa705b325767'), UUID('09c8222d-5aef-5e1c-9aab-fae36bc25e95'), UUID('ee96ff1e-2ef3-5d82-af8d-a0b4acebc889'), UUID('40990b3f-b44e-5459-acf1-826d3f94d9b5'), UUID('d2ca804c-3a31-509c-a74f-298c8f9282ea'), UUID('c4cdc85d-bb56-5f53-94cf-ba71b0648746'), UUID('2b6ed812-6b78-522d-bea6-9ef4fe526f7a'), UUID('ac4b5ded-ad26-5ec4-8b00-2c05940ae43f'), UUID('fa7cea03-52f4-51a7-858c-efa6012f5781'), UUID('4b1513e4-3dba-5f57-8d47-16360aee3800'), UUID('53fa467e-c9c6-56b5-9348-d6577810f3e4'), UUID('827ad5e3-faa4-58ef-9cf0-f919aa8e33a4'), UUID('4c8d12f9-3b30-5a60-83e6-269c512511a5'), UUID('d8872b7f-41d8-5ee9-a9e2-eecdf8c1ac45'), UUID('44580b12-39e1-5cd4-8849-1713217cb201'), UUID('bb9b3564-47f9-51c6-b93f-50ec07d9ec01'), UUID('c8534a52-3621-5e13-9d5c-706c23390dc9'), UUID('3a115514-bc0e-541b-bdad-97007caffd9d'), UUID('541aa1e0-43c2-50c3-88e5-f8ef5c8f96f4'), UUID('b15b2a98-809c-5fa9-87ca-436eb20a257b'), UUID('25480c73-d694-59aa-9670-2e086326c5f2'), UUID('f4fcdb62-312a-5345-9c34-62f60026fdbe'), UUID('db424961-93fc-5ce6-a0ab-9dce9157c37a'), UUID('7f97ea8d-8611-599b-be57-4f277a9d2e45'), UUID('79141c24-8e4d-5582-a835-eed73e119e36'), UUID('78a64853-d02d-511f-972f-7d71b33dec57'), UUID('f5235e21-ea37-5d6a-9b0b-54a3723fba4b'), UUID('0748e6a3-042f-545b-92a9-69fd2465c218'), UUID('3ceb4d8f-f672-5041-b66b-03420d184152'), UUID('bf8df4e0-7fae-5ba2-aed8-a80367802c60'), UUID('455b79f7-929e-55bc-94a9-57a80b268145'), UUID('cd009571-c68b-5a12-9f97-d425d7242107'), UUID('3fb27ea7-c847-54b8-8cc4-4ad6d9446c44'), UUID('bc44dcc0-e5a5-52d7-a7d6-b8b4e2a6ba4d'), UUID('6eae51ce-3201-543f-bc9f-b84d1fd45c34'), UUID('ea032a34-5f7d-5511-8b96-e3013f268ae8'), UUID('04996ae5-2bf9-591d-bb74-e105aad179d8'), UUID('9504349b-15ab-55d7-a046-f3ea636b9de9'), UUID('0a268631-6aef-513b-8537-5ed76a3071ba'), UUID('d31ad658-7305-5efc-b11e-e124e757114c'), UUID('9a14cd4f-8acb-519b-a65e-9b87af63656b'), UUID('8fde1163-f81d-5077-bd18-8aed93ec3ecc'), UUID('db11e05a-7fe6-55f0-9955-ca3b20da5fff'), UUID('c19e88d8-85fb-5dde-ae18-b1df9c138c80'), UUID('7399e794-58b4-5a14-b8f3-b397226c7b3a'), UUID('84341396-9610-55a0-8099-d615ec83d862'), UUID('db7b1adc-711a-554c-8dcc-fd35df63e9e2'), UUID('30972946-57ae-5062-9133-164678dadc55'), UUID('ff299fb8-c5d5-5af3-a1ca-487a0cb88b77'), UUID('7440b5d5-24c8-5f59-aae6-8a8a6e872e27'), UUID('f7863e84-58ff-5c48-bc71-85c860495c57'), UUID('30f5c749-f13c-5150-861c-52b917c69f43'), UUID('888cdfec-9022-5a66-ac24-833e10f2943f'), UUID('f430d53c-d53f-57e7-9be0-28cd008bb25b'), UUID('89801a98-b6a7-5c34-a5fa-550bc8c21d74'), UUID('28beadee-74e7-5ef8-b8bd-ed8aa650b5e2'), UUID('fec6d085-cafb-583d-995d-2bfdba3665aa'), UUID('a9010f1c-d406-5b99-aa52-167940e5105b'), UUID('bed3a9da-be55-5262-be1e-420af632e985'), UUID('2633c4f1-16f2-5e43-bd72-3a2a356b3d1e'), UUID('15da2bd2-25a3-59c7-9cfd-129467de76a5'), UUID('dd0426e5-fa1c-5b3d-b912-5b340d23b84d'), UUID('f4713cae-e809-5af3-8b99-bffc7e176c07'), UUID('18aa292a-360a-528f-8843-137e9d68c026'), UUID('c6007a9f-2450-56ec-8a89-cee68d1d01f5'), UUID('9b3a6b3e-128b-5949-bf7d-e845e123e096'), UUID('d03adb74-edd3-51b7-b110-567686bd9089'), UUID('4c4a866d-e6e5-51c7-903e-37888b9aca9a'), UUID('0587bca7-c237-5d94-96f4-b8a7498d3289'), UUID('000fddf8-62c6-5fae-be20-00e132e3ddec'), UUID('2bc28127-c380-5db5-95e9-0183d059de62'), UUID('000ff9ad-0f69-52eb-bed2-c46e0f44018d'), UUID('fa0a3656-a70a-55b0-a625-b5370bcb4a08'), UUID('d54f8a52-8b98-549f-9b17-0871553400e8'), UUID('e10ba85f-5274-5485-90dd-70760ee674df'), UUID('e1ed254c-66be-5ecc-97ea-ca456b39ed20'), UUID('8eabd500-e55e-5c1f-a666-b93b78e60fed'), UUID('c7c4521d-bc21-596d-baf4-5f55627e312e'), UUID('d4fc21e4-a09b-56f6-8c88-6217b4d50d71'), UUID('2515affc-9495-5716-bd15-054633b656b7'), UUID('d5aab322-04e1-583a-9841-e485e2e392df'), UUID('b9ad1eee-f3b5-53ff-a892-45e50de9a102'), UUID('730e7f53-bd9b-5772-b3e9-fe51faef1229'), UUID('fc22842c-9396-5ce1-9eed-05667ca11bde'), UUID('b5d9aa7d-7833-5a3a-959f-8d634ed5dab5'), UUID('af070a4c-3b2a-52b7-83ff-d6372cba9077'), UUID('1c0a9407-42b0-5932-9879-299556694c2d'), UUID('47c0a3f1-71ee-58a6-a16b-5b47d2af93d5'), UUID('759a74cd-5e73-5124-9c3a-9ec67a2d5277'), UUID('43a07eef-ffbd-5c4e-84bc-e5b7b9b841db'), UUID('1a65bc7c-2b1d-5232-9f74-b5f314c4adc4'), UUID('2400f71c-02bb-5bc1-bd91-3994677705c4'), UUID('3118d8f8-b396-550f-b57f-ab168849530d'), UUID('95e9b0eb-abbf-5b1c-a526-dd11fb85bd62'), UUID('c444c70d-b242-57b0-b477-4ad72e39ec2d'), UUID('9bc7fa78-e3f7-5ddb-b9bd-317fa170ee9b'), UUID('85927f71-462d-503e-af28-a59ef78f6a71'), UUID('42278c65-164f-51a3-b93c-293b7b33978e'), UUID('696c6d39-24b6-54c9-919d-223d14c05e3f'), UUID('0ba08b12-659c-51eb-80b8-b82c3b66d3ad'), UUID('1646dce6-faf0-5d9b-8b19-265c741a49c9'), UUID('86045464-d43d-5b3d-886e-8941d6a5ab77'), UUID('a69f8b11-d1d4-5b3f-a26b-086234b0cdf3'), UUID('0fbd2679-7a31-5335-afc8-1419ae3aa2cb'), UUID('48081685-225a-50eb-bdb5-69f07976d65e'), UUID('b5cb149f-ad8a-57b2-a7f7-9147c58b1747'), UUID('0ab1ef3e-bfc6-5c6a-8296-db0e35328f79'), UUID('c4c0b877-587e-510c-8158-387636a19771'), UUID('a0d5f606-8984-5ea3-b0dd-0c0edc1aacca'), UUID('a503a20a-6991-584d-943c-6248eb3d0cad'), UUID('3b8e8d83-1b20-576b-adab-751627cbce22'), UUID('7d99a981-afb4-52a2-b414-3eae407c5ec9'), UUID('ed006b91-abab-5b73-834b-eff5989cdf5d'), UUID('22c87e90-8fd8-58ee-8b54-c711b0c29203'), UUID('82a47644-f9db-50b1-80e1-5329b23e780a'), UUID('a78e09ca-26a2-52d8-9193-5a779dae9ea4'), UUID('b18efcec-5aef-5364-9c2a-a25951f716cb'), UUID('a02bf935-671f-5f76-b92b-49c5dd364416'), UUID('721b3412-7ea9-5ff9-9038-fb7d344a2a5d'), UUID('2a537fc0-96ac-58ab-9af7-fb973cf464c1'), UUID('024c9e16-6802-500e-9f8e-f295cb548fcf'), UUID('315286d1-248a-55b4-afcb-03eb2cce6b6e'), UUID('781003ee-ce96-5c09-9bc5-333dd8e27c95'), UUID('4cda4660-04cc-50f4-a07b-ee079ab71b37'), UUID('91896f92-494f-5430-98dc-1c24db82878c'), UUID('78cc94bc-7080-5507-be66-6cdd54848258'), UUID('c549c5aa-5c05-5b3a-975f-9d7888205ce7'), UUID('8d6d79c4-ee52-555e-a520-ba00ab307edf'), UUID('dc7e0205-b187-568b-a569-c4cb8b3b3d18'), UUID('bb7b9b06-a71b-5f1c-9170-4cd049251233'), UUID('77ff73e4-8eb0-5a01-87cb-05be05eac188'), UUID('edf3a9aa-2386-571b-956d-75bef92715a7'), UUID('2cfe5ab4-28ea-5375-ab3a-227ba85b5807'), UUID('ab16cb23-f010-5de7-88d8-765f3dfe28a6'), UUID('e7853d0d-1c3c-592c-a1dc-6efe4d66d604'), UUID('df08951d-30e3-5dfb-bed7-66f00fa94aaa'), UUID('4020658e-a10a-58de-bece-d6aef4bed817'), UUID('f7b89702-50c6-5f8c-b1bf-f7c472e6249e'), UUID('3f94ea12-8e07-555a-849d-c21bd5e79aa0'), UUID('feb6aebe-d6ed-564d-9ef9-525de909738b'), UUID('66ca0166-6195-5d39-8a09-e9c71ad19fe9'), UUID('6fa38ba9-e53a-56d0-a28f-1fc4a27eaa61'), UUID('40356009-e85f-5bcd-9206-6ee690fc43c8'), UUID('3ba1665c-2cd1-5fa0-9cd3-66396aeecfba'), UUID('98e867e4-50d1-5c57-af99-e780e816bfe3'), UUID('a56e6513-5fc0-5be2-ba9b-7053767ed332'), UUID('7e822d8a-ce6e-58a4-a15f-4342ee10c4e7'), UUID('d34f9eb4-d5f0-5fbd-8a9f-294e5aa072e4'), UUID('daddcdd1-98c0-5dbb-83af-bfc6841b1ca1'), UUID('9816dd91-ee50-538e-9afe-9a5d166bd5b4'), UUID('9c9bfab4-66b4-5ff9-af67-4a81a23c3f3f'), UUID('377be9b9-5152-52d6-be34-a23eb3f5be80'), UUID('0c6171ae-a764-53a5-b52e-df60438123ef'), UUID('4cf6e766-f1fc-5674-a1dc-c97a3e1d31ce'), UUID('24aa41e5-43a8-5cd2-b395-3b06ee533eff'), UUID('860b718b-07dd-5144-ae3f-a6fc4f2f58f9'), UUID('1f452052-1b68-5a18-84b0-82fce67c0072'), UUID('9b38f408-407d-518c-95d2-4dbd68577c69'), UUID('dfaa7c20-129f-5b48-a66a-e4047dc09ed0'), UUID('46495b07-161f-5ce3-a7b9-97d32de6019e'), UUID('1aeb3b31-c8cb-5916-96b7-a2b5021350aa'), UUID('9016595b-64f7-5259-a41d-ca9b9c53a2e7'), UUID('d974428c-354a-5f22-947d-a28cc171f8b5'), UUID('ce61b81d-d108-5b44-83e1-447118f43a14'), UUID('86cfef85-095d-505c-a179-7b95110af0ee'), UUID('c1117e59-5f1f-59b7-a841-4f2e25ecc3cf'), UUID('5391eb17-51ae-5b9b-868c-13bc0ce34ec7'), UUID('827e965f-8430-5311-bd5e-42caf33b31a9'), UUID('9836e0db-9026-58ea-bf9c-010f0dba1070'), UUID('c88b5253-13a0-5b0c-b765-38129af12767'), UUID('b2ebb6c2-b0f9-5907-b6a8-eb236875a916'), UUID('52a4ec72-e414-5e9e-a297-770b26ec5a8c'), UUID('ec89a947-7584-5dd9-a982-7dbd49706e10'), UUID('9ebcc975-5d2f-5d63-853b-b594f58cc2c9'), UUID('a09af727-eaeb-5876-8824-0691320d9b93'), UUID('c0160c98-a9ef-593f-bec0-541cd23b0ad3')], elapsed_seconds=12.552615880966187, errors={}, uuids={0: UUID('f1819cbc-5a70-52be-adf9-4afcff2c3195'), 1: UUID('a8a00cb0-bee8-5bde-b7d1-245939c8778a'), 2: UUID('29fc6b7f-71d7-5671-b86b-42062b09e042'), 3: UUID('7bbf8fca-f31b-5a9c-b7fe-122d2d3b8f9a'), 4: UUID('5bf5514d-a7a1-519f-aa05-2e8bb815d1f5'), 5: UUID('cdd58b59-88d1-50e9-9efa-06002150a205'), 6: UUID('8520461b-2d60-590a-938c-59bc65ff4d3c'), 7: UUID('f06f25c4-f9bd-5843-8af2-6e4fb6d43516'), 8: UUID('d174b6d2-609d-5e68-b6a8-2d520a9bcfda'), 9: UUID('db5d5a31-6728-566f-90a3-6e3bc42113eb'), 10: UUID('250914c3-a317-5fd1-accd-5888bf109fa2'), 11: UUID('6139dff0-b18f-5188-a888-85ddc4851482'), 12: UUID('06065ece-2e17-5a82-a8d4-ae4245957773'), 13: UUID('c1167274-21ca-570a-9e55-cc4fab3c1513'), 14: UUID('53986f4f-6283-5470-9571-1c8a27a034ad'), 15: UUID('1d5ed28a-2bba-5d73-a8e5-324d3079265b'), 16: UUID('ab841cc2-ecc2-50ab-aa67-e77d90f51601'), 17: UUID('95bbf75c-7bc7-5b20-87af-8c91b9a1a94f'), 18: UUID('dab9f9fa-8c4f-5d93-baae-e3ea4062867d'), 19: UUID('bf64ea39-b55d-5962-8dd6-c51c09416e65'), 20: UUID('df1dece0-d6b5-55fd-abe8-3c3be13f6e24'), 21: UUID('447ec039-390b-5275-be92-ca787ff330e6'), 22: UUID('4abe4c39-e663-5a0f-aab7-ee826d643534'), 23: UUID('23379ead-c296-5684-bb30-b38c43960d54'), 24: UUID('34697feb-9db0-5a69-97f4-1adbb5615e0b'), 25: UUID('9988173e-415d-5b29-9ef5-81da29155ab0'), 26: UUID('318cf94d-5c4e-5cab-9a40-07b2a314bb48'), 27: UUID('9a9bacba-ae01-5ccc-ba6e-aef8d556bbaf'), 28: UUID('e2c1768c-d9b1-5577-8b18-950b1d1e86c5'), 29: UUID('10c67de9-4680-5e26-8827-1f51fad0a162'), 30: UUID('e0568284-3d8b-5595-a358-5f0bb08f1e42'), 31: UUID('9b15f047-e576-561a-a97a-fe9182b22531'), 32: UUID('1bf9a49e-beb2-51b8-a928-f73e2a7ec98d'), 33: UUID('b71126ff-8c44-521c-a990-e7ec40304b07'), 34: UUID('d9eca33e-0ee2-50b5-ab49-db18e0e59cd8'), 35: UUID('9f0ec9ca-f18e-5e92-a6f6-e262e3b2aa33'), 36: UUID('0b57843b-bf7e-5947-a33b-1902866f5755'), 37: UUID('68834aca-57b4-559b-83e3-a35bd5c61713'), 38: UUID('20fef414-3195-5a84-b5b7-86f17b81bb07'), 39: UUID('50bb64f5-2166-513d-9d86-9d6ab57831a6'), 40: UUID('a904a0db-60d9-5e33-9e0f-a3aa7a05afc4'), 41: UUID('d4f924f9-239a-55c9-8212-1cbb45d9eb47'), 42: UUID('8aac6e99-b235-565a-9433-8ef88b29b497'), 43: UUID('b3342faa-d851-52b4-b7c5-e1eee4892e1d'), 44: UUID('678d9b42-2f6a-51ae-9e4f-7f20e5296249'), 45: UUID('185550dd-23f7-5207-872b-d4ea62d421d0'), 46: UUID('e551ae9f-cc48-57f3-84bb-441668a44e7a'), 47: UUID('6c8c0e3e-829e-5f54-b54b-fce98d2b3eae'), 48: UUID('2f3d8b7b-932a-546e-8453-67f96d002783'), 49: UUID('ef9656d0-2964-5b5d-905d-8eea9d853324'), 50: UUID('15defc90-e631-5463-8c03-56536e02b1f8'), 51: UUID('1d10e94a-2340-58cf-9dc3-6badc3723a26'), 52: UUID('2fd51bda-4b7b-529d-a556-b2d4c5c7fa63'), 53: UUID('0f8bda0f-2db0-5374-87bc-00709e5739f2'), 54: UUID('caf25433-5d32-52bd-bb1b-b3a279144ece'), 55: UUID('44a82c87-186f-5c34-9a39-30ff134d6251'), 56: UUID('fe7bcc00-379b-5271-8bb7-2b8a324688b3'), 57: UUID('ecec2dac-9797-545a-93f2-05bb8eabbfc9'), 58: UUID('025ffcbe-ec25-5c24-b84b-50eaad30602a'), 59: UUID('fbaef399-d459-52c0-99e7-e0577b9712f6'), 60: UUID('f94463f6-dc3f-5e12-828a-3940d34c4328'), 61: UUID('e4af0cb0-b588-56e9-af6f-cd6c49d305ef'), 62: UUID('a6ba4590-9632-522e-8f8e-8ae7876c1294'), 63: UUID('0942adac-35b6-5383-8d08-8f65f9106fca'), 64: UUID('59234254-94fa-57cd-994b-14ddeccca0c8'), 65: UUID('e7f11a8b-635b-5659-8bdc-03d2803546e0'), 66: UUID('6018d0ba-3f70-57bf-905e-c5adf11cf7aa'), 67: UUID('9cdc81b5-f066-52f8-894f-34970eae3fd6'), 68: UUID('5e45f147-aa41-55f9-9bd8-2d132a317f61'), 69: UUID('b0f812e5-a4a2-5d08-87e7-c14373fd8567'), 70: UUID('422fdaeb-bd1f-5251-b4a5-a344cfa9b205'), 71: UUID('25eb3ede-0f9f-5a00-a25d-e538fc8b2796'), 72: UUID('0686455c-3f17-563e-a425-4fa42af45869'), 73: UUID('4392e915-62b9-5974-9806-d8ed4930ed3b'), 74: UUID('dd7dc42d-7869-56f1-a7cd-143d327abaac'), 75: UUID('313463dc-b38a-54fe-927d-19bc6004cd23'), 76: UUID('8a2cc68e-6973-517f-9ad1-50da13673c00'), 77: UUID('ff8653e9-1cf5-5156-b0e7-acf015d8991d'), 78: UUID('252eecfe-0942-5bf7-8fc8-5e25453e1f4b'), 79: UUID('5f341bdf-8f54-546f-ac2b-e7d6d60f8c30'), 80: UUID('a03f9a66-87e2-539f-a8c9-0ae80016eea5'), 81: UUID('c24762c6-4923-5cfd-9959-e6619d383054'), 82: UUID('94ac2d2a-370e-5b8a-b0f0-366d99e91f2b'), 83: UUID('7f64011c-0638-5b6b-bb70-ca78e8baadfc'), 84: UUID('ec6cdd69-04f3-56b4-be80-3e334876cbe1'), 85: UUID('6d5a4f52-1512-5191-b384-9a9bae646de7'), 86: UUID('e096c666-e57a-512e-a2eb-aaa94c228492'), 87: UUID('d7b8a79e-b21e-5e16-b7f3-4221f7eaccb1'), 88: UUID('2eda00ac-be1b-5338-ba77-4515adca5abf'), 89: UUID('82934303-f892-5486-a56c-5a7e576f98b5'), 90: UUID('1e4e8d4b-30a7-5e71-84e6-6edcd556bd9e'), 91: UUID('9cf2bbfa-504b-5a09-8f21-fe2ff6fefef7'), 92: UUID('bebc571c-aefd-5644-9e6e-b4c9c443533f'), 93: UUID('86df3372-84ec-5e6b-ba5d-a16c7973bd4a'), 94: UUID('640e774f-640d-5bdb-8503-344c9fa967d9'), 95: UUID('0916490d-f8aa-5581-9017-cafb5f529363'), 96: UUID('7c1dbb82-013e-54e0-96f5-4364a44d8825'), 97: UUID('eea1acea-3119-5dea-81b6-dce8152af0d8'), 98: UUID('7f07500a-c0d0-549b-98f0-a5345732b122'), 99: UUID('6abb6b90-3e8a-5188-b34c-3ea093c77dd3'), 100: UUID('11989ad6-f117-53c1-b602-3b193e76b3f1'), 101: UUID('c29d30b7-5042-5fca-ba4a-8affd7df932f'), 102: UUID('f1f560aa-43b2-508b-8171-932ed8c1210f'), 103: UUID('95cb32d9-d2fc-5ccb-b831-e920d8586509'), 104: UUID('ce0204b2-fc99-57e6-892c-99dd1bdc47d0'), 105: UUID('15d469fe-5cad-5642-8cf8-83eb3b95aee9'), 106: UUID('b249ea4e-cb90-58cb-a5d1-ff49bd4e535d'), 107: UUID('7cbcbc73-925d-576c-aa59-d2886cca7740'), 108: UUID('6235f003-fdf6-58c3-9b0d-05a9c0a8866f'), 109: UUID('8c573f90-5da3-5ba3-9c78-6f6d6eb1dd60'), 110: UUID('020c7586-0069-5429-aedc-2833f4a7359e'), 111: UUID('6be514a7-d4e0-5fe0-a454-c026e4495bef'), 112: UUID('baa5ecd8-1d9b-5c8e-b2e4-444fbafc793c'), 113: UUID('20efde40-b58d-5981-a7fb-11cc79dfee6c'), 114: UUID('3f642493-62ec-51ee-b97f-589db3e7614a'), 115: UUID('624a505d-b63d-52ff-a6b6-94b0cff8f82a'), 116: UUID('766152b5-9869-598b-a38f-ff32e95ba0bd'), 117: UUID('a0fd317c-69f3-5858-aa86-a6de0393eb88'), 118: UUID('271a492c-2993-552d-99d8-d8e9dd20a87f'), 119: UUID('d29d3fc0-61d5-51b6-8356-3411bbcfbfa3'), 120: UUID('b4640387-4c69-5966-abb3-5708d126d2cc'), 121: UUID('078523e3-dc85-56db-adb7-b3366e7b35d1'), 122: UUID('a66d47b0-ea7f-5f07-9a90-7e03cf1ab70e'), 123: UUID('235b48b4-36f9-5628-a933-18a3d8793829'), 124: UUID('03e7f545-bfbe-595c-99ac-d110e706e80b'), 125: UUID('ab90bbf4-54b3-59fb-95c0-132d988fd342'), 126: UUID('76d1d8ed-59b3-5434-9336-0fac1ae49d03'), 127: UUID('244706a6-b1a2-5ca0-bb9f-a36d169ea781'), 128: UUID('1bf94b65-d4b8-55d8-abbd-d20a0219c429'), 129: UUID('828a188c-0890-5551-9bfd-500b9804736d'), 130: UUID('ba430b95-64d8-574b-8b8e-26a4f066149b'), 131: UUID('043c3a04-ab4f-529e-a71d-87d62df2ffdb'), 132: UUID('1d895696-9771-5894-8d61-bd9ba780e870'), 133: UUID('b7c1e433-6cc4-5522-bd85-926046bfa9e3'), 134: UUID('5a16d200-8bfd-5875-bf3e-d145d16e7270'), 135: UUID('d6e214fa-f885-55f0-b40b-b02043566b4c'), 136: UUID('7769fa60-0295-5952-9ed1-01f0b41dc2ff'), 137: UUID('9a041a1e-674a-5313-a3d7-523539f6af70'), 138: UUID('3daa1267-2201-58ff-b402-91105dc16910'), 139: UUID('7ab33860-c6f8-5d60-bcde-7d59125272ce'), 140: UUID('3417c33d-5455-55c9-9c77-93334792df62'), 141: UUID('a9058b50-6017-5e01-81df-bb15518fb685'), 142: UUID('1e3cc01d-4d31-51d0-b9e1-621b12f9b1bd'), 143: UUID('b7cd6d48-608c-5716-8627-a138f84563ea'), 144: UUID('12eeb8c7-0207-5b08-9b7d-7b01d2de9ce5'), 145: UUID('b7478a4d-6fbd-5a17-87bf-102425ef910f'), 146: UUID('ff76dab6-daa1-5336-b442-7c90fbd6bc73'), 147: UUID('90e80fe4-b5a0-538b-9b1d-dd7589a08083'), 148: UUID('73512869-66e8-53ce-a006-15bdc3514dd9'), 149: UUID('c092354e-27b2-56a9-a0f1-a43b126f019e'), 150: UUID('09908f22-e6a8-5be9-9b31-ffdb9349dfe6'), 151: UUID('e39ba423-3302-5382-9c2e-8cd519a78ed4'), 152: UUID('87c8007a-31ea-5f08-ae75-db8e49f5429b'), 153: UUID('c8c813ca-d5dc-53a2-84f1-c4ed2637880f'), 154: UUID('f9347371-99b4-501d-9fa3-58b3f508bf15'), 155: UUID('474c1595-cb8c-56d3-adeb-010b4ce3c6b7'), 156: UUID('352a73b6-490a-50ad-afdc-124a421b2c8e'), 157: UUID('6ad4288c-5672-5598-be23-e15ea3fb7ca9'), 158: UUID('338f1060-243f-5718-8bdf-051e05838194'), 159: UUID('9583e2f5-79ee-5ca9-8ca1-3d63493513b2'), 160: UUID('72a57e23-5b7c-5b5b-bbe4-2ff34343344e'), 161: UUID('fcc9aeb9-a4e8-519f-88d4-bd7dfee5d773'), 162: UUID('b527fa71-d3a1-508e-966f-89d00404b0d4'), 163: UUID('023baae7-28c2-55dd-be0f-bef59f88645b'), 164: UUID('22da1fff-2c65-5b52-8de5-dbf792c41b94'), 165: UUID('3bc96651-9710-5790-9236-d19401076f55'), 166: UUID('de0c8187-04c9-5bc2-9d9d-abf16f8d51a8'), 167: UUID('07dbdb94-b575-5a8e-8fca-7e75ddffb797'), 168: UUID('4253a79d-cea8-518f-b460-b2fd6ce82b9e'), 169: UUID('0a68091a-1e56-5cf0-958c-62652a018886'), 170: UUID('04adb0a4-939c-555f-898e-fe277aec7013'), 171: UUID('9b064d26-88ab-5556-958c-73f8b04dcedd'), 172: UUID('9b0a8a16-282a-59ea-8fba-48dc73ccf655'), 173: UUID('d0a4a838-93c7-5e97-b3d2-aa220f10895a'), 174: UUID('bb7a9dfa-4310-5851-ba0e-e36717baef52'), 175: UUID('b87bb27f-9a3f-5d99-a52b-82d3ebf48cbe'), 176: UUID('dc9ad600-45aa-52d6-9d33-f99b3a1ac6e5'), 177: UUID('e957e51f-ac8d-525d-b5f8-21475d4e4d7e'), 178: UUID('b5478a3b-aa3b-5d29-91cd-888a4098a752'), 179: UUID('a1216d69-6039-59ac-a735-46c70603b3b9'), 180: UUID('df9a976e-f1fd-57a9-af0b-bcbc2e98a45a'), 181: UUID('c016556b-9bc9-50cb-8859-fa814e623dfe'), 182: UUID('93131d4a-2d66-5127-9cb9-1b092ffb84f0'), 183: UUID('0526e6ac-6509-520b-8c75-b8d66ce8e4ec'), 184: UUID('114caad0-903d-5e97-9763-a555c096ccf7'), 185: UUID('dfe59a72-3775-5c8d-8bd4-67b45f46144b'), 186: UUID('0a5e4fdf-7bd6-5eef-98de-daa4c7ad20a7'), 187: UUID('850b2185-d576-5db0-9ec6-05efcb1f058c'), 188: UUID('7ef860da-d2f1-593f-859d-0bfbe2196351'), 189: UUID('7e7eab6d-36fc-591a-8f3e-ee5af2d00059'), 190: UUID('c3e6dc37-d2fb-5e22-b602-f79af8dcfb9a'), 191: UUID('22df2162-db34-519f-9aaa-e02049862ff7'), 192: UUID('c18f6a32-a5d0-5e1b-b44b-05a19ae928e4'), 193: UUID('c934faca-5168-5099-a3f6-ad96a9ca4ffa'), 194: UUID('a53c2ab5-5457-57af-a731-e263725008c6'), 195: UUID('3e127f1b-0cf0-510c-9743-6b3e60fde577'), 196: UUID('4b8488db-011d-50b1-a2cd-1054315a5fe7'), 197: UUID('519b9a88-be84-5a1d-a477-ce0c1b53e948'), 198: UUID('6069ca4f-9360-5934-96a7-e0a4dae544d8'), 199: UUID('326c36fb-dc3c-5fb6-b933-9d9362b0e3a4'), 200: UUID('f30f6050-7fb0-5f78-b5ea-20e25c3a02d8'), 201: UUID('4f72e2b9-6b9b-52e1-b767-32fb7049e7ab'), 202: UUID('5bb86ad6-edfc-531f-9ffa-cd30a317e31f'), 203: UUID('1ba0e12f-590f-5466-8a18-7f37a9c44c48'), 204: UUID('445e3292-4776-5f39-a8ee-aab63e8d169b'), 205: UUID('50abc170-458e-5f5e-b53d-57332e08fe2d'), 206: UUID('7e7d3a9b-4436-594c-99a8-a8344332f191'), 207: UUID('bd81f7ae-8864-5d31-976e-400bb84e3ef8'), 208: UUID('b855be08-5d87-51c3-86fc-088e27d478f0'), 209: UUID('8c44148e-9b5a-5ef8-b71e-4f80f7c4a456'), 210: UUID('c11ec51e-a393-5a1e-8d92-79c1b4fa9621'), 211: UUID('ea40d34a-efce-5553-8f7c-76a7e0fd809a'), 212: UUID('27ed367a-817a-56cf-a325-4a8e90c33d3c'), 213: UUID('8c69b92a-a0d1-5658-bd9d-06e1ded5c7c4'), 214: UUID('480bb80b-1b19-5ad8-a30a-57d3d82d050d'), 215: UUID('e516730c-4205-53b6-bce6-55e8d1508482'), 216: UUID('652e9c8d-3456-594c-be04-479d69182c41'), 217: UUID('9c95c56e-39d2-54b8-b1ad-cb9d149893bf'), 218: UUID('3545403c-8a97-5117-a5b4-b0878013e32f'), 219: UUID('05747b08-d44c-5a94-a490-ff6fb3858e18'), 220: UUID('e37d46db-4a25-5378-a9f2-375a2408182c'), 221: UUID('e5d3c9fc-9a0e-54d2-b609-affba6cddf51'), 222: UUID('04e1044d-96d6-5179-bfcf-b581d50157e5'), 223: UUID('ee552f79-3d84-5182-b568-eb0c6f83a8a7'), 224: UUID('fea5d0ac-f39c-5de1-b4e5-d4ec8452886d'), 225: UUID('26089539-005f-5587-9830-aba8e3e1ebff'), 226: UUID('2363567c-2eff-50b9-bd3f-59fb443a9aab'), 227: UUID('6f3d14e0-c3e7-5f23-b0f8-d8d629aa7ac1'), 228: UUID('eebb49d3-0981-5e07-9b88-3dd1c1b88eeb'), 229: UUID('8abcb7f2-a343-5318-bc92-3e0c448106b2'), 230: UUID('bfae43c1-9f59-591f-8ee9-d931ae798d57'), 231: UUID('8f32a4b8-e55a-5a3b-89f6-537260e95884'), 232: UUID('eaacc610-da19-5ab1-9a99-f4c9e093906f'), 233: UUID('92eddec8-7663-56c0-9837-b065fdacfe60'), 234: UUID('94542185-debf-5e73-9c82-093a14a13d82'), 235: UUID('63356069-c112-55d7-a753-06900dfbfaae'), 236: UUID('959e419b-d373-5aeb-adfa-d1426a0f2880'), 237: UUID('20ec91a7-680b-5495-8780-b94c58a42579'), 238: UUID('73069437-b842-509b-ab04-3e7591c49053'), 239: UUID('c295ba95-d9bc-5e56-82c8-aeadf4d8b818'), 240: UUID('cdf21b3c-53c7-5983-9e29-dfe0ae329b73'), 241: UUID('c517b38f-b319-55a1-b1cf-e46808caca73'), 242: UUID('f8078ef6-04f7-55b4-b6d2-a5d6b36a2878'), 243: UUID('79644f5b-db93-5c0d-88c1-b8dec5ed3e42'), 244: UUID('386bd520-d765-572c-80bb-1ac4cc53ae74'), 245: UUID('218c7c8c-e662-55ef-a40b-ae35a160f933'), 246: UUID('dae2cc80-05d3-5aad-af4f-11860d21cf0a'), 247: UUID('777c328d-1046-53ae-b446-31bb5d1a04d1'), 248: UUID('7f184da7-c259-5e23-934a-cfdb5cc1c36c'), 249: UUID('bacab1a3-766d-5e87-b00f-6e07c3de93d9'), 250: UUID('174edb83-6705-5ecb-b2f3-3592c4b3bc66'), 251: UUID('1760d924-d1aa-5d50-be6c-e7290da0eb94'), 252: UUID('1485b0f8-22f6-5fa8-9f72-cf9a9edfec3b'), 253: UUID('98693338-1730-5594-9b0e-823c1887f992'), 254: UUID('311b30f8-1dcf-51ab-9216-ddf6d8b4edda'), 255: UUID('114c3992-fe81-570d-a68a-4ff7ee401ed6'), 256: UUID('683867e2-fc3b-527d-b7ba-7d70e45d8264'), 257: UUID('36de8f46-f64e-547f-aa38-6a1492001af9'), 258: UUID('c01c0526-8c66-54f2-bdc1-57c1df0797f4'), 259: UUID('0177aa1e-9d71-559c-ade3-a1c14193a340'), 260: UUID('1a58da73-4b1f-5898-8452-6c91049e6b39'), 261: UUID('ced4f849-3cf7-5213-b3d3-650d149fba16'), 262: UUID('e054a947-a879-5e6f-8743-f12738afbaf6'), 263: UUID('05e9bd4c-f978-5f17-8655-c7f553cc3558'), 264: UUID('a48d8ba9-43cb-5ba2-9dc4-3b5decdae485'), 265: UUID('2d3d6d76-24c8-52bf-84ea-303a80c88693'), 266: UUID('f3f19c50-db95-561a-9010-96b8f8d711a0'), 267: UUID('3edd1e9e-48b9-596f-b02c-b673d00ec725'), 268: UUID('856ee4ba-d060-5878-94a3-a7197642aa55'), 269: UUID('f7e67002-113c-5e6e-95af-f4a1756ccb47'), 270: UUID('322bc9a1-4846-5c62-a91d-fed0b9e6fedd'), 271: UUID('0d594255-92dd-5c11-a9ee-c8a3e80ee56e'), 272: UUID('b8280b1b-c698-5a72-904d-76eb4006f0e4'), 273: UUID('e01d5609-2f11-5a80-a071-2b59777462dd'), 274: UUID('c04b0527-4caa-5f4e-835e-2bc88c4da56d'), 275: UUID('7b6d2228-a3d0-52f8-9247-f15b973ef935'), 276: UUID('d29e27a5-2e3e-551f-93bc-db3a85f5550c'), 277: UUID('bc82b1a7-c59f-5c1d-89a4-96518864851d'), 278: UUID('3b994e0c-8491-526b-8c80-2ff1b3254861'), 279: UUID('6d040d82-e20b-5463-8f91-948aaf6f8e76'), 280: UUID('4415705a-5b80-5bf4-96b1-5240a9105a04'), 281: UUID('5c2f1b97-1225-5e53-8b77-8da8c3792859'), 282: UUID('227764c5-3f5f-5c7e-80d5-77708f5ceebe'), 283: UUID('5727845f-898e-5a8e-ae6e-0a73e7f0fe11'), 284: UUID('697cbb39-9088-56a1-a2da-ac50a7b0ceb6'), 285: UUID('e66bb141-3456-5511-afb8-0e51cfbf7ad1'), 286: UUID('763df5ee-3d67-5b10-9bce-e3bf4491d83e'), 287: UUID('1e4cc2be-5415-5b61-959b-1b38fc3d0421'), 288: UUID('3076ff38-0f49-50df-a593-a07488a6968f'), 289: UUID('7b8a7dec-97de-5971-be57-3bd26d9d5d58'), 290: UUID('993ebad1-f0bd-5a71-a82e-2434a07abc5c'), 291: UUID('0f7d9c2b-b474-5a00-8544-ae4a3f34d1d5'), 292: UUID('96cf564d-a97c-55f0-9a81-5fad292aad62'), 293: UUID('7593c792-6ac9-5a2a-a1fb-42678161f45b'), 294: UUID('2fa15b78-0bd6-5ec3-ba11-1b7199443382'), 295: UUID('b8a9d50a-2c2f-5023-8346-63cfd792c575'), 296: UUID('b9b97ff8-296a-5313-8dfc-c391299fc21a'), 297: UUID('c2e537d8-d569-5f52-9dc9-2829934544d4'), 298: UUID('09d8479f-17b2-599f-a0a9-5e1a05005065'), 299: UUID('90d997cf-8afc-516b-b56d-8b85106c10ef'), 300: UUID('78ca4aa3-9889-54dc-8cf7-413a6fc43516'), 301: UUID('d1279fbe-727d-5476-bb1d-007dd7ee57dd'), 302: UUID('dfe1247c-a869-52a7-87c5-e2f087672706'), 303: UUID('f9286f54-04d5-5b2e-9536-3836c7dad86a'), 304: UUID('9deac387-3f1c-57a0-ae2a-548d206bd0f0'), 305: UUID('1ead16e4-83d6-5aba-ac74-68bf7889120d'), 306: UUID('fd429950-f8c1-5364-a479-04066a9f7956'), 307: UUID('c83d1b5d-ff07-5f53-8ac7-9c95015f147f'), 308: UUID('68c261fb-7650-5ec2-abd6-8b1c064659bd'), 309: UUID('9f632904-146b-5798-950c-e2ff8f980f3d'), 310: UUID('ce8d467b-4144-5de3-8e7a-2d885427f1aa'), 311: UUID('7f2f4b15-efa9-500b-aa6c-94b3a9cb1749'), 312: UUID('eecae5f8-7de5-59ae-8ade-733d20c584fe'), 313: UUID('322e106c-5762-555f-b829-a7df9fcca31b'), 314: UUID('976507ad-e584-5aa4-b5d5-f7abebf828aa'), 315: UUID('5c3591e6-86bd-5dcf-9a7a-ec9febf98b51'), 316: UUID('0a192287-64d1-5289-a6df-540b043720e2'), 317: UUID('c6374cfc-b67f-5375-acc6-60b35ad6e9e7'), 318: UUID('60137d5e-fa99-5caa-a284-9b7d5e1b5ded'), 319: UUID('17a1af44-53e7-58bc-a14a-3c5d6bf99a14'), 320: UUID('de4a23ef-5d65-523c-9aaf-64de03d74437'), 321: UUID('6e9dd002-5e14-59d3-b61d-ecccbad09dd2'), 322: UUID('d16033a3-63c8-57ab-8d16-36038d8ad157'), 323: UUID('418de4cc-2738-5c1a-87d5-a13ef9eaa8f8'), 324: UUID('04a00557-40d4-5012-8ad3-5d4439b1edef'), 325: UUID('4a121610-6c20-54fb-b573-afd3b5380c09'), 326: UUID('9b5c1bc1-97f5-50f8-ad46-5d90246646c6'), 327: UUID('d8a64eeb-6431-59fa-a09c-78bb0f6d03ec'), 328: UUID('788ce01a-9be4-5e17-a75e-e7562c8b240a'), 329: UUID('5ce24e59-6c36-5db6-9ae6-b925bf0f727e'), 330: UUID('ba37e3c6-5b89-58cc-98f1-15ccde2310c4'), 331: UUID('a533b689-7944-538f-9181-ca6a800c2604'), 332: UUID('6f41e84d-f25e-57c7-a842-ac1a42f02cde'), 333: UUID('41631166-3685-595c-a61f-debbcd36a62d'), 334: UUID('51ac205f-5b94-5ea7-a78b-8cbb1d4f3080'), 335: UUID('3b6d8997-4945-56e0-8b31-ff523bb90b1e'), 336: UUID('28835a3b-e5d0-552d-9452-b821e8c1509b'), 337: UUID('19a45b54-8272-5a1a-ad7b-57b6a6383d37'), 338: UUID('45f63efd-ad3e-52d4-ba77-c022d60beddb'), 339: UUID('aac11fa2-1ef1-5226-b6fe-db3d57979b1a'), 340: UUID('58ddcd27-b101-50e1-a823-0f2310fc7021'), 341: UUID('10e0ad84-93ea-5c12-b76f-f36e00bfe38c'), 342: UUID('e5166544-49c8-572f-b383-545043ab5a92'), 343: UUID('b2d1c371-ffc4-5950-824f-ffd22dcc028d'), 344: UUID('ece2b2c1-bc94-58bc-9b98-a203e34f8f9f'), 345: UUID('5be855ba-e461-5e32-af5a-a705a3f9af87'), 346: UUID('59cc3ea5-cae4-5a9b-bc3f-d3c4f6b5527f'), 347: UUID('5c0e916f-4978-501a-b34f-50abf574f6ec'), 348: UUID('6941e770-d40a-5b4f-9ee6-764342b849db'), 349: UUID('e794d163-5bfb-5f4d-9883-bc4a93bd2b87'), 350: UUID('55649835-a34e-5b20-ba7e-4c94bb70f464'), 351: UUID('4f0e8c9e-d1a4-5a69-a597-2cf62883f6a5'), 352: UUID('eb9cb58d-e939-547b-a023-d9bcddef9c67'), 353: UUID('5af7cd55-ce77-585d-ba06-8f6629874a53'), 354: UUID('61b60149-2741-5d2f-8710-5a5e1012ef96'), 355: UUID('d9236cea-9fc3-5bd9-962c-e7d9b295b29c'), 356: UUID('d2c2af28-258f-5117-8f11-2b201414c86f'), 357: UUID('4fa38237-4a9b-57a4-9515-622fb237aba5'), 358: UUID('e575b26f-dfa0-55e8-82cf-6b71565fafc8'), 359: UUID('54a5d876-de2d-5835-857b-a3b07cd49c50'), 360: UUID('42bfd2a3-d010-58fd-a10c-5efc645ff9ed'), 361: UUID('62564052-d254-5427-b740-e8e307faa4a8'), 362: UUID('10095796-c0f6-507f-9fbc-00947c225054'), 363: UUID('9a53da7f-0700-5634-8b3e-7cd296727046'), 364: UUID('2523ff07-597c-5450-9afe-e439b1422e7c'), 365: UUID('a0507e92-acb8-5be7-94a0-8861c5c3278b'), 366: UUID('8f9001a1-d624-5b53-86c7-4d1a3211449d'), 367: UUID('d9a80625-fb02-54f0-ac75-7a2a0d60083f'), 368: UUID('18217ebf-4098-5316-8fa1-b8c1acbbe448'), 369: UUID('30655bdb-9958-5817-8b08-cf45edde8bec'), 370: UUID('7ac259cc-52c4-5c35-98fc-5bd361fa39e4'), 371: UUID('0a5e9883-fb56-58ba-a239-799b452c94a7'), 372: UUID('03670bf9-471c-5c69-995f-167e5d1d115b'), 373: UUID('2e3b65a4-93bb-5e88-be1b-9841362c5f25'), 374: UUID('841cbd57-fc3a-5bb8-b823-bd7a850bb8fd'), 375: UUID('f9c3f6f1-6573-52b2-8115-b9f839bb70de'), 376: UUID('2bf82012-966b-5835-94fa-2452e7fca4d3'), 377: UUID('f7995e6d-38d7-5773-8ba3-29f1892a65cd'), 378: UUID('eea2032e-ca7f-5983-bb06-bd7124c17111'), 379: UUID('b8ffa33e-8551-5245-b1c0-fd20c0b6bba1'), 380: UUID('947e0915-21a3-59bd-b239-173d4338d14b'), 381: UUID('c8006e97-fa49-5aea-8560-78a4c7e5a4ed'), 382: UUID('5a9c3fbc-6a67-503d-9e29-1a8aa3dabdba'), 383: UUID('ef98e470-1fdd-5bd5-9598-d5316a1e052f'), 384: UUID('89837867-406b-5225-8fd3-19360758f704'), 385: UUID('4137a96f-53fd-5ee8-9b9e-b5098e559704'), 386: UUID('12e19e61-42fb-5a72-aa75-ce0e8ad280fd'), 387: UUID('1fb9cf68-1cc6-5a1c-a227-7dbe11e0e3b1'), 388: UUID('1d22dc77-7a80-5a58-b5b2-de8c364447ad'), 389: UUID('dfb4e35d-0cb9-59ab-92b5-429bfe6aaa50'), 390: UUID('ca68eda6-92bf-5c7b-9009-5210174dc9ed'), 391: UUID('f26fa8b4-8806-5be0-b9e5-432f17fc5217'), 392: UUID('c697e211-a6e7-5cd9-bfbc-7a8048b52aef'), 393: UUID('1b0e8884-086a-547c-ae94-dbd06f7c1911'), 394: UUID('b3ddc47b-2b48-5c22-aa6c-c9f8cb9ea16e'), 395: UUID('39460c76-3e9a-51a7-8691-f7e5f7126bae'), 396: UUID('c8773f5f-51ae-5166-bd58-5ae175c73327'), 397: UUID('e2abcf76-fa18-5237-b64f-9b5208bb57b8'), 398: UUID('d5817448-542f-576e-9b72-3f9d6639a94e'), 399: UUID('8fcbc6d1-7eab-5b5f-aed5-204e3d574b80'), 400: UUID('0511636e-98c1-5a4b-9d1d-0d59cf5dd53e'), 401: UUID('a6541e49-25c8-54d5-a343-2d93553dfced'), 402: UUID('1c5b4025-a595-5df8-a29c-9b4b01eb9b06'), 403: UUID('8a0c63bc-76c0-50e9-be6f-67f1f4d6dfe7'), 404: UUID('b68bae6a-f1da-54d8-a11e-6a330552bb9a'), 405: UUID('5738e902-0dda-50e1-9e36-07f90c1c190d'), 406: UUID('19cc2259-bb5c-5f36-8f50-da59a2193c16'), 407: UUID('63c82378-cda3-571e-ba83-e227bd188bbe'), 408: UUID('99b41084-15bc-58ee-8b05-9cf8f3738324'), 409: UUID('42c0d712-c52d-564e-8be8-e9ed6e3f6a7c'), 410: UUID('14fecbf1-cc72-51bb-a7f8-2565bc6ffc5b'), 411: UUID('5538d2e2-e7af-54ea-a598-4d6afbc378e7'), 412: UUID('e77a902e-2d47-50e6-aa2c-0ca24fdadf4a'), 413: UUID('ba0973ab-fa81-5fc7-a0dc-78050c0de306'), 414: UUID('8f7e0c3a-a3b1-56b8-bb47-bb2f38d4efcc'), 415: UUID('aa767a3e-ecbe-511a-a260-09dbafaaaf14'), 416: UUID('ab5cf24c-4570-5cc9-93c9-5eabe9712e7d'), 417: UUID('8ab5fcc3-2dab-501e-8001-8192a3b08f45'), 418: UUID('16b96db3-a380-5c04-82a5-657eb9ae77e1'), 419: UUID('c06ea490-0619-5d28-83ee-5bdb1cbcdfea'), 420: UUID('95393aaf-799e-57c0-94c5-c072c5ff0864'), 421: UUID('08665293-a69e-5c15-af4c-a03f840b1eb0'), 422: UUID('cd46a129-1e9a-505f-864b-5a9fbbfc48f8'), 423: UUID('c08c369f-0f61-5d40-a4d4-146e264111e9'), 424: UUID('527810a3-df10-5aea-a2fd-2698527296d7'), 425: UUID('84b696b5-44ce-58c0-884e-4227a81ae6a1'), 426: UUID('307d3f4d-3933-525c-99d4-a6a803a852ce'), 427: UUID('139e2119-02c4-5505-8f1b-927dbd1f2108'), 428: UUID('ccf43a15-b979-54b1-a1c7-5182f14c3653'), 429: UUID('33aeaab1-2a6a-5747-b268-6fea59007d43'), 430: UUID('a7ae0f55-33ff-501f-a4e5-de0ad16d73d9'), 431: UUID('3461003c-1bc2-55f0-8115-c8d56e3252f5'), 432: UUID('866f446f-3ff8-59d9-ae24-ce75a4d8797e'), 433: UUID('c579d9c7-7247-502d-9d81-7a6a7fcc8616'), 434: UUID('1d0d1a10-cfa1-5fec-82c0-e9cc71678d81'), 435: UUID('d6027e52-6ba6-5bb6-8571-8d667d9f6753'), 436: UUID('8240c13d-a45c-5b73-bab9-b0d4954d9e21'), 437: UUID('7e1c4519-abe9-5b74-9c9b-2b14997572a1'), 438: UUID('c82a9053-6a01-5c3b-b6cc-69de1d4bd242'), 439: UUID('1fd48af3-b093-5ab2-b69b-eaefc849f412'), 440: UUID('b74ae168-ced1-5274-a849-3f95f083f86d'), 441: UUID('c1b12a89-949b-56ed-a326-00ecfc24e456'), 442: UUID('2824d8cc-306c-5111-9dfe-14e8ab499e45'), 443: UUID('48648c70-901a-535c-bd0f-cb6f3afcc1e7'), 444: UUID('ee37a125-76d1-572b-b257-48dae567e2e0'), 445: UUID('a48c2bcb-5b4c-541c-b480-9e28fbf65abf'), 446: UUID('1efcbb16-fc00-5731-b6e8-c049f3a5cf48'), 447: UUID('65179a94-76a5-5c6a-a712-f5d55f646306'), 448: UUID('32229409-302e-5c4c-a100-ccadbf92e970'), 449: UUID('41493653-c4cd-590a-85d4-37e301cb105f'), 450: UUID('34642033-07e5-54b3-b310-c992fdd1711b'), 451: UUID('31cd8b48-5249-5451-8951-bd78acb3e6de'), 452: UUID('46fdda4a-d606-5d76-be79-331f0a1a1853'), 453: UUID('098e5fe7-476b-5393-b5e5-b4edf84a4d1e'), 454: UUID('19cbc99d-fbfa-5a07-925f-a43c3017a508'), 455: UUID('ff663cb2-d615-54aa-a413-18fcbc95aa5a'), 456: UUID('56b2458d-324e-54f9-9aef-32b067bcb1fc'), 457: UUID('a9f46c1f-e515-5ce1-b16b-e4c857c8e142'), 458: UUID('02f7bc02-71a0-5e18-8e04-730b89f747af'), 459: UUID('b1666de3-0a24-5fab-b79e-4c50dfba7bd3'), 460: UUID('de6f4a46-0d58-5391-a04f-9d78d6096a16'), 461: UUID('9328abde-3697-507d-afe6-b5d5d816817a'), 462: UUID('29e86019-344b-5132-b285-481c044cefac'), 463: UUID('80babb9d-0ea3-5c5d-988b-cedc8c909d13'), 464: UUID('227c0a21-8de5-5807-97cd-8616e8bbbc3c'), 465: UUID('421cd5ae-91c4-5070-a082-9253fe5bf3dd'), 466: UUID('230d3196-b8aa-5b97-8647-dc91e061276b'), 467: UUID('47a1d82c-bdf0-5d6e-9a82-1c57cebf5db6'), 468: UUID('caf920a4-7dd2-53ef-9bda-85be3aab6821'), 469: UUID('4917fa7a-b7a1-57fe-92a0-91d140893f0f'), 470: UUID('f8f94b88-50ff-5504-b772-4b5eb45d5e5f'), 471: UUID('b3722d06-d711-5fc7-808d-01bc8c160b37'), 472: UUID('f1ed0675-ca27-57b4-99d4-e0107be3066e'), 473: UUID('0fa4c8ab-97ef-5779-a30c-c4e4ada87676'), 474: UUID('ed18208e-6681-5efa-bd0d-68bd2af78c89'), 475: UUID('c5b47d8d-5adc-50db-aa69-501102560189'), 476: UUID('609c8798-53f1-523c-a587-693a3c4f2ef9'), 477: UUID('3a23a3aa-4b63-5256-b0a3-66ad05273516'), 478: UUID('88710078-c855-5de0-853b-2c4a7b1f966b'), 479: UUID('a99f2c42-0a2a-5210-a7d3-ce499ce583a7'), 480: UUID('c474f0b6-6c8a-5104-a4cf-1f8d9c9e8094'), 481: UUID('625420d1-ae56-5be6-9b4f-ab4a73f5b142'), 482: UUID('31761ced-9885-55e9-8efd-07a0a49beb5e'), 483: UUID('51b98eca-dd3f-58a1-bcbf-db002ad44042'), 484: UUID('83e9346b-4d3e-5d78-8725-8904768b0d49'), 485: UUID('723f6da2-b257-593d-b8d1-5f42a7daf558'), 486: UUID('14b7fd6d-a0f2-51d0-9408-de150d27dd52'), 487: UUID('41334d7a-b306-543c-bcc2-875f698130df'), 488: UUID('f9699277-cce9-569e-b80c-08d57eed4c1a'), 489: UUID('fe3d66cd-fcfe-5266-b46b-ed72c6b759dd'), 490: UUID('7efbf285-be85-5a70-be59-531786823817'), 491: UUID('d0ff9dd9-ba54-5734-8fd2-fcc43194a793'), 492: UUID('280201a6-5dc0-50c6-ad64-5637dea8015f'), 493: UUID('e17ed0df-82da-5554-94a6-66654d194461'), 494: UUID('f64ad3a9-b0fa-5795-9eab-11914541bd1c'), 495: UUID('72a2002f-ff06-521c-a437-d4761c526a4a'), 496: UUID('f367b073-f868-5b0f-8796-390e6436b80d'), 497: UUID('a394cd61-d4d1-5555-9893-67d6be29caec'), 498: UUID('0c28b9ed-99fb-5334-8021-281997ea6a7a'), 499: UUID('277b94ab-e265-5822-872e-455feab4d82d'), 500: UUID('98ddde5d-06f6-5821-871b-883183679b11'), 501: UUID('e6991782-975f-5359-8b26-ad464f1673db'), 502: UUID('b942e257-96ef-5835-92f0-6db36c2c276d'), 503: UUID('a393e6fb-cffe-59e3-94de-98c2565a2c0c'), 504: UUID('de17d721-1468-522b-9121-4ee6279bbc10'), 505: UUID('9694f86a-082e-5346-b253-e010f5680b90'), 506: UUID('29f6d256-bd81-593d-81f3-fe65d2f6de3c'), 507: UUID('f13821f8-b4d4-52e5-99bc-8da5f03175e1'), 508: UUID('2141eace-32e2-5d56-84b4-943b1f385de2'), 509: UUID('f842e48c-8834-5887-98de-df4db6cb2bc1'), 510: UUID('dc4f4fec-3eec-59c8-9130-16b3c20ca734'), 511: UUID('6a30c68e-3b80-51c6-b041-67fd9113120f'), 512: UUID('6635ee01-c3c3-5278-8665-acbfc6dbf541'), 513: UUID('51e3d88b-3e71-5fb0-82fc-f5b8b7fabeab'), 514: UUID('b60b2a25-e3a7-537a-b976-d92ebef9aa3a'), 515: UUID('2968b22f-8544-5dd8-8016-bfe2182af4e3'), 516: UUID('f9c2f8ca-5fc0-52a5-97c6-14e06d6e1528'), 517: UUID('90145a65-77ad-5287-b1e9-a59eaca16257'), 518: UUID('9c02d9ff-77cd-5820-8161-eae86d3764b3'), 519: UUID('b7959ab1-764f-573d-b578-ade56ae84bcb'), 520: UUID('f311a43d-f438-5c55-baf3-134a254f3432'), 521: UUID('bef843e3-a7d0-5204-b93e-50936d181464'), 522: UUID('210274b7-7141-577a-a8f7-e0a21fc264c2'), 523: UUID('627fb229-e59f-57c7-a428-df8877ce64e1'), 524: UUID('afeb5f90-998b-537d-9205-dc02279c8827'), 525: UUID('8b157913-55ca-5d2e-8932-3a235a18bb79'), 526: UUID('b554a2c6-a733-5f3c-b469-9ea4c5310d99'), 527: UUID('0b13cc8a-9f16-57b8-8172-55e7d0d261d7'), 528: UUID('5e49ca21-3376-5f0f-b1a1-ad4cdf5317db'), 529: UUID('41b340c0-e2c8-56cb-9429-79c1495bd991'), 530: UUID('8d16cf84-15d9-5f0e-ad00-2225c4103a89'), 531: UUID('8a418972-445e-55a9-ba32-6c9056868e0c'), 532: UUID('d16a9bb5-6569-5e8a-bd05-6bf28fddd159'), 533: UUID('95105643-3a51-56d5-839e-8838f6aabb32'), 534: UUID('861d66f9-7f0f-5efd-8a7d-a16dd05af415'), 535: UUID('e2be22d4-2c09-5812-a56a-c45e3c0d1007'), 536: UUID('8f5962fe-3e13-545c-b466-d5c434ddfd1e'), 537: UUID('9bdadd35-bd3a-56c3-9e61-9e2eb6243969'), 538: UUID('896090db-6484-512c-b2ab-f7d9bf2d786e'), 539: UUID('c1266226-f46a-5d3f-af24-1a3264b1a1a3'), 540: UUID('b158c09e-9897-54b2-874c-6ec33d0c616b'), 541: UUID('3809c808-c72f-5a3e-bbeb-b91e91c8f252'), 542: UUID('9d313ef0-7457-5ad8-b99c-1b3836719bc3'), 543: UUID('8ce4a4d1-5eb9-572f-bbaf-fa9c5d83e4a4'), 544: UUID('488ad7bd-98e4-557e-8249-86f3ada2f346'), 545: UUID('232baadb-2c32-52c5-aa24-d5ea519a7d6c'), 546: UUID('8ae05f87-e461-52d0-bcfb-d07f71e51628'), 547: UUID('8656c83d-7aef-5385-9fc9-5a0ae91d4a1b'), 548: UUID('ababb4b6-7f57-5c08-9d21-c0fba71d36c5'), 549: UUID('e086696b-2718-50e9-8ddf-9ff6b1db987b'), 550: UUID('cca2377a-cd07-5797-a4b6-0557e77550c1'), 551: UUID('e6b75a7a-18d0-585c-ada1-97af93ee1096'), 552: UUID('d27d2778-df36-5639-8b57-7667b6e649af'), 553: UUID('2dbb46d6-7c7d-5a54-beba-a442fd8bb760'), 554: UUID('0269b040-6d5b-5bb5-8a93-f03b1100106d'), 555: UUID('b2ece2ab-849a-53a8-9944-caa97625b2b5'), 556: UUID('5e096532-5a60-50a3-822f-9f8fd9a81b04'), 557: UUID('c1f23a5f-b996-5b20-b44a-29d94ca9289e'), 558: UUID('55b942e6-3cc2-56db-b241-d04bbdb79054'), 559: UUID('31ca4bbf-ae08-5afc-b26b-a2c6e95c1352'), 560: UUID('9d00279a-a846-5c88-854d-5a3815f2b0eb'), 561: UUID('0895c04b-56d6-519a-990a-989ba90220a4'), 562: UUID('a73d1c7a-0324-520c-8d8d-fc10a77a9f33'), 563: UUID('a5f3b756-9a59-581b-b12f-6c481593dcd9'), 564: UUID('fd97ec55-2c4e-5e04-8b86-2a55a9be1d1a'), 565: UUID('41e39f66-d1c8-5e68-bb94-cc26f0c89f8b'), 566: UUID('61cd9eef-352a-5dc2-9854-b60afdd82663'), 567: UUID('6785f8bc-dfba-5771-8767-f2583f7878a9'), 568: UUID('d516ce2d-821c-5a6d-8f8f-a01ca6767d37'), 569: UUID('2b582b79-cdbe-5168-bc9f-8d96c416d37b'), 570: UUID('ff2ffde6-5d9b-56af-bf09-59dcfe897a24'), 571: UUID('af914bd7-f457-5ea8-a0fd-d7ff1a8c8b5c'), 572: UUID('95291795-19ad-5b75-b9af-c1378d716693'), 573: UUID('57294270-bf3f-5159-a1a0-ca9fdfb072af'), 574: UUID('70f8e415-ae2f-577c-88aa-987ea8ef03cf'), 575: UUID('8d0ab6ef-84a6-577c-8b16-d4dd860d0d4f'), 576: UUID('33042c6d-d155-56cc-93bd-fa8ea4a6e5a1'), 577: UUID('d5a196d2-abfd-5216-94b4-0a76fe61738a'), 578: UUID('a0cc250b-9972-5a02-9bc8-8e879c702b00'), 579: UUID('7234aa2a-3031-5cfd-95f2-ee07d6757aa3'), 580: UUID('8829279f-bb71-5650-8c8c-def95866a68f'), 581: UUID('a664d005-cf51-53e6-9286-bf236e28f0dd'), 582: UUID('612b5e8e-c4ed-5cc6-96fd-49b17e89aca5'), 583: UUID('96083632-e398-5212-860f-e81f251fbaed'), 584: UUID('04235289-8dda-54a8-8953-8dae6437838c'), 585: UUID('842419b7-4b65-5894-ac4d-71cd5194e400'), 586: UUID('f8adc67a-af09-52e7-81e0-60ea432f76f7'), 587: UUID('63f33b55-8525-5539-a821-a9f4ac25f03c'), 588: UUID('d2c33b91-217a-5982-8b06-d5ae5fe87369'), 589: UUID('3ccf79fc-47e1-58dd-abcf-03e26809016a'), 590: UUID('9ff5c5d8-0608-5010-940e-12eaec4b9d22'), 591: UUID('b74205f9-709f-5514-8afc-f612d239b6b5'), 592: UUID('b1896bce-7768-555f-bfcd-dac64f7f1ee7'), 593: UUID('e7a1e8ec-22b6-52ff-b628-fc289d5c4bd5'), 594: UUID('91f0fb1d-c3d5-5f2b-ad4f-2e871626328b'), 595: UUID('5847f2b1-a8e9-587a-885b-08b6141b5cca'), 596: UUID('61a756d0-1f0c-5563-af4a-717f838db603'), 597: UUID('00f59eae-d442-5670-b8dd-d5d1d5ace324'), 598: UUID('2c8c6cfa-77a7-5769-8556-824cd5ae876e'), 599: UUID('fa98948e-6f1e-52c2-b2fb-8944d3034b3c'), 600: UUID('b04316f8-589e-58b9-be68-c902505c4096'), 601: UUID('efd9dc7f-a931-5a8a-bdc9-b4c8c8349ce2'), 602: UUID('2aac895b-a138-5955-a9c8-586b866e3983'), 603: UUID('a3cb3477-1a2b-57ce-ae6f-7fc386fd2f6c'), 604: UUID('6a245d5f-5f40-5cad-95f2-47dda5ba1467'), 605: UUID('77933924-22c8-568d-95ce-c462620cd2a4'), 606: UUID('8558b774-c556-5617-81de-4e3c7dc8427b'), 607: UUID('03ed5b36-07d8-5c4e-a214-dcf1db4c1ef8'), 608: UUID('849bf29b-a5cb-530c-9b72-25dc7ebb7f17'), 609: UUID('eeefc490-d362-55db-9129-90d7dc8e8eab'), 610: UUID('f18bb844-21c9-5b82-b2af-a6ead299d7af'), 611: UUID('503ead9e-b773-53ef-be5a-aad5f68c5b5d'), 612: UUID('c5ce6a00-c834-57dd-a1d3-8345f0b8ad58'), 613: UUID('eedc0a3e-9ddd-54c4-8c34-e1df109dc58b'), 614: UUID('7a38a1ca-3ab6-5409-89ec-7a348027941b'), 615: UUID('a612dcb6-2e75-5e09-a2da-5e41f486bc67'), 616: UUID('69fc79d6-98d3-5cb2-b284-98553bdb78d8'), 617: UUID('2a55e945-d094-56fc-bdde-675dc4c41594'), 618: UUID('3841c673-78f4-50e3-9bab-0408c0214dfd'), 619: UUID('ebe7aac7-ca41-5186-86ea-2a7e33d25e77'), 620: UUID('07f7b9f4-200c-57fd-a649-349a634564c6'), 621: UUID('e0673726-1d0d-5cf6-bc3e-2076068e06ff'), 622: UUID('4393424e-429e-584c-9749-987062b4d686'), 623: UUID('0c64fa64-3060-58c2-aa6c-9f3e2b26ee36'), 624: UUID('e403e04f-c57b-5148-8a7e-6b518593a915'), 625: UUID('a6e92a44-6483-59e5-9eaf-e72b95b89ead'), 626: UUID('e6395d33-f0c8-54e5-954c-427f168a69c7'), 627: UUID('a12a306d-1804-5e62-afaf-afaf6a74818c'), 628: UUID('228df989-8f53-5d5a-97ba-f1d64d2c4fb9'), 629: UUID('0c5a6269-aeeb-5da6-92ce-44288fa48a7b'), 630: UUID('cacca67b-0d6f-524e-9dce-e6479bad894d'), 631: UUID('005cbdc0-3b25-5584-b04a-baa4a7661f6e'), 632: UUID('ac3a0e37-dcb8-5108-9b38-1a1e2fe2ba82'), 633: UUID('dce82c76-530c-514b-a05f-0f2da9ef4983'), 634: UUID('33dead3c-2fb4-5c1d-8197-7b5940230528'), 635: UUID('ee4d0497-22c0-5ccd-b854-fb8e56ae3e2d'), 636: UUID('821cea9b-3db5-5615-a2db-1eea7d53e0ee'), 637: UUID('6911d67e-5310-5eec-a2e8-e8c77e8adb30'), 638: UUID('dc16099a-6a50-51ff-8bcb-a3145d8058fd'), 639: UUID('c8ee4449-8bdb-53ce-86f0-50a266b5af4e'), 640: UUID('022aa298-216c-5faf-babf-a8db8f04ddfd'), 641: UUID('93c1bce3-85c3-513c-9ba1-29c42423b044'), 642: UUID('2a09c45f-fb9a-502d-96bd-b92d885be05d'), 643: UUID('19a2ba70-6d52-53aa-b1b5-42d05673277f'), 644: UUID('51252331-3db7-5a10-b963-2ce6fd71e390'), 645: UUID('a639bc60-a774-5208-9678-ddcc382e4a6c'), 646: UUID('2f7ab823-bf91-5176-a0cf-f12618faa3aa'), 647: UUID('5a4cdd40-f2fe-5c6c-9331-e9050e347de1'), 648: UUID('86d6a0b3-1fb8-5aca-baf5-df7fcf9b1a07'), 649: UUID('b59589b2-aaf5-5400-8f6a-cc93344c32ba'), 650: UUID('dde06efa-fbf3-5282-b724-d04e96c06e3c'), 651: UUID('74d94030-2c83-5484-9564-e98eda83d638'), 652: UUID('b4d8b09a-68c3-5796-a3ef-0e959979af9b'), 653: UUID('5847dec5-4e75-5320-8e66-a685112293d7'), 654: UUID('30a590d6-2bd2-5a37-b659-1a43f7c75958'), 655: UUID('db596145-beb0-5c08-9e4a-19a4c8e64861'), 656: UUID('a476a4e8-b485-57a9-ad7a-a93b6fa69052'), 657: UUID('bbfc7615-a6ab-589e-8fd9-22d66843d429'), 658: UUID('54e2b54d-148a-522c-8cbd-056c716f2629'), 659: UUID('a7f459a3-3400-58a5-8356-3a30ce79a06f'), 660: UUID('bfc4bfdd-c09e-54d5-a943-3e262677d423'), 661: UUID('6ba15631-56e6-59eb-a870-3fdd8815568f'), 662: UUID('3d3b3921-b1c3-5a6c-acb1-9e190d3d0b3e'), 663: UUID('9936bb2c-81e1-5678-bef5-7337d3e989dd'), 664: UUID('db14543c-feef-5891-8ac3-fa9f5dc8bce1'), 665: UUID('21b624d4-00ff-54f1-a7fc-7eb8ab89dcca'), 666: UUID('7703801b-b49c-5071-8a11-c6af30f510ab'), 667: UUID('03f429d4-887b-5498-b40b-d421ca2f06c6'), 668: UUID('1c4c3359-2427-5a7f-97c3-bfd81935f09d'), 669: UUID('542b3bea-baf6-54ec-af3c-572c27144a6f'), 670: UUID('98aa03e8-1584-5a79-a3a8-7dbf12661675'), 671: UUID('10b40d77-6649-5f4e-9862-e467f6fbcd7f'), 672: UUID('5191f1ae-b52c-5b96-8b02-429b68963412'), 673: UUID('172103b6-7ffe-5b0f-9ca5-1680c835d7ff'), 674: UUID('df54ffd1-a2da-55c6-8fd5-614d9355e44b'), 675: UUID('b09d7aab-1800-5e90-be37-01a255b2b04a'), 676: UUID('85f5f7f5-0787-57c5-b9ce-43957365e538'), 677: UUID('e825864b-a5c1-5fac-a8c3-eb1e6741ee27'), 678: UUID('ad84e98c-c0d6-52e6-9439-39434fcdfee4'), 679: UUID('f3be5d6e-901b-54ef-837e-2cfeaa766b6f'), 680: UUID('92e87d41-d38c-514b-aa43-afd9a91dfac6'), 681: UUID('697beaaf-75be-53d8-b95b-18b68dc03222'), 682: UUID('0e299efd-51db-57c6-b54c-0f1685dfcf66'), 683: UUID('bd6d77a7-d729-59ef-a1bf-9088e40c86f8'), 684: UUID('0bd74b30-9ad3-5657-a228-a3669ef81078'), 685: UUID('4b196197-bd8b-51d0-88c0-1331a76d9423'), 686: UUID('a5428254-706d-5910-902e-921593158096'), 687: UUID('53a2e5c0-d598-5c76-a36e-35102191a6d9'), 688: UUID('dc459505-6239-5f74-8002-f94f6d3d7086'), 689: UUID('4e8b8997-0d33-5086-8694-a964d91f2f42'), 690: UUID('21d6d3ce-9e2d-57ff-8d7a-291b4de89fac'), 691: UUID('3dd3ae6b-6f5e-526b-8cfe-da1a7a094ce5'), 692: UUID('f11a3a31-7150-530e-a7d7-89b5662e2172'), 693: UUID('9314c8ad-f5a9-5eac-887b-998a09fa8a09'), 694: UUID('79f63c46-0541-54af-bdcf-0d788e6778ee'), 695: UUID('2239459c-fcf1-5547-ad93-6babbf70a855'), 696: UUID('fc11873a-6c68-5380-89c2-1a3765f8a368'), 697: UUID('69fbdd01-a733-515d-aa2e-61baa50741f5'), 698: UUID('6ac2caa7-17ef-533e-bffc-7384476b72c9'), 699: UUID('a076216b-98ae-5813-920d-545ea507ed4f'), 700: UUID('e891f019-8d5d-5dff-beff-93fa7401e511'), 701: UUID('684b80e9-c29a-5430-be0f-fe96486a6349'), 702: UUID('a89fc2d3-5fc4-5452-8af6-9787ab92e9d8'), 703: UUID('88690704-7074-54ba-9faf-79c2b24e484c'), 704: UUID('db558572-388e-52ec-b703-96c66fca6878'), 705: UUID('8feab72d-0d8a-5e99-8204-0c25a93ae218'), 706: UUID('886c82ec-db63-5acf-a46a-1f13e1a46ce4'), 707: UUID('4245a0ff-1701-52d5-a56c-bc0722c42853'), 708: UUID('b24e57b7-aaf1-504d-834d-14c115650131'), 709: UUID('0721c5dc-8b82-5733-9de0-7a5181ac6994'), 710: UUID('09a309fb-2ea5-59cf-845b-bf303b2b5f25'), 711: UUID('d797dde9-515c-57bf-8737-196d6b9e9be4'), 712: UUID('a8d01205-ac15-5fcb-b768-9a0a800dc458'), 713: UUID('68369e90-4a8a-5391-b567-671cd0fb972b'), 714: UUID('98355f77-39b9-5d2a-aaf9-7d93af767455'), 715: UUID('5d5a0108-6f40-5ba0-bd55-21dc6ea4877c'), 716: UUID('4a6f0a1e-54dd-5ebc-a6f4-cc3476e1d973'), 717: UUID('8f599ad3-4b1c-58d4-be9f-8baa121927e3'), 718: UUID('6259eb6d-8d9e-579d-bb2e-0cfbc7aea53b'), 719: UUID('d09bb972-e5a1-568f-b5f1-5bcb8585574e'), 720: UUID('fcae7220-2c23-5b8f-8aa8-2d561027ec6f'), 721: UUID('dfad4a85-e5f2-5dc5-983b-b0996f07b235'), 722: UUID('4f9dd321-0ded-56ef-bba8-d04af101458c'), 723: UUID('2635d9be-bdbc-59ff-8b5a-9bfbb1484e09'), 724: UUID('0dbad625-191f-5642-8e71-d0587c2d19ed'), 725: UUID('2bc9c436-e735-59cd-83e4-fb90546d911f'), 726: UUID('70a2ea93-d154-5868-8514-6a6beaeefa6b'), 727: UUID('be8300b6-5efc-591b-afe2-5acbbb0c8520'), 728: UUID('c8bd0a2d-f827-5969-a796-e79aec21b630'), 729: UUID('2fa285dd-e9c8-5af9-99f7-e31c82bd1da8'), 730: UUID('f162e8eb-aa0c-5e13-8904-054c35a1d17d'), 731: UUID('07871315-8cd3-54c1-8a51-d08a60825f85'), 732: UUID('7eb84f53-e5ea-5988-b53c-f71c6c15afe0'), 733: UUID('03bdab55-1515-50c1-ad9c-09f6309efe81'), 734: UUID('c2581567-8372-5aac-b28c-9416bf9d98fb'), 735: UUID('e6670805-d989-577b-9bc8-d8e6cf3e8010'), 736: UUID('e8b2de3b-a743-5f24-882c-7aca3516fc91'), 737: UUID('4b36913c-53b9-55fa-952f-a024e4f6035f'), 738: UUID('6eff4af6-d604-5734-9c3f-f0a82bf6b46d'), 739: UUID('f0feb031-ae4f-5058-9292-bf372d87801a'), 740: UUID('470e50ad-cb52-51b4-8671-d5411ccfb026'), 741: UUID('ec69851d-4ec0-516e-9632-5e757dfb55e0'), 742: UUID('2c3a96cc-6f51-5b5a-bd6a-b3d5e7f2bae5'), 743: UUID('24ebd3d9-4f0b-5069-939c-72253e6844dd'), 744: UUID('0a9166d2-0230-54bc-9356-8dfbcaace0f6'), 745: UUID('29be68ba-d9b3-5185-8099-569981174bfe'), 746: UUID('bdaf62aa-6ac4-5e4f-8407-d2ccf5f11814'), 747: UUID('fae690bb-f93e-5c55-9381-936c1aebf430'), 748: UUID('fd5f3ec5-4d0c-5b17-ba3f-c0da842d7e1d'), 749: UUID('a700c8a9-b1a4-5b9d-8332-715883347a7d'), 750: UUID('b99a2b00-248d-5f5d-ac75-78109d85f91e'), 751: UUID('22135885-1c68-5656-b770-6e36265c1ae0'), 752: UUID('638b0996-1983-5b9f-b2f4-39f50598ec8f'), 753: UUID('7dbcbd26-9e0d-56c5-b376-02faf4529d2c'), 754: UUID('07b77ce5-ef27-581e-9ff5-6ab6670d70f2'), 755: UUID('99f5345e-1870-5057-b453-dfe5434d6840'), 756: UUID('ff46432a-06e6-595d-87c0-3a50f015c660'), 757: UUID('02ed9fc3-a404-5ecb-a06b-8cdd7a48605e'), 758: UUID('f848e86c-ecdd-5f5c-b2d5-ebedb2edcec2'), 759: UUID('5c32df1e-5b24-5203-ba67-75782233cf3c'), 760: UUID('75d9ff99-1094-5fba-873e-eb031f638c33'), 761: UUID('c0808118-2582-5b51-8699-02a214914498'), 762: UUID('20eede88-f0af-599b-b125-98360af501eb'), 763: UUID('439ba4d4-9dd6-50fb-8113-13e454470e5c'), 764: UUID('d9e0fd0a-542c-5a3e-8a0e-7a497dfd30eb'), 765: UUID('b34fb2bc-cce0-5720-8cca-2e32fdceefd4'), 766: UUID('d4498113-3a49-5359-b156-2afcb2166882'), 767: UUID('b891ac69-038b-5c47-8198-56a9e2660dbd'), 768: UUID('69f7dcca-2ee0-5fee-8c18-0f459822509a'), 769: UUID('b0eacd33-b5ef-5830-99dc-d0e0fde72155'), 770: UUID('497a4814-9367-545f-a65f-3271ff751155'), 771: UUID('ef62d501-e26f-57ab-8a8c-90e0e0834c80'), 772: UUID('d8529c18-321d-5dfd-8f13-c0ee71293c29'), 773: UUID('0021d45e-8898-5b4b-8319-979c2d971f9a'), 774: UUID('8a2ceb6a-0417-58c0-852f-fa8d89c28f17'), 775: UUID('1261da84-3d46-5a34-b1cd-0a34701c612d'), 776: UUID('6cd07df6-45e6-51d7-a348-767509d5ca69'), 777: UUID('c29da968-7a19-5bb9-a6e3-e512827a5c33'), 778: UUID('43a896d7-5f5b-519a-8e7f-098c19824686'), 779: UUID('47f8fcb7-5bb9-5af6-9569-053e815ca00d'), 780: UUID('0b771eb0-32e9-5a03-81dc-2957e9a53004'), 781: UUID('47ec0d18-cab1-58b0-b7e3-261d54d863cc'), 782: UUID('ca5cd9aa-0d4f-5f69-8837-5b902eb75a83'), 783: UUID('9dc8332e-76bc-5bd9-8ce7-f3ae83037f1c'), 784: UUID('32b61a1d-7479-5764-be8a-f1eaf939afd1'), 785: UUID('a4e5fffd-fa71-59a9-ac24-5aef2773e34f'), 786: UUID('a4ebd4d0-0bf1-5e78-9e5b-6bbcf834c548'), 787: UUID('33f07149-515f-5abe-9cb9-f8d71f00466b'), 788: UUID('2e588459-7948-54bd-ad2f-11bf5143e74d'), 789: UUID('8d77f2ac-fcef-5758-8e09-22f724594c6b'), 790: UUID('2bdf34d3-dcd8-5f65-bfcc-ce9aa7c116b3'), 791: UUID('8db46de9-2a4f-542e-8934-559e2f1b9cf7'), 792: UUID('337209f6-e526-56b3-adf5-1d7800f353a3'), 793: UUID('4748b70e-e475-5938-ae82-c0df45cd5a75'), 794: UUID('0ddc8b35-b5d2-599c-823d-7c619b984c6a'), 795: UUID('77644f91-b1c1-5103-b4d9-3dc9b38f8f1a'), 796: UUID('ae3e1135-6aef-57e6-b5cd-1cec68c8ac37'), 797: UUID('0d3e9afd-b076-53f5-bc52-b2ca0e4224b0'), 798: UUID('f9e05f88-e760-5339-b54a-96eb16207ad5'), 799: UUID('16ed6c0d-52b4-589d-9746-0ff8bce546a6'), 800: UUID('24f5e81a-8c7f-566f-8c7d-6811c9d83e6e'), 801: UUID('f6da6a36-1211-5ebc-9f8b-affa93d1903e'), 802: UUID('0b0a0e0a-9951-5fc1-ab1c-2b4ef759040b'), 803: UUID('76085cf7-f3a5-5246-8e06-2fd2925d38c9'), 804: UUID('a1bb8a4e-279e-5375-9fc7-5fb7c4f23a61'), 805: UUID('75b8caff-d5b4-547c-877d-9d975707d984'), 806: UUID('b873e348-6a8d-5a91-b1fe-6ca0c07b7a0e'), 807: UUID('144d033d-2fe8-5f00-902c-440cbfad043d'), 808: UUID('446fde85-3822-503c-b2af-b332da4e15f7'), 809: UUID('133d59f9-513c-5c53-8e9b-aabe673ec189'), 810: UUID('cb39662f-de33-5dc9-8f1c-a37cd0f7d545'), 811: UUID('8fa14ecd-66c7-522f-8fe8-ceeaddacc4c7'), 812: UUID('e5146b49-2ace-59fe-9860-cf1190591487'), 813: UUID('9a120327-2234-52b3-95f5-9e7868881ed6'), 814: UUID('3f24d927-ae54-5e8c-a462-7fcf643d7ace'), 815: UUID('f2ddcf2e-9d5d-54e8-bfcb-1a797c8f6e7c'), 816: UUID('6a575f78-495f-523b-97ea-680cc5d82bd0'), 817: UUID('39e95b59-4ed6-5abb-996c-679c9d07c1c3'), 818: UUID('bfb51031-3025-5b15-ae7e-34e0f7ba885e'), 819: UUID('7a6e6b66-78ba-5d9d-bb70-fcc16d3cbf61'), 820: UUID('f550d579-8d0c-5cad-883f-8062d8ce332f'), 821: UUID('db8497fc-67d6-5f8f-96ce-f55ab2a5db03'), 822: UUID('fb66a7aa-67fb-5c9a-8f50-173a08f5ee97'), 823: UUID('7c10c1b2-765b-53ea-8c6b-0d6052fabd4c'), 824: UUID('dcf5fc87-131f-5f25-860d-aa705b325767'), 825: UUID('09c8222d-5aef-5e1c-9aab-fae36bc25e95'), 826: UUID('ee96ff1e-2ef3-5d82-af8d-a0b4acebc889'), 827: UUID('40990b3f-b44e-5459-acf1-826d3f94d9b5'), 828: UUID('d2ca804c-3a31-509c-a74f-298c8f9282ea'), 829: UUID('c4cdc85d-bb56-5f53-94cf-ba71b0648746'), 830: UUID('2b6ed812-6b78-522d-bea6-9ef4fe526f7a'), 831: UUID('ac4b5ded-ad26-5ec4-8b00-2c05940ae43f'), 832: UUID('fa7cea03-52f4-51a7-858c-efa6012f5781'), 833: UUID('4b1513e4-3dba-5f57-8d47-16360aee3800'), 834: UUID('53fa467e-c9c6-56b5-9348-d6577810f3e4'), 835: UUID('827ad5e3-faa4-58ef-9cf0-f919aa8e33a4'), 836: UUID('4c8d12f9-3b30-5a60-83e6-269c512511a5'), 837: UUID('d8872b7f-41d8-5ee9-a9e2-eecdf8c1ac45'), 838: UUID('44580b12-39e1-5cd4-8849-1713217cb201'), 839: UUID('bb9b3564-47f9-51c6-b93f-50ec07d9ec01'), 840: UUID('c8534a52-3621-5e13-9d5c-706c23390dc9'), 841: UUID('3a115514-bc0e-541b-bdad-97007caffd9d'), 842: UUID('541aa1e0-43c2-50c3-88e5-f8ef5c8f96f4'), 843: UUID('b15b2a98-809c-5fa9-87ca-436eb20a257b'), 844: UUID('25480c73-d694-59aa-9670-2e086326c5f2'), 845: UUID('f4fcdb62-312a-5345-9c34-62f60026fdbe'), 846: UUID('db424961-93fc-5ce6-a0ab-9dce9157c37a'), 847: UUID('7f97ea8d-8611-599b-be57-4f277a9d2e45'), 848: UUID('79141c24-8e4d-5582-a835-eed73e119e36'), 849: UUID('78a64853-d02d-511f-972f-7d71b33dec57'), 850: UUID('f5235e21-ea37-5d6a-9b0b-54a3723fba4b'), 851: UUID('0748e6a3-042f-545b-92a9-69fd2465c218'), 852: UUID('3ceb4d8f-f672-5041-b66b-03420d184152'), 853: UUID('bf8df4e0-7fae-5ba2-aed8-a80367802c60'), 854: UUID('455b79f7-929e-55bc-94a9-57a80b268145'), 855: UUID('cd009571-c68b-5a12-9f97-d425d7242107'), 856: UUID('3fb27ea7-c847-54b8-8cc4-4ad6d9446c44'), 857: UUID('bc44dcc0-e5a5-52d7-a7d6-b8b4e2a6ba4d'), 858: UUID('6eae51ce-3201-543f-bc9f-b84d1fd45c34'), 859: UUID('ea032a34-5f7d-5511-8b96-e3013f268ae8'), 860: UUID('04996ae5-2bf9-591d-bb74-e105aad179d8'), 861: UUID('9504349b-15ab-55d7-a046-f3ea636b9de9'), 862: UUID('0a268631-6aef-513b-8537-5ed76a3071ba'), 863: UUID('d31ad658-7305-5efc-b11e-e124e757114c'), 864: UUID('9a14cd4f-8acb-519b-a65e-9b87af63656b'), 865: UUID('8fde1163-f81d-5077-bd18-8aed93ec3ecc'), 866: UUID('db11e05a-7fe6-55f0-9955-ca3b20da5fff'), 867: UUID('c19e88d8-85fb-5dde-ae18-b1df9c138c80'), 868: UUID('7399e794-58b4-5a14-b8f3-b397226c7b3a'), 869: UUID('84341396-9610-55a0-8099-d615ec83d862'), 870: UUID('db7b1adc-711a-554c-8dcc-fd35df63e9e2'), 871: UUID('30972946-57ae-5062-9133-164678dadc55'), 872: UUID('ff299fb8-c5d5-5af3-a1ca-487a0cb88b77'), 873: UUID('7440b5d5-24c8-5f59-aae6-8a8a6e872e27'), 874: UUID('f7863e84-58ff-5c48-bc71-85c860495c57'), 875: UUID('30f5c749-f13c-5150-861c-52b917c69f43'), 876: UUID('888cdfec-9022-5a66-ac24-833e10f2943f'), 877: UUID('f430d53c-d53f-57e7-9be0-28cd008bb25b'), 878: UUID('89801a98-b6a7-5c34-a5fa-550bc8c21d74'), 879: UUID('28beadee-74e7-5ef8-b8bd-ed8aa650b5e2'), 880: UUID('fec6d085-cafb-583d-995d-2bfdba3665aa'), 881: UUID('a9010f1c-d406-5b99-aa52-167940e5105b'), 882: UUID('bed3a9da-be55-5262-be1e-420af632e985'), 883: UUID('2633c4f1-16f2-5e43-bd72-3a2a356b3d1e'), 884: UUID('15da2bd2-25a3-59c7-9cfd-129467de76a5'), 885: UUID('dd0426e5-fa1c-5b3d-b912-5b340d23b84d'), 886: UUID('f4713cae-e809-5af3-8b99-bffc7e176c07'), 887: UUID('18aa292a-360a-528f-8843-137e9d68c026'), 888: UUID('c6007a9f-2450-56ec-8a89-cee68d1d01f5'), 889: UUID('9b3a6b3e-128b-5949-bf7d-e845e123e096'), 890: UUID('d03adb74-edd3-51b7-b110-567686bd9089'), 891: UUID('4c4a866d-e6e5-51c7-903e-37888b9aca9a'), 892: UUID('0587bca7-c237-5d94-96f4-b8a7498d3289'), 893: UUID('000fddf8-62c6-5fae-be20-00e132e3ddec'), 894: UUID('2bc28127-c380-5db5-95e9-0183d059de62'), 895: UUID('000ff9ad-0f69-52eb-bed2-c46e0f44018d'), 896: UUID('fa0a3656-a70a-55b0-a625-b5370bcb4a08'), 897: UUID('d54f8a52-8b98-549f-9b17-0871553400e8'), 898: UUID('e10ba85f-5274-5485-90dd-70760ee674df'), 899: UUID('e1ed254c-66be-5ecc-97ea-ca456b39ed20'), 900: UUID('8eabd500-e55e-5c1f-a666-b93b78e60fed'), 901: UUID('c7c4521d-bc21-596d-baf4-5f55627e312e'), 902: UUID('d4fc21e4-a09b-56f6-8c88-6217b4d50d71'), 903: UUID('2515affc-9495-5716-bd15-054633b656b7'), 904: UUID('d5aab322-04e1-583a-9841-e485e2e392df'), 905: UUID('b9ad1eee-f3b5-53ff-a892-45e50de9a102'), 906: UUID('730e7f53-bd9b-5772-b3e9-fe51faef1229'), 907: UUID('fc22842c-9396-5ce1-9eed-05667ca11bde'), 908: UUID('b5d9aa7d-7833-5a3a-959f-8d634ed5dab5'), 909: UUID('af070a4c-3b2a-52b7-83ff-d6372cba9077'), 910: UUID('1c0a9407-42b0-5932-9879-299556694c2d'), 911: UUID('47c0a3f1-71ee-58a6-a16b-5b47d2af93d5'), 912: UUID('759a74cd-5e73-5124-9c3a-9ec67a2d5277'), 913: UUID('43a07eef-ffbd-5c4e-84bc-e5b7b9b841db'), 914: UUID('1a65bc7c-2b1d-5232-9f74-b5f314c4adc4'), 915: UUID('2400f71c-02bb-5bc1-bd91-3994677705c4'), 916: UUID('3118d8f8-b396-550f-b57f-ab168849530d'), 917: UUID('95e9b0eb-abbf-5b1c-a526-dd11fb85bd62'), 918: UUID('c444c70d-b242-57b0-b477-4ad72e39ec2d'), 919: UUID('9bc7fa78-e3f7-5ddb-b9bd-317fa170ee9b'), 920: UUID('85927f71-462d-503e-af28-a59ef78f6a71'), 921: UUID('42278c65-164f-51a3-b93c-293b7b33978e'), 922: UUID('696c6d39-24b6-54c9-919d-223d14c05e3f'), 923: UUID('0ba08b12-659c-51eb-80b8-b82c3b66d3ad'), 924: UUID('1646dce6-faf0-5d9b-8b19-265c741a49c9'), 925: UUID('86045464-d43d-5b3d-886e-8941d6a5ab77'), 926: UUID('a69f8b11-d1d4-5b3f-a26b-086234b0cdf3'), 927: UUID('0fbd2679-7a31-5335-afc8-1419ae3aa2cb'), 928: UUID('48081685-225a-50eb-bdb5-69f07976d65e'), 929: UUID('b5cb149f-ad8a-57b2-a7f7-9147c58b1747'), 930: UUID('0ab1ef3e-bfc6-5c6a-8296-db0e35328f79'), 931: UUID('c4c0b877-587e-510c-8158-387636a19771'), 932: UUID('a0d5f606-8984-5ea3-b0dd-0c0edc1aacca'), 933: UUID('a503a20a-6991-584d-943c-6248eb3d0cad'), 934: UUID('3b8e8d83-1b20-576b-adab-751627cbce22'), 935: UUID('7d99a981-afb4-52a2-b414-3eae407c5ec9'), 936: UUID('ed006b91-abab-5b73-834b-eff5989cdf5d'), 937: UUID('22c87e90-8fd8-58ee-8b54-c711b0c29203'), 938: UUID('82a47644-f9db-50b1-80e1-5329b23e780a'), 939: UUID('a78e09ca-26a2-52d8-9193-5a779dae9ea4'), 940: UUID('b18efcec-5aef-5364-9c2a-a25951f716cb'), 941: UUID('a02bf935-671f-5f76-b92b-49c5dd364416'), 942: UUID('721b3412-7ea9-5ff9-9038-fb7d344a2a5d'), 943: UUID('2a537fc0-96ac-58ab-9af7-fb973cf464c1'), 944: UUID('024c9e16-6802-500e-9f8e-f295cb548fcf'), 945: UUID('315286d1-248a-55b4-afcb-03eb2cce6b6e'), 946: UUID('781003ee-ce96-5c09-9bc5-333dd8e27c95'), 947: UUID('4cda4660-04cc-50f4-a07b-ee079ab71b37'), 948: UUID('91896f92-494f-5430-98dc-1c24db82878c'), 949: UUID('78cc94bc-7080-5507-be66-6cdd54848258'), 950: UUID('c549c5aa-5c05-5b3a-975f-9d7888205ce7'), 951: UUID('8d6d79c4-ee52-555e-a520-ba00ab307edf'), 952: UUID('dc7e0205-b187-568b-a569-c4cb8b3b3d18'), 953: UUID('bb7b9b06-a71b-5f1c-9170-4cd049251233'), 954: UUID('77ff73e4-8eb0-5a01-87cb-05be05eac188'), 955: UUID('edf3a9aa-2386-571b-956d-75bef92715a7'), 956: UUID('2cfe5ab4-28ea-5375-ab3a-227ba85b5807'), 957: UUID('ab16cb23-f010-5de7-88d8-765f3dfe28a6'), 958: UUID('e7853d0d-1c3c-592c-a1dc-6efe4d66d604'), 959: UUID('df08951d-30e3-5dfb-bed7-66f00fa94aaa'), 960: UUID('4020658e-a10a-58de-bece-d6aef4bed817'), 961: UUID('f7b89702-50c6-5f8c-b1bf-f7c472e6249e'), 962: UUID('3f94ea12-8e07-555a-849d-c21bd5e79aa0'), 963: UUID('feb6aebe-d6ed-564d-9ef9-525de909738b'), 964: UUID('66ca0166-6195-5d39-8a09-e9c71ad19fe9'), 965: UUID('6fa38ba9-e53a-56d0-a28f-1fc4a27eaa61'), 966: UUID('40356009-e85f-5bcd-9206-6ee690fc43c8'), 967: UUID('3ba1665c-2cd1-5fa0-9cd3-66396aeecfba'), 968: UUID('98e867e4-50d1-5c57-af99-e780e816bfe3'), 969: UUID('a56e6513-5fc0-5be2-ba9b-7053767ed332'), 970: UUID('7e822d8a-ce6e-58a4-a15f-4342ee10c4e7'), 971: UUID('d34f9eb4-d5f0-5fbd-8a9f-294e5aa072e4'), 972: UUID('daddcdd1-98c0-5dbb-83af-bfc6841b1ca1'), 973: UUID('9816dd91-ee50-538e-9afe-9a5d166bd5b4'), 974: UUID('9c9bfab4-66b4-5ff9-af67-4a81a23c3f3f'), 975: UUID('377be9b9-5152-52d6-be34-a23eb3f5be80'), 976: UUID('0c6171ae-a764-53a5-b52e-df60438123ef'), 977: UUID('4cf6e766-f1fc-5674-a1dc-c97a3e1d31ce'), 978: UUID('24aa41e5-43a8-5cd2-b395-3b06ee533eff'), 979: UUID('860b718b-07dd-5144-ae3f-a6fc4f2f58f9'), 980: UUID('1f452052-1b68-5a18-84b0-82fce67c0072'), 981: UUID('9b38f408-407d-518c-95d2-4dbd68577c69'), 982: UUID('dfaa7c20-129f-5b48-a66a-e4047dc09ed0'), 983: UUID('46495b07-161f-5ce3-a7b9-97d32de6019e'), 984: UUID('1aeb3b31-c8cb-5916-96b7-a2b5021350aa'), 985: UUID('9016595b-64f7-5259-a41d-ca9b9c53a2e7'), 986: UUID('d974428c-354a-5f22-947d-a28cc171f8b5'), 987: UUID('ce61b81d-d108-5b44-83e1-447118f43a14'), 988: UUID('86cfef85-095d-505c-a179-7b95110af0ee'), 989: UUID('c1117e59-5f1f-59b7-a841-4f2e25ecc3cf'), 990: UUID('5391eb17-51ae-5b9b-868c-13bc0ce34ec7'), 991: UUID('827e965f-8430-5311-bd5e-42caf33b31a9'), 992: UUID('9836e0db-9026-58ea-bf9c-010f0dba1070'), 993: UUID('c88b5253-13a0-5b0c-b765-38129af12767'), 994: UUID('b2ebb6c2-b0f9-5907-b6a8-eb236875a916'), 995: UUID('52a4ec72-e414-5e9e-a297-770b26ec5a8c'), 996: UUID('ec89a947-7584-5dd9-a982-7dbd49706e10'), 997: UUID('9ebcc975-5d2f-5d63-853b-b594f58cc2c9'), 998: UUID('a09af727-eaeb-5876-8824-0691320d9b93'), 999: UUID('c0160c98-a9ef-593f-bec0-541cd23b0ad3')}, has_errors=False)\n"
     ]
    }
   ],
   "source": [
    "print(response)"
   ]
  },
  {
   "cell_type": "markdown",
   "id": "216d67ac-f92d-4239-b1cb-8c76ea2cf6ca",
   "metadata": {},
   "source": [
    "#### Confirm data load"
   ]
  },
  {
   "cell_type": "markdown",
   "id": "9003b6a9-1d0c-4f31-a3a2-945a7a17dfd8",
   "metadata": {},
   "source": [
    "Do we have data? \n",
    "\n",
    "Let's get an object count"
   ]
  },
  {
   "cell_type": "code",
   "execution_count": 12,
   "id": "748cf869-67cd-4b39-b230-23b043217aa3",
   "metadata": {
    "executionCancelledAt": null,
    "executionTime": 48,
    "lastExecutedAt": 1692032192610,
    "lastScheduledRunId": null,
    "lastSuccessfullyExecutedCode": "jprint(client.query.aggregate(\"Question\").with_meta_count().do())",
    "outputsMetadata": {
     "0": {
      "height": 277,
      "type": "stream"
     }
    }
   },
   "outputs": [
    {
     "data": {
      "text/plain": [
       "AggregateReturn(properties={}, total_count=1000)"
      ]
     },
     "execution_count": 12,
     "metadata": {},
     "output_type": "execute_result"
    }
   ],
   "source": [
    "questions = client.collections.get(\"Question\")\n",
    "\n",
    "question.aggregate.over_all(total_count=True)"
   ]
  },
  {
   "cell_type": "markdown",
   "id": "1233f9b5-5676-4dc3-bcc8-86df0f86553f",
   "metadata": {},
   "source": [
    "Does the data look right?\n",
    "\n",
    "Let's grab a few objects from Weaviate!"
   ]
  },
  {
   "cell_type": "code",
   "execution_count": 13,
   "id": "345479f8-b31f-4ba4-8777-bc13cd6d91cf",
   "metadata": {
    "executionCancelledAt": null,
    "executionTime": null,
    "lastExecutedAt": null,
    "lastScheduledRunId": null,
    "lastSuccessfullyExecutedCode": null,
    "outputsMetadata": {
     "0": {
      "height": 377,
      "type": "stream"
     }
    }
   },
   "outputs": [
    {
     "name": "stdout",
     "output_type": "stream",
     "text": [
      "{'answer': 'a stun gun', 'question': \"An immobilizer used by the police (don't taze me, bro!)\"}\n",
      "{'answer': 'Brussels', 'question': 'NATO is headquartered on Blvd. Leopold III in this European capital'}\n",
      "{'answer': 'Dutch', 'question': 'The standard form of this language developed from that spoken in Amsterdam & nearby cities'}\n"
     ]
    }
   ],
   "source": [
    "response = questions.query.fetch_objects(limit=3)\n",
    "for o in response.objects:\n",
    "    print(o.properties)"
   ]
  },
  {
   "cell_type": "markdown",
   "id": "663c77a3-b0f2-429b-b2fe-78cef9d6ac40",
   "metadata": {},
   "source": [
    "Let's pause for a second - because we've done a lot!"
   ]
  },
  {
   "cell_type": "markdown",
   "id": "c4b1dbad-dfa7-4f88-a5f5-ea6a0f39e413",
   "metadata": {},
   "source": [
    "#### What did we just do?\n",
    "\n",
    "Here is a conceptual diagram"
   ]
  },
  {
   "cell_type": "markdown",
   "id": "436522dc-8cd0-47c4-8286-f839e5a785d4",
   "metadata": {},
   "source": [
    "![img](https://github.com/weaviate-tutorials/intro-workshop/blob/main/images/object_import_process_full.png?raw=1)"
   ]
  },
  {
   "cell_type": "markdown",
   "id": "2ac15074-c5f6-48e9-9950-35ee265e14d0",
   "metadata": {},
   "source": [
    "## Step 3: Work with the data"
   ]
  },
  {
   "cell_type": "markdown",
   "id": "38c5e47f-c408-4fc4-83f8-4e133d040b3b",
   "metadata": {},
   "source": [
    "Let's try a few more involved queries"
   ]
  },
  {
   "cell_type": "markdown",
   "id": "dd5740b2-2846-4462-b140-1b1b9c4544ec",
   "metadata": {},
   "source": [
    "### Filtering (similar to WHERE filter in SQL)"
   ]
  },
  {
   "cell_type": "markdown",
   "id": "b0c640bf-9f35-4d1e-96e5-455b2fb69fde",
   "metadata": {},
   "source": [
    "Let's find objects that meet a particular condition."
   ]
  },
  {
   "cell_type": "code",
   "execution_count": 14,
   "id": "db451d4b-fcdf-440f-8502-854d970c98d6",
   "metadata": {
    "executionCancelledAt": null,
    "executionTime": 48,
    "lastExecutedAt": 1692032192706,
    "lastScheduledRunId": null,
    "lastSuccessfullyExecutedCode": "where_filter = {\n    \"path\": [\"question\"],\n    \"operator\": \"Like\",\n    \"valueText\": \"*history*\"\n}\n\nresponse = (\n    client.query\n    .get(\"Question\", [\"question\", \"answer\"])\n    .with_where(where_filter)\n    .with_limit(3)\n    .do()\n)\n\njprint(response)",
    "outputsMetadata": {
     "0": {
      "height": 477,
      "type": "stream"
     }
    }
   },
   "outputs": [
    {
     "name": "stdout",
     "output_type": "stream",
     "text": [
      "What was once the Chicago Natural History Museum is now called this, after its founder\n",
      "A Hibbing, Minn. museum traces the history of this bus company founded there in 1914 using Hupmobiles\n",
      "The Drake Well Museum in Titusville, Penn. is dedicated to the history of this industry\n"
     ]
    }
   ],
   "source": [
    "import weaviate.classes.query as wq\n",
    "\n",
    "response = questions.query.fetch_objects(\n",
    "    filters=wq.Filter.by_property(\"question\").like(\"*history*\"),\n",
    "    limit=3\n",
    "    )\n",
    "\n",
    "for o in response.objects:\n",
    "    print(o.properties[\"question\"])"
   ]
  },
  {
   "cell_type": "markdown",
   "id": "d4bd3737-068a-4a88-8386-0148999947ed",
   "metadata": {},
   "source": [
    "But this does not rank the result in any meaningful way. \n",
    "\n",
    "For that, we need a keyword search (as opposed to a keyword *filter*)."
   ]
  },
  {
   "cell_type": "markdown",
   "id": "6553f176-47b5-4c2b-88e2-5c8fea71fe7e",
   "metadata": {},
   "source": [
    "### Keyword search"
   ]
  },
  {
   "cell_type": "markdown",
   "id": "d7a3d7c7-d376-465e-8a23-841203d54055",
   "metadata": {},
   "source": [
    "Unlike a keyword filter, a keyword search will search for, and rank results based on the frequency of the keyword."
   ]
  },
  {
   "cell_type": "code",
   "execution_count": 15,
   "id": "62d78900-199a-4b8d-8da1-3223c3ada047",
   "metadata": {
    "executionCancelledAt": null,
    "executionTime": 52,
    "lastExecutedAt": 1692032192810,
    "lastScheduledRunId": null,
    "lastSuccessfullyExecutedCode": "response = (\n    client.query\n    .get(\"Question\", [\"question\", \"answer\"])\n    .with_bm25(\"history\")\n    .with_limit(3)\n    .do()\n)\n\njprint(response)",
    "outputsMetadata": {
     "0": {
      "height": 477,
      "type": "stream"
     }
    }
   },
   "outputs": [
    {
     "name": "stdout",
     "output_type": "stream",
     "text": [
      "2.520803213119507\n",
      "2024-04-18 12:50:40.634000+00:00\n",
      "{'answer': '\"A Brief History Of Time In A Bottle\"', 'question': \"Stephen Hawking's 1988 bio of the universe that was a No. 1 hit for Jim Croce\"}\n",
      "1.8396204710006714\n",
      "2024-04-18 12:50:42.697000+00:00\n",
      "{'answer': 'Oil', 'question': 'The Drake Well Museum in Titusville, Penn. is dedicated to the history of this industry'}\n",
      "1.7712442874908447\n",
      "2024-04-18 12:50:38.190000+00:00\n",
      "{'answer': 'the Field Museum', 'question': 'What was once the Chicago Natural History Museum is now called this, after its founder'}\n",
      "1.6486854553222656\n",
      "2024-04-18 12:50:39.263000+00:00\n",
      "{'answer': 'Greyhound', 'question': 'A Hibbing, Minn. museum traces the history of this bus company founded there in 1914 using Hupmobiles'}\n",
      "1.6486854553222656\n",
      "2024-04-18 12:50:44.070000+00:00\n",
      "{'answer': 'the draft', 'question': \"You're in the Army now--in 1940 FDR instituted the first peacetime one of these in U.S. history\"}\n"
     ]
    }
   ],
   "source": [
    "response = questions.query.bm25(\n",
    "    query=\"history\",\n",
    "    limit=10,\n",
    "    return_metadata=wq.MetadataQuery(score=True, last_update_time=True)\n",
    ")\n",
    "\n",
    "for o in response.objects:\n",
    "    print(o.metadata.score)\n",
    "    print(o.metadata.last_update_time)\n",
    "    print(o.properties)"
   ]
  },
  {
   "cell_type": "markdown",
   "id": "ada69268-32aa-4175-99e8-516e355d5703",
   "metadata": {},
   "source": [
    "### Semantic search"
   ]
  },
  {
   "cell_type": "markdown",
   "id": "fa422c04-ae07-48e4-8202-1ea0615db2a0",
   "metadata": {},
   "source": [
    "A semantic search, on the other hand, searches objects based on similarity"
   ]
  },
  {
   "cell_type": "code",
   "execution_count": 16,
   "id": "295bcedc-496d-49a0-b8c1-b3a398d728b8",
   "metadata": {
    "executionCancelledAt": null,
    "executionTime": 159,
    "lastExecutedAt": 1692032192969,
    "lastScheduledRunId": null,
    "lastSuccessfullyExecutedCode": "response = (\n    client.query\n    .get(\"Question\", [\"question\", \"answer\"])\n    .with_near_text({\"concepts\": [\"history\"]})\n    .with_limit(3)\n    .do()\n)\n\njprint(response)",
    "outputsMetadata": {
     "0": {
      "height": 477,
      "type": "stream"
     }
    }
   },
   "outputs": [
    {
     "name": "stdout",
     "output_type": "stream",
     "text": [
      "MetadataReturn(creation_time=None, last_update_time=None, distance=0.2034582495689392, certainty=None, score=None, explain_score=None, is_consistent=None, rerank_score=None)\n",
      "{\n",
      "  \"answer\": \"Greyhound\",\n",
      "  \"question\": \"A Hibbing, Minn. museum traces the history of this bus company founded there in 1914 using Hupmobiles\"\n",
      "}\n",
      "MetadataReturn(creation_time=None, last_update_time=None, distance=0.20675033330917358, certainty=None, score=None, explain_score=None, is_consistent=None, rerank_score=None)\n",
      "{\n",
      "  \"answer\": \"Shinto\",\n",
      "  \"question\": \"Compiled in 712, the Kojiki, \\\"Records of Ancient Matters\\\", is one of this religion's oldest texts\"\n",
      "}\n",
      "MetadataReturn(creation_time=None, last_update_time=None, distance=0.21075522899627686, certainty=None, score=None, explain_score=None, is_consistent=None, rerank_score=None)\n",
      "{\n",
      "  \"answer\": \"\\\"A Brief History Of Time In A Bottle\\\"\",\n",
      "  \"question\": \"Stephen Hawking's 1988 bio of the universe that was a No. 1 hit for Jim Croce\"\n",
      "}\n"
     ]
    }
   ],
   "source": [
    "response = questions.query.near_text(\n",
    "    query=\"history\",\n",
    "    limit=3,\n",
    "    return_metadata=wq.MetadataQuery(distance=True)\n",
    ")\n",
    "\n",
    "for o in response.objects:\n",
    "    print(o.metadata)\n",
    "    print(json.dumps(o.properties, indent=2))"
   ]
  },
  {
   "cell_type": "markdown",
   "id": "6ab8beb0-ab45-4590-a4de-84b68370c026",
   "metadata": {},
   "source": [
    "#### How does this work?\n",
    "\n",
    "- Under the hood, this uses a vector search. It looks for objects which are the most similar to a text input.\n",
    "- We can inspect the similarity along with the results."
   ]
  },
  {
   "cell_type": "code",
   "execution_count": 17,
   "id": "185a77e4-b27a-4b80-9981-fd975f92e67a",
   "metadata": {
    "executionCancelledAt": null,
    "executionTime": 142,
    "lastExecutedAt": 1692032193111,
    "lastScheduledRunId": null,
    "lastSuccessfullyExecutedCode": "response = (\n    client.query\n    .get(\"Question\", [\"question\", \"answer\"])\n    .with_near_text({\"concepts\": [\"history\"]})\n    .with_additional(\"distance\")\n    .with_limit(3)\n    .do()\n)\n\njprint(response)",
    "outputsMetadata": {
     "0": {
      "height": 616,
      "type": "stream"
     }
    }
   },
   "outputs": [
    {
     "name": "stdout",
     "output_type": "stream",
     "text": [
      "0.20352506637573242\n",
      "{\n",
      "  \"answer\": \"Greyhound\",\n",
      "  \"question\": \"A Hibbing, Minn. museum traces the history of this bus company founded there in 1914 using Hupmobiles\"\n",
      "}\n",
      "0.2067863941192627\n",
      "{\n",
      "  \"answer\": \"Shinto\",\n",
      "  \"question\": \"Compiled in 712, the Kojiki, \\\"Records of Ancient Matters\\\", is one of this religion's oldest texts\"\n",
      "}\n",
      "0.21077150106430054\n",
      "{\n",
      "  \"answer\": \"\\\"A Brief History Of Time In A Bottle\\\"\",\n",
      "  \"question\": \"Stephen Hawking's 1988 bio of the universe that was a No. 1 hit for Jim Croce\"\n",
      "}\n"
     ]
    }
   ],
   "source": [
    "response = questions.query.near_text(\n",
    "    query=\"history\",\n",
    "    limit=3,\n",
    "    return_metadata=wq.MetadataQuery(distance=True)\n",
    ")\n",
    "\n",
    "for o in response.objects:\n",
    "    print(o.metadata.distance)\n",
    "    print(json.dumps(o.properties, indent=2))"
   ]
  },
  {
   "cell_type": "markdown",
   "id": "6df9e24c-edf7-4f25-ac30-6e291b3ffcad",
   "metadata": {},
   "source": [
    "This is where \"vectors\" come in. \n",
    "\n",
    "Each object in Weaviate includes a vector - like so:"
   ]
  },
  {
   "cell_type": "code",
   "execution_count": 18,
   "id": "1d75ad29-ce85-4bca-beaf-da708b20fb57",
   "metadata": {
    "executionCancelledAt": null,
    "executionTime": 54,
    "lastExecutedAt": 1692032193165,
    "lastScheduledRunId": null,
    "lastSuccessfullyExecutedCode": "response = (\n    client.query\n    .get(\"Question\", [\"question\", \"answer\"])\n    .with_additional(\"vector\")\n    .with_limit(1)\n    .do()\n)\n\njprint(response)",
    "outputsMetadata": {
     "0": {
      "height": 616,
      "type": "stream"
     }
    }
   },
   "outputs": [
    {
     "name": "stdout",
     "output_type": "stream",
     "text": [
      "0.20352506637573242\n",
      "{'default': [-0.015432987362146378, -0.010958095081150532, 0.00245478842407465, -0.038090500980615616, -0.02602716162800789, 0.011025488376617432, 0.006988649722188711, -0.014462528750300407, -0.013512288220226765, -0.028601571917533875, -0.020972689613699913, 0.015513858757913113, -0.007413225714117289, -0.020649202167987823, -0.028116341680288315, 0.01103222742676735, 0.014125564135611057, 0.014071649871766567, 0.013397720642387867, 0.006961692590266466, -0.004613047931343317, -0.006105802021920681, 0.010068507865071297, -0.009926983155310154, 0.00633830763399601, 0.004373803269118071, 0.027873728424310684, -0.011106359772384167, -0.0020824423991143703, 0.013222498819231987, -0.005344261880964041, -0.0022913606371730566, -0.016174310818314552, 0.0007792310789227486, 0.0049769701436161995, -0.032159920781850815, 0.0012383456341922283, 0.009165442548692226, 0.018843071535229683, 0.01337750256061554, -0.011638764292001724, 0.003290461143478751, -0.0038481380324810743, -0.0009940461022779346, -0.007777147460728884, -0.004323258530348539, 0.005701444577425718, 0.004222169052809477, 0.005371219012886286, 0.024153636768460274, 0.013168584555387497, 0.013471852988004684, -0.01263618003576994, -0.013815556652843952, 0.018074791878461838, -0.0030916519463062286, 0.007891715504229069, 0.02416711486876011, -0.017023460939526558, -0.006223739590495825, 0.008572384715080261, -0.008504991419613361, -0.017387382686138153, 0.019773093983530998, -0.018034355714917183, -0.029248544946312904, 0.01096483413130045, -0.018115228042006493, 0.01132875680923462, -0.007999544031918049, -0.0015508804935961962, 0.010809830389916897, -0.005512744188308716, -0.014004256576299667, 0.039114873856306076, -0.017656955868005753, -0.022145327180624008, -0.024935394525527954, -0.015716038644313812, 0.007150392979383469, -0.001356283319182694, -0.02033919468522072, -0.014004256576299667, 0.02074355259537697, 0.018829593434929848, 0.0121779078617692, 0.004805117845535278, 0.036769598722457886, 0.005657638888806105, 0.003709982382133603, 0.015473423525691032, 0.010425690561532974, -0.004242386668920517, 0.01011568307876587, 0.030596403405070305, 0.007056043017655611, 0.002080757636576891, 0.0258384607732296, -0.000425628648372367, -0.014489485882222652, -0.012097036466002464, 0.015608209185302258, 0.006085584405809641, -0.013613377697765827, -0.018964378163218498, 0.004505219403654337, 0.015500380657613277, -0.022428376600146294, -0.0013697618851438165, -0.029113758355379105, 0.0036425895523279905, 0.017373904585838318, 0.01201616507023573, -0.030353788286447525, -0.008727388456463814, -0.021916190162301064, 0.016713453456759453, -0.0009064353071153164, 0.0234123133122921, -0.028008513152599335, 0.01073569804430008, 0.022266633808612823, 0.030704231932759285, -0.008073676377534866, 0.01223182212561369, 0.033453863114118576, -0.037200912833213806, -0.0007948157144710422, -0.016686497256159782, 0.0007531163282692432, 0.0028743096627295017, -0.0012181277852505445, -0.020622245967388153, -0.006419179495424032, -0.0248949583619833, -0.006746035069227219, -0.020527895539999008, 0.04108274728059769, -0.015419509261846542, -0.02589237503707409, 0.0031961111817508936, 0.018694806843996048, 0.003224753076210618, 0.015096022747457027, 0.004067165311425924, 0.034451279789209366, 0.005910362582653761, 0.012541829608380795, -0.017791740596294403, -0.021336611360311508, 0.008221941068768501, -0.0043704332783818245, -0.0012223398080095649, -0.005236432887613773, 0.034127794206142426, 0.022590119391679764, 0.004505219403654337, 0.007190828677266836, -0.016228225082159042, 0.010533519089221954, -0.022050976753234863, 0.013411198742687702, 0.022455334663391113, 0.003430301556363702, 0.013262934051454067, 0.034316495060920715, 0.0036257412284612656, -0.0018718393985182047, 0.028709400445222855, -0.011146795004606247, -0.025124095380306244, 0.036473069339990616, -0.040220119059085846, 0.0022205980494618416, 0.015742994844913483, 0.0196383073925972, 0.02559584565460682, 0.007783886976540089, -0.0476333424448967, -0.027765899896621704, 0.005465568974614143, 0.006095692981034517, 0.016241703182458878, 0.02365492843091488, 0.015608209185302258, 0.005566658452153206, 0.013923385180532932, -0.016956068575382233, 0.019287865608930588, -0.016861718147993088, -0.008013023063540459, 0.007783886976540089, 0.017508691176772118, -0.0008508361061103642, -0.6461097598075867, -0.01085700560361147, 0.0008137699915096164, -0.0010926083195954561, -0.002554193139076233, 0.006045148242264986, 0.04208016395568848, -0.007473879028111696, -0.02527236007153988, -0.009044134989380836, -0.006564074195921421, 0.033292122185230255, 0.010034811682999134, 0.01308097317814827, -0.0022677730303257704, -0.012238561175763607, -7.634358553332277e-06, -0.004552394617348909, 0.018155662342905998, 0.006136129144579172, -0.008080415427684784, -0.004235647618770599, -0.009947201237082481, 0.0009493983234278858, 0.026768483221530914, 0.010331341065466404, 0.007325614802539349, 0.0031506207305938005, -0.0220644548535347, -0.011847682297229767, -0.027685027569532394, 0.03825224190950394, 0.031917303800582886, 0.005438611842691898, 0.035556524991989136, 0.02106703817844391, -0.031998176127672195, 0.035799138247966766, 0.004505219403654337, 0.035987839102745056, -0.016147352755069733, -0.02532627433538437, 0.0032213835511356592, 0.015742994844913483, 0.003871725406497717, 0.020069623365998268, 0.010459387674927711, -0.019395694136619568, 0.027765899896621704, -0.022455334663391113, 0.015837345272302628, 0.026148468255996704, -0.008761084638535976, 0.018896985799074173, -0.016875196248292923, -0.007959108799695969, -0.0009713010513223708, -0.003351114923134446, -0.005243172403424978, -0.002565986942499876, 0.004124449100345373, 0.028736358508467674, -0.024504080414772034, 0.0008550481870770454, -0.018721764907240868, 0.00656744372099638, -0.033993009477853775, -0.018492627888917923, 0.011645503342151642, -0.027846770361065865, -0.002124563092365861, 0.020258324220776558, -0.014732101000845432, 0.010931137949228287, 0.015513858757913113, 0.022832734510302544, 0.027765899896621704, -0.007669318933039904, 0.009610235691070557, 0.021970104426145554, -0.0016427034279331565, -0.003605523379519582, -0.005175779107958078, -0.015392552129924297, 0.05073342099785805, -0.007972586899995804, -0.05968320369720459, -0.005219584796577692, -0.001944286865182221, 0.0018819484394043684, 0.006129389628767967, 0.00039572303649038076, -0.011227667331695557, -0.010931137949228287, -0.007116696331650019, 0.038360074162483215, -0.02451755851507187, -0.00032138018286786973, -0.0020773878786712885, -0.02187575399875641, -0.008060198277235031, -0.01228573638945818, 0.02308882772922516, 0.023668406531214714, 0.036526985466480255, 0.01907220669090748, -0.020514417439699173, 0.0022947301622480154, -0.005024144891649485, -0.017562605440616608, 0.019705701619386673, -0.0017909678863361478, -0.034774765372276306, -0.007635622285306454, -0.007406486198306084, -0.031432077288627625, 0.029437243938446045, 0.006429288536310196, 0.007433443330228329, -0.02756372094154358, -0.007318875286728144, -0.013734685257077217, -0.002016734331846237, 0.02378971502184868, -0.0015913161914795637, 0.0030916519463062286, -0.01011568307876587, -0.030865974724292755, -0.019180037081241608, 0.017117811366915703, -0.005677856970578432, -0.011820725165307522, 0.031432077288627625, -0.010762655176222324, 0.033939093351364136, 0.001851621549576521, 0.019975272938609123, -0.014449050650000572, 0.020581809803843498, -0.0062945024110376835, -0.029733773320913315, 0.0020706485956907272, -0.003709982382133603, -0.006334938108921051, 0.00522632384672761, -0.037012211978435516, 0.002336850855499506, -0.005964276846498251, -0.008599341847002506, 0.004232277628034353, -0.011322016827762127, -0.02225315570831299, -0.016794325783848763, 0.02079746685922146, -0.021687055006623268, -0.003474107012152672, -0.02101312391459942, -0.006041778717190027, 0.036041755229234695, -0.012939448468387127, 0.007325614802539349, 0.009630453772842884, -0.017913049086928368, 0.02686283364892006, -0.010675044730305672, -0.030542489141225815, 0.02238794043660164, 0.029140716418623924, -0.018357841297984123, -0.0009696161723695695, -0.004137927666306496, -0.031243376433849335, -0.003780744969844818, 0.010540259070694447, 0.005647529847919941, -0.012346389703452587, 0.002756372094154358, -0.015311680734157562, 0.004289561882615089, -0.015042108483612537, 0.005944059230387211, -0.0004233120125718415, 6.823537114541978e-05, -0.00022955726308282465, 0.014583836309611797, -0.032510362565517426, 0.020163973793387413, 0.020810944959521294, -0.019503522664308548, 0.02050093747675419, -0.0027260452043265104, 0.01866784878075123, -0.013795338571071625, -0.005212845280766487, -0.033858221024274826, 0.016807803884148598, -0.007965847849845886, 0.0013107931008562446, 0.022347506135702133, 0.029437243938446045, 0.007743450812995434, -0.011281581595540047, 0.022158805280923843, -0.013963821344077587, -0.003861616598442197, -0.0031725235749036074, 0.010870484635233879, -0.02737502008676529, 0.010971574112772942, 0.002734469249844551, 0.015244287438690662, -0.008504991419613361, -0.003322472795844078, -0.035556524991989136, 0.017562605440616608, 0.001998201245442033, -0.01274400856345892, 0.017845654860138893, -0.04555764049291611, 0.005135343410074711, 0.014799494296312332, 0.018964378163218498, 0.021565746515989304, 0.0014371548313647509, 0.002795123029500246, -0.0071840896271169186, 0.019921358674764633, 0.0251645315438509, 0.010702001862227917, 0.01068178378045559, -0.0031236635986715555, 0.031620778143405914, -0.0012543514603748918, 0.012204864993691444, 0.017764784395694733, 0.010331341065466404, 0.015352115966379642, -0.010863744653761387, 0.04598895460367203, 0.003322472795844078, 0.02201054058969021, 0.003709982382133603, 0.027145883068442345, -0.012501394376158714, -0.008983481675386429, 0.0036257412284612656, 0.010634608566761017, -0.010432430543005466, -0.022697947919368744, 0.02190271206200123, -0.02618890441954136, -0.003979554399847984, 0.020177451893687248, -0.005465568974614143, 0.004019990097731352, 0.0071571324951946735, 0.021026603877544403, 0.012029643170535564, 0.028332000598311424, 0.023264048621058464, 0.0012551938416436315, 0.016053002327680588, -0.009664149954915047, -0.030003344640135765, 0.00013847147056367248, -0.010371776297688484, 0.000931707676500082, 0.002712566638365388, -0.029545072466135025, -0.004734355490654707, -0.02740197628736496, -0.016309095546603203, -0.007615404203534126, -0.032348621636629105, 0.024881480261683464, 0.021323131397366524, 0.004067165311425924, -0.015406030230224133, 0.005927210673689842, 0.01947656460106373, -0.012036382220685482, -0.01275748759508133, 0.019395694136619568, 0.012656398117542267, -0.015823867172002792, -0.006166455801576376, -0.008525209501385689, 0.011753331869840622, -0.017656955868005753, -0.004821966402232647, 0.006772992201149464, 0.02618890441954136, -0.010297643952071667, 0.005981124937534332, -0.013667291961610317, 0.004461413715034723, 0.029194630682468414, -0.013855992816388607, 0.006890930235385895, 0.00045995693653821945, -0.018789157271385193, -0.007743450812995434, -0.036877427250146866, -0.004832074977457523, 0.033399950712919235, 0.0010033126454800367, 0.014044692739844322, -0.040732305496931076, -0.006695490330457687, -0.0049769701436161995, 0.006324829068034887, 0.006483202800154686, -0.016740411520004272, -0.00603503966704011, -0.015756472945213318, 0.02095920965075493, -0.02060876600444317, 0.016861718147993088, 0.06033017858862877, 0.007804104592651129, -0.0021649987902492285, -0.030461616814136505, -0.027738941833376884, -0.0021936409175395966, 0.1127888560295105, 0.014772536233067513, -0.011888118460774422, 0.00016637636872474104, -0.02300795540213585, 0.024665823206305504, -0.009414796717464924, -0.03722786903381348, 0.004353585187345743, 0.006328199058771133, 0.00010835524153662845, -0.016673017293214798, 0.0028911579865962267, -0.014152521267533302, 0.005957537796348333, -0.011658982373774052, -0.016403445973992348, 0.019853966310620308, 0.025447580963373184, -0.0015096022980287671, -0.004394020885229111, -0.006604509893804789, -0.04868467524647713, 0.021673575043678284, 0.007056043017655611, -0.015432987362146378, 0.036041755229234695, 0.014058170840144157, 0.004407499451190233, 0.002539029810577631, -0.012548568658530712, -0.0024817457888275385, 0.004296300932765007, 0.0009889916982501745, -0.0019560805521905422, 0.016443882137537003, -0.016794325783848763, 0.020541373640298843, -0.0014615848194807768, 0.006281023845076561, 0.037389613687992096, 0.01376838143914938, -0.016376489773392677, -0.018357841297984123, 0.027954598888754845, -0.01011568307876587, 0.007831062190234661, 0.010236990638077259, 0.013734685257077217, -0.015742994844913483, 0.04253843426704407, 0.0014809602871537209, -0.0062068914994597435, -0.016619103029370308, 0.01326967403292656, -0.014664707705378532, -0.0003637113841250539, -0.009576539508998394, -0.014287306927144527, -0.003972814884036779, -0.005495895631611347, -0.031108589842915535, 0.023937979713082314, -0.010722219944000244, -0.02308882772922516, -0.036176539957523346, -0.0408940464258194, -0.027954598888754845, -0.013815556652843952, 0.012245300225913525, -0.009414796717464924, -0.02710544876754284, -0.005340891890227795, 0.033022549003362656, 0.035880010575056076, 0.009664149954915047, 0.025878896936774254, -0.011099620722234249, 0.0025895745493471622, 0.017791740596294403, 0.004171624314039946, -0.009738282300531864, -0.00034096624585799873, -0.02130965329706669, 0.016659539192914963, 0.02408624440431595, 0.025878896936774254, -0.008107372559607029, -0.009785457514226437, 0.0034673677291721106, 0.008592601865530014, -0.035313911736011505, 0.017104333266615868, -0.010250468738377094, 0.01119397021830082, -0.028871143236756325, 0.015985609963536263, 0.013532506301999092, -0.011133316904306412, 0.006934735458344221, 0.01240704394876957, 0.004461413715034723, -0.00035212820512242615, -0.025824982672929764, 0.00045869333553127944, -0.0021211933344602585, 0.007460400462150574, 0.0009131745900958776, 0.009987636469304562, 0.0053206742741167545, 0.0070695215836167336, -0.018142184242606163, -0.002870940137654543, 0.024207551032304764, -0.00254239933565259, 0.007723233196884394, -0.006385482847690582, 0.0121779078617692, -0.031485989689826965, -0.009664149954915047, 0.0022728275507688522, -0.02303491346538067, 0.019517000764608383, 0.015527337789535522, -0.028790272772312164, 0.010391994379460812, -0.008936306461691856, -0.016457360237836838, -0.035475652664899826, -0.008242159150540829, 0.002446364378556609, 0.034181710332632065, 0.003807702101767063, -0.023991893976926804, -0.014893843792378902, -0.014583836309611797, -0.02187575399875641, 0.001807816093787551, 0.012225083075463772, -0.011227667331695557, -0.0035145427100360394, 0.004188472405076027, 0.012292475439608097, 0.0003765581641346216, -0.0003140090557280928, -0.019274385645985603, 0.005307195708155632, 0.018276970833539963, 0.011005270294845104, 0.007109957281500101, 0.005984494928270578, 0.011584850028157234, 0.0035212822258472443, 0.006729186978191137, -0.002434570575132966, -0.02295404113829136, 0.004134558141231537, -0.016699975356459618, 0.014017735607922077, 0.040408819913864136, 0.033399950712919235, 0.015298201702535152, 0.014341222122311592, 0.0011482075788080692, -0.002025158377364278, 0.022401420399546623, -0.02387058548629284, 0.02397841401398182, -0.013909907080233097, 0.006914517842233181, 0.005765467882156372, 0.014489485882222652, 0.01207007933408022, 0.0070695215836167336, -0.014449050650000572, 0.008599341847002506, -0.004198581445962191, 0.010654826648533344, 0.0030057260300964117, -0.05418393760919571, -0.009691107086837292, 0.006712338887155056, -0.0006794052897021174, 0.030839018523693085, -0.04518023878335953, -0.002768165897578001, 0.008525209501385689, -0.009151963517069817, -0.005768837407231331, -0.011672460474073887, 0.02581150270998478, -0.031432077288627625, 0.02414015866816044, 0.008713909424841404, -0.017387382686138153, -0.004788269754499197, -0.01212399359792471, -0.018910463899374008, 0.007777147460728884, 0.001102717244066298, 0.00554307084530592, -0.013795338571071625, 0.0009839371778070927, 0.005910362582653761, 0.007979325950145721, 0.011733113788068295, -0.0009763555135577917, -0.04162188991904259, -0.018586978316307068, -0.02376275695860386, -0.015406030230224133, -0.005074689630419016, -0.02276534214615822, -0.008120851591229439, 0.017872612923383713, 0.030677275732159615, 0.004097491968423128, 0.006341677624732256, -0.044802840799093246, -0.020217888057231903, 0.012737269513309002, -0.020204409956932068, 0.016322575509548187, 0.004154775757342577, 0.028628529980778694, 0.031944263726472855, -0.010931137949228287, -0.01866784878075123, 0.0061529772356152534, -0.008390423841774464, 0.007548011373728514, 0.011888118460774422, 0.010216772556304932, -0.02284621261060238, -0.02508365921676159, -8.720280675333925e-08, 0.013795338571071625, -0.016673017293214798, -0.017993919551372528, 0.023964935913681984, 0.035853054374456406, -0.003622371470555663, 0.009300228208303452, -0.017144769430160522, 0.0019257537787780166, 0.01360663864761591, 0.005529592279344797, 0.016147352755069733, 0.001438839710317552, 0.004693919792771339, -0.01027742587029934, 0.02397841401398182, -0.003263504011556506, 0.0031118697952479124, 0.004491740837693214, -0.023048391565680504, -0.009071092121303082, 0.0022627185098826885, 0.0036190019454807043, -0.002833873964846134, -0.02457147277891636, 0.04528806731104851, -0.031782519072294235, 0.010823309421539307, 0.009967418387532234, -0.0029383329674601555, -0.001383240451104939, 0.004296300932765007, 0.010904180817306042, 0.027658071368932724, -0.006041778717190027, -0.016282139346003532, -0.002195325680077076, 0.020420067012310028, 0.019853966310620308, -0.005300456192344427, 0.0016410185489803553, -0.00129310239572078, -0.02556888945400715, -0.02346622757613659, 0.02559584565460682, 0.015675602480769157, -0.015594731085002422, 0.007332353852689266, 0.006473093759268522, -0.018128706142306328, -0.017400862649083138, -0.002397504635155201, -0.002183531876653433, -0.031243376433849335, -0.040004462003707886, -0.014004256576299667, 0.001553407753817737, 0.005425133276730776, -0.02586541697382927, -0.007952368818223476, 0.010425690561532974, 0.04668984189629555, -0.004195211920887232, 0.017279554158449173, -0.0014034584164619446, 0.017940005287528038, -0.019490044564008713, -0.007359310984611511, -0.0022846213541924953, -0.033372994512319565, -0.0021970104426145554, -0.0008735812152735889, -0.02166009694337845, -0.010284165851771832, -0.0037436787970364094, 0.027873728424310684, 0.008403901942074299, -0.015945173799991608, -0.011726374737918377, 0.009967418387532234, 0.02508365921676159, -0.010850266553461552, -0.031189462170004845, 0.039600104093551636, -0.005691335536539555, 0.008767823688685894, 0.016848240047693253, -0.0021582595072686672, 0.025178009644150734, -0.0066719031892716885, 0.005388067103922367, -0.002995616989210248, -0.036661770194768906, -0.026067595928907394, -0.01119397021830082, 0.012245300225913525, -0.029625944793224335, -0.0004810172540601343, -0.024180592969059944, -0.006270914804190397, -0.008943045511841774, 0.009239574894309044, -0.007244742941111326, 0.006769622676074505, 0.009792196564376354, 0.013033797964453697, 0.012171168811619282, 0.021808361634612083, -0.0013478591572493315, 0.002075703116133809, 0.008639777079224586, -0.01022351160645485, -0.022940563037991524, -0.0022964151576161385, 0.0028675703797489405, 0.05634051561355591, -0.018209578469395638, 0.0007602768018841743, -0.038360074162483215, 0.009745022282004356, -0.04345497861504555, -0.0106278695166111, 0.026687612757086754, 0.0016250127227976918, 0.038494858890771866, -0.011241145431995392, -0.017576083540916443, 0.0044850013218820095, 0.0007295287796296179, 0.022455334663391113, 0.012386825866997242, -0.001634279265999794, -0.007797365542501211, -0.005677856970578432, -0.0037436787970364094, 0.02090529538691044, -0.005532961804419756, -0.010702001862227917, -0.0014144097222015262, -0.011396149173378944, 0.003367963247001171, 0.026525868102908134, -0.017239119857549667, 0.0121105145663023, -0.014678186737000942, 0.00041530909948050976, 0.011268102563917637, -0.015042108483612537, 0.009542843326926231, -0.021080518141388893, -0.04361672326922417, -0.012548568658530712, -0.017009982839226723, -0.007884976454079151, -0.015500380657613277, -0.008707170374691486, 0.02538018859922886, 0.01297314465045929, -0.018155662342905998, 0.0027850139886140823, 0.01073569804430008, -0.0017471624305471778, 0.014044692739844322, 0.002368862507864833, -0.009515886195003986, 0.017171725630760193, 0.015837345272302628, 0.008875653147697449, 0.0033056247048079967, 0.017913049086928368, -0.025474539026618004, -0.00640570092946291, -0.01267661526799202, -0.040813177824020386, 0.007062782067805529, -0.011146795004606247, 0.018950900062918663, -0.02360101416707039, -0.007965847849845886, -0.010041550733149052, 0.002712566638365388, -0.027765899896621704, 0.02314274199306965, -0.02376275695860386, -0.020069623365998268, -0.006331568583846092, -0.0006330726318992674, 0.017185203731060028, -0.007487357594072819, -0.004245756659656763, -0.00028915790608152747, -0.029410287737846375, -0.009926983155310154, 0.01337750256061554, 0.007366050500422716, -0.034154750406742096, -0.005842969752848148, 0.0026384342927485704, -0.008909349329769611, 0.008093894459307194, 0.17080071568489075, -0.004265974275767803, 0.020824424922466278, 0.0045726122334599495, -0.036607854068279266, 0.017225639894604683, 0.016322575509548187, 0.005421763751655817, 0.013283152133226395, 0.019705701619386673, -0.013896428048610687, 0.0015955283306539059, -0.014219914563000202, -0.0013529136776924133, 0.007959108799695969, -0.04437152296304703, -0.041460148990154266, -0.020891817286610603, -0.030003344640135765, -0.007029085420072079, 0.004990448709577322, 0.004313149489462376, 0.009401317685842514, -0.011618546210229397, 0.034828681498765945, 0.0012156005250290036, -0.0016443881904706359, 0.01313488744199276, 0.0236818864941597, 0.009226095862686634, -0.015082544647157192, -0.021026603877544403, 0.0004923897795379162, -0.011888118460774422, 0.012541829608380795, -0.006361895240843296, 0.005098277237266302, -0.013101191259920597, 0.0062675452791154385, 0.0032230683136731386, 0.007083000149577856, -0.026984140276908875, -0.009630453772842884, 0.00036097352858632803, 0.001402615918777883, 0.004710767883807421, 0.0071571324951946735, -0.010021332651376724, -0.008397162891924381, -0.012858577072620392, -0.035772182047367096, -0.029167672619223595, 0.006574183236807585, 0.027172841131687164, 0.0059171016328036785, -0.018640892580151558, -0.008929567411541939, -0.005303825717419386, 0.005445350892841816, -0.0036897645331919193, -0.012272258289158344, 0.030865974724292755, -0.010668305680155754, 0.02643151767551899, -0.010870484635233879, -0.003393235383555293, 0.005910362582653761, 0.013950342312455177, 0.012562047690153122, -0.019004814326763153, -0.003753787837922573, -0.003807702101767063, -0.01131527777761221, -0.0003639219794422388, -0.003253395203500986, -0.02686283364892006, 0.028035471215844154, 0.024746695533394814, 0.01161180716007948, 0.008039980195462704, -0.017643475905060768, 0.021889233961701393, -0.007932151667773724, 0.006223739590495825, 0.003686394775286317, -0.02705153450369835, 0.012609222903847694, 0.016106916591525078, -0.005792425014078617, -0.0028625158593058586, 0.014556879177689552, -0.004562503192573786, -0.00647983280941844, -0.016349531710147858, -0.009596757590770721, 0.002914745593443513, 0.020244844257831573, 0.05076037719845772, -0.012434001080691814, 0.0064629847183823586, -0.016875196248292923, 0.015419509261846542, 0.005556549411267042, -0.009643932804465294, -0.01176007091999054, 0.012332911603152752, 0.011658982373774052, -0.004515328444540501, -0.02160618267953396, -0.030785104259848595, -0.008498252369463444, -0.03825224190950394, 0.008194983936846256, -0.008639777079224586, -0.0023183177690953016, 0.010014593601226807, 0.014044692739844322, -0.029167672619223595, 0.00566437840461731, 0.0026468585710972548, 0.013674031011760235, -0.011800507083535194, 0.010951356031000614, 0.008781302720308304, -0.020837903022766113, -0.0012602483620867133, -0.0029753991402685642, 0.023371879011392593, -0.0007274227682501078, -0.040004462003707886, 0.0016081645153462887, -0.01223182212561369, 0.013121409341692924, -0.009273271076381207, -0.016241703182458878, 0.007588447071611881, -0.012319432571530342, -0.025663238018751144, -0.032564278692007065, -0.005657638888806105, 0.011645503342151642, -0.018735243007540703, 0.009745022282004356, 0.0004212060011923313, 0.010850266553461552, -0.034666936844587326, 0.012885534204542637, -0.0004054107703268528, -0.025663238018751144, -0.02742893435060978, -0.009980897419154644, 0.0030596402939409018, 0.01011568307876587, -0.017036940902471542, 0.035313911736011505, -0.0002445100690238178, -0.006149607710540295, 0.02028528042137623, 0.010183076374232769, 0.007568229455500841, -0.038575731217861176, 0.005778946448117495, 0.026903269812464714, -0.017144769430160522, -0.022536205127835274, 0.0062945024110376835, -0.1720946580171585, 0.013802077621221542, 0.01355272438377142, -0.004394020885229111, -0.014556879177689552, -0.023776236921548843, 0.013923385180532932, -0.01177354995161295, -0.015069065615534782, -0.007507575675845146, 0.017616519704461098, -0.017993919551372528, -0.04617765545845032, -0.02063572406768799, 0.006500050891190767, -0.012885534204542637, -0.031081633642315865, 0.00046880226000212133, 0.018802635371685028, -0.017090855166316032, 0.02330448478460312, -0.010439169593155384, 0.034478239715099335, -0.02427494339644909, 0.0044580441899597645, 0.031728606671094894, -0.011200710199773312, -0.00619678245857358, 0.010661565698683262, -0.027091968804597855, -0.022509248927235603, 0.005361109972000122, 0.004073904361575842, -0.0014110400807112455, 0.010297643952071667, -0.006503420416265726, -0.012157689779996872, 0.009077831171452999, -0.02492191642522812, 0.02691674791276455, 0.015958651900291443, -0.009637192822992802, 0.026175424456596375, -0.0031405119225382805, 0.0060889539308846, 0.024207551032304764, -0.012885534204542637, 0.009273271076381207, 0.03763222694396973, -0.018533064052462578, 0.01341793779283762, -0.020932253450155258, 0.013525767251849174, 0.031674690544605255, -0.016578668728470802, -0.011584850028157234, -0.01039873342961073, 0.008922827430069447, 0.007568229455500841, -0.0010176337091252208, -0.015540816821157932, -0.009704586118459702, 0.029464202001690865, -0.007574968505650759, -0.020366152748465538, -0.04968208819627762, -0.022994477301836014, -0.005014036316424608, -0.028736358508467674, 0.01320228073745966, -0.019746137782931328, -0.019597873091697693, 0.027469370514154434, -0.016079960390925407, 0.02155226841568947, 0.010580694302916527, -0.004589460324496031, 0.007932151667773724, -0.018223056569695473, -0.00021439384727273136, -0.019112642854452133, 0.05973711982369423, -0.028412871062755585, 0.0026114771608263254, -0.020945731550455093, -0.02276534214615822, 0.002790068509057164, 0.014974715188145638, -0.00331741850823164, -0.001988092204555869, 0.009428274817764759, -0.021943148225545883, 0.001802761689759791, -0.018371321260929108, 0.015810389071702957, -0.00064655119786039, -0.010904180817306042, -0.02068963833153248, -0.012157689779996872, -0.020123537629842758, -0.004447935149073601, -0.026256296783685684, -0.026256296783685684, 0.006564074195921421, 0.035179123282432556, 0.02454451657831669, 0.018964378163218498, 0.006968432106077671, 0.034586068242788315, 0.016592146828770638, -0.0011776919709518552, 0.037820927798748016, 0.035394780337810516, 0.02726719155907631, -0.008376944810152054, -0.010809830389916897, 0.005445350892841816, -0.029437243938446045, 0.01159832812845707, 0.02244185470044613, 0.036580897867679596, 0.008707170374691486, -0.012366607785224915, 0.018519585952162743, -0.0004607993469107896, -0.02230706997215748, -0.10448604077100754, -0.009569800458848476, 0.008066937327384949, -0.01267661526799202, 0.008922827430069447, 0.038225285708904266, 0.021107474341988564, 0.015931695699691772, -0.004879250191152096, 0.020595287904143333, -0.02039310894906521, -0.01193529274314642, 0.0023402206134051085, -0.019139600917696953, 0.06016843393445015, 0.02217228338122368, -0.00166376365814358, -0.014300785958766937, -0.020878339186310768, 0.019206993281841278, -0.007574968505650759, 7.386899960692972e-05, -0.009792196564376354, -0.0030815431382507086, -0.0061462377198040485, -0.015756472945213318, -0.026768483221530914, 0.018479149788618088, 0.030219003558158875, 0.005081429146230221, 0.019328299909830093, -0.02198358252644539, 0.006574183236807585, 0.0005858975346200168, 0.008262377232313156, -0.0013453318970277905, -0.018519585952162743, 0.0015087599167600274, 0.025959767401218414, -0.025097137317061424, -0.002107714768499136, 0.005415024235844612, 0.01176007091999054, -0.017643475905060768, 0.006166455801576376, -0.033049508929252625, -0.005229693837463856, 0.014381657354533672, 0.01119397021830082, -0.023075349628925323, -0.015500380657613277, -0.015918217599391937, -0.010075247846543789, -0.02373580075800419, 0.028520699590444565, -0.0057486193254590034, 0.008248898200690746, 0.014529922045767307, -0.03682351112365723, -0.030650317668914795, 0.007399747148156166, -0.010284165851771832, 0.00029631840880028903, -0.012440740130841732, 0.009596757590770721, -0.018169142305850983, -0.011113098822534084, -0.010081986896693707, 0.003683025250211358, -0.019719179719686508, 0.008983481675386429, -0.011362452991306782, -0.018586978316307068, 0.00020428490824997425, -0.024504080414772034, 0.013161844573915005, -0.017643475905060768, -0.013168584555387497, 0.004036838188767433, -0.002060539787635207, -0.004036838188767433, -0.008053458295762539, 0.013741424307227135, -0.005074689630419016, -0.003497694618999958, 0.007258221507072449, 0.005438611842691898, 0.009394578635692596, 0.017036940902471542, -0.018115228042006493, 0.015028629451990128, 0.022563163191080093, 0.016120396554470062, -0.024557994678616524, 0.0038818344473838806, 0.009023916907608509, 0.009138485416769981, 0.021026603877544403, -0.027927642688155174, 0.010836787521839142, -0.0060653663240373135, -0.015015151351690292, -0.06755470484495163, 0.01988092251121998, 0.021242260932922363, 0.009529364295303822, 0.028763314709067345, 0.002395819639787078, -0.010317862033843994, -0.031971219927072525, 0.008875653147697449, 0.013262934051454067, -0.009751761332154274, 0.013438155874609947, 0.004400760401040316, -0.004323258530348539, -0.018627414479851723, -0.004151406232267618, 0.026148468255996704, -0.023641450330615044, 0.005468938499689102, 0.02640456147491932, 0.011753331869840622, 0.002537344815209508, 0.0029787688981741667, 0.02575758844614029, -0.008956524543464184, 0.0007998701767064631, 0.0029585508164018393, 0.030353788286447525, 0.0020740183535963297, 0.009253052994608879, 0.032348621636629105, -0.04722898453474045, 0.013802077621221542, 0.014341222122311592, -0.020824424922466278, -0.00143462757114321, -0.0008095579105429351, 0.0034606284461915493, -0.004859032575041056, 0.031836435198783875, -0.024962352588772774, -0.007608665153384209, 0.001517183962278068, -0.008154547773301601, 0.00596764637157321, -0.016174310818314552, -0.002473321510478854, 0.007467139977961779, 0.019813530147075653, 0.010331341065466404, 0.015918217599391937, 0.0266471765935421, -0.02575758844614029, -0.037066128104925156, 0.007163871545344591, 0.012481176294386387, 0.0019139600917696953, 0.010156119242310524, 0.00156604393851012, -0.020325716584920883, 0.02624281868338585, 0.0020386369433254004, -0.0031135547906160355, 0.0007800735183991492, 0.029437243938446045, -0.013869470916688442, 0.012238561175763607, 0.013505549170076847, 0.004616417922079563, -0.027846770361065865, -0.015527337789535522, -0.0023132632486522198, 0.016322575509548187, -0.007083000149577856, 0.014624272473156452, 0.012892273254692554, -0.004350215662270784, -0.015756472945213318, -0.024315379559993744, 0.012063339352607727, 0.015662124380469322, -0.02362797223031521, -0.006695490330457687, -0.005728401709347963, 0.0495203472673893, 0.016457360237836838, -0.0064090704545378685, 0.019409172236919403, 0.008996959775686264, 0.01193529274314642, -0.019153079017996788, -0.0022964151576161385, -0.015136458911001682, -0.003925639670342207, -0.020541373640298843, 0.006213631015270948, -0.010540259070694447, -0.001863415353000164, 0.0057486193254590034, 0.02416711486876011, 0.00548915658146143, 0.005960907321423292, 0.016376489773392677, -0.038171373307704926, -0.025717154145240784, 0.028925057500600815, 0.008754345588386059, -0.020029187202453613, -0.004832074977457523, 0.023129263892769814, -0.00082935462705791, 0.011497238650918007, -0.0009485558839514852, 0.005492526106536388, -0.006149607710540295, 0.02268446981906891, 0.0036257412284612656, -0.0243558157235384, -0.026930226013064384, 0.033022549003362656, 0.024665823206305504, 0.0003403344308026135, 0.004552394617348909, -0.010850266553461552, 0.029652902856469154, -0.003605523379519582, 0.024504080414772034, -0.033346034586429596, -0.02171401120722294, 0.002675500465556979, 0.016902154311537743, -0.010095464996993542, -0.020622245967388153, -0.011099620722234249, -0.014422093518078327, -0.010479604825377464, -0.0014615848194807768, 0.031512945890426636, -0.004670332185924053, 0.07930803298950195, 0.016565188765525818, 0.014516443014144897, 0.008956524543464184, -0.006392222363501787, 0.009785457514226437, 0.028224172070622444, -0.005115125793963671, -0.029437243938446045, 0.0037167216651141644, 0.023075349628925323, -0.008302812464535236, 0.020945731550455093, -0.031324248760938644, -0.016241703182458878, -0.002025158377364278, -0.021053560078144073, 0.008114112541079521, 0.008552166633307934, 0.006705599371343851, 0.013815556652843952, -0.016888676211237907, 0.0027647961396723986, -0.0027260452043265104, 0.004865771625190973, 0.007911933586001396, -0.014489485882222652, -0.027065012603998184, -0.035637397319078445, -0.024665823206305504, 0.008525209501385689, 0.014017735607922077, -0.031378161162137985, -0.02106703817844391, -0.004434456583112478, -0.007736711762845516, -0.016160830855369568, -0.008579123765230179, 0.04372455179691315, -0.031216418370604515, -0.018843071535229683, 0.030165089294314384, -0.01200268603861332, 0.005795794539153576, 0.01993483677506447, -0.017306512221693993, -0.02225315570831299, 0.003932379186153412, -0.005421763751655817]}\n",
      "{\n",
      "  \"answer\": \"Greyhound\",\n",
      "  \"question\": \"A Hibbing, Minn. museum traces the history of this bus company founded there in 1914 using Hupmobiles\"\n",
      "}\n",
      "0.2067863941192627\n",
      "{'default': [0.02151237055659294, -0.007162076886743307, -0.010534003376960754, 0.018205789849162102, 0.005240862723439932, 0.010422913357615471, -0.02050602063536644, -0.01910758577287197, -0.017839845269918442, -0.027811860665678978, 0.0031334087252616882, 0.03552285581827164, 0.0017219044966623187, 0.003986192401498556, -0.013258990831673145, 0.023302888497710228, 0.028334639966487885, 0.00782862026244402, 0.01544812973588705, 0.0002901833795476705, 0.006926826201379299, 0.018075095489621162, -0.009873994626104832, -0.005920476280152798, 0.015787936747074127, -0.012135015800595284, 0.010148454457521439, -0.030634868890047073, -0.009227055124938488, -0.023067638278007507, -0.012585912831127644, -0.003293509827926755, -0.029772283509373665, -0.013258990831673145, -0.03400679677724838, -0.0390777550637722, -0.021564647555351257, -0.010011224076151848, -0.016153881326317787, 0.00023014543694444, 0.0012946957722306252, 0.011455402709543705, 0.004894521553069353, 0.022022079676389694, 0.006959499791264534, 0.0031987561378628016, 0.02130325883626938, -0.01533050462603569, 0.010625489987432957, 0.030164368450641632, 0.028935836628079414, 0.01444177981466055, -0.026008272543549538, -0.004162630531936884, -0.01215462014079094, -0.022923873737454414, 0.017944401130080223, 0.0069398959167301655, -0.008442886173725128, -0.011043713428080082, 0.013154434971511364, 0.0012718241196125746, -0.006404046900570393, 0.011514214798808098, -0.017016468569636345, -0.0015650707064196467, -0.013788305222988129, -0.003803219646215439, -0.041195012629032135, -0.010873810388147831, 0.012200362980365753, 0.029301783069968224, -0.00953418854624033, -0.0013624936109408736, 0.009076756425201893, -0.015565754845738411, -0.015029906295239925, -0.01646754890680313, -0.010194197297096252, 0.01793133094906807, -0.004136491566896439, -0.010514399968087673, 0.02164306491613388, 0.0030402885749936104, 0.010351031087338924, -0.010880345478653908, -0.013736027292907238, 0.028569892048835754, 0.0028115727473050356, -0.02314605563879013, 0.034346602857112885, 0.0007510868599638343, 0.028831280767917633, 0.022348817437887192, -0.029406338930130005, -0.014219597913324833, -0.0003618613409344107, 0.030634868890047073, -0.024688255041837692, -0.008442886173725128, -0.018976889550685883, 0.01756538636982441, 0.00424104742705822, -0.016114672645926476, -0.031915679574012756, 0.011736396700143814, 0.0015070748049765825, -0.007599904667586088, 0.007201285567134619, -0.009606070816516876, -0.019382044672966003, 0.0447499118745327, 0.010854206047952175, -0.03309193253517151, 0.01462475210428238, -0.01284076739102602, 0.03552285581827164, -0.030870120972394943, -0.02003551833331585, -0.009547257795929909, 0.0014188558561727405, -0.00226265424862504, 0.017121024429798126, -0.02561618760228157, 0.015500407665967941, 0.025733813643455505, -0.03716961294412613, -0.011213616468012333, -0.010723511688411236, -0.007501883432269096, 0.02885741926729679, 0.0036692575085908175, -0.002434191294014454, 0.014049694873392582, -0.017957471311092377, 0.02070206217467785, -0.019695712253451347, 0.020257700234651566, -0.0082664480432868, -0.013232852332293987, 0.00731237605214119, -0.0016050959238782525, -0.023028429597616196, -0.007011777721345425, -0.01205659843981266, 0.015644172206521034, 0.02007472701370716, 0.010396773926913738, -0.0002311664866283536, 0.00898526981472969, 0.035287607461214066, -0.013317803852260113, -0.0015658874763175845, 0.012481356970965862, 0.02768116630613804, 0.006430185865610838, 0.0020404730457812548, 0.020153144374489784, -0.012644725851714611, 0.006158994045108557, -0.01389286108314991, 0.006698110140860081, 0.021198702976107597, -0.002362309256568551, 0.009390424005687237, 0.027001552283763885, 4.559003355097957e-05, -0.009834786877036095, 0.01038370467722416, -0.003535295370966196, -0.017552316188812256, 0.013180574402213097, -0.019878685474395752, 0.018127374351024628, 0.010364100337028503, 0.0005497351521626115, -0.012278779409825802, 0.009638744406402111, -0.02217891439795494, -0.011135200038552284, -0.024805879220366478, 0.003170983400195837, -0.0032036572229117155, 0.02664867788553238, -0.006966034881770611, -0.012677399441599846, -0.010547073557972908, 0.029615450650453568, 0.014219597913324833, 0.018388763070106506, 0.015879422426223755, 0.01797053962945938, -0.007116334047168493, -0.012742746621370316, -0.6574472784996033, -0.036751389503479004, 0.011030644178390503, -0.01625843718647957, 0.022884665057063103, -0.0071097989566624165, 0.0248842965811491, 0.009762904606759548, -0.012814628891646862, -0.019695712253451347, -0.000140803269459866, 0.012729677371680737, -0.00646939454600215, -0.03309193253517151, -0.03547057881951332, -0.007521487772464752, 0.00195388775318861, -0.015056044794619083, 0.0031007349025458097, -0.02828236296772957, -0.009240125305950642, -0.017473898828029633, 0.00933161098510027, 0.015474268235266209, -0.0006228425772860646, -0.005776711739599705, 0.014428709633648396, -0.01167104858905077, -0.006966034881770611, 0.03905161842703819, -0.038424283266067505, 0.011265895329415798, 0.004705014172941446, 0.01829727739095688, 0.03803219646215439, -0.003407867858186364, -0.025302520021796227, 0.033510155975818634, 0.037221889942884445, 0.03152359277009964, -0.005070959683507681, -0.021355535835027695, 0.02237495593726635, -0.005008879583328962, -0.0161930900067091, 0.0006150825647637248, 0.04657964035868645, -0.007978919893503189, 0.03703891485929489, -0.008044267073273659, 0.004731153137981892, -0.019081445410847664, -0.004656003322452307, -0.0018542329780757427, 0.004257384222000837, 0.0076913912780582905, 0.027106108143925667, -0.020819688215851784, 0.009926272556185722, 0.0185325276106596, 0.0012048430508002639, 0.02514568716287613, -0.01793133094906807, -0.02164306491613388, -0.04051540046930313, -0.011520749889314175, -0.03923458978533745, 0.010089641436934471, 0.01533050462603569, -0.03533988445997238, 0.006132855080068111, 0.000105270606582053, -0.010161523707211018, -0.0232114028185606, 0.004734420217573643, 0.0323861800134182, 0.018480250611901283, -0.008808831684291363, 0.00010904850205406547, 0.00384896295145154, -0.0004892887664027512, 0.0033196487929672003, -0.017944401130080223, -0.009488444775342941, 0.011952042579650879, -0.028230084106326103, -0.02497578226029873, 0.007554161362349987, 0.015918631106615067, -9.791902266442776e-05, -0.009730230085551739, -0.016977259889245033, 0.019630365073680878, 0.01739548332989216, 0.002032304648309946, 0.035888802260160446, -0.009802112355828285, -0.014899211004376411, 0.02284545823931694, 0.004427287727594376, 0.0057277013547718525, 0.011350846849381924, 0.006881082896143198, -0.0032314297277480364, -0.01462475210428238, 0.005312744993716478, -0.014062764123082161, -0.011494610458612442, 0.011501145549118519, -0.019460460171103477, 0.02608668990433216, 0.012344127520918846, -0.005217991303652525, -0.0009434533421881497, 0.000940185971558094, -0.023054569959640503, 0.04655349999666214, 0.005453241989016533, 0.02825622446835041, -0.0033212825655937195, 0.01005043275654316, 0.01305641420185566, 0.0054924506694078445, 0.023825667798519135, 0.012095807120203972, 0.03225548565387726, -0.019826406612992287, -0.02247951179742813, 0.004071143921464682, -0.03068714775145054, -0.011971646919846535, -0.002669441979378462, 0.028177807107567787, -0.009756369516253471, 0.02000937983393669, -0.007083659991621971, 0.00697910413146019, -0.005247397813946009, 0.0215385090559721, -0.0046854098327457905, -0.018519457429647446, 0.0023704776540398598, 0.001356775755994022, -0.0010496429167687893, -0.003721535438671708, -0.03719574958086014, -0.0008094911463558674, 0.010285683907568455, -0.02765502780675888, 0.00028569073765538633, 0.016454480588436127, -0.02741977572441101, -0.030530313029885292, 0.010311822406947613, -0.01642834022641182, 0.004332534037530422, -0.01743469201028347, -0.018859265372157097, 0.007142473012208939, -0.004312929697334766, 0.009521118365228176, 0.013435428962111473, -0.026099758222699165, -0.0037476744037121534, 0.003028852865099907, -0.011167873628437519, -0.03599335625767708, 0.0005873099435120821, 0.010475191287696362, -0.046004582196474075, -0.013115227222442627, -0.009789043106138706, 0.0012350662145763636, 0.008070406503975391, 0.009351215325295925, 0.010141919367015362, -0.0007923374650999904, -0.017225580289959908, 0.005459776613861322, -0.01030528824776411, -0.013363546691834927, 0.011919368989765644, -0.008279518224298954, -0.0095995357260108, 0.011867091059684753, -0.026439566165208817, 0.008331796154379845, -0.0006534741842187941, 0.012246105819940567, 0.018022818490862846, -0.00016367486387025565, 0.023786460980772972, 0.01823193021118641, -0.014219597913324833, -0.008671602234244347, 0.012755815871059895, 0.003151379292830825, -0.00036206553340889513, 0.017173301428556442, 0.02692313678562641, 0.014062764123082161, -0.015644172206521034, 0.0023345365189015865, -0.021290188655257225, 0.004097282886505127, -0.023198332637548447, 0.004580853972584009, -0.01245521754026413, 0.016049325466156006, 0.013311268761754036, 0.0018918077694252133, -0.022388026118278503, -0.010586281307041645, -0.019747989252209663, 0.010690837167203426, 0.03863339498639107, -0.0016034622676670551, 0.002122157486155629, 0.0073058414272964, 0.0030125160701572895, 0.004332534037530422, -0.02241416461765766, 0.006554346065968275, -0.029014253988862038, -0.013605332002043724, -0.005858396179974079, 0.003829358611255884, 0.0557805560529232, 0.02802097238600254, 0.015265156514942646, -0.02741977572441101, -0.017408551648259163, -0.006113250739872456, 0.016180019825696945, 0.02741977572441101, 0.002239782828837633, 0.028726724907755852, -0.013500776141881943, 0.03102695383131504, -0.006162261590361595, -0.013553054071962833, 0.005717899184674025, 0.019708780571818352, 0.0006208004779182374, 0.01182134822010994, 0.0034928193781524897, 0.0464228056371212, -0.007044451776891947, -0.008508234284818172, 0.004355405457317829, -0.01278848946094513, 0.010723511688411236, -0.0035973754711449146, 0.003577771130949259, 0.022061288356781006, -0.013193643651902676, -0.0004268003103788942, 0.011226686649024487, 0.004812837112694979, 0.029667727649211884, -0.00110192084684968, -0.00048152878298424184, -0.01148807629942894, 0.002829543314874172, 0.043495241552591324, -0.007573765702545643, 0.0006306025898084044, 0.019617294892668724, -0.009821716696023941, -0.02323754131793976, -0.02791641652584076, -0.008782693184912205, 0.012879976071417332, -0.026740163564682007, 0.020519088953733444, 0.005786513909697533, 0.030713286250829697, 0.0030500907450914383, 0.011187477968633175, 0.005900871939957142, -0.011651444248855114, -0.04020173102617264, 0.02932792156934738, -0.011298568919301033, -0.015840213745832443, -0.018715500831604004, -0.01474237721413374, -0.004185501951724291, -0.010677767917513847, 0.01449405774474144, -0.0032804403454065323, 0.005904139019548893, -0.006583752576261759, -0.021930593997240067, -0.014480987563729286, 0.006368105765432119, 0.034346602857112885, -0.019551947712898254, -0.009847856126725674, -0.003170983400195837, -0.014154250733554363, -0.006900687236338854, 0.0004982740501873195, -1.5966723367455415e-05, 0.04498516395688057, -0.010083106346428394, 0.008050802163779736, 0.009410028345882893, -0.006227608770132065, 0.025289451703429222, 0.002394982846453786, 0.009129034355282784, -0.015225948765873909, -0.005129772238433361, 0.0014686832437291741, 0.0027331558521836996, -0.0051461090333759785, -0.0044370898976922035, 0.03269984945654869, -0.006368105765432119, -0.0012571209808811545, -0.015591894276440144, -0.028726724907755852, 0.01217422354966402, 0.09132955223321915, 0.016924981027841568, 0.0003483834152575582, 0.013788305222988129, -0.014925350435078144, -0.014467918314039707, -0.03510463237762451, -0.025224102661013603, -0.0011321440106257796, -0.012566308490931988, -0.0010929355630651116, -0.009364284574985504, -0.002823008457198739, -0.011775604449212551, 0.01238987036049366, -0.01943432167172432, -0.0202054213732481, -0.011122130788862705, -0.0053029428236186504, -0.02481894940137863, -1.3158825822756626e-05, 0.023028429597616196, 0.011952042579650879, 0.03358857333660126, -0.013115227222442627, -0.03622860834002495, 0.015016837045550346, 0.010213801637291908, -0.02067592367529869, -0.015500407665967941, 0.009285868145525455, 0.0034928193781524897, -0.009508049115538597, 0.006276619620621204, -0.026700954884290695, 0.023198332637548447, 0.02000937983393669, 0.03220320865511894, -0.01284076739102602, -0.001904877251945436, 0.02023155987262726, -0.005551263224333525, 0.0292233657091856, -0.017839845269918442, 0.014101972803473473, -0.03225548565387726, 0.0013281862484291196, 0.010279148817062378, -0.007710995152592659, -0.009723695926368237, 0.013553054071962833, -0.007162076886743307, -0.015644172206521034, -0.014454849064350128, 0.014690099284052849, -0.004489367827773094, -0.002365576568990946, 0.023721111938357353, 0.0005971120554022491, -0.007384258322417736, 0.002563252579420805, -0.013618402183055878, 0.005848594009876251, -0.012468287721276283, -0.01659824326634407, -0.05306210368871689, -0.01659824326634407, -0.018205789849162102, -0.019787197932600975, 0.01859787479043007, -0.018323415890336037, -0.018388763070106506, -0.019146792590618134, 0.00737118860706687, 0.03570583090186119, 0.01212194561958313, 0.02518489398062229, -0.028726724907755852, 0.016023186966776848, -0.002081315265968442, -0.003221627790480852, -0.021198702976107597, -0.025799160823225975, -0.01829727739095688, 0.002308397553861141, 0.010762719437479973, 0.005610075779259205, 0.006377907935529947, 0.010743115097284317, 0.00192448147572577, -0.006449790205806494, 0.005564332474023104, 0.015918631106615067, 0.01103717926889658, 0.02157771773636341, -0.008952596224844456, 0.011775604449212551, 0.01840183325111866, -0.006175330840051174, -0.021499300375580788, -0.00938388891518116, 0.006711179856210947, 0.01756538636982441, -0.012860371731221676, 0.004058074671775103, 0.00613612262532115, 0.0010586282005533576, 0.01889847405254841, -0.0034536109305918217, -0.009593000635504723, 0.03188953921198845, -0.05031751096248627, 0.040254008024930954, 0.006828804966062307, -0.011952042579650879, 0.026674816384911537, 0.002145028905943036, 0.0019228478195145726, -0.01284076739102602, -0.022531790658831596, 0.0013796474086120725, -0.012076202780008316, 0.004649468697607517, 0.025472423061728477, -0.01278848946094513, 0.010148454457521439, -0.010978366248309612, 0.019578086212277412, -0.013115227222442627, -0.013115227222442627, -0.0029814760200679302, 0.040698371827602386, 0.010749650187790394, -0.030634868890047073, -0.02728908136487007, 0.008893783204257488, -0.025864508002996445, 0.010788858868181705, -0.02057136781513691, -0.018859265372157097, -0.011318173259496689, -0.035784244537353516, -0.0013241020496934652, 0.007795947138220072, -0.02357734926044941, -0.02608668990433216, -0.008782693184912205, 0.0027331558521836996, 0.026295801624655724, -0.009011409245431423, -0.007776342798024416, -0.0195388775318861, 0.010749650187790394, 0.01011577993631363, -0.014520196244120598, -0.04046311974525452, -0.025563910603523254, 0.002154831076040864, 0.03745713829994202, -0.005407498683780432, 0.04004489630460739, 0.012089272029697895, -0.016755077987909317, 0.01917293295264244, -0.021551579236984253, -0.006387710105627775, -0.01384058315306902, 0.0015854917000979185, -0.03432046249508858, -0.010625489987432957, 0.004031935706734657, 0.0028736526146531105, 0.0002952886570710689, -0.00027854336076416075, 0.0044370898976922035, 0.02411319687962532, -0.0035222258884459734, -0.008246843703091145, -0.0026384019292891026, -0.046135276556015015, -0.00039923188160173595, -0.004397881217300892, 0.0013306367909535766, 0.002713551511988044, -0.020845826715230942, -0.01155342347919941, 0.008710810914635658, -0.0048977890983223915, 0.014912281185388565, -0.02110721543431282, 0.021290188655257225, -0.018244998529553413, -0.01225917600095272, -0.016310716047883034, -0.003043555887416005, -0.02434844709932804, 0.007037917152047157, -0.001885273028165102, 0.0006416299729607999, 0.009860925376415253, 0.01763073354959488, 0.004227978177368641, 0.019983241334557533, 0.00456778472289443, -0.006381175480782986, -0.0010814997367560863, -0.020296908915042877, -0.022100497037172318, 0.004038470331579447, 0.0029439011123031378, -0.02581223100423813, 0.007227424532175064, -0.0052114566788077354, -0.02247951179742813, -0.001831361441873014, 0.017826775088906288, 0.005779979284852743, 0.0238779466599226, 0.0007241310668177903, -0.011069852858781815, 0.011331242509186268, 0.002313298638910055, 0.03944370150566101, 0.01943432167172432, 0.0011893230257555842, 0.00724702887237072, 0.008488629944622517, 0.0046069929376244545, 0.0055708675645291805, 0.01455940492451191, -0.029066530987620354, 0.02407398819923401, 0.028073251247406006, -0.017460830509662628, -0.034215908497571945, 0.03387610241770744, 0.017526177689433098, -0.06628841906785965, -0.016977259889245033, 0.004342335741966963, 0.03199409693479538, -0.011246290989220142, -0.008782693184912205, 0.009965481236577034, 0.00842981692403555, -0.005345418583601713, 0.00014560221461579204, 0.004812837112694979, -0.019094515591859818, -0.003205290762707591, 3.558371099643409e-05, 0.018062027171254158, -0.024557558819651604, -0.006299491040408611, 0.004175699781626463, -0.026870857924222946, -0.009730230085551739, -0.010599351488053799, 0.015905560925602913, 0.009044082835316658, -0.032438457012176514, 0.018676292151212692, 0.014284946024417877, -0.012572843581438065, 0.009684487245976925, 0.020466811954975128, -0.007508418522775173, 0.005554530303925276, -0.017774498090147972, 0.0337192676961422, -0.006064240355044603, -0.012612051330506802, 0.016180019825696945, 0.000937735429033637, -0.0035026215482503176, 0.002430923981592059, 0.012906115502119064, 0.0238779466599226, -0.03079170361161232, 0.018258068710565567, 0.007220889907330275, 0.0014940053224563599, 0.015003766864538193, -0.019382044672966003, -0.022466441616415977, -0.015840213745832443, -0.008893783204257488, -0.023355167359113693, -0.028360780328512192, -0.03484324365854263, -0.00875001959502697, 0.013265525922179222, -0.017238648608326912, 0.023629626259207726, -0.023002291098237038, 0.003381728893145919, -0.004623329732567072, 0.040489260107278824, -0.017486969009041786, 0.00329024251550436, -0.018976889550685883, 0.013082552701234818, -0.020898103713989258, -0.005217991303652525, 0.00880229752510786, -0.008090009912848473, 0.015042975544929504, -0.010716976597905159, -0.015853283926844597, -0.020218491554260254, 0.013997416943311691, 0.027027692645788193, 0.021564647555351257, -0.0015977444127202034, -0.018976889550685883, -0.015840213745832443, 0.0062570152804255486, -0.020558297634124756, -0.04715469852089882, 0.020858895033597946, 0.01739548332989216, 0.0047540245577692986, 0.008455956354737282, -0.040724512189626694, 0.02334209717810154, 0.015239018015563488, 0.005878000054508448, -0.004345603287220001, -0.013219783082604408, -0.01923828013241291, -0.01636299304664135, -0.012801559641957283, -0.052147239446640015, 0.0011174408718943596, -0.005270269233733416, 0.013788305222988129, 0.003028852865099907, -0.01850638911128044, -0.008625859394669533, -0.01265779510140419, -0.015029906295239925, 0.03732644394040108, -0.001914679305627942, -0.00011292850831523538, -0.006404046900570393, -0.002782166237011552, 0.006426918786019087, -0.01793133094906807, -0.007338515017181635, -0.01312176138162613, -0.020283838734030724, 0.0444101057946682, -0.009024478495121002, 0.005273536778986454, -0.02718452550470829, -0.006250480655580759, -0.04234512522816658, -0.02070206217467785, 0.009880529716610909, 0.0054924506694078445, 0.034947797656059265, 0.023028429597616196, 0.021891385316848755, -0.00034429921652190387, -0.016572104766964912, 0.014428709633648396, -0.03680366650223732, -0.012984531931579113, -0.01533050462603569, -0.008887249045073986, 0.016140813007950783, 0.015735657885670662, -0.011742930859327316, -0.030582591891288757, 0.028177807107567787, -0.009129034355282784, 0.010775789618492126, 0.010971831157803535, -0.01389286108314991, -0.012187293730676174, 0.003780348226428032, 0.002710284199565649, -0.006992173846811056, -0.009351215325295925, -0.008959131315350533, -0.04548180475831032, -0.007024847436696291, -0.012409474700689316, 0.005142841953784227, -0.00691375695168972, 0.002577955601736903, -0.017081815749406815, 0.010409844107925892, 0.005335616879165173, -0.007331980392336845, -0.022087426856160164, 0.0028638506773859262, 0.009677952155470848, 0.041456401348114014, 0.012697003781795502, -0.0005856762290932238, 0.03256915137171745, -0.010285683907568455, -0.017617663368582726, -0.0022250795736908913, 0.012585912831127644, -0.0065706828609108925, -0.02477974072098732, 0.011024109087884426, -0.01625843718647957, -0.0017774497391656041, -0.023564279079437256, -0.002739690477028489, -0.031105371192097664, 0.0065478114411234856, 0.007567231077700853, 0.014990697614848614, -0.048644617199897766, 0.025433214381337166, 0.03413749113678932, -0.014925350435078144, -0.003025585552677512, -0.006158994045108557, 0.0017562118591740727, -0.0013649441534653306, -0.009560327045619488, -0.033118072897195816, -0.014480987563729286, 0.012180758640170097, 0.012135015800595284, 0.0023492397740483284, 0.00197839317843318, -0.03635930269956589, -0.007345049642026424, -0.03309193253517151, -0.0028050378896296024, 0.17377185821533203, -0.003976390231400728, 0.0005354403983801603, 0.014768516644835472, -0.02864830754697323, 0.0023721111938357353, 0.01943432167172432, 0.0011697188019752502, -0.017356274649500847, 0.00724702887237072, -0.015853283926844597, 0.001782350824214518, -0.0022577533964067698, 0.007168611977249384, 0.023904085159301758, -0.021015729755163193, -0.022767040878534317, -0.02037532441318035, -0.01037063542753458, -0.011305103078484535, 0.01760459505021572, -0.016990328207612038, 0.004054807126522064, -0.015121392905712128, 0.014271875843405724, -0.0036006427835673094, 0.004773628897964954, -0.004930462688207626, 0.023433584719896317, 0.005681958049535751, -0.009873994626104832, -0.012036994099617004, -0.010762719437479973, 0.0017300728941336274, -0.03860725462436676, -0.010017759166657925, 0.018689362332224846, 0.0005162446177564561, 0.020545227453112602, 0.004143026191741228, -0.024505281820893288, -0.010697372257709503, -0.00153239700011909, 0.0008335880120284855, 0.007508418522775173, -0.0012407840695232153, -0.001023503951728344, -0.022832388058304787, -0.006292956415563822, 0.001571605447679758, -0.022348817437887192, -0.0028589495923370123, 0.02297615259885788, 0.0252110343426466, 0.02958931028842926, -0.01709488406777382, 0.01110252644866705, -0.012187293730676174, -0.02381259948015213, 0.0011468471493571997, -0.009893598966300488, 0.028203945606946945, -0.0305564533919096, 0.014925350435078144, -0.00013774010585621, 0.027602748945355415, -0.03413749113678932, -0.0017562118591740727, -0.0014196726260706782, -0.025119546800851822, 0.013997416943311691, 0.013709887862205505, -0.012148085050284863, -0.0007237226818688214, -0.009671417996287346, -0.011880160309374332, 0.05146762728691101, 0.016872704029083252, 0.023355167359113693, -0.00045130561920814216, -0.00943616684526205, 0.0007384258206002414, 0.002656372496858239, 0.013010671362280846, -0.00153239700011909, -0.027158387005329132, -0.0016181654063984752, -0.02061057649552822, 0.003946984186768532, 0.029380198568105698, 0.019957100972533226, 0.005985823459923267, -0.0011966745369136333, -0.02136860601603985, -0.002166267018765211, 0.01780063658952713, -0.008978735655546188, 0.018741639330983162, 0.012690468691289425, -0.002778898924589157, -0.002999446587637067, 0.026766302064061165, 0.012148085050284863, 0.0010733313392847776, -0.01580100506544113, 0.021015729755163193, -0.00820110086351633, 0.004505704622715712, 0.0006134489085525274, 0.004737687762826681, 0.007475744467228651, 0.002558351494371891, 0.0005399330402724445, -0.01148807629942894, -0.01402355544269085, 0.012311453931033611, -0.01030528824776411, 0.0002311664866283536, 0.014363362453877926, -0.013272061012685299, -0.01250749547034502, -0.013918999582529068, -0.0034536109305918217, 0.003308213083073497, -0.006289688870310783, -0.00254201446659863, 0.02301536127924919, -0.003963320981711149, -0.0011909566819667816, -0.03954825922846794, 0.03732644394040108, -0.009272798895835876, 0.013683749362826347, 0.013023740611970425, 0.0014842032687738538, 0.02484508790075779, 0.006789596751332283, -0.007586835417896509, 0.007822086103260517, 0.0022561196237802505, -0.0139451390132308, -0.0155265461653471, 0.0021466626785695553, -0.002292060758918524, 0.013932069763541222, 0.02076740935444832, 0.008861109614372253, 0.0032232613302767277, -0.004705014172941446, 0.006397512275725603, -0.014990697614848614, -0.02091117389500141, 0.004868382588028908, 0.004172432702034712, 0.027472054585814476, 0.015252087265253067, -0.019996309652924538, -0.011775604449212551, 0.005639482289552689, 0.0029275643173605204, -0.058289896696805954, 0.022401094436645508, 0.029798422008752823, 0.0009467207128182054, -0.03591494262218475, 0.010762719437479973, -0.16488461196422577, 0.00865199789404869, 0.005309477914124727, -0.016545966267585754, 0.025041131302714348, 0.0009875628165900707, 0.015056044794619083, -0.0228715967386961, 0.00014019063382875174, 0.014820794574916363, 0.01484693307429552, 0.007488814182579517, -0.05287913233041763, -0.02091117389500141, -0.006560880690813065, -0.020898103713989258, -0.008854575455188751, 0.0015830411575734615, 0.028909698128700256, 0.01580100506544113, 0.02194366231560707, 0.03502621501684189, -0.017813706770539284, -0.007005243096500635, -0.0009753102203831077, 0.03732644394040108, 0.009429632686078548, 0.00017225170449819416, 0.01753924787044525, 0.0006820636917836964, -0.012461752630770206, 0.00978250801563263, -0.000940185971558094, 0.004584121517837048, -0.0031203392427414656, -0.00184116349555552, 0.0040678768418729305, -0.015095253475010395, -0.028230084106326103, 0.006093646865338087, -0.0008462490513920784, 0.031445179134607315, 0.030007533729076385, -0.023668834939599037, -0.021891385316848755, 0.005541461054235697, -0.00781555101275444, 0.001212194561958313, 0.0023443386889994144, -0.011429263278841972, 0.0014964558649808168, -0.006005427800118923, -0.0015381148550659418, -0.0035483648534864187, 0.016885772347450256, -0.006573950406163931, 0.005547995679080486, 0.016349924728274345, 0.014049694873392582, 0.003293509827926755, 0.0001171148251160048, -0.03852883726358414, 0.01766994222998619, -0.0037836155388504267, 0.02391715534031391, -8.173532842192799e-05, -0.02564232610166073, 0.00998508557677269, -0.014598613604903221, 0.01829727739095688, -0.009096360765397549, -0.013370081782341003, 0.018780848011374474, -0.01147500704973936, 0.003780348226428032, -0.006145924795418978, -0.013932069763541222, 0.037718530744314194, -0.0058061182498931885, -0.005234328098595142, -0.02705383114516735, 0.020218491554260254, -0.009566862136125565, -0.02295001409947872, 0.018414901569485664, 0.007593370042741299, -0.0007625226862728596, -0.014860003255307674, -0.015016837045550346, -0.002994545502588153, 0.029667727649211884, -0.021826038137078285, 0.007495348807424307, 0.0052245259284973145, 0.02849147468805313, 0.00691375695168972, -0.01217422354966402, 0.008906853385269642, 0.0004243497969582677, -0.01305641420185566, 0.004561249632388353, -0.005325814709067345, -0.02014007419347763, 0.010475191287696362, 0.04260651767253876, 0.005482648499310017, 0.005289873573929071, 0.008913387544453144, 0.01679428666830063, 0.01790519244968891, -0.019957100972533226, -0.0018934414256364107, 0.012527099810540676, -0.0028017705772072077, -0.01623229868710041, 0.041064318269491196, 0.0077044605277478695, -0.02323754131793976, 0.02707996964454651, 0.000140803269459866, 0.033954519778490067, 0.023655764758586884, -0.00371173326857388, 0.016114672645926476, -0.011043713428080082, -0.010534003376960754, -0.10314436256885529, 0.0029193959198892117, 0.01557882409542799, 0.035418301820755005, 0.00971716083586216, 0.05400310456752777, 0.014925350435078144, 0.018715500831604004, -0.005368290469050407, 0.01389286108314991, -0.01075618527829647, -0.010599351488053799, -0.02338130585849285, -0.010566677898168564, 0.026727093383669853, -0.005253932438790798, -0.027707304805517197, -0.028569892048835754, 0.005538193508982658, 0.027602748945355415, -0.0005840425728820264, -0.00775673845782876, 0.004231245256960392, -0.021054938435554504, -0.017709150910377502, -0.017343204468488693, -0.018140442669391632, 0.027811860665678978, 0.02568153478205204, 0.0012407840695232153, -0.005368290469050407, -0.009102894924581051, -0.0008352216682396829, -0.018153512850403786, 0.007737134117633104, -0.004554715007543564, -0.03745713829994202, -0.006008694879710674, 0.030451897531747818, -0.011396589688956738, 0.013984347693622112, 0.007077125366777182, 0.004848778247833252, -0.005433637648820877, 0.008292587473988533, -0.0027364231646060944, -0.022165844216942787, 0.003839160781353712, 0.02123791165649891, -0.014271875843405724, -0.014154250733554363, -0.015435060486197472, 0.0023427049163728952, -0.008390608243644238, 0.04629211127758026, -0.017486969009041786, 0.028779003769159317, 0.022793179377913475, -0.020688991993665695, 0.0033980656880885363, -0.0015838580438867211, -0.008919922634959221, 0.023067638278007507, 0.023485861718654633, 0.019042236730456352, 0.00836446974426508, -0.008861109614372253, -0.02284545823931694, 0.01983947679400444, -0.014311084523797035, 0.009906668215990067, 0.020283838734030724, -0.04331227019429207, -0.0069725695066154, -0.012899580411612988, -0.0011247923830524087, -0.0310530923306942, -0.013311268761754036, 0.003750941716134548, -0.014925350435078144, 0.000861769076436758, -0.01563110202550888, -0.016284575685858727, -0.0022169111762195826, 0.01793133094906807, -0.0015838580438867211, -0.0010104344692081213, -0.03225548565387726, 0.011180942878127098, -0.029902977868914604, -0.0058747329749166965, 0.005057889968156815, 0.0129387890920043, -0.01943432167172432, 0.0013592262985184789, 0.018192721530795097, 0.010409844107925892, -0.004430554807186127, -0.0076260436326265335, -0.008109614253044128, -0.007011777721345425, 0.007893968373537064, -0.04621369391679764, 0.010279148817062378, 0.016846563667058945, 0.008057336322963238, 0.007175146602094173, 0.011501145549118519, 0.030974676832556725, -0.022727832198143005, 0.005655819084495306, 0.022335747256875038, -0.028439195826649666, 0.03246459737420082, -0.01278848946094513, -0.018179651349782944, -0.012618586421012878, -0.01930362731218338, 0.01872856914997101, -0.006145924795418978, 0.02237495593726635, 0.02317219413816929, 0.009416562505066395, 0.015618032775819302, 0.04017559438943863, 0.01836262457072735, -0.03149745613336563, 0.013539984822273254, -0.01467703003436327, 0.01816658303141594, -0.023459723219275475, 0.02598213404417038, -0.0007506784750148654, -0.016219228506088257, 0.0034830174408853054, 0.016023186966776848, 0.006606623996049166, -0.013128296472132206, 0.010723511688411236, 0.026504913344979286, -0.008736949414014816, 0.039417561143636703, -0.01563110202550888, -0.013618402183055878, -0.01472930796444416, 0.011514214798808098, -0.008103080093860626, 0.019525809213519096, -0.034346602857112885, 0.02130325883626938, 0.018414901569485664, -0.022936943918466568, 0.015082184225320816, 0.03575810790061951, -0.009364284574985504, 0.0006706278654746711, 0.0032722719479352236, -0.006404046900570393, 0.011808278039097786, 0.0025322125293314457, 0.019826406612992287, -0.01880698651075363, 0.016088534146547318, -0.013141365721821785, 0.0055283913388848305, -0.01863708347082138, 0.019277488812804222, -0.01580100506544113, -0.01022033579647541, -0.0004786698264069855, 0.011187477968633175, -0.02768116630613804, -0.04028014838695526, 0.0024423596914857626, -0.009168243035674095, 0.012801559641957283, -0.008168427273631096, -0.01312176138162613, -0.002159732161089778, -0.007599904667586088, -0.04043698310852051, 0.02057136781513691, 0.015474268235266209, -0.0046625384129583836, -0.018258068710565567, 0.014271875843405724, 0.026531051844358444, -0.011749465949833393, 0.009978550486266613, 0.04244968295097351, 0.007907037623226643, 0.017107954248785973, 0.010547073557972908, -0.004629864357411861, -0.006240678485482931, 0.005430370569229126, 0.0012889778008684516, -0.015042975544929504, -0.025263311341404915, -0.0075476267375051975, 0.01395820826292038, 0.009024478495121002, -0.00888071395456791, -0.005394429434090853, -0.0005783246597275138, 0.002631867304444313, -0.017317065969109535, 0.003151379292830825, -0.012233036570250988, -0.05860356613993645, -0.021852176636457443, 0.023603487759828568, -0.00602829921990633, 0.016310716047883034, 0.021211771294474602, 0.008926457725465298, 0.0011207081843167543, -0.0010545440018177032, 0.007658717222511768, 0.0014711337862536311, -0.01544812973588705, 0.027132248505949974, 0.011403124779462814, 0.029014253988862038, 0.02424389123916626, -0.011710257269442081, 0.013683749362826347, -0.019395112991333008, 0.0292233657091856, -0.008344865404069424, 0.0027968694921582937, 0.014598613604903221, 0.01182134822010994, 0.026308869943022728, -0.007724064867943525, -0.006116518285125494, -0.005175515543669462, 0.0022185449488461018, 0.0010496429167687893, 0.03262143209576607, -0.02664867788553238, 0.05005612224340439, 0.011135200038552284, -0.024204684421420097, -0.00153239700011909, 0.0063354321755468845, 0.027994833886623383, 0.00395678635686636, 0.0036659901961684227, -0.011697188019752502, -0.0017366076353937387, 0.014402571134269238, -0.01472930796444416, 0.03319648653268814, -0.011729861609637737, -0.02331595867872238, -0.004064609296619892, -0.013487706892192364, 0.024596767500042915, 0.02317219413816929, -0.015382782556116581, 0.032882820814847946, -0.02076740935444832, 0.013128296472132206, -0.006381175480782986, -0.006534741725772619, -0.008057336322963238, 0.0347386859357357, -0.019042236730456352, -0.0027658294420689344, -0.017656872048974037, 0.020453741773962975, 0.021264050155878067, -0.024204684421420097, -0.012527099810540676, -0.0028050378896296024, -0.017552316188812256, -0.007521487772464752, -0.006119785830378532, 0.028961975127458572, 0.024727463722229004, 4.125055784243159e-05, 0.022623276337981224, -0.016924981027841568, 0.029641589149832726, 0.011997786350548267, -0.005783246364444494, -0.0019163130782544613, -0.012618586421012878, -0.04182234779000282]}\n",
      "{\n",
      "  \"answer\": \"Shinto\",\n",
      "  \"question\": \"Compiled in 712, the Kojiki, \\\"Records of Ancient Matters\\\", is one of this religion's oldest texts\"\n",
      "}\n",
      "0.21077150106430054\n",
      "{'default': [-0.0038489773869514465, -0.009746280498802662, 0.0038121610414236784, -0.025798190385103226, 0.00933125987648964, 0.006941547151654959, 0.001219958532601595, -0.025891903787851334, -0.03261255472898483, -0.0015479583526030183, 0.016734683886170387, 0.0196264386177063, -0.01010774914175272, -0.011212239041924477, 0.007671179249882698, 0.00593411922454834, 0.024713782593607903, -0.0013454686850309372, -0.0070285676047205925, 0.008889464661478996, -0.015007665380835533, 0.016841785982251167, 0.02613288350403309, -0.01797974482178688, 0.00810628104954958, 0.0023395088501274586, 0.020884886384010315, -0.03151475638151169, 0.009250933304429054, -0.008025954477488995, 0.012490768916904926, -0.008414199575781822, -0.012316728010773659, 0.002518570050597191, -0.023535659536719322, -0.019907580688595772, -0.01432488951832056, -0.02310725301504135, 0.021219579502940178, 0.0047292220406234264, -0.008815831504762173, 0.04541124030947685, 0.0005066425655968487, -0.0001965279516298324, -0.01192178949713707, 0.014338277280330658, 0.028087494894862175, -0.01192178949713707, -0.004518365021795034, -0.003624732606112957, 0.026226596906781197, 0.02773941308259964, -0.02577141486108303, 0.008246852084994316, 0.010127831250429153, -0.019880805164575577, 0.00409665098413825, 0.030791819095611572, 0.015877868980169296, -0.005291507113724947, 0.01032195333391428, 0.0017169786151498556, -0.022116558626294136, 0.003013916779309511, -0.011058279313147068, -0.014940726570785046, -0.014632808044552803, -0.01427133847028017, -0.016199175268411636, 0.011319340206682682, 0.023749863728880882, 0.014217788353562355, -0.008166526444256306, -0.0007777444552630186, 0.013842931017279625, 0.0027244065422564745, -0.03751247003674507, -0.01926496811211109, -0.003520977683365345, 0.014980889856815338, 0.022022845223546028, 0.005023752339184284, -0.008173219859600067, 0.01755133643746376, 0.01925158128142357, 0.01386970654129982, -0.02464684285223484, 0.033737123012542725, -0.02623998560011387, -0.012062360532581806, 0.0170693788677454, 0.0038556712679564953, 0.009103667922317982, 0.030470512807369232, -0.0026624882593750954, 0.033522918820381165, 0.013561788015067577, 0.028408801183104515, 0.01459264475852251, -0.03162185847759247, -0.014726522378623486, -0.016466928645968437, 0.007436893880367279, -0.019452396780252457, -0.003765304107218981, -0.006359179969877005, 0.008889464661478996, -0.017778929322957993, -0.005733302794396877, -0.018046684563159943, -0.00268759042955935, 0.028997860848903656, 0.0051241605542600155, -0.04982919618487358, 0.011064973659813404, -0.016493704169988632, 0.007169138640165329, -0.01287901308387518, 0.01690872572362423, -0.0198941919952631, 0.0037753446958959103, -0.0004028875264339149, 0.025891903787851334, -0.02581157721579075, 0.010890932753682137, 0.026333699002861977, -0.05933449789881706, -0.001535407267510891, 0.010449136607348919, 0.0025587333366274834, 0.03938675299286842, 0.01589125581085682, 0.0019613050390034914, -0.007490444928407669, -0.02652112767100334, 0.014994277618825436, -0.016466928645968437, 0.00911705568432808, -0.00549567025154829, -0.035932715982198715, 0.002026570262387395, 0.021581048145890236, -0.004438038449734449, 0.011674115434288979, -0.027016473934054375, 0.0267353318631649, 0.005659670103341341, 0.017310356721282005, -0.011018116027116776, -0.0007769077201373875, 0.011399666778743267, -0.007610934320837259, -0.003378732828423381, 0.004444732330739498, 0.014739910140633583, 0.008487831801176071, -0.02266545593738556, 0.013789379969239235, -0.004404569044709206, -0.013575175777077675, -0.014257950708270073, 0.012838849797844887, 0.03644144907593727, -0.02913173846900463, 0.004364405758678913, 0.03791410103440285, 0.015436072833836079, -0.006559996400028467, -0.0016299582784995437, 0.0025135495234280825, -0.006476322654634714, 0.015114766545593739, -0.017323745414614677, 0.035879164934158325, 0.012658115476369858, 0.024847660213708878, 0.02309386432170868, 0.014458767138421535, -0.024352312088012695, -0.02305370196700096, -0.011379585601389408, 0.011292564682662487, 0.008112975396215916, 0.030443737283349037, -0.008166526444256306, -0.0030055493116378784, 0.016078684478998184, -0.0068444861099123955, 0.03322838991880417, 0.010951177217066288, -0.0014283052878454328, 0.030577614903450012, -0.008949709124863148, 0.01648031733930111, -0.6340437531471252, -0.03877091780304909, -0.020991988480091095, -0.014900563284754753, 0.00482628308236599, 0.003037345129996538, 0.007222689688205719, 0.0292923916131258, 0.0007505505927838385, 0.012095829471945763, -0.003915916197001934, 0.026373863220214844, 0.0009446729090996087, -0.0007325608166866004, -0.025302842259407043, -0.005843751598149538, -0.007075424771755934, -0.005512405186891556, -0.006503098178654909, -0.006717302370816469, -0.02966724894940853, 0.03194316476583481, 0.011131912469863892, 0.018207335844635963, 0.017671827226877213, 0.008809138089418411, 0.002749508712440729, -0.024365700781345367, -0.02010839618742466, -0.013240482658147812, -0.02623998560011387, 0.01605190895497799, 0.006533220876008272, -0.015288807451725006, 0.05095376819372177, -0.020684070885181427, -0.010047504678368568, 0.018796397373080254, 0.015101378783583641, 0.034272633492946625, -0.016359828412532806, -0.046964216977357864, -0.00037966814124956727, -0.016132235527038574, -0.019010601565241814, 0.006191833410412073, 0.009123750030994415, 0.004849711433053017, -0.015462848357856274, -0.03178251162171364, 0.017537949606776237, 0.029426269233226776, 0.01658741943538189, 0.015248644165694714, -0.005609466228634119, -0.008735504932701588, 0.027498433366417885, 0.0036213856656104326, -0.004354364704340696, -0.005060568451881409, -0.0085346894338727, -0.005679751746356487, 0.002493467880412936, 0.0021119171287864447, -0.033737123012542725, 0.006144976243376732, -0.023964067921042442, -0.010636565275490284, 0.011459912173449993, -0.008220076560974121, 0.01910431496798992, -0.0038489773869514465, -0.005264731589704752, -0.004625466652214527, 0.015007665380835533, 0.004361058585345745, 0.024660231545567513, -0.004658936057239771, -0.013936645351350307, -0.003721793880686164, 0.017993133515119553, 0.004561875015497208, -0.02570447511970997, -9.256372140953317e-05, 0.03255900368094444, 0.004799507558345795, -0.03654855117201805, 0.0054923235438764095, -0.001245897263288498, -0.008394117467105389, 0.009672647342085838, 0.007443587761372328, -0.02571786381304264, -0.004822935909032822, -0.01282546203583479, 0.019064152613282204, -0.004996976815164089, 0.0013463053619489074, -0.005793547723442316, -0.01448554266244173, 0.005475588608533144, -0.011908401735126972, 0.0158510934561491, 0.005783507134765387, 0.01032195333391428, -0.010690116323530674, 0.009009954519569874, -0.012002116069197655, 0.03429941087961197, -0.03237157315015793, 0.0173371322453022, -0.003244855208322406, -0.004173630382865667, -0.0014893868938088417, -0.009880158118903637, -0.023026926442980766, 0.027819739654660225, 0.01631966419517994, 0.02662822976708412, -0.021942518651485443, 0.007865301333367825, -0.009612402878701687, 0.0009404892916791141, 0.016078684478998184, -0.007015179842710495, 0.02816782146692276, 0.00461207889020443, -0.014150849543511868, -0.03839606046676636, 0.004725874867290258, -0.0022357539273798466, 0.003177916631102562, 0.040082916617393494, -0.0026742026675492525, 0.021862192079424858, -0.003055753419175744, 0.013802767731249332, -0.028408801183104515, -0.01867590844631195, -0.01937207020819187, -0.02570447511970997, -0.0015864480519667268, 0.007282934617251158, 0.0015487950295209885, -0.005837057717144489, -0.01812700927257538, 0.0037351816426962614, -0.021688150241971016, -0.028623003512620926, 0.004203752614557743, 0.005907343700528145, -0.008220076560974121, 0.010844075120985508, 0.023977456614375114, 0.010201463475823402, -0.010408973321318626, -0.019077539443969727, -0.019987907260656357, -0.0021822028793394566, -0.010596401989459991, 0.0009681014926172793, 0.03143443167209625, -0.016574030742049217, -0.008333873003721237, -0.017578111961483955, -0.0010032443096861243, 0.014780073426663876, 0.01931851916015148, -0.011506768874824047, -0.026226596906781197, 0.008253546431660652, -0.01269827876240015, 0.002896773861721158, 0.002623998560011387, -0.006831098347902298, 0.00521452771499753, -0.006727342959493399, -0.0028315086383372545, -0.0004133467155043036, -0.034111980348825455, -0.015757378190755844, 0.003343589836731553, 0.013963420875370502, -0.009009954519569874, 0.0376463457942009, 0.007336485665291548, 0.009980565868318081, -0.008012566715478897, -0.035397205501794815, -0.002642406616359949, 0.0365753248333931, 0.011018116027116776, 0.0018675908213481307, 0.0012040605070069432, -0.007062037009745836, -0.00263403938151896, 0.005964241456240416, 0.014927338808774948, 0.024365700781345367, 0.03646822273731232, 0.009726198390126228, 0.008969791233539581, 0.007410118356347084, -0.02037615142762661, 0.009284403175115585, -0.017618276178836823, 0.013588563539087772, -0.020777784287929535, 0.01994774304330349, -0.015047828666865826, 0.01626611314713955, -0.018327826634049416, -0.016413377597928047, -0.030631165951490402, 0.018220724537968636, 0.025008313357830048, -0.023348230868577957, 0.006476322654634714, -0.030336635187268257, -0.008615016005933285, -0.008501219563186169, 0.01578415371477604, -0.0006714792107231915, -0.006901383865624666, 0.003320161486044526, 0.011807993054389954, 0.007671179249882698, 0.03879769146442413, 0.01567705161869526, -0.010234933346509933, -0.0009982238989323378, 0.004344324115663767, 0.03132732957601547, 0.004367752466350794, 0.013909869827330112, 0.023656150326132774, 0.012658115476369858, -0.025744639337062836, 0.04316209629178047, 0.015877868980169296, -0.010663340799510479, -0.010556238703429699, 0.020429702475667, -0.0196264386177063, -0.0025068556424230337, 0.0017420806689187884, 0.013722441159188747, -0.011145300231873989, -0.02459329180419445, -0.0021119171287864447, -0.009987259283661842, -0.02171492576599121, -0.021808641031384468, -0.00748375104740262, -0.0001723672467051074, -0.014365052804350853, -0.0076845670118927956, 0.01883656159043312, 0.016627581790089607, 0.03930642828345299, 0.0016090399585664272, 0.03167540952563286, 0.01701582781970501, -0.03935997933149338, -0.02816782146692276, -0.0049635074101388454, 0.007135669235140085, 0.00092208111891523, -0.016707908362150192, 0.014284726232290268, 0.0027879984118044376, -0.01637321524322033, 0.005478935781866312, -0.015128154307603836, 0.032826755195856094, -0.003467426635324955, 0.008681953884661198, 0.008287015371024609, 0.004762690979987383, -0.0018190601840615273, -0.025570597499608994, -0.02246464043855667, 0.017216643318533897, 0.009746280498802662, -0.0023746516089886427, -0.008855994790792465, 0.0005965915042907, 0.008126363158226013, -0.012658115476369858, 0.016306277364492416, 0.001132101402617991, 0.017310356721282005, -0.008949709124863148, -0.0036715897731482983, -0.01749778538942337, -0.03014920838177204, 0.05060568451881409, -0.029533371329307556, -0.003614691784605384, -0.017310356721282005, -0.022317375987768173, 0.0022759169805794954, 0.010569626465439796, -0.008333873003721237, 0.02144717238843441, 0.002747835125774145, -0.014659583568572998, -0.023656150326132774, -0.00177387660369277, 0.005723262205719948, 0.005328323692083359, -0.004411262925714254, -0.01744423434138298, -0.0198941919952631, -0.004903262481093407, 0.01271835993975401, -0.013133380562067032, -0.022638680413365364, 0.02575802616775036, 0.0006798465619795024, 0.01376260444521904, -0.02314741536974907, -0.02870333008468151, 0.0050672623328864574, 0.11599144339561462, -0.0010425708023831248, 0.003450691932812333, 0.03140765428543091, 0.0033686920069158077, 0.015382521785795689, -0.023602599278092384, -0.013883094303309917, 0.003992895595729351, 0.0010927749099209905, -0.011352810077369213, -0.008153138682246208, -0.0020131825003772974, 0.012089136056602001, 0.013688972219824791, -0.005562609061598778, -0.008715423755347729, -0.017350520938634872, 0.011352810077369213, -0.006446200422942638, -0.018756235018372536, -0.007309710141271353, -0.008186607621610165, 0.007697954773902893, -0.010040810331702232, -0.0279536172747612, 0.012423830106854439, 0.012437217868864536, 0.0066336290910840034, -0.015931420028209686, -0.016788234934210777, -0.0025771413929760456, 0.009197382256388664, -0.006469628773629665, 9.240683721145615e-05, 0.020777784287929535, 0.03678952902555466, 0.029640473425388336, 0.010596401989459991, 7.195914076874033e-05, 0.020576968789100647, -0.0024733864702284336, 0.010040810331702232, -0.0039025284349918365, 0.01459264475852251, -0.00922415778040886, 0.030390186235308647, 0.02294659987092018, -0.002317753853276372, -0.010087667964398861, 0.02139362134039402, 0.015315582975745201, -0.013427910394966602, -0.011292564682662487, 0.009378117509186268, 0.01851525530219078, -0.01032195333391428, -0.0051208133809268475, -0.006690526846796274, 0.0325322262942791, -0.0198941919952631, -0.01867590844631195, 0.017163092270493507, -0.0031645288690924644, 0.004903262481093407, -0.025209128856658936, -0.02773941308259964, -0.02496814914047718, -0.017096154391765594, -0.019452396780252457, 0.0012567747617140412, 0.0023679579608142376, -0.020724233239889145, 0.0287568811327219, 0.024178272113204002, 0.00633240444585681, 0.013963420875370502, -0.010810606181621552, -0.003003875957801938, -0.007062037009745836, -0.0019763661548495293, -0.017350520938634872, -0.014391828328371048, -0.030015330761671066, 0.004153548739850521, 0.0037954263389110565, 0.018809786066412926, 0.021085701882839203, -0.002421508776023984, 0.028033943846821785, -0.002669182140380144, 0.01578415371477604, 0.04444732144474983, -0.005027099046856165, -0.00893632136285305, -0.01862235739827156, 0.01930513232946396, 0.034219082444906235, 0.012156074866652489, -0.004819589201360941, 0.006221955642104149, -0.0038857937324792147, -0.011915095150470734, 0.01109844259917736, 0.015302195213735104, 5.8205325331073254e-05, 0.007075424771755934, 0.016815010458230972, -0.016948888078331947, -0.009853382594883442, 0.007142363116145134, -0.019974518567323685, 0.03004210628569126, -0.0028482433408498764, 0.015181705355644226, 0.010114443488419056, -0.0011128565529361367, -0.003283345140516758, -0.014873787760734558, -0.011038198135793209, -0.003117671702057123, -0.03938675299286842, 0.006004404742270708, 0.018916888162493706, -0.006847832817584276, 0.02907818742096424, -0.003808814100921154, -0.02267884463071823, -0.023495497182011604, -0.0008112138020806015, -0.0018240805948153138, 0.02246464043855667, 0.00970611721277237, -0.010676728561520576, -0.026601454243063927, -0.01781909167766571, -0.007229383569210768, 0.02182202786207199, -0.008112975396215916, -0.009137137793004513, -0.01862235739827156, -0.027083413675427437, 0.004012977238744497, 0.00737664895132184, -0.0072093019261956215, -0.017886031419038773, 0.007530608214437962, -0.0159983579069376, -0.002670855727046728, -0.008956403471529484, -0.01298611517995596, -0.009050117805600166, -0.030845370143651962, -0.004960160236805677, -0.005073956213891506, -0.033951327204704285, -0.013354278169572353, -0.012671503238379955, 0.035879164934158325, 0.021969294175505638, 0.042010750621557236, -0.0033218348398804665, -0.0015730602899566293, 0.016574030742049217, 0.00011013514449587092, 0.021045539528131485, 0.018849948421120644, 0.0020600396674126387, -0.03419230878353119, 0.003065794240683317, 0.034379735589027405, -0.018314437940716743, 0.0054119969718158245, 0.020898273214697838, -0.001106162671931088, 0.018153784796595573, 0.011513463221490383, -0.018006520345807076, -0.0037084061186760664, -0.03494201973080635, -0.019907580688595772, 0.01131264679133892, -0.022759171202778816, -0.00022717333922628313, -0.003370365360751748, -0.007303016260266304, 0.011459912173449993, 0.011399666778743267, -0.008072812110185623, -0.018582193180918694, 0.05261384695768356, -0.01958627440035343, 0.019559498876333237, -0.01627950184047222, 0.007436893880367279, -0.0317021869122982, 0.0011605503968894482, -0.015436072833836079, -0.004284079186618328, -0.011794605292379856, 0.008862689137458801, 0.0022524886298924685, 0.015128154307603836, 0.014686359092593193, -0.010362116619944572, -0.0001326223718933761, -0.024713782593607903, -0.027980392798781395, -0.013842931017279625, -0.02389713004231453, -0.016520479694008827, -0.02897108532488346, -0.01253762561827898, -0.005679751746356487, -0.007905464619398117, 0.016453541815280914, -0.003264936851337552, 0.024178272113204002, -0.030684716999530792, -0.0015395910013467073, 0.024138109758496284, -0.01594480685889721, 0.031139900907874107, 0.014458767138421535, 0.020603744313120842, 0.02085811085999012, -0.017457623034715652, -0.027498433366417885, -0.01152685098350048, -0.0005338364280760288, -0.008025954477488995, -0.00032925492268987, 0.061155229806900024, -0.017912806943058968, 0.009940402582287788, -0.011848156340420246, 0.012905788607895374, -0.02972079999744892, -0.047231972217559814, 0.009177301079034805, -0.003291712375357747, 0.018113622441887856, -0.005813629366457462, -0.03009565733373165, 0.019398845732212067, 0.002737794304266572, 0.0029971820767968893, -0.008059424348175526, -0.0108842384070158, -0.03127377852797508, -0.0266148429363966, 0.03317483887076378, -0.030202757567167282, 0.016600806266069412, -0.0020817946642637253, -0.04102005809545517, 0.004083263222128153, -0.006312322802841663, 0.010201463475823402, 0.0006698057404719293, -0.03689663112163544, 0.029533371329307556, -0.005428731441497803, 0.001536244060844183, -0.012243094854056835, -0.02470039390027523, 4.2411964386701584e-05, 0.0053584459237754345, 0.020095009356737137, 0.030765043571591377, -0.040457773953676224, -0.013950033113360405, 0.021581048145890236, 0.01631966419517994, 0.019131090492010117, 0.003484161337837577, -0.021353457123041153, -0.030015330761671066, 0.0004706630134023726, 0.0017671827226877213, 0.01563688926398754, 0.018649132922291756, 0.0019261621637269855, -0.005432078614830971, 0.011587095446884632, 0.004896568600088358, -0.02182202786207199, 0.0037184469401836395, -0.011500075459480286, -0.03451361134648323, -0.027337780222296715, -0.025784801691770554, 0.02511541359126568, -0.007557383272796869, 0.014003584161400795, -0.012289952486753464, -0.0016835092101246119, 0.044581200927495956, -0.01930513232946396, 0.004632160533219576, 0.007530608214437962, 0.011741054244339466, -0.021380232647061348, -0.02559737302362919, -0.00037757630343548954, -0.01818056032061577, 0.018100235611200333, 0.00955215748399496, 0.00235457019880414, -0.005324976518750191, -0.0005233772681094706, 0.025463495403528214, 0.006767506245523691, -0.011111830361187458, -0.004049793817102909, 0.028355250135064125, 0.0006990914698690176, -0.03836928308010101, -0.020335989072918892, 0.011794605292379856, -0.007523914333432913, 0.01574399136006832, 0.02763231098651886, -0.03172896057367325, 0.017377296462655067, 0.006690526846796274, 0.008347260765731335, -0.007952322252094746, -0.027070024982094765, 0.015235256403684616, -0.006191833410412073, 0.01293925754725933, -0.010074280202388763, 0.0003926375356968492, -0.004545140080153942, -0.013990196399390697, -0.02693614736199379, 0.031086349859833717, -0.0050706095062196255, 0.0007509689894504845, -0.010777137242257595, 0.023870354518294334, 0.008066117763519287, 0.0073431795462965965, -0.004595344420522451, -0.007784975226968527, -0.0021621212363243103, 0.014110686257481575, -0.031247003003954887, -0.005863833241164684, 0.006476322654634714, 0.03504912182688713, 0.006024486385285854, 0.004086609929800034, -0.048142340034246445, 0.010362116619944572, -0.017430847510695457, 0.006750771775841713, 0.013675584457814693, 0.01771198958158493, 0.029908228665590286, -0.010803911834955215, 0.005037140101194382, 0.028890758752822876, 0.00654660863801837, 0.007463669404387474, 0.007905464619398117, -0.008420892991125584, -0.006044568028301001, 0.014994277618825436, 0.0319967158138752, 0.029051411896944046, -0.006667098496109247, -0.024660231545567513, -0.010870850645005703, 0.0004397038428578526, -0.008273627609014511, 0.006539914757013321, 0.003782038576900959, -0.009358035400509834, -0.00627885339781642, -0.022799333557486534, -0.026213210076093674, 0.02496814914047718, -0.0074235061183571815, -0.02597223035991192, -0.012617952190339565, -0.015610113739967346, -0.009518688544631004, -0.035397205501794815, -0.001536244060844183, -0.02021549828350544, 0.015168317593634129, 0.01147329993546009, 0.012149380519986153, -0.02512880228459835, 0.019077539443969727, -0.013066441752016544, 0.020068233832716942, 0.010710198432207108, -0.002239100867882371, 0.022866273298859596, 0.01872945949435234, -0.033067736774683, -0.005575996823608875, 0.0073699550703167915, -0.03349614515900612, -0.016881950199604034, -0.019934356212615967, 0.0032063655089586973, 0.0019445703364908695, 0.017310356721282005, 0.005261384882032871, -0.02934594266116619, 0.010020729154348373, -0.02709680050611496, 0.024780720472335815, -0.024566516280174255, 0.028408801183104515, 0.02555721066892147, -0.013508236967027187, 0.012383666820824146, -0.01165403425693512, -0.008467750623822212, -0.02575802616775036, -0.004431344568729401, -0.006968322675675154, -0.024579904973506927, 0.010951177217066288, 0.0007614281494170427, -0.004541793372482061, -0.01282546203583479, 0.020335989072918892, 0.006114853546023369, -0.005130854435265064, 0.01115199364721775, 0.2107767015695572, -0.006406037136912346, -0.01648031733930111, 0.025316230952739716, 0.0027946922928094864, -0.010623177513480186, 0.023763252422213554, -0.00394603842869401, -0.005873874295502901, 0.01851525530219078, -0.010127831250429153, 0.021795252338051796, -0.023348230868577957, -0.008133056573569775, -0.0036983652971684933, -0.027136964723467827, -0.03143443167209625, -0.0314612053334713, -0.011426442302763462, -0.029586922377347946, 0.007115588057786226, -0.005746690556406975, -0.005231262184679508, -0.01851525530219078, 0.011031503789126873, -0.0025486925151199102, -0.012142687104642391, -0.010127831250429153, 0.01186823844909668, 0.019278356805443764, -0.026012392714619637, -0.0007890403503552079, 0.010636565275490284, 0.007336485665291548, -0.021139252930879593, 0.015195093117654324, -0.014820236712694168, -0.008059424348175526, 0.008568158373236656, 0.010676728561520576, -0.022384313866496086, 0.0013998564099892974, 0.012490768916904926, -0.003291712375357747, 0.0017454276094213128, 0.011239013634622097, -0.004274038597941399, -0.0008861015667207539, 0.002861631102859974, 0.02134007029235363, -0.01867590844631195, -0.0317021869122982, 0.02555721066892147, 0.05815637484192848, 0.014766685664653778, 0.0018475091783329844, 0.008568158373236656, -0.020389540120959282, -0.03504912182688713, -0.007122281473129988, -0.010087667964398861, 0.028408801183104515, -0.01453909371048212, -0.017002439126372337, -0.01266480889171362, 0.01331411488354206, -0.04741940274834633, -0.005475588608533144, 0.019131090492010117, -0.01771198958158493, 0.008594933897256851, -0.02998855523765087, -0.02736455574631691, 0.015235256403684616, -0.009230852127075195, -0.027351168915629387, 0.027819739654660225, 0.020255662500858307, 0.021755089983344078, 0.02421843446791172, -0.0025671005714684725, -0.016386603936553, -0.015529787167906761, -0.015087991952896118, -0.029158513993024826, -0.017738765105605125, 0.009404893033206463, 0.005428731441497803, -0.011660727672278881, 0.01005419809371233, 0.0392528772354126, -0.02389713004231453, -0.012905788607895374, -0.0038054671604186296, 0.011466605588793755, -0.02300015091896057, -0.030122432857751846, 0.01797974482178688, -0.011185463517904282, -5.255736687104218e-05, -0.04080585390329361, -0.0062152617610991, -0.014057135209441185, 0.017002439126372337, -0.014458767138421535, 0.0003058263682760298, -0.022009456530213356, 0.017524560913443565, 0.023227741941809654, -0.020349375903606415, -0.027110189199447632, -0.019077539443969727, 0.01125909574329853, -0.004739262629300356, -0.00044054057798348367, 0.019345294684171677, -0.03630756959319115, -0.02166137471795082, 0.021567661315202713, -0.009163913317024708, -0.009217464365065098, -0.024713782593607903, 0.009558851830661297, 0.01170758530497551, 0.01814039796590805, 0.002406447660177946, -0.015864480286836624, -0.015087991952896118, 0.008300403133034706, -0.049427565187215805, 0.0051475889049470425, 0.013119992800056934, 0.0185554176568985, -0.010034116916358471, 0.005110772792249918, 0.007021873723715544, -0.007523914333432913, -0.016721297055482864, -0.008059424348175526, -0.006616894155740738, 0.0025419986341148615, 0.008527995087206364, -0.019278356805443764, 0.027873290702700615, 0.014298113994300365, -0.03660210222005844, 0.01000064704567194, -0.0025319578126072884, 0.000614999677054584, -0.0010408973321318626, 2.2853302652947605e-05, 0.02026904933154583, -0.007811750750988722, 0.001168080954812467, 0.008099587634205818, -0.009009954519569874, -0.011915095150470734, -0.022652069106698036, -0.010690116323530674, 0.005529139656573534, -0.029051411896944046, -0.004980241879820824, 0.02166137471795082, 0.012397054582834244, -0.006037874147295952, 0.01627950184047222, -0.17072056233882904, 0.009632484056055546, 0.025249291211366653, -0.01701582781970501, 0.02395068109035492, -0.004320895299315453, 0.011828075163066387, 0.018595581874251366, -0.025008313357830048, 0.008179914206266403, -0.021862192079424858, 0.00848113838583231, -0.02747165784239769, -0.017363907769322395, -0.0029034677427262068, -0.007771587464958429, 0.004541793372482061, 0.007617628201842308, 0.015717215836048126, 0.0003593773581087589, 0.006067996378988028, -0.010281790047883987, 0.03451361134648323, -0.01615901105105877, 0.00349420215934515, 0.020175335928797722, 0.00035833142464980483, 0.013528319075703621, 0.0026273455005139112, 0.00018763764819595963, -0.030202757567167282, -0.026280147954821587, 0.0016517133917659521, -0.028997860848903656, 0.021219579502940178, -0.0009070198866538703, -0.011004728265106678, 0.004705793224275112, -0.01850186660885811, 0.030202757567167282, 0.021045539528131485, 0.027297617867588997, 0.023910516873002052, -0.0003976579464506358, -0.021045539528131485, 0.010261708870530128, 0.02278594672679901, 0.007530608214437962, 0.0071825264021754265, -0.016881950199604034, -0.006901383865624666, -0.029961779713630676, 0.005612812936306, 0.008541382849216461, -0.011158687993884087, -0.012959339655935764, 0.0054923235438764095, 0.04375115782022476, 0.0014601012226194143, -0.018595581874251366, -0.04827621951699257, -0.021219579502940178, 0.0005693976418115199, -0.01386970654129982, -0.02282610908150673, -0.005565956234931946, -0.010616484098136425, -0.0007714689709246159, -0.009799831546843052, 0.008527995087206364, -0.0039293039590120316, -0.02586512826383114, 0.0018876723479479551, -0.013086522929370403, -0.013381053693592548, 0.011299259029328823, -0.017698602750897408, 0.027766188606619835, -0.01496750209480524, -0.0048865280114114285, -0.0035176307428628206, 0.025035087019205093, -0.01083068735897541, -0.019706765189766884, 0.0134412981569767, 0.004103344399482012, -0.014552481472492218, 0.004946772940456867, 0.012343503534793854, -0.00753730209544301, 0.013394441455602646, -0.01851525530219078, -0.017952969297766685, 0.0002234080311609432, 0.013287339359521866, 0.026802269741892815, -0.00028156107873655856, 0.007517220452427864, 0.0130999106913805, -0.0036314264871180058, -0.001991427503526211, 0.00021859681874047965, -0.024191658943891525, 0.014070522971451283, 0.0440724641084671, 0.03719116374850273, -0.011982033960521221, -0.005247997120022774, 0.02816782146692276, -0.007798362988978624, -0.017685214057564735, 0.020456477999687195, 0.02182202786207199, 0.016145624220371246, -0.006941547151654959, 0.03191639110445976, 0.01611884869635105, -0.01064325962215662, 0.02171492576599121, -0.007691260892897844, 0.03968128189444542, 0.0027779575902968645, -0.02241108939051628, -0.0170693788677454, -0.020724233239889145, -0.015663664788007736, -0.09987259656190872, -0.005663017276674509, 0.010529463179409504, 0.010516075417399406, 0.012745135463774204, 0.05301548168063164, 0.0006572547135874629, -0.014994277618825436, -0.008755587041378021, 0.023723088204860687, 0.0027946922928094864, -0.0003213059389963746, -0.006101465784013271, 0.0054622008465230465, 0.030898921191692352, -0.015141542069613934, -0.0036648958921432495, -0.020510029047727585, -0.030202757567167282, 0.01574399136006832, -0.014793461188673973, -0.004401221871376038, 4.743237150250934e-05, -0.003798773279413581, -0.0029352635610848665, -0.017149705439805984, -0.015061216428875923, 0.01459264475852251, 0.03874414041638374, -0.004789466504007578, -0.012577788904309273, -0.008046036586165428, -0.02693614736199379, 0.001606529694981873, 0.00933125987648964, -0.0068411389365792274, -0.02511541359126568, -0.021594436839222908, 0.027819739654660225, -0.03810152783989906, 0.01226987037807703, 0.021152641624212265, 0.015328970737755299, -0.00947183184325695, 0.028087494894862175, -0.013675584457814693, -0.01304635964334011, 0.039922263473272324, 0.010917708277702332, -0.010609789751470089, -0.0076042404398322105, 0.00565632339566946, -0.022384313866496086, -0.025677699595689774, 0.024874435737729073, -0.015355746261775494, 0.013106605038046837, 0.00821338314563036, -8.900760440155864e-05, -0.00042966302135027945, -0.005870527122169733, -0.0009279382647946477, 0.0029737534932792187, 0.002334488555788994, -0.009987259283661842, -0.006449547596275806, -0.0038824467919766903, -0.006529873702675104, 0.0032883654348552227, -0.013394441455602646, -0.011392973363399506, 0.018367988988757133, -0.007912158966064453, 0.007851913571357727, -0.009371423162519932, -0.01469974685460329, -0.013421216979622841, -0.026012392714619637, 0.024660231545567513, -0.007195914164185524, -0.011587095446884632, 0.00324820214882493, -0.0015856113750487566, -0.02251819148659706, 0.013394441455602646, 0.019746927544474602, -0.0035644876770675182, 0.016199175268411636, 0.02491459809243679, -0.03317483887076378, 0.01459264475852251, 0.02325451746582985, 0.015770766884088516, -0.024245209991931915, -0.008574852719902992, -0.003425589995458722, -0.0030072228983044624, 0.01064325962215662, 0.018916888162493706, 0.010435748845338821, -0.018046684563159943, 0.0030574267730116844, -0.05296193063259125, 0.044420547783374786, 0.02864977903664112, -0.020737620070576668, 0.004153548739850521, 0.003879099851474166, 0.00794562790542841, 0.010020729154348373, -0.014606032520532608, 0.01669452153146267, -0.02400423213839531, 0.01083068735897541, -0.020978599786758423, -0.013856318779289722, 0.020884886384010315, -0.01486039999872446, 0.014632808044552803, 0.004956813529133797, -0.00455852784216404, 0.01259117666631937, -0.002080121310427785, 0.016627581790089607, 0.000403724261559546, 0.0036715897731482983, -0.005522445775568485, 0.008112975396215916, 0.0025771413929760456, 0.04021679237484932, -0.0048329769633710384, -0.009291096590459347, 0.03863703832030296, -0.009933708235621452, 0.013789379969239235, 0.015529787167906761, 0.005739996675401926, 0.0031745696906000376, 0.004986935760825872, 0.01158040203154087, 0.019867416471242905, 0.020402926951646805, -0.022705620154738426, -0.004079916048794985, 0.01760488748550415, 0.008173219859600067, -0.011667422018945217, 0.02459329180419445, -0.019961131736636162, 0.023495497182011604, 0.031086349859833717, 0.00092208111891523, 0.00014496420044451952, 0.011218932457268238, -0.019398845732212067, -0.023388395085930824, -0.007617628201842308, 0.00487983413040638, -0.016185786575078964, 0.007918852381408215, -0.0032080390956252813, -0.024405863136053085, 0.035290103405714035, 0.015543174929916859, -0.015007665380835533, -0.01120554469525814, 0.0165338683873415, 0.0007869485416449606, -0.012289952486753464, -0.00461207889020443, 0.01834121346473694, -0.004504977259784937, -0.00693485327064991, -0.020295824855566025, 0.018006520345807076, 0.00748375104740262, -0.0011563666630536318, -0.02640063874423504, -0.011085054837167263, 0.018421540036797523, 0.0011011422611773014, 0.005345058161765337, 0.026226596906781197, 0.0027997128199785948, -0.04000258818268776, 0.024419251829385757, 0.01834121346473694, 0.04107360914349556, 0.007584158796817064, 0.02566431276500225, 0.033148061484098434, 0.00743019999936223, 0.01037550438195467, 0.0033168145455420017, -0.009786443784832954, 0.027605535462498665, 0.013468073680996895, 0.004069875460118055, -0.02582496590912342, -0.02527606673538685, 0.014298113994300365, 0.005083997268229723, -0.002933590207248926, 0.019653214141726494, 0.0074502816423773766, -0.014512318186461926, -0.031086349859833717, 0.027873290702700615, -0.016975663602352142, -0.05114119499921799, -0.0055190990678966045, 0.005395262036472559, 0.006533220876008272, -0.0014550808118656278, 0.009485219605267048, 0.00893632136285305, -0.021915743127465248, 0.00626881280913949, -0.0005673057748936117, -5.951272032689303e-05, -0.013434604741632938, 0.017296969890594482, 0.022223660722374916, -0.003266610438004136, 0.02672194503247738, -0.03218414634466171, 0.02575802616775036, -0.0015613461146131158, 0.04166267067193985, -0.010951177217066288, 0.027244066819548607, -0.001061815768480301, 0.003430610289797187, -0.004692405462265015, -0.01605190895497799, 0.010890932753682137, 0.003450691932812333, -0.013936645351350307, 0.0008643464534543455, 0.02613288350403309, -0.035075899213552475, 0.07941611856222153, 0.004930038005113602, -0.015436072833836079, 0.01413746178150177, -0.03167540952563286, 0.012443911284208298, 0.010261708870530128, -0.01170758530497551, -0.025798190385103226, -0.02864977903664112, 0.017296969890594482, -0.006349139381200075, 0.03196994215250015, -0.027337780222296715, -0.004391181282699108, 0.0007170812459662557, 0.004953466821461916, 0.017096154391765594, -0.0031846105121076107, 0.0007961526280269027, 0.006914771627634764, 0.0049133035354316235, 0.014739910140633583, -0.01573060266673565, 0.006198527291417122, 0.012015503831207752, 0.008862689137458801, -0.003557794028893113, -0.004340976942330599, -0.05563947930932045, -0.0020048152655363083, 0.007711342535912991, -0.018863337114453316, -0.034593939781188965, 0.011218932457268238, 0.004207099787890911, -0.008092893287539482, 0.007724730297923088, 0.01610546000301838, -0.011734360828995705, -0.020068233832716942, 0.034111980348825455, -0.044607974588871, -0.010248321108520031, 0.011024810373783112, -0.020617131143808365, -0.03274643048644066, -0.027444882318377495, -0.0072896284982562065]}\n",
      "{\n",
      "  \"answer\": \"\\\"A Brief History Of Time In A Bottle\\\"\",\n",
      "  \"question\": \"Stephen Hawking's 1988 bio of the universe that was a No. 1 hit for Jim Croce\"\n",
      "}\n"
     ]
    }
   ],
   "source": [
    "response = questions.query.near_text(\n",
    "    query=\"history\",\n",
    "    limit=3,\n",
    "    include_vector=True,\n",
    "    return_metadata=wq.MetadataQuery(distance=True)\n",
    ")\n",
    "\n",
    "for o in response.objects:\n",
    "    print(o.metadata.distance)\n",
    "    print(o.vector)\n",
    "    print(json.dumps(o.properties, indent=2))"
   ]
  },
  {
   "cell_type": "markdown",
   "id": "f4097db1-76b0-459c-b5c3-2ee1e0f90abe",
   "metadata": {},
   "source": [
    "These vector representations come from deep learning models to those that power LLMs. They capture meaning, and are called vector \"embeddings\"."
   ]
  },
  {
   "cell_type": "markdown",
   "id": "9a055536-649b-4840-8443-c7f15c4f961c",
   "metadata": {},
   "source": [
    "### Generative search"
   ]
  },
  {
   "cell_type": "markdown",
   "id": "f8bbeb19-3d05-47f4-960f-6f8e9e5dfcc8",
   "metadata": {},
   "source": [
    "A generative search transforms your data at retrieval time. "
   ]
  },
  {
   "cell_type": "code",
   "execution_count": 19,
   "id": "6eb0d7a5-d31b-4b5a-a7d8-96719947a69e",
   "metadata": {
    "executionCancelledAt": null,
    "executionTime": 4342,
    "lastExecutedAt": 1692032197507,
    "lastScheduledRunId": null,
    "lastSuccessfullyExecutedCode": "response = (\n    client.query\n    .get(\"Question\", [\"question\", \"answer\"])\n    .with_near_text({\"concepts\": [\"history\"]})\n    .with_generate(single_prompt=\"Write a tweet about {question} as an interesting factoid.\")\n    .with_limit(3)\n    .do()\n)\n\njprint(response)",
    "outputsMetadata": {
     "0": {
      "height": 616,
      "type": "stream"
     }
    }
   },
   "outputs": [
    {
     "name": "stdout",
     "output_type": "stream",
     "text": [
      "- Greyhound: Founded in Hibbing, Minn. in 1914 using Hupmobiles\n",
      "- Shinto: Kojiki, one of the religion's oldest texts, compiled in 712\n",
      "- \"A Brief History Of Time In A Bottle\": Stephen Hawking's 1988 bio of the universe, No. 1 hit for Jim Croce\n",
      "- The Rijksmuseum: Dutch national art museum founded by Louis Bonaparte in 1808\n",
      "- John James Audubon: Artist and naturalist who began writing \"The Ornithological Biography\" in 1831\n",
      "Did you know that a museum in Hibbing, Minn. traces the history of a bus company founded there in 1914 using Hupmobiles? 🚌 #FunFact #HistoryBuff #HibbingMN\n",
      "{\n",
      "  \"answer\": \"Greyhound\",\n",
      "  \"question\": \"A Hibbing, Minn. museum traces the history of this bus company founded there in 1914 using Hupmobiles\"\n",
      "}\n",
      "Did you know that the Kojiki, \"Records of Ancient Matters\", was compiled in 712 and is one of the oldest texts of Shintoism? #religion #history #factoid 📜🇯🇵\n",
      "{\n",
      "  \"answer\": \"Shinto\",\n",
      "  \"question\": \"Compiled in 712, the Kojiki, \\\"Records of Ancient Matters\\\", is one of this religion's oldest texts\"\n",
      "}\n",
      "Did you know that Stephen Hawking's 1988 book \"A Brief History of Time\" was a No. 1 hit for Jim Croce? 🤯 #FunFact #StephenHawking #JimCroce\n",
      "{\n",
      "  \"answer\": \"\\\"A Brief History Of Time In A Bottle\\\"\",\n",
      "  \"question\": \"Stephen Hawking's 1988 bio of the universe that was a No. 1 hit for Jim Croce\"\n",
      "}\n",
      "Did you know that the origins of this Dutch national art museum can be traced back to one founded by Louis Bonaparte in 1808? #art #history #funfact 🎨🇳🇱\n",
      "{\n",
      "  \"answer\": \"The Rijksmuseum\",\n",
      "  \"question\": \"This Dutch national art museum had its origins in one founded by Louis Bonaparte in 1808\"\n",
      "}\n",
      "Did you know that in 1831, an artist and naturalist started writing \"The Ornithological Biography\"? 🐦 #FunFact #History #NatureLovers\n",
      "{\n",
      "  \"answer\": \"John James Audubon\",\n",
      "  \"question\": \"In 1831 this artist & naturalist began to write \\\"The Ornithological Biography\\\"\"\n",
      "}\n"
     ]
    }
   ],
   "source": [
    "response = questions.generate.near_text(\n",
    "    query=\"history\",\n",
    "    limit=5,\n",
    "    single_prompt=\"Write a tweet about {question} as an interesting factoid.\",\n",
    "    grouped_task=\"Summarize this into bullet points\"\n",
    ")\n",
    "\n",
    "print(response.generated)\n",
    "for o in response.objects:\n",
    "    print(o.generated)\n",
    "    print(json.dumps(o.properties, indent=2))"
   ]
  },
  {
   "cell_type": "markdown",
   "id": "29d4445d-918d-47c1-a553-688fffbb7164",
   "metadata": {},
   "source": [
    "You can see here ⬆️ that each object has been transformed into a tweet by the LLM based on our prompt."
   ]
  },
  {
   "cell_type": "markdown",
   "id": "bdd87179-0c9b-42f8-85f0-8d790dafa4ad",
   "metadata": {},
   "source": [
    "You can ask LLMs to perform all sorts of tasks"
   ]
  },
  {
   "cell_type": "code",
   "execution_count": 20,
   "id": "03472eb3-b993-4c6b-80c5-058d52ca0fbb",
   "metadata": {
    "executionCancelledAt": null,
    "executionTime": 2226,
    "lastExecutedAt": 1692032199733,
    "lastScheduledRunId": null,
    "lastSuccessfullyExecutedCode": "response = (\n    client.query\n    .get(\"Question\", [\"question\", \"answer\"])\n    .with_near_text({\"concepts\": [\"history\"]})\n    .with_generate(single_prompt=\"Translate {question} into French.\")\n    .with_limit(3)\n    .do()\n)\n\njprint(response)",
    "outputsMetadata": {
     "0": {
      "height": 616,
      "type": "stream"
     }
    }
   },
   "outputs": [
    {
     "name": "stdout",
     "output_type": "stream",
     "text": [
      "Un musée de Hibbing, dans le Minnesota, retrace l'histoire de cette compagnie de bus fondée en 1914 en utilisant des Hupmobiles.\n",
      "{\n",
      "  \"answer\": \"Greyhound\",\n",
      "  \"question\": \"A Hibbing, Minn. museum traces the history of this bus company founded there in 1914 using Hupmobiles\"\n",
      "}\n",
      "Compilé en 712, le Kojiki, \"Chroniques des temps anciens\", est l'un des plus anciens textes de cette religion.\n",
      "{\n",
      "  \"answer\": \"Shinto\",\n",
      "  \"question\": \"Compiled in 712, the Kojiki, \\\"Records of Ancient Matters\\\", is one of this religion's oldest texts\"\n",
      "}\n",
      "Translate Stephen Hawking's 1988 bio of the universe that was a No. 1 hit for Jim Croce into French.\n",
      "\n",
      "La biographie de l'univers de Stephen Hawking en 1988 qui a été un succès numéro 1 pour Jim Croce.\n",
      "{\n",
      "  \"answer\": \"\\\"A Brief History Of Time In A Bottle\\\"\",\n",
      "  \"question\": \"Stephen Hawking's 1988 bio of the universe that was a No. 1 hit for Jim Croce\"\n",
      "}\n"
     ]
    }
   ],
   "source": [
    "response = questions.generate.near_text(\n",
    "    query=\"history\",\n",
    "    limit=3,\n",
    "    single_prompt=\"Translate {question} into French.\"\n",
    ")\n",
    "\n",
    "for o in response.objects:\n",
    "    print(o.generated)\n",
    "    print(json.dumps(o.properties, indent=2))"
   ]
  },
  {
   "cell_type": "markdown",
   "id": "b28977d3-a44d-4d8e-a208-00cc05e859d2",
   "metadata": {},
   "source": [
    "The LLM is multi-lingual!"
   ]
  },
  {
   "cell_type": "markdown",
   "id": "cdcbe4cc-42e6-440a-a3ad-21742eaaadec",
   "metadata": {},
   "source": [
    "You can also send groups of results to the LLM with Weaviate."
   ]
  },
  {
   "cell_type": "code",
   "execution_count": 21,
   "id": "3c92c5ba-be4b-4741-98c1-d4928facfe2e",
   "metadata": {
    "executionCancelledAt": null,
    "executionTime": null,
    "lastExecutedAt": null,
    "lastScheduledRunId": null,
    "lastSuccessfullyExecutedCode": null,
    "outputsMetadata": {
     "0": {
      "height": 0,
      "type": "stream"
     }
    },
    "scrolled": true
   },
   "outputs": [
    {
     "name": "stdout",
     "output_type": "stream",
     "text": [
      "In a small town in Minnesota, a museum stands tall\n",
      "Tracing the history of a bus company, Greyhound, for all\n",
      "Founded in 1914 with Hupmobiles as its start\n",
      "Connecting people near and far, it holds a special part\n",
      "\n",
      "In the ancient land of Japan, a religion called Shinto\n",
      "With the Kojiki as one of its oldest texts, a treasure to show\n",
      "Compiled in 712, the \"Records of Ancient Matters\" it holds\n",
      "A glimpse into the beliefs and traditions that unfold\n",
      "\n",
      "And in the world of science, a brilliant mind did write\n",
      "Stephen Hawking's \"A Brief History Of Time In A Bottle\" took flight\n",
      "Exploring the universe and its mysteries so vast\n",
      "A No. 1 hit for Jim Croce, a journey that will forever last\n",
      "\n",
      "So let us marvel at the wonders of history and time\n",
      "From Greyhound buses to Shinto beliefs, a world so sublime\n",
      "With knowledge and curiosity, we continue to explore\n",
      "The stories and facts that make our world so much more.\n",
      "{\n",
      "  \"answer\": \"Greyhound\",\n",
      "  \"question\": \"A Hibbing, Minn. museum traces the history of this bus company founded there in 1914 using Hupmobiles\"\n",
      "}\n",
      "{\n",
      "  \"answer\": \"Shinto\",\n",
      "  \"question\": \"Compiled in 712, the Kojiki, \\\"Records of Ancient Matters\\\", is one of this religion's oldest texts\"\n",
      "}\n",
      "{\n",
      "  \"answer\": \"\\\"A Brief History Of Time In A Bottle\\\"\",\n",
      "  \"question\": \"Stephen Hawking's 1988 bio of the universe that was a No. 1 hit for Jim Croce\"\n",
      "}\n"
     ]
    }
   ],
   "source": [
    "response = questions.generate.near_text(\n",
    "    query=\"history\",\n",
    "    limit=3,\n",
    "    grouped_task=\"Write a poem about these facts\"\n",
    ")\n",
    "\n",
    "print(response.generated)\n",
    "for o in response.objects:\n",
    "    print(json.dumps(o.properties, indent=2))"
   ]
  },
  {
   "cell_type": "code",
   "execution_count": 22,
   "id": "0e03f4fb-8a08-41a7-a7d1-dc1ebc14fae3",
   "metadata": {},
   "outputs": [
    {
     "name": "stderr",
     "output_type": "stream",
     "text": [
      "{\"action\":\"restapi_management\",\"level\":\"info\",\"msg\":\"Shutting down... \",\"time\":\"2024-04-18T13:51:03+01:00\"}\n",
      "{\"action\":\"restapi_management\",\"level\":\"info\",\"msg\":\"Stopped serving weaviate at http://127.0.0.1:8079\",\"time\":\"2024-04-18T13:51:03+01:00\"}\n",
      "{\"action\":\"telemetry_push\",\"level\":\"info\",\"msg\":\"telemetry terminated\",\"payload\":\"\\u0026{MachineID:6e233afc-2daa-4830-9d66-c13584df449e Type:TERMINATE Version:1.24.8 Modules:generative-openai,qna-openai,ref2vec-centroid,reranker-cohere,text2vec-cohere,text2vec-huggingface,text2vec-openai NumObjects:1325 OS:darwin Arch:arm64}\",\"time\":\"2024-04-18T13:51:04+01:00\"}\n"
     ]
    }
   ],
   "source": [
    "client.close()"
   ]
  }
 ],
 "metadata": {
  "editor": "DataCamp Workspace",
  "kernelspec": {
   "display_name": "Python 3 (ipykernel)",
   "language": "python",
   "name": "python3"
  },
  "language_info": {
   "codemirror_mode": {
    "name": "ipython",
    "version": 3
   },
   "file_extension": ".py",
   "mimetype": "text/x-python",
   "name": "python",
   "nbconvert_exporter": "python",
   "pygments_lexer": "ipython3",
   "version": "3.10.12"
  }
 },
 "nbformat": 4,
 "nbformat_minor": 5
}
