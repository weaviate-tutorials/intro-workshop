{
 "cells": [
  {
   "cell_type": "markdown",
   "id": "c641751f-f3d4-47b6-806a-0e55c0b73405",
   "metadata": {},
   "source": [
    "## Weaviate workshop\n",
    "\n",
    "<a target=\"_blank\" href=\"https://colab.research.google.com/github/weaviate-tutorials/intro-workshop/blob/main/workshop.ipynb\">\n",
    "  <img src=\"https://colab.research.google.com/assets/colab-badge.svg\" alt=\"Open In Colab\"/>\n",
    "</a>\n",
    "\n",
    "### Goals:\n",
    "\n",
    "#### What you will see:\n",
    "\n",
    "\n",
    "- Create a vector database with Weaviate,\n",
    "- Add data to the database, and\n",
    "- Interact with the data, including searching, and using LLMs with your data in Weaviate\n",
    "\n",
    "### You will learn today:\n",
    "\n",
    "- What Weaviate is,\n",
    "- How it stores the data (based on its \"meaning\"), and\n",
    "- What you can do with Weaviate, like semantic searches, and using LLMs to transform data."
   ]
  },
  {
   "cell_type": "markdown",
   "id": "4e83bf03-743a-4960-8915-fc2b3341a37f",
   "metadata": {},
   "source": [
    "Install the Weaviate python client, for environments that don't yet have it."
   ]
  },
  {
   "cell_type": "code",
   "execution_count": 1,
   "id": "4706372e-b04b-4971-a4ae-cd2e8ac4cec5",
   "metadata": {
    "executionCancelledAt": null,
    "executionTime": 4696,
    "lastExecutedAt": 1692032183239,
    "lastScheduledRunId": null,
    "lastSuccessfullyExecutedCode": "!pip install -U weaviate-client",
    "outputsMetadata": {
     "0": {
      "height": 616,
      "type": "stream"
     }
    }
   },
   "outputs": [],
   "source": [
    "# !pip install -U --pre weaviate-client"
   ]
  },
  {
   "cell_type": "markdown",
   "id": "5ba26bc3-0958-4051-b31e-9ce27555a8b7",
   "metadata": {},
   "source": [
    "## Preparation: Get the data\n",
    "\n",
    "We'll use a dataset of movies from TMDB. \n",
    "\n",
    "Pre-processed version: \"./data/movies.csv\"\n"
   ]
  },
  {
   "cell_type": "markdown",
   "id": "1633e880-94bb-4942-9fe1-70ffd2a7afd3",
   "metadata": {},
   "source": [
    "Load (or download) the data, and preview it"
   ]
  },
  {
   "cell_type": "code",
   "execution_count": 2,
   "id": "4680be3b-e00f-4c3c-9d42-d9bd8ef1e5a9",
   "metadata": {
    "ExecuteTime": {
     "end_time": "2023-08-12T20:50:09.186617Z",
     "start_time": "2023-08-12T20:50:09.042514Z"
    },
    "executionCancelledAt": null,
    "executionTime": 1192,
    "lastExecutedAt": 1692032184432,
    "lastScheduledRunId": null,
    "lastSuccessfullyExecutedCode": "import requests\nimport json\n\n# Load the data locally\nwith open(\"jeopardy_1k.json\", \"r\") as f:\n    raw_data = f.read()\n\n# Or download it from GitHub\nresponse = requests.get('https://raw.githubusercontent.com/databyjp/wv_demo_uploader/main/weaviate_datasets/data/jeopardy_1k.json')\nraw_data = response.text\n\n# Parse the JSON and preview it\ndata = json.loads(raw_data)\nprint(type(data), len(data))\nprint(json.dumps(data[0], indent=2))",
    "outputsMetadata": {
     "0": {
      "height": 217,
      "type": "stream"
     }
    }
   },
   "outputs": [
    {
     "data": {
      "text/html": [
       "<div>\n",
       "<style scoped>\n",
       "    .dataframe tbody tr th:only-of-type {\n",
       "        vertical-align: middle;\n",
       "    }\n",
       "\n",
       "    .dataframe tbody tr th {\n",
       "        vertical-align: top;\n",
       "    }\n",
       "\n",
       "    .dataframe thead th {\n",
       "        text-align: right;\n",
       "    }\n",
       "</style>\n",
       "<table border=\"1\" class=\"dataframe\">\n",
       "  <thead>\n",
       "    <tr style=\"text-align: right;\">\n",
       "      <th></th>\n",
       "      <th>backdrop_path</th>\n",
       "      <th>genre_ids</th>\n",
       "      <th>id</th>\n",
       "      <th>original_language</th>\n",
       "      <th>original_title</th>\n",
       "      <th>overview</th>\n",
       "      <th>popularity</th>\n",
       "      <th>poster_path</th>\n",
       "      <th>release_date</th>\n",
       "      <th>title</th>\n",
       "      <th>video</th>\n",
       "      <th>vote_average</th>\n",
       "      <th>vote_count</th>\n",
       "      <th>year</th>\n",
       "    </tr>\n",
       "  </thead>\n",
       "  <tbody>\n",
       "    <tr>\n",
       "      <th>0</th>\n",
       "      <td>/rH0DPF7pB35jxLxKb3JRUgCrrnp.jpg</td>\n",
       "      <td>[10751, 14, 16, 10749]</td>\n",
       "      <td>11224</td>\n",
       "      <td>en</td>\n",
       "      <td>Cinderella</td>\n",
       "      <td>Cinderella has faith her dreams of a better li...</td>\n",
       "      <td>100.819</td>\n",
       "      <td>/avz6S9HYWs4O8Oe4PenBFNX4uDi.jpg</td>\n",
       "      <td>1950-02-22</td>\n",
       "      <td>Cinderella</td>\n",
       "      <td>False</td>\n",
       "      <td>7.044</td>\n",
       "      <td>6523</td>\n",
       "      <td>1950</td>\n",
       "    </tr>\n",
       "    <tr>\n",
       "      <th>1</th>\n",
       "      <td>/p47ihFj4A7EpBjmPHdTj4ipyq1S.jpg</td>\n",
       "      <td>[18]</td>\n",
       "      <td>599</td>\n",
       "      <td>en</td>\n",
       "      <td>Sunset Boulevard</td>\n",
       "      <td>A hack screenwriter writes a screenplay for a ...</td>\n",
       "      <td>57.740</td>\n",
       "      <td>/sC4Dpmn87oz9AuxZ15Lmip0Ftgr.jpg</td>\n",
       "      <td>1950-08-10</td>\n",
       "      <td>Sunset Boulevard</td>\n",
       "      <td>False</td>\n",
       "      <td>8.312</td>\n",
       "      <td>2485</td>\n",
       "      <td>1950</td>\n",
       "    </tr>\n",
       "    <tr>\n",
       "      <th>2</th>\n",
       "      <td>/zyO6j74DKMWfp5snWg6Hwo0T3Mz.jpg</td>\n",
       "      <td>[80, 18, 9648]</td>\n",
       "      <td>548</td>\n",
       "      <td>ja</td>\n",
       "      <td>羅生門</td>\n",
       "      <td>Brimming with action while incisively examinin...</td>\n",
       "      <td>21.011</td>\n",
       "      <td>/vL7Xw04nFMHwnvXRFCmYYAzMUvY.jpg</td>\n",
       "      <td>1950-08-26</td>\n",
       "      <td>Rashomon</td>\n",
       "      <td>False</td>\n",
       "      <td>8.091</td>\n",
       "      <td>2121</td>\n",
       "      <td>1950</td>\n",
       "    </tr>\n",
       "    <tr>\n",
       "      <th>3</th>\n",
       "      <td>/b4yiLlIFuiULuuLTxT0Pt1QyT6J.jpg</td>\n",
       "      <td>[16, 10751, 14, 12]</td>\n",
       "      <td>12092</td>\n",
       "      <td>en</td>\n",
       "      <td>Alice in Wonderland</td>\n",
       "      <td>On a golden afternoon, young Alice follows a W...</td>\n",
       "      <td>75.465</td>\n",
       "      <td>/20cvfwfaFqNbe9Fc3VEHJuPRxmn.jpg</td>\n",
       "      <td>1951-07-28</td>\n",
       "      <td>Alice in Wonderland</td>\n",
       "      <td>False</td>\n",
       "      <td>7.200</td>\n",
       "      <td>5697</td>\n",
       "      <td>1951</td>\n",
       "    </tr>\n",
       "    <tr>\n",
       "      <th>4</th>\n",
       "      <td>/mxf8hJJkHTCqZP3m4o8E1TtwHHs.jpg</td>\n",
       "      <td>[35, 10749]</td>\n",
       "      <td>872</td>\n",
       "      <td>en</td>\n",
       "      <td>Singin' in the Rain</td>\n",
       "      <td>In 1927 Hollywood, a silent film production co...</td>\n",
       "      <td>31.407</td>\n",
       "      <td>/w03EiJVHP8Un77boQeE7hg9DVdU.jpg</td>\n",
       "      <td>1952-04-09</td>\n",
       "      <td>Singin' in the Rain</td>\n",
       "      <td>False</td>\n",
       "      <td>8.200</td>\n",
       "      <td>3036</td>\n",
       "      <td>1952</td>\n",
       "    </tr>\n",
       "  </tbody>\n",
       "</table>\n",
       "</div>"
      ],
      "text/plain": [
       "                      backdrop_path               genre_ids     id  \\\n",
       "0  /rH0DPF7pB35jxLxKb3JRUgCrrnp.jpg  [10751, 14, 16, 10749]  11224   \n",
       "1  /p47ihFj4A7EpBjmPHdTj4ipyq1S.jpg                    [18]    599   \n",
       "2  /zyO6j74DKMWfp5snWg6Hwo0T3Mz.jpg          [80, 18, 9648]    548   \n",
       "3  /b4yiLlIFuiULuuLTxT0Pt1QyT6J.jpg     [16, 10751, 14, 12]  12092   \n",
       "4  /mxf8hJJkHTCqZP3m4o8E1TtwHHs.jpg             [35, 10749]    872   \n",
       "\n",
       "  original_language       original_title  \\\n",
       "0                en           Cinderella   \n",
       "1                en     Sunset Boulevard   \n",
       "2                ja                  羅生門   \n",
       "3                en  Alice in Wonderland   \n",
       "4                en  Singin' in the Rain   \n",
       "\n",
       "                                            overview  popularity  \\\n",
       "0  Cinderella has faith her dreams of a better li...     100.819   \n",
       "1  A hack screenwriter writes a screenplay for a ...      57.740   \n",
       "2  Brimming with action while incisively examinin...      21.011   \n",
       "3  On a golden afternoon, young Alice follows a W...      75.465   \n",
       "4  In 1927 Hollywood, a silent film production co...      31.407   \n",
       "\n",
       "                        poster_path release_date                title  video  \\\n",
       "0  /avz6S9HYWs4O8Oe4PenBFNX4uDi.jpg   1950-02-22           Cinderella  False   \n",
       "1  /sC4Dpmn87oz9AuxZ15Lmip0Ftgr.jpg   1950-08-10     Sunset Boulevard  False   \n",
       "2  /vL7Xw04nFMHwnvXRFCmYYAzMUvY.jpg   1950-08-26             Rashomon  False   \n",
       "3  /20cvfwfaFqNbe9Fc3VEHJuPRxmn.jpg   1951-07-28  Alice in Wonderland  False   \n",
       "4  /w03EiJVHP8Un77boQeE7hg9DVdU.jpg   1952-04-09  Singin' in the Rain  False   \n",
       "\n",
       "   vote_average  vote_count  year  \n",
       "0         7.044        6523  1950  \n",
       "1         8.312        2485  1950  \n",
       "2         8.091        2121  1950  \n",
       "3         7.200        5697  1951  \n",
       "4         8.200        3036  1952  "
      ]
     },
     "execution_count": 2,
     "metadata": {},
     "output_type": "execute_result"
    }
   ],
   "source": [
    "import pandas as pd\n",
    "\n",
    "# movie_df = pd.read_csv(\"./data/movies.csv\")\n",
    "movie_df = pd.read_csv(\"https://raw.githubusercontent.com/weaviate-tutorials/intro-workshop/main/data/movies.csv\")\n",
    "movie_df.head()"
   ]
  },
  {
   "cell_type": "markdown",
   "id": "d27642a1-e738-441c-9008-ce8cb267f28b",
   "metadata": {},
   "source": [
    "## Step 1: Create a Weaviate instance (database)"
   ]
  },
  {
   "cell_type": "markdown",
   "id": "97a88ba7-6e35-4378-ad30-869537966f01",
   "metadata": {},
   "source": [
    "This (Embedded Weaviate) is a quick way to create a Weaviate database. Note that this is suitable for evaluation use only, and currently not compatible with Windows (we are working on it 😉).\n",
    "\n",
    "You can also use:\n",
    "- A free sandbox with Weaviate Cloud Services\n",
    "- Open-source Weaviate directly, available cross-platform with Docker"
   ]
  },
  {
   "cell_type": "code",
   "execution_count": null,
   "id": "ba40b5a3-d645-493b-9c93-e652c1057870",
   "metadata": {
    "ExecuteTime": {
     "end_time": "2023-08-12T20:50:10.463278Z",
     "start_time": "2023-08-12T20:50:10.020181Z"
    },
    "executionCancelledAt": null,
    "executionTime": null,
    "lastExecutedAt": null,
    "lastScheduledRunId": null,
    "lastSuccessfullyExecutedCode": null,
    "outputsMetadata": {
     "0": {
      "height": 97,
      "type": "stream"
     },
     "1": {
      "height": 257,
      "type": "stream"
     }
    }
   },
   "outputs": [],
   "source": [
    "import weaviate\n",
    "import os\n",
    "import json\n",
    "\n",
    "your_cohere_apikey = os.environ[\"COHERE_APIKEY\"]\n",
    "your_openai_apikey = os.environ[\"OPENAI_APIKEY\"]\n",
    "\n",
    "client = weaviate.connect_to_embedded(\n",
    "    version=\"1.25.5\",\n",
    "    headers={\n",
    "        \"X-Cohere-Api-Key\": your_cohere_apikey,  # Replace this with your actual key\n",
    "        \"X-OpenAI-Api-Key\": your_openai_apikey,  # Replace this with your actual key\n",
    "    },\n",
    "    environment_variables={\n",
    "        \"ENABLE_MODULES\": \"text2vec-cohere, generative-cohere, text2vec-openai, generative-openai, text2vec-ollama, generative-ollama\"\n",
    "    }\n",
    ")"
   ]
  },
  {
   "cell_type": "markdown",
   "id": "388d970d-79a2-4591-a5f3-c6c17406df2a",
   "metadata": {},
   "source": [
    "Retrieve Weaviate instance information to check our configuration."
   ]
  },
  {
   "cell_type": "code",
   "execution_count": null,
   "id": "b8a4226e-41fd-4ad7-9416-dcda4a443d58",
   "metadata": {
    "ExecuteTime": {
     "end_time": "2023-08-12T20:50:11.726853Z",
     "start_time": "2023-08-12T20:50:11.722015Z"
    },
    "executionCancelledAt": null,
    "executionTime": 48,
    "lastExecutedAt": 1692032185634,
    "lastScheduledRunId": null,
    "lastSuccessfullyExecutedCode": "jprint(client.get_meta())",
    "outputsMetadata": {
     "0": {
      "height": 597,
      "type": "stream"
     }
    }
   },
   "outputs": [],
   "source": []
  },
  {
   "cell_type": "markdown",
   "id": "68b9706e-e11e-43f8-ae13-3741c5376b25",
   "metadata": {},
   "source": [
    "## Step 2: Add data to Weaviate"
   ]
  },
  {
   "cell_type": "markdown",
   "id": "5f01b498-455f-4e82-bdb3-df7b95363ca4",
   "metadata": {},
   "source": [
    "### Add collection definition"
   ]
  },
  {
   "cell_type": "markdown",
   "id": "310a7ecf-0f04-48a3-b622-dd3673e8302f",
   "metadata": {},
   "source": [
    "The equivalent of a SQL \"table\", is called a \"collection\" in Weaviate, like they are in NoSQL databases."
   ]
  },
  {
   "cell_type": "markdown",
   "id": "ba03c144-e2a3-48cc-97db-590fbac55ec0",
   "metadata": {},
   "source": [
    "In case I created a demo collection - let's delete it."
   ]
  },
  {
   "cell_type": "code",
   "execution_count": null,
   "id": "976fdc87-ee1f-43cd-8db7-57b1fda5d697",
   "metadata": {
    "ExecuteTime": {
     "end_time": "2023-08-12T20:50:23.339817Z",
     "start_time": "2023-08-12T20:50:23.303039Z"
    },
    "executionCancelledAt": null,
    "executionTime": 47,
    "lastExecutedAt": 1692032185681,
    "lastScheduledRunId": null,
    "lastSuccessfullyExecutedCode": "if client.schema.exists(\"Question\"):\n    client.schema.delete_class(\"Question\")"
   },
   "outputs": [],
   "source": []
  },
  {
   "cell_type": "markdown",
   "id": "9279cefa-ecaf-487c-a090-43a14383e9a1",
   "metadata": {},
   "source": [
    "And create a new collection definition here.\n",
    "We'll set up a collection called \"Movie\" with:\n",
    "- Two \"named vectors\" -> which will save different \"meanings\" of the data,\n",
    "- A \"generative\" module -> which will allow us to use LLMs with our data, and\n",
    "- Properties to save our movie data (which are like SQL columns).\n",
    "    - Just the title, overview, year and popularity for now."
   ]
  },
  {
   "cell_type": "code",
   "execution_count": null,
   "id": "5da0db4a-9f72-402c-9c23-49f1500ea995",
   "metadata": {
    "ExecuteTime": {
     "end_time": "2023-08-12T20:50:24.018171Z",
     "start_time": "2023-08-12T20:50:23.993529Z"
    },
    "executionCancelledAt": null,
    "executionTime": null,
    "lastExecutedAt": null,
    "lastScheduledRunId": null,
    "lastSuccessfullyExecutedCode": null,
    "outputsMetadata": {
     "0": {
      "height": 77,
      "type": "stream"
     }
    }
   },
   "outputs": [],
   "source": [
    "from weaviate.classes.config import Configure, DataType, Property\n",
    "\n",
    "client.collections.create(\n",
    "    name=\"Movie\",\n",
    "    vectorizer_config=[],\n",
    "    generative_config=None,\n",
    "    properties=[\n",
    "        Property(\n",
    "            name=\"title\",\n",
    "            data_type=DataType.TEXT,\n",
    "        ),\n",
    "    ]\n",
    ")"
   ]
  },
  {
   "cell_type": "markdown",
   "id": "c3fdad45-8916-4c4a-8405-6f28f3eaee40",
   "metadata": {},
   "source": [
    "> Tip: You can get example collection definitions in our documentation:\n",
    "> - https://weaviate.io/developers/weaviate/manage-data/collections"
   ]
  },
  {
   "cell_type": "markdown",
   "id": "bd17a8e9-da25-4619-9e37-0787383dafe1",
   "metadata": {},
   "source": [
    "Was our collection created successfully? Let's take a look"
   ]
  },
  {
   "cell_type": "code",
   "execution_count": null,
   "id": "cfed74df-84a7-43a6-bd79-960b0681be7e",
   "metadata": {
    "executionCancelledAt": null,
    "executionTime": 48,
    "lastExecutedAt": 1692032185778,
    "lastScheduledRunId": null,
    "lastSuccessfullyExecutedCode": "jprint(client.schema.get(\"Question\"))",
    "outputsMetadata": {
     "0": {
      "height": 616,
      "type": "stream"
     }
    },
    "scrolled": true
   },
   "outputs": [],
   "source": []
  },
  {
   "cell_type": "markdown",
   "id": "d1ec4752-6428-4db0-b5b3-c36db1b6caaf",
   "metadata": {},
   "source": [
    "### Add data"
   ]
  },
  {
   "cell_type": "markdown",
   "id": "d809f0b6-d816-448a-9619-b8f660b0eef7",
   "metadata": {},
   "source": [
    "We'll add actual objects (SQL rows) to our data. \n",
    "\n",
    "First, let's build objects to add - and take a look at a couple."
   ]
  },
  {
   "cell_type": "code",
   "execution_count": null,
   "id": "a4453f38-67ac-4de6-9f3d-decc3527149a",
   "metadata": {
    "executionCancelledAt": null,
    "executionTime": 47,
    "lastExecutedAt": 1692032185826,
    "lastScheduledRunId": null,
    "lastSuccessfullyExecutedCode": "for o in data[:2]:\n    obj_body = {\n        \"question\": o[\"Question\"],\n        \"answer\": o[\"Answer\"],\n    }\n    print(obj_body)",
    "outputsMetadata": {
     "0": {
      "height": 97,
      "type": "stream"
     }
    }
   },
   "outputs": [],
   "source": [
    "data_columns = ['title', 'overview', 'year', 'popularity']\n",
    "\n",
    "df = movie_df[data_columns]\n",
    "\n",
    "df.head()"
   ]
  },
  {
   "cell_type": "markdown",
   "id": "d0d65333-ce25-4833-92b7-57ca8113bdb2",
   "metadata": {},
   "source": [
    "> If it all looks fine - let's add objects:\n",
    "> - https://weaviate.io/developers/weaviate/manage-data/import"
   ]
  },
  {
   "cell_type": "code",
   "execution_count": null,
   "id": "1b445597-3655-4606-99e8-8398c50b632d",
   "metadata": {
    "executionCancelledAt": null,
    "executionTime": 6734,
    "lastExecutedAt": 1692032192560,
    "lastScheduledRunId": null,
    "lastSuccessfullyExecutedCode": "with client.batch() as batch:\n    for o in data:\n        obj_body = {\n            \"question\": o[\"Question\"],\n            \"answer\": o[\"Answer\"],\n        }\n        batch.add_data_object(\n            data_object=obj_body,\n            class_name=\"Question\"\n        )",
    "outputsMetadata": {
     "0": {
      "height": 97,
      "type": "stream"
     }
    }
   },
   "outputs": [],
   "source": []
  },
  {
   "cell_type": "code",
   "execution_count": null,
   "id": "0d819661",
   "metadata": {},
   "outputs": [],
   "source": []
  },
  {
   "cell_type": "markdown",
   "id": "216d67ac-f92d-4239-b1cb-8c76ea2cf6ca",
   "metadata": {},
   "source": [
    "#### Confirm data load"
   ]
  },
  {
   "cell_type": "markdown",
   "id": "9003b6a9-1d0c-4f31-a3a2-945a7a17dfd8",
   "metadata": {},
   "source": [
    "Do we have data? \n",
    "\n",
    "Let's get an object count"
   ]
  },
  {
   "cell_type": "code",
   "execution_count": null,
   "id": "748cf869-67cd-4b39-b230-23b043217aa3",
   "metadata": {
    "executionCancelledAt": null,
    "executionTime": 48,
    "lastExecutedAt": 1692032192610,
    "lastScheduledRunId": null,
    "lastSuccessfullyExecutedCode": "jprint(client.query.aggregate(\"Question\").with_meta_count().do())",
    "outputsMetadata": {
     "0": {
      "height": 277,
      "type": "stream"
     }
    }
   },
   "outputs": [],
   "source": []
  },
  {
   "cell_type": "markdown",
   "id": "1233f9b5-5676-4dc3-bcc8-86df0f86553f",
   "metadata": {},
   "source": [
    "Does the data look right?\n",
    "\n",
    "Let's grab a few objects from Weaviate!"
   ]
  },
  {
   "cell_type": "code",
   "execution_count": null,
   "id": "345479f8-b31f-4ba4-8777-bc13cd6d91cf",
   "metadata": {
    "executionCancelledAt": null,
    "executionTime": null,
    "lastExecutedAt": null,
    "lastScheduledRunId": null,
    "lastSuccessfullyExecutedCode": null,
    "outputsMetadata": {
     "0": {
      "height": 377,
      "type": "stream"
     }
    }
   },
   "outputs": [],
   "source": []
  },
  {
   "cell_type": "markdown",
   "id": "663c77a3-b0f2-429b-b2fe-78cef9d6ac40",
   "metadata": {},
   "source": [
    "Let's pause for a second - because we've done a lot!"
   ]
  },
  {
   "cell_type": "markdown",
   "id": "c4b1dbad-dfa7-4f88-a5f5-ea6a0f39e413",
   "metadata": {},
   "source": [
    "#### What did we just do?\n",
    "\n",
    "Here is a conceptual diagram"
   ]
  },
  {
   "cell_type": "markdown",
   "id": "436522dc-8cd0-47c4-8286-f839e5a785d4",
   "metadata": {},
   "source": [
    "![img](https://github.com/weaviate-tutorials/intro-workshop/blob/main/images/object_import_process_full.png?raw=1)"
   ]
  },
  {
   "cell_type": "markdown",
   "id": "2ac15074-c5f6-48e9-9950-35ee265e14d0",
   "metadata": {},
   "source": [
    "## Step 3: Work with the data"
   ]
  },
  {
   "cell_type": "markdown",
   "id": "38c5e47f-c408-4fc4-83f8-4e133d040b3b",
   "metadata": {},
   "source": [
    "Let's try a few more involved queries"
   ]
  },
  {
   "cell_type": "markdown",
   "id": "dd5740b2-2846-4462-b140-1b1b9c4544ec",
   "metadata": {},
   "source": [
    "### Filtering (similar to WHERE filter in SQL)"
   ]
  },
  {
   "cell_type": "markdown",
   "id": "b0c640bf-9f35-4d1e-96e5-455b2fb69fde",
   "metadata": {},
   "source": [
    "Let's find objects that meet a particular condition."
   ]
  },
  {
   "cell_type": "code",
   "execution_count": null,
   "id": "db451d4b-fcdf-440f-8502-854d970c98d6",
   "metadata": {
    "executionCancelledAt": null,
    "executionTime": 48,
    "lastExecutedAt": 1692032192706,
    "lastScheduledRunId": null,
    "lastSuccessfullyExecutedCode": "where_filter = {\n    \"path\": [\"question\"],\n    \"operator\": \"Like\",\n    \"valueText\": \"*history*\"\n}\n\nresponse = (\n    client.query\n    .get(\"Question\", [\"question\", \"answer\"])\n    .with_where(where_filter)\n    .with_limit(3)\n    .do()\n)\n\njprint(response)",
    "outputsMetadata": {
     "0": {
      "height": 477,
      "type": "stream"
     }
    }
   },
   "outputs": [],
   "source": []
  },
  {
   "cell_type": "markdown",
   "id": "d4bd3737-068a-4a88-8386-0148999947ed",
   "metadata": {},
   "source": [
    "But this does not rank the result in any meaningful way. \n",
    "\n",
    "For that, we need a keyword search (as opposed to a keyword *filter*)."
   ]
  },
  {
   "cell_type": "markdown",
   "id": "6553f176-47b5-4c2b-88e2-5c8fea71fe7e",
   "metadata": {},
   "source": [
    "### Keyword search"
   ]
  },
  {
   "cell_type": "markdown",
   "id": "d7a3d7c7-d376-465e-8a23-841203d54055",
   "metadata": {},
   "source": [
    "Unlike a keyword filter, a keyword search will search for, and rank results based on the frequency of the keyword."
   ]
  },
  {
   "cell_type": "code",
   "execution_count": null,
   "id": "62d78900-199a-4b8d-8da1-3223c3ada047",
   "metadata": {
    "executionCancelledAt": null,
    "executionTime": 52,
    "lastExecutedAt": 1692032192810,
    "lastScheduledRunId": null,
    "lastSuccessfullyExecutedCode": "response = (\n    client.query\n    .get(\"Question\", [\"question\", \"answer\"])\n    .with_bm25(\"history\")\n    .with_limit(3)\n    .do()\n)\n\njprint(response)",
    "outputsMetadata": {
     "0": {
      "height": 477,
      "type": "stream"
     }
    }
   },
   "outputs": [],
   "source": []
  },
  {
   "cell_type": "markdown",
   "id": "ada69268-32aa-4175-99e8-516e355d5703",
   "metadata": {},
   "source": [
    "### Semantic search"
   ]
  },
  {
   "cell_type": "markdown",
   "id": "fa422c04-ae07-48e4-8202-1ea0615db2a0",
   "metadata": {},
   "source": [
    "A semantic search, on the other hand, searches objects based on similarity"
   ]
  },
  {
   "cell_type": "code",
   "execution_count": null,
   "id": "295bcedc-496d-49a0-b8c1-b3a398d728b8",
   "metadata": {
    "executionCancelledAt": null,
    "executionTime": 159,
    "lastExecutedAt": 1692032192969,
    "lastScheduledRunId": null,
    "lastSuccessfullyExecutedCode": "response = (\n    client.query\n    .get(\"Question\", [\"question\", \"answer\"])\n    .with_near_text({\"concepts\": [\"history\"]})\n    .with_limit(3)\n    .do()\n)\n\njprint(response)",
    "outputsMetadata": {
     "0": {
      "height": 477,
      "type": "stream"
     }
    }
   },
   "outputs": [],
   "source": []
  },
  {
   "cell_type": "markdown",
   "id": "6ab8beb0-ab45-4590-a4de-84b68370c026",
   "metadata": {},
   "source": [
    "#### How does this work?\n",
    "\n",
    "- Under the hood, this uses a vector search. It looks for objects which are the most similar to a text input.\n",
    "- We can inspect the similarity along with the results."
   ]
  },
  {
   "cell_type": "code",
   "execution_count": null,
   "id": "185a77e4-b27a-4b80-9981-fd975f92e67a",
   "metadata": {
    "executionCancelledAt": null,
    "executionTime": 142,
    "lastExecutedAt": 1692032193111,
    "lastScheduledRunId": null,
    "lastSuccessfullyExecutedCode": "response = (\n    client.query\n    .get(\"Question\", [\"question\", \"answer\"])\n    .with_near_text({\"concepts\": [\"history\"]})\n    .with_additional(\"distance\")\n    .with_limit(3)\n    .do()\n)\n\njprint(response)",
    "outputsMetadata": {
     "0": {
      "height": 616,
      "type": "stream"
     }
    }
   },
   "outputs": [],
   "source": []
  },
  {
   "cell_type": "markdown",
   "id": "6df9e24c-edf7-4f25-ac30-6e291b3ffcad",
   "metadata": {},
   "source": [
    "This is where \"vectors\" come in. \n",
    "\n",
    "Each object in Weaviate includes a vector - like so:"
   ]
  },
  {
   "cell_type": "code",
   "execution_count": null,
   "id": "1d75ad29-ce85-4bca-beaf-da708b20fb57",
   "metadata": {
    "executionCancelledAt": null,
    "executionTime": 54,
    "lastExecutedAt": 1692032193165,
    "lastScheduledRunId": null,
    "lastSuccessfullyExecutedCode": "response = (\n    client.query\n    .get(\"Question\", [\"question\", \"answer\"])\n    .with_additional(\"vector\")\n    .with_limit(1)\n    .do()\n)\n\njprint(response)",
    "outputsMetadata": {
     "0": {
      "height": 616,
      "type": "stream"
     }
    }
   },
   "outputs": [],
   "source": []
  },
  {
   "cell_type": "markdown",
   "id": "f4097db1-76b0-459c-b5c3-2ee1e0f90abe",
   "metadata": {},
   "source": [
    "These vector representations come from deep learning models to those that power LLMs. They capture meaning, and are called vector \"embeddings\"."
   ]
  },
  {
   "cell_type": "markdown",
   "id": "9a055536-649b-4840-8443-c7f15c4f961c",
   "metadata": {},
   "source": [
    "### Generative search"
   ]
  },
  {
   "cell_type": "markdown",
   "id": "f8bbeb19-3d05-47f4-960f-6f8e9e5dfcc8",
   "metadata": {},
   "source": [
    "A generative search transforms your data at retrieval time. "
   ]
  },
  {
   "cell_type": "code",
   "execution_count": null,
   "id": "6eb0d7a5-d31b-4b5a-a7d8-96719947a69e",
   "metadata": {
    "executionCancelledAt": null,
    "executionTime": 4342,
    "lastExecutedAt": 1692032197507,
    "lastScheduledRunId": null,
    "lastSuccessfullyExecutedCode": "response = (\n    client.query\n    .get(\"Question\", [\"question\", \"answer\"])\n    .with_near_text({\"concepts\": [\"history\"]})\n    .with_generate(single_prompt=\"Write a tweet about {question} as an interesting factoid.\")\n    .with_limit(3)\n    .do()\n)\n\njprint(response)",
    "outputsMetadata": {
     "0": {
      "height": 616,
      "type": "stream"
     }
    }
   },
   "outputs": [],
   "source": []
  },
  {
   "cell_type": "markdown",
   "id": "29d4445d-918d-47c1-a553-688fffbb7164",
   "metadata": {},
   "source": [
    "You can see here ⬆️ that each object has been transformed into a tweet by the LLM based on our prompt."
   ]
  },
  {
   "cell_type": "markdown",
   "id": "bdd87179-0c9b-42f8-85f0-8d790dafa4ad",
   "metadata": {},
   "source": [
    "You can ask LLMs to perform all sorts of tasks"
   ]
  },
  {
   "cell_type": "code",
   "execution_count": null,
   "id": "03472eb3-b993-4c6b-80c5-058d52ca0fbb",
   "metadata": {
    "executionCancelledAt": null,
    "executionTime": 2226,
    "lastExecutedAt": 1692032199733,
    "lastScheduledRunId": null,
    "lastSuccessfullyExecutedCode": "response = (\n    client.query\n    .get(\"Question\", [\"question\", \"answer\"])\n    .with_near_text({\"concepts\": [\"history\"]})\n    .with_generate(single_prompt=\"Translate {question} into French.\")\n    .with_limit(3)\n    .do()\n)\n\njprint(response)",
    "outputsMetadata": {
     "0": {
      "height": 616,
      "type": "stream"
     }
    }
   },
   "outputs": [],
   "source": []
  },
  {
   "cell_type": "markdown",
   "id": "b28977d3-a44d-4d8e-a208-00cc05e859d2",
   "metadata": {},
   "source": [
    "The LLM is multi-lingual!"
   ]
  },
  {
   "cell_type": "markdown",
   "id": "cdcbe4cc-42e6-440a-a3ad-21742eaaadec",
   "metadata": {},
   "source": [
    "You can also send groups of results to the LLM with Weaviate."
   ]
  },
  {
   "cell_type": "code",
   "execution_count": null,
   "id": "3c92c5ba-be4b-4741-98c1-d4928facfe2e",
   "metadata": {
    "executionCancelledAt": null,
    "executionTime": null,
    "lastExecutedAt": null,
    "lastScheduledRunId": null,
    "lastSuccessfullyExecutedCode": null,
    "outputsMetadata": {
     "0": {
      "height": 0,
      "type": "stream"
     }
    },
    "scrolled": true
   },
   "outputs": [],
   "source": []
  },
  {
   "cell_type": "code",
   "execution_count": null,
   "id": "0e03f4fb-8a08-41a7-a7d1-dc1ebc14fae3",
   "metadata": {},
   "outputs": [],
   "source": [
    "client.close()"
   ]
  }
 ],
 "metadata": {
  "editor": "DataCamp Workspace",
  "kernelspec": {
   "display_name": "Python 3 (ipykernel)",
   "language": "python",
   "name": "python3"
  },
  "language_info": {
   "codemirror_mode": {
    "name": "ipython",
    "version": 3
   },
   "file_extension": ".py",
   "mimetype": "text/x-python",
   "name": "python",
   "nbconvert_exporter": "python",
   "pygments_lexer": "ipython3",
   "version": "3.10.12"
  }
 },
 "nbformat": 4,
 "nbformat_minor": 5
}
