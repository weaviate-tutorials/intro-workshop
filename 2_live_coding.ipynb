{
 "cells": [
  {
   "cell_type": "markdown",
   "metadata": {},
   "source": [
    "## Live coding - play with real data & Weaviate\n",
    "\n",
    "Let's build our own instance of Weaviate, with real data!\n",
    "\n",
    "We'll load the data from the Pro Git book<sup>*</sup> and go from there:\n",
    "\n",
    "> *Pro Git book, written by Scott Chacon and Ben Straub and published by Apress, licensed under the Creative Commons Attribution Non Commercial Share Alike 3.0 license.\n",
    ">\n",
    "> - https://git-scm.com/book/en/v2\n",
    "> - https://github.com/progit/progit2"
   ]
  },
  {
   "cell_type": "code",
   "execution_count": null,
   "metadata": {},
   "outputs": [],
   "source": [
    "def get_book_text_objects():\n",
    "    import requests\n",
    "\n",
    "    # Source location\n",
    "    text_objs = list()\n",
    "    api_base_url = 'https://api.github.com/repos/progit/progit2/contents/book'  # Book base URL\n",
    "    chapter_urls = ['/01-introduction/sections', '/02-git-basics/sections']  # List of section URLs\n",
    "\n",
    "    # Loop through book chapters\n",
    "    for chapter_url in chapter_urls:\n",
    "        response = requests.get(api_base_url + chapter_url)  # Get the JSON data for the section files in the chapter\n",
    "\n",
    "        # Loop through inner files (sections)\n",
    "        for file_info in response.json():\n",
    "            if file_info['type'] == 'file':  # Only process files (not directories)\n",
    "                file_response = requests.get(file_info['download_url'])\n",
    "\n",
    "                # Build objects including metadata\n",
    "                chapter_title = file_info['download_url'].split('/')[-3]\n",
    "                filename = file_info['download_url'].split('/')[-1]\n",
    "                text_obj = {\n",
    "                    \"body\": file_response.text,\n",
    "                    \"chapter_title\": chapter_title,\n",
    "                    \"filename\": filename\n",
    "                }\n",
    "                text_objs.append(text_obj)\n",
    "    return text_objs\n",
    "\n",
    "\n",
    "def load_text_files():\n",
    "    from pathlib import Path\n",
    "\n",
    "    data_dir = Path(\"data/pro_git/\")\n",
    "    all_files = []\n",
    "\n",
    "    for file_path in data_dir.rglob(\"*.asc\"):\n",
    "        if file_path.is_file():\n",
    "            all_files.append(file_path)\n",
    "\n",
    "    text_objs = list()\n",
    "    for fpath in all_files:\n",
    "        with fpath.open() as f:\n",
    "            text_obj = {\n",
    "                \"body\": f.read(),\n",
    "                \"chapter_title\": fpath.parent.name,\n",
    "                \"filename\": fpath.name\n",
    "            }    \n",
    "            text_objs.append(text_obj)  \n",
    "            \n",
    "    return text_objs  \n",
    "\n",
    "\n",
    "text_objs = get_book_text_objects()\n",
    "# text_objs = load_text_files()"
   ]
  },
  {
   "cell_type": "code",
   "execution_count": null,
   "metadata": {},
   "outputs": [],
   "source": []
  }
 ],
 "metadata": {
  "kernelspec": {
   "display_name": "Python 3 (ipykernel)",
   "language": "python",
   "name": "python3"
  },
  "language_info": {
   "codemirror_mode": {
    "name": "ipython",
    "version": 3
   },
   "file_extension": ".py",
   "mimetype": "text/x-python",
   "name": "python",
   "nbconvert_exporter": "python",
   "pygments_lexer": "ipython3",
   "version": "3.10.12"
  },
  "varInspector": {
   "cols": {
    "lenName": 16,
    "lenType": 16,
    "lenVar": 40
   },
   "kernels_config": {
    "python": {
     "delete_cmd_postfix": "",
     "delete_cmd_prefix": "del ",
     "library": "var_list.py",
     "varRefreshCmd": "print(var_dic_list())"
    },
    "r": {
     "delete_cmd_postfix": ") ",
     "delete_cmd_prefix": "rm(",
     "library": "var_list.r",
     "varRefreshCmd": "cat(var_dic_list()) "
    }
   },
   "types_to_exclude": [
    "module",
    "function",
    "builtin_function_or_method",
    "instance",
    "_Feature"
   ],
   "window_display": false
  }
 },
 "nbformat": 4,
 "nbformat_minor": 2
}
