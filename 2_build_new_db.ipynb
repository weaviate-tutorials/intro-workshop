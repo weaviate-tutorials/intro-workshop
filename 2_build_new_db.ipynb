{
 "cells": [
  {
   "attachments": {},
   "cell_type": "markdown",
   "metadata": {
    "id": "FXPHl4eORxEZ"
   },
   "source": [
    "## Populate Weaviate instance"
   ]
  },
  {
   "attachments": {},
   "cell_type": "markdown",
   "metadata": {
    "id": "FebtVxiMcHff"
   },
   "source": [
    "<a target=\"_blank\" href=\"https://colab.research.google.com/github/weaviate-tutorials/intro-workshop/blob/main/2_build_new_db.ipynb\">\n",
    "  <img src=\"https://colab.research.google.com/assets/colab-badge.svg\" alt=\"Open In Colab\"/>\n",
    "</a>"
   ]
  },
  {
   "attachments": {},
   "cell_type": "markdown",
   "metadata": {
    "id": "HUefgP9VcHff"
   },
   "source": [
    "Install libraries as needed (uncomment for Colab)"
   ]
  },
  {
   "cell_type": "code",
   "execution_count": null,
   "metadata": {
    "colab": {
     "base_uri": "https://localhost:8080/"
    },
    "id": "HsHW7I2sDMg3",
    "outputId": "f70f3ac3-264d-4bcf-ecca-bcf223b0bf83"
   },
   "outputs": [],
   "source": [
    "# !pip install -Uqq weaviate-client weaviate-demo-datasets"
   ]
  },
  {
   "cell_type": "code",
   "execution_count": null,
   "metadata": {},
   "outputs": [],
   "source": [
    "def jprint(str_in: str):\n",
    "    import json\n",
    "    print(json.dumps(str_in, indent=2))"
   ]
  },
  {
   "attachments": {},
   "cell_type": "markdown",
   "metadata": {
    "id": "b6POGJTUR4U4"
   },
   "source": [
    "Instantiate Weaviate client"
   ]
  },
  {
   "cell_type": "code",
   "execution_count": null,
   "metadata": {
    "colab": {
     "base_uri": "https://localhost:8080/"
    },
    "id": "rWzQ7DLBDPul",
    "outputId": "95615474-c648-4f0e-e005-750eebb2790f"
   },
   "outputs": [],
   "source": [
    "import weaviate\n",
    "from weaviate.embedded import EmbeddedOptions\n",
    "import os\n",
    "\n",
    "# # Option 1 - If using Colab:\n",
    "# client = weaviate.Client(\n",
    "#     embedded_options=EmbeddedOptions(version=\"latest\"),\n",
    "#     additional_headers={\n",
    "#         \"X-OpenAI-Api-Key\": os.environ[\"OPENAI_APIKEY\"]  # Replace with your OpenAI key\n",
    "#     }\n",
    "# )\n",
    "\n",
    "# Option 2 - If using WCS sandbox:\n",
    "client = weaviate.Client(\n",
    "    \"https://workshop-demo-0xwl314q.weaviate.network\",  # Replace this with your sandbox URL\n",
    "    auth_client_secret=weaviate.AuthApiKey(\"KQBu0wOvoWd70rXJIf1hs1oFkSmnxiupA7rm\"),  # Replace this with your API Key\n",
    "    additional_headers={\n",
    "      \"X-OpenAI-Api-Key\": os.environ[\"OPENAI_APIKEY\"]  # Replace with your OpenAI key\n",
    "    }\n",
    ")\n",
    "\n",
    "# # Option 3 - If using Docker-Compose:\n",
    "# client = weaviate.Client(\n",
    "#     \"http://localhost:8080\",\n",
    "#     additional_headers={\n",
    "#         \"X-OpenAI-Api-Key\": os.environ[\"OPENAI_APIKEY\"]  # Replace with your OpenAI key\n",
    "#     }\n",
    "# )"
   ]
  },
  {
   "attachments": {},
   "cell_type": "markdown",
   "metadata": {
    "id": "XpLuRc5ER_4p"
   },
   "source": [
    "Let's confirm that we are ready to go."
   ]
  },
  {
   "cell_type": "code",
   "execution_count": null,
   "metadata": {
    "colab": {
     "base_uri": "https://localhost:8080/"
    },
    "id": "RNNYVAEGFA8a",
    "outputId": "293b8aac-1fa8-45f9-e742-cceb4b0dc294"
   },
   "outputs": [],
   "source": [
    "client.is_ready()"
   ]
  },
  {
   "attachments": {},
   "cell_type": "markdown",
   "metadata": {},
   "source": [
    "## What's available on my instance?"
   ]
  },
  {
   "cell_type": "code",
   "execution_count": null,
   "metadata": {
    "colab": {
     "base_uri": "https://localhost:8080/"
    },
    "id": "UNsbzRNsjFB3",
    "outputId": "70409c5d-24f6-40da-eec7-e903ed591247"
   },
   "outputs": [],
   "source": [
    "jprint(client.get_meta())  "
   ]
  },
  {
   "attachments": {},
   "cell_type": "markdown",
   "metadata": {},
   "source": [
    "### Version\n",
    "\n",
    "Note the Weaviate version"
   ]
  },
  {
   "attachments": {},
   "cell_type": "markdown",
   "metadata": {},
   "source": [
    "## Modules \n",
    "\n",
    "What are these `modules`?\n",
    "\n",
    "Modules allow you to configure Weaviate (so that you can work with your data in a way that suits you). Most commonly used modules are:\n",
    "- Vectorizers (e.g. `text2vec-cohere`, `text2vec-huggingface`, `text2vec-openai`, `text2vec-palm`, etc.)\n",
    "- Generative modules (e.g. `generative-xxx`)\n",
    "\n",
    "### Bring your own vector\n",
    "\n",
    "![img](./images/object_import_process_simple.png)\n",
    "\n",
    "In this use case, you simply import your data and the associated vector. Weaviate simply indexes your data for you, so that you can search through it quickly, and effectively.\n",
    "\n",
    "### Use a vectorizer module\n",
    "\n",
    "![img](./images/object_import_process_full.png)\n",
    "\n",
    "In this use case, you task Weaviate with the additional work of converting your data into vectors. The `vectorizer` module performs this job - whether it be through a local model, or using an external vectorizer API service."
   ]
  },
  {
   "attachments": {},
   "cell_type": "markdown",
   "metadata": {
    "id": "E2ALtGcRSD5q"
   },
   "source": [
    "## Populate Weaviate\n",
    "\n",
    "Let's add some data to Weaviate. The process for importing data into Weaviate is as follows:\n",
    "\n",
    "```\n",
    "     Create class definition\n",
    "                ⬇\n",
    "Add class definition to the schema\n",
    "                ⬇\n",
    "            Load data\n",
    "                ⬇\n",
    "        (Batch) import data\n",
    "```\n",
    "\n",
    "Here we'll use the unofficial library `weaviate-demo-datasets` for illustrative purposes."
   ]
  },
  {
   "cell_type": "code",
   "execution_count": null,
   "metadata": {
    "id": "dX-rPbcGEOir"
   },
   "outputs": [],
   "source": [
    "import weaviate_datasets as wd"
   ]
  },
  {
   "cell_type": "code",
   "execution_count": null,
   "metadata": {
    "id": "5KyT_JDkEQ1g"
   },
   "outputs": [],
   "source": [
    "dataset = wd.WineReviews()"
   ]
  },
  {
   "attachments": {},
   "cell_type": "markdown",
   "metadata": {
    "id": "Ci1TaQtvSgwf"
   },
   "source": [
    "### Create class definition"
   ]
  },
  {
   "cell_type": "code",
   "execution_count": null,
   "metadata": {
    "id": "4uV0WhjnEV0u"
   },
   "outputs": [],
   "source": [
    "class_objs = dataset.get_class_definitions()"
   ]
  },
  {
   "cell_type": "code",
   "execution_count": null,
   "metadata": {
    "colab": {
     "base_uri": "https://localhost:8080/"
    },
    "id": "Y89VnQjIcHfh",
    "outputId": "be78ccd5-e812-4a5c-f103-f550f93610ad"
   },
   "outputs": [],
   "source": [
    "jprint(class_objs)"
   ]
  },
  {
   "attachments": {},
   "cell_type": "markdown",
   "metadata": {
    "id": "TtEy6a86cHfh"
   },
   "source": [
    "### Add class definition to the schema"
   ]
  },
  {
   "cell_type": "code",
   "execution_count": null,
   "metadata": {
    "id": "ss7trhTRQrfE"
   },
   "outputs": [],
   "source": [
    "for class_obj in class_objs:\n",
    "    if not client.schema.contains(class_obj):\n",
    "        print(f\"Adding {class_obj['class']}\")\n",
    "        client.schema.create_class(class_obj)"
   ]
  },
  {
   "cell_type": "code",
   "execution_count": null,
   "metadata": {
    "colab": {
     "base_uri": "https://localhost:8080/"
    },
    "id": "uyavZgPBS-sz",
    "outputId": "d759a8ca-58d1-4965-8841-9da3eb2f15c8",
    "scrolled": true,
    "tags": []
   },
   "outputs": [],
   "source": [
    "client.schema.get()"
   ]
  },
  {
   "cell_type": "code",
   "execution_count": null,
   "metadata": {
    "id": "zzUZuxJhebHz"
   },
   "outputs": [],
   "source": [
    "class_name = class_obj['class']"
   ]
  },
  {
   "attachments": {},
   "cell_type": "markdown",
   "metadata": {
    "id": "5vY4H4NhSb3B"
   },
   "source": [
    "### Load data"
   ]
  },
  {
   "attachments": {},
   "cell_type": "markdown",
   "metadata": {
    "id": "l1NR9K9McHfh"
   },
   "source": [
    "Load sample data from `weaviate_datasets`"
   ]
  },
  {
   "cell_type": "code",
   "execution_count": null,
   "metadata": {
    "colab": {
     "base_uri": "https://localhost:8080/"
    },
    "id": "lGwohqlIcHfh",
    "outputId": "06b7da56-1f90-4e3a-e381-5fe46df9dab9",
    "scrolled": true
   },
   "outputs": [],
   "source": [
    "dataset.get_sample()"
   ]
  },
  {
   "cell_type": "code",
   "execution_count": null,
   "metadata": {
    "id": "2ADTC6wucxBd"
   },
   "outputs": [],
   "source": [
    "# loader = dataset._class_dataloader(class_name)\n",
    "# next(loader)[0]"
   ]
  },
  {
   "attachments": {},
   "cell_type": "markdown",
   "metadata": {
    "id": "UmU_mrRhSk63"
   },
   "source": [
    "### Batch import"
   ]
  },
  {
   "attachments": {},
   "cell_type": "markdown",
   "metadata": {
    "id": "kaJzxD8McHfh"
   },
   "source": [
    "Note: you should almost always use bach imports for speed."
   ]
  },
  {
   "cell_type": "code",
   "execution_count": null,
   "metadata": {
    "id": "L5u2YvFROnQb"
   },
   "outputs": [],
   "source": [
    "from weaviate.util import generate_uuid5\n",
    "\n",
    "loader = dataset._class_dataloader(class_name)\n",
    "with client.batch() as batch:\n",
    "    for data_objs in loader:\n",
    "        data_obj = data_objs[0]     \n",
    "        batch.add_data_object(\n",
    "            data_object=data_obj, \n",
    "            class_name=class_name,\n",
    "            vector=[1,2, 3],  # You can specify your own vector here\n",
    "            uuid=generate_uuid5(data_obj),\n",
    "        )"
   ]
  },
  {
   "attachments": {},
   "cell_type": "markdown",
   "metadata": {
    "id": "9xjSyS04cHfi"
   },
   "source": [
    "Confirm import by getting an object count."
   ]
  },
  {
   "cell_type": "code",
   "execution_count": null,
   "metadata": {
    "colab": {
     "base_uri": "https://localhost:8080/"
    },
    "id": "hjUf_cgQPTvg",
    "outputId": "7e592be6-ff36-4572-d102-f4ea04c94d29"
   },
   "outputs": [],
   "source": [
    "client.query.aggregate(class_name).with_meta_count().do()"
   ]
  },
  {
   "attachments": {},
   "cell_type": "markdown",
   "metadata": {
    "id": "2NKqobgjcHfi"
   },
   "source": [
    "Check that we have generated vectors."
   ]
  },
  {
   "cell_type": "code",
   "execution_count": null,
   "metadata": {
    "id": "VXCqbl-sSuKa"
   },
   "outputs": [],
   "source": [
    "res = client.query.get(\n",
    "    class_name, \n",
    "    [\"title\", \"country\", \"review_body\", \"points\"]\n",
    ").with_additional(\"vector\").with_limit(2).do()"
   ]
  },
  {
   "cell_type": "code",
   "execution_count": null,
   "metadata": {
    "colab": {
     "base_uri": "https://localhost:8080/"
    },
    "id": "aemtz9azcHfi",
    "outputId": "dd53eb47-7d10-45c4-bbe3-3d6d448d3c4f",
    "scrolled": true
   },
   "outputs": [],
   "source": [
    "jprint(res)"
   ]
  },
  {
   "attachments": {},
   "cell_type": "markdown",
   "metadata": {
    "id": "vhf25NLmSn8f"
   },
   "source": [
    "### (But...) Here's one I prepared earlier"
   ]
  },
  {
   "attachments": {},
   "cell_type": "markdown",
   "metadata": {
    "id": "BnapscIscHfi"
   },
   "source": [
    "Let's import the whole dataset with a predefined function."
   ]
  },
  {
   "cell_type": "code",
   "execution_count": null,
   "metadata": {
    "id": "-Va7mb7jOfIf"
   },
   "outputs": [],
   "source": [
    "client.schema.delete_class(class_name)"
   ]
  },
  {
   "cell_type": "code",
   "execution_count": null,
   "metadata": {
    "colab": {
     "base_uri": "https://localhost:8080/"
    },
    "id": "fn2fHWjvFPr8",
    "outputId": "0e48d4ed-975f-4c5f-ff28-957faf838818"
   },
   "outputs": [],
   "source": [
    "dataset.upload_dataset(client)  # Includes pre-vectorized data"
   ]
  },
  {
   "attachments": {},
   "cell_type": "markdown",
   "metadata": {
    "id": "crgAig3fTDac"
   },
   "source": [
    "### Try queries"
   ]
  },
  {
   "cell_type": "code",
   "execution_count": null,
   "metadata": {
    "id": "V3_Euw53FbrZ"
   },
   "outputs": [],
   "source": [
    "res = client.query.get(\n",
    "    class_name, \n",
    "    [\"title\", \"country\", \"review_body\", \"points\"]\n",
    ").with_limit(2).do()"
   ]
  },
  {
   "cell_type": "code",
   "execution_count": null,
   "metadata": {
    "colab": {
     "base_uri": "https://localhost:8080/"
    },
    "id": "zcgYnH8mF6w3",
    "outputId": "9cae982f-0e13-4dae-955d-b51bd822a263"
   },
   "outputs": [],
   "source": [
    "jprint(res)"
   ]
  },
  {
   "cell_type": "code",
   "execution_count": null,
   "metadata": {
    "id": "9CKSojw_F7bY"
   },
   "outputs": [],
   "source": [
    "res = client.query.get(\n",
    "    class_name, [\"title\", \"country\", \"review_body\", \"points\"]\n",
    ").with_near_text(\n",
    "    {\"concepts\": [\"a fruity white wine\"]}\n",
    ").with_limit(5).do()"
   ]
  },
  {
   "cell_type": "code",
   "execution_count": null,
   "metadata": {
    "colab": {
     "base_uri": "https://localhost:8080/"
    },
    "id": "l5lHsflpGfcF",
    "outputId": "8c39c942-a4c4-44a9-f7d3-e74c962d77a4"
   },
   "outputs": [],
   "source": [
    "for r in res[\"data\"][\"Get\"][class_name]:\n",
    "  print(r)"
   ]
  },
  {
   "cell_type": "code",
   "execution_count": null,
   "metadata": {
    "id": "mYRkXXwhGt8N"
   },
   "outputs": [],
   "source": [
    "res = client.query.get(\n",
    "    class_name, [\"title\", \"country\", \"review_body\", \"points\"]\n",
    ").with_near_text(\n",
    "    {\"concepts\": [\"earthy European wine\"],\n",
    "     \"moveAwayFrom\": {\"concepts\": [\"white wine\"], \"force\": 2.0}\n",
    "     }\n",
    ").with_limit(5).do()"
   ]
  },
  {
   "cell_type": "code",
   "execution_count": null,
   "metadata": {
    "colab": {
     "base_uri": "https://localhost:8080/"
    },
    "id": "p0flmLzHKN8m",
    "outputId": "10937f54-d975-4c6a-cc16-3a2f82641fcf"
   },
   "outputs": [],
   "source": [
    "for r in res[\"data\"][\"Get\"][class_name]:\n",
    "  jprint(r)"
   ]
  },
  {
   "cell_type": "code",
   "execution_count": null,
   "metadata": {
    "id": "MWb1PsqtHzUx"
   },
   "outputs": [],
   "source": [
    "res = client.query.get(\n",
    "    class_name, [\"title\", \"country\", \"review_body\", \"points\"]\n",
    ").with_near_text(\n",
    "    {\"concepts\": [\"earthy European wine\"],\n",
    "     \"moveAwayFrom\": {\"concepts\": [\"white wine\"], \"force\": 2.0}\n",
    "     }\n",
    ").with_where(\n",
    "    {\"path\": [\"price\"], \n",
    "     \"operator\": \"GreaterThan\",\n",
    "     \"valueNumber\": 10}\n",
    ").with_limit(5).do()"
   ]
  },
  {
   "cell_type": "code",
   "execution_count": null,
   "metadata": {
    "colab": {
     "base_uri": "https://localhost:8080/"
    },
    "id": "k5n5gxxtKxvj",
    "outputId": "6d9722af-f039-48fd-fc7a-880724e98fb3"
   },
   "outputs": [],
   "source": [
    "jprint(res)"
   ]
  },
  {
   "cell_type": "code",
   "execution_count": null,
   "metadata": {
    "id": "w332R82sIRe-"
   },
   "outputs": [],
   "source": [
    "res = client.query.get(\n",
    "    class_name, [\"title\", \"country\", \"review_body\", \"points\"]\n",
    ").with_near_text(\n",
    "    {\"concepts\": [\"earthy European wine\"],\n",
    "     \"moveAwayFrom\": {\"concepts\": [\"white wine\"], \"force\": 2.0}\n",
    "     }\n",
    ").with_where(\n",
    "    {\"path\": [\"price\"], \n",
    "     \"operator\": \"GreaterThan\",\n",
    "     \"valueNumber\": 10}\n",
    ").with_generate(\n",
    "    grouped_task=\"Are there any commonalities between these\",\n",
    ").with_limit(3).do()"
   ]
  },
  {
   "cell_type": "code",
   "execution_count": null,
   "metadata": {
    "colab": {
     "base_uri": "https://localhost:8080/"
    },
    "id": "iTjYk9tUhCNi",
    "outputId": "b4287a3e-6d8f-4c4e-aea3-1fa8ef25d344"
   },
   "outputs": [],
   "source": [
    "jprint(res)"
   ]
  },
  {
   "cell_type": "code",
   "execution_count": null,
   "metadata": {
    "colab": {
     "base_uri": "https://localhost:8080/"
    },
    "id": "VWAkA4d4QYJH",
    "outputId": "8f815805-a550-4d86-8910-ac82a58f7342"
   },
   "outputs": [],
   "source": [
    "print(res[\"data\"][\"Get\"][class_name][0][\"_additional\"][\"generate\"][\"groupedResult\"])"
   ]
  },
  {
   "cell_type": "code",
   "execution_count": null,
   "metadata": {
    "colab": {
     "base_uri": "https://localhost:8080/"
    },
    "id": "5auu359ZQYxd",
    "outputId": "f217f1f9-899d-428b-9de4-f501c10a0454"
   },
   "outputs": [],
   "source": [
    "for r in res[\"data\"][\"Get\"][class_name]:\n",
    "    jprint(r)"
   ]
  },
  {
   "cell_type": "code",
   "execution_count": null,
   "metadata": {
    "id": "7-kf4dflRJDL"
   },
   "outputs": [],
   "source": [
    "client.schema.delete_class(\"WineReview\")"
   ]
  },
  {
   "cell_type": "code",
   "execution_count": null,
   "metadata": {},
   "outputs": [],
   "source": []
  }
 ],
 "metadata": {
  "colab": {
   "provenance": []
  },
  "kernelspec": {
   "display_name": "Python 3 (ipykernel)",
   "language": "python",
   "name": "python3"
  },
  "language_info": {
   "codemirror_mode": {
    "name": "ipython",
    "version": 3
   },
   "file_extension": ".py",
   "mimetype": "text/x-python",
   "name": "python",
   "nbconvert_exporter": "python",
   "pygments_lexer": "ipython3",
   "version": "3.10.8"
  },
  "varInspector": {
   "cols": {
    "lenName": 16,
    "lenType": 16,
    "lenVar": 40
   },
   "kernels_config": {
    "python": {
     "delete_cmd_postfix": "",
     "delete_cmd_prefix": "del ",
     "library": "var_list.py",
     "varRefreshCmd": "print(var_dic_list())"
    },
    "r": {
     "delete_cmd_postfix": ") ",
     "delete_cmd_prefix": "rm(",
     "library": "var_list.r",
     "varRefreshCmd": "cat(var_dic_list()) "
    }
   },
   "types_to_exclude": [
    "module",
    "function",
    "builtin_function_or_method",
    "instance",
    "_Feature"
   ],
   "window_display": false
  }
 },
 "nbformat": 4,
 "nbformat_minor": 1
}
