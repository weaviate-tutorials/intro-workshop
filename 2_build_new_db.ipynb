{
 "cells": [
  {
   "attachments": {},
   "cell_type": "markdown",
   "metadata": {
    "id": "FXPHl4eORxEZ"
   },
   "source": [
    "## Populate Weaviate instance"
   ]
  },
  {
   "attachments": {},
   "cell_type": "markdown",
   "metadata": {},
   "source": [
    "<a target=\"_blank\" href=\"https://colab.research.google.com/github/weaviate-tutorials/intro-workshop/blob/main/2_build_new_db.ipynb\">\n",
    "  <img src=\"https://colab.research.google.com/assets/colab-badge.svg\" alt=\"Open In Colab\"/>\n",
    "</a>"
   ]
  },
  {
   "attachments": {},
   "cell_type": "markdown",
   "metadata": {},
   "source": [
    "Install libraries as needed (uncomment for Colab)"
   ]
  },
  {
   "cell_type": "code",
   "execution_count": null,
   "metadata": {
    "id": "HsHW7I2sDMg3"
   },
   "outputs": [],
   "source": [
    "# !pip install -Uqq weaviate-client weaviate-demo-datasets"
   ]
  },
  {
   "cell_type": "markdown",
   "metadata": {
    "id": "b6POGJTUR4U4"
   },
   "source": [
    "Instantiate Weaviate client"
   ]
  },
  {
   "cell_type": "code",
   "execution_count": null,
   "metadata": {
    "id": "rWzQ7DLBDPul"
   },
   "outputs": [],
   "source": [
    "import weaviate\n",
    "import os\n",
    "\n",
    "auth = weaviate.AuthApiKey(\"<WEAVIATE-API-KEY>\")  # The Weaviate API key for your particular instance\n",
    "client = weaviate.Client(\n",
    "    url=\"<WEAVIATE-URL>\",  # Your Weaviate instance URL\n",
    "    auth_client_secret=auth,\n",
    "    additional_headers={\n",
    "        \"X-OpenAI-Api-Key\": os.environ[\"OPENAI_API_KEY\"]  ## Your OpenAI key\n",
    "    }\n",
    ")"
   ]
  },
  {
   "attachments": {},
   "cell_type": "markdown",
   "metadata": {
    "id": "XpLuRc5ER_4p"
   },
   "source": [
    "Let's confirm access by fetching the schema."
   ]
  },
  {
   "cell_type": "code",
   "execution_count": null,
   "metadata": {
    "colab": {
     "base_uri": "https://localhost:8080/"
    },
    "id": "RNNYVAEGFA8a",
    "outputId": "d045c0a8-cafa-42cb-f8d9-d72a438e5020"
   },
   "outputs": [],
   "source": [
    "client.schema.get()"
   ]
  },
  {
   "cell_type": "markdown",
   "metadata": {
    "id": "E2ALtGcRSD5q"
   },
   "source": [
    "## Populate Weaviate\n",
    "\n",
    "Let's add some data to Weaviate. The process for importing data into Weaviate is as follows:\n",
    "\n",
    "```\n",
    "     Create class definition\n",
    "                ⬇\n",
    "Add class definition to the schema\n",
    "                ⬇\n",
    "            Load data\n",
    "                ⬇\n",
    "        (Batch) import data\n",
    "```\n",
    "\n",
    "Here we'll use the unofficial library `weaviate-demo-datasets` for illustrative purposes."
   ]
  },
  {
   "cell_type": "code",
   "execution_count": null,
   "metadata": {
    "id": "dX-rPbcGEOir"
   },
   "outputs": [],
   "source": [
    "import weaviate_datasets as wd\n",
    "import json"
   ]
  },
  {
   "cell_type": "code",
   "execution_count": null,
   "metadata": {
    "id": "5KyT_JDkEQ1g"
   },
   "outputs": [],
   "source": [
    "dataset = wd.WikiCities()"
   ]
  },
  {
   "cell_type": "markdown",
   "metadata": {
    "id": "Ci1TaQtvSgwf"
   },
   "source": [
    "### Create class definition"
   ]
  },
  {
   "cell_type": "code",
   "execution_count": null,
   "metadata": {
    "id": "4uV0WhjnEV0u"
   },
   "outputs": [],
   "source": [
    "class_objs = dataset.get_class_definitions()"
   ]
  },
  {
   "cell_type": "code",
   "execution_count": null,
   "metadata": {},
   "outputs": [],
   "source": [
    "class_objs"
   ]
  },
  {
   "cell_type": "markdown",
   "metadata": {},
   "source": [
    "### Add class definition to the schema"
   ]
  },
  {
   "cell_type": "code",
   "execution_count": null,
   "metadata": {
    "id": "ss7trhTRQrfE"
   },
   "outputs": [],
   "source": [
    "for class_obj in class_objs:\n",
    "  client.schema.create_class(class_obj)"
   ]
  },
  {
   "cell_type": "code",
   "execution_count": null,
   "metadata": {
    "colab": {
     "base_uri": "https://localhost:8080/"
    },
    "id": "uyavZgPBS-sz",
    "outputId": "ce232804-05a0-4e96-fa42-ac787a10d08e",
    "tags": []
   },
   "outputs": [],
   "source": [
    "client.schema.get()"
   ]
  },
  {
   "cell_type": "markdown",
   "metadata": {
    "id": "5vY4H4NhSb3B"
   },
   "source": [
    "### Load data"
   ]
  },
  {
   "attachments": {},
   "cell_type": "markdown",
   "metadata": {},
   "source": [
    "Load sample data from `weaviate_datasets`"
   ]
  },
  {
   "cell_type": "code",
   "execution_count": null,
   "metadata": {},
   "outputs": [],
   "source": [
    "dataset.data_fpath"
   ]
  },
  {
   "cell_type": "code",
   "execution_count": null,
   "metadata": {
    "id": "fW7iuP29NrTo"
   },
   "outputs": [],
   "source": [
    "import pandas as pd\n",
    "df = pd.read_csv(dataset.data_fpath)\n",
    "df.head()"
   ]
  },
  {
   "cell_type": "markdown",
   "metadata": {
    "id": "UmU_mrRhSk63"
   },
   "source": [
    "### Batch import"
   ]
  },
  {
   "attachments": {},
   "cell_type": "markdown",
   "metadata": {},
   "source": [
    "Note: you should almost always use bach imports for speed."
   ]
  },
  {
   "cell_type": "code",
   "execution_count": null,
   "metadata": {
    "id": "L5u2YvFROnQb"
   },
   "outputs": [],
   "source": [
    "from weaviate.util import generate_uuid5\n",
    "\n",
    "with client.batch() as batch:\n",
    "  batch.batch_size=200\n",
    "  for i, row in df.iterrows():\n",
    "    if i == 5:\n",
    "      break        \n",
    "    data_obj = {\n",
    "        \"city_name\": row[\"city\"],\n",
    "        \"country\": row[\"country\"],\n",
    "        \"population\": int(row[\"population\"]),\n",
    "        \"wiki_summary\": row[\"wiki_summary\"]\n",
    "    }\n",
    "    batch.add_data_object(\n",
    "        data_object=data_obj, \n",
    "        class_name=\"WikiCity\",\n",
    "        vector=None,  # You can specify your own vector here\n",
    "        uuid=generate_uuid5(data_obj),\n",
    "        )"
   ]
  },
  {
   "attachments": {},
   "cell_type": "markdown",
   "metadata": {},
   "source": [
    "Confirm import by getting an object count."
   ]
  },
  {
   "cell_type": "code",
   "execution_count": null,
   "metadata": {
    "colab": {
     "base_uri": "https://localhost:8080/"
    },
    "id": "hjUf_cgQPTvg",
    "outputId": "8c5a7bc3-33a5-4b1f-8016-8cd029fcea6b"
   },
   "outputs": [],
   "source": [
    "client.query.aggregate(\"WikiCity\").with_meta_count().do()"
   ]
  },
  {
   "attachments": {},
   "cell_type": "markdown",
   "metadata": {},
   "source": [
    "Check that we have generated vectors."
   ]
  },
  {
   "cell_type": "code",
   "execution_count": null,
   "metadata": {
    "id": "VXCqbl-sSuKa"
   },
   "outputs": [],
   "source": [
    "res = client.query.get(\n",
    "    \"WikiCity\", \n",
    "    [\"city_name\", \"country\"]\n",
    ").with_additional(\"vector\").with_limit(2).do()"
   ]
  },
  {
   "cell_type": "code",
   "execution_count": null,
   "metadata": {
    "scrolled": true
   },
   "outputs": [],
   "source": [
    "res"
   ]
  },
  {
   "cell_type": "markdown",
   "metadata": {
    "id": "vhf25NLmSn8f"
   },
   "source": [
    "### (But...) Here's one I prepared earlier"
   ]
  },
  {
   "attachments": {},
   "cell_type": "markdown",
   "metadata": {},
   "source": [
    "Let's import the whole dataset with a predefined function."
   ]
  },
  {
   "cell_type": "code",
   "execution_count": null,
   "metadata": {
    "id": "-Va7mb7jOfIf"
   },
   "outputs": [],
   "source": [
    "client.schema.delete_class(\"WikiCity\")"
   ]
  },
  {
   "cell_type": "code",
   "execution_count": null,
   "metadata": {
    "colab": {
     "base_uri": "https://localhost:8080/"
    },
    "id": "fn2fHWjvFPr8",
    "outputId": "6000879c-e341-484e-c55a-2aa498a2971e"
   },
   "outputs": [],
   "source": [
    "quiz_dataset.upload_dataset(client)  # Includes pre-vectorized data"
   ]
  },
  {
   "cell_type": "markdown",
   "metadata": {
    "id": "crgAig3fTDac"
   },
   "source": [
    "### Try queries"
   ]
  },
  {
   "cell_type": "code",
   "execution_count": null,
   "metadata": {
    "id": "V3_Euw53FbrZ"
   },
   "outputs": [],
   "source": [
    "res = client.query.get(\n",
    "    \"WikiCity\", \n",
    "    [\"city_name\", \"country\", \"population\"]\n",
    ").with_limit(2).do()"
   ]
  },
  {
   "cell_type": "code",
   "execution_count": null,
   "metadata": {
    "colab": {
     "base_uri": "https://localhost:8080/"
    },
    "id": "zcgYnH8mF6w3",
    "outputId": "f1e5fca6-5644-40cf-a129-d308053f7187"
   },
   "outputs": [],
   "source": [
    "import json\n",
    "print(json.dumps(res, indent=2))"
   ]
  },
  {
   "cell_type": "code",
   "execution_count": null,
   "metadata": {
    "id": "9CKSojw_F7bY"
   },
   "outputs": [],
   "source": [
    "res = client.query.get(\n",
    "    \"WikiCity\", [\"city_name\", \"country\", \"population\"]\n",
    ").with_near_text(\n",
    "    {\"concepts\": [\"large international city\"]}\n",
    ").with_limit(5).do()"
   ]
  },
  {
   "cell_type": "code",
   "execution_count": null,
   "metadata": {
    "colab": {
     "base_uri": "https://localhost:8080/"
    },
    "id": "l5lHsflpGfcF",
    "outputId": "e6abcca3-9e7f-4a7f-ceed-8bbfd4f422c3"
   },
   "outputs": [],
   "source": [
    "for r in res[\"data\"][\"Get\"][\"WikiCity\"]:\n",
    "  print(r)"
   ]
  },
  {
   "cell_type": "code",
   "execution_count": null,
   "metadata": {
    "id": "mYRkXXwhGt8N"
   },
   "outputs": [],
   "source": [
    "res = client.query.get(\n",
    "    \"WikiCity\", [\"city_name\", \"country\", \"population\"]\n",
    ").with_near_text(\n",
    "    {\"concepts\": [\"large international city\"],\n",
    "     \"moveAwayFrom\": {\"concepts\": [\"Eastern asia\"], \"force\": 2.0}\n",
    "     }\n",
    ").with_limit(5).do()"
   ]
  },
  {
   "cell_type": "code",
   "execution_count": null,
   "metadata": {
    "colab": {
     "base_uri": "https://localhost:8080/"
    },
    "id": "p0flmLzHKN8m",
    "outputId": "218ad71c-a9ef-40cd-a36e-02f8a529c747"
   },
   "outputs": [],
   "source": [
    "for r in res[\"data\"][\"Get\"][\"WikiCity\"]:\n",
    "  print(r)"
   ]
  },
  {
   "cell_type": "code",
   "execution_count": null,
   "metadata": {
    "id": "MWb1PsqtHzUx"
   },
   "outputs": [],
   "source": [
    "res = client.query.get(\n",
    "    \"WikiCity\", [\"city_name\", \"country\", \"population\"]\n",
    ").with_near_text(\n",
    "    {\"concepts\": [\"large international city\"],\n",
    "     \"moveAwayFrom\": {\"concepts\": [\"Eastern asia\"], \"force\": 2.0}\n",
    "     }\n",
    ").with_where(\n",
    "    {\"path\": [\"population\"], \n",
    "     \"operator\": \"GreaterThan\",\n",
    "     \"valueInt\": 20000000}\n",
    ").with_limit(5).do()"
   ]
  },
  {
   "cell_type": "code",
   "execution_count": null,
   "metadata": {
    "colab": {
     "base_uri": "https://localhost:8080/"
    },
    "id": "k5n5gxxtKxvj",
    "outputId": "e68e379a-fd7b-4ca5-cd44-d8575fd17945"
   },
   "outputs": [],
   "source": [
    "res"
   ]
  },
  {
   "cell_type": "code",
   "execution_count": null,
   "metadata": {
    "id": "w332R82sIRe-"
   },
   "outputs": [],
   "source": [
    "res = client.query.get(\n",
    "    \"WikiCity\", [\"city_name\", \"country\", \"population\", \"wiki_summary\"]\n",
    ").with_near_text(\n",
    "    {\"concepts\": [\"large international city\"],\n",
    "     \"moveAwayFrom\": {\"concepts\": [\"Eastern asia\"], \"force\": 2.0}\n",
    "     }\n",
    ").with_where(\n",
    "    {\"path\": [\"population\"], \n",
    "     \"operator\": \"GreaterThan\",\n",
    "     \"valueInt\": 20000000}\n",
    ").with_generate(\n",
    "    grouped_task=\"Tell me why I should visit these cities, based on this passage:.\"\n",
    ").with_limit(3).do()"
   ]
  },
  {
   "cell_type": "code",
   "execution_count": null,
   "metadata": {
    "colab": {
     "base_uri": "https://localhost:8080/"
    },
    "id": "VWAkA4d4QYJH",
    "outputId": "62d891e1-ec7a-4d75-9231-2aa075ea44b3"
   },
   "outputs": [],
   "source": [
    "print(res[\"data\"][\"Get\"][\"WikiCity\"][0][\"_additional\"][\"generate\"][\"groupedResult\"])"
   ]
  },
  {
   "cell_type": "code",
   "execution_count": null,
   "metadata": {
    "colab": {
     "base_uri": "https://localhost:8080/"
    },
    "id": "5auu359ZQYxd",
    "outputId": "642c0b9f-a0c2-42e1-9b77-a67595ea8159"
   },
   "outputs": [],
   "source": [
    "for r in res[\"data\"][\"Get\"][\"WikiCity\"]:\n",
    "  print(r)"
   ]
  },
  {
   "cell_type": "code",
   "execution_count": null,
   "metadata": {
    "id": "7-kf4dflRJDL"
   },
   "outputs": [],
   "source": []
  }
 ],
 "metadata": {
  "colab": {
   "provenance": []
  },
  "kernelspec": {
   "display_name": "Python 3 (ipykernel)",
   "language": "python",
   "name": "python3"
  },
  "language_info": {
   "codemirror_mode": {
    "name": "ipython",
    "version": 3
   },
   "file_extension": ".py",
   "mimetype": "text/x-python",
   "name": "python",
   "nbconvert_exporter": "python",
   "pygments_lexer": "ipython3",
   "version": "3.10.8"
  },
  "varInspector": {
   "cols": {
    "lenName": 16,
    "lenType": 16,
    "lenVar": 40
   },
   "kernels_config": {
    "python": {
     "delete_cmd_postfix": "",
     "delete_cmd_prefix": "del ",
     "library": "var_list.py",
     "varRefreshCmd": "print(var_dic_list())"
    },
    "r": {
     "delete_cmd_postfix": ") ",
     "delete_cmd_prefix": "rm(",
     "library": "var_list.r",
     "varRefreshCmd": "cat(var_dic_list()) "
    }
   },
   "types_to_exclude": [
    "module",
    "function",
    "builtin_function_or_method",
    "instance",
    "_Feature"
   ],
   "window_display": false
  }
 },
 "nbformat": 4,
 "nbformat_minor": 4
}
