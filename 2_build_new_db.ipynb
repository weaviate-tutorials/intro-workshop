{
  "cells": [
    {
      "attachments": {},
      "cell_type": "markdown",
      "metadata": {
        "id": "FXPHl4eORxEZ"
      },
      "source": [
        "## Populate Weaviate instance"
      ]
    },
    {
      "attachments": {},
      "cell_type": "markdown",
      "metadata": {
        "id": "FebtVxiMcHff"
      },
      "source": [
        "<a target=\"_blank\" href=\"https://colab.research.google.com/github/weaviate-tutorials/intro-workshop/blob/main/2_build_new_db.ipynb\">\n",
        "  <img src=\"https://colab.research.google.com/assets/colab-badge.svg\" alt=\"Open In Colab\"/>\n",
        "</a>"
      ]
    },
    {
      "attachments": {},
      "cell_type": "markdown",
      "metadata": {},
      "source": [
        "### Add env vars (Colab only)"
      ]
    },
    {
      "cell_type": "code",
      "execution_count": null,
      "metadata": {},
      "outputs": [],
      "source": [
        "# import os\n",
        "\n",
        "# os.environ[\"COHERE_APIKEY\"] = \"YOUR_COHERE_KEY\"\n",
        "# os.environ[\"OPENAI_APIKEY\"] = \"YOUR_OPENI_KEY\""
      ]
    },
    {
      "attachments": {},
      "cell_type": "markdown",
      "metadata": {},
      "source": [
        "## Prep"
      ]
    },
    {
      "attachments": {},
      "cell_type": "markdown",
      "metadata": {
        "id": "HUefgP9VcHff"
      },
      "source": [
        "Install libraries as needed (uncomment for Colab)"
      ]
    },
    {
      "cell_type": "code",
      "execution_count": null,
      "metadata": {
        "id": "HsHW7I2sDMg3"
      },
      "outputs": [],
      "source": [
        "# !pip install -Uqq weaviate-client weaviate-demo-datasets"
      ]
    },
    {
      "cell_type": "code",
      "execution_count": null,
      "metadata": {
        "id": "1jbyfQy1-OUP"
      },
      "outputs": [],
      "source": [
        "def jprint(str_in: str):\n",
        "    import json\n",
        "    print(json.dumps(str_in, indent=2))"
      ]
    },
    {
      "attachments": {},
      "cell_type": "markdown",
      "metadata": {},
      "source": [
        "# Fun with Weaviate 😁🚀"
      ]
    },
    {
      "attachments": {},
      "cell_type": "markdown",
      "metadata": {
        "id": "b6POGJTUR4U4"
      },
      "source": [
        "Instantiate Weaviate client"
      ]
    },
    {
      "cell_type": "code",
      "execution_count": null,
      "metadata": {
        "colab": {
          "base_uri": "https://localhost:8080/"
        },
        "id": "rWzQ7DLBDPul",
        "outputId": "ef75b309-180f-4fe4-c2ef-c41d300e4eb2"
      },
      "outputs": [],
      "source": [
        "import weaviate\n",
        "from weaviate.embedded import EmbeddedOptions\n",
        "import os\n",
        "\n",
        "api_headers = {\n",
        "    # You *ONLY* need the API key for the inference service that you are using\n",
        "    # You will define further below (at Weaviate class-level) which API inference service to use for your data    \n",
        "    \"X-OpenAI-Api-Key\": os.environ[\"OPENAI_APIKEY\"],  # Only Replace with your OpenAI key\n",
        "    \"X-Cohere-Api-Key\": os.environ[\"COHERE_APIKEY\"]  # Replace with your Cohere key\n",
        "}\n",
        "\n",
        "# # Option 1 - If using Colab:\n",
        "# client = weaviate.Client(\n",
        "#     embedded_options=EmbeddedOptions(version=\"latest\"),\n",
        "#     additional_headers=api_headers\n",
        "# )\n",
        "\n",
        "# Option 2 - If using WCS sandbox:\n",
        "client = weaviate.Client(\n",
        "    \"https://workshop-demo-0xwl314q.weaviate.network\",  # Replace this with your sandbox URL\n",
        "    auth_client_secret=weaviate.AuthApiKey(\"KQBu0wOvoWd70rXJIf1hs1oFkSmnxiupA7rm\"),  # Replace this with your API Key\n",
        "    additional_headers=api_headers\n",
        ")\n",
        "\n",
        "# # Option 3 - If using Docker-Compose:\n",
        "# client = weaviate.Client(\n",
        "#     \"http://localhost:8080\",\n",
        "#     additional_headers=api_headers\n",
        "# )"
      ]
    },
    {
      "attachments": {},
      "cell_type": "markdown",
      "metadata": {
        "id": "XpLuRc5ER_4p"
      },
      "source": [
        "Let's confirm that we are ready to go."
      ]
    },
    {
      "cell_type": "code",
      "execution_count": null,
      "metadata": {
        "colab": {
          "base_uri": "https://localhost:8080/"
        },
        "id": "RNNYVAEGFA8a",
        "outputId": "4e5480af-4843-40dd-fd68-7827cb1814f0"
      },
      "outputs": [],
      "source": [
        "client.is_ready()"
      ]
    },
    {
      "attachments": {},
      "cell_type": "markdown",
      "metadata": {
        "id": "TLJyobcR-OUQ"
      },
      "source": [
        "## What's available on my instance?"
      ]
    },
    {
      "cell_type": "code",
      "execution_count": null,
      "metadata": {
        "colab": {
          "base_uri": "https://localhost:8080/"
        },
        "id": "UNsbzRNsjFB3",
        "outputId": "1477b2f3-8026-4dc6-a44f-6f7f20cfe388"
      },
      "outputs": [],
      "source": [
        "jprint(client.get_meta())"
      ]
    },
    {
      "attachments": {},
      "cell_type": "markdown",
      "metadata": {
        "id": "daneAhGE-OUQ"
      },
      "source": [
        "### Version\n",
        "\n",
        "Note the Weaviate version"
      ]
    },
    {
      "attachments": {},
      "cell_type": "markdown",
      "metadata": {
        "id": "HibhRPkW-OUQ"
      },
      "source": [
        "## Modules\n",
        "\n",
        "What are these `modules`?\n",
        "\n",
        "Modules allow you to configure Weaviate (so that you can work with your data in a way that suits you). Most commonly used modules are:\n",
        "- Vectorizers (e.g. `text2vec-cohere`, `text2vec-huggingface`, `text2vec-openai`, `text2vec-palm`, etc.)\n",
        "- Generative modules (e.g. `generative-xxx`)\n",
        "\n",
        "### Bring your own vector\n",
        "\n",
        "![img](https://github.com/weaviate-tutorials/intro-workshop/blob/main/images/object_import_process_simple.png?raw=1)\n",
        "\n",
        "In this use case, you simply import your data and the associated vector. Weaviate simply indexes your data for you, so that you can search through it quickly, and effectively.\n",
        "\n",
        "### Use a vectorizer module\n",
        "\n",
        "![img](https://github.com/weaviate-tutorials/intro-workshop/blob/main/images/object_import_process_full.png?raw=1)\n",
        "\n",
        "In this use case, you task Weaviate with the additional work of converting your data into vectors. The `vectorizer` module performs this job - whether it be through a local model, or using an external vectorizer API service."
      ]
    },
    {
      "attachments": {},
      "cell_type": "markdown",
      "metadata": {
        "id": "E2ALtGcRSD5q"
      },
      "source": [
        "## Populate Weaviate\n",
        "\n",
        "The process for importing data into Weaviate is:\n",
        "\n",
        "```\n",
        "Add class definition to the schema\n",
        "                ⬇\n",
        "            Load data\n",
        "                ⬇\n",
        "        (Batch) import data\n",
        "```\n",
        "\n",
        "Here we'll use the unofficial library `weaviate-demo-datasets` for illustrative purposes."
      ]
    },
    {
      "cell_type": "code",
      "execution_count": null,
      "metadata": {
        "id": "dX-rPbcGEOir"
      },
      "outputs": [],
      "source": [
        "import weaviate_datasets as wd\n",
        "dataset = wd.WineReviews()"
      ]
    },
    {
      "attachments": {},
      "cell_type": "markdown",
      "metadata": {
        "id": "Ci1TaQtvSgwf"
      },
      "source": [
        "### Create class definition"
      ]
    },
    {
      "cell_type": "code",
      "execution_count": null,
      "metadata": {
        "id": "4uV0WhjnEV0u"
      },
      "outputs": [],
      "source": [
        "class_objs = dataset.get_class_definitions()\n",
        "class_objs[0].keys()"
      ]
    },
    {
      "attachments": {},
      "cell_type": "markdown",
      "metadata": {
        "id": "_3nYyqB5B1W9"
      },
      "source": [
        "### Required information\n",
        "\n",
        "Notice above that we have `class`, `vectorizer`, `moduleConfig`, `properties` data:\n",
        "\n",
        "- `class`: The class name (like a SQL table name)\n",
        "- `vectorizer`: Module to be used to generate vectors\n",
        "- `moduleConfig`: Configure various modules to be used with the class\n",
        "- `properties`: Define object properties (like a SQL column)"
      ]
    },
    {
      "cell_type": "code",
      "execution_count": null,
      "metadata": {
        "colab": {
          "base_uri": "https://localhost:8080/"
        },
        "id": "Y89VnQjIcHfh",
        "outputId": "87488092-ee80-4aa5-cbe2-37e4480aec25"
      },
      "outputs": [],
      "source": [
        "jprint(class_objs)"
      ]
    },
    {
      "cell_type": "code",
      "execution_count": null,
      "metadata": {
        "colab": {
          "base_uri": "https://localhost:8080/"
        },
        "id": "Axvi-y_c_ixO",
        "outputId": "4b6a62de-fca5-4abf-8410-39ae36fc5bb7"
      },
      "outputs": [],
      "source": [
        "# If you want to change the vectorizer:\n",
        "\n",
        "class_objs[0][\"vectorizer\"] = \"text2vec-cohere\"\n",
        "class_objs"
      ]
    },
    {
      "attachments": {},
      "cell_type": "markdown",
      "metadata": {
        "id": "TtEy6a86cHfh"
      },
      "source": [
        "### Add class definition to the schema"
      ]
    },
    {
      "cell_type": "code",
      "execution_count": null,
      "metadata": {
        "colab": {
          "base_uri": "https://localhost:8080/"
        },
        "id": "ss7trhTRQrfE",
        "outputId": "4fd2625a-64fb-420d-a1e1-b8292a1bea3d"
      },
      "outputs": [],
      "source": [
        "for class_obj in class_objs:\n",
        "    if not client.schema.contains(class_obj):\n",
        "        print(f\"Adding {class_obj['class']}\")\n",
        "        client.schema.create_class(class_obj)"
      ]
    },
    {
      "cell_type": "code",
      "execution_count": null,
      "metadata": {
        "colab": {
          "base_uri": "https://localhost:8080/"
        },
        "id": "uyavZgPBS-sz",
        "outputId": "4ba4e824-8496-420d-bb11-5958797a2a94",
        "scrolled": true,
        "tags": []
      },
      "outputs": [],
      "source": [
        "client.schema.get()"
      ]
    },
    {
      "cell_type": "code",
      "execution_count": null,
      "metadata": {
        "id": "zzUZuxJhebHz"
      },
      "outputs": [],
      "source": [
        "class_name = class_obj['class']"
      ]
    },
    {
      "attachments": {},
      "cell_type": "markdown",
      "metadata": {
        "id": "5vY4H4NhSb3B"
      },
      "source": [
        "### Load data"
      ]
    },
    {
      "attachments": {},
      "cell_type": "markdown",
      "metadata": {
        "id": "l1NR9K9McHfh"
      },
      "source": [
        "Load sample data from `weaviate_datasets`"
      ]
    },
    {
      "cell_type": "code",
      "execution_count": null,
      "metadata": {
        "colab": {
          "base_uri": "https://localhost:8080/"
        },
        "id": "lGwohqlIcHfh",
        "outputId": "77dd4281-7c89-4cb5-dcb5-701ed6ea77c2",
        "scrolled": true
      },
      "outputs": [],
      "source": [
        "dataset.get_sample()"
      ]
    },
    {
      "cell_type": "code",
      "execution_count": null,
      "metadata": {
        "id": "2ADTC6wucxBd"
      },
      "outputs": [],
      "source": [
        "# loader = dataset._class_dataloader(class_name)\n",
        "# next(loader)[0]"
      ]
    },
    {
      "attachments": {},
      "cell_type": "markdown",
      "metadata": {
        "id": "UmU_mrRhSk63"
      },
      "source": [
        "### Batch import"
      ]
    },
    {
      "attachments": {},
      "cell_type": "markdown",
      "metadata": {
        "id": "kaJzxD8McHfh"
      },
      "source": [
        "Note: you should almost always use bach imports for speed."
      ]
    },
    {
      "cell_type": "code",
      "execution_count": null,
      "metadata": {
        "id": "L5u2YvFROnQb"
      },
      "outputs": [],
      "source": [
        "from weaviate.util import generate_uuid5\n",
        "\n",
        "loader = dataset._class_dataloader(class_name)\n",
        "with client.batch() as batch:\n",
        "    for data_objs in loader:\n",
        "        data_obj = data_objs[0]\n",
        "        batch.add_data_object(\n",
        "            data_object=data_obj,\n",
        "            class_name=class_name,\n",
        "            # vector=[1,2, 3],  # You can specify your own vector here\n",
        "            uuid=generate_uuid5(data_obj),  # This will generate a deterministic UUID based on the data object's content \n",
        "        )"
      ]
    },
    {
      "attachments": {},
      "cell_type": "markdown",
      "metadata": {
        "id": "9xjSyS04cHfi"
      },
      "source": [
        "Confirm import by getting an object count."
      ]
    },
    {
      "cell_type": "code",
      "execution_count": null,
      "metadata": {
        "colab": {
          "base_uri": "https://localhost:8080/"
        },
        "id": "hjUf_cgQPTvg",
        "outputId": "eb343b15-efab-4e39-9b0f-9789539f1973"
      },
      "outputs": [],
      "source": [
        "client.query.aggregate(class_name).with_meta_count().do()"
      ]
    },
    {
      "attachments": {},
      "cell_type": "markdown",
      "metadata": {
        "id": "2NKqobgjcHfi"
      },
      "source": [
        "Check that we have generated vectors."
      ]
    },
    {
      "cell_type": "code",
      "execution_count": null,
      "metadata": {
        "id": "VXCqbl-sSuKa"
      },
      "outputs": [],
      "source": [
        "res = client.query.get(\n",
        "    class_name,\n",
        "    [\"title\", \"country\", \"review_body\", \"points\"]\n",
        ").with_additional(\"vector\").with_limit(2).do()"
      ]
    },
    {
      "cell_type": "code",
      "execution_count": null,
      "metadata": {
        "colab": {
          "base_uri": "https://localhost:8080/"
        },
        "id": "aemtz9azcHfi",
        "outputId": "5d396726-d54f-468b-e485-c353d735cf46",
        "scrolled": true
      },
      "outputs": [],
      "source": [
        "jprint(res)"
      ]
    },
    {
      "attachments": {},
      "cell_type": "markdown",
      "metadata": {
        "id": "crgAig3fTDac"
      },
      "source": [
        "## Try queries"
      ]
    },
    {
      "attachments": {},
      "cell_type": "markdown",
      "metadata": {},
      "source": [
        "### Fetch objects"
      ]
    },
    {
      "cell_type": "code",
      "execution_count": null,
      "metadata": {
        "id": "V3_Euw53FbrZ"
      },
      "outputs": [],
      "source": [
        "res = client.query.get(\n",
        "    class_name,\n",
        "    [\"title\", \"country\", \"review_body\", \"points\"]\n",
        ").with_limit(2).do()"
      ]
    },
    {
      "cell_type": "code",
      "execution_count": null,
      "metadata": {
        "colab": {
          "base_uri": "https://localhost:8080/"
        },
        "id": "zcgYnH8mF6w3",
        "outputId": "70c16d37-ff99-48db-957b-837324d3d51f"
      },
      "outputs": [],
      "source": [
        "jprint(res)"
      ]
    },
    {
      "attachments": {},
      "cell_type": "markdown",
      "metadata": {},
      "source": [
        "### Similarity-based searches"
      ]
    },
    {
      "attachments": {},
      "cell_type": "markdown",
      "metadata": {},
      "source": [
        "#### Against a text input"
      ]
    },
    {
      "cell_type": "code",
      "execution_count": null,
      "metadata": {
        "id": "9CKSojw_F7bY"
      },
      "outputs": [],
      "source": [
        "res = client.query.get(\n",
        "    class_name, [\"title\", \"country\", \"review_body\", \"points\"]\n",
        ").with_near_text(\n",
        "    {\"concepts\": [\"a fruity white wine\"]}\n",
        ").with_limit(5).do()"
      ]
    },
    {
      "cell_type": "code",
      "execution_count": null,
      "metadata": {
        "colab": {
          "base_uri": "https://localhost:8080/"
        },
        "id": "l5lHsflpGfcF",
        "outputId": "5c2441bd-6e67-4aa7-cedc-d8bf16de1e83"
      },
      "outputs": [],
      "source": [
        "for r in res[\"data\"][\"Get\"][class_name]:\n",
        "  print(r)"
      ]
    },
    {
      "attachments": {},
      "cell_type": "markdown",
      "metadata": {},
      "source": [
        "#### Move \"away\" from certain types of objects"
      ]
    },
    {
      "cell_type": "code",
      "execution_count": null,
      "metadata": {
        "id": "mYRkXXwhGt8N"
      },
      "outputs": [],
      "source": [
        "res = client.query.get(\n",
        "    class_name, [\"title\", \"country\", \"review_body\", \"points\"]\n",
        ").with_near_text(\n",
        "    {\"concepts\": [\"earthy European wine\"],\n",
        "     \"moveAwayFrom\": {\"concepts\": [\"white wine\"], \"force\": 2.0}\n",
        "     }\n",
        ").with_limit(5).do()"
      ]
    },
    {
      "cell_type": "code",
      "execution_count": null,
      "metadata": {
        "colab": {
          "base_uri": "https://localhost:8080/"
        },
        "id": "p0flmLzHKN8m",
        "outputId": "dd115569-2b38-4a57-e517-cf8adcab4a17"
      },
      "outputs": [],
      "source": [
        "for r in res[\"data\"][\"Get\"][class_name]:\n",
        "  jprint(r)"
      ]
    },
    {
      "attachments": {},
      "cell_type": "markdown",
      "metadata": {},
      "source": [
        "#### Against an input object"
      ]
    },
    {
      "cell_type": "code",
      "execution_count": null,
      "metadata": {},
      "outputs": [],
      "source": [
        "res = (\n",
        "    client.query.get(class_name, [\"title\", \"country\", \"review_body\", \"points\"])\n",
        "    .with_additional(\"id\")\n",
        "    .with_limit(2)\n",
        "    .do()\n",
        ")\n",
        "res"
      ]
    },
    {
      "cell_type": "code",
      "execution_count": null,
      "metadata": {},
      "outputs": [],
      "source": [
        "res = (\n",
        "    client.query.get(class_name, [\"title\", \"country\", \"review_body\", \"points\"])\n",
        "    .with_near_object({\"id\": \"01131ce1-d0be-5380-af48-e3cc5c455a63\"})\n",
        "    .with_additional(\"distance\")\n",
        "    .with_limit(5)\n",
        "    .do()\n",
        ")\n",
        "\n",
        "res"
      ]
    },
    {
      "attachments": {},
      "cell_type": "markdown",
      "metadata": {},
      "source": [
        "#### Against an input vector"
      ]
    },
    {
      "cell_type": "code",
      "execution_count": null,
      "metadata": {},
      "outputs": [],
      "source": [
        "res = (\n",
        "    client.query.get(class_name, [\"title\", \"country\", \"review_body\", \"points\"])\n",
        "    .with_additional(\"vector\")\n",
        "    .with_limit(1)\n",
        "    .do()\n",
        ")\n",
        "vector = res[\"data\"][\"Get\"][class_name][0][\"_additional\"][\"vector\"]"
      ]
    },
    {
      "cell_type": "code",
      "execution_count": null,
      "metadata": {},
      "outputs": [],
      "source": [
        "res = (\n",
        "    client.query.get(class_name, [\"title\", \"country\", \"review_body\", \"points\"])\n",
        "    .with_near_vector({\"vector\": vector})\n",
        "    .with_additional(\"distance\")\n",
        "    .with_limit(5)\n",
        "    .do()\n",
        ")\n",
        "\n",
        "res"
      ]
    },
    {
      "attachments": {},
      "cell_type": "markdown",
      "metadata": {},
      "source": [
        "### Filter objects"
      ]
    },
    {
      "cell_type": "code",
      "execution_count": null,
      "metadata": {
        "id": "MWb1PsqtHzUx"
      },
      "outputs": [],
      "source": [
        "res = client.query.get(\n",
        "    class_name, [\"title\", \"country\", \"review_body\", \"points\"]\n",
        ").with_near_text(\n",
        "    {\"concepts\": [\"earthy European wine\"],\n",
        "     \"moveAwayFrom\": {\"concepts\": [\"white wine\"], \"force\": 2.0}\n",
        "     }\n",
        ").with_where(\n",
        "    {\"path\": [\"price\"],\n",
        "     \"operator\": \"GreaterThan\",\n",
        "     \"valueNumber\": 10}\n",
        ").with_limit(5).do()"
      ]
    },
    {
      "cell_type": "code",
      "execution_count": null,
      "metadata": {
        "colab": {
          "base_uri": "https://localhost:8080/"
        },
        "id": "k5n5gxxtKxvj",
        "outputId": "f566c3d8-9688-493a-8cae-7de5e1e37ba3"
      },
      "outputs": [],
      "source": [
        "jprint(res)"
      ]
    },
    {
      "attachments": {},
      "cell_type": "markdown",
      "metadata": {},
      "source": [
        "#### Generative search"
      ]
    },
    {
      "cell_type": "code",
      "execution_count": null,
      "metadata": {
        "id": "w332R82sIRe-"
      },
      "outputs": [],
      "source": [
        "res = client.query.get(\n",
        "    class_name, [\"title\", \"country\", \"review_body\", \"points\"]\n",
        ").with_near_text(\n",
        "    {\"concepts\": [\"earthy European wine\"],\n",
        "     \"moveAwayFrom\": {\"concepts\": [\"white wine\"], \"force\": 2.0}\n",
        "     }\n",
        ").with_where(\n",
        "    {\"path\": [\"price\"],\n",
        "     \"operator\": \"GreaterThan\",\n",
        "     \"valueNumber\": 10}\n",
        ").with_generate(\n",
        "    grouped_task=\"Are there any commonalities between these\",\n",
        ").with_limit(3).do()"
      ]
    },
    {
      "cell_type": "code",
      "execution_count": null,
      "metadata": {
        "colab": {
          "base_uri": "https://localhost:8080/"
        },
        "id": "iTjYk9tUhCNi",
        "outputId": "a6d19aeb-9c73-4d2a-ee6d-ea811a2e5eb0"
      },
      "outputs": [],
      "source": [
        "jprint(res)"
      ]
    },
    {
      "attachments": {},
      "cell_type": "markdown",
      "metadata": {},
      "source": [
        "### For more examples: See our \"how-to\" search pages\n",
        "\n",
        "- [How to: Search](https://weaviate.io/developers/weaviate/search)"
      ]
    },
    {
      "attachments": {},
      "cell_type": "markdown",
      "metadata": {
        "id": "KvxuwJbLCyZj"
      },
      "source": [
        "### If you want to clean up the data\n",
        "\n",
        "**This will delete all of your data in the *WineReview* class!**"
      ]
    },
    {
      "cell_type": "code",
      "execution_count": null,
      "metadata": {
        "id": "7-kf4dflRJDL"
      },
      "outputs": [],
      "source": [
        "# client.schema.delete_class(\"WineReview\")"
      ]
    },
    {
      "cell_type": "code",
      "execution_count": null,
      "metadata": {
        "id": "TxtRC91y-OUW"
      },
      "outputs": [],
      "source": []
    }
  ],
  "metadata": {
    "colab": {
      "provenance": []
    },
    "kernelspec": {
      "display_name": "Python 3 (ipykernel)",
      "language": "python",
      "name": "python3"
    },
    "language_info": {
      "codemirror_mode": {
        "name": "ipython",
        "version": 3
      },
      "file_extension": ".py",
      "mimetype": "text/x-python",
      "name": "python",
      "nbconvert_exporter": "python",
      "pygments_lexer": "ipython3",
      "version": "3.10.8"
    },
    "varInspector": {
      "cols": {
        "lenName": 16,
        "lenType": 16,
        "lenVar": 40
      },
      "kernels_config": {
        "python": {
          "delete_cmd_postfix": "",
          "delete_cmd_prefix": "del ",
          "library": "var_list.py",
          "varRefreshCmd": "print(var_dic_list())"
        },
        "r": {
          "delete_cmd_postfix": ") ",
          "delete_cmd_prefix": "rm(",
          "library": "var_list.r",
          "varRefreshCmd": "cat(var_dic_list()) "
        }
      },
      "types_to_exclude": [
        "module",
        "function",
        "builtin_function_or_method",
        "instance",
        "_Feature"
      ],
      "window_display": false
    }
  },
  "nbformat": 4,
  "nbformat_minor": 0
}
