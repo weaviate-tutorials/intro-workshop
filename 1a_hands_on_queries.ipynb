{
 "cells": [
  {
   "cell_type": "markdown",
   "id": "e7d66c4d",
   "metadata": {
    "slideshow": {
     "slide_type": "slide"
    }
   },
   "source": [
    "# Hands-on with Weaviate: Queries"
   ]
  },
  {
   "cell_type": "code",
   "execution_count": null,
   "id": "5b3e287a",
   "metadata": {},
   "outputs": [],
   "source": [
    "# # For Colab\n",
    "# !pip install -U weaviate-client"
   ]
  },
  {
   "cell_type": "markdown",
   "id": "081fda50",
   "metadata": {},
   "source": [
    "## Preparation\n",
    "\n",
    "### Instantiate Weaviate client"
   ]
  },
  {
   "cell_type": "code",
   "execution_count": null,
   "id": "e46a4f88",
   "metadata": {
    "slideshow": {
     "slide_type": "-"
    }
   },
   "outputs": [],
   "source": [
    "import weaviate\n",
    "import os\n",
    "\n",
    "client = weaviate.Client(\n",
    "    \"https://edu-demo.weaviate.network\",\n",
    "    auth_client_secret=weaviate.AuthApiKey(\"learn-weaviate\"),\n",
    "    additional_headers={\n",
    "        \"X-OpenAI-Api-Key\": os.environ[\"OPENAI_APIKEY\"]\n",
    "    }\n",
    ")"
   ]
  },
  {
   "cell_type": "markdown",
   "id": "fd217aad",
   "metadata": {},
   "source": [
    "### Inspect database"
   ]
  },
  {
   "cell_type": "code",
   "execution_count": null,
   "id": "62280d20",
   "metadata": {},
   "outputs": [],
   "source": [
    "schema = client.schema.get()"
   ]
  },
  {
   "cell_type": "code",
   "execution_count": null,
   "id": "aa1e89d0",
   "metadata": {},
   "outputs": [],
   "source": [
    "# What does the schema look like?\n",
    "schema"
   ]
  },
  {
   "cell_type": "markdown",
   "id": "86e51617",
   "metadata": {},
   "source": [
    "#### Note: Weaviate data structures:\n",
    "\n",
    "- `class`: A collection of objects (like a SQL table)\n",
    "- `properties`: Object properties (like a SQL column)"
   ]
  },
  {
   "cell_type": "code",
   "execution_count": null,
   "id": "05fb6217",
   "metadata": {},
   "outputs": [],
   "source": [
    "# What classes are in the instance?\n",
    "c_names = [c[\"class\"] for c in schema[\"classes\"]]\n",
    "c_names"
   ]
  },
  {
   "cell_type": "code",
   "execution_count": null,
   "id": "3085b4c0",
   "metadata": {
    "scrolled": true
   },
   "outputs": [],
   "source": [
    "# Inspect a particular class\n",
    "class_schema = client.schema.get('WineReview')\n",
    "class_schema"
   ]
  },
  {
   "cell_type": "code",
   "execution_count": null,
   "id": "bbde5c2d",
   "metadata": {},
   "outputs": [],
   "source": [
    "# What properties are in a particular class?\n",
    "p_names = [p[\"name\"] for p in class_schema[\"properties\"]]\n",
    "p_names"
   ]
  },
  {
   "cell_type": "markdown",
   "id": "53d0baaa",
   "metadata": {
    "slideshow": {
     "slide_type": "slide"
    }
   },
   "source": [
    "## Search - basic\n",
    "\n",
    "### Fetch items from Weaviate"
   ]
  },
  {
   "cell_type": "code",
   "execution_count": null,
   "id": "7f3fa9a8",
   "metadata": {
    "slideshow": {
     "slide_type": "-"
    }
   },
   "outputs": [],
   "source": [
    "# Basic Get query\n",
    "# Let's use the property names from above\n",
    "\n",
    "response = (\n",
    "    client.query\n",
    "    .get(\"WineReview\", p_names)\n",
    "    .with_limit(3)\n",
    "    .do()\n",
    ")\n",
    "\n",
    "response"
   ]
  },
  {
   "cell_type": "markdown",
   "id": "8611c1f7",
   "metadata": {},
   "source": [
    "**Quiz**: In what order do these objects come from?"
   ]
  },
  {
   "cell_type": "markdown",
   "id": "57c4153c",
   "metadata": {},
   "source": [
    "### Specify the fetched properties"
   ]
  },
  {
   "cell_type": "code",
   "execution_count": null,
   "id": "8b29bb7b",
   "metadata": {
    "slideshow": {
     "slide_type": "-"
    }
   },
   "outputs": [],
   "source": [
    "# Modify properties to be fetched\n",
    "\n",
    "response = (\n",
    "    client.query\n",
    "    .get(\"WineReview\", [\"title\"])\n",
    "    .with_limit(3)\n",
    "    .do()\n",
    ")\n",
    "\n",
    "response"
   ]
  },
  {
   "cell_type": "code",
   "execution_count": null,
   "id": "39d27e71",
   "metadata": {},
   "outputs": [],
   "source": [
    "# Raw GraphQL query\n",
    "\n",
    "gql_query = \"\"\"\n",
    "{\n",
    "    Get {\n",
    "        WineReview (limit: 3) {\n",
    "            title\n",
    "        }\n",
    "    }\n",
    "}\n",
    "\"\"\"\n",
    "\n",
    "gql_response = (\n",
    "    client.query.raw(gql_query)\n",
    ")\n",
    "gql_response"
   ]
  },
  {
   "cell_type": "markdown",
   "id": "8e0d65a1",
   "metadata": {},
   "source": [
    "### Fetch additional properties"
   ]
  },
  {
   "cell_type": "code",
   "execution_count": null,
   "id": "c858f988",
   "metadata": {
    "scrolled": true,
    "slideshow": {
     "slide_type": "-"
    }
   },
   "outputs": [],
   "source": [
    "# Fetch object ID / vector\n",
    "response = (\n",
    "    client.query\n",
    "    .get(\"WineReview\", [\"title\"])\n",
    "    .with_additional([\"id\", \"vector\"])\n",
    "    .with_limit(3)\n",
    "    .do()\n",
    ")\n",
    "\n",
    "response"
   ]
  },
  {
   "cell_type": "markdown",
   "id": "45cf62b9",
   "metadata": {},
   "source": [
    "#### Fetch cross-referenced properties\n",
    "\n",
    "Cross-references are like relationships in SQL "
   ]
  },
  {
   "cell_type": "code",
   "execution_count": null,
   "id": "46518c26",
   "metadata": {},
   "outputs": [],
   "source": [
    "# Fetch JeopardyQuestion item\n",
    "response = (\n",
    "    client.query\n",
    "    .get(\"JeopardyQuestion\", [\"question\" ,\"answer\"])\n",
    "    .with_limit(3)\n",
    "    .do()\n",
    ")\n",
    "\n",
    "response"
   ]
  },
  {
   "cell_type": "code",
   "execution_count": null,
   "id": "c7d4ed8e",
   "metadata": {},
   "outputs": [],
   "source": [
    "# Show `JeopardyQuestion` schema\n",
    "client.schema.get(\"JeopardyQuestion\")"
   ]
  },
  {
   "cell_type": "code",
   "execution_count": null,
   "id": "d9c9c248",
   "metadata": {},
   "outputs": [],
   "source": [
    "# Show x-referenced class schema\n",
    "client.schema.get(\"JeopardyCategory\")"
   ]
  },
  {
   "cell_type": "code",
   "execution_count": null,
   "id": "c484a42b",
   "metadata": {},
   "outputs": [],
   "source": [
    "# Fetch JeopardyQuestion item\n",
    "response = (\n",
    "    client.query\n",
    "    .get(\"JeopardyQuestion\", [\"question\" ,\"answer\", \"hasCategory {...on JeopardyCategory {title}}\"])\n",
    "    .with_limit(3)\n",
    "    .do()\n",
    ")\n",
    "\n",
    "response"
   ]
  },
  {
   "cell_type": "markdown",
   "id": "b5b2e6a3",
   "metadata": {},
   "source": [
    "## Similarity-based searches\n",
    "\n",
    "### NearText search"
   ]
  },
  {
   "cell_type": "code",
   "execution_count": null,
   "id": "792872bf",
   "metadata": {},
   "outputs": [],
   "source": [
    "# NearText query - (any suggestions?)\n",
    "response = (\n",
    "    client.query\n",
    "    .get(\"WineReview\", [\"title\", \"review_body\"])\n",
    "    .with_limit(3)\n",
    "    .with_near_text({\n",
    "        \"concepts\": [\n",
    "            \"very fancy wine\"\n",
    "        ]\n",
    "    })\n",
    "    .do()\n",
    ")\n",
    "\n",
    "response"
   ]
  },
  {
   "cell_type": "markdown",
   "id": "61e986e0",
   "metadata": {},
   "source": [
    "### NearObject"
   ]
  },
  {
   "cell_type": "code",
   "execution_count": null,
   "id": "94d8dabf",
   "metadata": {},
   "outputs": [],
   "source": [
    "# NearObject query - first, grab an object ID\n",
    "response = (\n",
    "    client.query\n",
    "    .get(\"WineReview\", [\"title\", \"review_body\"])\n",
    "    .with_limit(3)\n",
    "    .with_near_text({\n",
    "        \"concepts\": [\n",
    "            \"very fancy wine\"\n",
    "        ]\n",
    "    })\n",
    "    .with_additional(\"id\")\n",
    "    .do()\n",
    ")\n",
    "\n",
    "response"
   ]
  },
  {
   "cell_type": "code",
   "execution_count": null,
   "id": "6965503a",
   "metadata": {},
   "outputs": [],
   "source": [
    "# NearObject query - use that ID to run a search\n",
    "response = (\n",
    "    client.query\n",
    "    .get(\"WineReview\", [\"title\", \"review_body\"])\n",
    "    .with_limit(3)\n",
    "    .with_near_object({\n",
    "        \"id\": \"f6da868f-9044-5b4d-87dd-21e1ffffbbf1\"\n",
    "    })\n",
    "    .do()\n",
    ")\n",
    "\n",
    "response"
   ]
  },
  {
   "cell_type": "markdown",
   "id": "b822744b",
   "metadata": {},
   "source": [
    "### NearVector"
   ]
  },
  {
   "cell_type": "code",
   "execution_count": null,
   "id": "ff9ea379",
   "metadata": {},
   "outputs": [],
   "source": [
    "# NearVector query - grab a vector"
   ]
  },
  {
   "cell_type": "code",
   "execution_count": null,
   "id": "6c0bcb6d",
   "metadata": {},
   "outputs": [],
   "source": [
    "# Grab a vector from OpenAI\n",
    "import openai\n",
    "openai.api_key = os.environ[\"OPENAI_APIKEY\"]\n",
    "resp = openai.Embedding.create(\n",
    "  model=\"text-embedding-ada-002\",\n",
    "  input=\"Argentinian wine that goes well with fish\"\n",
    ")\n",
    "resp"
   ]
  },
  {
   "cell_type": "code",
   "execution_count": null,
   "id": "13b40a03",
   "metadata": {},
   "outputs": [],
   "source": [
    "emb = resp[\"data\"][0][\"embedding\"]\n",
    "len(emb)"
   ]
  },
  {
   "cell_type": "code",
   "execution_count": null,
   "id": "19bd8083",
   "metadata": {},
   "outputs": [],
   "source": [
    "# NearVector query - use the vector to run a search\n",
    "response = (\n",
    "    client.query\n",
    "    .get(\"WineReview\", [\"title\", \"review_body\", \"country\"])\n",
    "    .with_limit(3)\n",
    "    .with_near_vector({\n",
    "        \"vector\": emb\n",
    "    })\n",
    "    .do()\n",
    ")\n",
    "\n",
    "response"
   ]
  },
  {
   "cell_type": "markdown",
   "id": "853e74be",
   "metadata": {},
   "source": [
    "**Discussion**: What's going on under the hood?"
   ]
  },
  {
   "cell_type": "markdown",
   "id": "7b17ea98",
   "metadata": {},
   "source": [
    "### Get distances to results"
   ]
  },
  {
   "cell_type": "code",
   "execution_count": null,
   "id": "7ea1d7ec",
   "metadata": {},
   "outputs": [],
   "source": [
    "# Fetch distances in the results\n",
    "response = (\n",
    "    client.query\n",
    "    .get(\"WineReview\", [\"title\", \"review_body\", \"country\"])\n",
    "    .with_limit(3)\n",
    "    .with_near_vector({\n",
    "        \"vector\": emb\n",
    "    })\n",
    "    .with_additional(\"distance\")\n",
    "    .do()\n",
    ")\n",
    "\n",
    "response"
   ]
  },
  {
   "cell_type": "markdown",
   "id": "6bbf77fe",
   "metadata": {},
   "source": [
    "### Modify thresholds"
   ]
  },
  {
   "cell_type": "code",
   "execution_count": null,
   "id": "b24681ae",
   "metadata": {},
   "outputs": [],
   "source": [
    "# Add a distance threshold\n",
    "response = (\n",
    "    client.query\n",
    "    .get(\"WineReview\", [\"title\", \"review_body\", \"country\"])\n",
    "    .with_near_vector({\n",
    "        \"vector\": emb,\n",
    "        \"distance\": 0.145\n",
    "    })\n",
    "    .with_additional(\"distance\")\n",
    "    .do()\n",
    ")\n",
    "\n",
    "response"
   ]
  },
  {
   "cell_type": "markdown",
   "id": "62623b8c",
   "metadata": {},
   "source": [
    "**Discussion**: Why do we need thresholds / limits?"
   ]
  },
  {
   "cell_type": "markdown",
   "id": "add6bb74",
   "metadata": {
    "slideshow": {
     "slide_type": "subslide"
    }
   },
   "source": [
    "## Conditional (`where`) Filters\n",
    "\n",
    "### Single filters"
   ]
  },
  {
   "cell_type": "code",
   "execution_count": null,
   "id": "efb529e6",
   "metadata": {},
   "outputs": [],
   "source": [
    "# Single filter with price\n",
    "response = (\n",
    "    client.query\n",
    "    .get(\"WineReview\", [\"title\", \"review_body\", \"country\"])\n",
    "    .with_limit(3)\n",
    "    .with_near_vector({\n",
    "        \"vector\": emb\n",
    "    })\n",
    "    .with_where({\n",
    "        \"path\": [\"price\"],\n",
    "        \"operator\": \"GreaterThan\",\n",
    "        \"valueNumber\": 10\n",
    "    })\n",
    "    .do()\n",
    ")\n",
    "\n",
    "response"
   ]
  },
  {
   "cell_type": "markdown",
   "id": "5ed372e5",
   "metadata": {},
   "source": [
    "#### Filter by partial matches"
   ]
  },
  {
   "cell_type": "code",
   "execution_count": null,
   "id": "e759e64c",
   "metadata": {},
   "outputs": [],
   "source": [
    "# Filter with partial strin\n",
    "response = (\n",
    "    client.query\n",
    "    .get(\"WineReview\", [\"title\", \"review_body\", \"country\"])\n",
    "    .with_limit(3)\n",
    "    .with_near_vector({\n",
    "        \"vector\": emb\n",
    "    })\n",
    "    .with_where({\n",
    "        \"path\": [\"review_body\"],\n",
    "        \"operator\": \"Like\",\n",
    "        \"valueText\": \"*citrus*\"\n",
    "    })\n",
    "    .do()\n",
    ")\n",
    "\n",
    "response"
   ]
  },
  {
   "cell_type": "markdown",
   "id": "a8418b91",
   "metadata": {},
   "source": [
    "#### Filter by cross-references"
   ]
  },
  {
   "cell_type": "code",
   "execution_count": null,
   "id": "f993521a",
   "metadata": {},
   "outputs": [],
   "source": [
    "# Filter with cross-ref property (look for *history*)\n",
    "response = (\n",
    "    client.query\n",
    "    .get(\"JeopardyQuestion\", [\"question\", \"answer\", \"hasCategory {...on JeopardyCategory {title}}\"])\n",
    "    .with_limit(5)\n",
    "    .with_where({\n",
    "        \"path\": [\"hasCategory\", \"JeopardyCategory\", \"title\"],\n",
    "        \"operator\": \"Like\",\n",
    "        \"valueText\": \"*history*\"\n",
    "    })\n",
    "    .do()\n",
    ")\n",
    "\n",
    "response"
   ]
  },
  {
   "cell_type": "code",
   "execution_count": null,
   "id": "4b768f6a",
   "metadata": {},
   "outputs": [],
   "source": [
    "# Like *history* vs Like *histor*"
   ]
  },
  {
   "cell_type": "markdown",
   "id": "3c107f6a",
   "metadata": {},
   "source": [
    "### Nested filters"
   ]
  },
  {
   "cell_type": "code",
   "execution_count": null,
   "id": "7c5317c5",
   "metadata": {},
   "outputs": [],
   "source": [
    "# Filter with nested filters\n",
    "# `points` greater than 1000 or Like *histor*\n",
    "where_filter = {\n",
    "    \"operator\": \"Or\",\n",
    "    \"operands\": [\n",
    "        {\n",
    "            \"path\": [\"hasCategory\", \"JeopardyCategory\", \"title\"],\n",
    "            \"operator\": \"Like\",\n",
    "            \"valueText\": \"*histor*\"\n",
    "        },   \n",
    "        {\n",
    "            \"path\": [\"points\"],\n",
    "            \"operator\": \"GreaterThan\",\n",
    "            \"valueInt\": 1000\n",
    "        },\n",
    "    ]\n",
    "}\n",
    "\n",
    "\n",
    "response = (\n",
    "    client.query\n",
    "    .get(\"JeopardyQuestion\", [\"question\", \"answer\", \"points\", \"hasCategory {...on JeopardyCategory {title}}\"])\n",
    "    .with_limit(5)\n",
    "    .with_where(where_filter)\n",
    "    .do()\n",
    ")\n",
    "\n",
    "response"
   ]
  },
  {
   "cell_type": "markdown",
   "id": "99a1e3ba",
   "metadata": {},
   "source": [
    "## Generative searches"
   ]
  },
  {
   "cell_type": "code",
   "execution_count": null,
   "id": "b65151b7",
   "metadata": {},
   "outputs": [],
   "source": [
    "# NearText with Generative\n",
    "response = (\n",
    "    client.query\n",
    "    .get(\"WikiArticle\", [\"title\"])\n",
    "    .with_limit(1)\n",
    "    .with_near_text({\n",
    "        \"concepts\": [\n",
    "            \"australia\"\n",
    "        ]\n",
    "    })\n",
    "    .with_generate(\n",
    "        single_prompt=\"Summarize this article {wiki_summary}\"\n",
    "    )\n",
    "    .do()\n",
    ")\n",
    "\n",
    "response"
   ]
  },
  {
   "cell_type": "code",
   "execution_count": null,
   "id": "af8028c9",
   "metadata": {},
   "outputs": [],
   "source": [
    "# Get grouped data\n",
    "response = (\n",
    "    client.query\n",
    "    .get(\"WineReview\", [\"title\"])\n",
    "    .with_limit(10)\n",
    "    .with_near_text({\n",
    "        \"concepts\": [\n",
    "            \"dessert wine\"\n",
    "        ]\n",
    "    })\n",
    "    .with_generate(\n",
    "        grouped_task=\"Based on these reviews, what should you look for in a dessert wine? Provide three bullet points\"\n",
    "    )\n",
    "    .do()\n",
    ")\n",
    "\n",
    "response"
   ]
  }
 ],
 "metadata": {
  "kernelspec": {
   "display_name": "Python 3 (ipykernel)",
   "language": "python",
   "name": "python3"
  },
  "language_info": {
   "codemirror_mode": {
    "name": "ipython",
    "version": 3
   },
   "file_extension": ".py",
   "mimetype": "text/x-python",
   "name": "python",
   "nbconvert_exporter": "python",
   "pygments_lexer": "ipython3",
   "version": "3.10.8"
  },
  "varInspector": {
   "cols": {
    "lenName": 16,
    "lenType": 16,
    "lenVar": 40
   },
   "kernels_config": {
    "python": {
     "delete_cmd_postfix": "",
     "delete_cmd_prefix": "del ",
     "library": "var_list.py",
     "varRefreshCmd": "print(var_dic_list())"
    },
    "r": {
     "delete_cmd_postfix": ") ",
     "delete_cmd_prefix": "rm(",
     "library": "var_list.r",
     "varRefreshCmd": "cat(var_dic_list()) "
    }
   },
   "types_to_exclude": [
    "module",
    "function",
    "builtin_function_or_method",
    "instance",
    "_Feature"
   ],
   "window_display": false
  }
 },
 "nbformat": 4,
 "nbformat_minor": 5
}
