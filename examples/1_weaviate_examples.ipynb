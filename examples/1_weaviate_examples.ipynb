{
 "cells": [
  {
   "cell_type": "markdown",
   "id": "e7d66c4d",
   "metadata": {
    "slideshow": {
     "slide_type": "slide"
    }
   },
   "source": [
    "## Introduction to Weaviate - Demo 1"
   ]
  },
  {
   "cell_type": "markdown",
   "id": "83ae1365",
   "metadata": {},
   "source": [
    "This is intended as a quick demonstration of Weaviate's capabilities - run through the demo to see some examples of what you can do with Weaviate."
   ]
  },
  {
   "cell_type": "markdown",
   "id": "e8540c10",
   "metadata": {
    "slideshow": {
     "slide_type": "subslide"
    }
   },
   "source": [
    "### Setup"
   ]
  },
  {
   "cell_type": "markdown",
   "id": "1bc52b78",
   "metadata": {
    "slideshow": {
     "slide_type": "skip"
    }
   },
   "source": [
    "Define helper functions"
   ]
  },
  {
   "cell_type": "code",
   "execution_count": 1,
   "id": "e46a4f88",
   "metadata": {
    "slideshow": {
     "slide_type": "-"
    }
   },
   "outputs": [],
   "source": [
    "import weaviate\n",
    "import os\n",
    "import json\n",
    "\n",
    "client = weaviate.Client(\n",
    "    \"https://edu-demo.weaviate.network\",\n",
    "    auth_client_secret=weaviate.AuthApiKey(api_key=\"learn-weaviate\"),  # Note: Read-only key\n",
    "    additional_headers={  # After the demo, uncomment this and pass your own API credentials\n",
    "        \"X-OpenAI-Api-Key\": os.environ[\"OPENAI_APIKEY\"],\n",
    "        \"X-Cohere-Api-Key\": os.environ[\"COHERE_APIKEY\"]\n",
    "    }\n",
    ")"
   ]
  },
  {
   "cell_type": "code",
   "execution_count": 2,
   "id": "b8fa78f1",
   "metadata": {
    "slideshow": {
     "slide_type": "subslide"
    }
   },
   "outputs": [],
   "source": [
    "def trunc_item(item_in):\n",
    "    if len(str(item_in)) > 100:\n",
    "        return str(item_in)[:100] + \"...\"\n",
    "    else:\n",
    "        return str(item_in)\n",
    "\n",
    "def getprint(weaviate_result, truncate=True):\n",
    "    for k, results in weaviate_result[\"data\"][\"Get\"].items():\n",
    "        print(f\"========== {k} Results: ==========\")\n",
    "        for r in results:\n",
    "            for item_k, item_v in r.items():\n",
    "                if truncate:\n",
    "                    item_v = trunc_item(item_v)\n",
    "                print(f\"{item_k}: {trunc_item(item_v)}\")\n",
    "            print(\"\\n\")"
   ]
  },
  {
   "cell_type": "markdown",
   "id": "53d0baaa",
   "metadata": {
    "slideshow": {
     "slide_type": "slide"
    }
   },
   "source": [
    "### Search"
   ]
  },
  {
   "cell_type": "code",
   "execution_count": 3,
   "id": "7f3fa9a8",
   "metadata": {
    "slideshow": {
     "slide_type": "-"
    }
   },
   "outputs": [],
   "source": [
    "res = client.query.get(\n",
    "    \"WikiCity\", [\"city_name\", \"wiki_summary\"]\n",
    ").with_near_text({\n",
    "    \"concepts\": [\"Major European city\"]\n",
    "}).with_limit(5).do()"
   ]
  },
  {
   "cell_type": "code",
   "execution_count": 4,
   "id": "fda196e5",
   "metadata": {
    "scrolled": true,
    "slideshow": {
     "slide_type": "subslide"
    }
   },
   "outputs": [
    {
     "name": "stdout",
     "output_type": "stream",
     "text": [
      "========== WikiCity Results: ==========\n",
      "city_name: Paris\n",
      "wiki_summary: Paris (English: ; French pronunciation: ​[paʁi] (listen)) is the capital and most populous city of F...\n",
      "\n",
      "\n",
      "city_name: London\n",
      "wiki_summary: London is the capital and largest city of England and the United Kingdom, with a population of just ...\n",
      "\n",
      "\n",
      "city_name: Madrid\n",
      "wiki_summary: Madrid ( mə-DRID, Spanish: [maˈðɾið]) is the capital and most populous city of Spain. The city has a...\n",
      "\n",
      "\n",
      "city_name: Berlin\n",
      "wiki_summary: Berlin ( bur-LIN, German: [bɛɐ̯ˈliːn] (listen)) is the capital and largest city of Germany by both a...\n",
      "\n",
      "\n",
      "city_name: Budapest\n",
      "wiki_summary: Budapest (UK: , US: ; Hungarian pronunciation: [ˈbudɒpɛʃt] (listen)) is the capital and most populou...\n",
      "\n",
      "\n"
     ]
    }
   ],
   "source": [
    "getprint(res)"
   ]
  },
  {
   "cell_type": "code",
   "execution_count": 5,
   "id": "8b29bb7b",
   "metadata": {
    "slideshow": {
     "slide_type": "subslide"
    }
   },
   "outputs": [],
   "source": [
    "res = client.query.get(\n",
    "    \"WikiArticle\", ['title']\n",
    ").with_near_text({\n",
    "    \"concepts\": [\"Formula 1 driver\"]\n",
    "}).with_limit(1).do()"
   ]
  },
  {
   "cell_type": "code",
   "execution_count": 6,
   "id": "c858f988",
   "metadata": {
    "scrolled": true,
    "slideshow": {
     "slide_type": "subslide"
    }
   },
   "outputs": [
    {
     "data": {
      "text/plain": [
       "{'data': {'Get': {'WikiArticle': [{'title': 'Lewis Hamilton'}]}}}"
      ]
     },
     "execution_count": 6,
     "metadata": {},
     "output_type": "execute_result"
    }
   ],
   "source": [
    "res"
   ]
  },
  {
   "cell_type": "markdown",
   "id": "add6bb74",
   "metadata": {
    "slideshow": {
     "slide_type": "subslide"
    }
   },
   "source": [
    "#### Linguistic flexibility"
   ]
  },
  {
   "cell_type": "markdown",
   "id": "f7f35f57",
   "metadata": {
    "slideshow": {
     "slide_type": "fragment"
    }
   },
   "source": [
    "Vector search allows for flexibility & linguistic freedom. "
   ]
  },
  {
   "cell_type": "markdown",
   "id": "db68039a",
   "metadata": {
    "slideshow": {
     "slide_type": "fragment"
    }
   },
   "source": [
    "... in more than one sense of the word."
   ]
  },
  {
   "cell_type": "code",
   "execution_count": 7,
   "id": "08aa4dad",
   "metadata": {
    "slideshow": {
     "slide_type": "subslide"
    }
   },
   "outputs": [],
   "source": [
    "res = client.query.get(\n",
    "    \"MultiLingualReview\", \n",
    "    ['review_body', 'review_title', 'product_category']\n",
    ").with_near_text({\n",
    "    \"concepts\": [\"did not receive product\"]\n",
    "}).with_limit(4).do()"
   ]
  },
  {
   "cell_type": "code",
   "execution_count": 8,
   "id": "01472edc",
   "metadata": {
    "slideshow": {
     "slide_type": "subslide"
    }
   },
   "outputs": [
    {
     "name": "stdout",
     "output_type": "stream",
     "text": [
      "========== MultiLingualReview Results: ==========\n",
      "product_category: grocery\n",
      "review_body: Never received the product\n",
      "review_title: Receiving the product\n",
      "\n",
      "\n",
      "product_category: electronics\n",
      "review_body: Habe das Produkt noch nicht erhalten\n",
      "review_title: Produkt nicht da\n",
      "\n",
      "\n",
      "product_category: electronics\n",
      "review_body: Hallo, ich habe das Produkt bestellt, in den versand Details steht, dass es im Briefkasten hinterleg...\n",
      "review_title: Produkt nicht erhalten\n",
      "\n",
      "\n",
      "product_category: electronics\n",
      "review_body: 未收到货，却显示货物已送达，也无法查询货物物流信息\n",
      "review_title: 未收到货\n",
      "\n",
      "\n"
     ]
    }
   ],
   "source": [
    "getprint(res)"
   ]
  },
  {
   "cell_type": "code",
   "execution_count": 9,
   "id": "34102dcf",
   "metadata": {
    "slideshow": {
     "slide_type": "subslide"
    }
   },
   "outputs": [],
   "source": [
    "queries = [\n",
    "    \"did not receive product\", \"没有收到产品\", \n",
    "    \"Produkt nicht erhalten\", \"no recibi producto\"\n",
    "]\n",
    "\n",
    "results_list = list()\n",
    "for q in queries:\n",
    "    res = client.query.get(\n",
    "        \"MultiLingualReview\", \n",
    "        ['review_body', 'review_title', 'product_category']\n",
    "    ).with_near_text(\n",
    "        {\"concepts\": [q]}\n",
    "    ).with_limit(4).do()\n",
    "    results_list.append(res)"
   ]
  },
  {
   "cell_type": "code",
   "execution_count": 10,
   "id": "735ad095",
   "metadata": {
    "scrolled": true,
    "slideshow": {
     "slide_type": "subslide"
    }
   },
   "outputs": [
    {
     "name": "stdout",
     "output_type": "stream",
     "text": [
      "Query: did not receive product\n",
      "========== MultiLingualReview Results: ==========\n",
      "product_category: grocery\n",
      "review_body: Never received the product\n",
      "review_title: Receiving the product\n",
      "\n",
      "\n",
      "product_category: electronics\n",
      "review_body: Habe das Produkt noch nicht erhalten\n",
      "review_title: Produkt nicht da\n",
      "\n",
      "\n",
      "product_category: electronics\n",
      "review_body: Hallo, ich habe das Produkt bestellt, in den versand Details steht, dass es im Briefkasten hinterleg...\n",
      "review_title: Produkt nicht erhalten\n",
      "\n",
      "\n",
      "product_category: electronics\n",
      "review_body: 未收到货，却显示货物已送达，也无法查询货物物流信息\n",
      "review_title: 未收到货\n",
      "\n",
      "\n",
      "Query: 没有收到产品\n",
      "========== MultiLingualReview Results: ==========\n",
      "product_category: electronics\n",
      "review_body: Habe das Produkt noch nicht erhalten\n",
      "review_title: Produkt nicht da\n",
      "\n",
      "\n",
      "product_category: grocery\n",
      "review_body: Never received the product\n",
      "review_title: Receiving the product\n",
      "\n",
      "\n",
      "product_category: electronics\n",
      "review_body: Hallo, ich habe das Produkt bestellt, in den versand Details steht, dass es im Briefkasten hinterleg...\n",
      "review_title: Produkt nicht erhalten\n",
      "\n",
      "\n",
      "product_category: electronics\n",
      "review_body: 未收到货，却显示货物已送达，也无法查询货物物流信息\n",
      "review_title: 未收到货\n",
      "\n",
      "\n",
      "Query: Produkt nicht erhalten\n",
      "========== MultiLingualReview Results: ==========\n",
      "product_category: electronics\n",
      "review_body: Habe das Produkt noch nicht erhalten\n",
      "review_title: Produkt nicht da\n",
      "\n",
      "\n",
      "product_category: electronics\n",
      "review_body: Hallo, ich habe das Produkt bestellt, in den versand Details steht, dass es im Briefkasten hinterleg...\n",
      "review_title: Produkt nicht erhalten\n",
      "\n",
      "\n",
      "product_category: grocery\n",
      "review_body: Never received the product\n",
      "review_title: Receiving the product\n",
      "\n",
      "\n",
      "product_category: electronics\n",
      "review_body: Ich habe die Wärmeleitpaste am 10.März 2018 bestellt und diese ist immer noch nicht angekommen (heut...\n",
      "review_title: Ware (noch) nicht erhalten\n",
      "\n",
      "\n",
      "Query: no recibi producto\n",
      "========== MultiLingualReview Results: ==========\n",
      "product_category: electronics\n",
      "review_body: El producto no me va llegado, contacté cn el vendedor y me reembolsaron la mitad del costo\n",
      "review_title: El producto no ha llegado\n",
      "\n",
      "\n",
      "product_category: electronics\n",
      "review_body: Habe das Produkt noch nicht erhalten\n",
      "review_title: Produkt nicht da\n",
      "\n",
      "\n",
      "product_category: grocery\n",
      "review_body: Never received the product\n",
      "review_title: Receiving the product\n",
      "\n",
      "\n",
      "product_category: apparel\n",
      "review_body: Después de más de 3 meses de espera nunca llega el producto.\n",
      "review_title: Me siento estafado\n",
      "\n",
      "\n"
     ]
    }
   ],
   "source": [
    "for i, res in enumerate(results_list):\n",
    "    q = queries[i]\n",
    "    print(f\"Query: {q}\")\n",
    "    getprint(res)"
   ]
  },
  {
   "cell_type": "markdown",
   "id": "709a6cca",
   "metadata": {
    "slideshow": {
     "slide_type": "subslide"
    }
   },
   "source": [
    "With this Cohere model, Weaviate speaks..."
   ]
  },
  {
   "cell_type": "markdown",
   "id": "4dc0ed6a",
   "metadata": {
    "slideshow": {
     "slide_type": "fragment"
    }
   },
   "source": [
    "**more than 100** languages."
   ]
  },
  {
   "cell_type": "markdown",
   "id": "ebc62092",
   "metadata": {
    "slideshow": {
     "slide_type": "slide"
    }
   },
   "source": [
    "## More than just search"
   ]
  },
  {
   "cell_type": "markdown",
   "id": "1b2797f8",
   "metadata": {
    "slideshow": {
     "slide_type": "fragment"
    }
   },
   "source": [
    "With Weaviate, you can do more than just **retrieve** data. "
   ]
  },
  {
   "cell_type": "markdown",
   "id": "62674498",
   "metadata": {
    "slideshow": {
     "slide_type": "fragment"
    }
   },
   "source": [
    "Weaviate + modern AI tools → **dynamic** data."
   ]
  },
  {
   "cell_type": "markdown",
   "id": "09934bb4",
   "metadata": {
    "slideshow": {
     "slide_type": "slide"
    }
   },
   "source": [
    "### Question answering"
   ]
  },
  {
   "cell_type": "code",
   "execution_count": 11,
   "id": "5e9b4e9f",
   "metadata": {
    "slideshow": {
     "slide_type": "fragment"
    }
   },
   "outputs": [],
   "source": [
    "ask = {\n",
    "  \"question\": \"How many races has Lewis Hamilton won?\",\n",
    "  \"properties\": [\"wiki_summary\"]\n",
    "}\n",
    "\n",
    "res = (\n",
    "  client.query\n",
    "  .get(\"WikiArticle\", [\n",
    "      \"title\", \n",
    "      \"_additional {answer {hasAnswer property result startPosition endPosition} }\"\n",
    "  ])\n",
    "  .with_ask(ask)\n",
    "  .with_limit(1)\n",
    "  .do()\n",
    ")"
   ]
  },
  {
   "cell_type": "code",
   "execution_count": 12,
   "id": "f02cef31",
   "metadata": {
    "slideshow": {
     "slide_type": "subslide"
    }
   },
   "outputs": [
    {
     "name": "stdout",
     "output_type": "stream",
     "text": [
      "[\n",
      "  {\n",
      "    \"_additional\": {\n",
      "      \"answer\": {\n",
      "        \"endPosition\": 0,\n",
      "        \"hasAnswer\": true,\n",
      "        \"property\": \"\",\n",
      "        \"result\": \" 103\",\n",
      "        \"startPosition\": 0\n",
      "      }\n",
      "    },\n",
      "    \"title\": \"Lewis Hamilton\"\n",
      "  }\n",
      "]\n"
     ]
    }
   ],
   "source": [
    "print(json.dumps(res[\"data\"][\"Get\"][\"WikiArticle\"], indent=2))"
   ]
  },
  {
   "cell_type": "code",
   "execution_count": 13,
   "id": "0bb27883",
   "metadata": {
    "slideshow": {
     "slide_type": "subslide"
    }
   },
   "outputs": [],
   "source": [
    "ask = {\n",
    "  \"question\": \"Which cities have hosted the Olympics?\",\n",
    "  \"properties\": [\"wiki_summary\"]\n",
    "}\n",
    "\n",
    "res = (\n",
    "  client.query\n",
    "  .get(\"WikiCity\", [\n",
    "      \"city_name\", \n",
    "      \"_additional {answer {hasAnswer property result} }\"\n",
    "  ])\n",
    "  .with_ask(ask)\n",
    "  .with_limit(20)\n",
    "  .do()\n",
    ")"
   ]
  },
  {
   "cell_type": "code",
   "execution_count": 14,
   "id": "a2f2723a",
   "metadata": {
    "scrolled": true
   },
   "outputs": [
    {
     "data": {
      "text/plain": [
       "{'data': {'Get': {'WikiCity': [{'_additional': {'answer': {'hasAnswer': False,\n",
       "       'property': None,\n",
       "       'result': None}},\n",
       "     'city_name': 'Kōbe'},\n",
       "    {'_additional': {'answer': {'hasAnswer': True,\n",
       "       'property': 'wiki_summary',\n",
       "       'result': ' Sapporo hosted the 1972 Winter Olympics, the first Winter Olympics ever held in Asia'}},\n",
       "     'city_name': 'Sapporo'},\n",
       "    {'_additional': {'answer': {'hasAnswer': False,\n",
       "       'property': None,\n",
       "       'result': None}},\n",
       "     'city_name': 'Lima'},\n",
       "    {'_additional': {'answer': {'hasAnswer': False,\n",
       "       'property': None,\n",
       "       'result': None}},\n",
       "     'city_name': 'Paris'},\n",
       "    {'_additional': {'answer': {'hasAnswer': True,\n",
       "       'property': '',\n",
       "       'result': ' Tokyo has hosted the Olympics three times: in 1964, 2020 (postponed'}},\n",
       "     'city_name': 'Tokyo'},\n",
       "    {'_additional': {'answer': {'hasAnswer': False,\n",
       "       'property': None,\n",
       "       'result': None}},\n",
       "     'city_name': 'Rome'},\n",
       "    {'_additional': {'answer': {'hasAnswer': True,\n",
       "       'property': '',\n",
       "       'result': ' Beijing and Shanghai'}},\n",
       "     'city_name': 'Beijing'},\n",
       "    {'_additional': {'answer': {'hasAnswer': True,\n",
       "       'property': '',\n",
       "       'result': ' Rio de Janeiro, Brazil; Tokyo, Japan; and Beijing, China.'}},\n",
       "     'city_name': 'Rio de Janeiro'},\n",
       "    {'_additional': {'answer': {'hasAnswer': False,\n",
       "       'property': None,\n",
       "       'result': None}},\n",
       "     'city_name': 'Kyōto'},\n",
       "    {'_additional': {'answer': {'hasAnswer': False,\n",
       "       'property': None,\n",
       "       'result': None}},\n",
       "     'city_name': 'London'},\n",
       "    {'_additional': {'answer': {'hasAnswer': False,\n",
       "       'property': None,\n",
       "       'result': None}},\n",
       "     'city_name': 'Istanbul'},\n",
       "    {'_additional': {'answer': {'hasAnswer': False,\n",
       "       'property': None,\n",
       "       'result': None}},\n",
       "     'city_name': 'Ōsaka'},\n",
       "    {'_additional': {'answer': {'hasAnswer': False,\n",
       "       'property': None,\n",
       "       'result': None}},\n",
       "     'city_name': 'Moscow'},\n",
       "    {'_additional': {'answer': {'hasAnswer': True,\n",
       "       'property': '',\n",
       "       'result': ' Belo Horizonte has not hosted the Olympics.'}},\n",
       "     'city_name': 'Belo Horizonte'},\n",
       "    {'_additional': {'answer': {'hasAnswer': True,\n",
       "       'property': '',\n",
       "       'result': ' Sydney has hosted the Olympics.'}},\n",
       "     'city_name': 'Sydney'},\n",
       "    {'_additional': {'answer': {'hasAnswer': False,\n",
       "       'property': None,\n",
       "       'result': None}},\n",
       "     'city_name': 'Belgrade'},\n",
       "    {'_additional': {'answer': {'hasAnswer': True,\n",
       "       'property': '',\n",
       "       'result': ' Seoul has hosted the 1988 Summer Olympics.'}},\n",
       "     'city_name': 'Seoul'},\n",
       "    {'_additional': {'answer': {'hasAnswer': False,\n",
       "       'property': None,\n",
       "       'result': None}},\n",
       "     'city_name': 'Chicago'},\n",
       "    {'_additional': {'answer': {'hasAnswer': True,\n",
       "       'property': '',\n",
       "       'result': ' Los Angeles has hosted the Olympics in 1932 and 1984 and will host the 2028'}},\n",
       "     'city_name': 'Los Angeles'},\n",
       "    {'_additional': {'answer': {'hasAnswer': True,\n",
       "       'property': '',\n",
       "       'result': ' Ulaanbaatar has not hosted the Olympics.'}},\n",
       "     'city_name': 'Ulaanbaatar'}]}}}"
      ]
     },
     "execution_count": 14,
     "metadata": {},
     "output_type": "execute_result"
    }
   ],
   "source": [
    "res"
   ]
  },
  {
   "cell_type": "code",
   "execution_count": 15,
   "id": "9cc37bc3",
   "metadata": {
    "slideshow": {
     "slide_type": "subslide"
    }
   },
   "outputs": [
    {
     "name": "stdout",
     "output_type": "stream",
     "text": [
      "Sapporo\n",
      " Sapporo hosted the 1972 Winter Olympics, the first Winter Olympics ever held in Asia\n",
      "Tokyo\n",
      " Tokyo has hosted the Olympics three times: in 1964, 2020 (postponed\n",
      "Beijing\n",
      " Beijing and Shanghai\n",
      "Rio de Janeiro\n",
      " Rio de Janeiro, Brazil; Tokyo, Japan; and Beijing, China.\n",
      "Sydney\n",
      " Sydney has hosted the Olympics.\n",
      "Seoul\n",
      " Seoul has hosted the 1988 Summer Olympics.\n",
      "Los Angeles\n",
      " Los Angeles has hosted the Olympics in 1932 and 1984 and will host the 2028\n"
     ]
    }
   ],
   "source": [
    "for d in res[\"data\"][\"Get\"][\"WikiCity\"]:\n",
    "    if d[\"_additional\"][\"answer\"][\"hasAnswer\"] and \"not\" not in d[\"_additional\"][\"answer\"][\"result\"]:\n",
    "        print(d[\"city_name\"])\n",
    "        print(d[\"_additional\"][\"answer\"][\"result\"])"
   ]
  },
  {
   "cell_type": "markdown",
   "id": "73e5b09c",
   "metadata": {
    "slideshow": {
     "slide_type": "slide"
    }
   },
   "source": [
    "### Search + Generative model\n",
    "\n",
    "Search + `generative-openai` module → **magic**"
   ]
  },
  {
   "cell_type": "markdown",
   "id": "572597d1",
   "metadata": {
    "slideshow": {
     "slide_type": "subslide"
    }
   },
   "source": [
    "Transform information like:"
   ]
  },
  {
   "cell_type": "code",
   "execution_count": 16,
   "id": "57e36570",
   "metadata": {
    "slideshow": {
     "slide_type": "-"
    }
   },
   "outputs": [],
   "source": [
    "res = client.query.get(\n",
    "    \"WikiCity\", [\"city_name\", \"wiki_summary\"]\n",
    ").with_near_text({\n",
    "    \"concepts\": [\"Popular European tourist destination\"]\n",
    "}).with_limit(5).with_generate(\n",
    "    single_prompt=\\\n",
    "    \"Write a tweet with a potentially surprising fact from {wiki_summary}\"\n",
    ").do()"
   ]
  },
  {
   "cell_type": "code",
   "execution_count": 17,
   "id": "0a3f811c",
   "metadata": {
    "slideshow": {
     "slide_type": "subslide"
    }
   },
   "outputs": [
    {
     "name": "stdout",
     "output_type": "stream",
     "text": [
      "Did you know that Budapest has the largest thermal water cave system in the world? With around 80 geothermal springs, it's no wonder the city is known for its relaxing thermal baths! #Budapest #travel #funfact \n",
      "\n",
      "Did you know that Warsaw is home to the tallest building in the European Union? Varso Place stands at 310 meters tall and is just one of the many architectural wonders in this alpha global city. #Warsaw #architecture #EU \n",
      "\n",
      "Did you know that Paris is the fourth-most populated city in the European Union and the 30th most densely populated city in the world? With a population of over 2 million, it's no wonder it's known as the City of Light! #ParisFacts #CityofLight #SurprisingFacts \n",
      "\n",
      "Did you know that Berlin is home to the world's most visited zoo, the Zoological Garden? With over 3.3 million visitors annually, it's a must-see attraction for animal lovers visiting the city! 🦁🐯🐻 #BerlinFacts #TravelTrivia \n",
      "\n",
      "Did you know that Istanbul was founded in the 7th century BCE by Greek settlers from Megara and served as an imperial capital for almost 1600 years? It's no wonder it's the largest city in Turkey and the most populous European city! #Istanbul #history #culture \n",
      "\n"
     ]
    }
   ],
   "source": [
    "for wa in res[\"data\"][\"Get\"][\"WikiCity\"]:\n",
    "    print(wa[\"_additional\"][\"generate\"][\"singleResult\"], \"\\n\")"
   ]
  },
  {
   "cell_type": "markdown",
   "id": "6d45cf89",
   "metadata": {
    "slideshow": {
     "slide_type": "subslide"
    }
   },
   "source": [
    "Reduce the amount of work in aggregating and summarizing information."
   ]
  },
  {
   "cell_type": "code",
   "execution_count": 18,
   "id": "5fd92411",
   "metadata": {
    "slideshow": {
     "slide_type": "-"
    }
   },
   "outputs": [],
   "source": [
    "res = client.query.get(\n",
    "    \"MultiLingualReview\", ['review_body', 'review_title', 'product_category']\n",
    ").with_near_text({\n",
    "    \"concepts\": [\"unhappy with seller\"]\n",
    "}).with_limit(20).with_generate(\n",
    "    grouped_task=\\\n",
    "    \"What are some of the top reasons cited for being unhappy\" + \\\n",
    "    \"based on this passage? Do not cite any additional inferred ideas.\"\n",
    ").do()"
   ]
  },
  {
   "cell_type": "code",
   "execution_count": 19,
   "id": "44994590",
   "metadata": {
    "slideshow": {
     "slide_type": "subslide"
    }
   },
   "outputs": [
    {
     "name": "stdout",
     "output_type": "stream",
     "text": [
      "Receiving the product\n",
      "Do Not Buy from This Seller\n",
      "El producto no ha llegado\n",
      "Didn't recieve\n",
      "Horrible\n",
      "Keine Ware erhalten\n",
      "Probably getting ripped off haven’t received yet\n",
      "You shipped wrong size\n",
      "Replaced item\n",
      "Not working\n",
      "DON'T BUY\n",
      "Satisfied\n",
      "Produkt nicht erhalten\n",
      "Produkt nicht da\n",
      "Defective\n",
      "Reklamation\n",
      "收到错误的商品\n",
      "Entrega no correcta\n",
      "never got the item\n",
      "Precio engañoso\n"
     ]
    }
   ],
   "source": [
    "for r in res[\"data\"][\"Get\"][\"MultiLingualReview\"]:\n",
    "    print(r[\"review_title\"])"
   ]
  },
  {
   "cell_type": "code",
   "execution_count": 20,
   "id": "c21dfaca",
   "metadata": {
    "slideshow": {
     "slide_type": "subslide"
    }
   },
   "outputs": [
    {
     "name": "stdout",
     "output_type": "stream",
     "text": [
      "The top reasons cited for being unhappy based on this passage are: not receiving the product, receiving a defective or wrong product, poor customer service, and not getting a refund or response from the seller. \n",
      "\n"
     ]
    }
   ],
   "source": [
    "print(res[\"data\"][\"Get\"][\"MultiLingualReview\"][0][\"_additional\"][\"generate\"][\"groupedResult\"], \"\\n\")"
   ]
  },
  {
   "cell_type": "markdown",
   "id": "f4842a6c",
   "metadata": {
    "slideshow": {
     "slide_type": "slide"
    }
   },
   "source": [
    "### So... how does it all work?"
   ]
  },
  {
   "cell_type": "markdown",
   "id": "87812688",
   "metadata": {
    "slideshow": {
     "slide_type": "-"
    }
   },
   "source": [
    "Let's take a look."
   ]
  }
 ],
 "metadata": {
  "celltoolbar": "Slideshow",
  "kernelspec": {
   "display_name": "Python 3 (ipykernel)",
   "language": "python",
   "name": "python3"
  },
  "language_info": {
   "codemirror_mode": {
    "name": "ipython",
    "version": 3
   },
   "file_extension": ".py",
   "mimetype": "text/x-python",
   "name": "python",
   "nbconvert_exporter": "python",
   "pygments_lexer": "ipython3",
   "version": "3.10.8"
  },
  "varInspector": {
   "cols": {
    "lenName": 16,
    "lenType": 16,
    "lenVar": 40
   },
   "kernels_config": {
    "python": {
     "delete_cmd_postfix": "",
     "delete_cmd_prefix": "del ",
     "library": "var_list.py",
     "varRefreshCmd": "print(var_dic_list())"
    },
    "r": {
     "delete_cmd_postfix": ") ",
     "delete_cmd_prefix": "rm(",
     "library": "var_list.r",
     "varRefreshCmd": "cat(var_dic_list()) "
    }
   },
   "types_to_exclude": [
    "module",
    "function",
    "builtin_function_or_method",
    "instance",
    "_Feature"
   ],
   "window_display": false
  }
 },
 "nbformat": 4,
 "nbformat_minor": 5
}
