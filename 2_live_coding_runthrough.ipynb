{
 "cells": [
  {
   "cell_type": "markdown",
   "metadata": {},
   "source": [
    "## Live coding - play with real data & Weaviate\n",
    "\n",
    "Let's build our own instance of Weaviate, with real data!\n",
    "\n",
    "We'll load the data from the Pro Git book<sup>*</sup> and go from there:\n",
    "\n",
    "> *Pro Git book, written by Scott Chacon and Ben Straub and published by Apress, licensed under the Creative Commons Attribution Non Commercial Share Alike 3.0 license.\n",
    ">\n",
    "> - https://git-scm.com/book/en/v2\n",
    "> - https://github.com/progit/progit2"
   ]
  },
  {
   "cell_type": "code",
   "execution_count": 1,
   "metadata": {},
   "outputs": [],
   "source": [
    "def get_book_text_objects():\n",
    "    import requests\n",
    "\n",
    "    # Source location\n",
    "    text_objs = list()\n",
    "    api_base_url = 'https://api.github.com/repos/progit/progit2/contents/book'  # Book base URL\n",
    "    chapter_urls = ['/01-introduction/sections', '/02-git-basics/sections']  # List of section URLs\n",
    "\n",
    "    # Loop through book chapters\n",
    "    for chapter_url in chapter_urls:\n",
    "        response = requests.get(api_base_url + chapter_url)  # Get the JSON data for the section files in the chapter\n",
    "\n",
    "        # Loop through inner files (sections)\n",
    "        for file_info in response.json():\n",
    "            if file_info['type'] == 'file':  # Only process files (not directories)\n",
    "                file_response = requests.get(file_info['download_url'])\n",
    "\n",
    "                # Build objects including metadata\n",
    "                chapter_title = file_info['download_url'].split('/')[-3]\n",
    "                filename = file_info['download_url'].split('/')[-1]\n",
    "                text_obj = {\n",
    "                    \"body\": file_response.text,\n",
    "                    \"chapter_title\": chapter_title,\n",
    "                    \"filename\": filename\n",
    "                }\n",
    "                text_objs.append(text_obj)\n",
    "    return text_objs\n",
    "\n",
    "\n",
    "def load_text_files():\n",
    "    from pathlib import Path\n",
    "\n",
    "    data_dir = Path(\"data/pro_git/\")\n",
    "    all_files = []\n",
    "\n",
    "    for file_path in data_dir.rglob(\"*.asc\"):\n",
    "        if file_path.is_file():\n",
    "            all_files.append(file_path)\n",
    "\n",
    "    text_objs = list()\n",
    "    for fpath in all_files:\n",
    "        with fpath.open() as f:\n",
    "            text_obj = {\n",
    "                \"body\": f.read(),\n",
    "                \"chapter_title\": fpath.parent.name,\n",
    "                \"filename\": fpath.name\n",
    "            }    \n",
    "            text_objs.append(text_obj)  \n",
    "            \n",
    "    return text_objs  \n",
    "\n",
    "\n",
    "text_objs = get_book_text_objects()\n",
    "# text_objs = load_text_files()"
   ]
  },
  {
   "cell_type": "code",
   "execution_count": 2,
   "metadata": {},
   "outputs": [
    {
     "data": {
      "text/plain": [
       "[{'body': '=== About Version Control\\n\\n(((version control)))\\nWhat is \"`version control`\", and why should you care?\\nVersion control is a system that records changes to a file or set of files over time so that you can recall specific versions later.\\nFor the examples in this book, you will use software source code as the files being version controlled, though in reality you can do this with nearly any type of file on a computer.\\n\\nIf you are a graphic or web designer and want to keep every version of an image or layout (which you would most certainly want to), a Version Control System (VCS) is a very wise thing to use.\\nIt allows you to revert selected files back to a previous state, revert the entire project back to a previous state, compare changes over time, see who last modified something that might be causing a problem, who introduced an issue and when, and more.\\nUsing a VCS also generally means that if you screw things up or lose files, you can easily recover.\\nIn addition, you get all this for very little overhead.\\n\\n==== Local Version Control Systems\\n\\n(((version control,local)))\\nMany people\\'s version-control method of choice is to copy files into another directory (perhaps a time-stamped directory, if they\\'re clever).\\nThis approach is very common because it is so simple, but it is also incredibly error prone.\\nIt is easy to forget which directory you\\'re in and accidentally write to the wrong file or copy over files you don\\'t mean to.\\n\\nTo deal with this issue, programmers long ago developed local VCSs that had a simple database that kept all the changes to files under revision control.\\n\\n.Local version control diagram\\nimage::images/local.png[Local version control diagram]\\n\\nOne of the most popular VCS tools was a system called RCS, which is still distributed with many computers today.\\nhttps://www.gnu.org/software/rcs/[RCS^] works by keeping patch sets (that is, the differences between files) in a special format on disk; it can then re-create what any file looked like at any point in time by adding up all the patches.\\n\\n==== Centralized Version Control Systems\\n\\n(((version control,centralized)))\\nThe next major issue that people encounter is that they need to collaborate with developers on other systems.\\nTo deal with this problem, Centralized Version Control Systems (CVCSs) were developed.\\nThese systems (such as CVS, Subversion, and Perforce) have a single server that contains all the versioned files, and a number of clients that check out files from that central place.(((CVS)))(((Subversion)))(((Perforce)))\\nFor many years, this has been the standard for version control.\\n\\n.Centralized version control diagram\\nimage::images/centralized.png[Centralized version control diagram]\\n\\nThis setup offers many advantages, especially over local VCSs.\\nFor example, everyone knows to a certain degree what everyone else on the project is doing.\\nAdministrators have fine-grained control over who can do what, and it\\'s far easier to administer a CVCS than it is to deal with local databases on every client.\\n\\nHowever, this setup also has some serious downsides.\\nThe most obvious is the single point of failure that the centralized server represents.\\nIf that server goes down for an hour, then during that hour nobody can collaborate at all or save versioned changes to anything they\\'re working on.\\nIf the hard disk the central database is on becomes corrupted, and proper backups haven\\'t been kept, you lose absolutely everything -- the entire history of the project except whatever single snapshots people happen to have on their local machines.\\nLocal VCSs suffer from this same problem -- whenever you have the entire history of the project in a single place, you risk losing everything.\\n\\n==== Distributed Version Control Systems\\n\\n(((version control,distributed)))\\nThis is where Distributed Version Control Systems (DVCSs) step in.\\nIn a DVCS (such as Git, Mercurial, Bazaar or Darcs), clients don\\'t just check out the latest snapshot of the files; rather, they fully mirror the repository, including its full history.\\nThus, if any server dies, and these systems were collaborating via that server, any of the client repositories can be copied back up to the server to restore it.\\nEvery clone is really a full backup of all the data.\\n\\n.Distributed version control diagram\\nimage::images/distributed.png[Distributed version control diagram]\\n\\nFurthermore, many of these systems deal pretty well with having several remote repositories they can work with, so you can collaborate with different groups of people in different ways simultaneously within the same project.\\nThis allows you to set up several types of workflows that aren\\'t possible in centralized systems, such as hierarchical models.\\n',\n",
       "  'chapter_title': '01-introduction',\n",
       "  'filename': 'about-version-control.asc'},\n",
       " {'body': \"=== The Command Line\\n\\nThere are a lot of different ways to use Git.\\nThere are the original command-line tools, and there are many graphical user interfaces of varying capabilities.\\nFor this book, we will be using Git on the command line.\\nFor one, the command line is the only place you can run _all_ Git commands -- most of the GUIs implement only a partial subset of Git functionality for simplicity.\\nIf you know how to run the command-line version, you can probably also figure out how to run the GUI version, while the opposite is not necessarily true.\\nAlso, while your choice of graphical client is a matter of personal taste, _all_ users will have the command-line tools installed and available.\\n\\nSo we will expect you to know how to open Terminal in macOS or Command Prompt or PowerShell in Windows.\\nIf you don't know what we're talking about here, you may need to stop and research that quickly so that you can follow the rest of the examples and descriptions in this book.\\n\",\n",
       "  'chapter_title': '01-introduction',\n",
       "  'filename': 'command-line.asc'},\n",
       " {'body': '[[_first_time]]\\n=== First-Time Git Setup\\n\\nNow that you have Git on your system, you\\'ll want to do a few things to customize your Git environment.\\nYou should have to do these things only once on any given computer; they\\'ll stick around between upgrades.\\nYou can also change them at any time by running through the commands again.\\n\\nGit comes with a tool called `git config` that lets you get and set configuration variables that control all aspects of how Git looks and operates.(((git commands, config)))\\nThese variables can be stored in three different places:\\n\\n1. `[path]/etc/gitconfig` file: Contains values applied to every user on the system and all their repositories.\\n  If you pass the option `--system` to `git config`, it reads and writes from this file specifically.\\n  Because this is a system configuration file, you would need administrative or superuser privilege to make changes to it.\\n2. `~/.gitconfig` or `~/.config/git/config` file: Values specific personally to you, the user.\\n  You can make Git read and write to this file specifically by passing the `--global` option, and this affects _all_ of the repositories you work with on your system.\\n3. `config` file in the Git directory (that is, `.git/config`) of whatever repository you\\'re currently using: Specific to that single repository.\\n  You can force Git to read from and write to this file with the `--local` option, but that is in fact the default.\\n  Unsurprisingly, you need to be located somewhere in a Git repository for this option to work properly.\\n\\nEach level overrides values in the previous level, so values in `.git/config` trump those in `[path]/etc/gitconfig`.\\n\\nOn Windows systems, Git looks for the `.gitconfig` file in the `$HOME` directory (`C:\\\\Users\\\\$USER` for most people).\\nIt also still looks for `[path]/etc/gitconfig`, although it\\'s relative to the MSys root, which is wherever you decide to install Git on your Windows system when you run the installer.\\nIf you are using version 2.x or later of Git for Windows, there is also a system-level config file at `C:\\\\Documents and Settings\\\\All Users\\\\Application Data\\\\Git\\\\config` on Windows XP, and in `C:\\\\ProgramData\\\\Git\\\\config` on Windows Vista and newer.\\nThis config file can only be changed by `git config -f <file>` as an admin.\\n\\nYou can view all of your settings and where they are coming from using:\\n\\n[source,console]\\n----\\n$ git config --list --show-origin\\n----\\n\\n==== Your Identity\\n\\nThe first thing you should do when you install Git is to set your user name and email address.\\nThis is important because every Git commit uses this information, and it\\'s immutably baked into the commits you start creating:\\n\\n[source,console]\\n----\\n$ git config --global user.name \"John Doe\"\\n$ git config --global user.email johndoe@example.com\\n----\\n\\nAgain, you need to do this only once if you pass the `--global` option, because then Git will always use that information for anything you do on that system.\\nIf you want to override this with a different name or email address for specific projects, you can run the command without the `--global` option when you\\'re in that project.\\n\\nMany of the GUI tools will help you do this when you first run them.\\n\\n[[_editor]]\\n==== Your Editor\\n\\nNow that your identity is set up, you can configure the default text editor that will be used when Git needs you to type in a message.\\nIf not configured, Git uses your system\\'s default editor.\\n\\nIf you want to use a different text editor, such as Emacs, you can do the following:\\n\\n[source,console]\\n----\\n$ git config --global core.editor emacs\\n----\\n\\nOn a Windows system, if you want to use a different text editor, you must specify the full path to its executable file.\\nThis can be different depending on how your editor is packaged.\\n\\nIn the case of Notepad++, a popular programming editor, you are likely to want to use the 32-bit version, since at the time of writing the 64-bit version doesn\\'t support all plug-ins.\\nIf you are on a 32-bit Windows system, or you have a 64-bit editor on a 64-bit system, you\\'ll type something like this:\\n\\n[source,console]\\n----\\n$ git config --global core.editor \"\\'C:/Program Files/Notepad++/notepad++.exe\\' -multiInst -notabbar -nosession -noPlugin\"\\n----\\n\\n[NOTE]\\n====\\nVim, Emacs and Notepad++ are popular text editors often used by developers on Unix-based systems like Linux and macOS or a Windows system.\\nIf you are using another editor, or a 32-bit version, please find specific instructions for how to set up your favorite editor with Git in <<C-git-commands#ch_core_editor>>.\\n====\\n\\n[WARNING]\\n====\\nYou may find, if you don\\'t setup your editor like this, you get into a really confusing state when Git attempts to launch it.\\nAn example on a Windows system may include a prematurely terminated Git operation during a Git initiated edit.\\n====\\n\\n[[_new_default_branch]]\\n==== Your default branch name\\n\\nBy default Git will create a branch called _master_ when you create a new repository with `git init`.\\nFrom Git version 2.28 onwards, you can set a different name for the initial branch.\\n\\nTo set _main_ as the default branch name do:\\n\\n[source,console]\\n----\\n$ git config --global init.defaultBranch main\\n----\\n\\n==== Checking Your Settings\\n\\nIf you want to check your configuration settings, you can use the `git config --list` command to list all the settings Git can find at that point:\\n\\n[source,console]\\n----\\n$ git config --list\\nuser.name=John Doe\\nuser.email=johndoe@example.com\\ncolor.status=auto\\ncolor.branch=auto\\ncolor.interactive=auto\\ncolor.diff=auto\\n...\\n----\\n\\nYou may see keys more than once, because Git reads the same key from different files (`[path]/etc/gitconfig` and `~/.gitconfig`, for example).\\nIn this case, Git uses the last value for each unique key it sees.\\n\\nYou can also check what Git thinks a specific key\\'s value is by typing `git config <key>`:(((git commands, config)))\\n\\n[source,console]\\n----\\n$ git config user.name\\nJohn Doe\\n----\\n\\n[NOTE]\\n====\\nSince Git might read the same configuration variable value from more than one file, it\\'s possible that you have an unexpected value for one of these values and you don\\'t know why.\\nIn cases like that, you can query Git as to the _origin_ for that value, and it will tell you which configuration file had the final say in setting that value:\\n\\n[source,console]\\n----\\n$ git config --show-origin rerere.autoUpdate\\nfile:/home/johndoe/.gitconfig\\tfalse\\n----\\n====\\n',\n",
       "  'chapter_title': '01-introduction',\n",
       "  'filename': 'first-time-setup.asc'},\n",
       " {'body': '[[_git_help]]\\n=== Getting Help\\n\\nIf you ever need help while using Git, there are three equivalent ways to get the comprehensive manual page (manpage) help for any of the Git commands:\\n\\n[source,console]\\n----\\n$ git help <verb>\\n$ git <verb> --help\\n$ man git-<verb>\\n----\\n\\nFor example, you can get the manpage help for the `git config` command by running this:(((git commands, help)))\\n\\n[source,console]\\n----\\n$ git help config\\n----\\n\\nThese commands are nice because you can access them anywhere, even offline.\\nIf the manpages and this book aren\\'t enough and you need in-person help, you can try the `#git`, `#github`, or `#gitlab` channels on the Libera Chat IRC server, which can be found at https://libera.chat/[^].\\nThese channels are regularly filled with hundreds of people who are all very knowledgeable about Git and are often willing to help.(((IRC)))\\n\\nIn addition, if you don\\'t need the full-blown manpage help, but just need a quick refresher on the available options for a Git command, you can ask for the more concise \"`help`\" output with the `-h` option, as in:\\n\\n[source,console]\\n----\\n$ git add -h\\nusage: git add [<options>] [--] <pathspec>...\\n\\n    -n, --dry-run               dry run\\n    -v, --verbose               be verbose\\n\\n    -i, --interactive           interactive picking\\n    -p, --patch                 select hunks interactively\\n    -e, --edit                  edit current diff and apply\\n    -f, --force                 allow adding otherwise ignored files\\n    -u, --update                update tracked files\\n    --renormalize               renormalize EOL of tracked files (implies -u)\\n    -N, --intent-to-add         record only the fact that the path will be added later\\n    -A, --all                   add changes from all tracked and untracked files\\n    --ignore-removal            ignore paths removed in the working tree (same as --no-all)\\n    --refresh                   don\\'t add, only refresh the index\\n    --ignore-errors             just skip files which cannot be added because of errors\\n    --ignore-missing            check if - even missing - files are ignored in dry run\\n    --sparse                    allow updating entries outside of the sparse-checkout cone\\n    --chmod (+|-)x              override the executable bit of the listed files\\n    --pathspec-from-file <file> read pathspec from file\\n    --pathspec-file-nul         with --pathspec-from-file, pathspec elements are separated with NUL character\\n----\\n',\n",
       "  'chapter_title': '01-introduction',\n",
       "  'filename': 'help.asc'},\n",
       " {'body': \"=== A Short History of Git\\n\\nAs with many great things in life, Git began with a bit of creative destruction and fiery controversy.\\n\\nThe Linux kernel is an open source software project of fairly large scope.(((Linux)))\\nDuring the early years of the Linux kernel maintenance (1991–2002), changes to the software were passed around as patches and archived files.\\nIn 2002, the Linux kernel project began using a proprietary DVCS called BitKeeper.(((BitKeeper)))\\n\\nIn 2005, the relationship between the community that developed the Linux kernel and the commercial company that developed BitKeeper broke down, and the tool's free-of-charge status was revoked.\\nThis prompted the Linux development community (and in particular Linus Torvalds, the creator of Linux) to develop their own tool based on some of the lessons they learned while using BitKeeper.(((Linus Torvalds)))\\nSome of the goals of the new system were as follows:\\n\\n* Speed\\n* Simple design\\n* Strong support for non-linear development (thousands of parallel branches)\\n* Fully distributed\\n* Able to handle large projects like the Linux kernel efficiently (speed and data size)\\n\\nSince its birth in 2005, Git has evolved and matured to be easy to use and yet retain these initial qualities.\\nIt's amazingly fast, it's very efficient with large projects, and it has an incredible branching system for non-linear development (see <<ch03-git-branching#ch03-git-branching>>).\\n\",\n",
       "  'chapter_title': '01-introduction',\n",
       "  'filename': 'history.asc'},\n",
       " {'body': \"=== Installing Git\\n\\nBefore you start using Git, you have to make it available on your computer.\\nEven if it's already installed, it's probably a good idea to update to the latest version.\\nYou can either install it as a package or via another installer, or download the source code and compile it yourself.\\n\\n[NOTE]\\n====\\nThis book was written using Git version 2.\\nSince Git is quite excellent at preserving backwards compatibility, any recent version should work just fine.\\nThough most of the commands we use should work even in ancient versions of Git, some of them might not or might act slightly differently.\\n====\\n\\n==== Installing on Linux\\n\\n(((Linux, installing)))\\nIf you want to install the basic Git tools on Linux via a binary installer, you can generally do so through the package management tool that comes with your distribution.\\nIf you're on Fedora (or any closely-related RPM-based distribution, such as RHEL or CentOS), you can use `dnf`:\\n\\n[source,console]\\n----\\n$ sudo dnf install git-all\\n----\\n\\nIf you're on a Debian-based distribution, such as Ubuntu, try `apt`:\\n\\n[source,console]\\n----\\n$ sudo apt install git-all\\n----\\n\\nFor more options, there are instructions for installing on several different Unix distributions on the Git website, at https://git-scm.com/download/linux[^].\\n\\n==== Installing on macOS\\n\\n(((macOS, installing)))\\nThere are several ways to install Git on macOS.\\nThe easiest is probably to install the Xcode Command Line Tools.(((Xcode)))\\nOn Mavericks (10.9) or above you can do this simply by trying to run `git` from the Terminal the very first time.\\n\\n[source,console]\\n----\\n$ git --version\\n----\\n\\nIf you don't have it installed already, it will prompt you to install it.\\n\\nIf you want a more up to date version, you can also install it via a binary installer.\\nA macOS Git installer is maintained and available for download at the Git website, at https://git-scm.com/download/mac[^].\\n\\n.Git macOS installer\\nimage::images/git-osx-installer.png[Git macOS installer]\\n\\n==== Installing on Windows\\n\\nThere are also a few ways to install Git on Windows.(((Windows, installing)))\\nThe most official build is available for download on the Git website.\\nJust go to https://git-scm.com/download/win[^] and the download will start automatically.\\nNote that this is a project called Git for Windows, which is separate from Git itself; for more information on it, go to https://gitforwindows.org[^].\\n\\nTo get an automated installation you can use the https://community.chocolatey.org/packages/git[Git Chocolatey package^].\\nNote that the Chocolatey package is community maintained.\\n\\n==== Installing from Source\\n\\nSome people may instead find it useful to install Git from source, because you'll get the most recent version.\\nThe binary installers tend to be a bit behind, though as Git has matured in recent years, this has made less of a difference.\\n\\nIf you do want to install Git from source, you need to have the following libraries that Git depends on: autotools, curl, zlib, openssl, expat, and libiconv.\\nFor example, if you're on a system that has `dnf` (such as Fedora) or `apt-get` (such as a Debian-based system), you can use one of these commands to install the minimal dependencies for compiling and installing the Git binaries:\\n\\n[source,console]\\n----\\n$ sudo dnf install dh-autoreconf curl-devel expat-devel gettext-devel \\\\\\n  openssl-devel perl-devel zlib-devel\\n$ sudo apt-get install dh-autoreconf libcurl4-gnutls-dev libexpat1-dev \\\\\\n  gettext libz-dev libssl-dev\\n----\\n\\nIn order to be able to add the documentation in various formats (doc, html, info), these additional dependencies are required:\\n\\n[source,console]\\n----\\n$ sudo dnf install asciidoc xmlto docbook2X\\n$ sudo apt-get install asciidoc xmlto docbook2x\\n----\\n\\n[NOTE]\\n====\\nUsers of RHEL and RHEL-derivatives like CentOS and Scientific Linux will have to https://docs.fedoraproject.org/en-US/epel/#how_can_i_use_these_extra_packages[enable the EPEL repository^] to download the `docbook2X` package.\\n====\\n\\nIf you're using a Debian-based distribution (Debian/Ubuntu/Ubuntu-derivatives), you also need the `install-info` package:\\n\\n[source,console]\\n----\\n$ sudo apt-get install install-info\\n----\\n\\nIf you're using a RPM-based distribution (Fedora/RHEL/RHEL-derivatives), you also need the `getopt` package (which is already installed on a Debian-based distro):\\n\\n[source,console]\\n----\\n$ sudo dnf install getopt\\n----\\n\\nAdditionally, if you're using Fedora/RHEL/RHEL-derivatives, you need to do this:\\n\\n[source,console]\\n----\\n$ sudo ln -s /usr/bin/db2x_docbook2texi /usr/bin/docbook2x-texi\\n----\\n\\ndue to binary name differences.\\n\\nWhen you have all the necessary dependencies, you can go ahead and grab the latest tagged release tarball from several places.\\nYou can get it via the kernel.org site, at https://www.kernel.org/pub/software/scm/git[^], or the mirror on the GitHub website, at https://github.com/git/git/tags[^].\\nIt's generally a little clearer what the latest version is on the GitHub page, but the kernel.org page also has release signatures if you want to verify your download.\\n\\nThen, compile and install:\\n\\n[source,console]\\n----\\n$ tar -zxf git-2.8.0.tar.gz\\n$ cd git-2.8.0\\n$ make configure\\n$ ./configure --prefix=/usr\\n$ make all doc info\\n$ sudo make install install-doc install-html install-info\\n----\\n\\nAfter this is done, you can also get Git via Git itself for updates:\\n\\n[source,console]\\n----\\n$ git clone https://git.kernel.org/pub/scm/git/git.git\\n----\\n\",\n",
       "  'chapter_title': '01-introduction',\n",
       "  'filename': 'installing.asc'},\n",
       " {'body': '[[what_is_git_section]]\\n=== What is Git?\\n\\nSo, what is Git in a nutshell?\\nThis is an important section to absorb, because if you understand what Git is and the fundamentals of how it works, then using Git effectively will probably be much easier for you.\\nAs you learn Git, try to clear your mind of the things you may know about other VCSs, such as CVS, Subversion or Perforce -- doing so will help you avoid subtle confusion when using the tool.\\nEven though Git\\'s user interface is fairly similar to these other VCSs, Git stores and thinks about information in a very different way, and understanding these differences will help you avoid becoming confused while using it.(((Subversion)))(((Perforce)))\\n\\n==== Snapshots, Not Differences\\n\\nThe major difference between Git and any other VCS (Subversion and friends included) is the way Git thinks about its data.\\nConceptually, most other systems store information as a list of file-based changes.\\nThese other systems (CVS, Subversion, Perforce, Bazaar, and so on) think of the information they store as a set of files and the changes made to each file over time (this is commonly described as _delta-based_ version control).\\n\\n.Storing data as changes to a base version of each file\\nimage::images/deltas.png[Storing data as changes to a base version of each file]\\n\\nGit doesn\\'t think of or store its data this way.\\nInstead, Git thinks of its data more like a series of snapshots of a miniature filesystem.\\nWith Git, every time you commit, or save the state of your project, Git basically takes a picture of what all your files look like at that moment and stores a reference to that snapshot.\\nTo be efficient, if files have not changed, Git doesn\\'t store the file again, just a link to the previous identical file it has already stored.\\nGit thinks about its data more like a *stream of snapshots*.\\n\\n.Storing data as snapshots of the project over time\\nimage::images/snapshots.png[Git stores data as snapshots of the project over time]\\n\\nThis is an important distinction between Git and nearly all other VCSs.\\nIt makes Git reconsider almost every aspect of version control that most other systems copied from the previous generation.\\nThis makes Git more like a mini filesystem with some incredibly powerful tools built on top of it, rather than simply a VCS.\\nWe\\'ll explore some of the benefits you gain by thinking of your data this way when we cover Git branching in <<ch03-git-branching#ch03-git-branching>>.\\n\\n==== Nearly Every Operation Is Local\\n\\nMost operations in Git need only local files and resources to operate -- generally no information is needed from another computer on your network.\\nIf you\\'re used to a CVCS where most operations have that network latency overhead, this aspect of Git will make you think that the gods of speed have blessed Git with unworldly powers.\\nBecause you have the entire history of the project right there on your local disk, most operations seem almost instantaneous.\\n\\nFor example, to browse the history of the project, Git doesn\\'t need to go out to the server to get the history and display it for you -- it simply reads it directly from your local database.\\nThis means you see the project history almost instantly.\\nIf you want to see the changes introduced between the current version of a file and the file a month ago, Git can look up the file a month ago and do a local difference calculation, instead of having to either ask a remote server to do it or pull an older version of the file from the remote server to do it locally.\\n\\nThis also means that there is very little you can\\'t do if you\\'re offline or off VPN.\\nIf you get on an airplane or a train and want to do a little work, you can commit happily (to your _local_ copy, remember?) until you get to a network connection to upload.\\nIf you go home and can\\'t get your VPN client working properly, you can still work.\\nIn many other systems, doing so is either impossible or painful.\\nIn Perforce, for example, you can\\'t do much when you aren\\'t connected to the server; in Subversion and CVS, you can edit files, but you can\\'t commit changes to your database (because your database is offline).\\nThis may not seem like a huge deal, but you may be surprised what a big difference it can make.\\n\\n==== Git Has Integrity\\n\\nEverything in Git is checksummed before it is stored and is then referred to by that checksum.\\nThis means it\\'s impossible to change the contents of any file or directory without Git knowing about it.\\nThis functionality is built into Git at the lowest levels and is integral to its philosophy.\\nYou can\\'t lose information in transit or get file corruption without Git being able to detect it.\\n\\nThe mechanism that Git uses for this checksumming is called a SHA-1 hash.(((SHA-1)))\\nThis is a 40-character string composed of hexadecimal characters (0–9 and a–f) and calculated based on the contents of a file or directory structure in Git.\\nA SHA-1 hash looks something like this:\\n\\n[source]\\n----\\n24b9da6552252987aa493b52f8696cd6d3b00373\\n----\\n\\nYou will see these hash values all over the place in Git because it uses them so much.\\nIn fact, Git stores everything in its database not by file name but by the hash value of its contents.\\n\\n==== Git Generally Only Adds Data\\n\\nWhen you do actions in Git, nearly all of them only _add_ data to the Git database.\\nIt is hard to get the system to do anything that is not undoable or to make it erase data in any way.\\nAs with any VCS, you can lose or mess up changes you haven\\'t committed yet, but after you commit a snapshot into Git, it is very difficult to lose, especially if you regularly push your database to another repository.\\n\\nThis makes using Git a joy because we know we can experiment without the danger of severely screwing things up.\\nFor a more in-depth look at how Git stores its data and how you can recover data that seems lost, see <<ch02-git-basics-chapter#_undoing>>.\\n\\n==== The Three States\\n\\nPay attention now -- here is the main thing to remember about Git if you want the rest of your learning process to go smoothly.\\nGit has three main states that your files can reside in: _modified_, _staged_, and _committed_:\\n\\n* Modified means that you have changed the file but have not committed it to your database yet.\\n* Staged means that you have marked a modified file in its current version to go into your next commit snapshot.\\n* Committed means that the data is safely stored in your local database.\\n\\nThis leads us to the three main sections of a Git project: the working tree, the staging area, and the Git directory.\\n\\n.Working tree, staging area, and Git directory\\nimage::images/areas.png[\"Working tree, staging area, and Git directory\"]\\n\\nThe working tree is a single checkout of one version of the project.\\nThese files are pulled out of the compressed database in the Git directory and placed on disk for you to use or modify.\\n\\nThe staging area is a file, generally contained in your Git directory, that stores information about what will go into your next commit.\\nIts technical name in Git parlance is the \"`index`\", but the phrase \"`staging area`\" works just as well.\\n\\nThe Git directory is where Git stores the metadata and object database for your project.\\nThis is the most important part of Git, and it is what is copied when you _clone_ a repository from another computer.\\n\\nThe basic Git workflow goes something like this:\\n\\n1. You modify files in your working tree.\\n2. You selectively stage just those changes you want to be part of your next commit, which adds _only_ those changes to the staging area.\\n3. You do a commit, which takes the files as they are in the staging area and stores that snapshot permanently to your Git directory.\\n\\nIf a particular version of a file is in the Git directory, it\\'s considered _committed_.\\nIf it has been modified and was added to the staging area, it is _staged_.\\nAnd if it was changed since it was checked out but has not been staged, it is _modified_.\\nIn <<ch02-git-basics-chapter#ch02-git-basics-chapter>>, you\\'ll learn more about these states and how you can either take advantage of them or skip the staged part entirely.\\n',\n",
       "  'chapter_title': '01-introduction',\n",
       "  'filename': 'what-is-git.asc'},\n",
       " {'body': \"[[_git_aliases]]\\n=== Git Aliases\\n\\n(((aliases)))\\nBefore we move on to the next chapter, we want to introduce a feature that can make your Git experience simpler, easier, and more familiar: aliases.\\nFor clarity's sake, we won't be using them anywhere else in this book, but if you go on to use Git with any regularity, aliases are something you should know about.\\n\\nGit doesn't automatically infer your command if you type it in partially.\\nIf you don't want to type the entire text of each of the Git commands, you can easily set up an alias for each command using `git config`.(((git commands, config)))\\nHere are a couple of examples you may want to set up:\\n\\n[source,console]\\n----\\n$ git config --global alias.co checkout\\n$ git config --global alias.br branch\\n$ git config --global alias.ci commit\\n$ git config --global alias.st status\\n----\\n\\nThis means that, for example, instead of typing `git commit`, you just need to type `git ci`.\\nAs you go on using Git, you'll probably use other commands frequently as well; don't hesitate to create new aliases.\\n\\nThis technique can also be very useful in creating commands that you think should exist.\\nFor example, to correct the usability problem you encountered with unstaging a file, you can add your own unstage alias to Git:\\n\\n[source,console]\\n----\\n$ git config --global alias.unstage 'reset HEAD --'\\n----\\n\\nThis makes the following two commands equivalent:\\n\\n[source,console]\\n----\\n$ git unstage fileA\\n$ git reset HEAD -- fileA\\n----\\n\\nThis seems a bit clearer.\\nIt's also common to add a `last` command, like this:\\n\\n[source,console]\\n----\\n$ git config --global alias.last 'log -1 HEAD'\\n----\\n\\nThis way, you can see the last commit easily:\\n\\n[source,console]\\n----\\n$ git last\\ncommit 66938dae3329c7aebe598c2246a8e6af90d04646\\nAuthor: Josh Goebel <dreamer3@example.com>\\nDate:   Tue Aug 26 19:48:51 2008 +0800\\n\\n    Test for current head\\n\\n    Signed-off-by: Scott Chacon <schacon@example.com>\\n----\\n\\nAs you can tell, Git simply replaces the new command with whatever you alias it for.\\nHowever, maybe you want to run an external command, rather than a Git subcommand.\\nIn that case, you start the command with a `!` character.\\nThis is useful if you write your own tools that work with a Git repository.\\nWe can demonstrate by aliasing `git visual` to run `gitk`:\\n\\n[source,console]\\n----\\n$ git config --global alias.visual '!gitk'\\n----\\n\",\n",
       "  'chapter_title': '02-git-basics',\n",
       "  'filename': 'aliases.asc'},\n",
       " {'body': '[[_getting_a_repo]]\\n=== Getting a Git Repository\\n\\nYou typically obtain a Git repository in one of two ways:\\n\\n1. You can take a local directory that is currently not under version control, and turn it into a Git repository, or\\n2. You can _clone_ an existing Git repository from elsewhere.\\n\\nIn either case, you end up with a Git repository on your local machine, ready for work.\\n\\n==== Initializing a Repository in an Existing Directory\\n\\nIf you have a project directory that is currently not under version control and you want to start controlling it with Git, you first need to go to that project\\'s directory.\\nIf you\\'ve never done this, it looks a little different depending on which system you\\'re running:\\n\\nfor Linux:\\n[source,console]\\n----\\n$ cd /home/user/my_project\\n----\\nfor macOS:\\n[source,console]\\n----\\n$ cd /Users/user/my_project\\n----\\nfor Windows:\\n[source,console]\\n----\\n$ cd C:/Users/user/my_project\\n----\\n\\nand type:\\n\\n[source,console]\\n----\\n$ git init\\n----\\n\\nThis creates a new subdirectory named `.git` that contains all of your necessary repository files -- a Git repository skeleton.\\nAt this point, nothing in your project is tracked yet.\\nSee <<ch10-git-internals#ch10-git-internals>> for more information about exactly what files are contained in the `.git` directory you just created.(((git commands, init)))\\n\\nIf you want to start version-controlling existing files (as opposed to an empty directory), you should probably begin tracking those files and do an initial commit.\\nYou can accomplish that with a few `git add` commands that specify the files you want to track, followed by a `git commit`:\\n\\n[source,console]\\n----\\n$ git add *.c\\n$ git add LICENSE\\n$ git commit -m \\'Initial project version\\'\\n----\\n\\nWe\\'ll go over what these commands do in just a minute.\\nAt this point, you have a Git repository with tracked files and an initial commit.\\n\\n[[_git_cloning]]\\n==== Cloning an Existing Repository\\n\\nIf you want to get a copy of an existing Git repository -- for example, a project you\\'d like to contribute to -- the command you need is `git clone`.\\nIf you\\'re familiar with other VCSs such as Subversion, you\\'ll notice that the command is \"clone\" and not \"checkout\".\\nThis is an important distinction -- instead of getting just a working copy, Git receives a full copy of nearly all data that the server has.\\nEvery version of every file for the history of the project is pulled down by default when you run `git clone`.\\nIn fact, if your server disk gets corrupted, you can often use nearly any of the clones on any client to set the server back to the state it was in when it was cloned (you may lose some server-side hooks and such, but all the versioned data would be there -- see <<ch04-git-on-the-server#_getting_git_on_a_server>> for more details).\\n\\nYou clone a repository with `git clone <url>`.(((git commands, clone)))\\nFor example, if you want to clone the Git linkable library called `libgit2`, you can do so like this:\\n\\n[source,console]\\n----\\n$ git clone https://github.com/libgit2/libgit2\\n----\\n\\nThat creates a directory named `libgit2`, initializes a `.git` directory inside it, pulls down all the data for that repository, and checks out a working copy of the latest version.\\nIf you go into the new `libgit2` directory that was just created, you\\'ll see the project files in there, ready to be worked on or used.\\n\\nIf you want to clone the repository into a directory named something other than `libgit2`, you can specify the new directory name as an additional argument:\\n\\n[source,console]\\n----\\n$ git clone https://github.com/libgit2/libgit2 mylibgit\\n----\\n\\nThat command does the same thing as the previous one, but the target directory is called `mylibgit`.\\n\\nGit has a number of different transfer protocols you can use.\\nThe previous example uses the `https://` protocol, but you may also see `git://` or `user@server:path/to/repo.git`, which uses the SSH transfer protocol.\\n<<ch04-git-on-the-server#_getting_git_on_a_server>> will introduce all of the available options the server can set up to access your Git repository and the pros and cons of each.\\n',\n",
       "  'chapter_title': '02-git-basics',\n",
       "  'filename': 'getting-a-repository.asc'},\n",
       " {'body': '=== Recording Changes to the Repository\\n\\nAt this point, you should have a _bona fide_ Git repository on your local machine, and a checkout or _working copy_ of all of its files in front of you.\\nTypically, you\\'ll want to start making changes and committing snapshots of those changes into your repository each time the project reaches a state you want to record.\\n\\nRemember that each file in your working directory can be in one of two states: _tracked_ or _untracked_.\\nTracked files are files that were in the last snapshot, as well as any newly staged files; they can be unmodified, modified, or staged.\\nIn short, tracked files are files that Git knows about.\\n\\nUntracked files are everything else -- any files in your working directory that were not in your last snapshot and are not in your staging area.\\nWhen you first clone a repository, all of your files will be tracked and unmodified because Git just checked them out and you haven\\'t edited anything.\\n\\nAs you edit files, Git sees them as modified, because you\\'ve changed them since your last commit.\\nAs you work, you selectively stage these modified files and then commit all those staged changes, and the cycle repeats.\\n\\n.The lifecycle of the status of your files\\nimage::images/lifecycle.png[The lifecycle of the status of your files]\\n\\n[[_checking_status]]\\n==== Checking the Status of Your Files\\n\\nThe main tool you use to determine which files are in which state is the `git status` command.(((git commands, status)))\\nIf you run this command directly after a clone, you should see something like this:\\n\\n[source,console]\\n----\\n$ git status\\nOn branch master\\nYour branch is up-to-date with \\'origin/master\\'.\\nnothing to commit, working tree clean\\n----\\n\\nThis means you have a clean working directory; in other words, none of your tracked files are modified.\\nGit also doesn\\'t see any untracked files, or they would be listed here.\\nFinally, the command tells you which branch you\\'re on and informs you that it has not diverged from the same branch on the server.\\nFor now, that branch is always `master`, which is the default; you won\\'t worry about it here.\\n<<ch03-git-branching#ch03-git-branching>> will go over branches and references in detail.\\n\\n[NOTE]\\n====\\nGitHub changed the default branch name from `master` to `main` in mid-2020, and other Git hosts followed suit.\\nSo you may find that the default branch name in some newly created repositories is `main` and not `master`.\\nIn addition, the default branch name can be changed (as you have seen in <<ch01-getting-started#_new_default_branch>>), so you may see a different name for the default branch.\\n\\nHowever, Git itself still uses `master` as the default, so we will use it throughout the book.\\n====\\n\\nLet\\'s say you add a new file to your project, a simple `README` file.\\nIf the file didn\\'t exist before, and you run `git status`, you see your untracked file like so:\\n\\n[source,console]\\n----\\n$ echo \\'My Project\\' > README\\n$ git status\\nOn branch master\\nYour branch is up-to-date with \\'origin/master\\'.\\nUntracked files:\\n  (use \"git add <file>...\" to include in what will be committed)\\n\\n    README\\n\\nnothing added to commit but untracked files present (use \"git add\" to track)\\n----\\n\\nYou can see that your new `README` file is untracked, because it\\'s under the \"`Untracked files`\" heading in your status output.\\nUntracked basically means that Git sees a file you didn\\'t have in the previous snapshot (commit), and which hasn\\'t yet been staged; Git won\\'t start including it in your commit snapshots until you explicitly tell it to do so.\\nIt does this so you don\\'t accidentally begin including generated binary files or other files that you did not mean to include.\\nYou do want to start including `README`, so let\\'s start tracking the file.\\n\\n[[_tracking_files]]\\n==== Tracking New Files\\n\\nIn order to begin tracking a new file, you use the command `git add`.(((git commands, add)))\\nTo begin tracking the `README` file, you can run this:\\n\\n[source,console]\\n----\\n$ git add README\\n----\\n\\nIf you run your status command again, you can see that your `README` file is now tracked and staged to be committed:\\n\\n[source,console]\\n----\\n$ git status\\nOn branch master\\nYour branch is up-to-date with \\'origin/master\\'.\\nChanges to be committed:\\n  (use \"git restore --staged <file>...\" to unstage)\\n\\n    new file:   README\\n\\n----\\n\\nYou can tell that it\\'s staged because it\\'s under the \"`Changes to be committed`\" heading.\\nIf you commit at this point, the version of the file at the time you ran `git add` is what will be in the subsequent historical snapshot.\\nYou may recall that when you ran `git init` earlier, you then ran `git add <files>` -- that was to begin tracking files in your directory.(((git commands, init)))(((git commands, add)))\\nThe `git add` command takes a path name for either a file or a directory; if it\\'s a directory, the command adds all the files in that directory recursively.\\n\\n==== Staging Modified Files\\n\\nLet\\'s change a file that was already tracked.\\nIf you change a previously tracked file called `CONTRIBUTING.md` and then run your `git status` command again, you get something that looks like this:\\n\\n[source,console]\\n----\\n$ git status\\nOn branch master\\nYour branch is up-to-date with \\'origin/master\\'.\\nChanges to be committed:\\n  (use \"git reset HEAD <file>...\" to unstage)\\n\\n    new file:   README\\n\\nChanges not staged for commit:\\n  (use \"git add <file>...\" to update what will be committed)\\n  (use \"git checkout -- <file>...\" to discard changes in working directory)\\n\\n    modified:   CONTRIBUTING.md\\n\\n----\\n\\nThe `CONTRIBUTING.md` file appears under a section named \"`Changes not staged for commit`\" -- which means that a file that is tracked has been modified in the working directory but not yet staged.\\nTo stage it, you run the `git add` command.\\n`git add` is a multipurpose command -- you use it to begin tracking new files, to stage files, and to do other things like marking merge-conflicted files as resolved.\\nIt may be helpful to think of it more as \"`add precisely this content to the next commit`\" rather than \"`add this file to the project`\".(((git commands, add)))\\nLet\\'s run `git add` now to stage the `CONTRIBUTING.md` file, and then run `git status` again:\\n\\n[source,console]\\n----\\n$ git add CONTRIBUTING.md\\n$ git status\\nOn branch master\\nYour branch is up-to-date with \\'origin/master\\'.\\nChanges to be committed:\\n  (use \"git reset HEAD <file>...\" to unstage)\\n\\n    new file:   README\\n    modified:   CONTRIBUTING.md\\n\\n----\\n\\nBoth files are staged and will go into your next commit.\\nAt this point, suppose you remember one little change that you want to make in `CONTRIBUTING.md` before you commit it.\\nYou open it again and make that change, and you\\'re ready to commit.\\nHowever, let\\'s run `git status` one more time:\\n\\n[source,console]\\n----\\n$ vim CONTRIBUTING.md\\n$ git status\\nOn branch master\\nYour branch is up-to-date with \\'origin/master\\'.\\nChanges to be committed:\\n  (use \"git reset HEAD <file>...\" to unstage)\\n\\n    new file:   README\\n    modified:   CONTRIBUTING.md\\n\\nChanges not staged for commit:\\n  (use \"git add <file>...\" to update what will be committed)\\n  (use \"git checkout -- <file>...\" to discard changes in working directory)\\n\\n    modified:   CONTRIBUTING.md\\n\\n----\\n\\nWhat the heck?\\nNow `CONTRIBUTING.md` is listed as both staged _and_ unstaged.\\nHow is that possible?\\nIt turns out that Git stages a file exactly as it is when you run the `git add` command.\\nIf you commit now, the version of `CONTRIBUTING.md` as it was when you last ran the `git add` command is how it will go into the commit, not the version of the file as it looks in your working directory when you run `git commit`.\\nIf you modify a file after you run `git add`, you have to run `git add` again to stage the latest version of the file:\\n\\n[source,console]\\n----\\n$ git add CONTRIBUTING.md\\n$ git status\\nOn branch master\\nYour branch is up-to-date with \\'origin/master\\'.\\nChanges to be committed:\\n  (use \"git reset HEAD <file>...\" to unstage)\\n\\n    new file:   README\\n    modified:   CONTRIBUTING.md\\n----\\n\\n==== Short Status\\n\\nWhile the `git status` output is pretty comprehensive, it\\'s also quite wordy.\\nGit also has a short status flag so you can see your changes in a more compact way.\\nIf you run `git status -s` or `git status --short` you get a far more simplified output from the command:\\n\\n[source,console]\\n----\\n$ git status -s\\n M README\\nMM Rakefile\\nA  lib/git.rb\\nM  lib/simplegit.rb\\n?? LICENSE.txt\\n----\\n\\nNew files that aren\\'t tracked have a `??` next to them, new files that have been added to the staging area have an `A`, modified files have an `M` and so on.\\nThere are two columns to the output -- the left-hand column indicates the status of the staging area and the right-hand column indicates the status of the working tree.\\nSo for example in that output, the `README` file is modified in the working directory but not yet staged, while the `lib/simplegit.rb` file is modified and staged.\\nThe `Rakefile` was modified, staged and then modified again, so there are changes to it that are both staged and unstaged.\\n\\n[[_ignoring]]\\n==== Ignoring Files\\n\\nOften, you\\'ll have a class of files that you don\\'t want Git to automatically add or even show you as being untracked.\\nThese are generally automatically generated files such as log files or files produced by your build system.\\nIn such cases, you can create a file listing patterns to match them named `.gitignore`.(((ignoring files)))\\nHere is an example `.gitignore` file:\\n\\n[source,console]\\n----\\n$ cat .gitignore\\n*.[oa]\\n*~\\n----\\n\\nThe first line tells Git to ignore any files ending in \"`.o`\" or \"`.a`\" -- object and archive files that may be the product of building your code.\\nThe second line tells Git to ignore all files whose names end with a tilde (`~`), which is used by many text editors such as Emacs to mark temporary files.\\nYou may also include a log, tmp, or pid directory; automatically generated documentation; and so on.\\nSetting up a `.gitignore` file for your new repository before you get going is generally a good idea so you don\\'t accidentally commit files that you really don\\'t want in your Git repository.\\n\\nThe rules for the patterns you can put in the `.gitignore` file are as follows:\\n\\n* Blank lines or lines starting with `#` are ignored.\\n* Standard glob patterns work, and will be applied recursively throughout the entire working tree.\\n* You can start patterns with a forward slash (`/`) to avoid recursivity.\\n* You can end patterns with a forward slash (`/`) to specify a directory.\\n* You can negate a pattern by starting it with an exclamation point (`!`).\\n\\nGlob patterns are like simplified regular expressions that shells use.\\nAn asterisk (`\\\\*`) matches zero or more characters; `[abc]` matches any character inside the brackets (in this case a, b, or c); a question mark (`?`) matches a single character; and brackets enclosing characters separated by a hyphen (`[0-9]`) matches any character between them (in this case 0 through 9).\\nYou can also use two asterisks to match nested directories; `a/**/z` would match `a/z`, `a/b/z`, `a/b/c/z`, and so on.\\n\\nHere is another example `.gitignore` file:\\n\\n[source]\\n----\\n# ignore all .a files\\n*.a\\n\\n# but do track lib.a, even though you\\'re ignoring .a files above\\n!lib.a\\n\\n# only ignore the TODO file in the current directory, not subdir/TODO\\n/TODO\\n\\n# ignore all files in any directory named build\\nbuild/\\n\\n# ignore doc/notes.txt, but not doc/server/arch.txt\\ndoc/*.txt\\n\\n# ignore all .pdf files in the doc/ directory and any of its subdirectories\\ndoc/**/*.pdf\\n----\\n\\n[TIP]\\n====\\nGitHub maintains a fairly comprehensive list of good `.gitignore` file examples for dozens of projects and languages at https://github.com/github/gitignore[^] if you want a starting point for your project.\\n====\\n\\n[NOTE]\\n====\\nIn the simple case, a repository might have a single `.gitignore` file in its root directory, which applies recursively to the entire repository.\\nHowever, it is also possible to have additional `.gitignore` files in subdirectories.\\nThe rules in these nested `.gitignore` files apply only to the files under the directory where they are located.\\nThe Linux kernel source repository has 206 `.gitignore` files.\\n\\nIt is beyond the scope of this book to get into the details of multiple `.gitignore` files; see `man gitignore` for the details.\\n====\\n\\n[[_git_diff_staged]]\\n==== Viewing Your Staged and Unstaged Changes\\n\\nIf the `git status` command is too vague for you -- you want to know exactly what you changed, not just which files were changed -- you can use the `git diff` command.(((git commands, diff)))\\nWe\\'ll cover `git diff` in more detail later, but you\\'ll probably use it most often to answer these two questions: What have you changed but not yet staged?\\nAnd what have you staged that you are about to commit?\\nAlthough `git status` answers those questions very generally by listing the file names, `git diff` shows you the exact lines added and removed -- the patch, as it were.\\n\\nLet\\'s say you edit and stage the `README` file again and then edit the `CONTRIBUTING.md` file without staging it.\\nIf you run your `git status` command, you once again see something like this:\\n\\n[source,console]\\n----\\n$ git status\\nOn branch master\\nYour branch is up-to-date with \\'origin/master\\'.\\nChanges to be committed:\\n  (use \"git reset HEAD <file>...\" to unstage)\\n\\n    modified:   README\\n\\nChanges not staged for commit:\\n  (use \"git add <file>...\" to update what will be committed)\\n  (use \"git checkout -- <file>...\" to discard changes in working directory)\\n\\n    modified:   CONTRIBUTING.md\\n----\\n\\nTo see what you\\'ve changed but not yet staged, type `git diff` with no other arguments:\\n\\n[source,console]\\n----\\n$ git diff\\ndiff --git a/CONTRIBUTING.md b/CONTRIBUTING.md\\nindex 8ebb991..643e24f 100644\\n--- a/CONTRIBUTING.md\\n+++ b/CONTRIBUTING.md\\n@@ -65,7 +65,8 @@ branch directly, things can get messy.\\n Please include a nice description of your changes when you submit your PR;\\n if we have to read the whole diff to figure out why you\\'re contributing\\n in the first place, you\\'re less likely to get feedback and have your change\\n-merged in.\\n+merged in. Also, split your changes into comprehensive chunks if your patch is\\n+longer than a dozen lines.\\n\\n If you are starting to work on a particular area, feel free to submit a PR\\n that highlights your work in progress (and note in the PR title that it\\'s\\n----\\n\\nThat command compares what is in your working directory with what is in your staging area.\\nThe result tells you the changes you\\'ve made that you haven\\'t yet staged.\\n\\nIf you want to see what you\\'ve staged that will go into your next commit, you can use `git diff --staged`.\\nThis command compares your staged changes to your last commit:\\n\\n[source,console]\\n----\\n$ git diff --staged\\ndiff --git a/README b/README\\nnew file mode 100644\\nindex 0000000..03902a1\\n--- /dev/null\\n+++ b/README\\n@@ -0,0 +1 @@\\n+My Project\\n----\\n\\nIt\\'s important to note that `git diff` by itself doesn\\'t show all changes made since your last commit -- only changes that are still unstaged.\\nIf you\\'ve staged all of your changes, `git diff` will give you no output.\\n\\nFor another example, if you stage the `CONTRIBUTING.md` file and then edit it, you can use `git diff` to see the changes in the file that are staged and the changes that are unstaged.\\nIf our environment looks like this:\\n\\n[source,console]\\n----\\n$ git add CONTRIBUTING.md\\n$ echo \\'# test line\\' >> CONTRIBUTING.md\\n$ git status\\nOn branch master\\nYour branch is up-to-date with \\'origin/master\\'.\\nChanges to be committed:\\n  (use \"git reset HEAD <file>...\" to unstage)\\n\\n    modified:   CONTRIBUTING.md\\n\\nChanges not staged for commit:\\n  (use \"git add <file>...\" to update what will be committed)\\n  (use \"git checkout -- <file>...\" to discard changes in working directory)\\n\\n    modified:   CONTRIBUTING.md\\n----\\n\\nNow you can use `git diff` to see what is still unstaged:\\n\\n[source,console]\\n----\\n$ git diff\\ndiff --git a/CONTRIBUTING.md b/CONTRIBUTING.md\\nindex 643e24f..87f08c8 100644\\n--- a/CONTRIBUTING.md\\n+++ b/CONTRIBUTING.md\\n@@ -119,3 +119,4 @@ at the\\n ## Starter Projects\\n\\n See our [projects list](https://github.com/libgit2/libgit2/blob/development/PROJECTS.md).\\n+# test line\\n----\\n\\nand `git diff --cached` to see what you\\'ve staged so far (`--staged` and `--cached` are synonyms):\\n\\n[source,console]\\n----\\n$ git diff --cached\\ndiff --git a/CONTRIBUTING.md b/CONTRIBUTING.md\\nindex 8ebb991..643e24f 100644\\n--- a/CONTRIBUTING.md\\n+++ b/CONTRIBUTING.md\\n@@ -65,7 +65,8 @@ branch directly, things can get messy.\\n Please include a nice description of your changes when you submit your PR;\\n if we have to read the whole diff to figure out why you\\'re contributing\\n in the first place, you\\'re less likely to get feedback and have your change\\n-merged in.\\n+merged in. Also, split your changes into comprehensive chunks if your patch is\\n+longer than a dozen lines.\\n\\n If you are starting to work on a particular area, feel free to submit a PR\\n that highlights your work in progress (and note in the PR title that it\\'s\\n----\\n\\n[NOTE]\\n.Git Diff in an External Tool\\n====\\nWe will continue to use the `git diff` command in various ways throughout the rest of the book.\\nThere is another way to look at these diffs if you prefer a graphical or external diff viewing program instead.\\nIf you run `git difftool` instead of `git diff`, you can view any of these diffs in software like emerge, vimdiff and many more (including commercial products).\\nRun `git difftool --tool-help` to see what is available on your system.\\n====\\n\\n[[_committing_changes]]\\n==== Committing Your Changes\\n\\nNow that your staging area is set up the way you want it, you can commit your changes.\\nRemember that anything that is still unstaged -- any files you have created or modified that you haven\\'t run `git add` on since you edited them -- won\\'t go into this commit.\\nThey will stay as modified files on your disk.\\nIn this case, let\\'s say that the last time you ran `git status`, you saw that everything was staged, so you\\'re ready to commit your changes.(((git commands, status)))\\nThe simplest way to commit is to type `git commit`:(((git commands, commit)))\\n\\n[source,console]\\n----\\n$ git commit\\n----\\n\\nDoing so launches your editor of choice.\\n\\n[NOTE]\\n====\\nThis is set by your shell\\'s `EDITOR` environment variable -- usually vim or emacs, although you can configure it with whatever you want using the `git config --global core.editor` command as you saw in <<ch01-getting-started#ch01-getting-started>>.(((editor, changing default)))(((git commands, config)))\\n====\\n\\nThe editor displays the following text (this example is a Vim screen):\\n\\n[source]\\n----\\n\\n# Please enter the commit message for your changes. Lines starting\\n# with \\'#\\' will be ignored, and an empty message aborts the commit.\\n# On branch master\\n# Your branch is up-to-date with \\'origin/master\\'.\\n#\\n# Changes to be committed:\\n#\\tnew file:   README\\n#\\tmodified:   CONTRIBUTING.md\\n#\\n~\\n~\\n~\\n\".git/COMMIT_EDITMSG\" 9L, 283C\\n----\\n\\nYou can see that the default commit message contains the latest output of the `git status` command commented out and one empty line on top.\\nYou can remove these comments and type your commit message, or you can leave them there to help you remember what you\\'re committing.\\n\\n[NOTE]\\n====\\nFor an even more explicit reminder of what you\\'ve modified, you can pass the `-v` option to `git commit`.\\nDoing so also puts the diff of your change in the editor so you can see exactly what changes you\\'re committing.\\n====\\n\\nWhen you exit the editor, Git creates your commit with that commit message (with the comments and diff stripped out).\\n\\nAlternatively, you can type your commit message inline with the `commit` command by specifying it after a `-m` flag, like this:\\n\\n[source,console]\\n----\\n$ git commit -m \"Story 182: fix benchmarks for speed\"\\n[master 463dc4f] Story 182: fix benchmarks for speed\\n 2 files changed, 2 insertions(+)\\n create mode 100644 README\\n----\\n\\nNow you\\'ve created your first commit!\\nYou can see that the commit has given you some output about itself: which branch you committed to (`master`), what SHA-1 checksum the commit has (`463dc4f`), how many files were changed, and statistics about lines added and removed in the commit.\\n\\nRemember that the commit records the snapshot you set up in your staging area.\\nAnything you didn\\'t stage is still sitting there modified; you can do another commit to add it to your history.\\nEvery time you perform a commit, you\\'re recording a snapshot of your project that you can revert to or compare to later.\\n\\n==== Skipping the Staging Area\\n\\n(((staging area, skipping)))\\nAlthough it can be amazingly useful for crafting commits exactly how you want them, the staging area is sometimes a bit more complex than you need in your workflow.\\nIf you want to skip the staging area, Git provides a simple shortcut.\\nAdding the `-a` option to the `git commit` command makes Git automatically stage every file that is already tracked before doing the commit, letting you skip the `git add` part:\\n\\n[source,console]\\n----\\n$ git status\\nOn branch master\\nYour branch is up-to-date with \\'origin/master\\'.\\nChanges not staged for commit:\\n  (use \"git add <file>...\" to update what will be committed)\\n  (use \"git checkout -- <file>...\" to discard changes in working directory)\\n\\n    modified:   CONTRIBUTING.md\\n\\nno changes added to commit (use \"git add\" and/or \"git commit -a\")\\n$ git commit -a -m \\'Add new benchmarks\\'\\n[master 83e38c7] Add new benchmarks\\n 1 file changed, 5 insertions(+), 0 deletions(-)\\n----\\n\\nNotice how you don\\'t have to run `git add` on the `CONTRIBUTING.md` file in this case before you commit.\\nThat\\'s because the `-a` flag includes all changed files.\\nThis is convenient, but be careful; sometimes this flag will cause you to include unwanted changes.\\n\\n[[_removing_files]]\\n==== Removing Files\\n\\n(((files, removing)))\\nTo remove a file from Git, you have to remove it from your tracked files (more accurately, remove it from your staging area) and then commit.\\nThe `git rm` command does that, and also removes the file from your working directory so you don\\'t see it as an untracked file the next time around.\\n\\nIf you simply remove the file from your working directory, it shows up under the \"`Changes not staged for commit`\" (that is, _unstaged_) area of your `git status` output:\\n\\n[source,console]\\n----\\n$ rm PROJECTS.md\\n$ git status\\nOn branch master\\nYour branch is up-to-date with \\'origin/master\\'.\\nChanges not staged for commit:\\n  (use \"git add/rm <file>...\" to update what will be committed)\\n  (use \"git checkout -- <file>...\" to discard changes in working directory)\\n\\n        deleted:    PROJECTS.md\\n\\nno changes added to commit (use \"git add\" and/or \"git commit -a\")\\n----\\n\\nThen, if you run `git rm`, it stages the file\\'s removal:\\n\\n[source,console]\\n----\\n$ git rm PROJECTS.md\\nrm \\'PROJECTS.md\\'\\n$ git status\\nOn branch master\\nYour branch is up-to-date with \\'origin/master\\'.\\nChanges to be committed:\\n  (use \"git reset HEAD <file>...\" to unstage)\\n\\n    deleted:    PROJECTS.md\\n----\\n\\nThe next time you commit, the file will be gone and no longer tracked.\\nIf you modified the file or had already added it to the staging area, you must force the removal with the `-f` option.\\nThis is a safety feature to prevent accidental removal of data that hasn\\'t yet been recorded in a snapshot and that can\\'t be recovered from Git.\\n\\nAnother useful thing you may want to do is to keep the file in your working tree but remove it from your staging area.\\nIn other words, you may want to keep the file on your hard drive but not have Git track it anymore.\\nThis is particularly useful if you forgot to add something to your `.gitignore` file and accidentally staged it, like a large log file or a bunch of `.a` compiled files.\\nTo do this, use the `--cached` option:\\n\\n[source,console]\\n----\\n$ git rm --cached README\\n----\\n\\nYou can pass files, directories, and file-glob patterns to the `git rm` command.\\nThat means you can do things such as:\\n\\n[source,console]\\n----\\n$ git rm log/\\\\*.log\\n----\\n\\nNote the backslash (`\\\\`) in front of the `*`.\\nThis is necessary because Git does its own filename expansion in addition to your shell\\'s filename expansion.\\nThis command removes all files that have the `.log` extension in the `log/` directory.\\nOr, you can do something like this:\\n\\n[source,console]\\n----\\n$ git rm \\\\*~\\n----\\n\\nThis command removes all files whose names end with a `~`.\\n\\n[[_git_mv]]\\n==== Moving Files\\n\\n(((files, moving)))\\nUnlike many other VCSs, Git doesn\\'t explicitly track file movement.\\nIf you rename a file in Git, no metadata is stored in Git that tells it you renamed the file.\\nHowever, Git is pretty smart about figuring that out after the fact -- we\\'ll deal with detecting file movement a bit later.\\n\\nThus it\\'s a bit confusing that Git has a `mv` command.\\nIf you want to rename a file in Git, you can run something like:\\n\\n[source,console]\\n----\\n$ git mv file_from file_to\\n----\\n\\nand it works fine.\\nIn fact, if you run something like this and look at the status, you\\'ll see that Git considers it a renamed file:\\n\\n[source,console]\\n----\\n$ git mv README.md README\\n$ git status\\nOn branch master\\nYour branch is up-to-date with \\'origin/master\\'.\\nChanges to be committed:\\n  (use \"git reset HEAD <file>...\" to unstage)\\n\\n    renamed:    README.md -> README\\n----\\n\\nHowever, this is equivalent to running something like this:\\n\\n[source,console]\\n----\\n$ mv README.md README\\n$ git rm README.md\\n$ git add README\\n----\\n\\nGit figures out that it\\'s a rename implicitly, so it doesn\\'t matter if you rename a file that way or with the `mv` command.\\nThe only real difference is that `git mv` is one command instead of three -- it\\'s a convenience function.\\nMore importantly, you can use any tool you like to rename a file, and address the `add`/`rm` later, before you commit.\\n',\n",
       "  'chapter_title': '02-git-basics',\n",
       "  'filename': 'recording-changes.asc'},\n",
       " {'body': '[[_remote_repos]]\\n=== Working with Remotes\\n\\nTo be able to collaborate on any Git project, you need to know how to manage your remote repositories.\\nRemote repositories are versions of your project that are hosted on the Internet or network somewhere.\\nYou can have several of them, each of which generally is either read-only or read/write for you.\\nCollaborating with others involves managing these remote repositories and pushing and pulling data to and from them when you need to share work.\\nManaging remote repositories includes knowing how to add remote repositories, remove remotes that are no longer valid, manage various remote branches and define them as being tracked or not, and more.\\nIn this section, we\\'ll cover some of these remote-management skills.\\n\\n[NOTE]\\n.Remote repositories can be on your local machine.\\n====\\nIt is entirely possible that you can be working with a \"`remote`\" repository that is, in fact, on the same host you are.\\nThe word \"`remote`\" does not necessarily imply that the repository is somewhere else on the network or Internet, only that it is elsewhere.\\nWorking with such a remote repository would still involve all the standard pushing, pulling and fetching operations as with any other remote.\\n====\\n\\n==== Showing Your Remotes\\n\\nTo see which remote servers you have configured, you can run the `git remote` command.(((git commands, remote)))\\nIt lists the shortnames of each remote handle you\\'ve specified.\\nIf you\\'ve cloned your repository, you should at least see `origin` -- that is the default name Git gives to the server you cloned from:\\n\\n[source,console]\\n----\\n$ git clone https://github.com/schacon/ticgit\\nCloning into \\'ticgit\\'...\\nremote: Reusing existing pack: 1857, done.\\nremote: Total 1857 (delta 0), reused 0 (delta 0)\\nReceiving objects: 100% (1857/1857), 374.35 KiB | 268.00 KiB/s, done.\\nResolving deltas: 100% (772/772), done.\\nChecking connectivity... done.\\n$ cd ticgit\\n$ git remote\\norigin\\n----\\n\\nYou can also specify `-v`, which shows you the URLs that Git has stored for the shortname to be used when reading and writing to that remote:\\n\\n[source,console]\\n----\\n$ git remote -v\\norigin\\thttps://github.com/schacon/ticgit (fetch)\\norigin\\thttps://github.com/schacon/ticgit (push)\\n----\\n\\nIf you have more than one remote, the command lists them all.\\nFor example, a repository with multiple remotes for working with several collaborators might look something like this.\\n\\n[source,console]\\n----\\n$ cd grit\\n$ git remote -v\\nbakkdoor  https://github.com/bakkdoor/grit (fetch)\\nbakkdoor  https://github.com/bakkdoor/grit (push)\\ncho45     https://github.com/cho45/grit (fetch)\\ncho45     https://github.com/cho45/grit (push)\\ndefunkt   https://github.com/defunkt/grit (fetch)\\ndefunkt   https://github.com/defunkt/grit (push)\\nkoke      git://github.com/koke/grit.git (fetch)\\nkoke      git://github.com/koke/grit.git (push)\\norigin    git@github.com:mojombo/grit.git (fetch)\\norigin    git@github.com:mojombo/grit.git (push)\\n----\\n\\nThis means we can pull contributions from any of these users pretty easily.\\nWe may additionally have permission to push to one or more of these, though we can\\'t tell that here.\\n\\nNotice that these remotes use a variety of protocols; we\\'ll cover more about this in <<ch04-git-on-the-server#_getting_git_on_a_server>>.\\n\\n==== Adding Remote Repositories\\n\\nWe\\'ve mentioned and given some demonstrations of how the `git clone` command implicitly adds the `origin` remote for you.\\nHere\\'s how to add a new remote explicitly.(((git commands, remote)))\\nTo add a new remote Git repository as a shortname you can reference easily, run `git remote add <shortname> <url>`:\\n\\n[source,console]\\n----\\n$ git remote\\norigin\\n$ git remote add pb https://github.com/paulboone/ticgit\\n$ git remote -v\\norigin\\thttps://github.com/schacon/ticgit (fetch)\\norigin\\thttps://github.com/schacon/ticgit (push)\\npb\\thttps://github.com/paulboone/ticgit (fetch)\\npb\\thttps://github.com/paulboone/ticgit (push)\\n----\\n\\nNow you can use the string `pb` on the command line in lieu of the whole URL.\\nFor example, if you want to fetch all the information that Paul has but that you don\\'t yet have in your repository, you can run `git fetch pb`:\\n\\n[source,console]\\n----\\n$ git fetch pb\\nremote: Counting objects: 43, done.\\nremote: Compressing objects: 100% (36/36), done.\\nremote: Total 43 (delta 10), reused 31 (delta 5)\\nUnpacking objects: 100% (43/43), done.\\nFrom https://github.com/paulboone/ticgit\\n * [new branch]      master     -> pb/master\\n * [new branch]      ticgit     -> pb/ticgit\\n----\\n\\nPaul\\'s `master` branch is now accessible locally as `pb/master` -- you can merge it into one of your branches, or you can check out a local branch at that point if you want to inspect it.\\nWe\\'ll go over what branches are and how to use them in much more detail in <<ch03-git-branching#ch03-git-branching>>.\\n\\n[[_fetching_and_pulling]]\\n==== Fetching and Pulling from Your Remotes\\n\\nAs you just saw, to get data from your remote projects, you can run:(((git commands, fetch)))\\n\\n[source,console]\\n----\\n$ git fetch <remote>\\n----\\n\\nThe command goes out to that remote project and pulls down all the data from that remote project that you don\\'t have yet.\\nAfter you do this, you should have references to all the branches from that remote, which you can merge in or inspect at any time.\\n\\nIf you clone a repository, the command automatically adds that remote repository under the name \"`origin`\".\\nSo, `git fetch origin` fetches any new work that has been pushed to that server since you cloned (or last fetched from) it.\\nIt\\'s important to note that the `git fetch` command only downloads the data to your local repository -- it doesn\\'t automatically merge it with any of your work or modify what you\\'re currently working on.\\nYou have to merge it manually into your work when you\\'re ready.\\n\\nIf your current branch is set up to track a remote branch (see the next section and <<ch03-git-branching#ch03-git-branching>> for more information), you can use the `git pull` command to automatically fetch and then merge that remote branch into your current branch.(((git commands, pull)))\\nThis may be an easier or more comfortable workflow for you; and by default, the `git clone` command automatically sets up your local `master` branch to track the remote `master` branch (or whatever the default branch is called) on the server you cloned from.\\nRunning `git pull` generally fetches data from the server you originally cloned from and automatically tries to merge it into the code you\\'re currently working on.\\n\\n[NOTE]\\n====\\nFrom Git version 2.27 onward, `git pull` will give a warning if the `pull.rebase` variable is not set.\\nGit will keep warning you until you set the variable.\\n\\nIf you want the default behavior of Git (fast-forward if possible, else create a merge commit):\\n`git config --global pull.rebase \"false\"`\\n\\nIf you want to rebase when pulling:\\n`git config --global pull.rebase \"true\"`\\n====\\n\\n[[_pushing_remotes]]\\n==== Pushing to Your Remotes\\n\\nWhen you have your project at a point that you want to share, you have to push it upstream.\\nThe command for this is simple: `git push <remote> <branch>`.(((git commands, push)))\\nIf you want to push your `master` branch to your `origin` server (again, cloning generally sets up both of those names for you automatically), then you can run this to push any commits you\\'ve done back up to the server:\\n\\n[source,console]\\n----\\n$ git push origin master\\n----\\n\\nThis command works only if you cloned from a server to which you have write access and if nobody has pushed in the meantime.\\nIf you and someone else clone at the same time and they push upstream and then you push upstream, your push will rightly be rejected.\\nYou\\'ll have to fetch their work first and incorporate it into yours before you\\'ll be allowed to push.\\nSee <<ch03-git-branching#ch03-git-branching>> for more detailed information on how to push to remote servers.\\n\\n[[_inspecting_remote]]\\n==== Inspecting a Remote\\n\\nIf you want to see more information about a particular remote, you can use the `git remote show <remote>` command.(((git commands, remote)))\\nIf you run this command with a particular shortname, such as `origin`, you get something like this:\\n\\n[source,console]\\n----\\n$ git remote show origin\\n* remote origin\\n  Fetch URL: https://github.com/schacon/ticgit\\n  Push  URL: https://github.com/schacon/ticgit\\n  HEAD branch: master\\n  Remote branches:\\n    master                               tracked\\n    dev-branch                           tracked\\n  Local branch configured for \\'git pull\\':\\n    master merges with remote master\\n  Local ref configured for \\'git push\\':\\n    master pushes to master (up to date)\\n----\\n\\nIt lists the URL for the remote repository as well as the tracking branch information.\\nThe command helpfully tells you that if you\\'re on the `master` branch and you run `git pull`, it will automatically merge the remote\\'s `master` branch into the local one after it has been fetched.\\nIt also lists all the remote references it has pulled down.\\n\\nThat is a simple example you\\'re likely to encounter.\\nWhen you\\'re using Git more heavily, however, you may see much more information from `git remote show`:\\n\\n[source,console]\\n----\\n$ git remote show origin\\n* remote origin\\n  URL: https://github.com/my-org/complex-project\\n  Fetch URL: https://github.com/my-org/complex-project\\n  Push  URL: https://github.com/my-org/complex-project\\n  HEAD branch: master\\n  Remote branches:\\n    master                           tracked\\n    dev-branch                       tracked\\n    markdown-strip                   tracked\\n    issue-43                         new (next fetch will store in remotes/origin)\\n    issue-45                         new (next fetch will store in remotes/origin)\\n    refs/remotes/origin/issue-11     stale (use \\'git remote prune\\' to remove)\\n  Local branches configured for \\'git pull\\':\\n    dev-branch merges with remote dev-branch\\n    master     merges with remote master\\n  Local refs configured for \\'git push\\':\\n    dev-branch                     pushes to dev-branch                     (up to date)\\n    markdown-strip                 pushes to markdown-strip                 (up to date)\\n    master                         pushes to master                         (up to date)\\n----\\n\\nThis command shows which branch is automatically pushed to when you run `git push` while on certain branches.\\nIt also shows you which remote branches on the server you don\\'t yet have, which remote branches you have that have been removed from the server, and multiple local branches that are able to merge automatically with their remote-tracking branch when you run `git pull`.\\n\\n==== Renaming and Removing Remotes\\n\\nYou can run `git remote rename` to change a remote\\'s shortname.(((git commands, remote)))\\nFor instance, if you want to rename `pb` to `paul`, you can do so with `git remote rename`:\\n\\n[source,console]\\n----\\n$ git remote rename pb paul\\n$ git remote\\norigin\\npaul\\n----\\n\\nIt\\'s worth mentioning that this changes all your remote-tracking branch names, too.\\nWhat used to be referenced at `pb/master` is now at `paul/master`.\\n\\nIf you want to remove a remote for some reason -- you\\'ve moved the server or are no longer using a particular mirror, or perhaps a contributor isn\\'t contributing anymore -- you can either use `git remote remove` or `git remote rm`:\\n\\n[source,console]\\n----\\n$ git remote remove paul\\n$ git remote\\norigin\\n----\\n\\nOnce you delete the reference to a remote this way, all remote-tracking branches and configuration settings associated with that remote are also deleted.\\n',\n",
       "  'chapter_title': '02-git-basics',\n",
       "  'filename': 'remotes.asc'},\n",
       " {'body': '[[_git_tagging]]\\n=== Tagging\\n\\n(((tags)))\\nLike most VCSs, Git has the ability to tag specific points in a repository\\'s history as being important.\\nTypically, people use this functionality to mark release points (`v1.0`, `v2.0` and so on).\\nIn this section, you\\'ll learn how to list existing tags, how to create and delete tags, and what the different types of tags are.\\n\\n==== Listing Your Tags\\n\\nListing the existing tags in Git is straightforward.\\nJust type `git tag` (with optional `-l` or `--list`):(((git commands, tag)))\\n\\n[source,console]\\n----\\n$ git tag\\nv1.0\\nv2.0\\n----\\n\\nThis command lists the tags in alphabetical order; the order in which they are displayed has no real importance.\\n\\nYou can also search for tags that match a particular pattern.\\nThe Git source repo, for instance, contains more than 500 tags.\\nIf you\\'re interested only in looking at the 1.8.5 series, you can run this:\\n\\n[source,console]\\n----\\n$ git tag -l \"v1.8.5*\"\\nv1.8.5\\nv1.8.5-rc0\\nv1.8.5-rc1\\nv1.8.5-rc2\\nv1.8.5-rc3\\nv1.8.5.1\\nv1.8.5.2\\nv1.8.5.3\\nv1.8.5.4\\nv1.8.5.5\\n----\\n\\n[NOTE]\\n.Listing tag wildcards requires `-l` or `--list` option\\n====\\nIf you want just the entire list of tags, running the command `git tag` implicitly assumes you want a listing and provides one; the use of `-l` or `--list` in this case is optional.\\n\\nIf, however, you\\'re supplying a wildcard pattern to match tag names, the use of `-l` or `--list` is mandatory.\\n====\\n\\n==== Creating Tags\\n\\nGit supports two types of tags: _lightweight_ and _annotated_.\\n\\nA lightweight tag is very much like a branch that doesn\\'t change -- it\\'s just a pointer to a specific commit.\\n\\nAnnotated tags, however, are stored as full objects in the Git database.\\nThey\\'re checksummed; contain the tagger name, email, and date; have a tagging message; and can be signed and verified with GNU Privacy Guard (GPG).\\nIt\\'s generally recommended that you create annotated tags so you can have all this information; but if you want a temporary tag or for some reason don\\'t want to keep the other information, lightweight tags are available too.\\n\\n[[_annotated_tags]]\\n==== Annotated Tags\\n\\n(((tags, annotated)))\\nCreating an annotated tag in Git is simple.\\nThe easiest way is to specify `-a` when you run the `tag` command:(((git commands, tag)))\\n\\n[source,console]\\n----\\n$ git tag -a v1.4 -m \"my version 1.4\"\\n$ git tag\\nv0.1\\nv1.3\\nv1.4\\n----\\n\\nThe `-m` specifies a tagging message, which is stored with the tag.\\nIf you don\\'t specify a message for an annotated tag, Git launches your editor so you can type it in.\\n\\nYou can see the tag data along with the commit that was tagged by using the `git show` command:\\n\\n[source,console]\\n----\\n$ git show v1.4\\ntag v1.4\\nTagger: Ben Straub <ben@straub.cc>\\nDate:   Sat May 3 20:19:12 2014 -0700\\n\\nmy version 1.4\\n\\ncommit ca82a6dff817ec66f44342007202690a93763949\\nAuthor: Scott Chacon <schacon@gee-mail.com>\\nDate:   Mon Mar 17 21:52:11 2008 -0700\\n\\n    Change version number\\n----\\n\\nThat shows the tagger information, the date the commit was tagged, and the annotation message before showing the commit information.\\n\\n==== Lightweight Tags\\n\\n(((tags, lightweight)))\\nAnother way to tag commits is with a lightweight tag.\\nThis is basically the commit checksum stored in a file -- no other information is kept.\\nTo create a lightweight tag, don\\'t supply any of the `-a`, `-s`, or `-m` options, just provide a tag name:\\n\\n[source,console]\\n----\\n$ git tag v1.4-lw\\n$ git tag\\nv0.1\\nv1.3\\nv1.4\\nv1.4-lw\\nv1.5\\n----\\n\\nThis time, if you run `git show` on the tag, you don\\'t see the extra tag information.(((git commands, show)))\\nThe command just shows the commit:\\n\\n[source,console]\\n----\\n$ git show v1.4-lw\\ncommit ca82a6dff817ec66f44342007202690a93763949\\nAuthor: Scott Chacon <schacon@gee-mail.com>\\nDate:   Mon Mar 17 21:52:11 2008 -0700\\n\\n    Change version number\\n----\\n\\n==== Tagging Later\\n\\nYou can also tag commits after you\\'ve moved past them.\\nSuppose your commit history looks like this:\\n\\n[source,console]\\n----\\n$ git log --pretty=oneline\\n15027957951b64cf874c3557a0f3547bd83b3ff6 Merge branch \\'experiment\\'\\na6b4c97498bd301d84096da251c98a07c7723e65 Create write support\\n0d52aaab4479697da7686c15f77a3d64d9165190 One more thing\\n6d52a271eda8725415634dd79daabbc4d9b6008e Merge branch \\'experiment\\'\\n0b7434d86859cc7b8c3d5e1dddfed66ff742fcbc Add commit function\\n4682c3261057305bdd616e23b64b0857d832627b Add todo file\\n166ae0c4d3f420721acbb115cc33848dfcc2121a Create write support\\n9fceb02d0ae598e95dc970b74767f19372d61af8 Update rakefile\\n964f16d36dfccde844893cac5b347e7b3d44abbc Commit the todo\\n8a5cbc430f1a9c3d00faaeffd07798508422908a Update readme\\n----\\n\\nNow, suppose you forgot to tag the project at v1.2, which was at the \"`Update rakefile`\" commit.\\nYou can add it after the fact.\\nTo tag that commit, you specify the commit checksum (or part of it) at the end of the command:\\n\\n[source,console]\\n----\\n$ git tag -a v1.2 9fceb02\\n----\\n\\nYou can see that you\\'ve tagged the commit:(((git commands, tag)))\\n\\n[source,console]\\n----\\n$ git tag\\nv0.1\\nv1.2\\nv1.3\\nv1.4\\nv1.4-lw\\nv1.5\\n\\n$ git show v1.2\\ntag v1.2\\nTagger: Scott Chacon <schacon@gee-mail.com>\\nDate:   Mon Feb 9 15:32:16 2009 -0800\\n\\nversion 1.2\\ncommit 9fceb02d0ae598e95dc970b74767f19372d61af8\\nAuthor: Magnus Chacon <mchacon@gee-mail.com>\\nDate:   Sun Apr 27 20:43:35 2008 -0700\\n\\n    Update rakefile\\n...\\n----\\n\\n[[_sharing_tags]]\\n==== Sharing Tags\\n\\nBy default, the `git push` command doesn\\'t transfer tags to remote servers.(((git commands, push)))\\nYou will have to explicitly push tags to a shared server after you have created them.\\nThis process is just like sharing remote branches -- you can run `git push origin <tagname>`.\\n\\n[source,console]\\n----\\n$ git push origin v1.5\\nCounting objects: 14, done.\\nDelta compression using up to 8 threads.\\nCompressing objects: 100% (12/12), done.\\nWriting objects: 100% (14/14), 2.05 KiB | 0 bytes/s, done.\\nTotal 14 (delta 3), reused 0 (delta 0)\\nTo git@github.com:schacon/simplegit.git\\n * [new tag]         v1.5 -> v1.5\\n----\\n\\nIf you have a lot of tags that you want to push up at once, you can also use the `--tags` option to the `git push` command.\\nThis will transfer all of your tags to the remote server that are not already there.\\n\\n[source,console]\\n----\\n$ git push origin --tags\\nCounting objects: 1, done.\\nWriting objects: 100% (1/1), 160 bytes | 0 bytes/s, done.\\nTotal 1 (delta 0), reused 0 (delta 0)\\nTo git@github.com:schacon/simplegit.git\\n * [new tag]         v1.4 -> v1.4\\n * [new tag]         v1.4-lw -> v1.4-lw\\n----\\n\\nNow, when someone else clones or pulls from your repository, they will get all your tags as well.\\n\\n[NOTE]\\n.`git push` pushes both types of tags\\n====\\n`git push <remote> --tags` will push both lightweight and annotated tags.\\nThere is currently no option to push only lightweight tags, but if you use `git push <remote> --follow-tags` only annotated tags will be pushed to the remote.\\n====\\n\\n==== Deleting Tags\\n\\nTo delete a tag on your local repository, you can use `git tag -d <tagname>`.\\nFor example, we could remove our lightweight tag above as follows:\\n\\n[source,console]\\n----\\n$ git tag -d v1.4-lw\\nDeleted tag \\'v1.4-lw\\' (was e7d5add)\\n----\\n\\nNote that this does not remove the tag from any remote servers.\\nThere are two common variations for deleting a tag from a remote server.\\n\\nThe first variation is `git push <remote> :refs/tags/<tagname>`:\\n\\n[source,console]\\n----\\n$ git push origin :refs/tags/v1.4-lw\\nTo /git@github.com:schacon/simplegit.git\\n - [deleted]         v1.4-lw\\n----\\n\\nThe way to interpret the above is to read it as the null value before the colon is being pushed to the remote tag name, effectively deleting it.\\n\\nThe second (and more intuitive) way to delete a remote tag is with:\\n\\n[source,console]\\n----\\n$ git push origin --delete <tagname>\\n----\\n\\n==== Checking out Tags\\n\\nIf you want to view the versions of files a tag is pointing to, you can do a `git checkout` of that tag, although this puts your repository in \"`detached HEAD`\" state, which has some ill side effects:\\n\\n[source,console]\\n----\\n$ git checkout v2.0.0\\nNote: switching to \\'v2.0.0\\'.\\n\\nYou are in \\'detached HEAD\\' state. You can look around, make experimental\\nchanges and commit them, and you can discard any commits you make in this\\nstate without impacting any branches by performing another checkout.\\n\\nIf you want to create a new branch to retain commits you create, you may\\ndo so (now or later) by using -c with the switch command. Example:\\n\\n  git switch -c <new-branch-name>\\n\\nOr undo this operation with:\\n\\n  git switch -\\n\\nTurn off this advice by setting config variable advice.detachedHead to false\\n\\nHEAD is now at 99ada87... Merge pull request #89 from schacon/appendix-final\\n\\n$ git checkout v2.0-beta-0.1\\nPrevious HEAD position was 99ada87... Merge pull request #89 from schacon/appendix-final\\nHEAD is now at df3f601... Add atlas.json and cover image\\n----\\n\\nIn \"`detached HEAD`\" state, if you make changes and then create a commit, the tag will stay the same, but your new commit won\\'t belong to any branch and will be unreachable, except by the exact commit hash.\\nThus, if you need to make changes -- say you\\'re fixing a bug on an older version, for instance -- you will generally want to create a branch:\\n\\n[source,console]\\n----\\n$ git checkout -b version2 v2.0.0\\nSwitched to a new branch \\'version2\\'\\n----\\n\\nIf you do this and make a commit, your `version2` branch will be slightly different than your `v2.0.0` tag since it will move forward with your new changes, so do be careful.\\n',\n",
       "  'chapter_title': '02-git-basics',\n",
       "  'filename': 'tagging.asc'},\n",
       " {'body': '[[_undoing]]\\n=== Undoing Things\\n\\nAt any stage, you may want to undo something.\\nHere, we\\'ll review a few basic tools for undoing changes that you\\'ve made.\\nBe careful, because you can\\'t always undo some of these undos.\\nThis is one of the few areas in Git where you may lose some work if you do it wrong.\\n\\nOne of the common undos takes place when you commit too early and possibly forget to add some files, or you mess up your commit message.\\nIf you want to redo that commit, make the additional changes you forgot, stage them, and commit again using the `--amend` option:\\n\\n[source,console]\\n----\\n$ git commit --amend\\n----\\n\\nThis command takes your staging area and uses it for the commit.\\nIf you\\'ve made no changes since your last commit (for instance, you run this command immediately after your previous commit), then your snapshot will look exactly the same, and all you\\'ll change is your commit message.\\n\\nThe same commit-message editor fires up, but it already contains the message of your previous commit.\\nYou can edit the message the same as always, but it overwrites your previous commit.\\n\\nAs an example, if you commit and then realize you forgot to stage the changes in a file you wanted to add to this commit, you can do something like this:\\n\\n[source,console]\\n----\\n$ git commit -m \\'Initial commit\\'\\n$ git add forgotten_file\\n$ git commit --amend\\n----\\n\\nYou end up with a single commit -- the second commit replaces the results of the first.\\n\\n[NOTE]\\n====\\nIt\\'s important to understand that when you\\'re amending your last commit, you\\'re not so much fixing it as _replacing_ it entirely with a new, improved commit that pushes the old commit out of the way and puts the new commit in its place.\\nEffectively, it\\'s as if the previous commit never happened, and it won\\'t show up in your repository history.\\n\\nThe obvious value to amending commits is to make minor improvements to your last commit, without cluttering your repository history with commit messages of the form, \"`Oops, forgot to add a file`\" or \"`Darn, fixing a typo in last commit`\".\\n====\\n\\n[NOTE]\\n====\\nOnly amend commits that are still local and have not been pushed somewhere.\\nAmending previously pushed commits and force pushing the branch will cause problems for your collaborators.\\nFor more on what happens when you do this and how to recover if you\\'re on the receiving end read <<_rebase_peril>>.\\n====\\n\\n[[_unstaging]]\\n==== Unstaging a Staged File\\n\\nThe next two sections demonstrate how to work with your staging area and working directory changes.\\nThe nice part is that the command you use to determine the state of those two areas also reminds you how to undo changes to them.\\nFor example, let\\'s say you\\'ve changed two files and want to commit them as two separate changes, but you accidentally type `git add *` and stage them both.\\nHow can you unstage one of the two?\\nThe `git status` command reminds you:\\n\\n[source,console]\\n----\\n$ git add *\\n$ git status\\nOn branch master\\nChanges to be committed:\\n  (use \"git reset HEAD <file>...\" to unstage)\\n\\n    renamed:    README.md -> README\\n    modified:   CONTRIBUTING.md\\n----\\n\\nRight below the \"`Changes to be committed`\" text, it says use `git reset HEAD <file>...` to unstage.\\nSo, let\\'s use that advice to unstage the `CONTRIBUTING.md` file:\\n\\n[source,console]\\n----\\n$ git reset HEAD CONTRIBUTING.md\\nUnstaged changes after reset:\\nM\\tCONTRIBUTING.md\\n$ git status\\nOn branch master\\nChanges to be committed:\\n  (use \"git reset HEAD <file>...\" to unstage)\\n\\n    renamed:    README.md -> README\\n\\nChanges not staged for commit:\\n  (use \"git add <file>...\" to update what will be committed)\\n  (use \"git checkout -- <file>...\" to discard changes in working directory)\\n\\n    modified:   CONTRIBUTING.md\\n----\\n\\nThe command is a bit strange, but it works.\\nThe `CONTRIBUTING.md` file is modified but once again unstaged.\\n\\n[NOTE]\\n=====\\nIt\\'s true that `git reset` can be a dangerous command, especially if you provide the `--hard` flag.\\nHowever, in the scenario described above, the file in your working directory is not touched, so it\\'s relatively safe.\\n=====\\n\\nFor now this magic invocation is all you need to know about the `git reset` command.\\nWe\\'ll go into much more detail about what `reset` does and how to master it to do really interesting things in <<ch07-git-tools#_git_reset>>.\\n\\n==== Unmodifying a Modified File\\n\\nWhat if you realize that you don\\'t want to keep your changes to the `CONTRIBUTING.md` file?\\nHow can you easily unmodify it -- revert it back to what it looked like when you last committed (or initially cloned, or however you got it into your working directory)?\\nLuckily, `git status` tells you how to do that, too.\\nIn the last example output, the unstaged area looks like this:\\n\\n[source,console]\\n----\\nChanges not staged for commit:\\n  (use \"git add <file>...\" to update what will be committed)\\n  (use \"git checkout -- <file>...\" to discard changes in working directory)\\n\\n    modified:   CONTRIBUTING.md\\n----\\n\\nIt tells you pretty explicitly how to discard the changes you\\'ve made.\\nLet\\'s do what it says:\\n\\n[source,console]\\n----\\n$ git checkout -- CONTRIBUTING.md\\n$ git status\\nOn branch master\\nChanges to be committed:\\n  (use \"git reset HEAD <file>...\" to unstage)\\n\\n    renamed:    README.md -> README\\n\\n----\\n\\nYou can see that the changes have been reverted.\\n\\n[IMPORTANT]\\n=====\\nIt\\'s important to understand that `git checkout \\\\-- <file>` is a dangerous command.\\nAny local changes you made to that file are gone -- Git just replaced that file with the last staged or committed version.\\nDon\\'t ever use this command unless you absolutely know that you don\\'t want those unsaved local changes.\\n=====\\n\\nIf you would like to keep the changes you\\'ve made to that file but still need to get it out of the way for now, we\\'ll go over stashing and branching in <<ch03-git-branching#ch03-git-branching>>; these are generally better ways to go.\\n\\nRemember, anything that is _committed_ in Git can almost always be recovered.\\nEven commits that were on branches that were deleted or commits that were overwritten with an `--amend` commit can be recovered (see <<ch10-git-internals#_data_recovery>> for data recovery).\\nHowever, anything you lose that was never committed is likely never to be seen again.\\n\\n[[undoing_git_restore]]\\n==== Undoing things with git restore\\n\\nGit version 2.23.0 introduced a new command: `git restore`.\\nIt\\'s basically an alternative to `git reset` which we just covered.\\nFrom Git version 2.23.0 onwards, Git will use `git restore` instead of `git reset` for many undo operations.\\n\\nLet\\'s retrace our steps, and undo things with `git restore` instead of `git reset`.\\n\\n===== Unstaging a Staged File with git restore\\n\\nThe next two sections demonstrate how to work with your staging area and working directory changes with `git restore`.\\nThe nice part is that the command you use to determine the state of those two areas also reminds you how to undo changes to them.\\nFor example, let\\'s say you\\'ve changed two files and want to commit them as two separate changes, but you accidentally type `git add *` and stage them both.\\nHow can you unstage one of the two?\\nThe `git status` command reminds you:\\n\\n[source,console]\\n----\\n$ git add *\\n$ git status\\nOn branch master\\nChanges to be committed:\\n  (use \"git restore --staged <file>...\" to unstage)\\n\\tmodified:   CONTRIBUTING.md\\n\\trenamed:    README.md -> README\\n\\n----\\n\\nRight below the \"`Changes to be committed`\" text, it says use `git restore --staged <file>...` to unstage.\\nSo, let\\'s use that advice to unstage the `CONTRIBUTING.md` file:\\n\\n[source,console]\\n----\\n$ git restore --staged CONTRIBUTING.md\\n$ git status\\nOn branch master\\nChanges to be committed:\\n  (use \"git restore --staged <file>...\" to unstage)\\n\\trenamed:    README.md -> README\\n\\nChanges not staged for commit:\\n  (use \"git add <file>...\" to update what will be committed)\\n  (use \"git restore <file>...\" to discard changes in working directory)\\n\\tmodified:   CONTRIBUTING.md\\n\\n----\\n\\nThe `CONTRIBUTING.md` file is modified but once again unstaged.\\n\\n===== Unmodifying a Modified File with git restore\\n\\nWhat if you realize that you don\\'t want to keep your changes to the `CONTRIBUTING.md` file?\\nHow can you easily unmodify it -- revert it back to what it looked like when you last committed (or initially cloned, or however you got it into your working directory)?\\nLuckily, `git status` tells you how to do that, too.\\nIn the last example output, the unstaged area looks like this:\\n\\n[source,console]\\n----\\nChanges not staged for commit:\\n  (use \"git add <file>...\" to update what will be committed)\\n  (use \"git restore <file>...\" to discard changes in working directory)\\n\\tmodified:   CONTRIBUTING.md\\n\\n----\\n\\nIt tells you pretty explicitly how to discard the changes you\\'ve made.\\nLet\\'s do what it says:\\n\\n[source,console]\\n----\\n$ git restore CONTRIBUTING.md\\n$ git status\\nOn branch master\\nChanges to be committed:\\n  (use \"git restore --staged <file>...\" to unstage)\\n\\trenamed:    README.md -> README\\n\\n----\\n\\n[IMPORTANT]\\n=====\\nIt\\'s important to understand that `git restore <file>` is a dangerous command.\\nAny local changes you made to that file are gone -- Git just replaced that file with the last staged or committed version.\\nDon\\'t ever use this command unless you absolutely know that you don\\'t want those unsaved local changes.\\n=====\\n',\n",
       "  'chapter_title': '02-git-basics',\n",
       "  'filename': 'undoing.asc'},\n",
       " {'body': '[[_viewing_history]]\\n=== Viewing the Commit History\\n\\nAfter you have created several commits, or if you have cloned a repository with an existing commit history, you\\'ll probably want to look back to see what has happened.\\nThe most basic and powerful tool to do this is the `git log` command.\\n\\nThese examples use a very simple project called \"`simplegit`\".\\nTo get the project, run:\\n\\n[source,console]\\n----\\n$ git clone https://github.com/schacon/simplegit-progit\\n----\\n\\nWhen you run `git log` in this project, you should get output that looks something like this:(((git commands, log)))\\n\\n[source,console]\\n----\\n$ git log\\ncommit ca82a6dff817ec66f44342007202690a93763949\\nAuthor: Scott Chacon <schacon@gee-mail.com>\\nDate:   Mon Mar 17 21:52:11 2008 -0700\\n\\n    Change version number\\n\\ncommit 085bb3bcb608e1e8451d4b2432f8ecbe6306e7e7\\nAuthor: Scott Chacon <schacon@gee-mail.com>\\nDate:   Sat Mar 15 16:40:33 2008 -0700\\n\\n    Remove unnecessary test\\n\\ncommit a11bef06a3f659402fe7563abf99ad00de2209e6\\nAuthor: Scott Chacon <schacon@gee-mail.com>\\nDate:   Sat Mar 15 10:31:28 2008 -0700\\n\\n    Initial commit\\n----\\n\\nBy default, with no arguments, `git log` lists the commits made in that repository in reverse chronological order; that is, the most recent commits show up first.\\nAs you can see, this command lists each commit with its SHA-1 checksum, the author\\'s name and email, the date written, and the commit message.\\n\\nA huge number and variety of options to the `git log` command are available to show you exactly what you\\'re looking for.\\nHere, we\\'ll show you some of the most popular.\\n\\nOne of the more helpful options is `-p` or `--patch`, which shows the difference (the _patch_ output) introduced in each commit.\\nYou can also limit the number of log entries displayed, such as using `-2` to show only the last two entries.\\n\\n[source,console]\\n----\\n$ git log -p -2\\ncommit ca82a6dff817ec66f44342007202690a93763949\\nAuthor: Scott Chacon <schacon@gee-mail.com>\\nDate:   Mon Mar 17 21:52:11 2008 -0700\\n\\n    Change version number\\n\\ndiff --git a/Rakefile b/Rakefile\\nindex a874b73..8f94139 100644\\n--- a/Rakefile\\n+++ b/Rakefile\\n@@ -5,7 +5,7 @@ require \\'rake/gempackagetask\\'\\n spec = Gem::Specification.new do |s|\\n     s.platform  =   Gem::Platform::RUBY\\n     s.name      =   \"simplegit\"\\n-    s.version   =   \"0.1.0\"\\n+    s.version   =   \"0.1.1\"\\n     s.author    =   \"Scott Chacon\"\\n     s.email     =   \"schacon@gee-mail.com\"\\n     s.summary   =   \"A simple gem for using Git in Ruby code.\"\\n\\ncommit 085bb3bcb608e1e8451d4b2432f8ecbe6306e7e7\\nAuthor: Scott Chacon <schacon@gee-mail.com>\\nDate:   Sat Mar 15 16:40:33 2008 -0700\\n\\n    Remove unnecessary test\\n\\ndiff --git a/lib/simplegit.rb b/lib/simplegit.rb\\nindex a0a60ae..47c6340 100644\\n--- a/lib/simplegit.rb\\n+++ b/lib/simplegit.rb\\n@@ -18,8 +18,3 @@ class SimpleGit\\n     end\\n\\n end\\n-\\n-if $0 == __FILE__\\n-  git = SimpleGit.new\\n-  puts git.show\\n-end\\n----\\n\\nThis option displays the same information but with a diff directly following each entry.\\nThis is very helpful for code review or to quickly browse what happened during a series of commits that a collaborator has added.\\nYou can also use a series of summarizing options with `git log`.\\nFor example, if you want to see some abbreviated stats for each commit, you can use the `--stat` option:\\n\\n[source,console]\\n----\\n$ git log --stat\\ncommit ca82a6dff817ec66f44342007202690a93763949\\nAuthor: Scott Chacon <schacon@gee-mail.com>\\nDate:   Mon Mar 17 21:52:11 2008 -0700\\n\\n    Change version number\\n\\n Rakefile | 2 +-\\n 1 file changed, 1 insertion(+), 1 deletion(-)\\n\\ncommit 085bb3bcb608e1e8451d4b2432f8ecbe6306e7e7\\nAuthor: Scott Chacon <schacon@gee-mail.com>\\nDate:   Sat Mar 15 16:40:33 2008 -0700\\n\\n    Remove unnecessary test\\n\\n lib/simplegit.rb | 5 -----\\n 1 file changed, 5 deletions(-)\\n\\ncommit a11bef06a3f659402fe7563abf99ad00de2209e6\\nAuthor: Scott Chacon <schacon@gee-mail.com>\\nDate:   Sat Mar 15 10:31:28 2008 -0700\\n\\n    Initial commit\\n\\n README           |  6 ++++++\\n Rakefile         | 23 +++++++++++++++++++++++\\n lib/simplegit.rb | 25 +++++++++++++++++++++++++\\n 3 files changed, 54 insertions(+)\\n----\\n\\nAs you can see, the `--stat` option prints below each commit entry a list of modified files, how many files were changed, and how many lines in those files were added and removed.\\nIt also puts a summary of the information at the end.\\n\\nAnother really useful option is `--pretty`.\\nThis option changes the log output to formats other than the default.\\nA few prebuilt option values are available for you to use.\\nThe `oneline` value for this option prints each commit on a single line, which is useful if you\\'re looking at a lot of commits.\\nIn addition, the `short`, `full`, and `fuller` values show the output in roughly the same format but with less or more information, respectively:\\n\\n[source,console]\\n----\\n$ git log --pretty=oneline\\nca82a6dff817ec66f44342007202690a93763949 Change version number\\n085bb3bcb608e1e8451d4b2432f8ecbe6306e7e7 Remove unnecessary test\\na11bef06a3f659402fe7563abf99ad00de2209e6 Initial commit\\n----\\n\\nThe most interesting option value is `format`, which allows you to specify your own log output format.\\nThis is especially useful when you\\'re generating output for machine parsing -- because you specify the format explicitly, you know it won\\'t change with updates to Git:(((log formatting)))\\n\\n[source,console]\\n----\\n$ git log --pretty=format:\"%h - %an, %ar : %s\"\\nca82a6d - Scott Chacon, 6 years ago : Change version number\\n085bb3b - Scott Chacon, 6 years ago : Remove unnecessary test\\na11bef0 - Scott Chacon, 6 years ago : Initial commit\\n----\\n\\n<<pretty_format>> lists some of the more useful specifiers that `format` takes.\\n\\n[[pretty_format]]\\n.Useful specifiers for `git log --pretty=format`\\n[cols=\"1,4\",options=\"header\"]\\n|================================\\n| Specifier | Description of Output\\n| `%H`      | Commit hash\\n| `%h`      | Abbreviated commit hash\\n| `%T`      | Tree hash\\n| `%t`      | Abbreviated tree hash\\n| `%P`      | Parent hashes\\n| `%p`      | Abbreviated parent hashes\\n| `%an`     | Author name\\n| `%ae`     | Author email\\n| `%ad`     | Author date (format respects the `--date=option`)\\n| `%ar`     | Author date, relative\\n| `%cn`     | Committer name\\n| `%ce`     | Committer email\\n| `%cd`     | Committer date\\n| `%cr`     | Committer date, relative\\n| `%s`      | Subject\\n|================================\\n\\nYou may be wondering what the difference is between _author_ and _committer_.\\nThe author is the person who originally wrote the work, whereas the committer is the person who last applied the work.\\nSo, if you send in a patch to a project and one of the core members applies the patch, both of you get credit -- you as the author, and the core member as the committer.\\nWe\\'ll cover this distinction a bit more in <<ch05-distributed-git#ch05-distributed-git>>.\\n\\nThe `oneline` and `format` option values are particularly useful with another `log` option called `--graph`.\\nThis option adds a nice little ASCII graph showing your branch and merge history:\\n\\n[source,console]\\n----\\n$ git log --pretty=format:\"%h %s\" --graph\\n* 2d3acf9 Ignore errors from SIGCHLD on trap\\n*  5e3ee11 Merge branch \\'master\\' of https://github.com/dustin/grit.git\\n|\\\\\\n| * 420eac9 Add method for getting the current branch\\n* | 30e367c Timeout code and tests\\n* | 5a09431 Add timeout protection to grit\\n* | e1193f8 Support for heads with slashes in them\\n|/\\n* d6016bc Require time for xmlschema\\n*  11d191e Merge branch \\'defunkt\\' into local\\n----\\n\\nThis type of output will become more interesting as we go through branching and merging in the next chapter.\\n\\nThose are only some simple output-formatting options to `git log` -- there are many more.\\n<<log_options>> lists the options we\\'ve covered so far, as well as some other common formatting options that may be useful, along with how they change the output of the `log` command.\\n\\n[[log_options]]\\n.Common options to `git log`\\n[cols=\"1,4\",options=\"header\"]\\n|================================\\n| Option            | Description\\n| `-p`              | Show the patch introduced with each commit.\\n| `--stat`          | Show statistics for files modified in each commit.\\n| `--shortstat`     | Display only the changed/insertions/deletions line from the `--stat` command.\\n| `--name-only`     | Show the list of files modified after the commit information.\\n| `--name-status`   | Show the list of files affected with added/modified/deleted information as well.\\n| `--abbrev-commit` | Show only the first few characters of the SHA-1 checksum instead of all 40.\\n| `--relative-date` | Display the date in a relative format (for example, \"`2 weeks ago`\") instead of using the full date format.\\n| `--graph`         | Display an ASCII graph of the branch and merge history beside the log output.\\n| `--pretty`        | Show commits in an alternate format. Option values include `oneline`, `short`, `full`, `fuller`, and `format` (where you specify your own format).\\n| `--oneline`       | Shorthand for `--pretty=oneline --abbrev-commit` used together.\\n|================================\\n\\n==== Limiting Log Output\\n\\nIn addition to output-formatting options, `git log` takes a number of useful limiting options; that is, options that let you show only a subset of commits.\\nYou\\'ve seen one such option already -- the `-2` option, which displays only the last two commits.\\nIn fact, you can do `-<n>`, where `n` is any integer to show the last `n` commits.\\nIn reality, you\\'re unlikely to use that often, because Git by default pipes all output through a pager so you see only one page of log output at a time.\\n\\nHowever, the time-limiting options such as `--since` and `--until` are very useful.\\nFor example, this command gets the list of commits made in the last two weeks:\\n\\n[source,console]\\n----\\n$ git log --since=2.weeks\\n----\\n\\nThis command works with lots of formats -- you can specify a specific date like `\"2008-01-15\"`, or a relative date such as `\"2 years 1 day 3 minutes ago\"`.\\n\\nYou can also filter the list to commits that match some search criteria.\\nThe `--author` option allows you to filter on a specific author, and the `--grep` option lets you search for keywords in the commit messages.\\n\\n[NOTE]\\n====\\nYou can specify more than one instance of both the `--author` and `--grep` search criteria, which will limit the commit output to commits that match _any_ of the `--author` patterns and _any_ of the `--grep` patterns; however, adding the `--all-match` option further limits the output to just those commits that match _all_ `--grep` patterns.\\n====\\n\\nAnother really helpful filter is the `-S` option (colloquially referred to as Git\\'s \"`pickaxe`\" option), which takes a string and shows only those commits that changed the number of occurrences of that string.\\nFor instance, if you wanted to find the last commit that added or removed a reference to a specific function, you could call:\\n\\n[source,console]\\n----\\n$ git log -S function_name\\n----\\n\\nThe last really useful option to pass to `git log` as a filter is a path.\\nIf you specify a directory or file name, you can limit the log output to commits that introduced a change to those files.\\nThis is always the last option and is generally preceded by double dashes (`--`) to separate the paths from the options:\\n\\n[source,console]\\n----\\n$ git log -- path/to/file\\n----\\n\\nIn <<limit_options>> we\\'ll list these and a few other common options for your reference.\\n\\n[[limit_options]]\\n.Options to limit the output of `git log`\\n[cols=\"2,4\",options=\"header\"]\\n|================================\\n| Option                | Description\\n| `-<n>`                | Show only the last n commits.\\n| `--since`, `--after`  | Limit the commits to those made after the specified date.\\n| `--until`, `--before` | Limit the commits to those made before the specified date.\\n| `--author`            | Only show commits in which the author entry matches the specified string.\\n| `--committer`         | Only show commits in which the committer entry matches the specified string.\\n| `--grep`              | Only show commits with a commit message containing the string.\\n| `-S`                  | Only show commits adding or removing code matching the string.\\n|================================\\n\\nFor example, if you want to see which commits modifying test files in the Git source code history were committed by Junio Hamano in the month of October 2008 and are not merge commits, you can run something like this:(((log filtering)))\\n\\n[source,console]\\n----\\n$ git log --pretty=\"%h - %s\" --author=\\'Junio C Hamano\\' --since=\"2008-10-01\" \\\\\\n   --before=\"2008-11-01\" --no-merges -- t/\\n5610e3b - Fix testcase failure when extended attributes are in use\\nacd3b9e - Enhance hold_lock_file_for_{update,append}() API\\nf563754 - demonstrate breakage of detached checkout with symbolic link HEAD\\nd1a43f2 - reset --hard/read-tree --reset -u: remove unmerged new paths\\n51a94af - Fix \"checkout --track -b newbranch\" on detached HEAD\\nb0ad11e - pull: allow \"git pull origin $something:$current_branch\" into an unborn branch\\n----\\n\\nOf the nearly 40,000 commits in the Git source code history, this command shows the 6 that match those criteria.\\n\\n[TIP]\\n.Preventing the display of merge commits\\n====\\nDepending on the workflow used in your repository, it\\'s possible that a sizable percentage of the commits in your log history are just merge commits, which typically aren\\'t very informative.\\nTo prevent the display of merge commits cluttering up your log history, simply add the `log` option `--no-merges`.\\n====\\n',\n",
       "  'chapter_title': '02-git-basics',\n",
       "  'filename': 'viewing-history.asc'}]"
      ]
     },
     "execution_count": 2,
     "metadata": {},
     "output_type": "execute_result"
    }
   ],
   "source": [
    "text_objs"
   ]
  },
  {
   "cell_type": "code",
   "execution_count": 3,
   "metadata": {},
   "outputs": [],
   "source": [
    "text_obj = text_objs[0]"
   ]
  },
  {
   "cell_type": "code",
   "execution_count": 4,
   "metadata": {},
   "outputs": [
    {
     "data": {
      "text/plain": [
       "{'body': '=== About Version Control\\n\\n(((version control)))\\nWhat is \"`version control`\", and why should you care?\\nVersion control is a system that records changes to a file or set of files over time so that you can recall specific versions later.\\nFor the examples in this book, you will use software source code as the files being version controlled, though in reality you can do this with nearly any type of file on a computer.\\n\\nIf you are a graphic or web designer and want to keep every version of an image or layout (which you would most certainly want to), a Version Control System (VCS) is a very wise thing to use.\\nIt allows you to revert selected files back to a previous state, revert the entire project back to a previous state, compare changes over time, see who last modified something that might be causing a problem, who introduced an issue and when, and more.\\nUsing a VCS also generally means that if you screw things up or lose files, you can easily recover.\\nIn addition, you get all this for very little overhead.\\n\\n==== Local Version Control Systems\\n\\n(((version control,local)))\\nMany people\\'s version-control method of choice is to copy files into another directory (perhaps a time-stamped directory, if they\\'re clever).\\nThis approach is very common because it is so simple, but it is also incredibly error prone.\\nIt is easy to forget which directory you\\'re in and accidentally write to the wrong file or copy over files you don\\'t mean to.\\n\\nTo deal with this issue, programmers long ago developed local VCSs that had a simple database that kept all the changes to files under revision control.\\n\\n.Local version control diagram\\nimage::images/local.png[Local version control diagram]\\n\\nOne of the most popular VCS tools was a system called RCS, which is still distributed with many computers today.\\nhttps://www.gnu.org/software/rcs/[RCS^] works by keeping patch sets (that is, the differences between files) in a special format on disk; it can then re-create what any file looked like at any point in time by adding up all the patches.\\n\\n==== Centralized Version Control Systems\\n\\n(((version control,centralized)))\\nThe next major issue that people encounter is that they need to collaborate with developers on other systems.\\nTo deal with this problem, Centralized Version Control Systems (CVCSs) were developed.\\nThese systems (such as CVS, Subversion, and Perforce) have a single server that contains all the versioned files, and a number of clients that check out files from that central place.(((CVS)))(((Subversion)))(((Perforce)))\\nFor many years, this has been the standard for version control.\\n\\n.Centralized version control diagram\\nimage::images/centralized.png[Centralized version control diagram]\\n\\nThis setup offers many advantages, especially over local VCSs.\\nFor example, everyone knows to a certain degree what everyone else on the project is doing.\\nAdministrators have fine-grained control over who can do what, and it\\'s far easier to administer a CVCS than it is to deal with local databases on every client.\\n\\nHowever, this setup also has some serious downsides.\\nThe most obvious is the single point of failure that the centralized server represents.\\nIf that server goes down for an hour, then during that hour nobody can collaborate at all or save versioned changes to anything they\\'re working on.\\nIf the hard disk the central database is on becomes corrupted, and proper backups haven\\'t been kept, you lose absolutely everything -- the entire history of the project except whatever single snapshots people happen to have on their local machines.\\nLocal VCSs suffer from this same problem -- whenever you have the entire history of the project in a single place, you risk losing everything.\\n\\n==== Distributed Version Control Systems\\n\\n(((version control,distributed)))\\nThis is where Distributed Version Control Systems (DVCSs) step in.\\nIn a DVCS (such as Git, Mercurial, Bazaar or Darcs), clients don\\'t just check out the latest snapshot of the files; rather, they fully mirror the repository, including its full history.\\nThus, if any server dies, and these systems were collaborating via that server, any of the client repositories can be copied back up to the server to restore it.\\nEvery clone is really a full backup of all the data.\\n\\n.Distributed version control diagram\\nimage::images/distributed.png[Distributed version control diagram]\\n\\nFurthermore, many of these systems deal pretty well with having several remote repositories they can work with, so you can collaborate with different groups of people in different ways simultaneously within the same project.\\nThis allows you to set up several types of workflows that aren\\'t possible in centralized systems, such as hierarchical models.\\n',\n",
       " 'chapter_title': '01-introduction',\n",
       " 'filename': 'about-version-control.asc'}"
      ]
     },
     "execution_count": 4,
     "metadata": {},
     "output_type": "execute_result"
    }
   ],
   "source": [
    "text_obj"
   ]
  },
  {
   "cell_type": "code",
   "execution_count": 5,
   "metadata": {},
   "outputs": [
    {
     "name": "stdout",
     "output_type": "stream",
     "text": [
      "Started /Users/jphwang/.cache/weaviate-embedded: process ID 62720\n"
     ]
    },
    {
     "name": "stderr",
     "output_type": "stream",
     "text": [
      "{\"action\":\"startup\",\"default_vectorizer_module\":\"none\",\"level\":\"info\",\"msg\":\"the default vectorizer modules is set to \\\"none\\\", as a result all new schema classes without an explicit vectorizer setting, will use this vectorizer\",\"time\":\"2023-08-11T12:13:53+01:00\"}\n",
      "{\"action\":\"startup\",\"auto_schema_enabled\":true,\"level\":\"info\",\"msg\":\"auto schema enabled setting is set to \\\"true\\\"\",\"time\":\"2023-08-11T12:13:53+01:00\"}\n",
      "{\"action\":\"hnsw_vector_cache_prefill\",\"count\":3000,\"index_id\":\"knowledgeblock_1q1b9BLntORd\",\"level\":\"info\",\"limit\":1000000000000,\"msg\":\"prefilled vector cache\",\"time\":\"2023-08-11T12:13:53+01:00\",\"took\":277167}\n",
      "{\"action\":\"hnsw_vector_cache_prefill\",\"count\":3000,\"index_id\":\"docchunk_ZzfkiDQ02JIO\",\"level\":\"info\",\"limit\":1000000000000,\"msg\":\"prefilled vector cache\",\"time\":\"2023-08-11T12:13:53+01:00\",\"took\":243209}\n",
      "{\"level\":\"warning\",\"msg\":\"Multiple vector spaces are present, GraphQL Explore and REST API list objects endpoint module include params has been disabled as a result.\",\"time\":\"2023-08-11T12:13:53+01:00\"}\n",
      "{\"action\":\"grpc_startup\",\"level\":\"info\",\"msg\":\"grpc server listening at [::]:50051\",\"time\":\"2023-08-11T12:13:53+01:00\"}\n",
      "{\"action\":\"hnsw_vector_cache_prefill\",\"count\":3000,\"index_id\":\"chunk_8Y3mwyBSOEPi\",\"level\":\"info\",\"limit\":1000000000000,\"msg\":\"prefilled vector cache\",\"time\":\"2023-08-11T12:13:53+01:00\",\"took\":7643791}\n",
      "{\"action\":\"restapi_management\",\"level\":\"info\",\"msg\":\"Serving weaviate at http://127.0.0.1:6666\",\"time\":\"2023-08-11T12:13:53+01:00\"}\n"
     ]
    },
    {
     "data": {
      "text/plain": [
       "True"
      ]
     },
     "execution_count": 5,
     "metadata": {},
     "output_type": "execute_result"
    }
   ],
   "source": [
    "# Set up Weaviate\n",
    "import weaviate\n",
    "import os\n",
    "\n",
    "client = weaviate.Client(\n",
    "    embedded_options=weaviate.EmbeddedOptions(),\n",
    "    additional_headers={\n",
    "        \"X-OpenAI-Api-Key\": os.environ[\"OPENAI_APIKEY\"]\n",
    "    }\n",
    ")\n",
    "client.is_ready()"
   ]
  },
  {
   "cell_type": "code",
   "execution_count": 6,
   "metadata": {},
   "outputs": [],
   "source": [
    "COLLECTION_NAME = \"Chunk\"\n",
    "\n",
    "if client.schema.exists(COLLECTION_NAME):\n",
    "    client.schema.delete_class(COLLECTION_NAME)"
   ]
  },
  {
   "cell_type": "markdown",
   "metadata": {},
   "source": [
    "Define the collection - you can use the example definition from our docs!"
   ]
  },
  {
   "cell_type": "code",
   "execution_count": 7,
   "metadata": {},
   "outputs": [
    {
     "name": "stderr",
     "output_type": "stream",
     "text": [
      "{\"action\":\"hnsw_vector_cache_prefill\",\"count\":1000,\"index_id\":\"chunk_pzhMqCJ2YcSh\",\"level\":\"info\",\"limit\":1000000000000,\"msg\":\"prefilled vector cache\",\"time\":\"2023-08-11T12:13:54+01:00\",\"took\":75625}\n"
     ]
    }
   ],
   "source": [
    "chunk_class_def = {\n",
    "    \"class\": COLLECTION_NAME,\n",
    "    \"vectorizer\": \"text2vec-openai\",\n",
    "    \"vectorIndexConfig\": {\n",
    "        \"distance\": \"cosine\",\n",
    "    },\n",
    "    \"moduleConfig\": {\n",
    "        \"generative-openai\": {}\n",
    "    },\n",
    "    \"properties\": [\n",
    "        {\n",
    "            \"name\": \"title\",\n",
    "            \"dataType\": [\"text\"]\n",
    "        },        \n",
    "        {\n",
    "            \"name\": \"chunk\",\n",
    "            \"dataType\": [\"text\"]\n",
    "        },\n",
    "        {\n",
    "            \"name\": \"chunk_no\",\n",
    "            \"dataType\": [\"int\"]\n",
    "        },\n",
    "        {\n",
    "            \"name\": \"url\",\n",
    "            \"dataType\": [\"text\"],\n",
    "            \"tokenization\": \"field\",\n",
    "            \"moduleConfig\": {\n",
    "                \"text2vec-openai\": {\n",
    "                    \"skip\": True\n",
    "                },\n",
    "            }\n",
    "        },\n",
    "    ],\n",
    "}\n",
    "\n",
    "client.schema.create_class(chunk_class_def)"
   ]
  },
  {
   "cell_type": "markdown",
   "metadata": {},
   "source": [
    "Split the text into chunks"
   ]
  },
  {
   "cell_type": "code",
   "execution_count": 8,
   "metadata": {},
   "outputs": [],
   "source": [
    "from typing import List\n",
    "\n",
    "def get_chunks(text_in: str, chunk_size: int = 300) -> List[str]:\n",
    "    import math\n",
    "    \n",
    "    chunks = list()\n",
    "    for i in range(math.ceil(len(text_in) / chunk_size)):\n",
    "        chunk = text_in[i * chunk_size: (i+1) * chunk_size]\n",
    "        chunks.append(chunk)\n",
    "    return chunks"
   ]
  },
  {
   "cell_type": "markdown",
   "metadata": {},
   "source": [
    "Make sure our chunking looks okay"
   ]
  },
  {
   "cell_type": "code",
   "execution_count": 9,
   "metadata": {},
   "outputs": [
    {
     "data": {
      "text/plain": [
       "['=== About Version Control\\n\\n(((version control)))\\nWhat is \"`version control`\", and why should you care?\\nVersion control is a system that records changes to a file or set of files over time so that you can recall specific versions later.\\nFor the examples in this book, you will use software source code',\n",
       " ' as the files being version controlled, though in reality you can do this with nearly any type of file on a computer.\\n\\nIf you are a graphic or web designer and want to keep every version of an image or layout (which you would most certainly want to), a Version Control System (VCS) is a very wise thi',\n",
       " 'ng to use.\\nIt allows you to revert selected files back to a previous state, revert the entire project back to a previous state, compare changes over time, see who last modified something that might be causing a problem, who introduced an issue and when, and more.\\nUsing a VCS also generally means tha',\n",
       " \"t if you screw things up or lose files, you can easily recover.\\nIn addition, you get all this for very little overhead.\\n\\n==== Local Version Control Systems\\n\\n(((version control,local)))\\nMany people's version-control method of choice is to copy files into another directory (perhaps a time-stamped dire\",\n",
       " \"ctory, if they're clever).\\nThis approach is very common because it is so simple, but it is also incredibly error prone.\\nIt is easy to forget which directory you're in and accidentally write to the wrong file or copy over files you don't mean to.\\n\\nTo deal with this issue, programmers long ago develop\",\n",
       " 'ed local VCSs that had a simple database that kept all the changes to files under revision control.\\n\\n.Local version control diagram\\nimage::images/local.png[Local version control diagram]\\n\\nOne of the most popular VCS tools was a system called RCS, which is still distributed with many computers today.',\n",
       " '\\nhttps://www.gnu.org/software/rcs/[RCS^] works by keeping patch sets (that is, the differences between files) in a special format on disk; it can then re-create what any file looked like at any point in time by adding up all the patches.\\n\\n==== Centralized Version Control Systems\\n\\n(((version control,',\n",
       " 'centralized)))\\nThe next major issue that people encounter is that they need to collaborate with developers on other systems.\\nTo deal with this problem, Centralized Version Control Systems (CVCSs) were developed.\\nThese systems (such as CVS, Subversion, and Perforce) have a single server that contains',\n",
       " ' all the versioned files, and a number of clients that check out files from that central place.(((CVS)))(((Subversion)))(((Perforce)))\\nFor many years, this has been the standard for version control.\\n\\n.Centralized version control diagram\\nimage::images/centralized.png[Centralized version control diagr',\n",
       " \"am]\\n\\nThis setup offers many advantages, especially over local VCSs.\\nFor example, everyone knows to a certain degree what everyone else on the project is doing.\\nAdministrators have fine-grained control over who can do what, and it's far easier to administer a CVCS than it is to deal with local databa\",\n",
       " \"ses on every client.\\n\\nHowever, this setup also has some serious downsides.\\nThe most obvious is the single point of failure that the centralized server represents.\\nIf that server goes down for an hour, then during that hour nobody can collaborate at all or save versioned changes to anything they're w\",\n",
       " \"orking on.\\nIf the hard disk the central database is on becomes corrupted, and proper backups haven't been kept, you lose absolutely everything -- the entire history of the project except whatever single snapshots people happen to have on their local machines.\\nLocal VCSs suffer from this same problem\",\n",
       " ' -- whenever you have the entire history of the project in a single place, you risk losing everything.\\n\\n==== Distributed Version Control Systems\\n\\n(((version control,distributed)))\\nThis is where Distributed Version Control Systems (DVCSs) step in.\\nIn a DVCS (such as Git, Mercurial, Bazaar or Darcs), ',\n",
       " \"clients don't just check out the latest snapshot of the files; rather, they fully mirror the repository, including its full history.\\nThus, if any server dies, and these systems were collaborating via that server, any of the client repositories can be copied back up to the server to restore it.\\nEvery\",\n",
       " ' clone is really a full backup of all the data.\\n\\n.Distributed version control diagram\\nimage::images/distributed.png[Distributed version control diagram]\\n\\nFurthermore, many of these systems deal pretty well with having several remote repositories they can work with, so you can collaborate with differ',\n",
       " \"ent groups of people in different ways simultaneously within the same project.\\nThis allows you to set up several types of workflows that aren't possible in centralized systems, such as hierarchical models.\\n\"]"
      ]
     },
     "execution_count": 9,
     "metadata": {},
     "output_type": "execute_result"
    }
   ],
   "source": [
    "get_chunks(text_obj[\"body\"])"
   ]
  },
  {
   "cell_type": "code",
   "execution_count": 10,
   "metadata": {},
   "outputs": [
    {
     "data": {
      "text/plain": [
       "'centralized systems, such as hierarchical models.\\n'"
      ]
     },
     "execution_count": 10,
     "metadata": {},
     "output_type": "execute_result"
    }
   ],
   "source": [
    "text_obj[\"body\"][-50:]"
   ]
  },
  {
   "cell_type": "code",
   "execution_count": 11,
   "metadata": {
    "scrolled": true
   },
   "outputs": [
    {
     "data": {
      "text/plain": [
       "[{'name': 'title', 'dataType': ['text']},\n",
       " {'name': 'chunk', 'dataType': ['text']},\n",
       " {'name': 'chunk_no', 'dataType': ['int']},\n",
       " {'name': 'url',\n",
       "  'dataType': ['text'],\n",
       "  'tokenization': 'field',\n",
       "  'moduleConfig': {'text2vec-openai': {'skip': True}}}]"
      ]
     },
     "execution_count": 11,
     "metadata": {},
     "output_type": "execute_result"
    }
   ],
   "source": [
    "chunk_class_def[\"properties\"]"
   ]
  },
  {
   "cell_type": "code",
   "execution_count": 12,
   "metadata": {},
   "outputs": [
    {
     "data": {
      "text/plain": [
       "dict_keys(['body', 'chapter_title', 'filename'])"
      ]
     },
     "execution_count": 12,
     "metadata": {},
     "output_type": "execute_result"
    }
   ],
   "source": [
    "text_obj.keys()"
   ]
  },
  {
   "cell_type": "code",
   "execution_count": 13,
   "metadata": {},
   "outputs": [],
   "source": [
    "from weaviate.util import generate_uuid5\n",
    "\n",
    "with client.batch(batch_size=50) as batch:\n",
    "    chunks = get_chunks(text_obj[\"body\"])\n",
    "    for i, chunk in enumerate(chunks):\n",
    "        data_object = {\n",
    "            \"title\": text_obj[\"filename\"],\n",
    "            \"chunk\": chunk,\n",
    "            \"chunk_no\": i,\n",
    "            \"url\": text_obj[\"chapter_title\"] + \": \" + text_obj[\"filename\"]\n",
    "        }   \n",
    "        batch.add_data_object(\n",
    "            data_object=data_object,\n",
    "            class_name=COLLECTION_NAME,\n",
    "            uuid=generate_uuid5(data_object)\n",
    "        )"
   ]
  },
  {
   "cell_type": "code",
   "execution_count": 14,
   "metadata": {
    "scrolled": true
   },
   "outputs": [
    {
     "data": {
      "text/plain": [
       "{'data': {'Aggregate': {'Chunk': [{'meta': {'count': 16}}]}}}"
      ]
     },
     "execution_count": 14,
     "metadata": {},
     "output_type": "execute_result"
    }
   ],
   "source": [
    "client.query.aggregate(COLLECTION_NAME).with_meta_count().do()"
   ]
  },
  {
   "cell_type": "code",
   "execution_count": 15,
   "metadata": {},
   "outputs": [
    {
     "data": {
      "text/plain": [
       "{'data': {'Get': {'Chunk': [{'chunk': ' -- whenever you have the entire history of the project in a single place, you risk losing everything.\\n\\n==== Distributed Version Control Systems\\n\\n(((version control,distributed)))\\nThis is where Distributed Version Control Systems (DVCSs) step in.\\nIn a DVCS (such as Git, Mercurial, Bazaar or Darcs), ',\n",
       "     'chunk_no': 12},\n",
       "    {'chunk': '=== About Version Control\\n\\n(((version control)))\\nWhat is \"`version control`\", and why should you care?\\nVersion control is a system that records changes to a file or set of files over time so that you can recall specific versions later.\\nFor the examples in this book, you will use software source code',\n",
       "     'chunk_no': 0},\n",
       "    {'chunk': 'ed local VCSs that had a simple database that kept all the changes to files under revision control.\\n\\n.Local version control diagram\\nimage::images/local.png[Local version control diagram]\\n\\nOne of the most popular VCS tools was a system called RCS, which is still distributed with many computers today.',\n",
       "     'chunk_no': 5}]}}}"
      ]
     },
     "metadata": {},
     "output_type": "display_data"
    }
   ],
   "source": [
    "response = (\n",
    "    client.query.get(COLLECTION_NAME, [\"chunk\", \"chunk_no\"])\n",
    "    .with_near_text({\"concepts\": [\"history of git\"]})\n",
    "    .with_limit(3)\n",
    "    .do()\n",
    ")\n",
    "\n",
    "display(response)"
   ]
  },
  {
   "cell_type": "code",
   "execution_count": 16,
   "metadata": {},
   "outputs": [],
   "source": [
    "def near_text(query, limit=3):\n",
    "    import json\n",
    "    response = (\n",
    "        client.query.get(COLLECTION_NAME, [\"chunk\", \"chunk_no\", \"title\", \"url\"])\n",
    "        .with_near_text({\"concepts\": [query]})\n",
    "        .with_limit(limit)\n",
    "        .do()\n",
    "    )\n",
    "    for r in response[\"data\"][\"Get\"][COLLECTION_NAME]:\n",
    "        print(json.dumps(r, indent=2))\n",
    "    return None"
   ]
  },
  {
   "cell_type": "code",
   "execution_count": 17,
   "metadata": {},
   "outputs": [
    {
     "name": "stdout",
     "output_type": "stream",
     "text": [
      "{\n",
      "  \"chunk\": \"=== About Version Control\\n\\n(((version control)))\\nWhat is \\\"`version control`\\\", and why should you care?\\nVersion control is a system that records changes to a file or set of files over time so that you can recall specific versions later.\\nFor the examples in this book, you will use software source code\",\n",
      "  \"chunk_no\": 0,\n",
      "  \"title\": \"about-version-control.asc\",\n",
      "  \"url\": \"01-introduction: about-version-control.asc\"\n",
      "}\n",
      "{\n",
      "  \"chunk\": \" -- whenever you have the entire history of the project in a single place, you risk losing everything.\\n\\n==== Distributed Version Control Systems\\n\\n(((version control,distributed)))\\nThis is where Distributed Version Control Systems (DVCSs) step in.\\nIn a DVCS (such as Git, Mercurial, Bazaar or Darcs), \",\n",
      "  \"chunk_no\": 12,\n",
      "  \"title\": \"about-version-control.asc\",\n",
      "  \"url\": \"01-introduction: about-version-control.asc\"\n",
      "}\n",
      "{\n",
      "  \"chunk\": \"ed local VCSs that had a simple database that kept all the changes to files under revision control.\\n\\n.Local version control diagram\\nimage::images/local.png[Local version control diagram]\\n\\nOne of the most popular VCS tools was a system called RCS, which is still distributed with many computers today.\",\n",
      "  \"chunk_no\": 5,\n",
      "  \"title\": \"about-version-control.asc\",\n",
      "  \"url\": \"01-introduction: about-version-control.asc\"\n",
      "}\n"
     ]
    }
   ],
   "source": [
    "near_text(\"origin of git\")"
   ]
  },
  {
   "cell_type": "code",
   "execution_count": 18,
   "metadata": {
    "scrolled": true
   },
   "outputs": [
    {
     "name": "stdout",
     "output_type": "stream",
     "text": [
      "{\n",
      "  \"chunk\": \"=== About Version Control\\n\\n(((version control)))\\nWhat is \\\"`version control`\\\", and why should you care?\\nVersion control is a system that records changes to a file or set of files over time so that you can recall specific versions later.\\nFor the examples in this book, you will use software source code\",\n",
      "  \"chunk_no\": 0,\n",
      "  \"title\": \"about-version-control.asc\",\n",
      "  \"url\": \"01-introduction: about-version-control.asc\"\n",
      "}\n",
      "{\n",
      "  \"chunk\": \"centralized)))\\nThe next major issue that people encounter is that they need to collaborate with developers on other systems.\\nTo deal with this problem, Centralized Version Control Systems (CVCSs) were developed.\\nThese systems (such as CVS, Subversion, and Perforce) have a single server that contains\",\n",
      "  \"chunk_no\": 7,\n",
      "  \"title\": \"about-version-control.asc\",\n",
      "  \"url\": \"01-introduction: about-version-control.asc\"\n",
      "}\n",
      "{\n",
      "  \"chunk\": \"ed local VCSs that had a simple database that kept all the changes to files under revision control.\\n\\n.Local version control diagram\\nimage::images/local.png[Local version control diagram]\\n\\nOne of the most popular VCS tools was a system called RCS, which is still distributed with many computers today.\",\n",
      "  \"chunk_no\": 5,\n",
      "  \"title\": \"about-version-control.asc\",\n",
      "  \"url\": \"01-introduction: about-version-control.asc\"\n",
      "}\n"
     ]
    }
   ],
   "source": [
    "near_text(\"version control\")"
   ]
  },
  {
   "cell_type": "code",
   "execution_count": 19,
   "metadata": {},
   "outputs": [
    {
     "name": "stdout",
     "output_type": "stream",
     "text": [
      "{\n",
      "  \"chunk\": \" clone is really a full backup of all the data.\\n\\n.Distributed version control diagram\\nimage::images/distributed.png[Distributed version control diagram]\\n\\nFurthermore, many of these systems deal pretty well with having several remote repositories they can work with, so you can collaborate with differ\",\n",
      "  \"chunk_no\": 14,\n",
      "  \"title\": \"about-version-control.asc\",\n",
      "  \"url\": \"01-introduction: about-version-control.asc\"\n",
      "}\n",
      "{\n",
      "  \"chunk\": \"ed local VCSs that had a simple database that kept all the changes to files under revision control.\\n\\n.Local version control diagram\\nimage::images/local.png[Local version control diagram]\\n\\nOne of the most popular VCS tools was a system called RCS, which is still distributed with many computers today.\",\n",
      "  \"chunk_no\": 5,\n",
      "  \"title\": \"about-version-control.asc\",\n",
      "  \"url\": \"01-introduction: about-version-control.asc\"\n",
      "}\n",
      "{\n",
      "  \"chunk\": \" -- whenever you have the entire history of the project in a single place, you risk losing everything.\\n\\n==== Distributed Version Control Systems\\n\\n(((version control,distributed)))\\nThis is where Distributed Version Control Systems (DVCSs) step in.\\nIn a DVCS (such as Git, Mercurial, Bazaar or Darcs), \",\n",
      "  \"chunk_no\": 12,\n",
      "  \"title\": \"about-version-control.asc\",\n",
      "  \"url\": \"01-introduction: about-version-control.asc\"\n",
      "}\n"
     ]
    }
   ],
   "source": [
    "near_text(\"git add remote\")"
   ]
  },
  {
   "cell_type": "code",
   "execution_count": 20,
   "metadata": {},
   "outputs": [],
   "source": [
    "from weaviate.util import generate_uuid5\n",
    "\n",
    "with client.batch(batch_size=50) as batch:\n",
    "    for text_obj in text_objs:\n",
    "        chunks = get_chunks(text_obj[\"body\"])\n",
    "        for i, chunk in enumerate(chunks):\n",
    "            data_object = {\n",
    "                \"title\": text_obj[\"filename\"],\n",
    "                \"chunk\": chunk,\n",
    "                \"chunk_no\": i,\n",
    "                \"url\": text_obj[\"chapter_title\"] + \": \" + text_obj[\"filename\"]\n",
    "            }   \n",
    "            batch.add_data_object(\n",
    "                data_object=data_object,\n",
    "                class_name=COLLECTION_NAME,\n",
    "                uuid=generate_uuid5(data_object)\n",
    "            )"
   ]
  },
  {
   "cell_type": "code",
   "execution_count": 21,
   "metadata": {},
   "outputs": [
    {
     "data": {
      "text/plain": [
       "{'data': {'Aggregate': {'Chunk': [{'meta': {'count': 357}}]}}}"
      ]
     },
     "execution_count": 21,
     "metadata": {},
     "output_type": "execute_result"
    }
   ],
   "source": [
    "client.query.aggregate(COLLECTION_NAME).with_meta_count().do()"
   ]
  },
  {
   "cell_type": "code",
   "execution_count": 22,
   "metadata": {},
   "outputs": [
    {
     "name": "stdout",
     "output_type": "stream",
     "text": [
      "{\n",
      "  \"chunk\": \"<url>`:\\n\\n[source,console]\\n----\\n$ git remote\\norigin\\n$ git remote add pb https://github.com/paulboone/ticgit\\n$ git remote -v\\norigin\\thttps://github.com/schacon/ticgit (fetch)\\norigin\\thttps://github.com/schacon/ticgit (push)\\npb\\thttps://github.com/paulboone/ticgit (fetch)\\npb\\thttps://github.com/paulboone/t\",\n",
      "  \"chunk_no\": 12,\n",
      "  \"title\": \"remotes.asc\",\n",
      "  \"url\": \"02-git-basics: remotes.asc\"\n",
      "}\n",
      "{\n",
      "  \"chunk\": \"----\\n$ git remote -v\\norigin\\thttps://github.com/schacon/ticgit (fetch)\\norigin\\thttps://github.com/schacon/ticgit (push)\\n----\\n\\nIf you have more than one remote, the command lists them all.\\nFor example, a repository with multiple remotes for working with several collaborators might look something like t\",\n",
      "  \"chunk_no\": 7,\n",
      "  \"title\": \"remotes.asc\",\n",
      "  \"url\": \"02-git-basics: remotes.asc\"\n",
      "}\n",
      "{\n",
      "  \"chunk\": \"\\nWe've mentioned and given some demonstrations of how the `git clone` command implicitly adds the `origin` remote for you.\\nHere's how to add a new remote explicitly.(((git commands, remote)))\\nTo add a new remote Git repository as a shortname you can reference easily, run `git remote add <shortname> \",\n",
      "  \"chunk_no\": 11,\n",
      "  \"title\": \"remotes.asc\",\n",
      "  \"url\": \"02-git-basics: remotes.asc\"\n",
      "}\n",
      "{\n",
      "  \"chunk\": \"origin`, you get something like this:\\n\\n[source,console]\\n----\\n$ git remote show origin\\n* remote origin\\n  Fetch URL: https://github.com/schacon/ticgit\\n  Push  URL: https://github.com/schacon/ticgit\\n  HEAD branch: master\\n  Remote branches:\\n    master                               tracked\\n    dev-branch\",\n",
      "  \"chunk_no\": 27,\n",
      "  \"title\": \"remotes.asc\",\n",
      "  \"url\": \"02-git-basics: remotes.asc\"\n",
      "}\n",
      "{\n",
      "  \"chunk\": \"ushing to Your Remotes\\n\\nWhen you have your project at a point that you want to share, you have to push it upstream.\\nThe command for this is simple: `git push <remote> <branch>`.(((git commands, push)))\\nIf you want to push your `master` branch to your `origin` server (again, cloning generally sets up\",\n",
      "  \"chunk_no\": 23,\n",
      "  \"title\": \"remotes.asc\",\n",
      "  \"url\": \"02-git-basics: remotes.asc\"\n",
      "}\n"
     ]
    }
   ],
   "source": [
    "near_text(\"git add remote\", limit=5)"
   ]
  },
  {
   "cell_type": "code",
   "execution_count": 23,
   "metadata": {},
   "outputs": [],
   "source": [
    "def keyword_search(query, limit=3):\n",
    "    import json\n",
    "    response = (\n",
    "        client.query.get(COLLECTION_NAME, [\"chunk\", \"chunk_no\", \"title\", \"url\"])\n",
    "        .with_bm25(query=query)\n",
    "        .with_limit(limit)\n",
    "        .do()\n",
    "    )\n",
    "    for r in response[\"data\"][\"Get\"][COLLECTION_NAME]:\n",
    "        print(json.dumps(r, indent=2))\n",
    "    return None"
   ]
  },
  {
   "cell_type": "code",
   "execution_count": 24,
   "metadata": {},
   "outputs": [
    {
     "name": "stdout",
     "output_type": "stream",
     "text": [
      "{\n",
      "  \"chunk\": \"erver#_getting_git_on_a_server>> for more details).\\n\\nYou clone a repository with `git clone <url>`.(((git commands, clone)))\\nFor example, if you want to clone the Git linkable library called `libgit2`, you can do so like this:\\n\\n[source,console]\\n----\\n$ git clone https://github.com/libgit2/libgit2\\n---\",\n",
      "  \"chunk_no\": 9,\n",
      "  \"title\": \"getting-a-repository.asc\",\n",
      "  \"url\": \"02-git-basics: getting-a-repository.asc\"\n",
      "}\n",
      "{\n",
      "  \"chunk\": \"e worked on or used.\\n\\nIf you want to clone the repository into a directory named something other than `libgit2`, you can specify the new directory name as an additional argument:\\n\\n[source,console]\\n----\\n$ git clone https://github.com/libgit2/libgit2 mylibgit\\n----\\n\\nThat command does the same thing as \",\n",
      "  \"chunk_no\": 11,\n",
      "  \"title\": \"getting-a-repository.asc\",\n",
      "  \"url\": \"02-git-basics: getting-a-repository.asc\"\n",
      "}\n",
      "{\n",
      "  \"chunk\": \"amples use a very simple project called \\\"`simplegit`\\\".\\nTo get the project, run:\\n\\n[source,console]\\n----\\n$ git clone https://github.com/schacon/simplegit-progit\\n----\\n\\nWhen you run `git log` in this project, you should get output that looks something like this:(((git commands, log)))\\n\\n[source,console]\\n\",\n",
      "  \"chunk_no\": 1,\n",
      "  \"title\": \"viewing-history.asc\",\n",
      "  \"url\": \"02-git-basics: viewing-history.asc\"\n",
      "}\n"
     ]
    }
   ],
   "source": [
    "keyword_search(\"clone\")"
   ]
  },
  {
   "cell_type": "code",
   "execution_count": 25,
   "metadata": {},
   "outputs": [],
   "source": [
    "keyword_search(\"duplicate\")"
   ]
  },
  {
   "cell_type": "code",
   "execution_count": 26,
   "metadata": {},
   "outputs": [
    {
     "name": "stdout",
     "output_type": "stream",
     "text": [
      "{\n",
      "  \"chunk\": \"\\nIf you and someone else clone at the same time and they push upstream and then you push upstream, your push will rightly be rejected.\\nYou'll have to fetch their work first and incorporate it into yours before you'll be allowed to push.\\nSee <<ch03-git-branching#ch03-git-branching>> for more detailed\",\n",
      "  \"chunk_no\": 25,\n",
      "  \"title\": \"remotes.asc\",\n",
      "  \"url\": \"02-git-basics: remotes.asc\"\n",
      "}\n",
      "{\n",
      "  \"chunk\": \" clone is really a full backup of all the data.\\n\\n.Distributed version control diagram\\nimage::images/distributed.png[Distributed version control diagram]\\n\\nFurthermore, many of these systems deal pretty well with having several remote repositories they can work with, so you can collaborate with differ\",\n",
      "  \"chunk_no\": 14,\n",
      "  \"title\": \"about-version-control.asc\",\n",
      "  \"url\": \"01-introduction: about-version-control.asc\"\n",
      "}\n",
      "{\n",
      "  \"chunk\": \"t if you screw things up or lose files, you can easily recover.\\nIn addition, you get all this for very little overhead.\\n\\n==== Local Version Control Systems\\n\\n(((version control,local)))\\nMany people's version-control method of choice is to copy files into another directory (perhaps a time-stamped dire\",\n",
      "  \"chunk_no\": 3,\n",
      "  \"title\": \"about-version-control.asc\",\n",
      "  \"url\": \"01-introduction: about-version-control.asc\"\n",
      "}\n"
     ]
    }
   ],
   "source": [
    "near_text(\"duplicate\")"
   ]
  },
  {
   "cell_type": "code",
   "execution_count": 27,
   "metadata": {},
   "outputs": [],
   "source": [
    "def hybrid_search(query, limit=3):\n",
    "    import json\n",
    "    response = (\n",
    "        client.query.get(COLLECTION_NAME, [\"chunk\", \"chunk_no\", \"title\", \"url\"])\n",
    "        .with_hybrid(query=query)\n",
    "        .with_limit(limit)\n",
    "        .do()\n",
    "    )\n",
    "    for r in response[\"data\"][\"Get\"][COLLECTION_NAME]:\n",
    "        print(json.dumps(r, indent=2))\n",
    "    return None"
   ]
  },
  {
   "cell_type": "code",
   "execution_count": 28,
   "metadata": {},
   "outputs": [
    {
     "name": "stdout",
     "output_type": "stream",
     "text": [
      "{\n",
      "  \"chunk\": \" clone is really a full backup of all the data.\\n\\n.Distributed version control diagram\\nimage::images/distributed.png[Distributed version control diagram]\\n\\nFurthermore, many of these systems deal pretty well with having several remote repositories they can work with, so you can collaborate with differ\",\n",
      "  \"chunk_no\": 14,\n",
      "  \"title\": \"about-version-control.asc\",\n",
      "  \"url\": \"01-introduction: about-version-control.asc\"\n",
      "}\n",
      "{\n",
      "  \"chunk\": \"orking on.\\nIf the hard disk the central database is on becomes corrupted, and proper backups haven't been kept, you lose absolutely everything -- the entire history of the project except whatever single snapshots people happen to have on their local machines.\\nLocal VCSs suffer from this same problem\",\n",
      "  \"chunk_no\": 11,\n",
      "  \"title\": \"about-version-control.asc\",\n",
      "  \"url\": \"01-introduction: about-version-control.asc\"\n",
      "}\n",
      "{\n",
      "  \"chunk\": \"clients don't just check out the latest snapshot of the files; rather, they fully mirror the repository, including its full history.\\nThus, if any server dies, and these systems were collaborating via that server, any of the client repositories can be copied back up to the server to restore it.\\nEvery\",\n",
      "  \"chunk_no\": 13,\n",
      "  \"title\": \"about-version-control.asc\",\n",
      "  \"url\": \"01-introduction: about-version-control.asc\"\n",
      "}\n"
     ]
    }
   ],
   "source": [
    "hybrid_search(\"complete backup\")"
   ]
  },
  {
   "cell_type": "code",
   "execution_count": 29,
   "metadata": {},
   "outputs": [
    {
     "name": "stdout",
     "output_type": "stream",
     "text": [
      "{\n",
      "  \"chunk\": \"orking on.\\nIf the hard disk the central database is on becomes corrupted, and proper backups haven't been kept, you lose absolutely everything -- the entire history of the project except whatever single snapshots people happen to have on their local machines.\\nLocal VCSs suffer from this same problem\",\n",
      "  \"chunk_no\": 11,\n",
      "  \"title\": \"about-version-control.asc\",\n",
      "  \"url\": \"01-introduction: about-version-control.asc\"\n",
      "}\n",
      "{\n",
      "  \"chunk\": \" clone is really a full backup of all the data.\\n\\n.Distributed version control diagram\\nimage::images/distributed.png[Distributed version control diagram]\\n\\nFurthermore, many of these systems deal pretty well with having several remote repositories they can work with, so you can collaborate with differ\",\n",
      "  \"chunk_no\": 14,\n",
      "  \"title\": \"about-version-control.asc\",\n",
      "  \"url\": \"01-introduction: about-version-control.asc\"\n",
      "}\n",
      "{\n",
      "  \"chunk\": \"clients don't just check out the latest snapshot of the files; rather, they fully mirror the repository, including its full history.\\nThus, if any server dies, and these systems were collaborating via that server, any of the client repositories can be copied back up to the server to restore it.\\nEvery\",\n",
      "  \"chunk_no\": 13,\n",
      "  \"title\": \"about-version-control.asc\",\n",
      "  \"url\": \"01-introduction: about-version-control.asc\"\n",
      "}\n"
     ]
    }
   ],
   "source": [
    "near_text(\"complete backup\")"
   ]
  },
  {
   "cell_type": "code",
   "execution_count": 30,
   "metadata": {},
   "outputs": [
    {
     "name": "stdout",
     "output_type": "stream",
     "text": [
      "{\n",
      "  \"chunk\": \" clone is really a full backup of all the data.\\n\\n.Distributed version control diagram\\nimage::images/distributed.png[Distributed version control diagram]\\n\\nFurthermore, many of these systems deal pretty well with having several remote repositories they can work with, so you can collaborate with differ\",\n",
      "  \"chunk_no\": 14,\n",
      "  \"title\": \"about-version-control.asc\",\n",
      "  \"url\": \"01-introduction: about-version-control.asc\"\n",
      "}\n"
     ]
    }
   ],
   "source": [
    "keyword_search(\"complete backup\")"
   ]
  },
  {
   "cell_type": "code",
   "execution_count": 31,
   "metadata": {},
   "outputs": [],
   "source": [
    "def generative_search(query, prompt, limit=3):\n",
    "    import json\n",
    "    response = (\n",
    "        client.query.get(COLLECTION_NAME, [\"chunk\", \"chunk_no\", \"title\", \"url\"])\n",
    "        .with_hybrid(query=query)\n",
    "        .with_limit(limit)\n",
    "        .with_generate(grouped_task=prompt)\n",
    "        .do()\n",
    "    )\n",
    "    print(response[\"data\"][\"Get\"][COLLECTION_NAME][0][\"_additional\"][\"generate\"][\"groupedResult\"])\n",
    "    return None"
   ]
  },
  {
   "cell_type": "code",
   "execution_count": 32,
   "metadata": {},
   "outputs": [
    {
     "name": "stdout",
     "output_type": "stream",
     "text": [
      "To add a remote repository, you can use the `git remote add` command followed by the name you want to give to the remote and the URL of the repository. \n",
      "\n",
      "For example, if you want to add a remote repository named \"origin\" with the URL \"https://github.com/schacon/ticgit\", you would run the following command:\n",
      "\n",
      "```\n",
      "$ git remote add origin https://github.com/schacon/ticgit\n",
      "```\n",
      "\n",
      "After adding the remote, you can verify that it has been added successfully by using the `git remote -v` command. It will list all the remotes associated with your repository:\n",
      "\n",
      "```\n",
      "$ git remote -v\n",
      "origin  https://github.com/schacon/ticgit (fetch)\n",
      "origin  https://github.com/schacon/ticgit (push)\n",
      "```\n",
      "\n",
      "If you have multiple remotes, all of them will be listed.\n"
     ]
    }
   ],
   "source": [
    "generative_search(\"git remote\", \"based on this, how would I add a remote repository?\")"
   ]
  },
  {
   "cell_type": "code",
   "execution_count": 33,
   "metadata": {},
   "outputs": [
    {
     "name": "stdout",
     "output_type": "stream",
     "text": [
      "In the realm of Git, where repositories reside,\n",
      "To add a remote, let me be your guide.\n",
      "With the command \"git remote add\",\n",
      "A new connection we shall have.\n",
      "\n",
      "But before we proceed, let's take a glance,\n",
      "At the remotes already in this dance.\n",
      "Using \"git remote show origin\" we see,\n",
      "The Fetch and Push URLs, as they should be.\n",
      "\n",
      "If only one remote is what you possess,\n",
      "A simple \"git remote -v\" will impress.\n",
      "It shows the origin, both fetch and push,\n",
      "With URLs that make your repository hush.\n",
      "\n",
      "But if multiple remotes are what you seek,\n",
      "Collaborating with others, so unique,\n",
      "The command will list them, one by one,\n",
      "For each collaborator, a connection is spun.\n",
      "\n",
      "And as you delve deeper into Git's embrace,\n",
      "More information will come to your space.\n",
      "With \"git remote show origin\" in your hand,\n",
      "URLs and branches, you'll understand.\n",
      "\n",
      "So fear not, my friend, adding a remote is grand,\n",
      "With Git's commands, you'll surely expand.\n",
      "Connect and collaborate, with ease and delight,\n",
      "In this vast world of repositories, shining bright.\n"
     ]
    }
   ],
   "source": [
    "generative_search(\n",
    "    \"git remote\", \n",
    "    \"based on this, how would I add a remote repository? Respond as a poem\"\n",
    ")"
   ]
  },
  {
   "cell_type": "code",
   "execution_count": null,
   "metadata": {},
   "outputs": [],
   "source": []
  }
 ],
 "metadata": {
  "kernelspec": {
   "display_name": "Python 3 (ipykernel)",
   "language": "python",
   "name": "python3"
  },
  "language_info": {
   "codemirror_mode": {
    "name": "ipython",
    "version": 3
   },
   "file_extension": ".py",
   "mimetype": "text/x-python",
   "name": "python",
   "nbconvert_exporter": "python",
   "pygments_lexer": "ipython3",
   "version": "3.10.12"
  },
  "varInspector": {
   "cols": {
    "lenName": 16,
    "lenType": 16,
    "lenVar": 40
   },
   "kernels_config": {
    "python": {
     "delete_cmd_postfix": "",
     "delete_cmd_prefix": "del ",
     "library": "var_list.py",
     "varRefreshCmd": "print(var_dic_list())"
    },
    "r": {
     "delete_cmd_postfix": ") ",
     "delete_cmd_prefix": "rm(",
     "library": "var_list.r",
     "varRefreshCmd": "cat(var_dic_list()) "
    }
   },
   "types_to_exclude": [
    "module",
    "function",
    "builtin_function_or_method",
    "instance",
    "_Feature"
   ],
   "window_display": false
  }
 },
 "nbformat": 4,
 "nbformat_minor": 2
}
