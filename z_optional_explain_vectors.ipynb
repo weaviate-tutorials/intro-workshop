{
 "cells": [
  {
   "cell_type": "code",
   "execution_count": 1,
   "id": "ccd5cf0e",
   "metadata": {
    "slideshow": {
     "slide_type": "skip"
    }
   },
   "outputs": [],
   "source": [
    "import openai, os\n",
    "import numpy as np\n",
    "import seaborn as sns\n",
    "import matplotlib.pyplot as plt\n",
    "import plotly.express as px\n",
    "from sklearn.decomposition import PCA\n",
    "import pandas as pd\n",
    "\n",
    "openai_key = os.environ[\"OPENAI_APIKEY\"]\n",
    "openai.api_key = openai_key"
   ]
  },
  {
   "cell_type": "code",
   "execution_count": 2,
   "id": "d5117b44",
   "metadata": {
    "slideshow": {
     "slide_type": "skip"
    }
   },
   "outputs": [],
   "source": [
    "def get_emb(sent_inputs):\n",
    "    oai_resp = openai.Embedding.create(\n",
    "        input=sent_inputs,\n",
    "        model=\"text-embedding-ada-002\"\n",
    "    )\n",
    "    return oai_resp"
   ]
  },
  {
   "cell_type": "code",
   "execution_count": 3,
   "id": "ff5c81eb",
   "metadata": {
    "slideshow": {
     "slide_type": "skip"
    }
   },
   "outputs": [],
   "source": [
    "def plot_embs(df_in):\n",
    "    fig = px.scatter(df_in, \n",
    "               template=\"ggplot2\",\n",
    "               x=\"PC1\", y=\"PC2\", color=\"category\",\n",
    "               hover_data=\"sentence\")\n",
    "    fig.update_layout(\n",
    "        margin=dict(\n",
    "            l=20,\n",
    "            r=20,\n",
    "            b=20,\n",
    "            t=20,\n",
    "            pad=4\n",
    "        )\n",
    "    )\n",
    "    fig.update_traces(marker_size=20)\n",
    "    return fig"
   ]
  },
  {
   "cell_type": "code",
   "execution_count": 4,
   "id": "a9874eb0",
   "metadata": {
    "slideshow": {
     "slide_type": "-"
    }
   },
   "outputs": [],
   "source": [
    "def plot_vectors(arr_in):\n",
    "    pca = PCA(n_components=2)\n",
    "    embeddings_pca = pca.fit_transform(arr_in)\n",
    "\n",
    "    df = pd.DataFrame(embeddings_pca, columns=[\"PC1\", \"PC2\"])\n",
    "    df[\"sentence\"] = sent_inputs\n",
    "    df[\"category\"] = \"other\"\n",
    "    df.loc[:4, \"category\"] = \"cats\"\n",
    "    df.loc[5:9, \"category\"] = \"dogs\"\n",
    "    fig = plot_embs(df)\n",
    "    return fig"
   ]
  },
  {
   "cell_type": "code",
   "execution_count": 5,
   "id": "af386f2b",
   "metadata": {
    "slideshow": {
     "slide_type": "-"
    }
   },
   "outputs": [],
   "source": [
    "def add_new_emb(sents_in, arr_in, sent_inputs_in):\n",
    "    resp = get_emb(sents_in)\n",
    "    for d in resp[\"data\"]:\n",
    "        arr_in = np.vstack([arr_in, d[\"embedding\"]])\n",
    "    sent_inputs_in = sent_inputs_in + sents_in\n",
    "    return arr_in, sent_inputs_in"
   ]
  },
  {
   "attachments": {},
   "cell_type": "markdown",
   "id": "f6f12e8b-9f4e-45b1-9221-f708e712f124",
   "metadata": {
    "slideshow": {
     "slide_type": "slide"
    }
   },
   "source": [
    "## Visual demo - vector embeddings"
   ]
  },
  {
   "cell_type": "code",
   "execution_count": null,
   "id": "cbda975d",
   "metadata": {
    "slideshow": {
     "slide_type": "slide"
    }
   },
   "outputs": [],
   "source": [
    "sent_inputs = [\n",
    "    # Cat-related sentences\n",
    "    \"The Bengal showed off its striking coat pattern.\",\n",
    "    \"A lion's powerful roar echoed through the plains.\",\n",
    "    \"A leopard's spots provided perfect camouflage in the dappled light.\",\n",
    "    \"A cheetah's unmatched speed allowed it to outrun its prey.\",\n",
    "    \"The Sphynx basked in the warmth of its owner's lap.\",\n",
    "    # Dog-related sentences    \n",
    "    \"The golden retriever chased after the frisbee.\",\n",
    "    \"The playful puppy rolled in the grass.\",\n",
    "    \"A loyal companion is always by your side.\",\n",
    "    \"The Labrador retriever enjoyed playing in the water.\",\n",
    "    \"The family adopted a furry friend from the shelter.\"    \n",
    "]\n",
    "\n",
    "resp = (sent_inputs)\n",
    "arr = np.array([i[\"embedding\"] for i in resp[\"data\"]])"
   ]
  },
  {
   "cell_type": "code",
   "execution_count": null,
   "id": "e0396eb6",
   "metadata": {
    "slideshow": {
     "slide_type": "slide"
    }
   },
   "outputs": [],
   "source": [
    "fig = plot_vectors(arr)\n",
    "fig.show()"
   ]
  },
  {
   "cell_type": "code",
   "execution_count": null,
   "id": "acb69a06",
   "metadata": {
    "slideshow": {
     "slide_type": "slide"
    }
   },
   "outputs": [],
   "source": [
    "arr, sent_inputs = add_new_emb(\n",
    "    [\"Who doesn't love going to the Alps in the summer?\"], \n",
    "    arr, \n",
    "    sent_inputs\n",
    ")"
   ]
  },
  {
   "cell_type": "code",
   "execution_count": null,
   "id": "56e5934f",
   "metadata": {
    "slideshow": {
     "slide_type": "subslide"
    }
   },
   "outputs": [],
   "source": [
    "fig = plot_vectors(arr)\n",
    "fig.show()"
   ]
  },
  {
   "cell_type": "code",
   "execution_count": null,
   "id": "7d501f4f",
   "metadata": {
    "slideshow": {
     "slide_type": "slide"
    }
   },
   "outputs": [],
   "source": [
    "new_sents = [\n",
    "    \"The chef prepared a delicious vegetable stir-fry for dinner.\",\n",
    "    \"The astronomer gazed at the distant stars, searching for undiscovered galaxies.\",\n",
    "    \"The young artist skillfully painted a beautiful landscape on the canvas.\",\n",
    "    \"John is loving taking his new puppy out for walks in the morning.\"\n",
    "]"
   ]
  },
  {
   "cell_type": "code",
   "execution_count": null,
   "id": "6b9410f0",
   "metadata": {
    "slideshow": {
     "slide_type": "slide"
    }
   },
   "outputs": [],
   "source": [
    "arr, sent_inputs = add_new_emb(new_sents, arr, sent_inputs)\n",
    "fig = plot_vectors(arr)\n",
    "fig.show()"
   ]
  }
 ],
 "metadata": {
  "celltoolbar": "Slideshow",
  "kernelspec": {
   "display_name": "Python 3 (ipykernel)",
   "language": "python",
   "name": "python3"
  },
  "language_info": {
   "codemirror_mode": {
    "name": "ipython",
    "version": 3
   },
   "file_extension": ".py",
   "mimetype": "text/x-python",
   "name": "python",
   "nbconvert_exporter": "python",
   "pygments_lexer": "ipython3",
   "version": "3.10.8"
  },
  "varInspector": {
   "cols": {
    "lenName": 16,
    "lenType": 16,
    "lenVar": 40
   },
   "kernels_config": {
    "python": {
     "delete_cmd_postfix": "",
     "delete_cmd_prefix": "del ",
     "library": "var_list.py",
     "varRefreshCmd": "print(var_dic_list())"
    },
    "r": {
     "delete_cmd_postfix": ") ",
     "delete_cmd_prefix": "rm(",
     "library": "var_list.r",
     "varRefreshCmd": "cat(var_dic_list()) "
    }
   },
   "types_to_exclude": [
    "module",
    "function",
    "builtin_function_or_method",
    "instance",
    "_Feature"
   ],
   "window_display": false
  }
 },
 "nbformat": 4,
 "nbformat_minor": 5
}
