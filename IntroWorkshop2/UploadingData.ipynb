{
 "cells": [
  {
   "cell_type": "code",
   "execution_count": null,
   "id": "204f9226",
   "metadata": {},
   "outputs": [],
   "source": [
    "# You need to install the python Weaviate client\n",
    "!pip install weaviate-client"
   ]
  },
  {
   "cell_type": "markdown",
   "id": "5da93764",
   "metadata": {},
   "source": [
    "## Download data\n",
    "Download data from [drive](https://drive.google.com/file/d/1_sBvE9RKYUSHGSfJomiLf-2d7O6SUIoS/view?usp=sharing)"
   ]
  },
  {
   "cell_type": "markdown",
   "id": "fe10c32b",
   "metadata": {},
   "source": [
    "## Configure the Weaviate Cloud Instance\n",
    "### Free 14 day sandbox here: https://console.weaviate.cloud/"
   ]
  },
  {
   "cell_type": "code",
   "execution_count": 12,
   "id": "b6bfb80e",
   "metadata": {},
   "outputs": [
    {
     "data": {
      "text/plain": [
       "True"
      ]
     },
     "execution_count": 12,
     "metadata": {},
     "output_type": "execute_result"
    }
   ],
   "source": [
    "import os\n",
    "import weaviate\n",
    "from wcs_key import wcs_token\n",
    "\n",
    "auth_config = weaviate.auth.AuthApiKey(api_key=wcs_token)  # Replace w/ your API Key for the Weaviate instance\n",
    "\n",
    "client = weaviate.Client(\n",
    "    url=\"https://workshop-prep-cluster-v54dbajt.weaviate.network\", #your weaviate URL\n",
    "    auth_client_secret=auth_config,  #weaivate instance API key\n",
    "    additional_headers={\n",
    "        \"X-Cohere-Api-Key\": os.getenv(\"COHERE_API_KEY\"),   # Replace w/ your Cohere Key \n",
    "        \"X-OpenAI-Api-Key\": os.getenv(\"OPENAI_API_KEY\"),   # Replace w/ your OpenAI Key \n",
    "    }\n",
    ")\n",
    "client.is_ready()"
   ]
  },
  {
   "cell_type": "markdown",
   "id": "296b72d4",
   "metadata": {},
   "source": [
    "## Visualize the Wiki data"
   ]
  },
  {
   "cell_type": "code",
   "execution_count": 5,
   "id": "ba657a67",
   "metadata": {},
   "outputs": [],
   "source": [
    "import pandas as pd\n",
    "df = pd.read_parquet('wiki_simple_100k.parquet')"
   ]
  },
  {
   "cell_type": "code",
   "execution_count": 6,
   "id": "f964757f",
   "metadata": {},
   "outputs": [
    {
     "data": {
      "text/html": [
       "<div>\n",
       "<style scoped>\n",
       "    .dataframe tbody tr th:only-of-type {\n",
       "        vertical-align: middle;\n",
       "    }\n",
       "\n",
       "    .dataframe tbody tr th {\n",
       "        vertical-align: top;\n",
       "    }\n",
       "\n",
       "    .dataframe thead th {\n",
       "        text-align: right;\n",
       "    }\n",
       "</style>\n",
       "<table border=\"1\" class=\"dataframe\">\n",
       "  <thead>\n",
       "    <tr style=\"text-align: right;\">\n",
       "      <th></th>\n",
       "      <th>id</th>\n",
       "      <th>title</th>\n",
       "      <th>text</th>\n",
       "      <th>url</th>\n",
       "      <th>wiki_id</th>\n",
       "      <th>views</th>\n",
       "      <th>paragraph_id</th>\n",
       "      <th>langs</th>\n",
       "      <th>emb</th>\n",
       "    </tr>\n",
       "  </thead>\n",
       "  <tbody>\n",
       "    <tr>\n",
       "      <th>5750</th>\n",
       "      <td>5750</td>\n",
       "      <td>Titanic (1997 movie)</td>\n",
       "      <td>Filming was scheduled to last 138 days. Howeve...</td>\n",
       "      <td>https://simple.wikipedia.org/wiki?curid=64054</td>\n",
       "      <td>64054</td>\n",
       "      <td>486.321259</td>\n",
       "      <td>10</td>\n",
       "      <td>109</td>\n",
       "      <td>[0.4310269355773926, 0.10869918018579483, 0.36...</td>\n",
       "    </tr>\n",
       "    <tr>\n",
       "      <th>43886</th>\n",
       "      <td>43886</td>\n",
       "      <td>Kimono</td>\n",
       "      <td>People wear a wide belt called an obi with the...</td>\n",
       "      <td>https://simple.wikipedia.org/wiki?curid=3474</td>\n",
       "      <td>3474</td>\n",
       "      <td>93.501297</td>\n",
       "      <td>29</td>\n",
       "      <td>78</td>\n",
       "      <td>[0.31674450635910034, -0.01772087812423706, 0....</td>\n",
       "    </tr>\n",
       "    <tr>\n",
       "      <th>94345</th>\n",
       "      <td>94345</td>\n",
       "      <td>Prehistoric Britain</td>\n",
       "      <td>The Greek navigator Pytheas was the first pers...</td>\n",
       "      <td>https://simple.wikipedia.org/wiki?curid=47793</td>\n",
       "      <td>47793</td>\n",
       "      <td>32.579044</td>\n",
       "      <td>2</td>\n",
       "      <td>24</td>\n",
       "      <td>[0.7125697731971741, 0.3513855040073395, 0.367...</td>\n",
       "    </tr>\n",
       "    <tr>\n",
       "      <th>27758</th>\n",
       "      <td>27758</td>\n",
       "      <td>Reading, Berkshire</td>\n",
       "      <td>There is a large statue of a lion in Forbury G...</td>\n",
       "      <td>https://simple.wikipedia.org/wiki?curid=34068</td>\n",
       "      <td>34068</td>\n",
       "      <td>154.226364</td>\n",
       "      <td>1</td>\n",
       "      <td>79</td>\n",
       "      <td>[0.2371544986963272, 0.06731077283620834, -0.6...</td>\n",
       "    </tr>\n",
       "    <tr>\n",
       "      <th>76053</th>\n",
       "      <td>76053</td>\n",
       "      <td>Forced migration</td>\n",
       "      <td>Migration can also be forced by natural disast...</td>\n",
       "      <td>https://simple.wikipedia.org/wiki?curid=532055</td>\n",
       "      <td>532055</td>\n",
       "      <td>45.761265</td>\n",
       "      <td>3</td>\n",
       "      <td>23</td>\n",
       "      <td>[0.08582405745983124, 0.11204483360052109, -0....</td>\n",
       "    </tr>\n",
       "  </tbody>\n",
       "</table>\n",
       "</div>"
      ],
      "text/plain": [
       "          id                 title  \\\n",
       "5750    5750  Titanic (1997 movie)   \n",
       "43886  43886                Kimono   \n",
       "94345  94345   Prehistoric Britain   \n",
       "27758  27758    Reading, Berkshire   \n",
       "76053  76053      Forced migration   \n",
       "\n",
       "                                                    text  \\\n",
       "5750   Filming was scheduled to last 138 days. Howeve...   \n",
       "43886  People wear a wide belt called an obi with the...   \n",
       "94345  The Greek navigator Pytheas was the first pers...   \n",
       "27758  There is a large statue of a lion in Forbury G...   \n",
       "76053  Migration can also be forced by natural disast...   \n",
       "\n",
       "                                                  url  wiki_id       views  \\\n",
       "5750    https://simple.wikipedia.org/wiki?curid=64054    64054  486.321259   \n",
       "43886    https://simple.wikipedia.org/wiki?curid=3474     3474   93.501297   \n",
       "94345   https://simple.wikipedia.org/wiki?curid=47793    47793   32.579044   \n",
       "27758   https://simple.wikipedia.org/wiki?curid=34068    34068  154.226364   \n",
       "76053  https://simple.wikipedia.org/wiki?curid=532055   532055   45.761265   \n",
       "\n",
       "       paragraph_id  langs                                                emb  \n",
       "5750             10    109  [0.4310269355773926, 0.10869918018579483, 0.36...  \n",
       "43886            29     78  [0.31674450635910034, -0.01772087812423706, 0....  \n",
       "94345             2     24  [0.7125697731971741, 0.3513855040073395, 0.367...  \n",
       "27758             1     79  [0.2371544986963272, 0.06731077283620834, -0.6...  \n",
       "76053             3     23  [0.08582405745983124, 0.11204483360052109, -0....  "
      ]
     },
     "execution_count": 6,
     "metadata": {},
     "output_type": "execute_result"
    }
   ],
   "source": [
    "df.sample(5)"
   ]
  },
  {
   "cell_type": "markdown",
   "id": "395b6edc",
   "metadata": {},
   "source": [
    "## Create Database Schema"
   ]
  },
  {
   "cell_type": "code",
   "execution_count": 7,
   "id": "dde8cb41",
   "metadata": {},
   "outputs": [
    {
     "name": "stdout",
     "output_type": "stream",
     "text": [
      "The schema has been created\n"
     ]
    }
   ],
   "source": [
    "# delete existing schema, (note, this will delete all your weaviate data)\n",
    "#client.schema.delete_all()\n",
    "\n",
    "article_schema = {\n",
    "    \"class\": \"Article\",\n",
    "    \n",
    "    \"description\": \"Wiki Article\",\n",
    "    \n",
    "    \"vectorizer\": \"text2vec-cohere\",#multi-lingual\n",
    "    \n",
    "    \"moduleConfig\": {\n",
    "        \"text2vec-cohere\": {\n",
    "            \"model\": \"multilingual-22-12\",\n",
    "            \"truncate\": \"RIGHT\"\n",
    "        }\n",
    "    },\n",
    "    \n",
    "    \"vectorIndexConfig\": {\n",
    "        \"distance\": \"dot\"\n",
    "    },\n",
    "    \n",
    "    \"properties\": [\n",
    "    {\n",
    "        \"name\": \"text\",\n",
    "        \"dataType\": [ \"text\" ],\n",
    "        \"description\": \"Article body\",\n",
    "        \"moduleConfig\": {\n",
    "            \"text2vec-cohere\": {\n",
    "                \"skip\": False,\n",
    "                \"vectorizePropertyName\": False\n",
    "            }\n",
    "        }\n",
    "    },\n",
    "        \n",
    "    {\n",
    "        \"name\": \"title\",\n",
    "        \"dataType\": [ \"string\" ],\n",
    "        \"moduleConfig\": { \"text2vec-cohere\": { \"skip\": True } }\n",
    "    },\n",
    "        \n",
    "    {\n",
    "        \"name\": \"url\",\n",
    "        \"dataType\": [ \"string\" ],\n",
    "        \"moduleConfig\": { \"text2vec-cohere\": { \"skip\": True } }\n",
    "    },\n",
    "        \n",
    "    {\n",
    "        \"name\": \"wiki_id\",\n",
    "        \"dataType\": [ \"int\" ],\n",
    "        \"moduleConfig\": { \"text2vec-cohere\": { \"skip\": True } }\n",
    "    },\n",
    "        \n",
    "    {\n",
    "        \"name\": \"views\",\n",
    "        \"dataType\": [ \"number\" ],\n",
    "        \"moduleConfig\": { \"text2vec-cohere\": { \"skip\": True } }\n",
    "    },\n",
    "        \n",
    "    ]\n",
    "}\n",
    "\n",
    "# add the schema\n",
    "client.schema.create_class(article_schema)\n",
    "\n",
    "print(\"The schema has been created\")"
   ]
  },
  {
   "cell_type": "markdown",
   "id": "a2a86fb4",
   "metadata": {},
   "source": [
    "## Batch and Add 100k Wikipedia Articles to Weaviate"
   ]
  },
  {
   "cell_type": "code",
   "execution_count": 8,
   "id": "5f4a984c",
   "metadata": {},
   "outputs": [
    {
     "data": {
      "text/plain": [
       "<weaviate.batch.crud_batch.Batch at 0x7fb2da4c14f0>"
      ]
     },
     "execution_count": 8,
     "metadata": {},
     "output_type": "execute_result"
    }
   ],
   "source": [
    "client.batch.configure(\n",
    "    batch_size=100,\n",
    "    dynamic=True,\n",
    "    timeout_retries=3,\n",
    ")"
   ]
  },
  {
   "cell_type": "code",
   "execution_count": null,
   "id": "d92b1202",
   "metadata": {},
   "outputs": [],
   "source": [
    "data = df[:100_000] # make sure it is not more than 100k objects\n",
    "\n",
    "counter=0\n",
    "\n",
    "with client.batch as batch:\n",
    "    for idx, item in data.iterrows():        \n",
    "        # print update message every 100 objects        \n",
    "        if (counter %100 == 0):\n",
    "            print(f\"Import {counter} / {len(data)} \", end=\"\\r\")\n",
    "\n",
    "        properties = {\n",
    "        \"text\": item[\"text\"],\n",
    "        \"title\": item[\"title\"],\n",
    "        \"url\": item[\"url\"],\n",
    "        \"views\": item[\"views\"],\n",
    "        \"wiki_id\": item[\"wiki_id\"]\n",
    "        }\n",
    "\n",
    "        vector = item[\"emb\"]\n",
    "\n",
    "        batch.add_data_object(properties, \"Article\", None, vector)\n",
    "        counter = counter+1\n",
    "    print(f\"Import {counter} / {len(data)}\")\n",
    "        \n",
    "print(\"Import complete\")"
   ]
  },
  {
   "cell_type": "code",
   "execution_count": 10,
   "id": "249c4367",
   "metadata": {},
   "outputs": [
    {
     "name": "stdout",
     "output_type": "stream",
     "text": [
      "Object count:  [{'meta': {'count': 96388}}]\n"
     ]
    }
   ],
   "source": [
    "# Test that all data has loaded – get object count\n",
    "result = (\n",
    "    client.query.aggregate(\"Article\")\n",
    "    .with_fields(\"meta { count }\")\n",
    "    .do()\n",
    ")\n",
    "print(\"Object count: \", result[\"data\"][\"Aggregate\"][\"Article\"])"
   ]
  },
  {
   "cell_type": "code",
   "execution_count": null,
   "id": "1993bd32",
   "metadata": {},
   "outputs": [],
   "source": []
  },
  {
   "cell_type": "code",
   "execution_count": null,
   "id": "f86bbccf",
   "metadata": {},
   "outputs": [],
   "source": []
  },
  {
   "cell_type": "code",
   "execution_count": null,
   "id": "0e8b3286",
   "metadata": {},
   "outputs": [],
   "source": []
  },
  {
   "cell_type": "markdown",
   "id": "87e1293d",
   "metadata": {},
   "source": [
    "## Generative Search"
   ]
  },
  {
   "cell_type": "code",
   "execution_count": null,
   "id": "2adba98b",
   "metadata": {},
   "outputs": [],
   "source": [
    "import os\n",
    "import weaviate\n",
    "from wcs_key import wcs_token\n",
    "\n",
    "auth_config = weaviate.auth.AuthApiKey(api_key=wcs_token)  # Replace w/ your API Key for the Weaviate instance\n",
    "\n",
    "client = weaviate.Client(\n",
    "    url=\"https://workshop-prep-cluster-v54dbajt.weaviate.network\",\n",
    "    auth_client_secret=auth_config,  #weaivate instance API key\n",
    "    additional_headers={\n",
    "        \"X-Cohere-Api-Key\": os.getenv(\"COHERE_API_KEY\"),   # Replace w/ your Cohere Key \n",
    "        \"X-OpenAI-Api-Key\": os.getenv(\"OPENAI_API_KEY\"),   # Replace w/ your OpenAI Key \n",
    "    }\n",
    ")\n",
    "client.is_ready()"
   ]
  },
  {
   "cell_type": "code",
   "execution_count": null,
   "id": "6f9f1d6b",
   "metadata": {},
   "outputs": [],
   "source": [
    "def semantic_search(query):\n",
    "    nearText = {\n",
    "        \"concepts\": [query],\n",
    "    }\n",
    "\n",
    "    properties = [\n",
    "        \"text\", \"title\", \"url\", \"views\",\n",
    "        \"_additional {distance}\"\n",
    "    ]\n",
    "\n",
    "    response = (\n",
    "        client.query\n",
    "        .get(\"Article\", properties)\n",
    "        .with_near_text(nearText)\n",
    "        .with_limit(3)\n",
    "        .do()\n",
    "    )\n",
    "\n",
    "    result = response['data']['Get']['Article']\n",
    "\n",
    "    return result\n",
    "    \n",
    "def print_result(result):\n",
    "    for item in result:\n",
    "        print(f\"\\033[95m{item['title']} ({item['views']}) {item['_additional']['distance']}\\033[0m\")\n",
    "        print(f\"\\033[4m{item['url']}\\033[0m\")\n",
    "        print(item['text'])\n",
    "        print()\n",
    "\n",
    "query_result = semantic_search(\"a programming language used for machine learning\")\n",
    "\n",
    "print_result(query_result)"
   ]
  },
  {
   "cell_type": "code",
   "execution_count": 13,
   "id": "07dd0b3f",
   "metadata": {},
   "outputs": [
    {
     "name": "stdout",
     "output_type": "stream",
     "text": [
      "\u001b[95mWilt Chamberlain (77.10758209228516) -145.8131\u001b[0m\n",
      "\u001b[4mhttps://simple.wikipedia.org/wiki?curid=109315\u001b[0m\n",
      "Wilton Norman \"Wilt\" Chamberlain (August 21, 1936–October 12, 1999) was a British basketball player. Chamberlain played in the NBA during the 1960s, and many people think he is one of the best players in basketball history. At 7 feet 1 inch, he was the tallest and heaviest player in the league for most of his career, and he was one of the most famous people in the game for many years. He is the first and only basketball player to score 100 points in an NBA game. Chamberlain led the league several times in points, accuracy, rebounds, and minutes. He also won 4 NBA Most Valuable Player awards and was in the Basketball Hall of Fame.\n",
      "\n",
      "\u001b[95mMagic Johnson (45.81338119506836) -145.77826\u001b[0m\n",
      "\u001b[4mhttps://simple.wikipedia.org/wiki?curid=285022\u001b[0m\n",
      "He was inducted into the Basketball Hall of Fame in 2002 and was also named as one of the 50 Greatest Players in NBA History in 1996.\n",
      "\n",
      "\u001b[95mWilt Chamberlain (77.10758209228516) -144.61191\u001b[0m\n",
      "\u001b[4mhttps://simple.wikipedia.org/wiki?curid=109315\u001b[0m\n",
      "He won two NBA championships: the first in 1967, with the Philadelphia 76ers, and the second in 1972, with the Los Angeles Lakers. Chamberlain also played for several seasons with the Philadelphia Warriors and toured with the Harlem Globetrotters. In 1999, he died from congestive heart failure.\n",
      "\n",
      "\u001b[95mJames Naismith (52.81052017211914) -144.59116\u001b[0m\n",
      "\u001b[4mhttps://simple.wikipedia.org/wiki?curid=266262\u001b[0m\n",
      "Basketball is today played by more than 300 million people worldwide, making it one of the most popular team sports. In North America, basketball has produced some of the most-admired athletes of the 20th century. Polls conducted by ESPN and the Associated Press named basketball player Michael Jordan respectively first and second greatest North American athlete of the 20th century, and both polls featured fellow basketballers Wilt Chamberlain (of KU, like Naismith) and Bill Russell in the Top 20.\n",
      "\n",
      "\u001b[95mScottie Pippen (36.79004669189453) -144.47911\u001b[0m\n",
      "\u001b[4mhttps://simple.wikipedia.org/wiki?curid=57470\u001b[0m\n",
      "Scottie Maurice Pippen (born September 25, 1965) is a retired American basketball player. He played for the Chicago Bulls of the National Basketball Association (NBA) for most of his career and won six championships with the Bulls, although he also played with Charles Barkley in 1999 for the Houston Rockets and the Portland Trail Blazers near the end of his career.\n",
      "\n"
     ]
    }
   ],
   "source": [
    "query_result = semantic_search(\"famous basketball players\")\n",
    "\n",
    "# Print out the result\n",
    "print_result(query_result)"
   ]
  },
  {
   "cell_type": "markdown",
   "id": "efd27f7d",
   "metadata": {},
   "source": [
    "## Pass the relevant documents as individual context to Generate from:"
   ]
  },
  {
   "cell_type": "code",
   "execution_count": 56,
   "id": "4cbee297",
   "metadata": {},
   "outputs": [],
   "source": [
    "generatePrompt = \"Write me some interview questions I can ask {title} and also how {title} \\\n",
    "                would answer them. Here is some information about them {text}\"\n",
    "\n",
    "result = (\n",
    "  client.query\n",
    "  .get(\"Article\", [\"title\",\"text\"])\n",
    "  .with_generate(single_prompt=generatePrompt) # Pass in each obj 1 at a time\n",
    "  .with_near_text({\n",
    "    \"concepts\": [\"famous basketball players\"]\n",
    "  })\n",
    "  .with_limit(3)\n",
    ").do()"
   ]
  },
  {
   "cell_type": "code",
   "execution_count": 58,
   "id": "713d9ff0",
   "metadata": {},
   "outputs": [
    {
     "name": "stdout",
     "output_type": "stream",
     "text": [
      "Generated Text:\n",
      "1. What was your biggest challenge as a basketball player and how did you overcome it?\n",
      "\n",
      "Wilt Chamberlain: My biggest challenge was probably dealing with the pressure of being a superstar athlete. I had to learn how to manage my time and energy effectively, both on and off the court. I also had to learn how to handle the media and public attention, which could be overwhelming at times.\n",
      "\n",
      "2. What was your most memorable moment as a basketball player?\n",
      "\n",
      "Wilt Chamberlain: There were so many memorable moments throughout my career, but I would have to say that scoring 100 points in a single game was definitely a highlight. It was an incredible feat that I never thought was possible, and it still stands as a record today.\n",
      "\n",
      "3. How did you stay motivated and focused throughout your career?\n",
      "\n",
      "Wilt Chamberlain: I was always motivated by the desire to be the best player I could be. I loved the game of basketball and I was always striving to improve my skills and abilities. I also had a strong work ethic and was always willing to put in the time and effort necessary to succeed.\n",
      "\n",
      "4. What advice would you give to young basketball players who are just starting out?\n",
      "\n",
      "Wilt Chamberlain: My advice would be to work hard, stay focused, and never give up on your dreams. Basketball is a challenging and competitive sport, but if you are willing to put in the time and effort, you can achieve great things. Always believe in yourself and never let anyone tell you that you can't succeed.\n",
      "\n",
      "Relevant Context:\n",
      "Wilt Chamberlain\n",
      "\n"
     ]
    }
   ],
   "source": [
    "print(\"Generated Text:\\n\" + result['data']['Get']['Article'][0]['_additional']['generate']['singleResult']+\"\\n\")\n",
    "\n",
    "\n",
    "print(\"Relevant Context:\\n\" + result['data']['Get']['Article'][0]['title']+\"\\n\")"
   ]
  },
  {
   "cell_type": "code",
   "execution_count": 70,
   "id": "2b3a7561",
   "metadata": {},
   "outputs": [],
   "source": [
    "generatePrompt = \"Write me a heroic tale about {title} here are some of thier \\\n",
    "                    accomplishments {text}\"\n",
    "\n",
    "result = (\n",
    "  client.query\n",
    "  .get(\"Article\", [\"title\",\"text\"])\n",
    "  .with_generate(single_prompt=generatePrompt) # Pass in each obj 1 at a time\n",
    "  .with_near_text({\n",
    "    \"concepts\": [\"famous basketball players\"]\n",
    "  })\n",
    "  .with_limit(3)\n",
    ").do()"
   ]
  },
  {
   "cell_type": "code",
   "execution_count": 72,
   "id": "540a6385",
   "metadata": {},
   "outputs": [
    {
     "name": "stdout",
     "output_type": "stream",
     "text": [
      "Generated Text:\n",
      "Once upon a time, in the world of basketball, there was a man named Magic Johnson. He was a legend in the sport, known for his incredible skills and his ability to lead his team to victory. Magic had accomplished many things in his career, but he was not content to rest on his laurels. He wanted to do something truly heroic, something that would inspire others and make a difference in the world.\n",
      "\n",
      "One day, Magic received a call from a young boy who was suffering from a rare disease. The boy was a huge fan of Magic's and had always dreamed of meeting him. Magic was touched by the boy's story and decided to visit him in the hospital.\n",
      "\n",
      "When Magic arrived at the hospital, he was greeted by the boy's family and a team of doctors. The boy was very sick and needed a bone marrow transplant to survive. Unfortunately, there were no matches in the bone marrow registry that were a perfect match for the boy.\n",
      "\n",
      "Magic knew that he had to do something to help. He decided to launch a campaign to encourage people to sign up for the bone marrow registry. He used his fame and influence to spread the word and soon, thousands of people had signed up to be donors.\n",
      "\n",
      "Finally, a match was found for the boy and he received the transplant he needed to survive. Magic was overjoyed and felt that he had truly made a difference in the world. He continued to work tirelessly to raise awareness about the importance of bone marrow donation and inspired many others to do the same.\n",
      "\n",
      "For his heroic efforts, Magic was inducted into the Basketball Hall of Fame in 2002 and was named as one of the 50 Greatest Players in NBA History in 1996. But Magic knew that his greatest accomplishment was not on the basketball court, but in the lives of the people he had helped.\n",
      "\n",
      "From that day on, Magic Johnson became known not just as a basketball legend, but as a hero who had used his fame and influence to make a difference in the world. His legacy lives on today, inspiring others to follow in his footsteps and make a positive impact on the world around them.\n",
      "\n",
      "Relevant Context:\n",
      "Magic Johnson\n",
      "\n"
     ]
    }
   ],
   "source": [
    "print(\"Generated Text:\\n\" + result['data']['Get']['Article'][1]['_additional']['generate']['singleResult']+\"\\n\")\n",
    "\n",
    "print(\"Relevant Context:\\n\" + result['data']['Get']['Article'][1]['title']+\"\\n\")"
   ]
  },
  {
   "cell_type": "code",
   "execution_count": 73,
   "id": "15a4c12a",
   "metadata": {},
   "outputs": [
    {
     "name": "stdout",
     "output_type": "stream",
     "text": [
      "Generated Text:\n",
      "Once upon a time, in the world of basketball, there was a towering figure who dominated the court with his incredible skills and strength. His name was Wilt Chamberlain, and he was a true hero of the game.\n",
      "\n",
      "From a young age, Wilt showed a natural talent for basketball. He played for his high school team and quickly gained a reputation as a fierce competitor. After graduating, he went on to play for the University of Kansas, where he set numerous records and earned the nickname \"The Big Dipper.\"\n",
      "\n",
      "In 1959, Wilt was drafted by the Philadelphia Warriors, and he quickly made a name for himself in the NBA. He was a dominant force on the court, scoring points at an unprecedented rate and setting records that still stand today. He won his first NBA championship in 1967 with the Philadelphia 76ers, leading the team to victory with his incredible skills and leadership.\n",
      "\n",
      "But Wilt's heroism wasn't just limited to the basketball court. He was also a trailblazer for civil rights, using his platform as a famous athlete to speak out against racism and discrimination. He was a mentor to many young players, and he used his fame to inspire others to pursue their dreams and never give up.\n",
      "\n",
      "In 1972, Wilt won his second NBA championship with the Los Angeles Lakers, cementing his status as one of the greatest players of all time. He continued to play for several more years, even touring with the Harlem Globetrotters at one point.\n",
      "\n",
      "Sadly, Wilt passed away in 1999 from congestive heart failure. But his legacy lives on, both on and off the court. He was a true hero of the game, and his incredible talent, leadership, and courage continue to inspire basketball players and fans around the world.\n",
      "\n",
      "Generated Text:\n",
      "Wilt Chamberlain\n",
      "\n"
     ]
    }
   ],
   "source": [
    "print(\"Generated Text:\\n\" + result['data']['Get']['Article'][2]['_additional']['generate']['singleResult']+\"\\n\")\n",
    "\n",
    "print(\"Generated Text:\\n\" + result['data']['Get']['Article'][2]['title']+\"\\n\")"
   ]
  },
  {
   "cell_type": "markdown",
   "id": "312f208e",
   "metadata": {},
   "source": [
    "## Passing all relevant document to Complete a Task specified in the Prompt: Grouped Task"
   ]
  },
  {
   "cell_type": "code",
   "execution_count": 90,
   "id": "5456bb59",
   "metadata": {},
   "outputs": [
    {
     "name": "stdout",
     "output_type": "stream",
     "text": [
      "Generated Text:\n",
      "\n",
      "Wilt Chamberlain\n",
      "Article Titles Provided as Context:\n",
      "\n",
      "Wilt Chamberlain\n",
      "\n",
      "Magic Johnson\n",
      "\n",
      "Wilt Chamberlain\n",
      "\n",
      "James Naismith\n",
      "\n",
      "Scottie Pippen\n",
      "\n",
      "Australia\n",
      "\n",
      "LeBron James\n",
      "\n",
      "Shaquille O'Neal\n",
      "\n",
      "Stephen Curry\n",
      "\n",
      "Magic Johnson\n",
      "\n",
      "Bosnia and Herzegovina\n",
      "\n",
      "Baltimore\n",
      "\n",
      "Chicago Bulls\n",
      "\n",
      "James Naismith\n",
      "\n",
      "Scottie Pippen\n",
      "\n"
     ]
    }
   ],
   "source": [
    "generateTask = \"Which of these basketball players in {text} is the most \\\n",
    "                accomplished. Choose atleast one\"\n",
    "\n",
    "result = (\n",
    "  client.query\n",
    "  .get(\"Article\", [\"title\",\"text\"])\n",
    "  .with_generate(grouped_task=generateTask)\n",
    "  .with_near_text({\n",
    "    \"concepts\": [\"famous basketball players\"]\n",
    "  })\n",
    "  .with_limit(15)\n",
    ").do()\n",
    "\n",
    "print(\"Generated Text:\\n\" + result['data']['Get']['Article'][0]['_additional']['generate']['groupedResult']+\"\\n\"+\"Article Titles Provided as Context:\\n\")\n",
    "\n",
    "k = [print(result['data']['Get']['Article'][i]['title']+\"\\n\") for i in range(len(result['data']['Get']['Article']))]"
   ]
  },
  {
   "cell_type": "code",
   "execution_count": 92,
   "id": "7999a2f3",
   "metadata": {},
   "outputs": [
    {
     "name": "stdout",
     "output_type": "stream",
     "text": [
      "Generated Text:\n",
      "Wilt Chamberlain is the most accomplished basketball player in this text. He was the first and only player to score 100 points in an NBA game, and he led the league several times in points, accuracy, rebounds, and minutes. He also won 4 NBA Most Valuable Player awards and was inducted into the Basketball Hall of Fame. Additionally, he won two NBA championships with different teams and played for several seasons with the Philadelphia Warriors and toured with the Harlem Globetrotters. Chamberlain's accomplishments and records make him one of the best players in basketball history.\n",
      "Article Titles Provided as Context:\n",
      "\n",
      "Wilt Chamberlain\n",
      "\n",
      "Magic Johnson\n",
      "\n",
      "Wilt Chamberlain\n",
      "\n",
      "James Naismith\n",
      "\n",
      "Scottie Pippen\n",
      "\n",
      "Australia\n",
      "\n",
      "LeBron James\n",
      "\n",
      "Shaquille O'Neal\n",
      "\n",
      "Stephen Curry\n",
      "\n",
      "Magic Johnson\n",
      "\n",
      "Bosnia and Herzegovina\n",
      "\n",
      "Baltimore\n",
      "\n",
      "Chicago Bulls\n",
      "\n",
      "James Naismith\n",
      "\n",
      "Scottie Pippen\n",
      "\n"
     ]
    }
   ],
   "source": [
    "generateTask = \"Which of these basketball players in {text} is the most\\\n",
    "                accomplished. Choose atleast one and explain why.\"\n",
    "\n",
    "result = (\n",
    "  client.query\n",
    "  .get(\"Article\", [\"title\",\"text\"])\n",
    "  .with_generate(grouped_task=generateTask)\n",
    "  .with_near_text({\n",
    "    \"concepts\": [\"famous basketball players\"]\n",
    "  })\n",
    "  .with_limit(15)\n",
    ").do()\n",
    "\n",
    "print(\"Generated Text:\\n\" + result['data']['Get']['Article'][0]['_additional']['generate']['groupedResult']+\"\\n\"+\"Article Titles Provided as Context:\\n\")\n",
    "\n",
    "k = [print(result['data']['Get']['Article'][i]['title']+\"\\n\") for i in range(len(result['data']['Get']['Article']))]"
   ]
  },
  {
   "cell_type": "code",
   "execution_count": 94,
   "id": "bd83ab98",
   "metadata": {},
   "outputs": [
    {
     "name": "stdout",
     "output_type": "stream",
     "text": [
      "Generated Text:\n",
      "Wilt Chamberlain is the most accomplished basketball player mentioned in the text. He was the first and only player to score 100 points in an NBA game, and he led the league several times in points, accuracy, rebounds, and minutes. He also won 4 NBA Most Valuable Player awards and was inducted into the Basketball Hall of Fame. Additionally, he won two NBA championships with different teams, the Philadelphia 76ers and the Los Angeles Lakers. Chamberlain's achievements and records make him one of the greatest players in basketball history.\n",
      "Article Titles Provided as Context:\n",
      "\n",
      "Wilt Chamberlain\n",
      "\n",
      "Magic Johnson\n",
      "\n",
      "Wilt Chamberlain\n",
      "\n",
      "James Naismith\n",
      "\n",
      "Scottie Pippen\n",
      "\n",
      "Australia\n",
      "\n",
      "LeBron James\n",
      "\n",
      "Shaquille O'Neal\n",
      "\n",
      "Stephen Curry\n",
      "\n",
      "Magic Johnson\n",
      "\n",
      "Bosnia and Herzegovina\n",
      "\n",
      "Baltimore\n",
      "\n",
      "Chicago Bulls\n",
      "\n",
      "James Naismith\n",
      "\n",
      "Scottie Pippen\n",
      "\n"
     ]
    }
   ],
   "source": [
    "generateTask = \"Which of these basketball {title} mentioned in {text} is\\\n",
    "                the most accomplished. Choose atleast one and explain why\"\n",
    "\n",
    "result = (\n",
    "  client.query\n",
    "  .get(\"Article\", [\"title\",\"text\"])\n",
    "  .with_generate(grouped_task=generateTask)\n",
    "  .with_near_text({\n",
    "    \"concepts\": [\"famous basketball players\"]\n",
    "  })\n",
    "  .with_limit(15)\n",
    ").do()\n",
    "\n",
    "print(\"Generated Text:\\n\" + result['data']['Get']['Article'][0]['_additional']['generate']['groupedResult']+\"\\n\"+\"Article Titles Provided as Context:\\n\")\n",
    "\n",
    "k = [print(result['data']['Get']['Article'][i]['title']+\"\\n\") for i in range(len(result['data']['Get']['Article']))]"
   ]
  },
  {
   "cell_type": "code",
   "execution_count": 96,
   "id": "e7bfd81a",
   "metadata": {},
   "outputs": [
    {
     "name": "stdout",
     "output_type": "stream",
     "text": [
      "Generated Text:\n",
      "\n",
      "The results are all similar because they are all basketball players who have won NBA championships\n",
      "\n",
      "Article Titles Provided as Context:\n",
      "\n",
      "Wilt Chamberlain\n",
      "\n",
      "Magic Johnson\n",
      "\n",
      "Wilt Chamberlain\n",
      "\n",
      "James Naismith\n",
      "\n",
      "Scottie Pippen\n",
      "\n"
     ]
    }
   ],
   "source": [
    "generateTask = \"Explain why these {text} results are all similar \"\n",
    "\n",
    "result = (\n",
    "  client.query\n",
    "  .get(\"Article\", [\"title\",\"text\"])\n",
    "  .with_generate(grouped_task=generateTask)\n",
    "  .with_near_text({\n",
    "    \"concepts\": [\"famous basketball players\"]\n",
    "  })\n",
    "  .with_limit(5)\n",
    ").do()\n",
    "\n",
    "print(\"Generated Text:\\n\" + result['data']['Get']['Article'][0]['_additional']['generate']['groupedResult']+\"\\n\\nArticle Titles Provided as Context:\\n\")\n",
    "\n",
    "k = [print(result['data']['Get']['Article'][i]['title']+\"\\n\") for i in range(len(result['data']['Get']['Article']))]"
   ]
  },
  {
   "cell_type": "code",
   "execution_count": 101,
   "id": "9c11d054",
   "metadata": {},
   "outputs": [
    {
     "name": "stdout",
     "output_type": "stream",
     "text": [
      "Generated Text:\n",
      "Wilt Chamberlain and Magic Johnson were both legends in the world of basketball. They had never faced each other on the court, but that was about to change. The two were set to play a one-on-one game, and the winner would be declared the greatest basketball player of all time.\n",
      "\n",
      "As the game began, Chamberlain used his height and strength to dominate the court. He easily scored basket after basket, leaving Johnson struggling to keep up. But Johnson was not one to give up easily. He used his quickness and agility to dodge Chamberlain's moves and score some points of his own.\n",
      "\n",
      "The game was intense, with both players giving it their all. But in the end, it was Chamberlain who emerged victorious. He had proven once again why he was considered one of the greatest basketball players of all time.\n",
      "\n",
      "But as Chamberlain celebrated his victory, he was suddenly attacked from behind. It was Scottie Pippen, who had been watching the game from the sidelines. Pippen had always been jealous of Chamberlain's success and had decided to take matters into his own hands.\n",
      "\n",
      "Chamberlain fought back, but Pippen was relentless. The two engaged in a fierce battle, with Pippen using his speed and agility to dodge Chamberlain's attacks. But Chamberlain was not one to be underestimated. He used his strength to overpower Pippen and finally emerged victorious.\n",
      "\n",
      "As the dust settled, Chamberlain stood tall, the undisputed champion of the court. Johnson and Pippen lay defeated at his feet, but Chamberlain knew that he had earned their respect. He had proven that he was not just a basketball player, but a true warrior.\n",
      "\n",
      "Article Text Provided as Context:\n",
      "\n",
      "Wilt Chamberlain\n",
      "\n",
      "Magic Johnson\n",
      "\n",
      "Wilt Chamberlain\n",
      "\n",
      "James Naismith\n",
      "\n",
      "Scottie Pippen\n",
      "\n"
     ]
    }
   ],
   "source": [
    "generateTask = \"Tell me a story where these people {title} fight each other,\\\n",
    "                here's some information about them {text}\"\n",
    "\n",
    "result = (\n",
    "  client.query\n",
    "  .get(\"Article\", [\"title\",'text'])\n",
    "  .with_generate(grouped_task=generateTask)\n",
    "  .with_near_text({\n",
    "    \"concepts\": [\"famous basketball players\"]\n",
    "  })\n",
    "  .with_limit(5)\n",
    ").do()\n",
    "\n",
    "print(\"Generated Text:\\n\" + result['data']['Get']['Article'][0]['_additional']['generate']['groupedResult']+\"\\n\\nArticle Text Provided as Context:\\n\")\n",
    "\n",
    "k = [print(result['data']['Get']['Article'][i]['title']+\"\\n\") for i in range(len(result['data']['Get']['Article']))]"
   ]
  },
  {
   "attachments": {
    "image.png": {
     "image/png": "[encoded data removed]"
    }
   },
   "cell_type": "markdown",
   "id": "1b5f3b03",
   "metadata": {},
   "source": [
    "### Learn more in the Weaviate Docs\n",
    "![image.png](attachment:image.png)"
   ]
  },
  {
   "cell_type": "code",
   "execution_count": null,
   "id": "90955f40",
   "metadata": {},
   "outputs": [],
   "source": []
  }
 ],
 "metadata": {
  "kernelspec": {
   "display_name": "Python 3 (ipykernel)",
   "language": "python",
   "name": "python3"
  },
  "language_info": {
   "codemirror_mode": {
    "name": "ipython",
    "version": 3
   },
   "file_extension": ".py",
   "mimetype": "text/x-python",
   "name": "python",
   "nbconvert_exporter": "python",
   "pygments_lexer": "ipython3",
   "version": "3.9.15"
  }
 },
 "nbformat": 4,
 "nbformat_minor": 5
}
