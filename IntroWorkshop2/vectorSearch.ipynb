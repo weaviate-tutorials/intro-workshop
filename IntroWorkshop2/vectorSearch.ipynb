{
 "cells": [
  {
   "cell_type": "code",
   "execution_count": null,
   "id": "b6bfb80e",
   "metadata": {},
   "outputs": [],
   "source": [
    "import os\n",
    "import weaviate\n",
    "from wcs_key import wcs_token\n",
    "\n",
    "auth_config = weaviate.auth.AuthApiKey(api_key=wcs_token)  # Replace w/ your API Key for the Weaviate instance\n",
    "\n",
    "client = weaviate.Client(\n",
    "    url=\"https://workshop-prep-cluster-v54dbajt.weaviate.network\",\n",
    "    auth_client_secret=auth_config,  #weaivate instance API key\n",
    "    additional_headers={\n",
    "        \"X-Cohere-Api-Key\": os.getenv(\"COHERE_API_KEY\"),   # Replace w/ your Cohere Key \n",
    "        \"X-OpenAI-Api-Key\": os.getenv(\"OPENAI_API_KEY\"),   # Replace w/ your OpenAI Key \n",
    "    }\n",
    ")\n",
    "client.is_ready()"
   ]
  },
  {
   "cell_type": "markdown",
   "id": "c1f4f3af",
   "metadata": {},
   "source": [
    "## Search through your data\n",
    "1. Classic Word Search\n",
    "2. Vector Search"
   ]
  },
  {
   "cell_type": "code",
   "execution_count": null,
   "id": "556bda5c",
   "metadata": {},
   "outputs": [],
   "source": [
    "def word_search(word):\n",
    "    where_filter = {\n",
    "      \"path\": [\"title\"],\n",
    "      \"operator\": \"Like\", #\n",
    "      \"valueString\": word,\n",
    "    }\n",
    "\n",
    "    query_result = (\n",
    "      client.query\n",
    "      .get(\"Article\", [\"title\", \"text\"])\n",
    "      .with_where(where_filter)\n",
    "      .do()\n",
    "    )\n",
    "    \n",
    "    return query_result['data']['Get']['Article'][0]['text']\n",
    "\n",
    "print(word_search(\"Avocado\"))"
   ]
  },
  {
   "cell_type": "code",
   "execution_count": null,
   "id": "f1747e21",
   "metadata": {},
   "outputs": [],
   "source": [
    "word_search(\"Data science\")"
   ]
  },
  {
   "cell_type": "code",
   "execution_count": null,
   "id": "13ee6e49",
   "metadata": {},
   "outputs": [],
   "source": [
    "word_search(\"fast animals\")"
   ]
  },
  {
   "cell_type": "code",
   "execution_count": null,
   "id": "44f93710",
   "metadata": {},
   "outputs": [],
   "source": [
    "where_filter = {\n",
    "      \"path\": [\"title\"],\n",
    "      \"operator\": \"Like\", #\n",
    "      \"valueString\": 'fast animal',\n",
    "    }\n",
    "\n",
    "query_result = (\n",
    "      client.query\n",
    "      .get(\"Article\", [\"title\", \"text\"])\n",
    "      .with_where(where_filter)\n",
    "      .do()\n",
    "    )\n",
    "\n",
    "query_result"
   ]
  },
  {
   "cell_type": "markdown",
   "id": "23751b50",
   "metadata": {},
   "source": [
    "## Semantic(Vector) Search"
   ]
  },
  {
   "cell_type": "code",
   "execution_count": null,
   "id": "6de1bb87",
   "metadata": {},
   "outputs": [],
   "source": [
    "def semantic_search(query):\n",
    "    nearText = {\n",
    "        \"concepts\": [query],\n",
    "    }\n",
    "\n",
    "    properties = [\n",
    "        \"text\", \"title\", \"url\", \"views\",\n",
    "        \"_additional {distance}\"\n",
    "    ]\n",
    "\n",
    "    response = (\n",
    "        client.query\n",
    "        .get(\"Article\", properties)\n",
    "        .with_near_text(nearText)\n",
    "        .with_limit(3)\n",
    "        .do()\n",
    "    )\n",
    "\n",
    "    result = response['data']['Get']['Article']\n",
    "\n",
    "    return result\n",
    "    \n",
    "def print_result(result):\n",
    "    for item in result:\n",
    "        print(f\"\\033[95m{item['title']} ({item['views']}) {item['_additional']['distance']}\\033[0m\")\n",
    "        print(f\"\\033[4m{item['url']}\\033[0m\")\n",
    "        print(item['text'])\n",
    "        print()"
   ]
  },
  {
   "cell_type": "code",
   "execution_count": null,
   "id": "3e3f99e3",
   "metadata": {},
   "outputs": [],
   "source": [
    "query_result = semantic_search(\"a programming language used for machine learning\")\n",
    "\n",
    "print_result(query_result)"
   ]
  },
  {
   "cell_type": "code",
   "execution_count": null,
   "id": "a5b87459",
   "metadata": {},
   "outputs": [],
   "source": [
    "query_result = semantic_search(\"fast animals\")\n",
    "\n",
    "print_result(query_result)"
   ]
  },
  {
   "cell_type": "markdown",
   "id": "844728c4",
   "metadata": {},
   "source": [
    "## This is a Multi-Lingual Model!!"
   ]
  },
  {
   "cell_type": "code",
   "execution_count": null,
   "id": "250758a8",
   "metadata": {},
   "outputs": [],
   "source": [
    "#great movies in chinese\n",
    "\n",
    "query_result = semantic_search(\"很棒的电影\")\n",
    "\n",
    "print_result(query_result)"
   ]
  },
  {
   "cell_type": "code",
   "execution_count": null,
   "id": "59cc15dc",
   "metadata": {},
   "outputs": [],
   "source": [
    "#great movies in hindi\n",
    "\n",
    "query_result = semantic_search(\"महान फिल्में\")\n",
    "\n",
    "print_result(query_result)"
   ]
  },
  {
   "cell_type": "code",
   "execution_count": null,
   "id": "6214567f",
   "metadata": {},
   "outputs": [],
   "source": [
    "#vacation spots in Farsi\n",
    "\n",
    "query_result = semantic_search(\"مکان های تعطیلات\")\n",
    "\n",
    "print_result(query_result)"
   ]
  }
 ],
 "metadata": {
  "kernelspec": {
   "display_name": "Python 3 (ipykernel)",
   "language": "python",
   "name": "python3"
  },
  "language_info": {
   "codemirror_mode": {
    "name": "ipython",
    "version": 3
   },
   "file_extension": ".py",
   "mimetype": "text/x-python",
   "name": "python",
   "nbconvert_exporter": "python",
   "pygments_lexer": "ipython3",
   "version": "3.9.15"
  }
 },
 "nbformat": 4,
 "nbformat_minor": 5
}
