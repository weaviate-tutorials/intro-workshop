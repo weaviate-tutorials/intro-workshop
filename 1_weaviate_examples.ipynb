{
 "cells": [
  {
   "cell_type": "markdown",
   "id": "e7d66c4d",
   "metadata": {
    "slideshow": {
     "slide_type": "slide"
    }
   },
   "source": [
    "# Introduction to Weaviate - Demo"
   ]
  },
  {
   "cell_type": "markdown",
   "id": "83ae1365",
   "metadata": {
    "slideshow": {
     "slide_type": "fragment"
    }
   },
   "source": [
    "\n",
    "## Setup"
   ]
  },
  {
   "cell_type": "markdown",
   "id": "0a70fd06",
   "metadata": {
    "slideshow": {
     "slide_type": "skip"
    }
   },
   "source": [
    "<a target=\"_blank\" href=\"https://colab.research.google.com/github/weaviate-tutorials/intro-workshop/blob/main/1_weaviate_examples.ipynb\">\n",
    "  <img src=\"https://colab.research.google.com/assets/colab-badge.svg\" alt=\"Open In Colab\"/>\n",
    "</a>"
   ]
  },
  {
   "cell_type": "markdown",
   "id": "9d8c35f1",
   "metadata": {
    "slideshow": {
     "slide_type": "slide"
    }
   },
   "source": [
    "⬇️ This is just a bunch of helper/predefined functions :)"
   ]
  },
  {
   "cell_type": "code",
   "execution_count": null,
   "id": "eb982ce8",
   "metadata": {
    "slideshow": {
     "slide_type": "-"
    }
   },
   "outputs": [],
   "source": [
    "# ============================================================\n",
    "# ===== HELPER FUNCTIONS FOR THE SEARCH DEMO =====\n",
    "# ============================================================\n",
    "def truncate_item(item_in, trunc_len=100):\n",
    "    return str(item_in)[:trunc_len] + \"...\" * (trunc_len < len(item_in))\n",
    "\n",
    "def getprint(weaviate_result, truncate=True):\n",
    "    for k, results in weaviate_result[\"data\"][\"Get\"].items():\n",
    "        print(f\"========== {k} Results: ==========\")\n",
    "        for r in results:\n",
    "            for item_k, item_v in r.items():\n",
    "                if truncate:\n",
    "                    item_v = truncate_item(item_v)\n",
    "                print(f\"{item_k}: {item_v}\")\n",
    "            print(\"\\n\")\n",
    "\n",
    "# ============================================================\n",
    "# ===== HELPER FUNCTIONS FOR THE 3D EMBEDDINGS DEMO =====\n",
    "# ============================================================\n",
    "import openai, os\n",
    "import numpy as np\n",
    "import seaborn as sns\n",
    "import matplotlib.pyplot as plt\n",
    "import plotly.express as px\n",
    "from sklearn.decomposition import PCA\n",
    "import pandas as pd\n",
    "\n",
    "openai_key = os.environ[\"OPENAI_APIKEY\"]\n",
    "openai.api_key = openai_key\n",
    "\n",
    "\n",
    "def get_emb(sent_inputs):\n",
    "    oai_resp = openai.Embedding.create(\n",
    "        input=sent_inputs,\n",
    "        model=\"text-embedding-ada-002\"\n",
    "    )\n",
    "    return oai_resp\n",
    "\n",
    "\n",
    "def plot_embs(df_in):\n",
    "    fig = px.scatter(df_in, \n",
    "               template=\"ggplot2\",\n",
    "               x=\"PC1\", y=\"PC2\", color=\"category\",\n",
    "               hover_data=\"sentence\")\n",
    "    fig.update_layout(\n",
    "        margin=dict(\n",
    "            l=20,\n",
    "            r=20,\n",
    "            b=20,\n",
    "            t=20,\n",
    "            pad=4\n",
    "        )\n",
    "    )\n",
    "    fig.update_traces(marker_size=20)\n",
    "    return fig\n",
    "\n",
    "\n",
    "def plot_vectors(arr_in):\n",
    "    pca = PCA(n_components=2)\n",
    "    embeddings_pca = pca.fit_transform(arr_in)\n",
    "\n",
    "    df = pd.DataFrame(embeddings_pca, columns=[\"PC1\", \"PC2\"])\n",
    "    df[\"sentence\"] = sent_inputs\n",
    "    df[\"category\"] = \"other\"\n",
    "    df.loc[:4, \"category\"] = \"cats\"\n",
    "    df.loc[5:9, \"category\"] = \"dogs\"\n",
    "    fig = plot_embs(df)\n",
    "    return fig\n",
    "\n",
    "\n",
    "def add_new_emb(sents_in, arr_in, sent_inputs_in):\n",
    "    resp = get_emb(sents_in)\n",
    "    for d in resp[\"data\"]:\n",
    "        arr_in = np.vstack([arr_in, d[\"embedding\"]])\n",
    "    sent_inputs_in = sent_inputs_in + sents_in\n",
    "    return arr_in, sent_inputs_in\n",
    "\n",
    "\n",
    "# ============================================================\n",
    "# ===== HELPER FUNCTIONS FOR THE 3D PLOTLY DEMO =====\n",
    "# ============================================================\n",
    "def preproc_data():\n",
    "    sizes = [1, 20, 30]\n",
    "    df = pd.read_csv('data/colors.csv', names=['simple_name', 'name', 'hex', 'r', 'g', 'b'])\n",
    "\n",
    "    # Preprocessing\n",
    "    df['rgb'] = df.apply(lambda x: f'rgb({x.r}, {x.g}, {x.b})', axis=1)\n",
    "\n",
    "    # Get top 'basic' color names\n",
    "    df = df.assign(category=df.simple_name.apply(lambda x: x.split('_')[-1]))\n",
    "\n",
    "    # Set default size attribute\n",
    "    df['size'] = sizes[0]\n",
    "    return df\n",
    "\n",
    "\n",
    "def build_chart(df_in):\n",
    "    fig = px.scatter_3d(df_in, x='r', y='g', z='b',\n",
    "                        template='plotly_white',\n",
    "                        color=df_in['simple_name'],\n",
    "                        color_discrete_sequence=df_in['rgb'],\n",
    "                        size='size',\n",
    "                        hover_data=['name'])\n",
    "    fig.update_layout(\n",
    "        showlegend=False,\n",
    "        margin=dict(l=5, r=5, t=20, b=5)\n",
    "    )\n",
    "    return fig"
   ]
  },
  {
   "cell_type": "code",
   "execution_count": null,
   "id": "e46a4f88",
   "metadata": {
    "slideshow": {
     "slide_type": "slide"
    }
   },
   "outputs": [],
   "source": [
    "import weaviate\n",
    "import os\n",
    "import json\n",
    "\n",
    "client = weaviate.Client(\n",
    "    \"https://edu-demo.weaviate.network\",\n",
    "    auth_client_secret=weaviate.AuthApiKey(api_key=\"learn-weaviate\"),  # Note: Read-only key\n",
    "    additional_headers={  # After the demo, uncomment this and pass your own API credentials\n",
    "        \"X-OpenAI-Api-Key\": os.environ[\"OPENAI_APIKEY\"],\n",
    "        \"X-Cohere-Api-Key\": os.environ[\"COHERE_APIKEY\"]\n",
    "    }\n",
    ")"
   ]
  },
  {
   "cell_type": "markdown",
   "id": "53d0baaa",
   "metadata": {
    "slideshow": {
     "slide_type": "slide"
    }
   },
   "source": [
    "### Semantic search around the world"
   ]
  },
  {
   "cell_type": "code",
   "execution_count": null,
   "id": "7e0e8663",
   "metadata": {
    "slideshow": {
     "slide_type": "fragment"
    }
   },
   "outputs": [],
   "source": [
    "# WikiCity dataset\n",
    "client.query.aggregate(\"WikiCity\").with_meta_count().do()"
   ]
  },
  {
   "cell_type": "markdown",
   "id": "659582df",
   "metadata": {
    "slideshow": {
     "slide_type": "subslide"
    }
   },
   "source": [
    "Search can be tricky. "
   ]
  },
  {
   "cell_type": "code",
   "execution_count": null,
   "id": "72497784",
   "metadata": {
    "scrolled": true,
    "slideshow": {
     "slide_type": "fragment"
    }
   },
   "outputs": [],
   "source": [
    "res = (\n",
    "    client.query\n",
    "    .get(\"WikiCity\", [\"city_name\"])\n",
    "    .with_limit(50).do()\n",
    ")\n",
    "display(res[\"data\"][\"Get\"][\"WikiCity\"])"
   ]
  },
  {
   "cell_type": "markdown",
   "id": "ed459005",
   "metadata": {
    "slideshow": {
     "slide_type": "fragment"
    }
   },
   "source": [
    "How would you search through data like this by common themes? 🤔"
   ]
  },
  {
   "cell_type": "markdown",
   "id": "899dd7b6",
   "metadata": {
    "slideshow": {
     "slide_type": "subslide"
    }
   },
   "source": [
    "With vector search, you can do so by \"concepts\" (i.e. meaning)"
   ]
  },
  {
   "cell_type": "code",
   "execution_count": null,
   "id": "7f3fa9a8",
   "metadata": {
    "slideshow": {
     "slide_type": "fragment"
    }
   },
   "outputs": [],
   "source": [
    "res = client.query.get(\n",
    "    \"WikiCity\", [\"city_name\", \"wiki_summary\"]\n",
    ").with_near_text({\n",
    "    \"concepts\": [\"Major European city\"]\n",
    "}).with_limit(5).do()\n",
    "\n",
    "getprint(res)"
   ]
  },
  {
   "cell_type": "code",
   "execution_count": null,
   "id": "8b29bb7b",
   "metadata": {
    "slideshow": {
     "slide_type": "subslide"
    }
   },
   "outputs": [],
   "source": [
    "res = client.query.get(\n",
    "    \"WikiArticle\", [\"title\", \"wiki_summary\"]\n",
    ").with_near_text({\n",
    "    \"concepts\": [\"Formula 1 driver\"]\n",
    "}).with_limit(1).do()\n",
    "\n",
    "getprint(res, truncate=True)"
   ]
  },
  {
   "cell_type": "markdown",
   "id": "9a8685d1",
   "metadata": {
    "slideshow": {
     "slide_type": "slide"
    }
   },
   "source": [
    "## How does this work?"
   ]
  },
  {
   "cell_type": "markdown",
   "id": "9782cf89",
   "metadata": {
    "slideshow": {
     "slide_type": "fragment"
    }
   },
   "source": [
    "## Visual demo - vector embeddings"
   ]
  },
  {
   "cell_type": "code",
   "execution_count": null,
   "id": "e68d59df",
   "metadata": {
    "slideshow": {
     "slide_type": "subslide"
    }
   },
   "outputs": [],
   "source": [
    "sent_inputs = [\n",
    "    # Cat-related sentences\n",
    "    \"The Bengal showed off its striking coat pattern.\",\n",
    "    \"A lion's powerful roar echoed through the plains.\",\n",
    "    \"A leopard's spots provided perfect camouflage in the dappled light.\",\n",
    "    \"A cheetah's unmatched speed allowed it to outrun its prey.\",\n",
    "    \"The Sphynx basked in the warmth of its owner's lap.\",\n",
    "    # Dog-related sentences    \n",
    "    \"The golden retriever chased after the frisbee.\",\n",
    "    \"The playful puppy rolled in the grass.\",\n",
    "    \"A loyal companion is always by your side.\",\n",
    "    \"The Labrador retriever enjoyed playing in the water.\",\n",
    "    \"The family adopted a furry friend from the shelter.\"    \n",
    "]\n",
    "\n",
    "resp = get_emb(sent_inputs)  # Helper function to get \"embeddings\"\n",
    "arr = np.array([i[\"embedding\"] for i in resp[\"data\"]])  # Add to an array"
   ]
  },
  {
   "cell_type": "code",
   "execution_count": null,
   "id": "f26b2f83",
   "metadata": {
    "slideshow": {
     "slide_type": "subslide"
    }
   },
   "outputs": [],
   "source": [
    "fig = plot_vectors(arr)\n",
    "fig.show()"
   ]
  },
  {
   "cell_type": "markdown",
   "id": "449096f3",
   "metadata": {
    "slideshow": {
     "slide_type": "fragment"
    }
   },
   "source": [
    "Similar sentences were *magically* grouped together - this is the power of \"vector embeddings\", capturing meaning in a bunch of numbers."
   ]
  },
  {
   "cell_type": "markdown",
   "id": "6747beda",
   "metadata": {
    "slideshow": {
     "slide_type": "slide"
    }
   },
   "source": [
    "### Conceptually - it's similar to this:"
   ]
  },
  {
   "cell_type": "markdown",
   "id": "447de57c",
   "metadata": {
    "slideshow": {
     "slide_type": "subslide"
    }
   },
   "source": [
    "You can embed colors into numbers (e.g. RGB) like: ⬇️"
   ]
  },
  {
   "cell_type": "code",
   "execution_count": null,
   "id": "5d2619cf",
   "metadata": {
    "slideshow": {
     "slide_type": "fragment"
    }
   },
   "outputs": [],
   "source": [
    "df = preproc_data()\n",
    "colors_fig = build_chart(df)\n",
    "colors_fig.show()"
   ]
  },
  {
   "cell_type": "markdown",
   "id": "4cca9fb1",
   "metadata": {
    "slideshow": {
     "slide_type": "fragment"
    }
   },
   "source": [
    "Modern deep learning models can do the same with text, images, audio, and more!"
   ]
  },
  {
   "cell_type": "code",
   "execution_count": null,
   "id": "e9143f97",
   "metadata": {
    "slideshow": {
     "slide_type": "subslide"
    }
   },
   "outputs": [],
   "source": [
    "fig.show()"
   ]
  },
  {
   "cell_type": "markdown",
   "id": "0b14ce05",
   "metadata": {
    "slideshow": {
     "slide_type": "slide"
    }
   },
   "source": [
    "## Weaviate helps you leverage these"
   ]
  },
  {
   "cell_type": "markdown",
   "id": "e067375c",
   "metadata": {
    "slideshow": {
     "slide_type": "fragment"
    }
   },
   "source": [
    "## At scale!"
   ]
  },
  {
   "cell_type": "markdown",
   "id": "f3598dca",
   "metadata": {
    "slideshow": {
     "slide_type": "subslide"
    }
   },
   "source": [
    "### Semantic search"
   ]
  },
  {
   "cell_type": "code",
   "execution_count": null,
   "id": "e5230bbc",
   "metadata": {
    "slideshow": {
     "slide_type": "fragment"
    }
   },
   "outputs": [],
   "source": [
    "res = client.query.get(\n",
    "    \"JeopardyQuestion\", [\"question\", \"answer\"]\n",
    ").with_near_text({\n",
    "    \"concepts\": [\"around the world\"]\n",
    "}).with_limit(5).do()\n",
    "\n",
    "getprint(res, truncate=False)"
   ]
  },
  {
   "cell_type": "markdown",
   "id": "a812c052",
   "metadata": {
    "slideshow": {
     "slide_type": "subslide"
    }
   },
   "source": [
    "### Keyword search"
   ]
  },
  {
   "cell_type": "code",
   "execution_count": null,
   "id": "ad2fffc7",
   "metadata": {
    "slideshow": {
     "slide_type": "fragment"
    }
   },
   "outputs": [],
   "source": [
    "res = client.query.get(\n",
    "    \"JeopardyQuestion\", [\"question\", \"answer\"]\n",
    ").with_bm25(\n",
    "    query=\"peninsula\", properties=[\"answer\"]\n",
    ").with_limit(3).do()\n",
    "\n",
    "getprint(res, truncate=False)"
   ]
  },
  {
   "cell_type": "markdown",
   "id": "9c79d031",
   "metadata": {
    "slideshow": {
     "slide_type": "fragment"
    }
   },
   "source": [
    "(You can also combine these into \"hybrid\" searches!)"
   ]
  },
  {
   "cell_type": "markdown",
   "id": "ffa88dda",
   "metadata": {
    "slideshow": {
     "slide_type": "subslide"
    }
   },
   "source": [
    "### Filtering"
   ]
  },
  {
   "cell_type": "code",
   "execution_count": null,
   "id": "199254dc",
   "metadata": {
    "slideshow": {
     "slide_type": "fragment"
    }
   },
   "outputs": [],
   "source": [
    "res = client.query.get(\n",
    "    \"JeopardyQuestion\", [\"question\", \"answer\"]\n",
    ").with_near_text({\n",
    "    \"concepts\": [\"around the world\"]\n",
    "}).with_where({\n",
    "    \"path\": [\"question\"],\n",
    "    \"operator\": \"Like\",\n",
    "    \"valueText\": \"*city*\"\n",
    "}).with_limit(3).do()\n",
    "\n",
    "getprint(res, truncate=False)"
   ]
  },
  {
   "cell_type": "markdown",
   "id": "ebc62092",
   "metadata": {
    "slideshow": {
     "slide_type": "subslide"
    }
   },
   "source": [
    "### Beyond simple retrieval"
   ]
  },
  {
   "cell_type": "markdown",
   "id": "1b2797f8",
   "metadata": {
    "slideshow": {
     "slide_type": "fragment"
    }
   },
   "source": [
    "With Weaviate, you can do more than just **retrieve** data. "
   ]
  },
  {
   "cell_type": "markdown",
   "id": "62674498",
   "metadata": {
    "slideshow": {
     "slide_type": "fragment"
    }
   },
   "source": [
    "Weaviate + modern AI tools → **dynamic** data."
   ]
  },
  {
   "cell_type": "markdown",
   "id": "73e5b09c",
   "metadata": {
    "slideshow": {
     "slide_type": "slide"
    }
   },
   "source": [
    "### Search + Generative model\n",
    "\n",
    "Search + `generative-openai` module → **magic**"
   ]
  },
  {
   "cell_type": "markdown",
   "id": "572597d1",
   "metadata": {
    "slideshow": {
     "slide_type": "subslide"
    }
   },
   "source": [
    "Transform information like:"
   ]
  },
  {
   "cell_type": "code",
   "execution_count": null,
   "id": "57e36570",
   "metadata": {
    "slideshow": {
     "slide_type": "fragment"
    }
   },
   "outputs": [],
   "source": [
    "res = client.query.get(\n",
    "    \"WikiCity\", [\"city_name\", \"wiki_summary\"]\n",
    ").with_near_text({\n",
    "    \"concepts\": [\"Popular European tourist destination\"]\n",
    "}).with_limit(5).with_generate(\n",
    "    single_prompt=\\\n",
    "    \"Write a tweet with a potentially surprising fact from {wiki_summary}\"\n",
    ").do()"
   ]
  },
  {
   "cell_type": "code",
   "execution_count": null,
   "id": "0a3f811c",
   "metadata": {
    "slideshow": {
     "slide_type": "subslide"
    }
   },
   "outputs": [],
   "source": [
    "for wa in res[\"data\"][\"Get\"][\"WikiCity\"]:\n",
    "    print(wa[\"_additional\"][\"generate\"][\"singleResult\"], \"\\n\")"
   ]
  },
  {
   "cell_type": "code",
   "execution_count": null,
   "id": "321a9f27",
   "metadata": {
    "slideshow": {
     "slide_type": "subslide"
    }
   },
   "outputs": [],
   "source": [
    "res = client.query.get(\n",
    "    \"WikiCity\", [\"city_name\", \"wiki_summary\"]\n",
    ").with_near_text({\n",
    "    \"concepts\": [\"Popular European tourist destination\"]\n",
    "}).with_limit(3).with_generate(\n",
    "    grouped_task=\"Write a short 2-day travel plan to visit these destinations, to see a few of these landmarks shown in these passages:\"\n",
    ").do()\n",
    "\n",
    "print(res[\"data\"][\"Get\"][\"WikiCity\"][0][\"_additional\"][\"generate\"][\"groupedResult\"])"
   ]
  },
  {
   "cell_type": "markdown",
   "id": "de9d91b1",
   "metadata": {
    "slideshow": {
     "slide_type": "slide"
    }
   },
   "source": [
    "## Weaviate empowers you..."
   ]
  },
  {
   "cell_type": "markdown",
   "id": "47471436",
   "metadata": {
    "slideshow": {
     "slide_type": "fragment"
    }
   },
   "source": [
    "To do all of these things and more, *at scale*."
   ]
  },
  {
   "cell_type": "markdown",
   "id": "f6ef755c",
   "metadata": {
    "slideshow": {
     "slide_type": "fragment"
    }
   },
   "source": [
    "Easily handle up to tens of millions, or hundreds of millions of objects."
   ]
  }
 ],
 "metadata": {
  "celltoolbar": "Slideshow",
  "kernelspec": {
   "display_name": "Python 3 (ipykernel)",
   "language": "python",
   "name": "python3"
  },
  "language_info": {
   "codemirror_mode": {
    "name": "ipython",
    "version": 3
   },
   "file_extension": ".py",
   "mimetype": "text/x-python",
   "name": "python",
   "nbconvert_exporter": "python",
   "pygments_lexer": "ipython3",
   "version": "3.10.12"
  },
  "varInspector": {
   "cols": {
    "lenName": 16,
    "lenType": 16,
    "lenVar": 40
   },
   "kernels_config": {
    "python": {
     "delete_cmd_postfix": "",
     "delete_cmd_prefix": "del ",
     "library": "var_list.py",
     "varRefreshCmd": "print(var_dic_list())"
    },
    "r": {
     "delete_cmd_postfix": ") ",
     "delete_cmd_prefix": "rm(",
     "library": "var_list.r",
     "varRefreshCmd": "cat(var_dic_list()) "
    }
   },
   "types_to_exclude": [
    "module",
    "function",
    "builtin_function_or_method",
    "instance",
    "_Feature"
   ],
   "window_display": false
  }
 },
 "nbformat": 4,
 "nbformat_minor": 5
}
