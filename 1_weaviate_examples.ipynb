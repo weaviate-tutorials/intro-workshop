{
 "cells": [
  {
   "cell_type": "markdown",
   "id": "e7d66c4d",
   "metadata": {
    "slideshow": {
     "slide_type": "slide"
    }
   },
   "source": [
    "## Introduction to Weaviate - Demo 1"
   ]
  },
  {
   "cell_type": "markdown",
   "id": "e8540c10",
   "metadata": {
    "slideshow": {
     "slide_type": "subslide"
    }
   },
   "source": [
    "### Setup"
   ]
  },
  {
   "cell_type": "markdown",
   "id": "0a70fd06",
   "metadata": {},
   "source": [
    "<a target=\"_blank\" href=\"https://colab.research.google.com/github/weaviate-tutorials/intro-workshop/blob/main/1_weaviate_examples.ipynb\">\n",
    "  <img src=\"https://colab.research.google.com/assets/colab-badge.svg\" alt=\"Open In Colab\"/>\n",
    "</a>"
   ]
  },
  {
   "cell_type": "markdown",
   "id": "1bc52b78",
   "metadata": {
    "slideshow": {
     "slide_type": "skip"
    }
   },
   "source": [
    "Define helper functions"
   ]
  },
  {
   "cell_type": "code",
   "execution_count": null,
   "id": "b8fa78f1",
   "metadata": {
    "slideshow": {
     "slide_type": "skip"
    }
   },
   "outputs": [],
   "source": [
    "def trunc_item(item_in):\n",
    "    if len(str(item_in)) > 100:\n",
    "        return str(item_in)[:100] + \"...\"\n",
    "    else:\n",
    "        return str(item_in)\n",
    "\n",
    "def getprint(weaviate_result, truncate=True):\n",
    "    for k, results in weaviate_result[\"data\"][\"Get\"].items():\n",
    "        print(f\"========== {k} Results: ==========\")\n",
    "        for r in results:\n",
    "            for item_k, item_v in r.items():\n",
    "                if truncate:\n",
    "                    item_v = trunc_item(item_v)\n",
    "                print(f\"{item_k}: {trunc_item(item_v)}\")\n",
    "            print(\"\\n\")"
   ]
  },
  {
   "cell_type": "code",
   "execution_count": null,
   "id": "e46a4f88",
   "metadata": {
    "slideshow": {
     "slide_type": "-"
    }
   },
   "outputs": [],
   "source": [
    "import weaviate\n",
    "import os\n",
    "import json\n",
    "\n",
    "auth=weaviate.AuthApiKey(api_key=\"weaviate-workshop\")  # Note: Read-only key\n",
    "client = weaviate.Client(\n",
    "    \"https://edu-demo.weaviate.network\",\n",
    "    auth_client_secret=auth,\n",
    "#     additional_headers={  # After the demo, uncomment this and pass your own API credentials\n",
    "#         \"X-OpenAI-Api-Key\": os.environ[\"OPENAI_API_KEY\"],\n",
    "#         \"X-Cohere-Api-Key\": os.environ[\"COHERE_API_KEY\"]\n",
    "#     }\n",
    ")"
   ]
  },
  {
   "cell_type": "markdown",
   "id": "53d0baaa",
   "metadata": {
    "slideshow": {
     "slide_type": "slide"
    }
   },
   "source": [
    "### Search"
   ]
  },
  {
   "cell_type": "code",
   "execution_count": null,
   "id": "7f3fa9a8",
   "metadata": {
    "slideshow": {
     "slide_type": "-"
    }
   },
   "outputs": [],
   "source": [
    "res = client.query.get(\n",
    "    \"WikiCity\", [\"city_name\", \"wiki_summary\"]\n",
    ").with_near_text({\n",
    "    \"concepts\": [\"Major European city\"]\n",
    "}).with_limit(5).do()"
   ]
  },
  {
   "cell_type": "code",
   "execution_count": null,
   "id": "fda196e5",
   "metadata": {
    "scrolled": true,
    "slideshow": {
     "slide_type": "subslide"
    }
   },
   "outputs": [],
   "source": [
    "getprint(res)"
   ]
  },
  {
   "cell_type": "code",
   "execution_count": null,
   "id": "8b29bb7b",
   "metadata": {
    "slideshow": {
     "slide_type": "subslide"
    }
   },
   "outputs": [],
   "source": [
    "res = client.query.get(\n",
    "    \"WikiArticle\", ['title']\n",
    ").with_near_text({\n",
    "    \"concepts\": [\"Formula 1 driver\"]\n",
    "}).with_limit(1).do()"
   ]
  },
  {
   "cell_type": "code",
   "execution_count": null,
   "id": "c858f988",
   "metadata": {
    "scrolled": true,
    "slideshow": {
     "slide_type": "subslide"
    }
   },
   "outputs": [],
   "source": [
    "getprint(res)"
   ]
  },
  {
   "cell_type": "markdown",
   "id": "add6bb74",
   "metadata": {
    "slideshow": {
     "slide_type": "subslide"
    }
   },
   "source": [
    "#### Linguistic flexibility"
   ]
  },
  {
   "cell_type": "markdown",
   "id": "f7f35f57",
   "metadata": {
    "slideshow": {
     "slide_type": "fragment"
    }
   },
   "source": [
    "Vector search allows for flexibility & linguistic freedom. "
   ]
  },
  {
   "cell_type": "markdown",
   "id": "db68039a",
   "metadata": {
    "slideshow": {
     "slide_type": "fragment"
    }
   },
   "source": [
    "... in more than one sense of the word."
   ]
  },
  {
   "cell_type": "code",
   "execution_count": null,
   "id": "08aa4dad",
   "metadata": {
    "slideshow": {
     "slide_type": "subslide"
    }
   },
   "outputs": [],
   "source": [
    "res = client.query.get(\n",
    "    \"MultiLingualReview\", \n",
    "    ['review_body', 'review_title', 'product_category']\n",
    ").with_near_text({\n",
    "    \"concepts\": [\"did not receive product\"]\n",
    "}).with_limit(4).do()"
   ]
  },
  {
   "cell_type": "code",
   "execution_count": null,
   "id": "01472edc",
   "metadata": {
    "slideshow": {
     "slide_type": "subslide"
    }
   },
   "outputs": [],
   "source": [
    "getprint(res)"
   ]
  },
  {
   "cell_type": "code",
   "execution_count": null,
   "id": "34102dcf",
   "metadata": {
    "slideshow": {
     "slide_type": "subslide"
    }
   },
   "outputs": [],
   "source": [
    "queries = [\n",
    "    \"did not receive product\", \"没有收到产品\", \n",
    "    \"Produkt nicht erhalten\", \"no recibi producto\"\n",
    "]\n",
    "\n",
    "results_list = list()\n",
    "for q in queries:\n",
    "    res = client.query.get(\n",
    "        \"MultiLingualReview\", \n",
    "        ['review_body', 'review_title', 'product_category']\n",
    "    ).with_near_text(\n",
    "        {\"concepts\": [q]}\n",
    "    ).with_limit(4).do()\n",
    "    results_list.append(res)"
   ]
  },
  {
   "cell_type": "code",
   "execution_count": null,
   "id": "735ad095",
   "metadata": {
    "scrolled": true,
    "slideshow": {
     "slide_type": "subslide"
    }
   },
   "outputs": [],
   "source": [
    "for i, res in enumerate(results_list):\n",
    "    q = queries[i]\n",
    "    print(f\"Query: {q}\")\n",
    "    getprint(res)"
   ]
  },
  {
   "cell_type": "markdown",
   "id": "709a6cca",
   "metadata": {
    "slideshow": {
     "slide_type": "subslide"
    }
   },
   "source": [
    "With this Cohere model, Weaviate speaks..."
   ]
  },
  {
   "cell_type": "markdown",
   "id": "4dc0ed6a",
   "metadata": {
    "slideshow": {
     "slide_type": "fragment"
    }
   },
   "source": [
    "**more than 100** languages."
   ]
  },
  {
   "cell_type": "markdown",
   "id": "ebc62092",
   "metadata": {
    "slideshow": {
     "slide_type": "slide"
    }
   },
   "source": [
    "## More than just search"
   ]
  },
  {
   "cell_type": "markdown",
   "id": "1b2797f8",
   "metadata": {
    "slideshow": {
     "slide_type": "fragment"
    }
   },
   "source": [
    "With Weaviate, you can do more than just **retrieve** data. "
   ]
  },
  {
   "cell_type": "markdown",
   "id": "62674498",
   "metadata": {
    "slideshow": {
     "slide_type": "fragment"
    }
   },
   "source": [
    "Weaviate + modern AI tools → **dynamic** data."
   ]
  },
  {
   "cell_type": "markdown",
   "id": "09934bb4",
   "metadata": {
    "slideshow": {
     "slide_type": "slide"
    }
   },
   "source": [
    "### Question answering"
   ]
  },
  {
   "cell_type": "code",
   "execution_count": null,
   "id": "5e9b4e9f",
   "metadata": {
    "slideshow": {
     "slide_type": "fragment"
    }
   },
   "outputs": [],
   "source": [
    "ask = {\n",
    "  \"question\": \"How many races has Lewis Hamilton won?\",\n",
    "  \"properties\": [\"wiki_summary\"]\n",
    "}\n",
    "\n",
    "res = (\n",
    "  client.query\n",
    "  .get(\"WikiArticle\", [\n",
    "      \"title\", \n",
    "      \"_additional {answer {hasAnswer property result startPosition endPosition} }\"\n",
    "  ])\n",
    "  .with_ask(ask)\n",
    "  .with_limit(1)\n",
    "  .do()\n",
    ")"
   ]
  },
  {
   "cell_type": "code",
   "execution_count": null,
   "id": "f02cef31",
   "metadata": {
    "slideshow": {
     "slide_type": "subslide"
    }
   },
   "outputs": [],
   "source": [
    "print(json.dumps(res[\"data\"][\"Get\"][\"WikiArticle\"], indent=2))"
   ]
  },
  {
   "cell_type": "code",
   "execution_count": null,
   "id": "0bb27883",
   "metadata": {
    "slideshow": {
     "slide_type": "subslide"
    }
   },
   "outputs": [],
   "source": [
    "ask = {\n",
    "  \"question\": \"Which cities have hosted the Olympics?\",\n",
    "  \"properties\": [\"wiki_summary\"]\n",
    "}\n",
    "\n",
    "res = (\n",
    "  client.query\n",
    "  .get(\"WikiCity\", [\n",
    "      \"city_name\", \n",
    "      \"_additional {answer {hasAnswer property result} }\"\n",
    "  ])\n",
    "  .with_ask(ask)\n",
    "  .with_limit(20)\n",
    "  .do()\n",
    ")"
   ]
  },
  {
   "cell_type": "code",
   "execution_count": null,
   "id": "a2f2723a",
   "metadata": {},
   "outputs": [],
   "source": [
    "res"
   ]
  },
  {
   "cell_type": "code",
   "execution_count": null,
   "id": "9cc37bc3",
   "metadata": {
    "slideshow": {
     "slide_type": "subslide"
    }
   },
   "outputs": [],
   "source": [
    "for d in res[\"data\"][\"Get\"][\"WikiCity\"]:\n",
    "    if d[\"_additional\"][\"answer\"][\"hasAnswer\"] and \"not\" not in d[\"_additional\"][\"answer\"][\"result\"]:\n",
    "        print(d[\"city_name\"])\n",
    "        print(d[\"_additional\"][\"answer\"][\"result\"])"
   ]
  },
  {
   "cell_type": "markdown",
   "id": "73e5b09c",
   "metadata": {
    "slideshow": {
     "slide_type": "slide"
    }
   },
   "source": [
    "### Search + Generative model\n",
    "\n",
    "Search + `generative-openai` module → **magic**"
   ]
  },
  {
   "cell_type": "markdown",
   "id": "572597d1",
   "metadata": {
    "slideshow": {
     "slide_type": "subslide"
    }
   },
   "source": [
    "Transform information like:"
   ]
  },
  {
   "cell_type": "code",
   "execution_count": null,
   "id": "57e36570",
   "metadata": {
    "slideshow": {
     "slide_type": "-"
    }
   },
   "outputs": [],
   "source": [
    "res = client.query.get(\n",
    "    \"WikiCity\", [\"city_name\", \"wiki_summary\"]\n",
    ").with_near_text({\n",
    "    \"concepts\": [\"Popular European tourist destination\"]\n",
    "}).with_limit(5).with_generate(\n",
    "    single_prompt=\\\n",
    "    \"Write a tweet with a potentially surprising fact from {wiki_summary}\"\n",
    ").do()"
   ]
  },
  {
   "cell_type": "code",
   "execution_count": null,
   "id": "0a3f811c",
   "metadata": {
    "slideshow": {
     "slide_type": "subslide"
    }
   },
   "outputs": [],
   "source": [
    "for wa in res[\"data\"][\"Get\"][\"WikiCity\"]:\n",
    "    print(wa[\"_additional\"][\"generate\"][\"singleResult\"], \"\\n\")"
   ]
  },
  {
   "cell_type": "markdown",
   "id": "6d45cf89",
   "metadata": {
    "slideshow": {
     "slide_type": "subslide"
    }
   },
   "source": [
    "Reduce the amount of work in aggregating and summarizing information."
   ]
  },
  {
   "cell_type": "code",
   "execution_count": null,
   "id": "5fd92411",
   "metadata": {
    "slideshow": {
     "slide_type": "-"
    }
   },
   "outputs": [],
   "source": [
    "res = client.query.get(\n",
    "    \"MultiLingualReview\", ['review_body', 'review_title', 'product_category']\n",
    ").with_near_text({\n",
    "    \"concepts\": [\"unhappy with seller\"]\n",
    "}).with_limit(20).with_generate(\n",
    "    grouped_task=\\\n",
    "    \"What are some of the top reasons cited for being unhappy\" + \\\n",
    "    \"based on this passage? Do not cite any additional inferred ideas.\"\n",
    ").do()"
   ]
  },
  {
   "cell_type": "code",
   "execution_count": null,
   "id": "44994590",
   "metadata": {
    "slideshow": {
     "slide_type": "subslide"
    }
   },
   "outputs": [],
   "source": [
    "for r in res[\"data\"][\"Get\"][\"MultiLingualReview\"]:\n",
    "    print(r[\"review_title\"])"
   ]
  },
  {
   "cell_type": "code",
   "execution_count": null,
   "id": "c21dfaca",
   "metadata": {
    "slideshow": {
     "slide_type": "subslide"
    }
   },
   "outputs": [],
   "source": [
    "print(res[\"data\"][\"Get\"][\"MultiLingualReview\"][0][\"_additional\"][\"generate\"][\"groupedResult\"], \"\\n\")"
   ]
  },
  {
   "cell_type": "markdown",
   "id": "f4842a6c",
   "metadata": {
    "slideshow": {
     "slide_type": "slide"
    }
   },
   "source": [
    "### So... how does it all work?"
   ]
  },
  {
   "cell_type": "markdown",
   "id": "87812688",
   "metadata": {
    "slideshow": {
     "slide_type": "-"
    }
   },
   "source": [
    "Let's take a look."
   ]
  }
 ],
 "metadata": {
  "celltoolbar": "Slideshow",
  "kernelspec": {
   "display_name": "Python 3 (ipykernel)",
   "language": "python",
   "name": "python3"
  },
  "language_info": {
   "codemirror_mode": {
    "name": "ipython",
    "version": 3
   },
   "file_extension": ".py",
   "mimetype": "text/x-python",
   "name": "python",
   "nbconvert_exporter": "python",
   "pygments_lexer": "ipython3",
   "version": "3.10.8"
  },
  "varInspector": {
   "cols": {
    "lenName": 16,
    "lenType": 16,
    "lenVar": 40
   },
   "kernels_config": {
    "python": {
     "delete_cmd_postfix": "",
     "delete_cmd_prefix": "del ",
     "library": "var_list.py",
     "varRefreshCmd": "print(var_dic_list())"
    },
    "r": {
     "delete_cmd_postfix": ") ",
     "delete_cmd_prefix": "rm(",
     "library": "var_list.r",
     "varRefreshCmd": "cat(var_dic_list()) "
    }
   },
   "types_to_exclude": [
    "module",
    "function",
    "builtin_function_or_method",
    "instance",
    "_Feature"
   ],
   "window_display": false
  }
 },
 "nbformat": 4,
 "nbformat_minor": 5
}
